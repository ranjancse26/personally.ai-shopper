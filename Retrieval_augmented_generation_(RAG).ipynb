{
  "cells": [
    {
      "cell_type": "markdown",
      "metadata": {
        "id": "ErAPHHjO-deZ"
      },
      "source": [
        "# **Vertexai Init**"
      ]
    },
    {
      "cell_type": "code",
      "execution_count": 1,
      "metadata": {
        "id": "lHmH1yGC99EG"
      },
      "outputs": [],
      "source": [
        "import sys\n",
        "\n",
        "# Additional authentication is required for Google Colab\n",
        "if \"google.colab\" in sys.modules:\n",
        "    # Authenticate user to Google Cloud\n",
        "    from google.colab import auth\n",
        "\n",
        "    auth.authenticate_user()"
      ]
    },
    {
      "cell_type": "code",
      "execution_count": 2,
      "metadata": {
        "id": "kLwEOC5x-EBH"
      },
      "outputs": [],
      "source": [
        "PROJECT_ID = \"gen-lang-client-0341374211\"  # @param {type:\"string\"}\n",
        "LOCATION = \"us-central1\"  # @param {type:\"string\"}\n",
        "\n",
        "if \"google.colab\" in sys.modules:\n",
        "    # Define project information\n",
        "    PROJECT_ID = PROJECT_ID\n",
        "    LOCATION = LOCATION\n",
        "\n",
        "    # Initialize Vertex AI\n",
        "    import vertexai\n",
        "    vertexai.init(project=PROJECT_ID, location=LOCATION)"
      ]
    },
    {
      "cell_type": "code",
      "execution_count": 3,
      "metadata": {
        "id": "aBq8IJhMtOql"
      },
      "outputs": [],
      "source": [
        "search_query = \"\"\"Sea food near Googleplex\n",
        "1600 Amphitheatre Parkway\n",
        "Mountain View, CA 94043\n",
        "United States\"\"\"\n",
        "#'how to make a great pastrami sandwich'"
      ]
    },
    {
      "cell_type": "markdown",
      "metadata": {
        "id": "-x7PO4Cx-kta"
      },
      "source": [
        "# **Realtime Google Search with Langchain**"
      ]
    },
    {
      "cell_type": "code",
      "execution_count": 4,
      "metadata": {
        "id": "r1ek-n4IzOzG",
        "colab": {
          "base_uri": "https://localhost:8080/"
        },
        "outputId": "12e41210-1c22-4bc5-86ae-0935e381d8c4"
      },
      "outputs": [
        {
          "output_type": "stream",
          "name": "stdout",
          "text": [
            "Collecting duckduckgo_search\n",
            "  Downloading duckduckgo_search-4.1.0-py3-none-any.whl (25 kB)\n",
            "Requirement already satisfied: click>=8.1.7 in /usr/local/lib/python3.10/dist-packages (from duckduckgo_search) (8.1.7)\n",
            "Requirement already satisfied: lxml>=4.9.3 in /usr/local/lib/python3.10/dist-packages (from duckduckgo_search) (4.9.3)\n",
            "Collecting curl-cffi>=0.5.10 (from duckduckgo_search)\n",
            "  Downloading curl_cffi-0.5.10-cp37-abi3-manylinux_2_17_x86_64.manylinux2014_x86_64.whl (7.2 MB)\n",
            "\u001b[2K     \u001b[90m━━━━━━━━━━━━━━━━━━━━━━━━━━━━━━━━━━━━━━━━\u001b[0m \u001b[32m7.2/7.2 MB\u001b[0m \u001b[31m53.4 MB/s\u001b[0m eta \u001b[36m0:00:00\u001b[0m\n",
            "\u001b[?25hRequirement already satisfied: cffi>=1.12.0 in /usr/local/lib/python3.10/dist-packages (from curl-cffi>=0.5.10->duckduckgo_search) (1.16.0)\n",
            "Requirement already satisfied: pycparser in /usr/local/lib/python3.10/dist-packages (from cffi>=1.12.0->curl-cffi>=0.5.10->duckduckgo_search) (2.21)\n",
            "Installing collected packages: curl-cffi, duckduckgo_search\n",
            "Successfully installed curl-cffi-0.5.10 duckduckgo_search-4.1.0\n",
            "Collecting googlesearch-python\n",
            "  Downloading googlesearch-python-1.2.3.tar.gz (3.9 kB)\n",
            "  Preparing metadata (setup.py) ... \u001b[?25l\u001b[?25hdone\n",
            "Requirement already satisfied: beautifulsoup4>=4.9 in /usr/local/lib/python3.10/dist-packages (from googlesearch-python) (4.11.2)\n",
            "Requirement already satisfied: requests>=2.20 in /usr/local/lib/python3.10/dist-packages (from googlesearch-python) (2.31.0)\n",
            "Requirement already satisfied: soupsieve>1.2 in /usr/local/lib/python3.10/dist-packages (from beautifulsoup4>=4.9->googlesearch-python) (2.5)\n",
            "Requirement already satisfied: charset-normalizer<4,>=2 in /usr/local/lib/python3.10/dist-packages (from requests>=2.20->googlesearch-python) (3.3.2)\n",
            "Requirement already satisfied: idna<4,>=2.5 in /usr/local/lib/python3.10/dist-packages (from requests>=2.20->googlesearch-python) (3.6)\n",
            "Requirement already satisfied: urllib3<3,>=1.21.1 in /usr/local/lib/python3.10/dist-packages (from requests>=2.20->googlesearch-python) (2.0.7)\n",
            "Requirement already satisfied: certifi>=2017.4.17 in /usr/local/lib/python3.10/dist-packages (from requests>=2.20->googlesearch-python) (2023.11.17)\n",
            "Building wheels for collected packages: googlesearch-python\n",
            "  Building wheel for googlesearch-python (setup.py) ... \u001b[?25l\u001b[?25hdone\n",
            "  Created wheel for googlesearch-python: filename=googlesearch_python-1.2.3-py3-none-any.whl size=4209 sha256=d4143c48a3be7c07ea91a1be8ce2b2e5774956e9537aa63bf4007d9dd66b53db\n",
            "  Stored in directory: /root/.cache/pip/wheels/98/24/e9/6c225502948c629b01cc895f86406819281ef0da385f3eb669\n",
            "Successfully built googlesearch-python\n",
            "Installing collected packages: googlesearch-python\n",
            "Successfully installed googlesearch-python-1.2.3\n",
            "\u001b[2K     \u001b[90m━━━━━━━━━━━━━━━━━━━━━━━━━━━━━━━━━━━━━━━━\u001b[0m \u001b[32m794.4/794.4 kB\u001b[0m \u001b[31m13.0 MB/s\u001b[0m eta \u001b[36m0:00:00\u001b[0m\n",
            "\u001b[2K     \u001b[90m━━━━━━━━━━━━━━━━━━━━━━━━━━━━━━━━━━━━━━━━\u001b[0m \u001b[32m37.2/37.2 MB\u001b[0m \u001b[31m13.8 MB/s\u001b[0m eta \u001b[36m0:00:00\u001b[0m\n",
            "\u001b[2K     \u001b[90m━━━━━━━━━━━━━━━━━━━━━━━━━━━━━━━━━━━━━━━━\u001b[0m \u001b[32m1.5/1.5 MB\u001b[0m \u001b[31m42.5 MB/s\u001b[0m eta \u001b[36m0:00:00\u001b[0m\n",
            "\u001b[2K     \u001b[90m━━━━━━━━━━━━━━━━━━━━━━━━━━━━━━━━━━━━━━━━\u001b[0m \u001b[32m192.4/192.4 kB\u001b[0m \u001b[31m14.3 MB/s\u001b[0m eta \u001b[36m0:00:00\u001b[0m\n",
            "\u001b[2K     \u001b[90m━━━━━━━━━━━━━━━━━━━━━━━━━━━━━━━━━━━━━━━━\u001b[0m \u001b[32m45.8/45.8 kB\u001b[0m \u001b[31m4.7 MB/s\u001b[0m eta \u001b[36m0:00:00\u001b[0m\n",
            "\u001b[2K     \u001b[90m━━━━━━━━━━━━━━━━━━━━━━━━━━━━━━━━━━━━━━━━\u001b[0m \u001b[32m613.2/613.2 kB\u001b[0m \u001b[31m35.8 MB/s\u001b[0m eta \u001b[36m0:00:00\u001b[0m\n",
            "\u001b[2K     \u001b[90m━━━━━━━━━━━━━━━━━━━━━━━━━━━━━━━━━━━━━━━━\u001b[0m \u001b[32m49.4/49.4 kB\u001b[0m \u001b[31m4.7 MB/s\u001b[0m eta \u001b[36m0:00:00\u001b[0m\n",
            "\u001b[?25h"
          ]
        }
      ],
      "source": [
        "!pip install -U duckduckgo_search\n",
        "!python3 -m pip install googlesearch-python\n",
        "!pip install -q langchain playwright beautifulsoup4 html2text"
      ]
    },
    {
      "cell_type": "code",
      "source": [
        "search_query = 'Sea food near Googleplex\\n1600 Amphitheatre Parkway\\nMountain View, CA 94043\\nUnited States'"
      ],
      "metadata": {
        "id": "_xO_BVC96PPv"
      },
      "execution_count": 5,
      "outputs": []
    },
    {
      "cell_type": "code",
      "source": [
        "google_search_results = []\n",
        "structured_response = []"
      ],
      "metadata": {
        "id": "QQVHopiz6d6m"
      },
      "execution_count": 6,
      "outputs": []
    },
    {
      "cell_type": "code",
      "source": [
        "number_of_results = 2\n",
        "from googlesearch import search\n",
        "results = search(search_query, lang=\"en\", num_results=number_of_results)"
      ],
      "metadata": {
        "id": "iOTxbNf46fYZ"
      },
      "execution_count": 7,
      "outputs": []
    },
    {
      "cell_type": "code",
      "source": [
        "for result in results:\n",
        "  if not result.startswith(\"https://www.tripadvisor.com\"):\n",
        "    google_search_results.append(result)"
      ],
      "metadata": {
        "id": "MgCGU88Q6haa"
      },
      "execution_count": 8,
      "outputs": []
    },
    {
      "cell_type": "code",
      "source": [
        "google_search_results"
      ],
      "metadata": {
        "colab": {
          "base_uri": "https://localhost:8080/"
        },
        "id": "l54t6s1xp_WC",
        "outputId": "39e9fa05-417f-4df6-84e1-1b37337603f9"
      },
      "execution_count": 9,
      "outputs": [
        {
          "output_type": "execute_result",
          "data": {
            "text/plain": [
              "['https://www.yelp.com/search?cflt=seafood&find_loc=Mountain+View%2C+CA+94043',\n",
              " 'https://us.trip.com/travel-guide/mountain-view-34682-restaurant/googleplex-18697240/']"
            ]
          },
          "metadata": {},
          "execution_count": 9
        }
      ]
    },
    {
      "cell_type": "code",
      "source": [
        "import html2text\n",
        "from langchain.document_loaders import AsyncHtmlLoader\n",
        "from langchain.document_transformers import Html2TextTransformer\n",
        "\n",
        "async def do_webscraping(link):\n",
        "    try:\n",
        "        urls = [link]\n",
        "        loader = AsyncHtmlLoader(urls)\n",
        "        docs = loader.load()\n",
        "\n",
        "        html2text_transformer = Html2TextTransformer()\n",
        "        docs_transformed = html2text_transformer.transform_documents(docs)\n",
        "\n",
        "        if docs_transformed != None and len(docs_transformed) > 0:\n",
        "            metadata = docs_transformed[0].metadata\n",
        "            title = metadata.get('title', '')\n",
        "            return {\n",
        "                'summary': docs_transformed[0].page_content,\n",
        "                'title': title,\n",
        "                'metadata': metadata,\n",
        "                'clean_content': html2text.html2text(docs_transformed[0].page_content)\n",
        "            }\n",
        "        else:\n",
        "            return None\n",
        "\n",
        "    except Exception as e:\n",
        "        print(f\"An unexpected error occurred: {e}\")\n",
        "        return None"
      ],
      "metadata": {
        "id": "zR0KGPUz6nlh"
      },
      "execution_count": 10,
      "outputs": []
    },
    {
      "cell_type": "code",
      "execution_count": 11,
      "metadata": {
        "colab": {
          "base_uri": "https://localhost:8080/"
        },
        "id": "aZhF09OZTbXm",
        "outputId": "9b220694-bcab-4798-d8a0-38a1ecd64817"
      },
      "outputs": [
        {
          "output_type": "stream",
          "name": "stdout",
          "text": [
            "https://www.yelp.com/search?cflt=seafood&find_loc=Mountain+View%2C+CA+94043\n"
          ]
        },
        {
          "output_type": "stream",
          "name": "stderr",
          "text": [
            "Fetching pages: 100%|##########| 1/1 [00:01<00:00,  1.63s/it]\n"
          ]
        },
        {
          "output_type": "stream",
          "name": "stdout",
          "text": [
            "https://us.trip.com/travel-guide/mountain-view-34682-restaurant/googleplex-18697240/\n"
          ]
        },
        {
          "output_type": "stream",
          "name": "stderr",
          "text": [
            "Fetching pages: 100%|##########| 1/1 [00:01<00:00,  1.42s/it]\n"
          ]
        }
      ],
      "source": [
        "for link in google_search_results:\n",
        "  print(link)\n",
        "  response = await do_webscraping(link)\n",
        "  if response != None:\n",
        "    structured_response.append(response)"
      ]
    },
    {
      "cell_type": "code",
      "execution_count": 12,
      "metadata": {
        "id": "3FwrBCziTxPU",
        "colab": {
          "base_uri": "https://localhost:8080/"
        },
        "outputId": "b81c41e3-f0d0-4ea2-93b2-8ed759634ef2"
      },
      "outputs": [
        {
          "output_type": "execute_result",
          "data": {
            "text/plain": [
              "[{'summary': 'Yelp\\n\\nYelp for Business\\n\\nWrite a Review\\n\\nLog InSign Up\\n\\nRestaurants\\n\\nDelivery\\n\\nBurgers\\n\\nChinese\\n\\nItalian\\n\\nReservations\\n\\nJapanese\\n\\nMexican\\n\\nThai\\n\\nHome Services\\n\\nContractors\\n\\nElectricians\\n\\nHome Cleaners\\n\\nHVAC\\n\\nLandscaping\\n\\nLocksmiths\\n\\nMovers\\n\\nPlumbers\\n\\nAuto Services\\n\\nAuto Repair\\n\\nAuto Detailing\\n\\nBody Shops\\n\\nCar Wash\\n\\nCar Dealers\\n\\nOil Change\\n\\nParking\\n\\nTowing\\n\\nMore\\n\\nDry Cleaning\\n\\nPhone Repair\\n\\nBars\\n\\nNightlife\\n\\nHair Salons\\n\\nGyms\\n\\nMassage\\n\\nShopping\\n\\nMore\\n\\nFilters\\n\\n$$$$$$$$$$\\n\\nSuggested\\n\\nOpen Now\\n\\n\\\\--:--\\n\\nOffers Delivery\\n\\nReservations\\n\\nFree Wi-Fi\\n\\nOutdoor Seating\\n\\nDogs Allowed\\n\\nFeatures\\n\\nOffers Takeout\\n\\nGood for Groups\\n\\nGood for Dinner\\n\\nGood for Kids\\n\\nSee all\\n\\nDistance\\n\\nBird\\'s-eye View\\n\\nDriving (5 mi.)\\n\\nBiking (2 mi.)\\n\\nWalking (1 mi.)\\n\\nWithin 4 blocks\\n\\nYelpRestaurantsSeafood\\n\\n# The Best 10 Seafood Restaurants near Mountain View, CA 94043\\n\\nSort:Recommended\\n\\nAll\\n\\nPrice\\n\\nOpen NowOffers DeliveryReservationsFree Wi-FiOutdoor SeatingDogs Allowed\\n\\n  *   *   * ### 1. Limón\\n\\n4.0 (266 reviews)\\n\\nPeruvianSeafoodCocktail Bars\\n\\nThis is a placeholder\\n\\n“Everything we ate was delicious. Love the menu- tons of mouth-watering\\nseafood and land animal...” more\\n\\n    * Delivery\\n\\nTakeout\\n\\nFind a Table\\n\\n  * ### 2. Pacific Catch\\n\\n3.8 (1k reviews)\\n\\nSeafoodTacosSushi Bars$$\\n\\nThis is a placeholder\\n\\nOutdoor seating\\n\\nTakes reservations\\n\\n“Personally, I really enjoyed the poke, the Korean-style seafood pancake\\n(again, better at the...” more\\n\\n    * Delivery\\n\\nTakeout\\n\\nStart Order\\n\\n  * ### 3. The Sea by Alexander’s Steakhouse\\n\\n4.1 (1.3k reviews)\\n\\nSeafoodSteakhousesBars$$$$\\n\\nThis is a placeholder\\n\\n“All of the seafood was very fresh, with particularly sweet jumbo shrimp.”\\nmore\\n\\n    * Outdoor seating\\n\\nTakeout\\n\\n  * ### 4. Cap’t Loui\\n\\n4.5 (570 reviews)\\n\\nSeafoodFish & ChipsCajun/Creole$$\\n\\nThis is a placeholder\\n\\nFree parking\\n\\nLarge group friendly\\n\\n“If you order a certain amount of pounds of seafood, you can get extra sides\\nfor free.” more\\n\\n    * Outdoor seating\\n\\nDelivery\\n\\nTakeout\\n\\nStart Order\\n\\n  * ### 5. Rustic House Oyster Bar and Grill - Los Altos\\n\\n4.0 (642 reviews)\\n\\nSeafoodBarsAmerican$$\\n\\nThis is a placeholder\\n\\n“The seafood was delicious and competently prepared: a generously portioned\\ngrouper special on...” more\\n\\n    * Outdoor seating\\n\\nDelivery\\n\\nTakeout\\n\\nStart Order\\n\\n  * ### 6. The City Fish\\n\\n4.4 (1.1k reviews)\\n\\nSandwichesSeafoodFish & Chips$$\\n\\nThis is a placeholder\\n\\n“The reason why I love them is simple - big portions of quality seafood at a\\nreasonable price.” more\\n\\n    * Outdoor seating\\n\\nDelivery\\n\\nTakeout\\n\\nStart Order\\n\\n  * ### 7. King’s Fish House - San Jose\\n\\n4.2 (1.9k reviews)\\n\\nSeafood$$$West San Jose\\n\\nThis is a placeholder\\n\\n“The tartare sauce has great balance of spicy and seafood taste to it, I\\nreally like it. 3.)...” more\\n\\n    * Outdoor seating\\n\\nDelivery\\n\\nTakeout\\n\\n  * ### 8. La Marea of the Sea\\n\\n4.7 (45 reviews)\\n\\nSeafoodFood Stands$\\n\\nThis is a placeholder\\n\\n“The oysters were pretty fresh. They have great condiments to compliment the\\nseafood.” more\\n\\n    * Delivery\\n\\n  * ### 9. Supreme Crab\\n\\n3.7 (262 reviews)\\n\\nSeafoodCajun/Creole\\n\\nThis is a placeholder\\n\\nSports on TV\\n\\nLarge group friendly\\n\\n“Supreme Crab, I save my left over sauce to use on other things and I\\'m a\\nseafood snob.” more\\n\\n    * Outdoor seating\\n\\nDelivery\\n\\nTakeout\\n\\nFind a Table\\n\\n  * ### 10. Gochi - Mountain View\\n\\n4.1 (556 reviews)\\n\\nJapaneseWine BarsSeafood$$$\\n\\nThis is a placeholder\\n\\n    * Live wait time: 31 - 46 mins\\n\\n“Fresh seafood. Highly recommend. Customer service is top notch. Thank you\\nGochi for the great...” more\\n\\n    * Outdoor seating\\n\\nDelivery\\n\\nTakeout\\n\\nFind a Table\\n\\n  * 1\\n\\n2\\n\\n3\\n\\n4\\n\\n5\\n\\n6\\n\\n7\\n\\n8\\n\\n9\\n\\n1 of 22\\n\\n  * ## Can\\'t find the business?\\n\\nAdding a business to Yelp is always free.\\n\\nAdd business\\n\\nGot search feedback? Help us improve.\\n\\n  * ## Related Searches in Mountain View, CA\\n\\nBeef Wellington\\n\\nCioppino\\n\\nCrab\\n\\nDinner Reservations\\n\\nFish Tacos\\n\\nMichelada\\n\\nSeafood Boil\\n\\nSeafood Buffet\\n\\nSteakhouses\\n\\n$1 Oysters\\n\\nCajun\\n\\nCajun Seafood Boil\\n\\nCeviche\\n\\nClam Chowder\\n\\nCrab Legs\\n\\nCrawfish\\n\\nFish\\n\\nFish House\\n\\nLobster Roll\\n\\nMariscos\\n\\nOysters\\n\\nRestaurants With a View\\n\\nSalmon\\n\\nScallops\\n\\nAnniversary Dinner\\n\\nCajun Seafood\\n\\nCalamari\\n\\nCrab Boil\\n\\nCrab Sandwich\\n\\nFish & Chips\\n\\nHip New Restaurants\\n\\nOyster Bars\\n\\nRestaurants With Private Rooms\\n\\nSashimi\\n\\nChain Restaurants\\n\\nCrawfish Boil\\n\\nDungeness Crab\\n\\nFine Dining\\n\\nFish Market\\n\\nGrilled Fish\\n\\nMexican Seafood\\n\\nOyster Happy Hour\\n\\nPrime Rib\\n\\nSoft Shell Crab\\n\\nValentines Day Dinner\\n\\n## Trending Searches in Mountain View, CA\\n\\nAsian Supermarket\\n\\nBuy Fresh Oysters\\n\\nCajun Seafood Boil\\n\\nCatfish\\n\\nCaviar\\n\\nCheese Shops\\n\\nChristmas Brunch\\n\\nClam Chowder Bread Bowl\\n\\nDim Sum\\n\\nDry Aged Steak\\n\\nFishmonger\\n\\nFondue\\n\\nFruit Cake\\n\\nGerman Bakery\\n\\nGourmet Cookies\\n\\nGourmet Grocery Stores\\n\\nGumbo\\n\\nHot Chocolate\\n\\nLive Lobster\\n\\nPopcorn Shops\\n\\nSashimi\\n\\nSeafood Markets\\n\\nSmoked Salmon\\n\\nSpecialty Food\\n\\nSteak\\n\\nSushi Lunch Special\\n\\nSushi Party Tray\\n\\nWagyu Steak\\n\\nWhiskey Store\\n\\nYule Log Cake\\n\\n## Related Articles\\n\\nTop Buffets in California\\n\\nTop Cajun/Creole in California\\n\\nTop Dim Sum Restaurants in California\\n\\nTop Fish & Chips in California\\n\\nTop Peruvian Restaurants in California\\n\\nTop Restaurants in California\\n\\nTop Seafood Restaurants in California\\n\\nTop Soul Food Restaurants in California\\n\\nTop Steakhouses in California\\n\\nTop Buffets in the US\\n\\nTop Cajun/Creole in the US\\n\\nTop Dim Sum Restaurants in the US\\n\\nTop Fish & Chips in the US\\n\\nTop Peruvian Restaurants in the US\\n\\nTop Restaurants in the US\\n\\nTop Seafood Restaurants in the US\\n\\nTop Soul Food Restaurants in the US\\n\\nTop Steakhouses in the US\\n\\n  *   * ## Search seafood in popular locations\\n\\n### Nearby cities\\n\\nCampbell, CA\\n\\nCupertino, CA\\n\\nLos Altos, CA\\n\\nLos Gatos, CA\\n\\nMilpitas, CA\\n\\nPalo Alto, CA\\n\\nSan Jose, CA\\n\\nSanta Clara, CA\\n\\nSaratoga, CA\\n\\nSunnyvale, CA\\n\\n### More\\n\\nLos Angeles, CA\\n\\nNapa, CA\\n\\nSacramento, CA\\n\\nSan Diego, CA\\n\\nSan Francisco, CA\\n\\nSan Luis Obispo, CA\\n\\nSanta Barbara, CA\\n\\nSanta Rosa, CA\\n\\nStockton, CA\\n\\n  *   *   *   * ## Frequently Asked Questions and Answers\\n\\nWhat are the best seafood takeout restaurants?\\n\\nThese are the best seafood takeout restaurants near Mountain View, CA:\\n\\n    * Cap\\'t Loui\\n\\n    * The City Fish\\n\\n    * King\\'s Fish House - San Jose\\n\\n    * Pacific Catch\\n\\n    * Forthright Oyster Bar & Kitchen\\n\\nPeople also liked: Cheap Seafood Restaurants, Seafood Restaurants Offering\\nReservations\\n\\nWhat did people search for similar to seafood near Mountain View, CA?\\n\\nPeople also searched for these near Mountain View:\\n\\n    * Steak\\n\\n    * Seafood Markets\\n\\n    * Dinner\\n\\n    * Sushi\\n\\n    * Fried Fish\\n\\nSee more seafood near Mountain View.\\n\\nWhat are people saying about seafood restaurants near Mountain View, CA?\\n\\nThis is a review for seafood restaurants near Mountain View, CA:\\n\\n\"Came here for the first time, a bit of a hole in the wall, but prob one of\\nthe best finds! We ordered the clam chowder, fried seafood platter, steamed\\nclams and seafood pasta. The clam chowder was decent and so was the fried\\nseafood platter, but the steamed clams were absolutely the best! I think I\\nfound my new favorite seafood spot. The portions are huge and decently priced,\\nabout $18-20 per entree. Apparently this is a chain with three different\\nlocations. Will definitely be back for the clams!\"\\n\\nSee more reviews for this business.\\n\\nWhat are the best cheap seafood restaurants?\\n\\nThese are the best cheap seafood restaurants near Mountain View, CA:\\n\\n    * Cap\\'t Loui\\n\\n    * The City Fish\\n\\n    * Pacific Catch\\n\\n    * Forthright Oyster Bar & Kitchen\\n\\n    * Rustic House Oyster Bar and Grill - Los Altos\\n\\nPeople also liked: Seafood Takeout Restaurants, Seafood Restaurants Offering\\nReservations\\n\\nWhat are the best seafood restaurants offering reservations?\\n\\nThese are the best seafood restaurants offering reservations near Mountain\\nView, CA:\\n\\n    * King\\'s Fish House - San Jose\\n\\n    * Pacific Catch\\n\\n    * Forthright Oyster Bar & Kitchen\\n\\n    * The Sea by Alexander\\'s Steakhouse\\n\\n    * Rustic House Oyster Bar and Grill - Los Altos\\n\\nPeople also liked: Seafood Takeout Restaurants, Cheap Seafood Restaurants\\n\\nAbout\\n\\n  * About Yelp\\n  * Careers\\n  * Press\\n  * Investor Relations\\n  * Trust & Safety\\n  * Content Guidelines\\n  * Accessibility Statement\\n  * Terms of Service\\n  * Privacy Policy\\n  * Ad Choices\\n  * Your Privacy Choices\\n\\nDiscover\\n\\n  * Yelp Project Cost Guides\\n  * Collections\\n  * Talk\\n  * Events\\n  * Yelp Blog\\n  * Support\\n  * Yelp Mobile\\n  * Developers\\n  * RSS\\n\\nYelp for Business\\n\\n  * Yelp for Business\\n  * Business Owner Login\\n  * Claim your Business Page\\n  * Advertise on Yelp\\n  * Yelp for Restaurant Owners\\n  * Table Management\\n  * Business Success Stories\\n  * Business Support\\n  * Yelp Blog for Business\\n\\nLanguages\\n\\nEnglish\\n\\nCountries\\n\\nUnited States\\n\\n  * About\\n\\n  * Blog\\n\\n  * Support\\n\\n  * Terms\\n\\n  * Privacy Policy\\n\\n  * Your Privacy Choices\\n\\nCopyright © 2004–2023 Yelp Inc. Yelp, ,  and related marks are registered\\ntrademarks of Yelp.\\n\\nSome Data By Acxiom\\n\\n',\n",
              "  'title': 'THE BEST 10 Seafood Restaurants near MOUNTAIN VIEW, CA 94043 - Last Updated December 2023 - Yelp',\n",
              "  'metadata': {'source': 'https://www.yelp.com/search?cflt=seafood&find_loc=Mountain+View%2C+CA+94043',\n",
              "   'title': 'THE BEST 10 Seafood Restaurants near MOUNTAIN VIEW, CA 94043 - Last Updated December 2023 - Yelp',\n",
              "   'description': \"Best Seafood in Mountain View, CA 94043 - Limón, Pacific Catch, The Sea by Alexander's Steakhouse, Cap't Loui, Rustic House Oyster Bar and Grill - Los Altos, The City Fish, King's Fish House - San Jose, La Marea of the Sea, Supreme Crab, Gochi - Mountain View\",\n",
              "   'language': 'en-US'},\n",
              "  'clean_content': 'Yelp Yelp for Business Write a Review Log InSign Up Restaurants Delivery\\nBurgers Chinese Italian Reservations Japanese Mexican Thai Home Services\\nContractors Electricians Home Cleaners HVAC Landscaping Locksmiths Movers\\nPlumbers Auto Services Auto Repair Auto Detailing Body Shops Car Wash Car\\nDealers Oil Change Parking Towing More Dry Cleaning Phone Repair Bars\\nNightlife Hair Salons Gyms Massage Shopping More Filters $$$$$$$$$$ Suggested\\nOpen Now \\\\\\\\--:-- Offers Delivery Reservations Free Wi-Fi Outdoor Seating Dogs\\nAllowed Features Offers Takeout Good for Groups Good for Dinner Good for Kids\\nSee all Distance Bird\\'s-eye View Driving (5 mi.) Biking (2 mi.) Walking (1\\nmi.) Within 4 blocks YelpRestaurantsSeafood # The Best 10 Seafood Restaurants\\nnear Mountain View, CA 94043 Sort:Recommended All Price Open NowOffers\\nDeliveryReservationsFree Wi-FiOutdoor SeatingDogs Allowed * * * ### 1. Limón\\n4.0 (266 reviews) PeruvianSeafoodCocktail Bars This is a placeholder\\n“Everything we ate was delicious. Love the menu- tons of mouth-watering\\nseafood and land animal...” more * Delivery Takeout Find a Table * ### 2.\\nPacific Catch 3.8 (1k reviews) SeafoodTacosSushi Bars$$ This is a placeholder\\nOutdoor seating Takes reservations “Personally, I really enjoyed the poke, the\\nKorean-style seafood pancake (again, better at the...” more * Delivery Takeout\\nStart Order * ### 3. The Sea by Alexander’s Steakhouse 4.1 (1.3k reviews)\\nSeafoodSteakhousesBars$$$$ This is a placeholder “All of the seafood was very\\nfresh, with particularly sweet jumbo shrimp.” more * Outdoor seating Takeout *\\n### 4. Cap’t Loui 4.5 (570 reviews) SeafoodFish & ChipsCajun/Creole$$ This is\\na placeholder Free parking Large group friendly “If you order a certain amount\\nof pounds of seafood, you can get extra sides for free.” more * Outdoor\\nseating Delivery Takeout Start Order * ### 5. Rustic House Oyster Bar and\\nGrill - Los Altos 4.0 (642 reviews) SeafoodBarsAmerican$$ This is a\\nplaceholder “The seafood was delicious and competently prepared: a generously\\nportioned grouper special on...” more * Outdoor seating Delivery Takeout Start\\nOrder * ### 6. The City Fish 4.4 (1.1k reviews) SandwichesSeafoodFish &\\nChips$$ This is a placeholder “The reason why I love them is simple - big\\nportions of quality seafood at a reasonable price.” more * Outdoor seating\\nDelivery Takeout Start Order * ### 7. King’s Fish House - San Jose 4.2 (1.9k\\nreviews) Seafood$$$West San Jose This is a placeholder “The tartare sauce has\\ngreat balance of spicy and seafood taste to it, I really like it. 3.)...” more\\n* Outdoor seating Delivery Takeout * ### 8. La Marea of the Sea 4.7 (45\\nreviews) SeafoodFood Stands$ This is a placeholder “The oysters were pretty\\nfresh. They have great condiments to compliment the seafood.” more * Delivery\\n* ### 9. Supreme Crab 3.7 (262 reviews) SeafoodCajun/Creole This is a\\nplaceholder Sports on TV Large group friendly “Supreme Crab, I save my left\\nover sauce to use on other things and I\\'m a seafood snob.” more * Outdoor\\nseating Delivery Takeout Find a Table * ### 10. Gochi - Mountain View 4.1 (556\\nreviews) JapaneseWine BarsSeafood$$$ This is a placeholder * Live wait time:\\n31 - 46 mins “Fresh seafood. Highly recommend. Customer service is top notch.\\nThank you Gochi for the great...” more * Outdoor seating Delivery Takeout Find\\na Table * 1 2 3 4 5 6 7 8 9 1 of 22 * ## Can\\'t find the business? Adding a\\nbusiness to Yelp is always free. Add business Got search feedback? Help us\\nimprove. * ## Related Searches in Mountain View, CA Beef Wellington Cioppino\\nCrab Dinner Reservations Fish Tacos Michelada Seafood Boil Seafood Buffet\\nSteakhouses $1 Oysters Cajun Cajun Seafood Boil Ceviche Clam Chowder Crab Legs\\nCrawfish Fish Fish House Lobster Roll Mariscos Oysters Restaurants With a View\\nSalmon Scallops Anniversary Dinner Cajun Seafood Calamari Crab Boil Crab\\nSandwich Fish & Chips Hip New Restaurants Oyster Bars Restaurants With Private\\nRooms Sashimi Chain Restaurants Crawfish Boil Dungeness Crab Fine Dining Fish\\nMarket Grilled Fish Mexican Seafood Oyster Happy Hour Prime Rib Soft Shell\\nCrab Valentines Day Dinner ## Trending Searches in Mountain View, CA Asian\\nSupermarket Buy Fresh Oysters Cajun Seafood Boil Catfish Caviar Cheese Shops\\nChristmas Brunch Clam Chowder Bread Bowl Dim Sum Dry Aged Steak Fishmonger\\nFondue Fruit Cake German Bakery Gourmet Cookies Gourmet Grocery Stores Gumbo\\nHot Chocolate Live Lobster Popcorn Shops Sashimi Seafood Markets Smoked Salmon\\nSpecialty Food Steak Sushi Lunch Special Sushi Party Tray Wagyu Steak Whiskey\\nStore Yule Log Cake ## Related Articles Top Buffets in California Top\\nCajun/Creole in California Top Dim Sum Restaurants in California Top Fish &\\nChips in California Top Peruvian Restaurants in California Top Restaurants in\\nCalifornia Top Seafood Restaurants in California Top Soul Food Restaurants in\\nCalifornia Top Steakhouses in California Top Buffets in the US Top\\nCajun/Creole in the US Top Dim Sum Restaurants in the US Top Fish & Chips in\\nthe US Top Peruvian Restaurants in the US Top Restaurants in the US Top\\nSeafood Restaurants in the US Top Soul Food Restaurants in the US Top\\nSteakhouses in the US * * ## Search seafood in popular locations ### Nearby\\ncities Campbell, CA Cupertino, CA Los Altos, CA Los Gatos, CA Milpitas, CA\\nPalo Alto, CA San Jose, CA Santa Clara, CA Saratoga, CA Sunnyvale, CA ### More\\nLos Angeles, CA Napa, CA Sacramento, CA San Diego, CA San Francisco, CA San\\nLuis Obispo, CA Santa Barbara, CA Santa Rosa, CA Stockton, CA * * * * ##\\nFrequently Asked Questions and Answers What are the best seafood takeout\\nrestaurants? These are the best seafood takeout restaurants near Mountain\\nView, CA: * Cap\\'t Loui * The City Fish * King\\'s Fish House - San Jose *\\nPacific Catch * Forthright Oyster Bar & Kitchen People also liked: Cheap\\nSeafood Restaurants, Seafood Restaurants Offering Reservations What did people\\nsearch for similar to seafood near Mountain View, CA? People also searched for\\nthese near Mountain View: * Steak * Seafood Markets * Dinner * Sushi * Fried\\nFish See more seafood near Mountain View. What are people saying about seafood\\nrestaurants near Mountain View, CA? This is a review for seafood restaurants\\nnear Mountain View, CA: \"Came here for the first time, a bit of a hole in the\\nwall, but prob one of the best finds! We ordered the clam chowder, fried\\nseafood platter, steamed clams and seafood pasta. The clam chowder was decent\\nand so was the fried seafood platter, but the steamed clams were absolutely\\nthe best! I think I found my new favorite seafood spot. The portions are huge\\nand decently priced, about $18-20 per entree. Apparently this is a chain with\\nthree different locations. Will definitely be back for the clams!\" See more\\nreviews for this business. What are the best cheap seafood restaurants? These\\nare the best cheap seafood restaurants near Mountain View, CA: * Cap\\'t Loui *\\nThe City Fish * Pacific Catch * Forthright Oyster Bar & Kitchen * Rustic House\\nOyster Bar and Grill - Los Altos People also liked: Seafood Takeout\\nRestaurants, Seafood Restaurants Offering Reservations What are the best\\nseafood restaurants offering reservations? These are the best seafood\\nrestaurants offering reservations near Mountain View, CA: * King\\'s Fish House\\n- San Jose * Pacific Catch * Forthright Oyster Bar & Kitchen * The Sea by\\nAlexander\\'s Steakhouse * Rustic House Oyster Bar and Grill - Los Altos People\\nalso liked: Seafood Takeout Restaurants, Cheap Seafood Restaurants About *\\nAbout Yelp * Careers * Press * Investor Relations * Trust & Safety * Content\\nGuidelines * Accessibility Statement * Terms of Service * Privacy Policy * Ad\\nChoices * Your Privacy Choices Discover * Yelp Project Cost Guides *\\nCollections * Talk * Events * Yelp Blog * Support * Yelp Mobile * Developers *\\nRSS Yelp for Business * Yelp for Business * Business Owner Login * Claim your\\nBusiness Page * Advertise on Yelp * Yelp for Restaurant Owners * Table\\nManagement * Business Success Stories * Business Support * Yelp Blog for\\nBusiness Languages English Countries United States * About * Blog * Support *\\nTerms * Privacy Policy * Your Privacy Choices Copyright © 2004–2023 Yelp Inc.\\nYelp, , and related marks are registered trademarks of Yelp. Some Data By\\nAcxiom\\n\\n'},\n",
              " {'summary': \"https://us.trip.com/travel-guide/foods/mountain-\\nview-34682-restaurant/googleplex-18697240\\n\\n  * Hotels\\n  * Flights\\n  * Trains\\n  * Cars\\n    * Car Rentals\\n    * Airport Transfers\\n  * Attractions & Tours\\n  * Bundle & Save\\n  * Cruises\\n  * Trip Planner\\n  * Destinations\\n  * Trip.com Rewards\\n  * Deals\\n\\nApp\\n\\nHelp __\\n\\nUSD\\n\\nSearch Bookings\\n\\nHome\\n\\n __Travel Guides\\n\\n __North America\\n\\n __United States\\n\\n __California\\n\\n __Santa Clara County\\n\\n __Mountain View\\n\\n __Googleplex\\n\\n# Googleplex\\n\\n4.6/549 Reviews\\n\\nArchitecture & Landmarks\\n\\n __\\n\\nCurrently closed |Open tomorrow at 08:00\\n\\n __\\n\\n __\\n\\n+1-650-253-0000\\n\\n __\\n\\n __\\n\\n1600 Amphitheatre Pkwy, Mountain View, CA 94043, USA\\n\\nView on Map\\n\\n## Reviews of Googleplex\\n\\n __Some reviews may have been translated by Google Translate\\n\\n4.6/5Outstanding\\n\\nAll (49)\\n\\nLatest\\n\\nWith Photos (37)\\n\\nPositive Reviews (39)\\n\\n  * DEAR张小球\\n\\n5.0/5Outstanding\\n\\nOriginal Text\\n\\nNot going up at home. But to Silicon Valley, you still have to visit Google\\nheadquarters. This is a very great technology Internet company, a company that\\nreally uses technology to change people.\\n\\nShow All\\n\\n __\\n\\nReviewed on 1586999684000\\n\\n  * Rubylanlan\\n\\n5.0/5Outstanding\\n\\nOriginal Text\\n\\nI am also a person who has been to Google! Although it is not Google Powder,\\nhow can there be an inexplicable sense of excitement = = When I came the night\\nbefore, I happened to encounter activities nearby that were not allowed to\\nenter, and I couldn't see it when I was dark. The next day, I didn't die and I\\nhad time to come again. Tiangong is beautiful, especially suitable for\\nplaying! The office building on Saturday is not open, and if there is no\\nfriend to bring it, you can't enter it. There is a parking space at the door\\nof the company, and you can also drive in it. There is no clear gate like the\\ndomestic one, a more casual park. The bicycle does not have a lock, and you\\ncan ride and play when you see it parked. The most frequent tourist is the\\nAndroid Xiaoren Square, take some cute photos~ various photos~\\n\\nShow All\\n\\n __2\\n\\nReviewed on 1578461674000\\n\\n  * 琳达Linda琳达\\n\\n5.0/5Outstanding\\n\\nOriginal Text\\n\\nGoogle headquarters really has to come to punch in. Very open and warm work\\nenvironment, the work here is really a dream. Very design and creative, no\\nwonder Google can develop so well.\\n\\nShow All\\n\\n __\\n\\nReviewed on 1570888928000\\n\\n  * sherrysaramande\\n\\n5.0/5Outstanding\\n\\nOriginal Text\\n\\nSparsely populated, I used to let friends bring rice to dinner, but it won't\\nwork after the epidemic.\\n\\nShow All\\n\\n __\\n\\nReviewed on 1688051985000\\n\\n  * 马普尔太太\\n\\n5.0/5Outstanding\\n\\nOriginal Text\\n\\nVery worth a visit, recommend everyone\\n\\nShow All\\n\\n __\\n\\nReviewed on 1672631937000\\n\\n  * 福尔摩斯先生呢\\n\\n5.0/5Outstanding\\n\\nOriginal Text\\n\\nVery worth a visit, recommend this\\n\\nShow All\\n\\n __\\n\\nReviewed on 1671853296000\\n\\n  * 十字小溪-Y\\n\\n5.0/5Outstanding\\n\\nOriginal Text\\n\\nGoogle headquarters is free to tourists, road signs are obvious, and there is\\na souvenir shop in the visitor center. The whole area is very green, the\\nenvironment is beautiful, there are free bicycles for selection, convenient\\nfor sightseeing. Being in it has a feeling of walking into the campus. The\\nwork area must be entered with a work card.\\n\\nShow All\\n\\n __6\\n\\nReviewed on 1519287573000\\n\\n _\\uf575_\\n\\n  * 1\\n  * 2\\n  * 3\\n  * 4\\n  * 10\\n\\n _\\uf5bf_\\n\\n##  Attractions Near Googleplex\\n\\nSilicon Valley\\n\\n4.5/582 Reviews\\n\\nFeatured Neighborhoods\\n\\n __away\\n\\nGoogleplex\\n\\n4.6/546 Reviews\\n\\nModern ArchitectureHiking/BikingHiking/Biking\\n\\nApple Infinite Loop\\n\\n4.6/538 Reviews\\n\\nModern Architecture\\n\\n __away\\n\\nStanford University\\n\\n4.8/5405 Reviews\\n\\nSchools\\n\\n __away\\n\\nMore attractions near Googleplex\\n\\n##  Restaurants Near Googleplex\\n\\nChez TJ\\n\\n4.3/53 Reviews\\n\\nUS$59\\n\\nWestern-styleSpectacular Views\\n\\n __away\\n\\nPacific Catch\\n\\n4.0/51 Reviews\\n\\nUS$21\\n\\nSeafoodOpen LateSpectacular Views\\n\\n __away\\n\\nCucina Venti Restaurant\\n\\n5.0/51 Reviews\\n\\nUS$28\\n\\nWestern-styleOpen Late\\n\\n __away\\n\\nCascal\\n\\n4.7/53 Reviews\\n\\nUS$24\\n\\nLatin AmericanOpen LateSpectacular Views\\n\\n __away\\n\\nMore restaurants near Googleplex\\n\\n##  Hotels Near Googleplex\\n\\nCrowne Plaza Cabana Hotel, an IHG Hotel\\n\\n __ __ __\\n\\n4.1 /5132 Reviews\\n\\n __away\\n\\nHomewood Suites by Hilton Palo Alto\\n\\n __ __ __\\n\\n4.5 /565 Reviews\\n\\n __away\\n\\nShashi Hotel Mountain View, an Urban Resort\\n\\n __ __ __ __ __\\n\\n4.5 /5110 Reviews\\n\\n __away\\n\\nHilton Garden Inn Palo Alto\\n\\n __ __ __\\n\\n4.3 /5118 Reviews\\n\\n __away\\n\\nMore hotels near Googleplex\\n\\n### Contact Us\\n\\n  * Customer Support\\n  * Service Guarantee\\n  * Website Feedback\\n\\n### About\\n\\n  * About Trip.com\\n  * News\\n  * Careers\\n  * Terms & Conditions\\n  * Privacy Statement\\n  * Do Not Sell My Personal Information\\n  * About Trip.com Group\\n\\n### Other Services\\n\\n  * Investor Relations\\n  * Trip.com Rewards\\n  * Affiliate Program\\n  * List My Hotel\\n  * All Hotels\\n  * Become a Supplier\\n  * Security\\n\\nPayment Methods\\n\\nOur Partners\\n\\nCopyright © 2023 Trip.com Travel Singapore Pte. Ltd. All rights reserved  \\nSite Operator: Trip.com Travel Singapore Pte. Ltd.\\n\\n\",\n",
              "  'title': 'Googleplex restaurants, addresses, phone numbers, photos, real user reviews, 1600 Amphitheatre Pkwy, Mountain View, CA 94043, USA, Mountain View restaurant recommendations - Trip.com',\n",
              "  'metadata': {'source': 'https://us.trip.com/travel-guide/mountain-view-34682-restaurant/googleplex-18697240/',\n",
              "   'title': 'Googleplex restaurants, addresses, phone numbers, photos, real user reviews, 1600 Amphitheatre Pkwy, Mountain View, CA 94043, USA, Mountain View restaurant recommendations - Trip.com',\n",
              "   'description': 'Trip delicious',\n",
              "   'language': 'en-US'},\n",
              "  'clean_content': \"https://us.trip.com/travel-guide/foods/mountain-\\nview-34682-restaurant/googleplex-18697240 * Hotels * Flights * Trains * Cars *\\nCar Rentals * Airport Transfers * Attractions & Tours * Bundle & Save *\\nCruises * Trip Planner * Destinations * Trip.com Rewards * Deals App Help __\\nUSD Search Bookings Home __Travel Guides __North America __United States\\n__California __Santa Clara County __Mountain View __Googleplex # Googleplex\\n4.6/549 Reviews Architecture & Landmarks __ Currently closed |Open tomorrow at\\n08:00 __ __ +1-650-253-0000 __ __ 1600 Amphitheatre Pkwy, Mountain View, CA\\n94043, USA View on Map ## Reviews of Googleplex __Some reviews may have been\\ntranslated by Google Translate 4.6/5Outstanding All (49) Latest With Photos\\n(37) Positive Reviews (39) * DEAR张小球 5.0/5Outstanding Original Text Not going\\nup at home. But to Silicon Valley, you still have to visit Google\\nheadquarters. This is a very great technology Internet company, a company that\\nreally uses technology to change people. Show All __ Reviewed on 1586999684000\\n* Rubylanlan 5.0/5Outstanding Original Text I am also a person who has been to\\nGoogle! Although it is not Google Powder, how can there be an inexplicable\\nsense of excitement = = When I came the night before, I happened to encounter\\nactivities nearby that were not allowed to enter, and I couldn't see it when I\\nwas dark. The next day, I didn't die and I had time to come again. Tiangong is\\nbeautiful, especially suitable for playing! The office building on Saturday is\\nnot open, and if there is no friend to bring it, you can't enter it. There is\\na parking space at the door of the company, and you can also drive in it.\\nThere is no clear gate like the domestic one, a more casual park. The bicycle\\ndoes not have a lock, and you can ride and play when you see it parked. The\\nmost frequent tourist is the Android Xiaoren Square, take some cute photos~\\nvarious photos~ Show All __2 Reviewed on 1578461674000 * 琳达Linda琳达\\n5.0/5Outstanding Original Text Google headquarters really has to come to punch\\nin. Very open and warm work environment, the work here is really a dream. Very\\ndesign and creative, no wonder Google can develop so well. Show All __\\nReviewed on 1570888928000 * sherrysaramande 5.0/5Outstanding Original Text\\nSparsely populated, I used to let friends bring rice to dinner, but it won't\\nwork after the epidemic. Show All __ Reviewed on 1688051985000 * 马普尔太太\\n5.0/5Outstanding Original Text Very worth a visit, recommend everyone Show All\\n__ Reviewed on 1672631937000 * 福尔摩斯先生呢 5.0/5Outstanding Original Text Very\\nworth a visit, recommend this Show All __ Reviewed on 1671853296000 * 十字小溪-Y\\n5.0/5Outstanding Original Text Google headquarters is free to tourists, road\\nsigns are obvious, and there is a souvenir shop in the visitor center. The\\nwhole area is very green, the environment is beautiful, there are free\\nbicycles for selection, convenient for sightseeing. Being in it has a feeling\\nof walking into the campus. The work area must be entered with a work card.\\nShow All __6 Reviewed on 1519287573000 _\\uf575_ * 1 * 2 * 3 * 4 * 10 _\\uf5bf_ ##\\nAttractions Near Googleplex Silicon Valley 4.5/582 Reviews Featured\\nNeighborhoods __away Googleplex 4.6/546 Reviews Modern\\nArchitectureHiking/BikingHiking/Biking Apple Infinite Loop 4.6/538 Reviews\\nModern Architecture __away Stanford University 4.8/5405 Reviews Schools __away\\nMore attractions near Googleplex ## Restaurants Near Googleplex Chez TJ 4.3/53\\nReviews US$59 Western-styleSpectacular Views __away Pacific Catch 4.0/51\\nReviews US$21 SeafoodOpen LateSpectacular Views __away Cucina Venti Restaurant\\n5.0/51 Reviews US$28 Western-styleOpen Late __away Cascal 4.7/53 Reviews US$24\\nLatin AmericanOpen LateSpectacular Views __away More restaurants near\\nGoogleplex ## Hotels Near Googleplex Crowne Plaza Cabana Hotel, an IHG Hotel\\n__ __ __ 4.1 /5132 Reviews __away Homewood Suites by Hilton Palo Alto __ __ __\\n4.5 /565 Reviews __away Shashi Hotel Mountain View, an Urban Resort __ __ __\\n__ __ 4.5 /5110 Reviews __away Hilton Garden Inn Palo Alto __ __ __ 4.3 /5118\\nReviews __away More hotels near Googleplex ### Contact Us * Customer Support *\\nService Guarantee * Website Feedback ### About * About Trip.com * News *\\nCareers * Terms & Conditions * Privacy Statement * Do Not Sell My Personal\\nInformation * About Trip.com Group ### Other Services * Investor Relations *\\nTrip.com Rewards * Affiliate Program * List My Hotel * All Hotels * Become a\\nSupplier * Security Payment Methods Our Partners Copyright © 2023 Trip.com\\nTravel Singapore Pte. Ltd. All rights reserved Site Operator: Trip.com Travel\\nSingapore Pte. Ltd.\\n\\n\"}]"
            ]
          },
          "metadata": {},
          "execution_count": 12
        }
      ],
      "source": [
        "structured_response"
      ]
    },
    {
      "cell_type": "markdown",
      "metadata": {
        "id": "qVkcH8ldmVM-"
      },
      "source": [
        "# **Information Extraction**"
      ]
    },
    {
      "cell_type": "code",
      "execution_count": 13,
      "metadata": {
        "id": "qVPTZlV3BBV-"
      },
      "outputs": [],
      "source": [
        "import re\n",
        "import json\n",
        "\n",
        "def extract_json(input_string):\n",
        "    # Extract JSON within ``` block\n",
        "    matches = re.findall(r'```(.*?)```', input_string, re.DOTALL)\n",
        "\n",
        "    if matches:\n",
        "        # Join the matches into a single string\n",
        "        json_content = ''.join(matches)\n",
        "\n",
        "        # Remove periods\n",
        "        json_content = re.sub(r'\\.', '', json_content)\n",
        "\n",
        "        return json_content\n",
        "    else:\n",
        "        print(\"No ``` block found.\")\n",
        "        return None"
      ]
    },
    {
      "cell_type": "code",
      "execution_count": 14,
      "metadata": {
        "id": "KmHp4cxG7nDu"
      },
      "outputs": [],
      "source": [
        "import vertexai\n",
        "from vertexai.preview.generative_models import GenerativeModel, Part\n",
        "\n",
        "def execute_prompt(prompt, max_output_tokens=8192):\n",
        "  model = GenerativeModel(\"gemini-pro\")\n",
        "  responses = model.generate_content(\n",
        "    prompt,\n",
        "    generation_config={\n",
        "        \"max_output_tokens\": max_output_tokens,\n",
        "        \"temperature\": 0,\n",
        "        \"top_p\": 1\n",
        "    },\n",
        "  stream=True,\n",
        "  )\n",
        "\n",
        "  final_response = []\n",
        "\n",
        "  for response in responses:\n",
        "      final_response.append(response.candidates[0].content.parts[0].text)\n",
        "\n",
        "  return \".\".join(final_response)"
      ]
    },
    {
      "cell_type": "code",
      "execution_count": 15,
      "metadata": {
        "id": "LFMfo3cdvZjA"
      },
      "outputs": [],
      "source": [
        "def get_text_extract_prompt(title, summary):\n",
        "  prompt = f\"\"\"\n",
        "  Here is its title: {title}\n",
        "  Here is some text extracted:\n",
        "  ---------\n",
        "  {summary}\n",
        "  ---------\n",
        "\n",
        "  Web pages can have a lot of useless junk in them.\n",
        "  For example, there might be a lot of ads, or a\n",
        "  lot of navigation links, or a lot of text that\n",
        "  is not relevant to the topic of the page. We want\n",
        "  to extract only the useful information from the text.\n",
        "\n",
        "  You can use the url and title to help you understand\n",
        "  the context of the text.\n",
        "  Please extract only the useful information from the text.\n",
        "  Try not to rewrite the text, but instead extract\n",
        "  only the useful information from the text.\n",
        "  \"\"\"\n",
        "  return prompt"
      ]
    },
    {
      "cell_type": "code",
      "execution_count": 16,
      "metadata": {
        "id": "UmgZbsaUxFIw"
      },
      "outputs": [],
      "source": [
        "summarries = []"
      ]
    },
    {
      "cell_type": "code",
      "execution_count": 17,
      "metadata": {
        "colab": {
          "base_uri": "https://localhost:8080/"
        },
        "id": "1794ituVGNly",
        "outputId": "7b1458c3-8108-4756-f955-18e77577e150"
      },
      "outputs": [
        {
          "output_type": "stream",
          "name": "stdout",
          "text": [
            "Summary for Title: THE BEST 10 Seafood Restaurants near MOUNTAIN VIEW, CA 94043 - Last Updated December 2023 - Yelp\n",
            "\n",
            "Summary for Title: Googleplex restaurants, addresses, phone numbers, photos, real user reviews, 1600 Amphitheatre Pkwy, Mountain View, CA 94043, USA, Mountain View restaurant recommendations - Trip.com\n",
            "\n"
          ]
        }
      ],
      "source": [
        "for structured_response_item in structured_response:\n",
        "    title = structured_response_item['title']\n",
        "    summary = structured_response_item['summary']\n",
        "    if summary != \"<html><body></body></html>\":\n",
        "      print(f'Summary for Title: {title}\\n')\n",
        "      text_extract_prompt = get_text_extract_prompt(title, summary)\n",
        "      prompt_response = execute_prompt(text_extract_prompt)\n",
        "      summarries.append(prompt_response)"
      ]
    },
    {
      "cell_type": "code",
      "execution_count": 18,
      "metadata": {
        "colab": {
          "base_uri": "https://localhost:8080/"
        },
        "id": "PCoJR6YW6uTG",
        "outputId": "1ae007e0-a295-4a46-88a3-37f604c9f7cf"
      },
      "outputs": [
        {
          "output_type": "execute_result",
          "data": {
            "text/plain": [
              "['1. Limón: Peruvian seafood and cocktail bar with a delicious menu of mouth.-watering seafood and land animal options.\\n2. Pacific Catch: Seafood,. tacos, and sushi bar with outdoor seating and Korean-style seafood pancakes.\\n3. The Sea by Alexander’s Steakhouse: Seafood, steakhouse,. and bar with fresh seafood and jumbo shrimp.\\n4. Cap’t Loui: Seafood, fish & chips, and Cajun/Creole with free parking. and large group friendly options.\\n5. Rustic House Oyster Bar and Grill - Los Altos: Seafood, bar, and American with a grouper special and outdoor seating.\\n6. The City Fish: Sandwiches, seafood, and fish &. chips with big portions of quality seafood at a reasonable price.\\n7. King’s Fish House - San Jose: Seafood with outdoor seating and a tartare sauce with a great balance of spicy and seafood taste.\\n8. La M.area of the Sea: Seafood food stand with fresh oysters and great condiments.\\n9. Supreme Crab: Seafood and Cajun/Creole with sports on TV and large group friendly options.\\n10. Gochi - Mountain View: Japanese, wine bar, and seafood with a live wait time of 31-.46 minutes.',\n",
              " '- Googleplex is located at 1600 Amphitheatre Pkwy,. Mountain View, CA 94043, USA.\\n- The. phone number is +1-650-253-0000.\\n- Googleplex is currently closed but will open tomorrow at .08:00.\\n- Googleplex is an architecture and landmark.\\n- Googleplex has a rating of 4.6 out of 5. based on 49 reviews.\\n- Googleplex is free to visit for tourists.\\n- There is a souvenir shop in the visitor center.\\n- The area is very green and beautiful.\\n- There are free bicycles for selection. for sightseeing.\\n- The work area can only be entered with a work card.']"
            ]
          },
          "metadata": {},
          "execution_count": 18
        }
      ],
      "source": [
        "summarries"
      ]
    },
    {
      "cell_type": "markdown",
      "metadata": {
        "id": "FY7hmSdd2SQv"
      },
      "source": [
        "# **Retrieval-augmented generation (RAG)**"
      ]
    },
    {
      "cell_type": "code",
      "execution_count": 19,
      "metadata": {
        "id": "sm4CH-ze2UMA",
        "colab": {
          "base_uri": "https://localhost:8080/"
        },
        "outputId": "e9768628-c75f-418c-c4fb-39e3d69275d6"
      },
      "outputs": [
        {
          "output_type": "stream",
          "name": "stdout",
          "text": [
            "\u001b[?25l     \u001b[90m━━━━━━━━━━━━━━━━━━━━━━━━━━━━━━━━━━━━━━━━\u001b[0m \u001b[32m0.0/146.9 kB\u001b[0m \u001b[31m?\u001b[0m eta \u001b[36m-:--:--\u001b[0m\r\u001b[2K     \u001b[91m━━\u001b[0m\u001b[91m╸\u001b[0m\u001b[90m━━━━━━━━━━━━━━━━━━━━━━━━━━━━━━━━━━━━━\u001b[0m \u001b[32m10.2/146.9 kB\u001b[0m \u001b[31m?\u001b[0m eta \u001b[36m-:--:--\u001b[0m\r\u001b[2K     \u001b[91m━━━━━━━━━━━━━━━━━━━━━━\u001b[0m\u001b[90m╺\u001b[0m\u001b[90m━━━━━━━━━━━━━━━━━\u001b[0m \u001b[32m81.9/146.9 kB\u001b[0m \u001b[31m1.3 MB/s\u001b[0m eta \u001b[36m0:00:01\u001b[0m\r\u001b[2K     \u001b[90m━━━━━━━━━━━━━━━━━━━━━━━━━━━━━━━━━━━━━━━━\u001b[0m \u001b[32m146.9/146.9 kB\u001b[0m \u001b[31m1.6 MB/s\u001b[0m eta \u001b[36m0:00:00\u001b[0m\n",
            "\u001b[?25h"
          ]
        }
      ],
      "source": [
        "!pip install -U -q google.generativeai"
      ]
    },
    {
      "cell_type": "code",
      "execution_count": 20,
      "metadata": {
        "id": "KFlIFPXw4ZgD",
        "colab": {
          "base_uri": "https://localhost:8080/"
        },
        "outputId": "a52fffec-8ce1-401a-e43f-3a1d0d2f62c4"
      },
      "outputs": [
        {
          "output_type": "stream",
          "name": "stdout",
          "text": [
            "\u001b[2K     \u001b[90m━━━━━━━━━━━━━━━━━━━━━━━━━━━━━━━━━━━━━━━━\u001b[0m \u001b[32m508.6/508.6 kB\u001b[0m \u001b[31m6.9 MB/s\u001b[0m eta \u001b[36m0:00:00\u001b[0m\n",
            "\u001b[2K     \u001b[90m━━━━━━━━━━━━━━━━━━━━━━━━━━━━━━━━━━━━━━━━\u001b[0m \u001b[32m381.9/381.9 kB\u001b[0m \u001b[31m30.7 MB/s\u001b[0m eta \u001b[36m0:00:00\u001b[0m\n",
            "\u001b[2K     \u001b[90m━━━━━━━━━━━━━━━━━━━━━━━━━━━━━━━━━━━━━━━━\u001b[0m \u001b[32m2.4/2.4 MB\u001b[0m \u001b[31m62.7 MB/s\u001b[0m eta \u001b[36m0:00:00\u001b[0m\n",
            "\u001b[2K     \u001b[90m━━━━━━━━━━━━━━━━━━━━━━━━━━━━━━━━━━━━━━━━\u001b[0m \u001b[32m93.1/93.1 kB\u001b[0m \u001b[31m10.0 MB/s\u001b[0m eta \u001b[36m0:00:00\u001b[0m\n",
            "\u001b[2K     \u001b[90m━━━━━━━━━━━━━━━━━━━━━━━━━━━━━━━━━━━━━━━━\u001b[0m \u001b[32m60.3/60.3 kB\u001b[0m \u001b[31m6.6 MB/s\u001b[0m eta \u001b[36m0:00:00\u001b[0m\n",
            "\u001b[2K     \u001b[90m━━━━━━━━━━━━━━━━━━━━━━━━━━━━━━━━━━━━━━━━\u001b[0m \u001b[32m5.4/5.4 MB\u001b[0m \u001b[31m46.1 MB/s\u001b[0m eta \u001b[36m0:00:00\u001b[0m\n",
            "\u001b[2K     \u001b[90m━━━━━━━━━━━━━━━━━━━━━━━━━━━━━━━━━━━━━━━━\u001b[0m \u001b[32m6.4/6.4 MB\u001b[0m \u001b[31m78.2 MB/s\u001b[0m eta \u001b[36m0:00:00\u001b[0m\n",
            "\u001b[2K     \u001b[90m━━━━━━━━━━━━━━━━━━━━━━━━━━━━━━━━━━━━━━━━\u001b[0m \u001b[32m57.9/57.9 kB\u001b[0m \u001b[31m4.5 MB/s\u001b[0m eta \u001b[36m0:00:00\u001b[0m\n",
            "\u001b[2K     \u001b[90m━━━━━━━━━━━━━━━━━━━━━━━━━━━━━━━━━━━━━━━━\u001b[0m \u001b[32m105.6/105.6 kB\u001b[0m \u001b[31m11.9 MB/s\u001b[0m eta \u001b[36m0:00:00\u001b[0m\n",
            "\u001b[2K     \u001b[90m━━━━━━━━━━━━━━━━━━━━━━━━━━━━━━━━━━━━━━━━\u001b[0m \u001b[32m67.3/67.3 kB\u001b[0m \u001b[31m8.1 MB/s\u001b[0m eta \u001b[36m0:00:00\u001b[0m\n",
            "\u001b[?25h  Installing build dependencies ... \u001b[?25l\u001b[?25hdone\n",
            "  Getting requirements to build wheel ... \u001b[?25l\u001b[?25hdone\n",
            "  Preparing metadata (pyproject.toml) ... \u001b[?25l\u001b[?25hdone\n",
            "\u001b[2K     \u001b[90m━━━━━━━━━━━━━━━━━━━━━━━━━━━━━━━━━━━━━━━━\u001b[0m \u001b[32m698.9/698.9 kB\u001b[0m \u001b[31m37.0 MB/s\u001b[0m eta \u001b[36m0:00:00\u001b[0m\n",
            "\u001b[2K     \u001b[90m━━━━━━━━━━━━━━━━━━━━━━━━━━━━━━━━━━━━━━━━\u001b[0m \u001b[32m1.6/1.6 MB\u001b[0m \u001b[31m43.2 MB/s\u001b[0m eta \u001b[36m0:00:00\u001b[0m\n",
            "\u001b[2K     \u001b[90m━━━━━━━━━━━━━━━━━━━━━━━━━━━━━━━━━━━━━━━━\u001b[0m \u001b[32m72.6/72.6 kB\u001b[0m \u001b[31m6.9 MB/s\u001b[0m eta \u001b[36m0:00:00\u001b[0m\n",
            "\u001b[2K     \u001b[90m━━━━━━━━━━━━━━━━━━━━━━━━━━━━━━━━━━━━━━━━\u001b[0m \u001b[32m2.1/2.1 MB\u001b[0m \u001b[31m73.6 MB/s\u001b[0m eta \u001b[36m0:00:00\u001b[0m\n",
            "\u001b[2K     \u001b[90m━━━━━━━━━━━━━━━━━━━━━━━━━━━━━━━━━━━━━━━━\u001b[0m \u001b[32m381.6/381.6 kB\u001b[0m \u001b[31m35.0 MB/s\u001b[0m eta \u001b[36m0:00:00\u001b[0m\n",
            "\u001b[2K     \u001b[90m━━━━━━━━━━━━━━━━━━━━━━━━━━━━━━━━━━━━━━━━\u001b[0m \u001b[32m2.1/2.1 MB\u001b[0m \u001b[31m70.7 MB/s\u001b[0m eta \u001b[36m0:00:00\u001b[0m\n",
            "\u001b[2K     \u001b[90m━━━━━━━━━━━━━━━━━━━━━━━━━━━━━━━━━━━━━━━━\u001b[0m \u001b[32m407.5/407.5 kB\u001b[0m \u001b[31m31.4 MB/s\u001b[0m eta \u001b[36m0:00:00\u001b[0m\n",
            "\u001b[2K     \u001b[90m━━━━━━━━━━━━━━━━━━━━━━━━━━━━━━━━━━━━━━━━\u001b[0m \u001b[32m2.1/2.1 MB\u001b[0m \u001b[31m54.6 MB/s\u001b[0m eta \u001b[36m0:00:00\u001b[0m\n",
            "\u001b[2K     \u001b[90m━━━━━━━━━━━━━━━━━━━━━━━━━━━━━━━━━━━━━━━━\u001b[0m \u001b[32m395.8/395.8 kB\u001b[0m \u001b[31m32.6 MB/s\u001b[0m eta \u001b[36m0:00:00\u001b[0m\n",
            "\u001b[2K     \u001b[90m━━━━━━━━━━━━━━━━━━━━━━━━━━━━━━━━━━━━━━━━\u001b[0m \u001b[32m2.0/2.0 MB\u001b[0m \u001b[31m64.7 MB/s\u001b[0m eta \u001b[36m0:00:00\u001b[0m\n",
            "\u001b[2K     \u001b[90m━━━━━━━━━━━━━━━━━━━━━━━━━━━━━━━━━━━━━━━━\u001b[0m \u001b[32m395.3/395.3 kB\u001b[0m \u001b[31m29.3 MB/s\u001b[0m eta \u001b[36m0:00:00\u001b[0m\n",
            "\u001b[2K     \u001b[90m━━━━━━━━━━━━━━━━━━━━━━━━━━━━━━━━━━━━━━━━\u001b[0m \u001b[32m395.4/395.4 kB\u001b[0m \u001b[31m32.9 MB/s\u001b[0m eta \u001b[36m0:00:00\u001b[0m\n",
            "\u001b[2K     \u001b[90m━━━━━━━━━━━━━━━━━━━━━━━━━━━━━━━━━━━━━━━━\u001b[0m \u001b[32m2.0/2.0 MB\u001b[0m \u001b[31m66.1 MB/s\u001b[0m eta \u001b[36m0:00:00\u001b[0m\n",
            "\u001b[2K     \u001b[90m━━━━━━━━━━━━━━━━━━━━━━━━━━━━━━━━━━━━━━━━\u001b[0m \u001b[32m374.5/374.5 kB\u001b[0m \u001b[31m31.8 MB/s\u001b[0m eta \u001b[36m0:00:00\u001b[0m\n",
            "\u001b[2K     \u001b[90m━━━━━━━━━━━━━━━━━━━━━━━━━━━━━━━━━━━━━━━━\u001b[0m \u001b[32m1.9/1.9 MB\u001b[0m \u001b[31m66.4 MB/s\u001b[0m eta \u001b[36m0:00:00\u001b[0m\n",
            "\u001b[2K     \u001b[90m━━━━━━━━━━━━━━━━━━━━━━━━━━━━━━━━━━━━━━━━\u001b[0m \u001b[32m373.4/373.4 kB\u001b[0m \u001b[31m32.2 MB/s\u001b[0m eta \u001b[36m0:00:00\u001b[0m\n",
            "\u001b[2K     \u001b[90m━━━━━━━━━━━━━━━━━━━━━━━━━━━━━━━━━━━━━━━━\u001b[0m \u001b[32m1.9/1.9 MB\u001b[0m \u001b[31m65.1 MB/s\u001b[0m eta \u001b[36m0:00:00\u001b[0m\n",
            "\u001b[2K     \u001b[90m━━━━━━━━━━━━━━━━━━━━━━━━━━━━━━━━━━━━━━━━\u001b[0m \u001b[32m373.2/373.2 kB\u001b[0m \u001b[31m31.7 MB/s\u001b[0m eta \u001b[36m0:00:00\u001b[0m\n",
            "\u001b[2K     \u001b[90m━━━━━━━━━━━━━━━━━━━━━━━━━━━━━━━━━━━━━━━━\u001b[0m \u001b[32m1.9/1.9 MB\u001b[0m \u001b[31m64.2 MB/s\u001b[0m eta \u001b[36m0:00:00\u001b[0m\n",
            "\u001b[2K     \u001b[90m━━━━━━━━━━━━━━━━━━━━━━━━━━━━━━━━━━━━━━━━\u001b[0m \u001b[32m370.9/370.9 kB\u001b[0m \u001b[31m31.1 MB/s\u001b[0m eta \u001b[36m0:00:00\u001b[0m\n",
            "\u001b[2K     \u001b[90m━━━━━━━━━━━━━━━━━━━━━━━━━━━━━━━━━━━━━━━━\u001b[0m \u001b[32m1.9/1.9 MB\u001b[0m \u001b[31m72.1 MB/s\u001b[0m eta \u001b[36m0:00:00\u001b[0m\n",
            "\u001b[2K     \u001b[90m━━━━━━━━━━━━━━━━━━━━━━━━━━━━━━━━━━━━━━━━\u001b[0m \u001b[32m370.8/370.8 kB\u001b[0m \u001b[31m29.3 MB/s\u001b[0m eta \u001b[36m0:00:00\u001b[0m\n",
            "\u001b[2K     \u001b[90m━━━━━━━━━━━━━━━━━━━━━━━━━━━━━━━━━━━━━━━━\u001b[0m \u001b[32m364.0/364.0 kB\u001b[0m \u001b[31m31.4 MB/s\u001b[0m eta \u001b[36m0:00:00\u001b[0m\n",
            "\u001b[2K     \u001b[90m━━━━━━━━━━━━━━━━━━━━━━━━━━━━━━━━━━━━━━━━\u001b[0m \u001b[32m1.8/1.8 MB\u001b[0m \u001b[31m52.1 MB/s\u001b[0m eta \u001b[36m0:00:00\u001b[0m\n",
            "\u001b[2K     \u001b[90m━━━━━━━━━━━━━━━━━━━━━━━━━━━━━━━━━━━━━━━━\u001b[0m \u001b[32m359.1/359.1 kB\u001b[0m \u001b[31m31.1 MB/s\u001b[0m eta \u001b[36m0:00:00\u001b[0m\n",
            "\u001b[2K     \u001b[90m━━━━━━━━━━━━━━━━━━━━━━━━━━━━━━━━━━━━━━━━\u001b[0m \u001b[32m1.8/1.8 MB\u001b[0m \u001b[31m63.7 MB/s\u001b[0m eta \u001b[36m0:00:00\u001b[0m\n",
            "\u001b[2K     \u001b[90m━━━━━━━━━━━━━━━━━━━━━━━━━━━━━━━━━━━━━━━━\u001b[0m \u001b[32m358.4/358.4 kB\u001b[0m \u001b[31m32.8 MB/s\u001b[0m eta \u001b[36m0:00:00\u001b[0m\n",
            "\u001b[2K     \u001b[90m━━━━━━━━━━━━━━━━━━━━━━━━━━━━━━━━━━━━━━━━\u001b[0m \u001b[32m1.5/1.5 MB\u001b[0m \u001b[31m62.0 MB/s\u001b[0m eta \u001b[36m0:00:00\u001b[0m\n",
            "\u001b[2K     \u001b[90m━━━━━━━━━━━━━━━━━━━━━━━━━━━━━━━━━━━━━━━━\u001b[0m \u001b[32m355.6/355.6 kB\u001b[0m \u001b[31m30.9 MB/s\u001b[0m eta \u001b[36m0:00:00\u001b[0m\n",
            "\u001b[2K     \u001b[90m━━━━━━━━━━━━━━━━━━━━━━━━━━━━━━━━━━━━━━━━\u001b[0m \u001b[32m1.5/1.5 MB\u001b[0m \u001b[31m46.4 MB/s\u001b[0m eta \u001b[36m0:00:00\u001b[0m\n",
            "\u001b[2K     \u001b[90m━━━━━━━━━━━━━━━━━━━━━━━━━━━━━━━━━━━━━━━━\u001b[0m \u001b[32m67.0/67.0 kB\u001b[0m \u001b[31m6.0 MB/s\u001b[0m eta \u001b[36m0:00:00\u001b[0m\n",
            "\u001b[2K     \u001b[90m━━━━━━━━━━━━━━━━━━━━━━━━━━━━━━━━━━━━━━━━\u001b[0m \u001b[32m92.9/92.9 kB\u001b[0m \u001b[31m10.7 MB/s\u001b[0m eta \u001b[36m0:00:00\u001b[0m\n",
            "\u001b[2K     \u001b[90m━━━━━━━━━━━━━━━━━━━━━━━━━━━━━━━━━━━━━━━━\u001b[0m \u001b[32m92.9/92.9 kB\u001b[0m \u001b[31m9.9 MB/s\u001b[0m eta \u001b[36m0:00:00\u001b[0m\n",
            "\u001b[2K     \u001b[90m━━━━━━━━━━━━━━━━━━━━━━━━━━━━━━━━━━━━━━━━\u001b[0m \u001b[32m66.3/66.3 kB\u001b[0m \u001b[31m6.3 MB/s\u001b[0m eta \u001b[36m0:00:00\u001b[0m\n",
            "\u001b[2K     \u001b[90m━━━━━━━━━━━━━━━━━━━━━━━━━━━━━━━━━━━━━━━━\u001b[0m \u001b[32m143.8/143.8 kB\u001b[0m \u001b[31m13.5 MB/s\u001b[0m eta \u001b[36m0:00:00\u001b[0m\n",
            "\u001b[2K     \u001b[90m━━━━━━━━━━━━━━━━━━━━━━━━━━━━━━━━━━━━━━━━\u001b[0m \u001b[32m46.0/46.0 kB\u001b[0m \u001b[31m2.8 MB/s\u001b[0m eta \u001b[36m0:00:00\u001b[0m\n",
            "\u001b[2K     \u001b[90m━━━━━━━━━━━━━━━━━━━━━━━━━━━━━━━━━━━━━━━━\u001b[0m \u001b[32m50.8/50.8 kB\u001b[0m \u001b[31m5.0 MB/s\u001b[0m eta \u001b[36m0:00:00\u001b[0m\n",
            "\u001b[2K     \u001b[90m━━━━━━━━━━━━━━━━━━━━━━━━━━━━━━━━━━━━━━━━\u001b[0m \u001b[32m58.3/58.3 kB\u001b[0m \u001b[31m6.3 MB/s\u001b[0m eta \u001b[36m0:00:00\u001b[0m\n",
            "\u001b[2K     \u001b[90m━━━━━━━━━━━━━━━━━━━━━━━━━━━━━━━━━━━━━━━━\u001b[0m \u001b[32m341.4/341.4 kB\u001b[0m \u001b[31m26.2 MB/s\u001b[0m eta \u001b[36m0:00:00\u001b[0m\n",
            "\u001b[2K     \u001b[90m━━━━━━━━━━━━━━━━━━━━━━━━━━━━━━━━━━━━━━━━\u001b[0m \u001b[32m3.4/3.4 MB\u001b[0m \u001b[31m67.7 MB/s\u001b[0m eta \u001b[36m0:00:00\u001b[0m\n",
            "\u001b[2K     \u001b[90m━━━━━━━━━━━━━━━━━━━━━━━━━━━━━━━━━━━━━━━━\u001b[0m \u001b[32m1.3/1.3 MB\u001b[0m \u001b[31m61.8 MB/s\u001b[0m eta \u001b[36m0:00:00\u001b[0m\n",
            "\u001b[2K     \u001b[90m━━━━━━━━━━━━━━━━━━━━━━━━━━━━━━━━━━━━━━━━\u001b[0m \u001b[32m130.2/130.2 kB\u001b[0m \u001b[31m15.2 MB/s\u001b[0m eta \u001b[36m0:00:00\u001b[0m\n",
            "\u001b[2K     \u001b[90m━━━━━━━━━━━━━━━━━━━━━━━━━━━━━━━━━━━━━━━━\u001b[0m \u001b[32m86.8/86.8 kB\u001b[0m \u001b[31m9.9 MB/s\u001b[0m eta \u001b[36m0:00:00\u001b[0m\n",
            "\u001b[?25h  Building wheel for pypika (pyproject.toml) ... \u001b[?25l\u001b[?25hdone\n",
            "\u001b[31mERROR: pip's dependency resolver does not currently take into account all the packages that are installed. This behaviour is the source of the following dependency conflicts.\n",
            "lida 0.0.10 requires kaleido, which is not installed.\n",
            "lida 0.0.10 requires python-multipart, which is not installed.\n",
            "tensorflow-probability 0.22.0 requires typing-extensions<4.6.0, but you have typing-extensions 4.6.0 which is incompatible.\u001b[0m\u001b[31m\n",
            "\u001b[0m"
          ]
        }
      ],
      "source": [
        "%pip install -Uq chromadb pydantic typing-extensions==4.6.0"
      ]
    },
    {
      "cell_type": "code",
      "execution_count": 21,
      "metadata": {
        "id": "Jw6ssR8G2d1G"
      },
      "outputs": [],
      "source": [
        "import textwrap\n",
        "import chromadb\n",
        "import numpy as np\n",
        "import pandas as pd\n",
        "from google.colab import userdata\n",
        "\n",
        "import google.generativeai as genai\n",
        "import google.ai.generativelanguage as glm\n",
        "\n",
        "# Used to securely store your API key\n",
        "from google.colab import userdata\n",
        "\n",
        "from IPython.display import Markdown\n",
        "from chromadb import Documents, EmbeddingFunction, Embeddings\n",
        "genai.configure(api_key=userdata.get('google_key'))"
      ]
    },
    {
      "cell_type": "code",
      "source": [
        "collection_name = 'localstore'"
      ],
      "metadata": {
        "id": "SSE10rhP7uz2"
      },
      "execution_count": 22,
      "outputs": []
    },
    {
      "cell_type": "code",
      "execution_count": 23,
      "metadata": {
        "id": "kJR85awx7HYN"
      },
      "outputs": [],
      "source": [
        "class GeminiEmbeddingFunction(EmbeddingFunction):\n",
        "  def __call__(self, input: Documents) -> Embeddings:\n",
        "    model = 'models/embedding-001'\n",
        "    title = \"Custom query\"\n",
        "    return genai.embed_content(model=model,\n",
        "                                content=input,\n",
        "                                task_type=\"retrieval_document\",\n",
        "                                title=title)[\"embedding\"]\n",
        "def create_chroma_db(documents, name):\n",
        "  chroma_client = chromadb.Client()\n",
        "  db = chroma_client.create_collection(name=name, embedding_function=GeminiEmbeddingFunction())\n",
        "\n",
        "  for i, d in enumerate(documents):\n",
        "    db.add(\n",
        "      documents=d,\n",
        "      ids=str(i)\n",
        "    )\n",
        "  return db"
      ]
    },
    {
      "cell_type": "code",
      "execution_count": 24,
      "metadata": {
        "id": "y0OMxFNL7jJz"
      },
      "outputs": [],
      "source": [
        "# Set up the DB\n",
        "db = create_chroma_db(summarries, collection_name)"
      ]
    },
    {
      "cell_type": "code",
      "execution_count": 25,
      "metadata": {
        "colab": {
          "base_uri": "https://localhost:8080/",
          "height": 112
        },
        "id": "L247ocrI7wJl",
        "outputId": "6cbc236b-ffa2-4f8f-d3e9-21f050d23f15"
      },
      "outputs": [
        {
          "output_type": "execute_result",
          "data": {
            "text/plain": [
              "  ids                                         embeddings metadatas  \\\n",
              "0   0  [0.059015557169914246, -0.04665600508451462, -...      None   \n",
              "1   1  [0.038881026208400726, -0.018561283126473427, ...      None   \n",
              "\n",
              "                                           documents  uris  data  \n",
              "0  1. Limón: Peruvian seafood and cocktail bar wi...  None  None  \n",
              "1  - Googleplex is located at 1600 Amphitheatre P...  None  None  "
            ],
            "text/html": [
              "\n",
              "  <div id=\"df-8518f087-9e35-43f6-97ac-1999c160d6a6\" class=\"colab-df-container\">\n",
              "    <div>\n",
              "<style scoped>\n",
              "    .dataframe tbody tr th:only-of-type {\n",
              "        vertical-align: middle;\n",
              "    }\n",
              "\n",
              "    .dataframe tbody tr th {\n",
              "        vertical-align: top;\n",
              "    }\n",
              "\n",
              "    .dataframe thead th {\n",
              "        text-align: right;\n",
              "    }\n",
              "</style>\n",
              "<table border=\"1\" class=\"dataframe\">\n",
              "  <thead>\n",
              "    <tr style=\"text-align: right;\">\n",
              "      <th></th>\n",
              "      <th>ids</th>\n",
              "      <th>embeddings</th>\n",
              "      <th>metadatas</th>\n",
              "      <th>documents</th>\n",
              "      <th>uris</th>\n",
              "      <th>data</th>\n",
              "    </tr>\n",
              "  </thead>\n",
              "  <tbody>\n",
              "    <tr>\n",
              "      <th>0</th>\n",
              "      <td>0</td>\n",
              "      <td>[0.059015557169914246, -0.04665600508451462, -...</td>\n",
              "      <td>None</td>\n",
              "      <td>1. Limón: Peruvian seafood and cocktail bar wi...</td>\n",
              "      <td>None</td>\n",
              "      <td>None</td>\n",
              "    </tr>\n",
              "    <tr>\n",
              "      <th>1</th>\n",
              "      <td>1</td>\n",
              "      <td>[0.038881026208400726, -0.018561283126473427, ...</td>\n",
              "      <td>None</td>\n",
              "      <td>- Googleplex is located at 1600 Amphitheatre P...</td>\n",
              "      <td>None</td>\n",
              "      <td>None</td>\n",
              "    </tr>\n",
              "  </tbody>\n",
              "</table>\n",
              "</div>\n",
              "    <div class=\"colab-df-buttons\">\n",
              "\n",
              "  <div class=\"colab-df-container\">\n",
              "    <button class=\"colab-df-convert\" onclick=\"convertToInteractive('df-8518f087-9e35-43f6-97ac-1999c160d6a6')\"\n",
              "            title=\"Convert this dataframe to an interactive table.\"\n",
              "            style=\"display:none;\">\n",
              "\n",
              "  <svg xmlns=\"http://www.w3.org/2000/svg\" height=\"24px\" viewBox=\"0 -960 960 960\">\n",
              "    <path d=\"M120-120v-720h720v720H120Zm60-500h600v-160H180v160Zm220 220h160v-160H400v160Zm0 220h160v-160H400v160ZM180-400h160v-160H180v160Zm440 0h160v-160H620v160ZM180-180h160v-160H180v160Zm440 0h160v-160H620v160Z\"/>\n",
              "  </svg>\n",
              "    </button>\n",
              "\n",
              "  <style>\n",
              "    .colab-df-container {\n",
              "      display:flex;\n",
              "      gap: 12px;\n",
              "    }\n",
              "\n",
              "    .colab-df-convert {\n",
              "      background-color: #E8F0FE;\n",
              "      border: none;\n",
              "      border-radius: 50%;\n",
              "      cursor: pointer;\n",
              "      display: none;\n",
              "      fill: #1967D2;\n",
              "      height: 32px;\n",
              "      padding: 0 0 0 0;\n",
              "      width: 32px;\n",
              "    }\n",
              "\n",
              "    .colab-df-convert:hover {\n",
              "      background-color: #E2EBFA;\n",
              "      box-shadow: 0px 1px 2px rgba(60, 64, 67, 0.3), 0px 1px 3px 1px rgba(60, 64, 67, 0.15);\n",
              "      fill: #174EA6;\n",
              "    }\n",
              "\n",
              "    .colab-df-buttons div {\n",
              "      margin-bottom: 4px;\n",
              "    }\n",
              "\n",
              "    [theme=dark] .colab-df-convert {\n",
              "      background-color: #3B4455;\n",
              "      fill: #D2E3FC;\n",
              "    }\n",
              "\n",
              "    [theme=dark] .colab-df-convert:hover {\n",
              "      background-color: #434B5C;\n",
              "      box-shadow: 0px 1px 3px 1px rgba(0, 0, 0, 0.15);\n",
              "      filter: drop-shadow(0px 1px 2px rgba(0, 0, 0, 0.3));\n",
              "      fill: #FFFFFF;\n",
              "    }\n",
              "  </style>\n",
              "\n",
              "    <script>\n",
              "      const buttonEl =\n",
              "        document.querySelector('#df-8518f087-9e35-43f6-97ac-1999c160d6a6 button.colab-df-convert');\n",
              "      buttonEl.style.display =\n",
              "        google.colab.kernel.accessAllowed ? 'block' : 'none';\n",
              "\n",
              "      async function convertToInteractive(key) {\n",
              "        const element = document.querySelector('#df-8518f087-9e35-43f6-97ac-1999c160d6a6');\n",
              "        const dataTable =\n",
              "          await google.colab.kernel.invokeFunction('convertToInteractive',\n",
              "                                                    [key], {});\n",
              "        if (!dataTable) return;\n",
              "\n",
              "        const docLinkHtml = 'Like what you see? Visit the ' +\n",
              "          '<a target=\"_blank\" href=https://colab.research.google.com/notebooks/data_table.ipynb>data table notebook</a>'\n",
              "          + ' to learn more about interactive tables.';\n",
              "        element.innerHTML = '';\n",
              "        dataTable['output_type'] = 'display_data';\n",
              "        await google.colab.output.renderOutput(dataTable, element);\n",
              "        const docLink = document.createElement('div');\n",
              "        docLink.innerHTML = docLinkHtml;\n",
              "        element.appendChild(docLink);\n",
              "      }\n",
              "    </script>\n",
              "  </div>\n",
              "\n",
              "\n",
              "<div id=\"df-c7c3f8fa-9786-424b-9984-42363fe839f6\">\n",
              "  <button class=\"colab-df-quickchart\" onclick=\"quickchart('df-c7c3f8fa-9786-424b-9984-42363fe839f6')\"\n",
              "            title=\"Suggest charts\"\n",
              "            style=\"display:none;\">\n",
              "\n",
              "<svg xmlns=\"http://www.w3.org/2000/svg\" height=\"24px\"viewBox=\"0 0 24 24\"\n",
              "     width=\"24px\">\n",
              "    <g>\n",
              "        <path d=\"M19 3H5c-1.1 0-2 .9-2 2v14c0 1.1.9 2 2 2h14c1.1 0 2-.9 2-2V5c0-1.1-.9-2-2-2zM9 17H7v-7h2v7zm4 0h-2V7h2v10zm4 0h-2v-4h2v4z\"/>\n",
              "    </g>\n",
              "</svg>\n",
              "  </button>\n",
              "\n",
              "<style>\n",
              "  .colab-df-quickchart {\n",
              "      --bg-color: #E8F0FE;\n",
              "      --fill-color: #1967D2;\n",
              "      --hover-bg-color: #E2EBFA;\n",
              "      --hover-fill-color: #174EA6;\n",
              "      --disabled-fill-color: #AAA;\n",
              "      --disabled-bg-color: #DDD;\n",
              "  }\n",
              "\n",
              "  [theme=dark] .colab-df-quickchart {\n",
              "      --bg-color: #3B4455;\n",
              "      --fill-color: #D2E3FC;\n",
              "      --hover-bg-color: #434B5C;\n",
              "      --hover-fill-color: #FFFFFF;\n",
              "      --disabled-bg-color: #3B4455;\n",
              "      --disabled-fill-color: #666;\n",
              "  }\n",
              "\n",
              "  .colab-df-quickchart {\n",
              "    background-color: var(--bg-color);\n",
              "    border: none;\n",
              "    border-radius: 50%;\n",
              "    cursor: pointer;\n",
              "    display: none;\n",
              "    fill: var(--fill-color);\n",
              "    height: 32px;\n",
              "    padding: 0;\n",
              "    width: 32px;\n",
              "  }\n",
              "\n",
              "  .colab-df-quickchart:hover {\n",
              "    background-color: var(--hover-bg-color);\n",
              "    box-shadow: 0 1px 2px rgba(60, 64, 67, 0.3), 0 1px 3px 1px rgba(60, 64, 67, 0.15);\n",
              "    fill: var(--button-hover-fill-color);\n",
              "  }\n",
              "\n",
              "  .colab-df-quickchart-complete:disabled,\n",
              "  .colab-df-quickchart-complete:disabled:hover {\n",
              "    background-color: var(--disabled-bg-color);\n",
              "    fill: var(--disabled-fill-color);\n",
              "    box-shadow: none;\n",
              "  }\n",
              "\n",
              "  .colab-df-spinner {\n",
              "    border: 2px solid var(--fill-color);\n",
              "    border-color: transparent;\n",
              "    border-bottom-color: var(--fill-color);\n",
              "    animation:\n",
              "      spin 1s steps(1) infinite;\n",
              "  }\n",
              "\n",
              "  @keyframes spin {\n",
              "    0% {\n",
              "      border-color: transparent;\n",
              "      border-bottom-color: var(--fill-color);\n",
              "      border-left-color: var(--fill-color);\n",
              "    }\n",
              "    20% {\n",
              "      border-color: transparent;\n",
              "      border-left-color: var(--fill-color);\n",
              "      border-top-color: var(--fill-color);\n",
              "    }\n",
              "    30% {\n",
              "      border-color: transparent;\n",
              "      border-left-color: var(--fill-color);\n",
              "      border-top-color: var(--fill-color);\n",
              "      border-right-color: var(--fill-color);\n",
              "    }\n",
              "    40% {\n",
              "      border-color: transparent;\n",
              "      border-right-color: var(--fill-color);\n",
              "      border-top-color: var(--fill-color);\n",
              "    }\n",
              "    60% {\n",
              "      border-color: transparent;\n",
              "      border-right-color: var(--fill-color);\n",
              "    }\n",
              "    80% {\n",
              "      border-color: transparent;\n",
              "      border-right-color: var(--fill-color);\n",
              "      border-bottom-color: var(--fill-color);\n",
              "    }\n",
              "    90% {\n",
              "      border-color: transparent;\n",
              "      border-bottom-color: var(--fill-color);\n",
              "    }\n",
              "  }\n",
              "</style>\n",
              "\n",
              "  <script>\n",
              "    async function quickchart(key) {\n",
              "      const quickchartButtonEl =\n",
              "        document.querySelector('#' + key + ' button');\n",
              "      quickchartButtonEl.disabled = true;  // To prevent multiple clicks.\n",
              "      quickchartButtonEl.classList.add('colab-df-spinner');\n",
              "      try {\n",
              "        const charts = await google.colab.kernel.invokeFunction(\n",
              "            'suggestCharts', [key], {});\n",
              "      } catch (error) {\n",
              "        console.error('Error during call to suggestCharts:', error);\n",
              "      }\n",
              "      quickchartButtonEl.classList.remove('colab-df-spinner');\n",
              "      quickchartButtonEl.classList.add('colab-df-quickchart-complete');\n",
              "    }\n",
              "    (() => {\n",
              "      let quickchartButtonEl =\n",
              "        document.querySelector('#df-c7c3f8fa-9786-424b-9984-42363fe839f6 button');\n",
              "      quickchartButtonEl.style.display =\n",
              "        google.colab.kernel.accessAllowed ? 'block' : 'none';\n",
              "    })();\n",
              "  </script>\n",
              "</div>\n",
              "\n",
              "    </div>\n",
              "  </div>\n"
            ]
          },
          "metadata": {},
          "execution_count": 25
        }
      ],
      "source": [
        "pd.DataFrame(db.peek(3))"
      ]
    },
    {
      "cell_type": "code",
      "execution_count": 26,
      "metadata": {
        "id": "RI-QiaX470r-"
      },
      "outputs": [],
      "source": [
        "def get_relevant_passage(query, db):\n",
        "  passage = db.query(query_texts=[query], n_results=1)['documents'][0][0]\n",
        "  return passage"
      ]
    },
    {
      "cell_type": "code",
      "execution_count": 27,
      "metadata": {
        "id": "8aGzoFIC78S8"
      },
      "outputs": [],
      "source": [
        "def make_prompt(query, relevant_passage):\n",
        "  escaped = relevant_passage.replace(\"'\", \"\").replace('\"', \"\").replace(\"\\n\", \" \")\n",
        "  prompt = (\"\"\"You are a helpful and informative bot that answers questions using text from the reference passage included below. \\\n",
        "  If the passage is irrelevant to the answer, you may ignore it.\n",
        "  QUESTION: '{query}'\n",
        "  PASSAGE: '{relevant_passage}'\n",
        "\n",
        "    ANSWER:\n",
        "  \"\"\").format(query=query, relevant_passage=escaped)\n",
        "\n",
        "  return prompt"
      ]
    },
    {
      "cell_type": "code",
      "execution_count": 28,
      "metadata": {
        "colab": {
          "base_uri": "https://localhost:8080/",
          "height": 203
        },
        "id": "ClROzhpS8R20",
        "outputId": "f94045bd-167a-4acf-d440-880318047a00"
      },
      "outputs": [
        {
          "output_type": "execute_result",
          "data": {
            "text/plain": [
              "<IPython.core.display.Markdown object>"
            ],
            "text/markdown": "You are a helpful and informative bot that answers questions using text from the reference passage included below.   If the passage is irrelevant to the answer, you may ignore it.\n  QUESTION: 'where can I get seafood'\n  PASSAGE: '1. Limón: Peruvian seafood and cocktail bar with a delicious menu of mouth.-watering seafood and land animal options. 2. Pacific Catch: Seafood,. tacos, and sushi bar with outdoor seating and Korean-style seafood pancakes. 3. The Sea by Alexander’s Steakhouse: Seafood, steakhouse,. and bar with fresh seafood and jumbo shrimp. 4. Cap’t Loui: Seafood, fish & chips, and Cajun/Creole with free parking. and large group friendly options. 5. Rustic House Oyster Bar and Grill - Los Altos: Seafood, bar, and American with a grouper special and outdoor seating. 6. The City Fish: Sandwiches, seafood, and fish &. chips with big portions of quality seafood at a reasonable price. 7. King’s Fish House - San Jose: Seafood with outdoor seating and a tartare sauce with a great balance of spicy and seafood taste. 8. La M.area of the Sea: Seafood food stand with fresh oysters and great condiments. 9. Supreme Crab: Seafood and Cajun/Creole with sports on TV and large group friendly options. 10. Gochi - Mountain View: Japanese, wine bar, and seafood with a live wait time of 31-.46 minutes.'\n\n    ANSWER:\n  "
          },
          "metadata": {},
          "execution_count": 28
        }
      ],
      "source": [
        "query = \"where can I get seafood\"\n",
        "passage = get_relevant_passage(query, db)\n",
        "Markdown(passage)\n",
        "prompt = make_prompt(query, passage)\n",
        "Markdown(prompt)"
      ]
    },
    {
      "cell_type": "code",
      "execution_count": 29,
      "metadata": {
        "colab": {
          "base_uri": "https://localhost:8080/",
          "height": 219
        },
        "id": "tirn20Gv8I7h",
        "outputId": "39e6b3c7-6f23-41dc-97a1-1974cb7c19ae"
      },
      "outputs": [
        {
          "output_type": "execute_result",
          "data": {
            "text/plain": [
              "<IPython.core.display.Markdown object>"
            ],
            "text/markdown": "1. Limón: Peruvian seafood and cocktail bar with a delicious menu of mouth.-watering seafood and land animal options. \n2. Pacific Catch: Seafood,. tacos, and sushi bar with outdoor seating and Korean-style seafood pancakes. \n3. The Sea by Alexander’s Steakhouse: Seafood, steakhouse,. and bar with fresh seafood and jumbo shrimp. \n4. Cap’t Loui: Seafood, fish & chips, and Cajun/Creole with free parking. and large group friendly options. \n5. Rustic House Oyster Bar and Grill - Los Altos: Seafood, bar, and American with a grouper special and outdoor seating. \n6. The City Fish: Sandwiches, seafood, and fish &. chips with big portions of quality seafood at a reasonable price. \n7. King’s Fish House - San Jose: Seafood with outdoor seating and a tartare sauce with a great balance of spicy and seafood taste. \n8. La M.area of the Sea: Seafood food stand with fresh oysters and great condiments. \n9. Supreme Crab: Seafood and Cajun/Creole with sports on TV and large group friendly options. \n10. Gochi - Mountain View: Japanese, wine bar, and seafood with a live wait time of 31-.46 minutes."
          },
          "metadata": {},
          "execution_count": 29
        }
      ],
      "source": [
        "model = genai.GenerativeModel('gemini-pro')\n",
        "answer = model.generate_content(prompt)\n",
        "Markdown(answer.text)"
      ]
    }
  ],
  "metadata": {
    "colab": {
      "collapsed_sections": [
        "ErAPHHjO-deZ",
        "-x7PO4Cx-kta",
        "9aaL2-Jrf0NU",
        "qVkcH8ldmVM-",
        "cxqOBl9GmxND",
        "zqYN9ZlGvTkp",
        "7i0XF8fwvdWR",
        "atjfWPUqA43p",
        "smWeD8A5TnfQ",
        "oAfCdBR2oUBl",
        "CsWFU1NjsNOV"
      ],
      "provenance": [],
      "toc_visible": true
    },
    "kernelspec": {
      "display_name": "Python 3",
      "name": "python3"
    },
    "language_info": {
      "name": "python"
    }
  },
  "nbformat": 4,
  "nbformat_minor": 0
}