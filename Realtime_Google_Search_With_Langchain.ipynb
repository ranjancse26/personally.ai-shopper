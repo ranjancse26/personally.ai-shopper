{
  "cells": [
    {
      "cell_type": "markdown",
      "metadata": {
        "id": "-x7PO4Cx-kta"
      },
      "source": [
        "# **Realtime Google Search with Langchain**"
      ]
    },
    {
      "cell_type": "code",
      "source": [
        "search_query = \"\"\"Sea food near Googleplex\n",
        "1600 Amphitheatre Parkway\n",
        "Mountain View, CA 94043\n",
        "United States\"\"\"\n",
        "#'how to make a great pastrami sandwich'"
      ],
      "metadata": {
        "id": "cW-RBUdEvkIa",
        "executionInfo": {
          "status": "ok",
          "timestamp": 1703134961759,
          "user_tz": -330,
          "elapsed": 27,
          "user": {
            "displayName": "",
            "userId": ""
          }
        }
      },
      "execution_count": 1,
      "outputs": []
    },
    {
      "cell_type": "code",
      "execution_count": 2,
      "metadata": {
        "id": "r1ek-n4IzOzG",
        "colab": {
          "base_uri": "https://localhost:8080/"
        },
        "outputId": "0d6b4243-ce23-42bf-b510-f06e38f12be0",
        "executionInfo": {
          "status": "ok",
          "timestamp": 1703135003153,
          "user_tz": -330,
          "elapsed": 41418,
          "user": {
            "displayName": "",
            "userId": ""
          }
        }
      },
      "outputs": [
        {
          "output_type": "stream",
          "name": "stdout",
          "text": [
            "Collecting duckduckgo_search\n",
            "  Downloading duckduckgo_search-4.1.0-py3-none-any.whl (25 kB)\n",
            "Requirement already satisfied: click>=8.1.7 in /usr/local/lib/python3.10/dist-packages (from duckduckgo_search) (8.1.7)\n",
            "Requirement already satisfied: lxml>=4.9.3 in /usr/local/lib/python3.10/dist-packages (from duckduckgo_search) (4.9.3)\n",
            "Collecting curl-cffi>=0.5.10 (from duckduckgo_search)\n",
            "  Downloading curl_cffi-0.5.10-cp37-abi3-manylinux_2_17_x86_64.manylinux2014_x86_64.whl (7.2 MB)\n",
            "\u001b[2K     \u001b[90m━━━━━━━━━━━━━━━━━━━━━━━━━━━━━━━━━━━━━━━━\u001b[0m \u001b[32m7.2/7.2 MB\u001b[0m \u001b[31m25.8 MB/s\u001b[0m eta \u001b[36m0:00:00\u001b[0m\n",
            "\u001b[?25hRequirement already satisfied: cffi>=1.12.0 in /usr/local/lib/python3.10/dist-packages (from curl-cffi>=0.5.10->duckduckgo_search) (1.16.0)\n",
            "Requirement already satisfied: pycparser in /usr/local/lib/python3.10/dist-packages (from cffi>=1.12.0->curl-cffi>=0.5.10->duckduckgo_search) (2.21)\n",
            "Installing collected packages: curl-cffi, duckduckgo_search\n",
            "Successfully installed curl-cffi-0.5.10 duckduckgo_search-4.1.0\n",
            "Collecting googlesearch-python\n",
            "  Downloading googlesearch-python-1.2.3.tar.gz (3.9 kB)\n",
            "  Preparing metadata (setup.py) ... \u001b[?25l\u001b[?25hdone\n",
            "Requirement already satisfied: beautifulsoup4>=4.9 in /usr/local/lib/python3.10/dist-packages (from googlesearch-python) (4.11.2)\n",
            "Requirement already satisfied: requests>=2.20 in /usr/local/lib/python3.10/dist-packages (from googlesearch-python) (2.31.0)\n",
            "Requirement already satisfied: soupsieve>1.2 in /usr/local/lib/python3.10/dist-packages (from beautifulsoup4>=4.9->googlesearch-python) (2.5)\n",
            "Requirement already satisfied: charset-normalizer<4,>=2 in /usr/local/lib/python3.10/dist-packages (from requests>=2.20->googlesearch-python) (3.3.2)\n",
            "Requirement already satisfied: idna<4,>=2.5 in /usr/local/lib/python3.10/dist-packages (from requests>=2.20->googlesearch-python) (3.6)\n",
            "Requirement already satisfied: urllib3<3,>=1.21.1 in /usr/local/lib/python3.10/dist-packages (from requests>=2.20->googlesearch-python) (2.0.7)\n",
            "Requirement already satisfied: certifi>=2017.4.17 in /usr/local/lib/python3.10/dist-packages (from requests>=2.20->googlesearch-python) (2023.11.17)\n",
            "Building wheels for collected packages: googlesearch-python\n",
            "  Building wheel for googlesearch-python (setup.py) ... \u001b[?25l\u001b[?25hdone\n",
            "  Created wheel for googlesearch-python: filename=googlesearch_python-1.2.3-py3-none-any.whl size=4209 sha256=f2d9241a120fffba7680a9fb7f99e870f3dff5e9ee532bfad172a2775990a454\n",
            "  Stored in directory: /root/.cache/pip/wheels/98/24/e9/6c225502948c629b01cc895f86406819281ef0da385f3eb669\n",
            "Successfully built googlesearch-python\n",
            "Installing collected packages: googlesearch-python\n",
            "Successfully installed googlesearch-python-1.2.3\n",
            "\u001b[2K     \u001b[90m━━━━━━━━━━━━━━━━━━━━━━━━━━━━━━━━━━━━━━━━\u001b[0m \u001b[32m794.4/794.4 kB\u001b[0m \u001b[31m4.0 MB/s\u001b[0m eta \u001b[36m0:00:00\u001b[0m\n",
            "\u001b[2K     \u001b[90m━━━━━━━━━━━━━━━━━━━━━━━━━━━━━━━━━━━━━━━━\u001b[0m \u001b[32m37.2/37.2 MB\u001b[0m \u001b[31m28.2 MB/s\u001b[0m eta \u001b[36m0:00:00\u001b[0m\n",
            "\u001b[2K     \u001b[90m━━━━━━━━━━━━━━━━━━━━━━━━━━━━━━━━━━━━━━━━\u001b[0m \u001b[32m1.5/1.5 MB\u001b[0m \u001b[31m64.3 MB/s\u001b[0m eta \u001b[36m0:00:00\u001b[0m\n",
            "\u001b[2K     \u001b[90m━━━━━━━━━━━━━━━━━━━━━━━━━━━━━━━━━━━━━━━━\u001b[0m \u001b[32m191.5/191.5 kB\u001b[0m \u001b[31m22.5 MB/s\u001b[0m eta \u001b[36m0:00:00\u001b[0m\n",
            "\u001b[2K     \u001b[90m━━━━━━━━━━━━━━━━━━━━━━━━━━━━━━━━━━━━━━━━\u001b[0m \u001b[32m46.3/46.3 kB\u001b[0m \u001b[31m5.2 MB/s\u001b[0m eta \u001b[36m0:00:00\u001b[0m\n",
            "\u001b[2K     \u001b[90m━━━━━━━━━━━━━━━━━━━━━━━━━━━━━━━━━━━━━━━━\u001b[0m \u001b[32m49.4/49.4 kB\u001b[0m \u001b[31m7.4 MB/s\u001b[0m eta \u001b[36m0:00:00\u001b[0m\n",
            "\u001b[?25h"
          ]
        }
      ],
      "source": [
        "!pip install -U duckduckgo_search\n",
        "!python3 -m pip install googlesearch-python\n",
        "!pip install -q langchain playwright beautifulsoup4 html2text"
      ]
    },
    {
      "cell_type": "code",
      "source": [
        "search_query = 'Sea food near Googleplex\\n1600 Amphitheatre Parkway\\nMountain View, CA 94043\\nUnited States'"
      ],
      "metadata": {
        "id": "_xO_BVC96PPv",
        "executionInfo": {
          "status": "ok",
          "timestamp": 1703135003154,
          "user_tz": -330,
          "elapsed": 19,
          "user": {
            "displayName": "",
            "userId": ""
          }
        }
      },
      "execution_count": 3,
      "outputs": []
    },
    {
      "cell_type": "code",
      "source": [
        "google_search_results = []\n",
        "structured_response = []"
      ],
      "metadata": {
        "id": "QQVHopiz6d6m",
        "executionInfo": {
          "status": "ok",
          "timestamp": 1703135003155,
          "user_tz": -330,
          "elapsed": 17,
          "user": {
            "displayName": "",
            "userId": ""
          }
        }
      },
      "execution_count": 4,
      "outputs": []
    },
    {
      "cell_type": "code",
      "source": [
        "number_of_results = 2\n",
        "from googlesearch import search\n",
        "results = search(search_query, lang=\"en\", num_results=number_of_results)"
      ],
      "metadata": {
        "id": "iOTxbNf46fYZ",
        "executionInfo": {
          "status": "ok",
          "timestamp": 1703135004732,
          "user_tz": -330,
          "elapsed": 1593,
          "user": {
            "displayName": "",
            "userId": ""
          }
        }
      },
      "execution_count": 5,
      "outputs": []
    },
    {
      "cell_type": "code",
      "source": [
        "for result in results:\n",
        "  if not result.startswith(\"https://www.tripadvisor.com\"):\n",
        "    google_search_results.append(result)"
      ],
      "metadata": {
        "id": "MgCGU88Q6haa",
        "executionInfo": {
          "status": "ok",
          "timestamp": 1703135005433,
          "user_tz": -330,
          "elapsed": 724,
          "user": {
            "displayName": "",
            "userId": ""
          }
        }
      },
      "execution_count": 6,
      "outputs": []
    },
    {
      "cell_type": "code",
      "source": [
        "google_search_results"
      ],
      "metadata": {
        "colab": {
          "base_uri": "https://localhost:8080/"
        },
        "id": "l54t6s1xp_WC",
        "outputId": "e92de0bf-59b0-48e8-b814-8dd4f655ae6a",
        "executionInfo": {
          "status": "ok",
          "timestamp": 1703135005434,
          "user_tz": -330,
          "elapsed": 13,
          "user": {
            "displayName": "",
            "userId": ""
          }
        }
      },
      "execution_count": 7,
      "outputs": [
        {
          "output_type": "execute_result",
          "data": {
            "text/plain": [
              "['https://www.yelp.com/search?cflt=seafood&find_loc=Mountain+View%2C+CA+94043',\n",
              " 'https://us.trip.com/travel-guide/mountain-view-34682-restaurant/googleplex-18697240/']"
            ]
          },
          "metadata": {},
          "execution_count": 7
        }
      ]
    },
    {
      "cell_type": "code",
      "source": [
        "import html2text\n",
        "from langchain.document_loaders import AsyncHtmlLoader\n",
        "from langchain.document_transformers import Html2TextTransformer\n",
        "\n",
        "async def do_webscraping(link):\n",
        "    try:\n",
        "        urls = [link]\n",
        "        loader = AsyncHtmlLoader(urls)\n",
        "        docs = loader.load()\n",
        "\n",
        "        html2text_transformer = Html2TextTransformer()\n",
        "        docs_transformed = html2text_transformer.transform_documents(docs)\n",
        "\n",
        "        if docs_transformed != None and len(docs_transformed) > 0:\n",
        "            metadata = docs_transformed[0].metadata\n",
        "            title = metadata.get('title', '')\n",
        "            return {\n",
        "                'summary': docs_transformed[0].page_content,\n",
        "                'title': title,\n",
        "                'metadata': metadata,\n",
        "                'clean_content': html2text.html2text(docs_transformed[0].page_content)\n",
        "            }\n",
        "        else:\n",
        "            return None\n",
        "\n",
        "    except Exception as e:\n",
        "        print(f\"An unexpected error occurred: {e}\")\n",
        "        return None"
      ],
      "metadata": {
        "id": "zR0KGPUz6nlh",
        "executionInfo": {
          "status": "ok",
          "timestamp": 1703135007549,
          "user_tz": -330,
          "elapsed": 2124,
          "user": {
            "displayName": "",
            "userId": ""
          }
        }
      },
      "execution_count": 8,
      "outputs": []
    },
    {
      "cell_type": "code",
      "execution_count": 9,
      "metadata": {
        "colab": {
          "base_uri": "https://localhost:8080/"
        },
        "id": "aZhF09OZTbXm",
        "outputId": "40662793-6928-4ccd-8409-bc212025c0cf",
        "executionInfo": {
          "status": "ok",
          "timestamp": 1703135017984,
          "user_tz": -330,
          "elapsed": 10469,
          "user": {
            "displayName": "",
            "userId": ""
          }
        }
      },
      "outputs": [
        {
          "output_type": "stream",
          "name": "stdout",
          "text": [
            "https://www.yelp.com/search?cflt=seafood&find_loc=Mountain+View%2C+CA+94043\n"
          ]
        },
        {
          "output_type": "stream",
          "name": "stderr",
          "text": [
            "Fetching pages: 100%|##########| 1/1 [00:01<00:00,  1.81s/it]\n"
          ]
        },
        {
          "output_type": "stream",
          "name": "stdout",
          "text": [
            "https://us.trip.com/travel-guide/mountain-view-34682-restaurant/googleplex-18697240/\n"
          ]
        },
        {
          "output_type": "stream",
          "name": "stderr",
          "text": [
            "Fetching pages: 100%|##########| 1/1 [00:02<00:00,  2.04s/it]\n"
          ]
        }
      ],
      "source": [
        "for link in google_search_results:\n",
        "  print(link)\n",
        "  response = await do_webscraping(link)\n",
        "  if response != None:\n",
        "    structured_response.append(response)"
      ]
    },
    {
      "cell_type": "code",
      "execution_count": 10,
      "metadata": {
        "id": "3FwrBCziTxPU",
        "colab": {
          "base_uri": "https://localhost:8080/"
        },
        "outputId": "fc03b988-c99b-4e4e-a044-cce679b55150",
        "executionInfo": {
          "status": "ok",
          "timestamp": 1703135017986,
          "user_tz": -330,
          "elapsed": 37,
          "user": {
            "displayName": "",
            "userId": ""
          }
        }
      },
      "outputs": [
        {
          "output_type": "execute_result",
          "data": {
            "text/plain": [
              "[{'summary': 'Yelp\\n\\nYelp for Business\\n\\nWrite a Review\\n\\nLog InSign Up\\n\\nRestaurants\\n\\nDelivery\\n\\nBurgers\\n\\nChinese\\n\\nItalian\\n\\nReservations\\n\\nJapanese\\n\\nMexican\\n\\nThai\\n\\nHome Services\\n\\nContractors\\n\\nElectricians\\n\\nHome Cleaners\\n\\nHVAC\\n\\nLandscaping\\n\\nLocksmiths\\n\\nMovers\\n\\nPlumbers\\n\\nAuto Services\\n\\nAuto Repair\\n\\nAuto Detailing\\n\\nBody Shops\\n\\nCar Wash\\n\\nCar Dealers\\n\\nOil Change\\n\\nParking\\n\\nTowing\\n\\nMore\\n\\nDry Cleaning\\n\\nPhone Repair\\n\\nBars\\n\\nNightlife\\n\\nHair Salons\\n\\nGyms\\n\\nMassage\\n\\nShopping\\n\\nMore\\n\\nFilters\\n\\n$$$$$$$$$$\\n\\nSuggested\\n\\nOpen Now\\n\\n\\\\--:--\\n\\nOffers Delivery\\n\\nReservations\\n\\nFree Wi-Fi\\n\\nOutdoor Seating\\n\\nDogs Allowed\\n\\nFeatures\\n\\nOffers Takeout\\n\\nGood for Groups\\n\\nGood for Dinner\\n\\nGood for Kids\\n\\nSee all\\n\\nDistance\\n\\nBird\\'s-eye View\\n\\nDriving (5 mi.)\\n\\nBiking (2 mi.)\\n\\nWalking (1 mi.)\\n\\nWithin 4 blocks\\n\\nYelpRestaurantsSeafood\\n\\n# The Best 10 Seafood Restaurants near Mountain View, CA 94043\\n\\nSort:Recommended\\n\\nAll\\n\\nPrice\\n\\nOpen NowOffers DeliveryReservationsFree Wi-FiOutdoor SeatingDogs Allowed\\n\\n  *   *   * ### 1. Limón\\n\\n4.0 (265 reviews)\\n\\nPeruvianSeafoodCocktail Bars\\n\\nThis is a placeholder\\n\\n“Everything we ate was delicious. Love the menu- tons of mouth-watering\\nseafood and land animal...” more\\n\\n    * Delivery\\n\\nTakeout\\n\\nFind a Table\\n\\n  * ### 2. Pacific Catch\\n\\n3.8 (1k reviews)\\n\\nSeafoodTacosSushi Bars$$\\n\\nThis is a placeholder\\n\\nOutdoor seating\\n\\nTakes reservations\\n\\n“Personally, I really enjoyed the poke, the Korean-style seafood pancake\\n(again, better at the...” more\\n\\n    * Delivery\\n\\nTakeout\\n\\nStart Order\\n\\n  * ### 3. The Sea by Alexander’s Steakhouse\\n\\n4.1 (1.3k reviews)\\n\\nSeafoodSteakhousesBars$$$$\\n\\nThis is a placeholder\\n\\n“All of the seafood was very fresh, with particularly sweet jumbo shrimp.”\\nmore\\n\\n    * Outdoor seating\\n\\nTakeout\\n\\n  * ### 4. La Marea of the Sea\\n\\n4.7 (45 reviews)\\n\\nSeafoodFood Stands$\\n\\nThis is a placeholder\\n\\n“The oysters were pretty fresh. They have great condiments to compliment the\\nseafood.” more\\n\\n    * Delivery\\n\\n  * ### 5. Cap’t Loui\\n\\n4.5 (569 reviews)\\n\\nSeafoodFish & ChipsCajun/Creole$$\\n\\nThis is a placeholder\\n\\nFree parking\\n\\nLarge group friendly\\n\\n“If you order a certain amount of pounds of seafood, you can get extra sides\\nfor free.” more\\n\\n    * Outdoor seating\\n\\nDelivery\\n\\nTakeout\\n\\nStart Order\\n\\n  * ### 6. Rustic House Oyster Bar and Grill - Los Altos\\n\\n4.0 (641 reviews)\\n\\nSeafoodBarsAmerican$$\\n\\nThis is a placeholder\\n\\n“The seafood was delicious and competently prepared: a generously portioned\\ngrouper special on...” more\\n\\n    * Outdoor seating\\n\\nDelivery\\n\\nTakeout\\n\\nStart Order\\n\\n  * ### 7. King’s Fish House - San Jose\\n\\n4.2 (1.9k reviews)\\n\\nSeafood$$$West San Jose\\n\\nThis is a placeholder\\n\\n“The tartare sauce has great balance of spicy and seafood taste to it, I\\nreally like it. 3.)...” more\\n\\n    * Outdoor seating\\n\\nDelivery\\n\\nTakeout\\n\\n  * ### 8. Cook’s Seafood\\n\\n3.9 (636 reviews)\\n\\nSeafoodSeafood MarketsFish & Chips$$\\n\\nThis is a placeholder\\n\\n“I decided that I wanted some seafood but I wanted GOOD seafood and not the\\nsame stuff I always have.” more\\n\\n    * Outdoor seating\\n\\nTakeout\\n\\n  * ### 9. The City Fish\\n\\n4.4 (1.1k reviews)\\n\\nSandwichesSeafoodFish & Chips$$\\n\\nThis is a placeholder\\n\\n“The reason why I love them is simple - big portions of quality seafood at a\\nreasonable price.” more\\n\\n    * Outdoor seating\\n\\nDelivery\\n\\nTakeout\\n\\nStart Order\\n\\n  * ### 10. Gochi - Mountain View\\n\\n4.1 (555 reviews)\\n\\nJapaneseWine BarsSeafood$$$\\n\\nThis is a placeholder\\n\\n    * Waitlist opens at 5:45 pm\\n\\n“Fresh seafood. Highly recommend. Customer service is top notch. Thank you\\nGochi for the great...” more\\n\\n    * Outdoor seating\\n\\nDelivery\\n\\nTakeout\\n\\nFind a Table\\n\\n  * 1\\n\\n2\\n\\n3\\n\\n4\\n\\n5\\n\\n6\\n\\n7\\n\\n8\\n\\n9\\n\\n1 of 22\\n\\n  * ## Can\\'t find the business?\\n\\nAdding a business to Yelp is always free.\\n\\nAdd business\\n\\nGot search feedback? Help us improve.\\n\\n  * ## Related Searches in Mountain View, CA\\n\\nBeef Wellington\\n\\nCioppino\\n\\nCrab\\n\\nDinner Reservations\\n\\nFish Tacos\\n\\nMichelada\\n\\nSeafood Boil\\n\\nSeafood Buffet\\n\\nSteakhouses\\n\\n$1 Oysters\\n\\nCajun\\n\\nCajun Seafood Boil\\n\\nCeviche\\n\\nClam Chowder\\n\\nCrab Legs\\n\\nCrawfish\\n\\nFish\\n\\nFish House\\n\\nLobster Roll\\n\\nMariscos\\n\\nOysters\\n\\nRestaurants With a View\\n\\nSalmon\\n\\nScallops\\n\\nAnniversary Dinner\\n\\nCajun Seafood\\n\\nCalamari\\n\\nCrab Boil\\n\\nCrab Sandwich\\n\\nFish & Chips\\n\\nHip New Restaurants\\n\\nOyster Bars\\n\\nRestaurants With Private Rooms\\n\\nSashimi\\n\\nChain Restaurants\\n\\nCrawfish Boil\\n\\nDungeness Crab\\n\\nFine Dining\\n\\nFish Market\\n\\nGrilled Fish\\n\\nMexican Seafood\\n\\nOyster Happy Hour\\n\\nPrime Rib\\n\\nSoft Shell Crab\\n\\nValentines Day Dinner\\n\\n## Trending Searches in Mountain View, CA\\n\\nAsian Supermarket\\n\\nBeef Wellington\\n\\nBuy Fresh Oysters\\n\\nCajun Seafood Boil\\n\\nCandy Stores\\n\\nCatfish\\n\\nCaviar\\n\\nCheese Shops\\n\\nChristmas Brunch\\n\\nClam Chowder Bread Bowl\\n\\nDry Aged Steak\\n\\nFishmonger\\n\\nFondue\\n\\nFruit Cake\\n\\nGingerbread Cookies\\n\\nGourmet Grocery Stores\\n\\nGumbo\\n\\nHot Chocolate\\n\\nKaraoke\\n\\nLive Lobster\\n\\nPopcorn Shops\\n\\nPotluck Food\\n\\nSashimi\\n\\nSeafood Markets\\n\\nSmoked Salmon\\n\\nSpecialty Food\\n\\nSushi Lunch Special\\n\\nSushi Party Tray\\n\\nWagyu Steak\\n\\nYule Log Cake\\n\\n## Related Articles\\n\\nTop Buffets in California\\n\\nTop Cajun/Creole in California\\n\\nTop Dim Sum Restaurants in California\\n\\nTop Fish & Chips in California\\n\\nTop Peruvian Restaurants in California\\n\\nTop Restaurants in California\\n\\nTop Seafood Restaurants in California\\n\\nTop Soul Food Restaurants in California\\n\\nTop Steakhouses in California\\n\\nTop Buffets in the US\\n\\nTop Cajun/Creole in the US\\n\\nTop Dim Sum Restaurants in the US\\n\\nTop Fish & Chips in the US\\n\\nTop Peruvian Restaurants in the US\\n\\nTop Restaurants in the US\\n\\nTop Seafood Restaurants in the US\\n\\nTop Soul Food Restaurants in the US\\n\\nTop Steakhouses in the US\\n\\n  *   * ## Search seafood in popular locations\\n\\n### Nearby cities\\n\\nCampbell, CA\\n\\nCupertino, CA\\n\\nLos Altos, CA\\n\\nLos Gatos, CA\\n\\nMilpitas, CA\\n\\nPalo Alto, CA\\n\\nSan Jose, CA\\n\\nSanta Clara, CA\\n\\nSaratoga, CA\\n\\nSunnyvale, CA\\n\\n### More\\n\\nLos Angeles, CA\\n\\nNapa, CA\\n\\nSacramento, CA\\n\\nSan Diego, CA\\n\\nSan Francisco, CA\\n\\nSan Luis Obispo, CA\\n\\nSanta Barbara, CA\\n\\nSanta Rosa, CA\\n\\nStockton, CA\\n\\n  *   *   *   * ## Frequently Asked Questions and Answers\\n\\nWhat are the best cheap seafood restaurants?\\n\\nThese are the best cheap seafood restaurants near Mountain View, CA:\\n\\n    * The City Fish\\n\\n    * Cap\\'t Loui\\n\\n    * Rustic House Oyster Bar and Grill - Los Altos\\n\\n    * Pacific Catch\\n\\n    * Vaso Azzurro Ristorante\\n\\nPeople also liked: Seafood Takeout Restaurants, Seafood Restaurants Offering\\nReservations\\n\\nWhat did people search for similar to seafood near Mountain View, CA?\\n\\nPeople also searched for these near Mountain View:\\n\\n    * Steak\\n\\n    * Seafood Markets\\n\\n    * Dinner\\n\\n    * Sushi\\n\\n    * Fried Fish\\n\\nSee more seafood near Mountain View.\\n\\nWhat are people saying about seafood restaurants near Mountain View, CA?\\n\\nThis is a review for seafood restaurants near Mountain View, CA:\\n\\n\"La Marea of the Sea brings fresh seafood to ur nearest farmers market if u\\ncan\\'t make it to ur seafood eatery locale: Montclair Farmers Market (9/6/20)\\nofferings: raw oysters, shrimp cocktail, fish ceviche, etc. eats: 3 raw miyagi\\noysters/$7 -big & briney, with dash of lemon & horseradish -haven\\'t had them\\nin about a decade, tasted great. -one can also take them home, in the heat,\\ndoubt it will travel well. notes: -seafood made to order, line can get long as\\nonly 1 amigo worker.....\"\\n\\nSee more reviews for this business.\\n\\nWhat are the best seafood takeout restaurants?\\n\\nThese are the best seafood takeout restaurants near Mountain View, CA:\\n\\n    * The City Fish\\n\\n    * Cap\\'t Loui\\n\\n    * King\\'s Fish House - San Jose\\n\\n    * Rustic House Oyster Bar and Grill - Los Altos\\n\\n    * Pacific Catch\\n\\nPeople also liked: Cheap Seafood Restaurants, Seafood Restaurants Offering\\nReservations\\n\\nWhat are the best seafood restaurants offering reservations?\\n\\nThese are the best seafood restaurants offering reservations near Mountain\\nView, CA:\\n\\n    * King\\'s Fish House - San Jose\\n\\n    * Rustic House Oyster Bar and Grill - Los Altos\\n\\n    * Pacific Catch\\n\\n    * The Sea by Alexander\\'s Steakhouse\\n\\n    * Evvia Estiatorio\\n\\nPeople also liked: Cheap Seafood Restaurants, Seafood Takeout Restaurants\\n\\nAbout\\n\\n  * About Yelp\\n  * Careers\\n  * Press\\n  * Investor Relations\\n  * Trust & Safety\\n  * Content Guidelines\\n  * Accessibility Statement\\n  * Terms of Service\\n  * Privacy Policy\\n  * Ad Choices\\n  * Your Privacy Choices\\n\\nDiscover\\n\\n  * Yelp Project Cost Guides\\n  * Collections\\n  * Talk\\n  * Events\\n  * Yelp Blog\\n  * Support\\n  * Yelp Mobile\\n  * Developers\\n  * RSS\\n\\nYelp for Business\\n\\n  * Yelp for Business\\n  * Business Owner Login\\n  * Claim your Business Page\\n  * Advertise on Yelp\\n  * Yelp for Restaurant Owners\\n  * Table Management\\n  * Business Success Stories\\n  * Business Support\\n  * Yelp Blog for Business\\n\\nLanguages\\n\\nEnglish\\n\\nCountries\\n\\nUnited States\\n\\n  * About\\n\\n  * Blog\\n\\n  * Support\\n\\n  * Terms\\n\\n  * Privacy Policy\\n\\n  * Your Privacy Choices\\n\\nCopyright © 2004–2023 Yelp Inc. Yelp, ,  and related marks are registered\\ntrademarks of Yelp.\\n\\nSome Data By Acxiom\\n\\n',\n",
              "  'title': 'THE BEST 10 Seafood Restaurants near MOUNTAIN VIEW, CA 94043 - Last Updated December 2023 - Yelp',\n",
              "  'metadata': {'source': 'https://www.yelp.com/search?cflt=seafood&find_loc=Mountain+View%2C+CA+94043',\n",
              "   'title': 'THE BEST 10 Seafood Restaurants near MOUNTAIN VIEW, CA 94043 - Last Updated December 2023 - Yelp',\n",
              "   'description': \"Best Seafood in Mountain View, CA 94043 - Limón, Pacific Catch, The Sea by Alexander's Steakhouse, La Marea of the Sea, Cap't Loui, Rustic House Oyster Bar and Grill - Los Altos, King's Fish House - San Jose, Cook’s Seafood, The City Fish, Gochi - Mountain View\",\n",
              "   'language': 'en-US'},\n",
              "  'clean_content': 'Yelp Yelp for Business Write a Review Log InSign Up Restaurants Delivery\\nBurgers Chinese Italian Reservations Japanese Mexican Thai Home Services\\nContractors Electricians Home Cleaners HVAC Landscaping Locksmiths Movers\\nPlumbers Auto Services Auto Repair Auto Detailing Body Shops Car Wash Car\\nDealers Oil Change Parking Towing More Dry Cleaning Phone Repair Bars\\nNightlife Hair Salons Gyms Massage Shopping More Filters $$$$$$$$$$ Suggested\\nOpen Now \\\\\\\\--:-- Offers Delivery Reservations Free Wi-Fi Outdoor Seating Dogs\\nAllowed Features Offers Takeout Good for Groups Good for Dinner Good for Kids\\nSee all Distance Bird\\'s-eye View Driving (5 mi.) Biking (2 mi.) Walking (1\\nmi.) Within 4 blocks YelpRestaurantsSeafood # The Best 10 Seafood Restaurants\\nnear Mountain View, CA 94043 Sort:Recommended All Price Open NowOffers\\nDeliveryReservationsFree Wi-FiOutdoor SeatingDogs Allowed * * * ### 1. Limón\\n4.0 (265 reviews) PeruvianSeafoodCocktail Bars This is a placeholder\\n“Everything we ate was delicious. Love the menu- tons of mouth-watering\\nseafood and land animal...” more * Delivery Takeout Find a Table * ### 2.\\nPacific Catch 3.8 (1k reviews) SeafoodTacosSushi Bars$$ This is a placeholder\\nOutdoor seating Takes reservations “Personally, I really enjoyed the poke, the\\nKorean-style seafood pancake (again, better at the...” more * Delivery Takeout\\nStart Order * ### 3. The Sea by Alexander’s Steakhouse 4.1 (1.3k reviews)\\nSeafoodSteakhousesBars$$$$ This is a placeholder “All of the seafood was very\\nfresh, with particularly sweet jumbo shrimp.” more * Outdoor seating Takeout *\\n### 4. La Marea of the Sea 4.7 (45 reviews) SeafoodFood Stands$ This is a\\nplaceholder “The oysters were pretty fresh. They have great condiments to\\ncompliment the seafood.” more * Delivery * ### 5. Cap’t Loui 4.5 (569 reviews)\\nSeafoodFish & ChipsCajun/Creole$$ This is a placeholder Free parking Large\\ngroup friendly “If you order a certain amount of pounds of seafood, you can\\nget extra sides for free.” more * Outdoor seating Delivery Takeout Start Order\\n* ### 6. Rustic House Oyster Bar and Grill - Los Altos 4.0 (641 reviews)\\nSeafoodBarsAmerican$$ This is a placeholder “The seafood was delicious and\\ncompetently prepared: a generously portioned grouper special on...” more *\\nOutdoor seating Delivery Takeout Start Order * ### 7. King’s Fish House - San\\nJose 4.2 (1.9k reviews) Seafood$$$West San Jose This is a placeholder “The\\ntartare sauce has great balance of spicy and seafood taste to it, I really\\nlike it. 3.)...” more * Outdoor seating Delivery Takeout * ### 8. Cook’s\\nSeafood 3.9 (636 reviews) SeafoodSeafood MarketsFish & Chips$$ This is a\\nplaceholder “I decided that I wanted some seafood but I wanted GOOD seafood\\nand not the same stuff I always have.” more * Outdoor seating Takeout * ### 9.\\nThe City Fish 4.4 (1.1k reviews) SandwichesSeafoodFish & Chips$$ This is a\\nplaceholder “The reason why I love them is simple - big portions of quality\\nseafood at a reasonable price.” more * Outdoor seating Delivery Takeout Start\\nOrder * ### 10. Gochi - Mountain View 4.1 (555 reviews) JapaneseWine\\nBarsSeafood$$$ This is a placeholder * Waitlist opens at 5:45 pm “Fresh\\nseafood. Highly recommend. Customer service is top notch. Thank you Gochi for\\nthe great...” more * Outdoor seating Delivery Takeout Find a Table * 1 2 3 4 5\\n6 7 8 9 1 of 22 * ## Can\\'t find the business? Adding a business to Yelp is\\nalways free. Add business Got search feedback? Help us improve. * ## Related\\nSearches in Mountain View, CA Beef Wellington Cioppino Crab Dinner\\nReservations Fish Tacos Michelada Seafood Boil Seafood Buffet Steakhouses $1\\nOysters Cajun Cajun Seafood Boil Ceviche Clam Chowder Crab Legs Crawfish Fish\\nFish House Lobster Roll Mariscos Oysters Restaurants With a View Salmon\\nScallops Anniversary Dinner Cajun Seafood Calamari Crab Boil Crab Sandwich\\nFish & Chips Hip New Restaurants Oyster Bars Restaurants With Private Rooms\\nSashimi Chain Restaurants Crawfish Boil Dungeness Crab Fine Dining Fish Market\\nGrilled Fish Mexican Seafood Oyster Happy Hour Prime Rib Soft Shell Crab\\nValentines Day Dinner ## Trending Searches in Mountain View, CA Asian\\nSupermarket Beef Wellington Buy Fresh Oysters Cajun Seafood Boil Candy Stores\\nCatfish Caviar Cheese Shops Christmas Brunch Clam Chowder Bread Bowl Dry Aged\\nSteak Fishmonger Fondue Fruit Cake Gingerbread Cookies Gourmet Grocery Stores\\nGumbo Hot Chocolate Karaoke Live Lobster Popcorn Shops Potluck Food Sashimi\\nSeafood Markets Smoked Salmon Specialty Food Sushi Lunch Special Sushi Party\\nTray Wagyu Steak Yule Log Cake ## Related Articles Top Buffets in California\\nTop Cajun/Creole in California Top Dim Sum Restaurants in California Top Fish\\n& Chips in California Top Peruvian Restaurants in California Top Restaurants\\nin California Top Seafood Restaurants in California Top Soul Food Restaurants\\nin California Top Steakhouses in California Top Buffets in the US Top\\nCajun/Creole in the US Top Dim Sum Restaurants in the US Top Fish & Chips in\\nthe US Top Peruvian Restaurants in the US Top Restaurants in the US Top\\nSeafood Restaurants in the US Top Soul Food Restaurants in the US Top\\nSteakhouses in the US * * ## Search seafood in popular locations ### Nearby\\ncities Campbell, CA Cupertino, CA Los Altos, CA Los Gatos, CA Milpitas, CA\\nPalo Alto, CA San Jose, CA Santa Clara, CA Saratoga, CA Sunnyvale, CA ### More\\nLos Angeles, CA Napa, CA Sacramento, CA San Diego, CA San Francisco, CA San\\nLuis Obispo, CA Santa Barbara, CA Santa Rosa, CA Stockton, CA * * * * ##\\nFrequently Asked Questions and Answers What are the best cheap seafood\\nrestaurants? These are the best cheap seafood restaurants near Mountain View,\\nCA: * The City Fish * Cap\\'t Loui * Rustic House Oyster Bar and Grill - Los\\nAltos * Pacific Catch * Vaso Azzurro Ristorante People also liked: Seafood\\nTakeout Restaurants, Seafood Restaurants Offering Reservations What did people\\nsearch for similar to seafood near Mountain View, CA? People also searched for\\nthese near Mountain View: * Steak * Seafood Markets * Dinner * Sushi * Fried\\nFish See more seafood near Mountain View. What are people saying about seafood\\nrestaurants near Mountain View, CA? This is a review for seafood restaurants\\nnear Mountain View, CA: \"La Marea of the Sea brings fresh seafood to ur\\nnearest farmers market if u can\\'t make it to ur seafood eatery locale:\\nMontclair Farmers Market (9/6/20) offerings: raw oysters, shrimp cocktail,\\nfish ceviche, etc. eats: 3 raw miyagi oysters/$7 -big & briney, with dash of\\nlemon & horseradish -haven\\'t had them in about a decade, tasted great. -one\\ncan also take them home, in the heat, doubt it will travel well. notes:\\n-seafood made to order, line can get long as only 1 amigo worker.....\" See\\nmore reviews for this business. What are the best seafood takeout restaurants?\\nThese are the best seafood takeout restaurants near Mountain View, CA: * The\\nCity Fish * Cap\\'t Loui * King\\'s Fish House - San Jose * Rustic House Oyster\\nBar and Grill - Los Altos * Pacific Catch People also liked: Cheap Seafood\\nRestaurants, Seafood Restaurants Offering Reservations What are the best\\nseafood restaurants offering reservations? These are the best seafood\\nrestaurants offering reservations near Mountain View, CA: * King\\'s Fish House\\n- San Jose * Rustic House Oyster Bar and Grill - Los Altos * Pacific Catch *\\nThe Sea by Alexander\\'s Steakhouse * Evvia Estiatorio People also liked: Cheap\\nSeafood Restaurants, Seafood Takeout Restaurants About * About Yelp * Careers\\n* Press * Investor Relations * Trust & Safety * Content Guidelines *\\nAccessibility Statement * Terms of Service * Privacy Policy * Ad Choices *\\nYour Privacy Choices Discover * Yelp Project Cost Guides * Collections * Talk\\n* Events * Yelp Blog * Support * Yelp Mobile * Developers * RSS Yelp for\\nBusiness * Yelp for Business * Business Owner Login * Claim your Business Page\\n* Advertise on Yelp * Yelp for Restaurant Owners * Table Management * Business\\nSuccess Stories * Business Support * Yelp Blog for Business Languages English\\nCountries United States * About * Blog * Support * Terms * Privacy Policy *\\nYour Privacy Choices Copyright © 2004–2023 Yelp Inc. Yelp, , and related marks\\nare registered trademarks of Yelp. Some Data By Acxiom\\n\\n'},\n",
              " {'summary': \"https://us.trip.com/travel-guide/foods/mountain-\\nview-34682-restaurant/googleplex-18697240\\n\\n  * Hotels\\n  * Flights\\n  * Trains\\n  * Cars\\n    * Car Rentals\\n    * Airport Transfers\\n  * Attractions & Tours\\n  * Bundle & Save\\n  * Cruises\\n  * Trip Planner\\n  * Destinations\\n  * Trip.com Rewards\\n  * Deals\\n\\nApp\\n\\nHelp __\\n\\nUSD\\n\\nSearch Bookings\\n\\nHome\\n\\n __Travel Guides\\n\\n __North America\\n\\n __United States\\n\\n __California\\n\\n __Santa Clara County\\n\\n __Mountain View\\n\\n __Googleplex\\n\\n# Googleplex\\n\\n4.6/549 Reviews\\n\\nArchitecture & Landmarks\\n\\n __\\n\\nCurrently closed |Open tomorrow at 08:00\\n\\n __\\n\\n __\\n\\n+1-650-253-0000\\n\\n __\\n\\n __\\n\\n1600 Amphitheatre Pkwy, Mountain View, CA 94043, USA\\n\\nView on Map\\n\\n## Reviews of Googleplex\\n\\n __Some reviews may have been translated by Google Translate\\n\\n4.6/5Outstanding\\n\\nAll (49)\\n\\nLatest\\n\\nWith Photos (37)\\n\\nPositive Reviews (39)\\n\\n  * DEAR张小球\\n\\n5.0/5Outstanding\\n\\nOriginal Text\\n\\nNot going up at home. But to Silicon Valley, you still have to visit Google\\nheadquarters. This is a very great technology Internet company, a company that\\nreally uses technology to change people.\\n\\nShow All\\n\\n __0\\n\\nReviewed on 1586999684000\\n\\n  * Rubylanlan\\n\\n5.0/5Outstanding\\n\\nOriginal Text\\n\\nI am also a person who has been to Google! Although it is not Google Powder,\\nhow can there be an inexplicable sense of excitement = = When I came the night\\nbefore, I happened to encounter activities nearby that were not allowed to\\nenter, and I couldn't see it when I was dark. The next day, I didn't die and I\\nhad time to come again. Tiangong is beautiful, especially suitable for\\nplaying! The office building on Saturday is not open, and if there is no\\nfriend to bring it, you can't enter it. There is a parking space at the door\\nof the company, and you can also drive in it. There is no clear gate like the\\ndomestic one, a more casual park. The bicycle does not have a lock, and you\\ncan ride and play when you see it parked. The most frequent tourist is the\\nAndroid Xiaoren Square, take some cute photos~ various photos~\\n\\nShow All\\n\\n __2\\n\\nReviewed on 1578461674000\\n\\n  * 琳达Linda琳达\\n\\n5.0/5Outstanding\\n\\nOriginal Text\\n\\nGoogle headquarters really has to come to punch in. Very open and warm work\\nenvironment, the work here is really a dream. Very design and creative, no\\nwonder Google can develop so well.\\n\\nShow All\\n\\n __0\\n\\nReviewed on 1570888928000\\n\\n  * sherrysaramande\\n\\n5.0/5Outstanding\\n\\nOriginal Text\\n\\nSparsely populated, I used to let friends bring rice to dinner, but it won't\\nwork after the epidemic.\\n\\nShow All\\n\\n __0\\n\\nReviewed on 1688051985000\\n\\n  * 马普尔太太\\n\\n5.0/5Outstanding\\n\\nOriginal Text\\n\\nVery worth a visit, recommend everyone\\n\\nShow All\\n\\n __0\\n\\nReviewed on 1672631937000\\n\\n  * 福尔摩斯先生呢\\n\\n5.0/5Outstanding\\n\\nOriginal Text\\n\\nVery worth a visit, recommend this\\n\\nShow All\\n\\n __0\\n\\nReviewed on 1671853296000\\n\\n  * 十字小溪-Y\\n\\n5.0/5Outstanding\\n\\nOriginal Text\\n\\nGoogle headquarters is free to tourists, road signs are obvious, and there is\\na souvenir shop in the visitor center. The whole area is very green, the\\nenvironment is beautiful, there are free bicycles for selection, convenient\\nfor sightseeing. Being in it has a feeling of walking into the campus. The\\nwork area must be entered with a work card.\\n\\nShow All\\n\\n __6\\n\\nReviewed on 1519287573000\\n\\n _\\uf575_\\n\\n  * 1\\n  * 2\\n  * 3\\n  * 4\\n  * 10\\n\\n _\\uf5bf_\\n\\n##  Attractions Near Googleplex\\n\\nSilicon Valley\\n\\n4.5/582 Reviews\\n\\nFeatured Neighborhoods\\n\\n __away\\n\\nGoogleplex\\n\\n4.6/546 Reviews\\n\\nModern ArchitectureHiking/BikingHiking/Biking\\n\\nApple Infinite Loop\\n\\n4.6/538 Reviews\\n\\nModern Architecture\\n\\n __away\\n\\nStanford University\\n\\n4.8/5405 Reviews\\n\\nSchools\\n\\n __away\\n\\nMore attractions near Googleplex\\n\\n##  Restaurants Near Googleplex\\n\\nChez TJ\\n\\n4.3/53 Reviews\\n\\nUS$59\\n\\nWestern-styleSpectacular Views\\n\\n __away\\n\\nPacific Catch\\n\\n4.0/51 Reviews\\n\\nUS$21\\n\\nSeafoodOpen LateSpectacular Views\\n\\n __away\\n\\nCucina Venti Restaurant\\n\\n5.0/51 Reviews\\n\\nUS$28\\n\\nWestern-styleOpen Late\\n\\n __away\\n\\nCascal\\n\\n4.7/53 Reviews\\n\\nUS$24\\n\\nLatin AmericanOpen LateSpectacular Views\\n\\n __away\\n\\nMore restaurants near Googleplex\\n\\n##  Hotels Near Googleplex\\n\\nCrowne Plaza Cabana Hotel, an IHG Hotel\\n\\n __ __ __\\n\\n4.1 /5132 Reviews\\n\\n __away\\n\\nHomewood Suites by Hilton Palo Alto\\n\\n __ __ __\\n\\n4.5 /565 Reviews\\n\\n __away\\n\\nShashi Hotel Mountain View, an Urban Resort\\n\\n __ __ __ __ __\\n\\n4.5 /5110 Reviews\\n\\n __away\\n\\nHilton Garden Inn Palo Alto\\n\\n __ __ __\\n\\n4.3 /5118 Reviews\\n\\n __away\\n\\nMore hotels near Googleplex\\n\\n### Contact Us\\n\\n  * Customer Support\\n  * Service Guarantee\\n  * Website Feedback\\n\\n### About\\n\\n  * About Trip.com\\n  * News\\n  * Careers\\n  * Terms & Conditions\\n  * Privacy Statement\\n  * Do Not Sell My Personal Information\\n  * About Trip.com Group\\n\\n### Other Services\\n\\n  * Investor Relations\\n  * Trip.com Rewards\\n  * Affiliate Program\\n  * List My Hotel\\n  * All Hotels\\n  * Become a Supplier\\n  * Security\\n\\nPayment Methods\\n\\nOur Partners\\n\\nCopyright © 2023 Trip.com Travel Singapore Pte. Ltd. All rights reserved  \\nSite Operator: Trip.com Travel Singapore Pte. Ltd.\\n\\n\",\n",
              "  'title': 'Googleplex restaurants, addresses, phone numbers, photos, real user reviews, 1600 Amphitheatre Pkwy, Mountain View, CA 94043, USA, Mountain View restaurant recommendations - Trip.com',\n",
              "  'metadata': {'source': 'https://us.trip.com/travel-guide/mountain-view-34682-restaurant/googleplex-18697240/',\n",
              "   'title': 'Googleplex restaurants, addresses, phone numbers, photos, real user reviews, 1600 Amphitheatre Pkwy, Mountain View, CA 94043, USA, Mountain View restaurant recommendations - Trip.com',\n",
              "   'description': 'Trip delicious',\n",
              "   'language': 'en-US'},\n",
              "  'clean_content': \"https://us.trip.com/travel-guide/foods/mountain-\\nview-34682-restaurant/googleplex-18697240 * Hotels * Flights * Trains * Cars *\\nCar Rentals * Airport Transfers * Attractions & Tours * Bundle & Save *\\nCruises * Trip Planner * Destinations * Trip.com Rewards * Deals App Help __\\nUSD Search Bookings Home __Travel Guides __North America __United States\\n__California __Santa Clara County __Mountain View __Googleplex # Googleplex\\n4.6/549 Reviews Architecture & Landmarks __ Currently closed |Open tomorrow at\\n08:00 __ __ +1-650-253-0000 __ __ 1600 Amphitheatre Pkwy, Mountain View, CA\\n94043, USA View on Map ## Reviews of Googleplex __Some reviews may have been\\ntranslated by Google Translate 4.6/5Outstanding All (49) Latest With Photos\\n(37) Positive Reviews (39) * DEAR张小球 5.0/5Outstanding Original Text Not going\\nup at home. But to Silicon Valley, you still have to visit Google\\nheadquarters. This is a very great technology Internet company, a company that\\nreally uses technology to change people. Show All __0 Reviewed on\\n1586999684000 * Rubylanlan 5.0/5Outstanding Original Text I am also a person\\nwho has been to Google! Although it is not Google Powder, how can there be an\\ninexplicable sense of excitement = = When I came the night before, I happened\\nto encounter activities nearby that were not allowed to enter, and I couldn't\\nsee it when I was dark. The next day, I didn't die and I had time to come\\nagain. Tiangong is beautiful, especially suitable for playing! The office\\nbuilding on Saturday is not open, and if there is no friend to bring it, you\\ncan't enter it. There is a parking space at the door of the company, and you\\ncan also drive in it. There is no clear gate like the domestic one, a more\\ncasual park. The bicycle does not have a lock, and you can ride and play when\\nyou see it parked. The most frequent tourist is the Android Xiaoren Square,\\ntake some cute photos~ various photos~ Show All __2 Reviewed on 1578461674000\\n* 琳达Linda琳达 5.0/5Outstanding Original Text Google headquarters really has to\\ncome to punch in. Very open and warm work environment, the work here is really\\na dream. Very design and creative, no wonder Google can develop so well. Show\\nAll __0 Reviewed on 1570888928000 * sherrysaramande 5.0/5Outstanding Original\\nText Sparsely populated, I used to let friends bring rice to dinner, but it\\nwon't work after the epidemic. Show All __0 Reviewed on 1688051985000 * 马普尔太太\\n5.0/5Outstanding Original Text Very worth a visit, recommend everyone Show All\\n__0 Reviewed on 1672631937000 * 福尔摩斯先生呢 5.0/5Outstanding Original Text Very\\nworth a visit, recommend this Show All __0 Reviewed on 1671853296000 * 十字小溪-Y\\n5.0/5Outstanding Original Text Google headquarters is free to tourists, road\\nsigns are obvious, and there is a souvenir shop in the visitor center. The\\nwhole area is very green, the environment is beautiful, there are free\\nbicycles for selection, convenient for sightseeing. Being in it has a feeling\\nof walking into the campus. The work area must be entered with a work card.\\nShow All __6 Reviewed on 1519287573000 _\\uf575_ * 1 * 2 * 3 * 4 * 10 _\\uf5bf_ ##\\nAttractions Near Googleplex Silicon Valley 4.5/582 Reviews Featured\\nNeighborhoods __away Googleplex 4.6/546 Reviews Modern\\nArchitectureHiking/BikingHiking/Biking Apple Infinite Loop 4.6/538 Reviews\\nModern Architecture __away Stanford University 4.8/5405 Reviews Schools __away\\nMore attractions near Googleplex ## Restaurants Near Googleplex Chez TJ 4.3/53\\nReviews US$59 Western-styleSpectacular Views __away Pacific Catch 4.0/51\\nReviews US$21 SeafoodOpen LateSpectacular Views __away Cucina Venti Restaurant\\n5.0/51 Reviews US$28 Western-styleOpen Late __away Cascal 4.7/53 Reviews US$24\\nLatin AmericanOpen LateSpectacular Views __away More restaurants near\\nGoogleplex ## Hotels Near Googleplex Crowne Plaza Cabana Hotel, an IHG Hotel\\n__ __ __ 4.1 /5132 Reviews __away Homewood Suites by Hilton Palo Alto __ __ __\\n4.5 /565 Reviews __away Shashi Hotel Mountain View, an Urban Resort __ __ __\\n__ __ 4.5 /5110 Reviews __away Hilton Garden Inn Palo Alto __ __ __ 4.3 /5118\\nReviews __away More hotels near Googleplex ### Contact Us * Customer Support *\\nService Guarantee * Website Feedback ### About * About Trip.com * News *\\nCareers * Terms & Conditions * Privacy Statement * Do Not Sell My Personal\\nInformation * About Trip.com Group ### Other Services * Investor Relations *\\nTrip.com Rewards * Affiliate Program * List My Hotel * All Hotels * Become a\\nSupplier * Security Payment Methods Our Partners Copyright © 2023 Trip.com\\nTravel Singapore Pte. Ltd. All rights reserved Site Operator: Trip.com Travel\\nSingapore Pte. Ltd.\\n\\n\"}]"
            ]
          },
          "metadata": {},
          "execution_count": 10
        }
      ],
      "source": [
        "structured_response"
      ]
    }
  ],
  "metadata": {
    "colab": {
      "collapsed_sections": [
        "ErAPHHjO-deZ",
        "-x7PO4Cx-kta",
        "9aaL2-Jrf0NU",
        "qVkcH8ldmVM-",
        "cxqOBl9GmxND",
        "zqYN9ZlGvTkp",
        "7i0XF8fwvdWR",
        "atjfWPUqA43p",
        "smWeD8A5TnfQ",
        "oAfCdBR2oUBl",
        "CsWFU1NjsNOV"
      ],
      "provenance": [],
      "toc_visible": true
    },
    "kernelspec": {
      "display_name": "Python 3",
      "name": "python3"
    },
    "language_info": {
      "name": "python"
    }
  },
  "nbformat": 4,
  "nbformat_minor": 0
}