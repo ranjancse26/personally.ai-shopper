{
  "cells": [
    {
      "cell_type": "markdown",
      "metadata": {
        "id": "ErAPHHjO-deZ"
      },
      "source": [
        "# **Vertexai Init**"
      ]
    },
    {
      "cell_type": "code",
      "execution_count": 1,
      "metadata": {
        "id": "lHmH1yGC99EG"
      },
      "outputs": [],
      "source": [
        "import sys\n",
        "\n",
        "# Additional authentication is required for Google Colab\n",
        "if \"google.colab\" in sys.modules:\n",
        "    # Authenticate user to Google Cloud\n",
        "    from google.colab import auth\n",
        "\n",
        "    auth.authenticate_user()"
      ]
    },
    {
      "cell_type": "code",
      "execution_count": 2,
      "metadata": {
        "id": "kLwEOC5x-EBH"
      },
      "outputs": [],
      "source": [
        "PROJECT_ID = \"gen-lang-client-0341374211\"  # @param {type:\"string\"}\n",
        "LOCATION = \"us-central1\"  # @param {type:\"string\"}\n",
        "\n",
        "if \"google.colab\" in sys.modules:\n",
        "    # Define project information\n",
        "    PROJECT_ID = PROJECT_ID\n",
        "    LOCATION = LOCATION\n",
        "\n",
        "    # Initialize Vertex AI\n",
        "    import vertexai\n",
        "    vertexai.init(project=PROJECT_ID, location=LOCATION)"
      ]
    },
    {
      "cell_type": "code",
      "execution_count": 3,
      "metadata": {
        "id": "aBq8IJhMtOql"
      },
      "outputs": [],
      "source": [
        "search_query = \"\"\"Sea food near Googleplex\n",
        "1600 Amphitheatre Parkway\n",
        "Mountain View, CA 94043\n",
        "United States\"\"\"\n",
        "#'how to make a great pastrami sandwich'"
      ]
    },
    {
      "cell_type": "markdown",
      "metadata": {
        "id": "-x7PO4Cx-kta"
      },
      "source": [
        "# **Realtime Google Search with Langchain**"
      ]
    },
    {
      "cell_type": "code",
      "execution_count": 4,
      "metadata": {
        "id": "r1ek-n4IzOzG",
        "colab": {
          "base_uri": "https://localhost:8080/"
        },
        "outputId": "7b5a4761-752d-4358-84ab-2df09a2945a7"
      },
      "outputs": [
        {
          "output_type": "stream",
          "name": "stdout",
          "text": [
            "Requirement already satisfied: duckduckgo_search in /usr/local/lib/python3.10/dist-packages (4.1.0)\n",
            "Requirement already satisfied: click>=8.1.7 in /usr/local/lib/python3.10/dist-packages (from duckduckgo_search) (8.1.7)\n",
            "Requirement already satisfied: lxml>=4.9.3 in /usr/local/lib/python3.10/dist-packages (from duckduckgo_search) (4.9.3)\n",
            "Requirement already satisfied: curl-cffi>=0.5.10 in /usr/local/lib/python3.10/dist-packages (from duckduckgo_search) (0.5.10)\n",
            "Requirement already satisfied: cffi>=1.12.0 in /usr/local/lib/python3.10/dist-packages (from curl-cffi>=0.5.10->duckduckgo_search) (1.16.0)\n",
            "Requirement already satisfied: pycparser in /usr/local/lib/python3.10/dist-packages (from cffi>=1.12.0->curl-cffi>=0.5.10->duckduckgo_search) (2.21)\n",
            "Requirement already satisfied: googlesearch-python in /usr/local/lib/python3.10/dist-packages (1.2.3)\n",
            "Requirement already satisfied: beautifulsoup4>=4.9 in /usr/local/lib/python3.10/dist-packages (from googlesearch-python) (4.11.2)\n",
            "Requirement already satisfied: requests>=2.20 in /usr/local/lib/python3.10/dist-packages (from googlesearch-python) (2.31.0)\n",
            "Requirement already satisfied: soupsieve>1.2 in /usr/local/lib/python3.10/dist-packages (from beautifulsoup4>=4.9->googlesearch-python) (2.5)\n",
            "Requirement already satisfied: charset-normalizer<4,>=2 in /usr/local/lib/python3.10/dist-packages (from requests>=2.20->googlesearch-python) (3.3.2)\n",
            "Requirement already satisfied: idna<4,>=2.5 in /usr/local/lib/python3.10/dist-packages (from requests>=2.20->googlesearch-python) (3.6)\n",
            "Requirement already satisfied: urllib3<3,>=1.21.1 in /usr/local/lib/python3.10/dist-packages (from requests>=2.20->googlesearch-python) (1.26.18)\n",
            "Requirement already satisfied: certifi>=2017.4.17 in /usr/local/lib/python3.10/dist-packages (from requests>=2.20->googlesearch-python) (2023.11.17)\n"
          ]
        }
      ],
      "source": [
        "!pip install -U duckduckgo_search\n",
        "!python3 -m pip install googlesearch-python\n",
        "!pip install -q langchain playwright beautifulsoup4 html2text"
      ]
    },
    {
      "cell_type": "code",
      "source": [
        "search_query = 'Sea food near Googleplex\\n1600 Amphitheatre Parkway\\nMountain View, CA 94043\\nUnited States'"
      ],
      "metadata": {
        "id": "_xO_BVC96PPv"
      },
      "execution_count": 5,
      "outputs": []
    },
    {
      "cell_type": "code",
      "source": [
        "google_search_results = []\n",
        "structured_response = []"
      ],
      "metadata": {
        "id": "QQVHopiz6d6m"
      },
      "execution_count": 6,
      "outputs": []
    },
    {
      "cell_type": "code",
      "source": [
        "number_of_results = 2\n",
        "from googlesearch import search\n",
        "results = search(search_query, lang=\"en\", num_results=number_of_results)"
      ],
      "metadata": {
        "id": "iOTxbNf46fYZ"
      },
      "execution_count": 7,
      "outputs": []
    },
    {
      "cell_type": "code",
      "source": [
        "for result in results:\n",
        "  if not result.startswith(\"https://www.tripadvisor.com\"):\n",
        "    google_search_results.append(result)"
      ],
      "metadata": {
        "id": "MgCGU88Q6haa"
      },
      "execution_count": 8,
      "outputs": []
    },
    {
      "cell_type": "code",
      "source": [
        "google_search_results"
      ],
      "metadata": {
        "colab": {
          "base_uri": "https://localhost:8080/"
        },
        "id": "l54t6s1xp_WC",
        "outputId": "adcb174d-6dfc-4e2b-ba23-c9d07855e800"
      },
      "execution_count": 9,
      "outputs": [
        {
          "output_type": "execute_result",
          "data": {
            "text/plain": [
              "['https://www.yelp.com/search?cflt=seafood&find_loc=Mountain+View%2C+CA+94043',\n",
              " 'https://us.trip.com/travel-guide/mountain-view-34682-restaurant/googleplex-18697240/']"
            ]
          },
          "metadata": {},
          "execution_count": 9
        }
      ]
    },
    {
      "cell_type": "code",
      "source": [
        "import html2text\n",
        "from langchain.document_loaders import AsyncHtmlLoader\n",
        "from langchain.document_transformers import Html2TextTransformer\n",
        "\n",
        "async def do_webscraping(link):\n",
        "    try:\n",
        "        urls = [link]\n",
        "        loader = AsyncHtmlLoader(urls)\n",
        "        docs = loader.load()\n",
        "\n",
        "        html2text_transformer = Html2TextTransformer()\n",
        "        docs_transformed = html2text_transformer.transform_documents(docs)\n",
        "\n",
        "        if docs_transformed != None and len(docs_transformed) > 0:\n",
        "            metadata = docs_transformed[0].metadata\n",
        "            title = metadata.get('title', '')\n",
        "            return {\n",
        "                'summary': docs_transformed[0].page_content,\n",
        "                'title': title,\n",
        "                'metadata': metadata,\n",
        "                'clean_content': html2text.html2text(docs_transformed[0].page_content)\n",
        "            }\n",
        "        else:\n",
        "            return None\n",
        "\n",
        "    except Exception as e:\n",
        "        print(f\"An unexpected error occurred: {e}\")\n",
        "        return None"
      ],
      "metadata": {
        "id": "zR0KGPUz6nlh"
      },
      "execution_count": 10,
      "outputs": []
    },
    {
      "cell_type": "code",
      "execution_count": 11,
      "metadata": {
        "colab": {
          "base_uri": "https://localhost:8080/"
        },
        "id": "aZhF09OZTbXm",
        "outputId": "998140be-8fdc-4d0b-d794-a67586dfd49b"
      },
      "outputs": [
        {
          "output_type": "stream",
          "name": "stdout",
          "text": [
            "https://www.yelp.com/search?cflt=seafood&find_loc=Mountain+View%2C+CA+94043\n"
          ]
        },
        {
          "output_type": "stream",
          "name": "stderr",
          "text": [
            "Fetching pages: 100%|##########| 1/1 [00:01<00:00,  1.22s/it]\n"
          ]
        },
        {
          "output_type": "stream",
          "name": "stdout",
          "text": [
            "https://us.trip.com/travel-guide/mountain-view-34682-restaurant/googleplex-18697240/\n"
          ]
        },
        {
          "output_type": "stream",
          "name": "stderr",
          "text": [
            "Fetching pages: 100%|##########| 1/1 [00:01<00:00,  1.66s/it]\n"
          ]
        }
      ],
      "source": [
        "for link in google_search_results:\n",
        "  print(link)\n",
        "  response = await do_webscraping(link)\n",
        "  if response != None:\n",
        "    structured_response.append(response)"
      ]
    },
    {
      "cell_type": "code",
      "execution_count": 12,
      "metadata": {
        "id": "3FwrBCziTxPU",
        "colab": {
          "base_uri": "https://localhost:8080/"
        },
        "outputId": "290f72a6-ac66-43d5-d2a4-9a6822d2a012"
      },
      "outputs": [
        {
          "output_type": "execute_result",
          "data": {
            "text/plain": [
              "[{'summary': 'Yelp\\n\\nYelp for Business\\n\\nWrite a Review\\n\\nLog InSign Up\\n\\nRestaurants\\n\\nDelivery\\n\\nBurgers\\n\\nChinese\\n\\nItalian\\n\\nReservations\\n\\nJapanese\\n\\nMexican\\n\\nThai\\n\\nHome Services\\n\\nContractors\\n\\nElectricians\\n\\nHome Cleaners\\n\\nHVAC\\n\\nLandscaping\\n\\nLocksmiths\\n\\nMovers\\n\\nPlumbers\\n\\nAuto Services\\n\\nAuto Repair\\n\\nAuto Detailing\\n\\nBody Shops\\n\\nCar Wash\\n\\nCar Dealers\\n\\nOil Change\\n\\nParking\\n\\nTowing\\n\\nMore\\n\\nDry Cleaning\\n\\nPhone Repair\\n\\nBars\\n\\nNightlife\\n\\nHair Salons\\n\\nGyms\\n\\nMassage\\n\\nShopping\\n\\nMore\\n\\nFilters\\n\\n$$$$$$$$$$\\n\\nSuggested\\n\\nOpen Now\\n\\n\\\\--:--\\n\\nOffers Delivery\\n\\nReservations\\n\\nFree Wi-Fi\\n\\nOutdoor Seating\\n\\nDogs Allowed\\n\\nFeatures\\n\\nOffers Takeout\\n\\nGood for Groups\\n\\nGood for Dinner\\n\\nGood for Kids\\n\\nSee all\\n\\nDistance\\n\\nBird\\'s-eye View\\n\\nDriving (5 mi.)\\n\\nBiking (2 mi.)\\n\\nWalking (1 mi.)\\n\\nWithin 4 blocks\\n\\nYelpRestaurantsSeafood\\n\\n# The Best 10 Seafood Restaurants near Mountain View, CA 94043\\n\\nSort:Recommended\\n\\nAll\\n\\nPrice\\n\\nOpen NowOffers DeliveryReservationsFree Wi-FiOutdoor SeatingDogs Allowed\\n\\n  *   *   * ### 1. Limón\\n\\n4.0 (266 reviews)\\n\\nPeruvianSeafoodCocktail Bars\\n\\nThis is a placeholder\\n\\n“Everything we ate was delicious. Love the menu- tons of mouth-watering\\nseafood and land animal...” more\\n\\n    * Delivery\\n\\nTakeout\\n\\nFind a Table\\n\\n  * ### 2. Pacific Catch\\n\\n3.8 (1k reviews)\\n\\nSeafoodTacosSushi Bars$$\\n\\nThis is a placeholder\\n\\nOutdoor seating\\n\\nTakes reservations\\n\\n“Personally, I really enjoyed the poke, the Korean-style seafood pancake\\n(again, better at the...” more\\n\\n    * Delivery\\n\\nTakeout\\n\\nStart Order\\n\\n  * ### 3. The Sea by Alexander’s Steakhouse\\n\\n4.1 (1.3k reviews)\\n\\nSeafoodSteakhousesBars$$$$\\n\\nThis is a placeholder\\n\\n“All of the seafood was very fresh, with particularly sweet jumbo shrimp.”\\nmore\\n\\n    * Outdoor seating\\n\\nTakeout\\n\\n  * ### 4. Cap’t Loui\\n\\n4.5 (570 reviews)\\n\\nSeafoodFish & ChipsCajun/Creole$$\\n\\nThis is a placeholder\\n\\nFree parking\\n\\nLarge group friendly\\n\\n“If you order a certain amount of pounds of seafood, you can get extra sides\\nfor free.” more\\n\\n    * Outdoor seating\\n\\nDelivery\\n\\nTakeout\\n\\nStart Order\\n\\n  * ### 5. Rustic House Oyster Bar and Grill - Los Altos\\n\\n4.0 (642 reviews)\\n\\nSeafoodBarsAmerican$$\\n\\nThis is a placeholder\\n\\n“The seafood was delicious and competently prepared: a generously portioned\\ngrouper special on...” more\\n\\n    * Outdoor seating\\n\\nDelivery\\n\\nTakeout\\n\\nStart Order\\n\\n  * ### 6. The City Fish\\n\\n4.4 (1.1k reviews)\\n\\nSandwichesSeafoodFish & Chips$$\\n\\nThis is a placeholder\\n\\n“The reason why I love them is simple - big portions of quality seafood at a\\nreasonable price.” more\\n\\n    * Outdoor seating\\n\\nDelivery\\n\\nTakeout\\n\\nStart Order\\n\\n  * ### 7. Cook’s Seafood\\n\\n3.9 (636 reviews)\\n\\nSeafoodSeafood MarketsFish & Chips$$\\n\\nThis is a placeholder\\n\\n“I decided that I wanted some seafood but I wanted GOOD seafood and not the\\nsame stuff I always have.” more\\n\\n    * Outdoor seating\\n\\nTakeout\\n\\n  * ### 8. King’s Fish House - San Jose\\n\\n4.2 (1.9k reviews)\\n\\nSeafood$$$West San Jose\\n\\nThis is a placeholder\\n\\n“The tartare sauce has great balance of spicy and seafood taste to it, I\\nreally like it. 3.)...” more\\n\\n    * Outdoor seating\\n\\nDelivery\\n\\nTakeout\\n\\n  * ### 9. La Marea of the Sea\\n\\n4.7 (45 reviews)\\n\\nSeafoodFood Stands$\\n\\nThis is a placeholder\\n\\n“The oysters were pretty fresh. They have great condiments to compliment the\\nseafood.” more\\n\\n    * Delivery\\n\\n  * ### 10. Supreme Crab\\n\\n3.7 (262 reviews)\\n\\nSeafoodCajun/Creole\\n\\nThis is a placeholder\\n\\nSports on TV\\n\\nLarge group friendly\\n\\n“Supreme Crab, I save my left over sauce to use on other things and I\\'m a\\nseafood snob.” more\\n\\n    * Outdoor seating\\n\\nDelivery\\n\\nTakeout\\n\\nFind a Table\\n\\n  * 1\\n\\n2\\n\\n3\\n\\n4\\n\\n5\\n\\n6\\n\\n7\\n\\n8\\n\\n9\\n\\n1 of 22\\n\\n  * ## Can\\'t find the business?\\n\\nAdding a business to Yelp is always free.\\n\\nAdd business\\n\\nGot search feedback? Help us improve.\\n\\n  * ## Related Searches in Mountain View, CA\\n\\nBeef Wellington\\n\\nCioppino\\n\\nCrab\\n\\nDinner Reservations\\n\\nFish Tacos\\n\\nMichelada\\n\\nSeafood Boil\\n\\nSeafood Buffet\\n\\nSteakhouses\\n\\n$1 Oysters\\n\\nCajun\\n\\nCajun Seafood Boil\\n\\nCeviche\\n\\nClam Chowder\\n\\nCrab Legs\\n\\nCrawfish\\n\\nFish\\n\\nFish House\\n\\nLobster Roll\\n\\nMariscos\\n\\nOysters\\n\\nRestaurants With a View\\n\\nSalmon\\n\\nScallops\\n\\nAnniversary Dinner\\n\\nCajun Seafood\\n\\nCalamari\\n\\nCrab Boil\\n\\nCrab Sandwich\\n\\nFish & Chips\\n\\nHip New Restaurants\\n\\nOyster Bars\\n\\nRestaurants With Private Rooms\\n\\nSashimi\\n\\nChain Restaurants\\n\\nCrawfish Boil\\n\\nDungeness Crab\\n\\nFine Dining\\n\\nFish Market\\n\\nGrilled Fish\\n\\nMexican Seafood\\n\\nOyster Happy Hour\\n\\nPrime Rib\\n\\nSoft Shell Crab\\n\\nValentines Day Dinner\\n\\n## Trending Searches in Mountain View, CA\\n\\nAsian Supermarket\\n\\nBuy Fresh Oysters\\n\\nCajun Seafood Boil\\n\\nCatfish\\n\\nCaviar\\n\\nCheese Shops\\n\\nChristmas Brunch\\n\\nClam Chowder Bread Bowl\\n\\nDim Sum\\n\\nDry Aged Steak\\n\\nFishmonger\\n\\nGerman Bakery\\n\\nGingerbread Cookies\\n\\nGourmet Cookies\\n\\nGourmet Grocery Stores\\n\\nGumbo\\n\\nItalian Grocery Stores\\n\\nLive Lobster\\n\\nPopcorn Shops\\n\\nRestaurants Open on Christmas Day\\n\\nSashimi\\n\\nSeafood Markets\\n\\nSmoked Salmon\\n\\nSpecialty Food\\n\\nSteak\\n\\nSushi Lunch Special\\n\\nSushi Party Tray\\n\\nWagyu Steak\\n\\nWhiskey Store\\n\\nYule Log Cake\\n\\n## Related Articles\\n\\nTop Buffets in California\\n\\nTop Cajun/Creole in California\\n\\nTop Dim Sum Restaurants in California\\n\\nTop Fish & Chips in California\\n\\nTop Peruvian Restaurants in California\\n\\nTop Restaurants in California\\n\\nTop Seafood Restaurants in California\\n\\nTop Soul Food Restaurants in California\\n\\nTop Steakhouses in California\\n\\nTop Buffets in the US\\n\\nTop Cajun/Creole in the US\\n\\nTop Dim Sum Restaurants in the US\\n\\nTop Fish & Chips in the US\\n\\nTop Peruvian Restaurants in the US\\n\\nTop Restaurants in the US\\n\\nTop Seafood Restaurants in the US\\n\\nTop Soul Food Restaurants in the US\\n\\nTop Steakhouses in the US\\n\\n  *   * ## Search seafood in popular locations\\n\\n### Nearby cities\\n\\nCampbell, CA\\n\\nCupertino, CA\\n\\nLos Altos, CA\\n\\nLos Gatos, CA\\n\\nMilpitas, CA\\n\\nPalo Alto, CA\\n\\nSan Jose, CA\\n\\nSanta Clara, CA\\n\\nSaratoga, CA\\n\\nSunnyvale, CA\\n\\n### More\\n\\nLos Angeles, CA\\n\\nNapa, CA\\n\\nSacramento, CA\\n\\nSan Diego, CA\\n\\nSan Francisco, CA\\n\\nSan Luis Obispo, CA\\n\\nSanta Barbara, CA\\n\\nSanta Rosa, CA\\n\\nStockton, CA\\n\\n  *   *   *   * ## Frequently Asked Questions and Answers\\n\\nWhat are the best seafood takeout restaurants?\\n\\nThese are the best seafood takeout restaurants near Mountain View, CA:\\n\\n    * Cap\\'t Loui\\n\\n    * The City Fish\\n\\n    * King\\'s Fish House - San Jose\\n\\n    * Pacific Catch\\n\\n    * Forthright Oyster Bar & Kitchen\\n\\nPeople also liked: Cheap Seafood Restaurants, Seafood Restaurants Offering\\nReservations\\n\\nWhat did people search for similar to seafood near Mountain View, CA?\\n\\nPeople also searched for these near Mountain View:\\n\\n    * Steak\\n\\n    * Seafood Markets\\n\\n    * Dinner\\n\\n    * Sushi\\n\\n    * Fried Fish\\n\\nSee more seafood near Mountain View.\\n\\nWhat are people saying about seafood restaurants near Mountain View, CA?\\n\\nThis is a review for seafood restaurants near Mountain View, CA:\\n\\n\"Came here for the first time, a bit of a hole in the wall, but prob one of\\nthe best finds! We ordered the clam chowder, fried seafood platter, steamed\\nclams and seafood pasta. The clam chowder was decent and so was the fried\\nseafood platter, but the steamed clams were absolutely the best! I think I\\nfound my new favorite seafood spot. The portions are huge and decently priced,\\nabout $18-20 per entree. Apparently this is a chain with three different\\nlocations. Will definitely be back for the clams!\"\\n\\nSee more reviews for this business.\\n\\nWhat are the best cheap seafood restaurants?\\n\\nThese are the best cheap seafood restaurants near Mountain View, CA:\\n\\n    * Cap\\'t Loui\\n\\n    * The City Fish\\n\\n    * Pacific Catch\\n\\n    * Forthright Oyster Bar & Kitchen\\n\\n    * Rustic House Oyster Bar and Grill - Los Altos\\n\\nPeople also liked: Seafood Takeout Restaurants, Seafood Restaurants Offering\\nReservations\\n\\nWhat are the best seafood restaurants offering reservations?\\n\\nThese are the best seafood restaurants offering reservations near Mountain\\nView, CA:\\n\\n    * King\\'s Fish House - San Jose\\n\\n    * Pacific Catch\\n\\n    * Forthright Oyster Bar & Kitchen\\n\\n    * The Sea by Alexander\\'s Steakhouse\\n\\n    * Rustic House Oyster Bar and Grill - Los Altos\\n\\nPeople also liked: Seafood Takeout Restaurants, Cheap Seafood Restaurants\\n\\nAbout\\n\\n  * About Yelp\\n  * Careers\\n  * Press\\n  * Investor Relations\\n  * Trust & Safety\\n  * Content Guidelines\\n  * Accessibility Statement\\n  * Terms of Service\\n  * Privacy Policy\\n  * Ad Choices\\n  * Your Privacy Choices\\n\\nDiscover\\n\\n  * Yelp Project Cost Guides\\n  * Collections\\n  * Talk\\n  * Events\\n  * Yelp Blog\\n  * Support\\n  * Yelp Mobile\\n  * Developers\\n  * RSS\\n\\nYelp for Business\\n\\n  * Yelp for Business\\n  * Business Owner Login\\n  * Claim your Business Page\\n  * Advertise on Yelp\\n  * Yelp for Restaurant Owners\\n  * Table Management\\n  * Business Success Stories\\n  * Business Support\\n  * Yelp Blog for Business\\n\\nLanguages\\n\\nEnglish\\n\\nCountries\\n\\nUnited States\\n\\n  * About\\n\\n  * Blog\\n\\n  * Support\\n\\n  * Terms\\n\\n  * Privacy Policy\\n\\n  * Your Privacy Choices\\n\\nCopyright © 2004–2023 Yelp Inc. Yelp, ,  and related marks are registered\\ntrademarks of Yelp.\\n\\nSome Data By Acxiom\\n\\n',\n",
              "  'title': 'THE BEST 10 Seafood Restaurants near MOUNTAIN VIEW, CA 94043 - Last Updated December 2023 - Yelp',\n",
              "  'metadata': {'source': 'https://www.yelp.com/search?cflt=seafood&find_loc=Mountain+View%2C+CA+94043',\n",
              "   'title': 'THE BEST 10 Seafood Restaurants near MOUNTAIN VIEW, CA 94043 - Last Updated December 2023 - Yelp',\n",
              "   'description': \"Best Seafood in Mountain View, CA 94043 - Limón, Pacific Catch, The Sea by Alexander's Steakhouse, Cap't Loui, Rustic House Oyster Bar and Grill - Los Altos, The City Fish, Cook’s Seafood, King's Fish House - San Jose, La Marea of the Sea, Supreme Crab\",\n",
              "   'language': 'en-US'},\n",
              "  'clean_content': 'Yelp Yelp for Business Write a Review Log InSign Up Restaurants Delivery\\nBurgers Chinese Italian Reservations Japanese Mexican Thai Home Services\\nContractors Electricians Home Cleaners HVAC Landscaping Locksmiths Movers\\nPlumbers Auto Services Auto Repair Auto Detailing Body Shops Car Wash Car\\nDealers Oil Change Parking Towing More Dry Cleaning Phone Repair Bars\\nNightlife Hair Salons Gyms Massage Shopping More Filters $$$$$$$$$$ Suggested\\nOpen Now \\\\\\\\--:-- Offers Delivery Reservations Free Wi-Fi Outdoor Seating Dogs\\nAllowed Features Offers Takeout Good for Groups Good for Dinner Good for Kids\\nSee all Distance Bird\\'s-eye View Driving (5 mi.) Biking (2 mi.) Walking (1\\nmi.) Within 4 blocks YelpRestaurantsSeafood # The Best 10 Seafood Restaurants\\nnear Mountain View, CA 94043 Sort:Recommended All Price Open NowOffers\\nDeliveryReservationsFree Wi-FiOutdoor SeatingDogs Allowed * * * ### 1. Limón\\n4.0 (266 reviews) PeruvianSeafoodCocktail Bars This is a placeholder\\n“Everything we ate was delicious. Love the menu- tons of mouth-watering\\nseafood and land animal...” more * Delivery Takeout Find a Table * ### 2.\\nPacific Catch 3.8 (1k reviews) SeafoodTacosSushi Bars$$ This is a placeholder\\nOutdoor seating Takes reservations “Personally, I really enjoyed the poke, the\\nKorean-style seafood pancake (again, better at the...” more * Delivery Takeout\\nStart Order * ### 3. The Sea by Alexander’s Steakhouse 4.1 (1.3k reviews)\\nSeafoodSteakhousesBars$$$$ This is a placeholder “All of the seafood was very\\nfresh, with particularly sweet jumbo shrimp.” more * Outdoor seating Takeout *\\n### 4. Cap’t Loui 4.5 (570 reviews) SeafoodFish & ChipsCajun/Creole$$ This is\\na placeholder Free parking Large group friendly “If you order a certain amount\\nof pounds of seafood, you can get extra sides for free.” more * Outdoor\\nseating Delivery Takeout Start Order * ### 5. Rustic House Oyster Bar and\\nGrill - Los Altos 4.0 (642 reviews) SeafoodBarsAmerican$$ This is a\\nplaceholder “The seafood was delicious and competently prepared: a generously\\nportioned grouper special on...” more * Outdoor seating Delivery Takeout Start\\nOrder * ### 6. The City Fish 4.4 (1.1k reviews) SandwichesSeafoodFish &\\nChips$$ This is a placeholder “The reason why I love them is simple - big\\nportions of quality seafood at a reasonable price.” more * Outdoor seating\\nDelivery Takeout Start Order * ### 7. Cook’s Seafood 3.9 (636 reviews)\\nSeafoodSeafood MarketsFish & Chips$$ This is a placeholder “I decided that I\\nwanted some seafood but I wanted GOOD seafood and not the same stuff I always\\nhave.” more * Outdoor seating Takeout * ### 8. King’s Fish House - San Jose\\n4.2 (1.9k reviews) Seafood$$$West San Jose This is a placeholder “The tartare\\nsauce has great balance of spicy and seafood taste to it, I really like it.\\n3.)...” more * Outdoor seating Delivery Takeout * ### 9. La Marea of the Sea\\n4.7 (45 reviews) SeafoodFood Stands$ This is a placeholder “The oysters were\\npretty fresh. They have great condiments to compliment the seafood.” more *\\nDelivery * ### 10. Supreme Crab 3.7 (262 reviews) SeafoodCajun/Creole This is\\na placeholder Sports on TV Large group friendly “Supreme Crab, I save my left\\nover sauce to use on other things and I\\'m a seafood snob.” more * Outdoor\\nseating Delivery Takeout Find a Table * 1 2 3 4 5 6 7 8 9 1 of 22 * ## Can\\'t\\nfind the business? Adding a business to Yelp is always free. Add business Got\\nsearch feedback? Help us improve. * ## Related Searches in Mountain View, CA\\nBeef Wellington Cioppino Crab Dinner Reservations Fish Tacos Michelada Seafood\\nBoil Seafood Buffet Steakhouses $1 Oysters Cajun Cajun Seafood Boil Ceviche\\nClam Chowder Crab Legs Crawfish Fish Fish House Lobster Roll Mariscos Oysters\\nRestaurants With a View Salmon Scallops Anniversary Dinner Cajun Seafood\\nCalamari Crab Boil Crab Sandwich Fish & Chips Hip New Restaurants Oyster Bars\\nRestaurants With Private Rooms Sashimi Chain Restaurants Crawfish Boil\\nDungeness Crab Fine Dining Fish Market Grilled Fish Mexican Seafood Oyster\\nHappy Hour Prime Rib Soft Shell Crab Valentines Day Dinner ## Trending\\nSearches in Mountain View, CA Asian Supermarket Buy Fresh Oysters Cajun\\nSeafood Boil Catfish Caviar Cheese Shops Christmas Brunch Clam Chowder Bread\\nBowl Dim Sum Dry Aged Steak Fishmonger German Bakery Gingerbread Cookies\\nGourmet Cookies Gourmet Grocery Stores Gumbo Italian Grocery Stores Live\\nLobster Popcorn Shops Restaurants Open on Christmas Day Sashimi Seafood\\nMarkets Smoked Salmon Specialty Food Steak Sushi Lunch Special Sushi Party\\nTray Wagyu Steak Whiskey Store Yule Log Cake ## Related Articles Top Buffets\\nin California Top Cajun/Creole in California Top Dim Sum Restaurants in\\nCalifornia Top Fish & Chips in California Top Peruvian Restaurants in\\nCalifornia Top Restaurants in California Top Seafood Restaurants in California\\nTop Soul Food Restaurants in California Top Steakhouses in California Top\\nBuffets in the US Top Cajun/Creole in the US Top Dim Sum Restaurants in the US\\nTop Fish & Chips in the US Top Peruvian Restaurants in the US Top Restaurants\\nin the US Top Seafood Restaurants in the US Top Soul Food Restaurants in the\\nUS Top Steakhouses in the US * * ## Search seafood in popular locations ###\\nNearby cities Campbell, CA Cupertino, CA Los Altos, CA Los Gatos, CA Milpitas,\\nCA Palo Alto, CA San Jose, CA Santa Clara, CA Saratoga, CA Sunnyvale, CA ###\\nMore Los Angeles, CA Napa, CA Sacramento, CA San Diego, CA San Francisco, CA\\nSan Luis Obispo, CA Santa Barbara, CA Santa Rosa, CA Stockton, CA * * * * ##\\nFrequently Asked Questions and Answers What are the best seafood takeout\\nrestaurants? These are the best seafood takeout restaurants near Mountain\\nView, CA: * Cap\\'t Loui * The City Fish * King\\'s Fish House - San Jose *\\nPacific Catch * Forthright Oyster Bar & Kitchen People also liked: Cheap\\nSeafood Restaurants, Seafood Restaurants Offering Reservations What did people\\nsearch for similar to seafood near Mountain View, CA? People also searched for\\nthese near Mountain View: * Steak * Seafood Markets * Dinner * Sushi * Fried\\nFish See more seafood near Mountain View. What are people saying about seafood\\nrestaurants near Mountain View, CA? This is a review for seafood restaurants\\nnear Mountain View, CA: \"Came here for the first time, a bit of a hole in the\\nwall, but prob one of the best finds! We ordered the clam chowder, fried\\nseafood platter, steamed clams and seafood pasta. The clam chowder was decent\\nand so was the fried seafood platter, but the steamed clams were absolutely\\nthe best! I think I found my new favorite seafood spot. The portions are huge\\nand decently priced, about $18-20 per entree. Apparently this is a chain with\\nthree different locations. Will definitely be back for the clams!\" See more\\nreviews for this business. What are the best cheap seafood restaurants? These\\nare the best cheap seafood restaurants near Mountain View, CA: * Cap\\'t Loui *\\nThe City Fish * Pacific Catch * Forthright Oyster Bar & Kitchen * Rustic House\\nOyster Bar and Grill - Los Altos People also liked: Seafood Takeout\\nRestaurants, Seafood Restaurants Offering Reservations What are the best\\nseafood restaurants offering reservations? These are the best seafood\\nrestaurants offering reservations near Mountain View, CA: * King\\'s Fish House\\n- San Jose * Pacific Catch * Forthright Oyster Bar & Kitchen * The Sea by\\nAlexander\\'s Steakhouse * Rustic House Oyster Bar and Grill - Los Altos People\\nalso liked: Seafood Takeout Restaurants, Cheap Seafood Restaurants About *\\nAbout Yelp * Careers * Press * Investor Relations * Trust & Safety * Content\\nGuidelines * Accessibility Statement * Terms of Service * Privacy Policy * Ad\\nChoices * Your Privacy Choices Discover * Yelp Project Cost Guides *\\nCollections * Talk * Events * Yelp Blog * Support * Yelp Mobile * Developers *\\nRSS Yelp for Business * Yelp for Business * Business Owner Login * Claim your\\nBusiness Page * Advertise on Yelp * Yelp for Restaurant Owners * Table\\nManagement * Business Success Stories * Business Support * Yelp Blog for\\nBusiness Languages English Countries United States * About * Blog * Support *\\nTerms * Privacy Policy * Your Privacy Choices Copyright © 2004–2023 Yelp Inc.\\nYelp, , and related marks are registered trademarks of Yelp. Some Data By\\nAcxiom\\n\\n'},\n",
              " {'summary': \"https://us.trip.com/travel-guide/foods/mountain-\\nview-34682-restaurant/googleplex-18697240\\n\\n  * Hotels\\n  * Flights\\n  * Trains\\n  * Cars\\n    * Car Rentals\\n    * Airport Transfers\\n  * Attractions & Tours\\n  * Bundle & Save\\n  * Cruises\\n  * Trip Planner\\n  * Destinations\\n  * Trip.com Rewards\\n  * Deals\\n\\nApp\\n\\nHelp __\\n\\nUSD\\n\\nSearch Bookings\\n\\nHome\\n\\n __Travel Guides\\n\\n __North America\\n\\n __United States\\n\\n __California\\n\\n __Santa Clara County\\n\\n __Mountain View\\n\\n __Googleplex\\n\\n# Googleplex\\n\\n4.6/549 Reviews\\n\\nArchitecture & Landmarks\\n\\n __\\n\\nCurrently closed |Open tomorrow at 08:00\\n\\n __\\n\\n __\\n\\n+1-650-253-0000\\n\\n __\\n\\n __\\n\\n1600 Amphitheatre Pkwy, Mountain View, CA 94043, USA\\n\\nView on Map\\n\\n## Reviews of Googleplex\\n\\n __Some reviews may have been translated by Google Translate\\n\\n4.6/5Outstanding\\n\\nAll (49)\\n\\nLatest\\n\\nWith Photos (37)\\n\\nPositive Reviews (39)\\n\\n  * DEAR张小球\\n\\n5.0/5Outstanding\\n\\nOriginal Text\\n\\nNot going up at home. But to Silicon Valley, you still have to visit Google\\nheadquarters. This is a very great technology Internet company, a company that\\nreally uses technology to change people.\\n\\nShow All\\n\\n __\\n\\nReviewed on 1586999684000\\n\\n  * Rubylanlan\\n\\n5.0/5Outstanding\\n\\nOriginal Text\\n\\nI am also a person who has been to Google! Although it is not Google Powder,\\nhow can there be an inexplicable sense of excitement = = When I came the night\\nbefore, I happened to encounter activities nearby that were not allowed to\\nenter, and I couldn't see it when I was dark. The next day, I didn't die and I\\nhad time to come again. Tiangong is beautiful, especially suitable for\\nplaying! The office building on Saturday is not open, and if there is no\\nfriend to bring it, you can't enter it. There is a parking space at the door\\nof the company, and you can also drive in it. There is no clear gate like the\\ndomestic one, a more casual park. The bicycle does not have a lock, and you\\ncan ride and play when you see it parked. The most frequent tourist is the\\nAndroid Xiaoren Square, take some cute photos~ various photos~\\n\\nShow All\\n\\n __2\\n\\nReviewed on 1578461674000\\n\\n  * 琳达Linda琳达\\n\\n5.0/5Outstanding\\n\\nOriginal Text\\n\\nGoogle headquarters really has to come to punch in. Very open and warm work\\nenvironment, the work here is really a dream. Very design and creative, no\\nwonder Google can develop so well.\\n\\nShow All\\n\\n __\\n\\nReviewed on 1570888928000\\n\\n  * sherrysaramande\\n\\n5.0/5Outstanding\\n\\nOriginal Text\\n\\nSparsely populated, I used to let friends bring rice to dinner, but it won't\\nwork after the epidemic.\\n\\nShow All\\n\\n __\\n\\nReviewed on 1688051985000\\n\\n  * 马普尔太太\\n\\n5.0/5Outstanding\\n\\nOriginal Text\\n\\nVery worth a visit, recommend everyone\\n\\nShow All\\n\\n __\\n\\nReviewed on 1672631937000\\n\\n  * 福尔摩斯先生呢\\n\\n5.0/5Outstanding\\n\\nOriginal Text\\n\\nVery worth a visit, recommend this\\n\\nShow All\\n\\n __\\n\\nReviewed on 1671853296000\\n\\n  * 十字小溪-Y\\n\\n5.0/5Outstanding\\n\\nOriginal Text\\n\\nGoogle headquarters is free to tourists, road signs are obvious, and there is\\na souvenir shop in the visitor center. The whole area is very green, the\\nenvironment is beautiful, there are free bicycles for selection, convenient\\nfor sightseeing. Being in it has a feeling of walking into the campus. The\\nwork area must be entered with a work card.\\n\\nShow All\\n\\n __6\\n\\nReviewed on 1519287573000\\n\\n _\\uf575_\\n\\n  * 1\\n  * 2\\n  * 3\\n  * 4\\n  * 10\\n\\n _\\uf5bf_\\n\\n##  Attractions Near Googleplex\\n\\nSilicon Valley\\n\\n4.5/582 Reviews\\n\\nFeatured Neighborhoods\\n\\n __away\\n\\nGoogleplex\\n\\n4.6/546 Reviews\\n\\nModern ArchitectureHiking/BikingHiking/Biking\\n\\nApple Infinite Loop\\n\\n4.6/538 Reviews\\n\\nModern Architecture\\n\\n __away\\n\\nStanford University\\n\\n4.8/5405 Reviews\\n\\nSchools\\n\\n __away\\n\\nMore attractions near Googleplex\\n\\n##  Restaurants Near Googleplex\\n\\nChez TJ\\n\\n4.3/53 Reviews\\n\\nUS$59\\n\\nWestern-styleSpectacular Views\\n\\n __away\\n\\nPacific Catch\\n\\n4.0/51 Reviews\\n\\nUS$21\\n\\nSeafoodOpen LateSpectacular Views\\n\\n __away\\n\\nCucina Venti Restaurant\\n\\n5.0/51 Reviews\\n\\nUS$28\\n\\nWestern-styleOpen Late\\n\\n __away\\n\\nCascal\\n\\n4.7/53 Reviews\\n\\nUS$24\\n\\nLatin AmericanOpen LateSpectacular Views\\n\\n __away\\n\\nMore restaurants near Googleplex\\n\\n##  Hotels Near Googleplex\\n\\nCrowne Plaza Cabana Hotel, an IHG Hotel\\n\\n __ __ __\\n\\n4.1 /5132 Reviews\\n\\n __away\\n\\nHomewood Suites by Hilton Palo Alto\\n\\n __ __ __\\n\\n4.5 /565 Reviews\\n\\n __away\\n\\nShashi Hotel Mountain View, an Urban Resort\\n\\n __ __ __ __ __\\n\\n4.5 /5110 Reviews\\n\\n __away\\n\\nHilton Garden Inn Palo Alto\\n\\n __ __ __\\n\\n4.3 /5118 Reviews\\n\\n __away\\n\\nMore hotels near Googleplex\\n\\n### Contact Us\\n\\n  * Customer Support\\n  * Service Guarantee\\n  * Website Feedback\\n\\n### About\\n\\n  * About Trip.com\\n  * News\\n  * Careers\\n  * Terms & Conditions\\n  * Privacy Statement\\n  * Do Not Sell My Personal Information\\n  * About Trip.com Group\\n\\n### Other Services\\n\\n  * Investor Relations\\n  * Trip.com Rewards\\n  * Affiliate Program\\n  * List My Hotel\\n  * All Hotels\\n  * Become a Supplier\\n  * Security\\n\\nPayment Methods\\n\\nOur Partners\\n\\nCopyright © 2023 Trip.com Travel Singapore Pte. Ltd. All rights reserved  \\nSite Operator: Trip.com Travel Singapore Pte. Ltd.\\n\\n\",\n",
              "  'title': 'Googleplex restaurants, addresses, phone numbers, photos, real user reviews, 1600 Amphitheatre Pkwy, Mountain View, CA 94043, USA, Mountain View restaurant recommendations - Trip.com',\n",
              "  'metadata': {'source': 'https://us.trip.com/travel-guide/mountain-view-34682-restaurant/googleplex-18697240/',\n",
              "   'title': 'Googleplex restaurants, addresses, phone numbers, photos, real user reviews, 1600 Amphitheatre Pkwy, Mountain View, CA 94043, USA, Mountain View restaurant recommendations - Trip.com',\n",
              "   'description': 'Trip delicious',\n",
              "   'language': 'en-US'},\n",
              "  'clean_content': \"https://us.trip.com/travel-guide/foods/mountain-\\nview-34682-restaurant/googleplex-18697240 * Hotels * Flights * Trains * Cars *\\nCar Rentals * Airport Transfers * Attractions & Tours * Bundle & Save *\\nCruises * Trip Planner * Destinations * Trip.com Rewards * Deals App Help __\\nUSD Search Bookings Home __Travel Guides __North America __United States\\n__California __Santa Clara County __Mountain View __Googleplex # Googleplex\\n4.6/549 Reviews Architecture & Landmarks __ Currently closed |Open tomorrow at\\n08:00 __ __ +1-650-253-0000 __ __ 1600 Amphitheatre Pkwy, Mountain View, CA\\n94043, USA View on Map ## Reviews of Googleplex __Some reviews may have been\\ntranslated by Google Translate 4.6/5Outstanding All (49) Latest With Photos\\n(37) Positive Reviews (39) * DEAR张小球 5.0/5Outstanding Original Text Not going\\nup at home. But to Silicon Valley, you still have to visit Google\\nheadquarters. This is a very great technology Internet company, a company that\\nreally uses technology to change people. Show All __ Reviewed on 1586999684000\\n* Rubylanlan 5.0/5Outstanding Original Text I am also a person who has been to\\nGoogle! Although it is not Google Powder, how can there be an inexplicable\\nsense of excitement = = When I came the night before, I happened to encounter\\nactivities nearby that were not allowed to enter, and I couldn't see it when I\\nwas dark. The next day, I didn't die and I had time to come again. Tiangong is\\nbeautiful, especially suitable for playing! The office building on Saturday is\\nnot open, and if there is no friend to bring it, you can't enter it. There is\\na parking space at the door of the company, and you can also drive in it.\\nThere is no clear gate like the domestic one, a more casual park. The bicycle\\ndoes not have a lock, and you can ride and play when you see it parked. The\\nmost frequent tourist is the Android Xiaoren Square, take some cute photos~\\nvarious photos~ Show All __2 Reviewed on 1578461674000 * 琳达Linda琳达\\n5.0/5Outstanding Original Text Google headquarters really has to come to punch\\nin. Very open and warm work environment, the work here is really a dream. Very\\ndesign and creative, no wonder Google can develop so well. Show All __\\nReviewed on 1570888928000 * sherrysaramande 5.0/5Outstanding Original Text\\nSparsely populated, I used to let friends bring rice to dinner, but it won't\\nwork after the epidemic. Show All __ Reviewed on 1688051985000 * 马普尔太太\\n5.0/5Outstanding Original Text Very worth a visit, recommend everyone Show All\\n__ Reviewed on 1672631937000 * 福尔摩斯先生呢 5.0/5Outstanding Original Text Very\\nworth a visit, recommend this Show All __ Reviewed on 1671853296000 * 十字小溪-Y\\n5.0/5Outstanding Original Text Google headquarters is free to tourists, road\\nsigns are obvious, and there is a souvenir shop in the visitor center. The\\nwhole area is very green, the environment is beautiful, there are free\\nbicycles for selection, convenient for sightseeing. Being in it has a feeling\\nof walking into the campus. The work area must be entered with a work card.\\nShow All __6 Reviewed on 1519287573000 _\\uf575_ * 1 * 2 * 3 * 4 * 10 _\\uf5bf_ ##\\nAttractions Near Googleplex Silicon Valley 4.5/582 Reviews Featured\\nNeighborhoods __away Googleplex 4.6/546 Reviews Modern\\nArchitectureHiking/BikingHiking/Biking Apple Infinite Loop 4.6/538 Reviews\\nModern Architecture __away Stanford University 4.8/5405 Reviews Schools __away\\nMore attractions near Googleplex ## Restaurants Near Googleplex Chez TJ 4.3/53\\nReviews US$59 Western-styleSpectacular Views __away Pacific Catch 4.0/51\\nReviews US$21 SeafoodOpen LateSpectacular Views __away Cucina Venti Restaurant\\n5.0/51 Reviews US$28 Western-styleOpen Late __away Cascal 4.7/53 Reviews US$24\\nLatin AmericanOpen LateSpectacular Views __away More restaurants near\\nGoogleplex ## Hotels Near Googleplex Crowne Plaza Cabana Hotel, an IHG Hotel\\n__ __ __ 4.1 /5132 Reviews __away Homewood Suites by Hilton Palo Alto __ __ __\\n4.5 /565 Reviews __away Shashi Hotel Mountain View, an Urban Resort __ __ __\\n__ __ 4.5 /5110 Reviews __away Hilton Garden Inn Palo Alto __ __ __ 4.3 /5118\\nReviews __away More hotels near Googleplex ### Contact Us * Customer Support *\\nService Guarantee * Website Feedback ### About * About Trip.com * News *\\nCareers * Terms & Conditions * Privacy Statement * Do Not Sell My Personal\\nInformation * About Trip.com Group ### Other Services * Investor Relations *\\nTrip.com Rewards * Affiliate Program * List My Hotel * All Hotels * Become a\\nSupplier * Security Payment Methods Our Partners Copyright © 2023 Trip.com\\nTravel Singapore Pte. Ltd. All rights reserved Site Operator: Trip.com Travel\\nSingapore Pte. Ltd.\\n\\n\"}]"
            ]
          },
          "metadata": {},
          "execution_count": 12
        }
      ],
      "source": [
        "structured_response"
      ]
    },
    {
      "cell_type": "markdown",
      "source": [
        "## **Quick Function Test**"
      ],
      "metadata": {
        "id": "jhSPN8Sm9HE3"
      }
    },
    {
      "cell_type": "code",
      "source": [
        "!pip install requests html2text beautifulsoup4"
      ],
      "metadata": {
        "colab": {
          "base_uri": "https://localhost:8080/"
        },
        "id": "fWFpbK2b3nf3",
        "outputId": "aaf49f21-7c55-485c-b967-836aa3de7ce1"
      },
      "execution_count": 13,
      "outputs": [
        {
          "output_type": "stream",
          "name": "stdout",
          "text": [
            "Requirement already satisfied: requests in /usr/local/lib/python3.10/dist-packages (2.31.0)\n",
            "Requirement already satisfied: html2text in /usr/local/lib/python3.10/dist-packages (2020.1.16)\n",
            "Requirement already satisfied: beautifulsoup4 in /usr/local/lib/python3.10/dist-packages (4.11.2)\n",
            "Requirement already satisfied: charset-normalizer<4,>=2 in /usr/local/lib/python3.10/dist-packages (from requests) (3.3.2)\n",
            "Requirement already satisfied: idna<4,>=2.5 in /usr/local/lib/python3.10/dist-packages (from requests) (3.6)\n",
            "Requirement already satisfied: urllib3<3,>=1.21.1 in /usr/local/lib/python3.10/dist-packages (from requests) (1.26.18)\n",
            "Requirement already satisfied: certifi>=2017.4.17 in /usr/local/lib/python3.10/dist-packages (from requests) (2023.11.17)\n",
            "Requirement already satisfied: soupsieve>1.2 in /usr/local/lib/python3.10/dist-packages (from beautifulsoup4) (2.5)\n"
          ]
        }
      ]
    },
    {
      "cell_type": "code",
      "source": [
        "import requests\n",
        "from bs4 import BeautifulSoup\n",
        "import html2text\n",
        "\n",
        "def scrape_website(url):\n",
        "    try:\n",
        "        # Send an HTTP request to the URL\n",
        "        response = requests.get(url)\n",
        "\n",
        "        # Check if the request was successful (status code 200)\n",
        "        if response.status_code == 200:\n",
        "            return html2text.html2text(response.text)\n",
        "\n",
        "        else:\n",
        "            print(f\"Failed to retrieve content. Status code: {response.status_code}\")\n",
        "\n",
        "    except Exception as e:\n",
        "        print(f\"An error occurred: {e}\")"
      ],
      "metadata": {
        "id": "CUS28NI63lD7"
      },
      "execution_count": 14,
      "outputs": []
    },
    {
      "cell_type": "code",
      "source": [
        "url = f'https://www.google.com/search?q={search_query}'\n",
        "print(url)\n",
        "google_search_content = scrape_website(url)\n",
        "google_search_content"
      ],
      "metadata": {
        "colab": {
          "base_uri": "https://localhost:8080/",
          "height": 0
        },
        "id": "tb6v5tW59Bo3",
        "outputId": "92ea5e4b-8503-4523-b066-671e32ef0048"
      },
      "execution_count": 15,
      "outputs": [
        {
          "output_type": "stream",
          "name": "stdout",
          "text": [
            "https://www.google.com/search?q=Sea food near Googleplex\n",
            "1600 Amphitheatre Parkway\n",
            "Mountain View, CA 94043\n",
            "United States\n"
          ]
        },
        {
          "output_type": "execute_result",
          "data": {
            "text/plain": [
              "\"[Google](/?sa=X&ved=0ahUKEwjgq5Hp_aGDAxUlSjABHVEPBMYQOwgC)\\n\\n×\\n\\nPlease click\\n[here](/search?q=Sea+food+near+Googleplex%0A1600+Amphitheatre+Parkway%0AMountain+View,+CA+94043%0AUnited+States&sca_esv=0905b5e61dfd1a4f&sca_upv=1&ie=UTF-8&gbv=1&sei=fvKEZeD0BKWUwbkP0Z6QsAw)\\nif you are not redirected within a few seconds.\\n\\nAll[Maps](/url?q=https://maps.google.com/maps%3Fq%3DSeafood%2Bnear%2BGoogleplex%250A1600%2BAmphitheatre%2BParkway%250AMountain%2BView,%2BCA%2B94043%250AUnited%2BStates%26um%3D1%26ie%3DUTF-8&opi=89978449&sa=U&ved=0ahUKEwjgq5Hp_aGDAxUlSjABHVEPBMYQiaAMCAYoAQ&usg=AOvVaw0QB7Fpdtc19-7bMUKHFjT8)[Videos](/search?q=Seafood+near+Googleplex%0A1600+Amphitheatre+Parkway%0AMountain+View,+CA+94043%0AUnited+States&sca_esv=0905b5e61dfd1a4f&sca_upv=1&ie=UTF-8&tbm=vid&source=lnms&sa=X&ved=0ahUKEwjgq5Hp_aGDAxUlSjABHVEPBMYQ_AUIBygC)[Books](/search?q=Seafood+near+Googleplex%0A1600+Amphitheatre+Parkway%0AMountain+View,+CA+94043%0AUnited+States&sca_esv=0905b5e61dfd1a4f&sca_upv=1&ie=UTF-8&tbm=bks&source=lnms&sa=X&ved=0ahUKEwjgq5Hp_aGDAxUlSjABHVEPBMYQ_AUICCgD)\\n[Images](/search?q=Seafood+near+Googleplex%0A1600+Amphitheatre+Parkway%0AMountain+View,+CA+94043%0AUnited+States&sca_esv=0905b5e61dfd1a4f&sca_upv=1&ie=UTF-8&tbm=isch&source=lnms&sa=X&ved=0ahUKEwjgq5Hp_aGDAxUlSjABHVEPBMYQ_AUICSgE)\\n[News](/search?q=Seafood+near+Googleplex%0A1600+Amphitheatre+Parkway%0AMountain+View,+CA+94043%0AUnited+States&sca_esv=0905b5e61dfd1a4f&sca_upv=1&ie=UTF-8&tbm=nws&source=lnms&sa=X&ved=0ahUKEwjgq5Hp_aGDAxUlSjABHVEPBMYQ_AUICigF)\\n[Shopping](/url?q=/search%3Fq%3DSeafood%2Bnear%2BGoogleplex%250A1600%2BAmphitheatre%2BParkway%250AMountain%2BView,%2BCA%2B94043%250AUnited%2BStates%26sca_esv%3D0905b5e61dfd1a4f%26sca_upv%3D1%26ie%3DUTF-8%26tbm%3Dshop%26source%3Dlnms&opi=89978449&sa=U&ved=0ahUKEwjgq5Hp_aGDAxUlSjABHVEPBMYQiaAMCAsoBg&usg=AOvVaw2dJqp5G0vwTj69bixmXczR)\\n\\n[Search tools](/advanced_search)\\n\\nAny time\\n\\n  * Any time\\n  * [Past hour](/search?q=Seafood+near+Googleplex%0A1600+Amphitheatre+Parkway%0AMountain+View,+CA+94043%0AUnited+States&sca_esv=0905b5e61dfd1a4f&sca_upv=1&ie=UTF-8&source=lnt&tbs=qdr:h&sa=X&ved=0ahUKEwjgq5Hp_aGDAxUlSjABHVEPBMYQpwUIDQ)\\n  * [Past 24 hours](/search?q=Seafood+near+Googleplex%0A1600+Amphitheatre+Parkway%0AMountain+View,+CA+94043%0AUnited+States&sca_esv=0905b5e61dfd1a4f&sca_upv=1&ie=UTF-8&source=lnt&tbs=qdr:d&sa=X&ved=0ahUKEwjgq5Hp_aGDAxUlSjABHVEPBMYQpwUIDg)\\n  * [Past week](/search?q=Seafood+near+Googleplex%0A1600+Amphitheatre+Parkway%0AMountain+View,+CA+94043%0AUnited+States&sca_esv=0905b5e61dfd1a4f&sca_upv=1&ie=UTF-8&source=lnt&tbs=qdr:w&sa=X&ved=0ahUKEwjgq5Hp_aGDAxUlSjABHVEPBMYQpwUIDw)\\n  * [Past month](/search?q=Seafood+near+Googleplex%0A1600+Amphitheatre+Parkway%0AMountain+View,+CA+94043%0AUnited+States&sca_esv=0905b5e61dfd1a4f&sca_upv=1&ie=UTF-8&source=lnt&tbs=qdr:m&sa=X&ved=0ahUKEwjgq5Hp_aGDAxUlSjABHVEPBMYQpwUIEA)\\n  * [Past year](/search?q=Seafood+near+Googleplex%0A1600+Amphitheatre+Parkway%0AMountain+View,+CA+94043%0AUnited+States&sca_esv=0905b5e61dfd1a4f&sca_upv=1&ie=UTF-8&source=lnt&tbs=qdr:y&sa=X&ved=0ahUKEwjgq5Hp_aGDAxUlSjABHVEPBMYQpwUIEQ)\\n\\nAll results\\n\\n  * All results\\n  * [Verbatim](/search?q=Sea+food+near+Googleplex%0A1600+Amphitheatre+Parkway%0AMountain+View,+CA+94043%0AUnited+States&sca_esv=0905b5e61dfd1a4f&sca_upv=1&ie=UTF-8&source=lnt&tbs=li:1&sa=X&ved=0ahUKEwjgq5Hp_aGDAxUlSjABHVEPBMYQpwUIEw)\\n\\nShowing results for [**_Seafood_** near Googleplex 1600 Amphitheatre Parkway\\nMountain View, CA 94043 United\\nStates](/search?sca_esv=0905b5e61dfd1a4f&sca_upv=1&ie=UTF-8&q=Seafood+near+Googleplex%0A1600+Amphitheatre+Parkway%0AMountain+View,+CA+94043%0AUnited+States&spell=1)\\n\\nSearch instead for [Sea food near Googleplex 1600 Amphitheatre Parkway\\nMountain View, CA 94043 United\\nStates](/search?sca_esv=0905b5e61dfd1a4f&sca_upv=1&ie=UTF-8&q=Sea+food+near+Googleplex%0A1600+Amphitheatre+Parkway%0AMountain+View,+CA+94043%0AUnited+States&nfpr=1&sa=X&ved=2ahUKEwjgq5Hp_aGDAxUlSjABHVEPBMYQvgV6BAgMEAI)\\n\\n##\\n\\nPlaces\\n\\nnear Googleplex, 1600 Amphitheatre Pkwy, Mountain View, CA\\n\\n[![Map\\nimage](data:image/gif;base64,R0lGODlhAQABAIAAAP///////yH5BAEKAAEALAAAAAABAAEAAAICTAEAOw==)](/url?q=https://maps.google.com/maps%3Fum%3D1%26ie%3DUTF-8%26fb%3D1%26gl%3Dus%26sa%3DX%26sll%3D37.409418,-122.110806%26sspn%3D0.01309,0.0219729%26q%3DSeafood%2Bnear%2BGoogleplex%250A1600%2BAmphitheatre%2BParkway%250AMountain%2BView,%2BCA%2B94043%250AUnited%2BStates&sa=U&ved=2ahUKEwjgq5Hp_aGDAxUlSjABHVEPBMYQtZwMegQIABAB&usg=AOvVaw2OD-l4PvKsevfDG698AdKe)\\n\\n[\\n\\n### Pacific Catch\\n\\n4.3 (1,287) · $$  \\nSeafood ⋅ 545 San Antonio Rd Suite 34  \\nPan-Pacific seafood eatery with a\\npatio](/search?sca_esv=0905b5e61dfd1a4f&sca_upv=1&ie=UTF-8&q=Pacific+Catch+Mountain+View,+CA&ludocid=11530031354653019358&lsig=AB86z5UKA1Qyk_IMl_EuNnvNi3K3&phdesc=e44nj9qSoZw&sa=X&ved=2ahUKEwjgq5Hp_aGDAxUlSjABHVEPBMYQvS56BAgAEAQ)\\n\\n[![Arrow](data:image/gif;base64,R0lGODlhAQABAIAAAP///////yH5BAEKAAEALAAAAAABAAEAAAICTAEAOw==)](/search?sca_esv=0905b5e61dfd1a4f&sca_upv=1&ie=UTF-8&q=Pacific+Catch+Mountain+View,+CA&ludocid=11530031354653019358&lsig=AB86z5UKA1Qyk_IMl_EuNnvNi3K3&phdesc=e44nj9qSoZw&sa=X&ved=2ahUKEwjgq5Hp_aGDAxUlSjABHVEPBMYQ_pABegQIABAF)\\n\\n[\\n\\n### The Cookout Food Truck\\n\\n4.5 (22) · $  \\nFish & Chips ⋅ 2534 Old Middlefield\\nWay](/search?sca_esv=0905b5e61dfd1a4f&sca_upv=1&ie=UTF-8&q=The+Cookout+Food+Truck+Mountain+View,+CA&ludocid=11552274259547282965&lsig=AB86z5UQOzQDDMzYlifmWMwL08IF&phdesc=0Fde7Ae7v8A&sa=X&ved=2ahUKEwjgq5Hp_aGDAxUlSjABHVEPBMYQvS56BAgAEAc)\\n\\n[![Arrow](data:image/gif;base64,R0lGODlhAQABAIAAAP///////yH5BAEKAAEALAAAAAABAAEAAAICTAEAOw==)](/search?sca_esv=0905b5e61dfd1a4f&sca_upv=1&ie=UTF-8&q=The+Cookout+Food+Truck+Mountain+View,+CA&ludocid=11552274259547282965&lsig=AB86z5UQOzQDDMzYlifmWMwL08IF&phdesc=0Fde7Ae7v8A&sa=X&ved=2ahUKEwjgq5Hp_aGDAxUlSjABHVEPBMYQ_pABegQIABAI)\\n\\n[\\n\\n### The Sea by Alexander's Steakhouse\\n\\n4.5 (1,208) · $$$$  \\nSeafood ⋅ Palo Alto, CA  \\nPrime aged beef with Japanese\\ninfluences](/search?sca_esv=0905b5e61dfd1a4f&sca_upv=1&ie=UTF-8&q=The+Sea+by+Alexander's+Steakhouse+Palo+Alto,+CA&ludocid=11321133157872368943&lsig=AB86z5VzS8dTmCMSuGh7dBbtsrvr&phdesc=IWN8vfEdIPc&sa=X&ved=2ahUKEwjgq5Hp_aGDAxUlSjABHVEPBMYQvS56BAgAEAo)\\n\\n[![Arrow](data:image/gif;base64,R0lGODlhAQABAIAAAP///////yH5BAEKAAEALAAAAAABAAEAAAICTAEAOw==)](/search?sca_esv=0905b5e61dfd1a4f&sca_upv=1&ie=UTF-8&q=The+Sea+by+Alexander's+Steakhouse+Palo+Alto,+CA&ludocid=11321133157872368943&lsig=AB86z5VzS8dTmCMSuGh7dBbtsrvr&phdesc=IWN8vfEdIPc&sa=X&ved=2ahUKEwjgq5Hp_aGDAxUlSjABHVEPBMYQ_pABegQIABAL)\\n\\n[![](data:image/png;base64,iVBORw0KGgoAAAANSUhEUgAAADAAAAAwCAQAAAD9CzEMAAAAaklEQVRYw+2VOwqAQAwFcy0/13qFYLF6ZD1ALNxWUfSByEzqnSmykAgAuIkmFad+ViptCY3KOp6EGi0kSJAgsT/JB1PcgSuJbwfeX7Ra6z9y6zv0Z/oV/ZG+R38WGMzHJULFqq8Jpx7gp2wNbJTpL+jhtwAAAABJRU5ErkJggg==)More\\nplaces](/search?sca_esv=0905b5e61dfd1a4f&sca_upv=1&ie=UTF-8&tbs=lf:1,lf_ui:9&q=Seafood+near+Googleplex%0A1600+Amphitheatre+Parkway%0AMountain+View,+CA+94043%0AUnited+States&rlst=f&rflfq=1&num=10&sa=X&ved=2ahUKEwjgq5Hp_aGDAxUlSjABHVEPBMYQjGp6BAgAEAw)\\n\\n[\\n\\n### THE BEST 10 Seafood Restaurants near MOUNTAIN VIEW, CA 94043\\n\\nwww.yelp.com › Yelp › Restaurants ›\\nSeafood](/url?q=https://www.yelp.com/search%3Fcflt%3Dseafood%26find_loc%3DMountain%2BView%252C%2BCA%2B94043&sa=U&ved=2ahUKEwjgq5Hp_aGDAxUlSjABHVEPBMYQFnoECAsQAg&usg=AOvVaw064Ox7YYubbmsgF57fQhKH)\\n\\nBest Seafood in Mountain View, CA - Limón, Pacific Catch, The Sea by\\nAlexander's Steakhouse, Cap't Loui, Rustic House Oyster Bar and Grill - Los\\nAltos, ...\\n\\nMissing: Googleplex 1600 Amphitheatre\\n\\n[\\n\\n### THE BEST Seafood Restaurants in Mountain View (Updated 2023)\\n\\nwww.tripadvisor.com › United States › California (CA) › Mountain\\nView](/url?q=https://www.tripadvisor.com/Restaurants-g32761-c33-Mountain_View_California.html&sa=U&ved=2ahUKEwjgq5Hp_aGDAxUlSjABHVEPBMYQFnoECAkQAg&usg=AOvVaw1mgaBA6fl87-9vVPE_Ph7f)\\n\\nSeafood Restaurants in Mountain View ; 1. Pacific Catch. (172) · American,\\nSeafood$$ - $$$ Menu ; 2. The Sea by Alexander's Steakhouse. (233).\\n\\nMissing: Googleplex 1600 Amphitheatre Parkway\\n\\n[\\n\\n### 15 Best Seafood Restaurants In Mountain View | OpenTable\\n\\nwww.opentable.com › San Francisco Bay\\nArea](/url?q=https://www.opentable.com/cuisine/best-seafood-restaurants-\\nmountain-view-\\nca&sa=U&ved=2ahUKEwjgq5Hp_aGDAxUlSjABHVEPBMYQFnoECAoQAg&usg=AOvVaw1qORIaLHhykvLzkk8zn994)\\n\\n1\\\\. Vaso Azzurro. 4.7 · (620) · Seafood • Mountain View. Booked 3 times today\\n; 2. Sundance The Steakhouse. 4.8 · (5026) · Seafood • Palo Alto. Booked 45\\ntimes today.\\n\\nMissing: Googleplex 1600 Amphitheatre Parkway 94043\\n\\n[\\n\\n### CHARLIE'S CAFE, Mountain View - Restaurant Reviews & Photos\\n\\nwww.tripadvisor.com › United States › California (CA) › Mountain\\nView](/url?q=https://www.tripadvisor.com/Restaurant_Review-g32761-d9758184-Reviews-\\nCharlie_s_Cafe-\\nMountain_View_California.html&sa=U&ved=2ahUKEwjgq5Hp_aGDAxUlSjABHVEPBMYQFnoECAIQAg&usg=AOvVaw10NtA5wGy6d3pTUivYmerK)\\n\\nRating 4.5\\n\\n(6)\\n\\nLocation and contact. 1600 Amphitheatre Pkwy Googleplex, Mountain View, CA\\n94043-1351 ... in the United States. If you are a resident of another country\\nor region ...\\n\\n[\\n\\n### Best 30 Seafood Restaurants in Mountain View, CA with Reviews\\n\\nwww.yellowpages.com › CA › Mountain\\nView](/url?q=https://www.yellowpages.com/mountain-view-ca/seafood-\\nrestaurants&sa=U&ved=2ahUKEwjgq5Hp_aGDAxUlSjABHVEPBMYQFnoECAQQAg&usg=AOvVaw0yFlBROdYoW8__fGiAN6Tm)\\n\\nSeafood restaurants in Mountain View, CA · 1.Drunken Lobster. 212 Castro St ·\\n2.Pacific Catch. 545 San Antonio Rd Ste 34 · 3.Palani Malai Inc.\\n\\n[\\n\\n### Charlie's Cafe - 1600 Amphitheatre Pkwy - Foursquare\\n\\nfoursquare.com › charlies-cafe](/url?q=https://foursquare.com/v/charlies-\\ncafe/4ae5fb66f964a520c5a321e3&sa=U&ved=2ahUKEwjgq5Hp_aGDAxUlSjABHVEPBMYQFnoECAcQAg&usg=AOvVaw3JQbjIJVlQrpDG-\\naONdkdd)\\n\\n1600 Amphitheatre Pkwy, Mountain View, CA 94043, United States · Directions\\nDirections. See more. Wi-Fi: Free. Check out what people talk about: all tips\\nand ...\\n\\n[\\n\\n### Great places to go near Google Android Statues Square ... - Trip.com\\n\\nus.trip.com › blog › attraction › google-android-statues-\\nsquare-33087764](/url?q=https://us.trip.com/blog/attraction/near/google-\\nandroid-statues-\\nsquare-33087764/&sa=U&ved=2ahUKEwjgq5Hp_aGDAxUlSjABHVEPBMYQFnoECAgQAg&usg=AOvVaw0_Ov55acoivd4Yox-N2DZe)\\n\\n522m. Recommended sightseeing time:1-2 hours. Address: 1600 Amphitheatre Pkwy,\\nMountain View, CA 94043, USA ... Address: Moffett Blvd, Mountain View, CA\\n94043, ...\\n\\n[\\n\\n### Great places to go near Shoreline Amphitheatre in December ...\\n\\nus.trip.com › blog › attraction › near › shoreline-\\namphitheatre-58287103](/url?q=https://us.trip.com/blog/attraction/near/shoreline-\\namphitheatre-58287103/&sa=U&ved=2ahUKEwjgq5Hp_aGDAxUlSjABHVEPBMYQFnoECAYQAg&usg=AOvVaw1ZLC7l8kqDtAZIGqqJVGqY)\\n\\nGoogleplex. Opening Hours: Open 08:00-17:00. Distance: 614m. Recommended\\nsightseeing time:1-2 hour. Address: 1600 Amphitheatre Pkwy, Mountain View, CA\\n94043, ...\\n\\n[\\n\\n### THE BEST 10 Seafood Restaurants near Castro St, Mountain View ...\\n\\nwww.yelp.com › Yelp › Restaurants ›\\nSeafood](/url?q=https://www.yelp.com/search%3Fcflt%3Dseafood%26find_loc%3DCastro%2BSt%252C%2BMountain%2BView%252C%2BCA%2B94041&sa=U&ved=2ahUKEwjgq5Hp_aGDAxUlSjABHVEPBMYQFnoECAUQAg&usg=AOvVaw0VQfz0j9IPvD9axoGIkpAy)\\n\\nThe Best 10 Seafood Restaurants near Castro St, Mountain View, CA 94041 ;\\nLimón · (209 reviews). Peruvian, Seafood, Cocktail Bars ; Vida Tapas Y\\nCocteles · (232 ...\\n\\n[\\n\\n### What to do in San Jose: 10 Things to do in a Tech-focused city - Sixt\\n\\nwww.sixt.com › magazine › travel › what-to-do-in-san-\\njose](/url?q=https://www.sixt.com/magazine/travel/what-to-do-in-san-\\njose/&sa=U&ved=2ahUKEwjgq5Hp_aGDAxUlSjABHVEPBMYQFnoECAMQAg&usg=AOvVaw2nuQEdPdGFs5AZH16ZZDyH)\\n\\nAddress: 1600 Amphitheatre Pkwy, Mountain View, CA 94043. Entry fees: Free.\\nHours: Open daily. Time required to see the attraction: A few hours. 9.\\nComputer ...\\n\\nRelated searches\\n\\n[![](data:image/gif;base64,R0lGODlhAQABAIAAAP///////yH5BAEKAAEALAAAAAABAAEAAAICTAEAOw==)Best\\nseafood near googleplex 1600 amphitheatre parkway mountain view ca 94043\\nunited\\nstates](/search?sca_esv=0905b5e61dfd1a4f&sca_upv=1&ie=UTF-8&q=Best+seafood+near+googleplex+1600+amphitheatre+parkway+mountain+view+ca+94043+united+states&sa=X&ved=2ahUKEwjgq5Hp_aGDAxUlSjABHVEPBMYQ1QJ6BAgBEAI)\\n\\n[![](data:image/gif;base64,R0lGODlhAQABAIAAAP///////yH5BAEKAAEALAAAAAABAAEAAAICTAEAOw==)New\\nseafood near googleplex 1600 amphitheatre parkway mountain view ca 94043\\nunited\\nstates](/search?sca_esv=0905b5e61dfd1a4f&sca_upv=1&ie=UTF-8&q=New+seafood+near+googleplex+1600+amphitheatre+parkway+mountain+view+ca+94043+united+states&sa=X&ved=2ahUKEwjgq5Hp_aGDAxUlSjABHVEPBMYQ1QJ6BAgBEAQ)\\n\\n[![](data:image/gif;base64,R0lGODlhAQABAIAAAP///////yH5BAEKAAEALAAAAAABAAEAAAICTAEAOw==)Cheap\\nseafood near googleplex 1600 amphitheatre parkway mountain view ca 94043\\nunited\\nstates](/search?sca_esv=0905b5e61dfd1a4f&sca_upv=1&ie=UTF-8&q=Cheap+seafood+near+googleplex+1600+amphitheatre+parkway+mountain+view+ca+94043+united+states&sa=X&ved=2ahUKEwjgq5Hp_aGDAxUlSjABHVEPBMYQ1QJ6BAgBEAY)\\n\\n[![](data:image/gif;base64,R0lGODlhAQABAIAAAP///////yH5BAEKAAEALAAAAAABAAEAAAICTAEAOw==)Pacific\\nCatch](/search?sca_esv=0905b5e61dfd1a4f&sca_upv=1&ie=UTF-8&q=Pacific+Catch&sa=X&ved=2ahUKEwjgq5Hp_aGDAxUlSjABHVEPBMYQ1QJ6BAgBEAg)\\n\\n[![](data:image/gif;base64,R0lGODlhAQABAIAAAP///////yH5BAEKAAEALAAAAAABAAEAAAICTAEAOw==)Pacific\\nCatch Mountain View\\nreviews](/search?sca_esv=0905b5e61dfd1a4f&sca_upv=1&ie=UTF-8&q=Pacific+Catch+Mountain+View+reviews&sa=X&ved=2ahUKEwjgq5Hp_aGDAxUlSjABHVEPBMYQ1QJ6BAgBEAo)\\n\\n[Next\\n>](/search?q=Seafood+near+Googleplex%0A1600+Amphitheatre+Parkway%0AMountain+View,+CA+94043%0AUnited+States&sca_esv=0905b5e61dfd1a4f&sca_upv=1&ie=UTF-8&ei=fvKEZeD0BKWUwbkP0Z6QsAw&start=10&sa=N)\\n\\nUnited States\\n\\nFrom your IP address - [Learn\\nmore](/url?q=https://support.google.com/websearch%3Fp%3Dws_settings_location%26hl%3Den&opi=89978449&sa=U&ved=0ahUKEwjgq5Hp_aGDAxUlSjABHVEPBMYQty4IXw&usg=AOvVaw390jTFMtX-\\nXfhPI-kjtshg)\\n\\n[Sign\\nin](/url?q=https://accounts.google.com/ServiceLogin%3Fcontinue%3Dhttps://www.google.com/search%253Fq%253DSea%252Bfood%252Bnear%252BGoogleplex%25250A1600%252BAmphitheatre%252BParkway%25250AMountain%252BView,%252BCA%252B94043%25250AUnited%252BStates%26hl%3Den&opi=89978449&sa=U&ved=0ahUKEwjgq5Hp_aGDAxUlSjABHVEPBMYQxs8CCGA&usg=AOvVaw2xI2Q4W_35pV5oheFRE6mq)\\n\\n[Settings](https://www.google.com/preferences?hl=en&fg=1&sa=X&ved=0ahUKEwjgq5Hp_aGDAxUlSjABHVEPBMYQ5fUCCGE)[Privacy](https://policies.google.com/privacy?hl=en&fg=1)[Terms](https://policies.google.com/terms?hl=en&fg=1)[Dark\\ntheme:\\nOff](/setprefs?hl=en&prev=https://www.google.com/search?q%3DSea%2Bfood%2Bnear%2BGoogleplex%250A1600%2BAmphitheatre%2BParkway%250AMountain%2BView,%2BCA%2B94043%250AUnited%2BStates%26pccc%3D1&sig=0_nTmrscArp17eX3otft8Wmoxgcdo%3D&cs=2&sa=X&ved=0ahUKEwjgq5Hp_aGDAxUlSjABHVEPBMYQjcAJCGI)\\n\\n\""
            ],
            "application/vnd.google.colaboratory.intrinsic+json": {
              "type": "string"
            }
          },
          "metadata": {},
          "execution_count": 15
        }
      ]
    },
    {
      "cell_type": "code",
      "source": [
        "import vertexai\n",
        "from vertexai.preview.generative_models import GenerativeModel, Part\n",
        "\n",
        "def google_search_formated_response(content, max_output_tokens=7815):\n",
        "  model = GenerativeModel(\"gemini-pro\")\n",
        "\n",
        "  schema = \"\"\"\n",
        "  {\n",
        "    \"places\": [\n",
        "      {\n",
        "        \"name\": \"\",\n",
        "        \"rating\": <<float>>,\n",
        "        \"price\": \"\",\n",
        "        \"category\": \"\",\n",
        "        \"address\": \"\",\n",
        "        \"city\": \"\",\n",
        "        \"state\": \"\",\n",
        "        \"zip\": \"\",\n",
        "        \"country\": \"\",\n",
        "        \"phone\": \"\",\n",
        "        \"website\": \"\"\n",
        "      }\n",
        "    ]\n",
        "  }\n",
        "  \"\"\"\n",
        "\n",
        "  responses = model.generate_content(\n",
        "    f\"\"\"Format the below response to the following JSON schema.\n",
        "\n",
        "    Here's the content:\n",
        "\n",
        "    {content}\n",
        "\n",
        "    \"\"\",\n",
        "        generation_config={\n",
        "            \"max_output_tokens\": max_output_tokens,\n",
        "            \"temperature\": 0,\n",
        "            \"top_p\": 1\n",
        "        },\n",
        "      stream=True,\n",
        "      )\n",
        "\n",
        "  formated_response = []\n",
        "\n",
        "  for response in responses:\n",
        "      text = response.candidates[0].content.parts[0].text\n",
        "      print(text)\n",
        "      formated_response.append(text)\n",
        "\n",
        "  return formated_response\n",
        "\n",
        "formated_response = google_search_formated_response(google_search_content)"
      ],
      "metadata": {
        "colab": {
          "base_uri": "https://localhost:8080/"
        },
        "id": "dKLOHpeBCSGK",
        "outputId": "4c085d44-5f46-4ffc-dadf-1c3b73d7ad5b"
      },
      "execution_count": 16,
      "outputs": [
        {
          "output_type": "stream",
          "name": "stdout",
          "text": [
            "```json\n",
            "{\n",
            "  \"places\": [\n",
            "    {\n",
            "      \"\n",
            "name\": \"Pacific Catch\",\n",
            "      \"rating\": \"4.3\",\n",
            "\n",
            "      \"price\": \"$$\",\n",
            "      \"category\": \"Seafood\",\n",
            "      \"address\": \"545 San Antonio Rd Suite 34\n",
            "\",\n",
            "      \"city\": \"Mountain View\",\n",
            "      \"state\": \"CA\",\n",
            "      \"zip\": \"94043\",\n",
            "      \n",
            "\"country\": \"United States\",\n",
            "      \"url\": \"/search?sca_esv=0905b5e61dfd1a4f&sca_upv=1&ie=UTF-8&\n",
            "q=Pacific+Catch+Mountain+View,+CA&ludocid=11530031354653019358&lsig=AB86z5UKA1Q\n",
            "yk_IMl_EuNnvNi3K3&phdesc=e44nj9qSoZw&sa=X&ved=2ahUKEwjgq5Hp_aGDAxUlSjABHVEPBMYQvS56BAgAEAQ\"\n",
            "    \n",
            "},\n",
            "    {\n",
            "      \"name\": \"The Cookout Food Truck\",\n",
            "      \"rating\": \"4.5\",\n",
            "      \"price\": \"$\",\n",
            "      \"category\": \"Fish & Chips\",\n",
            "      \"address\": \"2534 Old Middlefield Way\",\n",
            "      \"city\": \"\n",
            "Mountain View\",\n",
            "      \"state\": \"CA\",\n",
            "      \"zip\": \"94043\",\n",
            "      \"country\": \"United States\",\n",
            "      \"url\": \"/search?sca_esv=0905b5e61dfd1a4f&sca_upv\n",
            "=1&ie=UTF-8&q=The+Cookout+Food+Truck+Mountain+View,+CA&ludocid=11552274259547282965&lsig=AB86z5UQOzQDDMz\n",
            "YlifmWMwL08IF&phdesc=0Fde7Ae7v8A&sa=X&ved=2ahUKEwjgq5Hp_aGDAxUlSjABHVEPBMYQvS56BAgAEAc\"\n",
            "    },\n",
            "\n",
            "    {\n",
            "      \"name\": \"The Sea by Alexander's Steakhouse\",\n",
            "      \"rating\": \"4.5\",\n",
            "      \"price\": \"$$$$\",\n",
            "      \"category\": \"Seafood\",\n",
            "      \"address\": \"Palo Alto, CA\",\n",
            "      \"city\": \"Palo Alto\",\n",
            "\n",
            "      \"state\": \"CA\",\n",
            "      \"zip\": null,\n",
            "      \"country\": \"United States\",\n",
            "      \"url\": \"/search?sca_esv=0905b5e61dfd1a4f&sca_upv=1&ie=UTF-8&\n",
            "q=The+Sea+by+Alexander's+Steakhouse+Palo+Alto,+CA&ludocid=11321133157872368943&lsig=AB86z5VzS8dTmCMSuGh7dB\n",
            "btsrvr&phdesc=IWN8vfEdIPc&sa=X&ved=2ahUKEwjgq5Hp_aGDAxUlSjABHVEPBMYQvS56BAgAEAo\"\n",
            "    }\n",
            "  ]\n",
            "}\n",
            "```\n"
          ]
        }
      ]
    },
    {
      "cell_type": "markdown",
      "source": [
        "# **Optional - Readability Data Extract**"
      ],
      "metadata": {
        "id": "9aaL2-Jrf0NU"
      }
    },
    {
      "cell_type": "code",
      "execution_count": null,
      "metadata": {
        "id": "Ez7tKi6O7EWA"
      },
      "outputs": [],
      "source": [
        "!pip install readability-lxml html2text"
      ]
    },
    {
      "cell_type": "code",
      "execution_count": null,
      "metadata": {
        "id": "nq9cBYnSCbHt"
      },
      "outputs": [],
      "source": [
        "import requests\n",
        "import html2text\n",
        "from readability import Document\n",
        "\n",
        "def extract_content(url):\n",
        "  response = scrape_website(url)\n",
        "  doc = Document(response)\n",
        "\n",
        "  return {\n",
        "      'title': doc.title(),\n",
        "      'summary': html2text.html2text(doc.summary())\n",
        "  }"
      ]
    },
    {
      "cell_type": "code",
      "execution_count": null,
      "metadata": {
        "id": "2IbKD_ulB-3T"
      },
      "outputs": [],
      "source": [
        "for result_item in results:\n",
        "  structured_response.append(extract_content(result_item['href']))"
      ]
    },
    {
      "cell_type": "code",
      "execution_count": null,
      "metadata": {
        "id": "XsxWgIvw7HpI"
      },
      "outputs": [],
      "source": [
        "structured_response"
      ]
    },
    {
      "cell_type": "markdown",
      "metadata": {
        "id": "qVkcH8ldmVM-"
      },
      "source": [
        "# **Information Extraction**"
      ]
    },
    {
      "cell_type": "code",
      "execution_count": 17,
      "metadata": {
        "id": "qVPTZlV3BBV-"
      },
      "outputs": [],
      "source": [
        "import re\n",
        "import json\n",
        "\n",
        "def extract_json(input_string):\n",
        "    # Extract JSON within ``` block\n",
        "    matches = re.findall(r'```(.*?)```', input_string, re.DOTALL)\n",
        "\n",
        "    if matches:\n",
        "        # Join the matches into a single string\n",
        "        json_content = ''.join(matches)\n",
        "\n",
        "        # Remove periods\n",
        "        json_content = re.sub(r'\\.', '', json_content)\n",
        "\n",
        "        return json_content\n",
        "    else:\n",
        "        print(\"No ``` block found.\")\n",
        "        return None"
      ]
    },
    {
      "cell_type": "code",
      "execution_count": 18,
      "metadata": {
        "id": "KmHp4cxG7nDu"
      },
      "outputs": [],
      "source": [
        "import vertexai\n",
        "from vertexai.preview.generative_models import GenerativeModel, Part\n",
        "\n",
        "def execute_prompt(prompt, max_output_tokens=8192):\n",
        "  model = GenerativeModel(\"gemini-pro\")\n",
        "  responses = model.generate_content(\n",
        "    prompt,\n",
        "    generation_config={\n",
        "        \"max_output_tokens\": max_output_tokens,\n",
        "        \"temperature\": 0,\n",
        "        \"top_p\": 1\n",
        "    },\n",
        "  stream=True,\n",
        "  )\n",
        "\n",
        "  final_response = []\n",
        "\n",
        "  for response in responses:\n",
        "      final_response.append(response.candidates[0].content.parts[0].text)\n",
        "\n",
        "  return \".\".join(final_response)"
      ]
    },
    {
      "cell_type": "code",
      "execution_count": 19,
      "metadata": {
        "id": "LFMfo3cdvZjA"
      },
      "outputs": [],
      "source": [
        "def get_text_extract_prompt(title, summary):\n",
        "  prompt = f\"\"\"\n",
        "  Here is its title: {title}\n",
        "  Here is some text extracted:\n",
        "  ---------\n",
        "  {summary}\n",
        "  ---------\n",
        "\n",
        "  Web pages can have a lot of useless junk in them.\n",
        "  For example, there might be a lot of ads, or a\n",
        "  lot of navigation links, or a lot of text that\n",
        "  is not relevant to the topic of the page. We want\n",
        "  to extract only the useful information from the text.\n",
        "\n",
        "  You can use the url and title to help you understand\n",
        "  the context of the text.\n",
        "  Please extract only the useful information from the text.\n",
        "  Try not to rewrite the text, but instead extract\n",
        "  only the useful information from the text.\n",
        "  \"\"\"\n",
        "  return prompt"
      ]
    },
    {
      "cell_type": "code",
      "execution_count": 20,
      "metadata": {
        "id": "UmgZbsaUxFIw"
      },
      "outputs": [],
      "source": [
        "summarries = []"
      ]
    },
    {
      "cell_type": "code",
      "execution_count": 21,
      "metadata": {
        "colab": {
          "base_uri": "https://localhost:8080/"
        },
        "id": "1794ituVGNly",
        "outputId": "05cdde44-ffda-426d-823f-1bfeff8da33a"
      },
      "outputs": [
        {
          "output_type": "stream",
          "name": "stdout",
          "text": [
            "Summary for Title: THE BEST 10 Seafood Restaurants near MOUNTAIN VIEW, CA 94043 - Last Updated December 2023 - Yelp\n",
            "\n",
            "Summary for Title: Googleplex restaurants, addresses, phone numbers, photos, real user reviews, 1600 Amphitheatre Pkwy, Mountain View, CA 94043, USA, Mountain View restaurant recommendations - Trip.com\n",
            "\n"
          ]
        }
      ],
      "source": [
        "for structured_response_item in structured_response:\n",
        "    title = structured_response_item['title']\n",
        "    summary = structured_response_item['summary']\n",
        "    if summary != \"<html><body></body></html>\":\n",
        "      print(f'Summary for Title: {title}\\n')\n",
        "      text_extract_prompt = get_text_extract_prompt(title, summary)\n",
        "      prompt_response = execute_prompt(text_extract_prompt)\n",
        "      summarries.append(prompt_response)"
      ]
    },
    {
      "cell_type": "code",
      "execution_count": 22,
      "metadata": {
        "colab": {
          "base_uri": "https://localhost:8080/"
        },
        "id": "PCoJR6YW6uTG",
        "outputId": "be05674c-686c-458f-8489-a7627b85dcd0"
      },
      "outputs": [
        {
          "output_type": "execute_result",
          "data": {
            "text/plain": [
              "['1. Limón: Peruvian seafood and cocktail bar with a focus on fresh seafood. and mouth-watering dishes.\\n2. Pacific Catch: Seafood restaurant offering tacos., sushi, and poke bowls, with a focus on sustainable and high-quality seafood.\\n3. The Sea by Alexander’s Steakhouse: Upscale. seafood restaurant with a focus on fresh seafood and steak, offering a refined dining experience.\\n4. Cap’t Loui: Casual seafood restaurant specializing in fish. and chips, with a focus on large portions and a family-friendly atmosphere.\\n5. Rustic House Oyster Bar and Grill: Seafood restaurant with a focus on oysters and grilled seafood, offering a casual and lively atmosphere.\\n6. The. City Fish: Seafood restaurant specializing in sandwiches, fish and chips, and other seafood dishes, with a focus on fresh and high-quality ingredients.\\n7. Cook’s Seafood: Seafood restaurant and seafood market with a focus on fresh and. sustainable seafood, offering a variety of seafood dishes and a casual atmosphere.\\n8. King’s Fish House: Upscale seafood restaurant with a focus on fresh and sustainable seafood, offering a variety of seafood dishes and a refined dining experience.\\n9. La Marea of the Sea: Casual seafood stand with a focus. on fresh and affordable seafood, offering a variety of seafood dishes and a casual atmosphere.\\n10. Supreme Crab: Casual seafood restaurant specializing in Cajun-style seafood, with a focus on crab and other seafood dishes.',\n",
              " '- Googleplex is located at 1600 Amphitheatre Pkwy,. Mountain View, CA 94043, USA.\\n- The. phone number is +1-650-253-0000.\\n- Googleplex is currently closed but will open tomorrow at .08:00.\\n- Googleplex is an architecture and landmark.\\n- Googleplex has a rating of 4.6 out of 5. based on 49 reviews.\\n- Googleplex is free to visit for tourists.\\n- There is a souvenir shop in the visitor center.\\n- The area is very green and beautiful.\\n- There are free bicycles for selection. for sightseeing.\\n- The work area can only be entered with a work card.']"
            ]
          },
          "metadata": {},
          "execution_count": 22
        }
      ],
      "source": [
        "summarries"
      ]
    },
    {
      "cell_type": "markdown",
      "metadata": {
        "id": "cxqOBl9GmxND"
      },
      "source": [
        "# **Link Extractor**"
      ]
    },
    {
      "cell_type": "markdown",
      "source": [
        "Note - The execution will take time depending upon the response"
      ],
      "metadata": {
        "id": "oG3tj9y6uazn"
      }
    },
    {
      "cell_type": "code",
      "execution_count": null,
      "metadata": {
        "id": "kJCKuFsSme7Y"
      },
      "outputs": [],
      "source": [
        "for structured_response_item in structured_response:\n",
        "  title = structured_response_item['title']\n",
        "  summary = structured_response_item['summary']\n",
        "  if summary != \"<html><body></body></html>\":\n",
        "    print(f'Links Title: {title}\\n')\n",
        "    prompt = f'You are an expert data analyst. Extract all the links from the below content. {summary}.'\n",
        "    links = execute_prompt(prompt)\n",
        "    print(links)"
      ]
    },
    {
      "cell_type": "markdown",
      "metadata": {
        "id": "zqYN9ZlGvTkp"
      },
      "source": [
        "# **Topic Extraction**"
      ]
    },
    {
      "cell_type": "code",
      "execution_count": null,
      "metadata": {
        "id": "zS2Erv5nQ2sl"
      },
      "outputs": [],
      "source": [
        "topics = []"
      ]
    },
    {
      "cell_type": "code",
      "execution_count": null,
      "metadata": {
        "id": "uK-FVodQpNnC"
      },
      "outputs": [],
      "source": [
        "def get_topic_extraction_prompt(content):\n",
        "    prompt = f\"\"\"Label the main topic or topics in the following text: {content}\"\"\"\n",
        "    prompt = prompt + \"\"\"1. Identify and list the primary topic or category or provide a short description of the main subject matter of the text.\n",
        "      2. If there are subtopics or secondary themes mentioned in the text, list them as well. If the text discusses multiple topics, provide a list of these topics and describe their relevance.\n",
        "      3. Consider the context and tone of the text to determine the most appropriate topics. Take into account keywords, phrases, or specific terms that relate to the topics.\n",
        "      4. If any notable entities (people, places, brands, products, etc.) are mentioned in the text that play a role in the topics, mention them and their associations.\n",
        "      5. If the text suggests any actions, decisions, or recommendations related to the identified topics, provide a brief summary of these insights.\n",
        "\n",
        "      Ensure that your labeling is clear, concise, and reflects the most significant topics or categories found in the text.\n",
        "\n",
        "      Here's the output schema:\n",
        "\n",
        "      ```\n",
        "      {\n",
        "          \"Topic\": \"\",\n",
        "          \"Subtopics\": [\"\"],\n",
        "          \"Context\": \"\",\n",
        "          \"NotableEntities\": [],\n",
        "          \"Recommendations\": \"\"\n",
        "      }\n",
        "      ```\n",
        "\n",
        "      Do not respond with your own suggestions or recommendations or feedback.\"\"\"\n",
        "    return prompt\n"
      ]
    },
    {
      "cell_type": "code",
      "execution_count": null,
      "metadata": {
        "id": "1A9g4FrRpwS-",
        "colab": {
          "base_uri": "https://localhost:8080/"
        },
        "outputId": "e7a0c1f1-d9ac-4d5f-fbbc-239d0a855146"
      },
      "outputs": [
        {
          "output_type": "stream",
          "name": "stdout",
          "text": [
            "Topics: THE BEST 10 Seafood Restaurants near MOUNTAIN VIEW, CA 94043 - Last Updated December 2023 - Yelp\n",
            "\n",
            "```\n",
            "{\n",
            "  \"Topic\": \"Seafood Restaurants\",\n",
            "  \"Sub.topics\": [\n",
            "    \"Top 10 Seafood Restaurants near Mountain View,. CA 94043\",\n",
            "    \"Related Searches in Mountain View, CA\",\n",
            "    \"Trending Searches in Mountain View, CA\",\n",
            "    .\"Related Articles\",\n",
            "    \"Frequently Asked Questions and Answers\"\n",
            "  ],\n",
            "  \"Context\": \"The text is a Yelp page that lists the top. 10 seafood restaurants near Mountain View, CA. It also includes related searches, trending searches, related articles, and frequently asked questions about seafood restaurants in the area.\",\n",
            "  \"NotableEntities\": [\n",
            "    \"Yelp\",\n",
            ".    \"Mountain View, CA\",\n",
            "    \"Limón\",\n",
            "    \"Pacific Catch\",\n",
            "    \"The Sea by Alexander's Steakhouse\",\n",
            "    \"La Marea of the Sea\",\n",
            "    \"Cap't Lou.i\",\n",
            "    \"Rustic House Oyster Bar and Grill - Los Altos\",\n",
            "    \"King's Fish House - San Jose\",\n",
            "    \"The City Fish\",\n",
            "    \"Cook's Seafood\",\n",
            "    \"Gochi - Mountain View\"\n",
            "  ],\n",
            "  \"Recommendations\": []\n",
            "}\n",
            ".```\n",
            "Topics: Googleplex restaurants, addresses, phone numbers, photos, real user reviews, 1600 Amphitheatre Pkwy, Mountain View, CA 94043, USA, Mountain View restaurant recommendations - Trip.com\n",
            "\n",
            "```\n",
            "{\n",
            "  \"Topic\": \"Googleplex\",\n",
            "  \"Sub.topics\": [\n",
            "    \"Reviews of Googleplex\",\n",
            "    \"Attractions Near. Googleplex\",\n",
            "    \"Restaurants Near Googleplex\",\n",
            "    \"Hotels Near Googleplex\"\n",
            "  ],\n",
            "  \"Context\": \"The text provides information. about the Googleplex, a technology campus in Mountain View, California. It includes reviews of the Googleplex, nearby attractions, restaurants, and hotels.\",\n",
            "  .\"NotableEntities\": [\n",
            "    \"Googleplex\",\n",
            "    \"Silicon Valley\",\n",
            "    \"Apple Infinite Loop\",\n",
            "    \"Stanford University\",\n",
            "    \"Chez TJ\",\n",
            "    \"Pacific Catch\",\n",
            "    \"Cucina Venti. Restaurant\",\n",
            "    \"Cascal\",\n",
            "    \"Crowne Plaza Cabana Hotel\",\n",
            "    \"Homewood Suites by Hilton Palo Alto\",\n",
            "    \"The Palo Alto Inn\",\n",
            "    \"Shashi Hotel Mountain View\"\n",
            "  .],\n",
            "  \"Recommendations\": []\n",
            "}\n",
            "```\n"
          ]
        }
      ],
      "source": [
        "for structured_response_item in structured_response:\n",
        "  title = structured_response_item['title']\n",
        "  summary = structured_response_item['summary']\n",
        "  if summary != \"<html><body></body></html>\":\n",
        "    print(f'Topics: {title}\\n')\n",
        "    prompt = get_topic_extraction_prompt(summary)\n",
        "    response = execute_prompt(prompt)\n",
        "    print(response)\n",
        "    extracted_json = extract_json(response)\n",
        "    if extracted_json != None:\n",
        "      topics.append(extracted_json)"
      ]
    },
    {
      "cell_type": "code",
      "source": [
        "topics"
      ],
      "metadata": {
        "colab": {
          "base_uri": "https://localhost:8080/"
        },
        "id": "w8K9BogmsmJe",
        "outputId": "1a0f2ff1-79f1-42f6-9817-8e89ba5ff95f"
      },
      "execution_count": null,
      "outputs": [
        {
          "output_type": "execute_result",
          "data": {
            "text/plain": [
              "['\\n{\\n  \"Topic\": \"Seafood Restaurants\",\\n  \"Subtopics\": [\\n    \"Top 10 Seafood Restaurants near Mountain View, CA 94043\",\\n    \"Related Searches in Mountain View, CA\",\\n    \"Trending Searches in Mountain View, CA\",\\n    \"Related Articles\",\\n    \"Frequently Asked Questions and Answers\"\\n  ],\\n  \"Context\": \"The text is a Yelp page that lists the top 10 seafood restaurants near Mountain View, CA It also includes related searches, trending searches, related articles, and frequently asked questions about seafood restaurants in the area\",\\n  \"NotableEntities\": [\\n    \"Yelp\",\\n    \"Mountain View, CA\",\\n    \"Limón\",\\n    \"Pacific Catch\",\\n    \"The Sea by Alexander\\'s Steakhouse\",\\n    \"La Marea of the Sea\",\\n    \"Cap\\'t Loui\",\\n    \"Rustic House Oyster Bar and Grill - Los Altos\",\\n    \"King\\'s Fish House - San Jose\",\\n    \"The City Fish\",\\n    \"Cook\\'s Seafood\",\\n    \"Gochi - Mountain View\"\\n  ],\\n  \"Recommendations\": []\\n}\\n',\n",
              " '\\n{\\n  \"Topic\": \"Googleplex\",\\n  \"Subtopics\": [\\n    \"Reviews of Googleplex\",\\n    \"Attractions Near Googleplex\",\\n    \"Restaurants Near Googleplex\",\\n    \"Hotels Near Googleplex\"\\n  ],\\n  \"Context\": \"The text provides information about the Googleplex, a technology campus in Mountain View, California It includes reviews of the Googleplex, nearby attractions, restaurants, and hotels\",\\n  \"NotableEntities\": [\\n    \"Googleplex\",\\n    \"Silicon Valley\",\\n    \"Apple Infinite Loop\",\\n    \"Stanford University\",\\n    \"Chez TJ\",\\n    \"Pacific Catch\",\\n    \"Cucina Venti Restaurant\",\\n    \"Cascal\",\\n    \"Crowne Plaza Cabana Hotel\",\\n    \"Homewood Suites by Hilton Palo Alto\",\\n    \"The Palo Alto Inn\",\\n    \"Shashi Hotel Mountain View\"\\n  ],\\n  \"Recommendations\": []\\n}\\n']"
            ]
          },
          "metadata": {},
          "execution_count": 25
        }
      ]
    },
    {
      "cell_type": "markdown",
      "metadata": {
        "id": "7i0XF8fwvdWR"
      },
      "source": [
        "# **Keyword Extraction**"
      ]
    },
    {
      "cell_type": "code",
      "execution_count": null,
      "metadata": {
        "id": "IxLBAv5BQspP"
      },
      "outputs": [],
      "source": [
        "keywords = []"
      ]
    },
    {
      "cell_type": "code",
      "execution_count": null,
      "metadata": {
        "id": "Y17TSS6Mvgcy"
      },
      "outputs": [],
      "source": [
        "def get_keyword_extraction_prompt(content):\n",
        "    prompt = f\"\"\"Extract key keywords or phrases from the following text: {content}\"\"\"\n",
        "    prompt = prompt + \"\"\"1. Identify and list the most important keywords or key phrases in the text. These keywords should capture the main topics, concepts, or subjects discussed in the text.\n",
        "      2. If there are subtopics or secondary themes mentioned in the text, list them as well. Ensure that the extracted keywords accurately represent the content's context.\n",
        "      3. Include the exact text span or sentence where each keyword or phrase is found in the original text.\n",
        "      4. If there are any ambiguous keywords or phrases, indicate the uncertainty and provide possible interpretations or context that might clarify the intended meaning.\n",
        "      5. Consider the context, relevance, and frequency of the keywords when determining their significance.\n",
        "      6. If the text suggests any actions, decisions, or recommendations related to the extracted keywords, provide a brief summary of these insights.\n",
        "\n",
        "      Ensure that your keyword extraction results are relevant, concise, and capture the essential topics within the text.\n",
        "\n",
        "      Here's the output schema:\n",
        "\n",
        "      ```\n",
        "      {\n",
        "          \"KeywordExtraction\": [\n",
        "              {\n",
        "                  \"Keyword\": \"\",\n",
        "                  \"Context\": \"\",\n",
        "                  \"TextSpan\": \"\"\n",
        "              }\n",
        "          ]\n",
        "      }\n",
        "      ```\n",
        "\n",
        "      Do not respond with your own suggestions or recommendations or feedback.\n",
        "    \"\"\"\n",
        "    return prompt\n"
      ]
    },
    {
      "cell_type": "code",
      "execution_count": null,
      "metadata": {
        "id": "8khaA1cqOCM9",
        "colab": {
          "base_uri": "https://localhost:8080/"
        },
        "outputId": "c12afb3c-a887-49c1-817a-3715fc60f6d0"
      },
      "outputs": [
        {
          "output_type": "execute_result",
          "data": {
            "text/plain": [
              "['1. Limón: Peruvian and seafood restaurant with a focus on seafood and cocktails..\\n2. Pacific Catch: Seafood restaurant offering tacos, sushi, and poke. bowls.\\n3. The Sea by Alexander’s Steakhouse: Seafood and steakhouse with a focus on fresh seafood.\\n4. La Marea of. the Sea: Seafood food stand offering oysters, shrimp cocktail, and fish ceviche.\\n5. Cap’t Loui: Seafood restaurant specializing in fish and. chips and Cajun/Creole cuisine.\\n6. Rustic House Oyster Bar and Grill - Los Altos: Seafood restaurant with a focus on oysters and grilled fish.\\n7. King’s Fish House - San Jose: Seafood restaurant offering a. wide variety of seafood dishes.\\n8. The City Fish: Seafood restaurant specializing in sandwiches, fish and chips, and seafood markets.\\n9. Cook’s Seafood: Seafood restaurant and seafood market offering a variety of seafood dishes.\\n.10. Gochi - Mountain View: Japanese restaurant offering seafood, wine, and sashimi.',\n",
              " '- Googleplex is located at 1600 Amphitheatre Pkwy,. Mountain View, CA 94043, USA.\\n- The. phone number is +1-650-253-0000.\\n- Googleplex is currently closed but will open at 0.8:00 today.\\n- Googleplex has a rating of 4.6 out of 5 based on 49 reviews.\\n- Google.plex is an architecture and landmark.\\n- Googleplex is free to visit for tourists.\\n- There is a souvenir shop in the visitor center.\\n- The area is very green and has free bicycles for sightseeing.\\n- There are. many restaurants and hotels near Googleplex.']"
            ]
          },
          "metadata": {},
          "execution_count": 28
        }
      ],
      "source": [
        "summarries"
      ]
    },
    {
      "cell_type": "code",
      "execution_count": null,
      "metadata": {
        "id": "mV14f56mvzVE"
      },
      "outputs": [],
      "source": [
        "for summary in summarries:\n",
        "  if summary != \"\":\n",
        "    prompt = get_keyword_extraction_prompt(summary)\n",
        "    response = execute_prompt(prompt)\n",
        "    extracted_json = extract_json(response)\n",
        "    if extracted_json != None:\n",
        "      keywords.append(extracted_json)"
      ]
    },
    {
      "cell_type": "code",
      "execution_count": null,
      "metadata": {
        "colab": {
          "base_uri": "https://localhost:8080/"
        },
        "id": "y1O08jhvJv34",
        "outputId": "edcb4a6e-162b-4a9f-b08d-75d44cf1cd0c"
      },
      "outputs": [
        {
          "output_type": "execute_result",
          "data": {
            "text/plain": [
              "['\\n{\\n  \"KeywordExtraction\": [\\n    {\\n      \"Keyword\": \"Seafood\",\\n      \"Context\": \"Limón: Peruvian and seafood restaurant with a focus on seafood and cocktails\",\\n      \"TextSpan\": \"Limón: Peruvian and seafood restaurant with a focus on seafood and cocktails\"\\n    },\\n    {\\n      \"Keyword\": \"Cocktails\",\\n      \"Context\": \"Limón: Peruvian and seafood restaurant with a focus on seafood and cocktails\",\\n      \"TextSpan\": \"Limón: Peruvian and seafood restaurant with a focus on seafood and cocktails\"\\n    },\\n    {\\n      \"Keyword\": \"Tacos\",\\n      \"Context\": \"Pacific Catch: Seafood restaurant offering tacos, sushi, and poke bowls\",\\n      \"TextSpan\": \"Pacific Catch: Seafood restaurant offering tacos, sushi, and poke bowls\"\\n    },\\n    {\\n      \"Keyword\": \"Sushi\",\\n      \"Context\": \"Pacific Catch: Seafood restaurant offering tacos, sushi, and poke bowls\",\\n      \"TextSpan\": \"Pacific Catch: Seafood restaurant offering tacos, sushi, and poke bowls\"\\n    },\\n    {\\n      \"Keyword\": \"Poke bowls\",\\n      \"Context\": \"Pacific Catch: Seafood restaurant offering tacos, sushi, and poke bowls\",\\n      \"TextSpan\": \"Pacific Catch: Seafood restaurant offering tacos, sushi, and poke bowls\"\\n    },\\n    {\\n      \"Keyword\": \"Steakhouse\",\\n      \"Context\": \"The Sea by Alexander’s Steakhouse: Seafood and steakhouse with a focus on fresh seafood\",\\n      \"TextSpan\": \"The Sea by Alexander’s Steakhouse: Seafood and steakhouse with a focus on fresh seafood\"\\n    },\\n    {\\n      \"Keyword\": \"Fresh seafood\",\\n      \"Context\": \"The Sea by Alexander’s Steakhouse: Seafood and steakhouse with a focus on fresh seafood\",\\n      \"TextSpan\": \"The Sea by Alexander’s Steakhouse: Seafood and steakhouse with a focus on fresh seafood\"\\n    },\\n    {\\n      \"Keyword\": \"Oysters\",\\n      \"Context\": \"La Marea of the Sea: Seafood food stand offering oysters, shrimp cocktail, and fish ceviche\",\\n      \"TextSpan\": \"La Marea of the Sea: Seafood food stand offering oysters, shrimp cocktail, and fish ceviche\"\\n    },\\n    {\\n      \"Keyword\": \"Shrimp cocktail\",\\n      \"Context\": \"La Marea of the Sea: Seafood food stand offering oysters, shrimp cocktail, and fish ceviche\",\\n      \"TextSpan\": \"La Marea of the Sea: Seafood food stand offering oysters, shrimp cocktail, and fish ceviche\"\\n    },\\n    {\\n      \"Keyword\": \"Fish ceviche\",\\n      \"Context\": \"La Marea of the Sea: Seafood food stand offering oysters, shrimp cocktail, and fish ceviche\",\\n      \"TextSpan\": \"La Marea of the Sea: Seafood food stand offering oysters, shrimp cocktail, and fish ceviche\"\\n    },\\n    {\\n      \"Keyword\": \"Fish and chips\",\\n      \"Context\": \"Cap’t Loui: Seafood restaurant specializing in fish and chips and Cajun/Creole cuisine\",\\n      \"TextSpan\": \"Cap’t Loui: Seafood restaurant specializing in fish and chips and Cajun/Creole cuisine\"\\n    },\\n    {\\n      \"Keyword\": \"Cajun/Creole cuisine\",\\n      \"Context\": \"Cap’t Loui: Seafood restaurant specializing in fish and chips and Cajun/Creole cuisine\",\\n      \"TextSpan\": \"Cap’t Loui: Seafood restaurant specializing in fish and chips and Cajun/Creole cuisine\"\\n    },\\n    {\\n      \"Keyword\": \"Grilled fish\",\\n      \"Context\": \"Rustic House Oyster Bar and Grill - Los Altos: Seafood restaurant with a focus on oysters and grilled fish\",\\n      \"TextSpan\": \"Rustic House Oyster Bar and Grill - Los Altos: Seafood restaurant with a focus on oysters and grilled fish\"\\n    },\\n    {\\n      \"Keyword\": \"Wide variety of seafood dishes\",\\n      \"Context\": \"King’s Fish House - San Jose: Seafood restaurant offering a wide variety of seafood dishes\",\\n      \"TextSpan\": \"King’s Fish House - San Jose: Seafood restaurant offering a wide variety of seafood dishes\"\\n    },\\n    {\\n      \"Keyword\": \"Sandwiches\",\\n      \"Context\": \"The City Fish: Seafood restaurant specializing in sandwiches, fish and chips, and seafood markets\",\\n      \"TextSpan\": \"The City Fish: Seafood restaurant specializing in sandwiches, fish and chips, and seafood markets\"\\n    },\\n    {\\n      \"Keyword\": \"Seafood markets\",\\n      \"Context\": \"The City Fish: Seafood restaurant specializing in sandwiches, fish and chips, and seafood markets\",\\n      \"TextSpan\": \"The City Fish: Seafood restaurant specializing in sandwiches, fish and chips, and seafood markets\"\\n    },\\n    {\\n      \"Keyword\": \"Seafood market\",\\n      \"Context\": \"Cook’s Seafood: Seafood restaurant and seafood market offering a variety of seafood dishes\",\\n      \"TextSpan\": \"Cook’s Seafood: Seafood restaurant and seafood market offering a variety of seafood dishes\"\\n    },\\n    {\\n      \"Keyword\": \"Wine\",\\n      \"Context\": \"Gochi - Mountain View: Japanese restaurant offering seafood, wine, and sashimi\",\\n      \"TextSpan\": \"Gochi - Mountain View: Japanese restaurant offering seafood, wine, and sashimi1\"\\n    },\\n    {\\n      \"Keyword\": \"Sashimi\",\\n      \"Context\": \"Gochi - Mountain View: Japanese restaurant offering seafood, wine, and sashimi\",\\n      \"TextSpan\": \"Gochi - Mountain View: Japanese restaurant offering seafood, wine, and sashimi1\"\\n    }\\n  ]\\n}\\n',\n",
              " '\\n{\\n  \"KeywordExtraction\": [\\n    {\\n      \"Keyword\": \"Googleplex\",\\n      \"Context\": \"Googleplex is located at 1600 Amphitheatre Pkwy, Mountain View, CA 94043, USA\",\\n      \"TextSpan\": \"Googleplex is located at 1600 Amphitheatre Pkwy, Mountain View, CA 94043, USA\"\\n    },\\n    {\\n      \"Keyword\": \"Address\",\\n      \"Context\": \"Googleplex is located at 1600 Amphitheatre Pkwy, Mountain View, CA 94043, USA\",\\n      \"TextSpan\": \"Googleplex is located at 1600 Amphitheatre Pkwy, Mountain View, CA 94043, USA\"\\n    },\\n    {\\n      \"Keyword\": \"Phone Number\",\\n      \"Context\": \"The phone number is +1-650-253-0000\",\\n      \"TextSpan\": \"The phone number is +1-650-253-0000\"\\n    },\\n    {\\n      \"Keyword\": \"Opening Hours\",\\n      \"Context\": \"Googleplex is currently closed but will open at 08:00 today\",\\n      \"TextSpan\": \"Googleplex is currently closed but will open at 08:00 today\"\\n    },\\n    {\\n      \"Keyword\": \"Rating\",\\n      \"Context\": \"Googleplex has a rating of 46 out of 5 based on 49 reviews\",\\n      \"TextSpan\": \"Googleplex has a rating of 46 out of 5 based on 49 reviews\"\\n    },\\n    {\\n      \"Keyword\": \"Architecture\",\\n      \"Context\": \"Googleplex is an architecture and landmark\",\\n      \"TextSpan\": \"Googleplex is an architecture and landmark\"\\n    },\\n    {\\n      \"Keyword\": \"Landmark\",\\n      \"Context\": \"Googleplex is an architecture and landmark\",\\n      \"TextSpan\": \"Googleplex is an architecture and landmark\"\\n    },\\n    {\\n      \"Keyword\": \"Free Admission\",\\n      \"Context\": \"Googleplex is free to visit for tourists\",\\n      \"TextSpan\": \"Googleplex is free to visit for tourists\"\\n    },\\n    {\\n      \"Keyword\": \"Souvenir Shop\",\\n      \"Context\": \"There is a souvenir shop in the visitor center\",\\n      \"TextSpan\": \"There is a souvenir shop in the visitor center\"\\n    },\\n    {\\n      \"Keyword\": \"Green Area\",\\n      \"Context\": \"The area is very green and has free bicycles for sightseeing\",\\n      \"TextSpan\": \"The area is very green and has free bicycles for sightseeing\"\\n    },\\n    {\\n      \"Keyword\": \"Free Bicycles\",\\n      \"Context\": \"The area is very green and has free bicycles for sightseeing\",\\n      \"TextSpan\": \"The area is very green and has free bicycles for sightseeing\"\\n    },\\n    {\\n      \"Keyword\": \"Restaurants\",\\n      \"Context\": \"There are many restaurants and hotels near Googleplex\",\\n      \"TextSpan\": \"There are many restaurants and hotels near Googleplex\"\\n    },\\n    {\\n      \"Keyword\": \"Hotels\",\\n      \"Context\": \"There are many restaurants and hotels near Googleplex\",\\n      \"TextSpan\": \"There are many restaurants and hotels near Googleplex\"\\n    }\\n  ]\\n}\\n']"
            ]
          },
          "metadata": {},
          "execution_count": 30
        }
      ],
      "source": [
        "keywords"
      ]
    },
    {
      "cell_type": "markdown",
      "metadata": {
        "id": "atjfWPUqA43p"
      },
      "source": [
        "# **Automated Tagger**"
      ]
    },
    {
      "cell_type": "code",
      "execution_count": null,
      "metadata": {
        "id": "vFlNq9GXml8f"
      },
      "outputs": [],
      "source": [
        "taggers = []"
      ]
    },
    {
      "cell_type": "code",
      "execution_count": null,
      "metadata": {
        "id": "ge1K_GFLA8YZ"
      },
      "outputs": [],
      "source": [
        "def get_automated_tagger_extraction_prompt(content):\n",
        "    prompt = f\"\"\"Automate the tagging of the following unstructured data: {content}\"\"\"\n",
        "    prompt = prompt + \"\"\"1. Identify and extract the most relevant tags, keywords, or categories for the given data. These tags should succinctly represent the content's main themes, subjects, or topics.\n",
        "        2. List the extracted tags, and provide a brief description or rationale for each tag to help users understand their significance.\n",
        "        3. If there are subcategories or hierarchies in the tags, ensure that they are appropriately nested or organized.\n",
        "        4. Consider the context, content, and domain-specific knowledge when selecting tags. Ensure that the tags accurately reflect the essence of the data.\n",
        "        5. If any tags are ambiguous or could have multiple interpretations, address these challenges and provide explanations for the chosen tags.\n",
        "        6. If there are specific tasks or analyses where the tagged data will be used, describe these use cases and how the tags are expected to be applied.\n",
        "        7. If the data contains temporal or dynamic elements, mention any trends, changes, or time-sensitive aspects that might impact the tags.\n",
        "\n",
        "        Ensure that your automated tagging results are clear, relevant, and make the data more accessible and useful.\n",
        "\n",
        "        Here's the output schema:\n",
        "\n",
        "        ```\n",
        "        {\n",
        "            \"AutomatedTagging\": {\n",
        "                \"Tags\": [\n",
        "                    {\n",
        "                        \"Tag\": \"\",\n",
        "                        \"Sentences\": []\n",
        "                    }\n",
        "                ]\n",
        "            }\n",
        "        }\n",
        "        ```\n",
        "\n",
        "        Do not respond with your own suggestions or recommendations or feedback.\n",
        "    \"\"\"\n",
        "    return prompt\n"
      ]
    },
    {
      "cell_type": "code",
      "execution_count": null,
      "metadata": {
        "id": "TIJyR7HsBVHi"
      },
      "outputs": [],
      "source": [
        "for summary in summarries:\n",
        "  if summary != \"\":\n",
        "    prompt = get_automated_tagger_extraction_prompt(summary)\n",
        "    response = execute_prompt(prompt)\n",
        "    extracted_json = extract_json(response)\n",
        "    if extracted_json != None:\n",
        "      taggers.append(extracted_json)"
      ]
    },
    {
      "cell_type": "code",
      "execution_count": null,
      "metadata": {
        "id": "K19dVjrqmqDy",
        "colab": {
          "base_uri": "https://localhost:8080/"
        },
        "outputId": "97925e44-a905-4a14-c732-d060f373c841"
      },
      "outputs": [
        {
          "output_type": "execute_result",
          "data": {
            "text/plain": [
              "['\\n{\\n  \"AutomatedTagging\": {\\n    \"Tags\": [\\n      {\\n        \"Tag\": \"Seafood\",\\n        \"Sentences\": [\\n          \"Limón: Peruvian and seafood restaurant with a focus on seafood and cocktails\",\\n          \"Pacific Catch: Seafood restaurant offering tacos, sushi, and poke bowls\",\\n          \"The Sea by Alexander\\\\u2019s Steakhouse: Seafood and steakhouse with a focus on fresh seafood\",\\n          \"La Marea of the Sea: Seafood food stand offering oysters, shrimp cocktail, and fish ceviche\",\\n          \"Cap\\\\u2019t Loui: Seafood restaurant specializing in fish and chips and Cajun/Creole cuisine\",\\n          \"Rustic House Oyster Bar and Grill - Los Altos: Seafood restaurant with a focus on oysters and grilled fish\",\\n          \"King\\\\u2019s Fish House - San Jose: Seafood restaurant offering a wide variety of seafood dishes\",\\n          \"The City Fish: Seafood restaurant specializing in sandwiches, fish and chips, and seafood markets\",\\n          \"Cook\\\\u2019s Seafood: Seafood restaurant and seafood market offering a variety of seafood dishes\"\\n        ]\\n      },\\n      {\\n        \"Tag\": \"Restaurant\",\\n        \"Sentences\": [\\n          \"Limón: Peruvian and seafood restaurant with a focus on seafood and cocktails\",\\n          \"Pacific Catch: Seafood restaurant offering tacos, sushi, and poke bowls\",\\n          \"The Sea by Alexander\\\\u2019s Steakhouse: Seafood and steakhouse with a focus on fresh seafood\",\\n          \"Cap\\\\u2019t Loui: Seafood restaurant specializing in fish and chips and Cajun/Creole cuisine\",\\n          \"Rustic House Oyster Bar and Grill - Los Altos: Seafood restaurant with a focus on oysters and grilled fish\",\\n          \"King\\\\u2019s Fish House - San Jose: Seafood restaurant offering a wide variety of seafood dishes\",\\n          \"The City Fish: Seafood restaurant specializing in sandwiches, fish and chips, and seafood markets\",\\n          \"Cook\\\\u2019s Seafood: Seafood restaurant and seafood market offering a variety of seafood dishes\"\\n        ]\\n      },\\n      {\\n        \"Tag\": \"Japanese\",\\n        \"Sentences\": [\\n          \"Gochi - Mountain View: Japanese restaurant offering seafood, wine, and sashimi\"\\n        ]\\n      },\\n      {\\n        \"Tag\": \"Steakhouse\",\\n        \"Sentences\": [\\n          \"The Sea by Alexander\\\\u2019s Steakhouse: Seafood and steakhouse with a focus on fresh seafood\"\\n        ]\\n      },\\n      {\\n        \"Tag\": \"Oysters\",\\n        \"Sentences\": [\\n          \"La Marea of the Sea: Seafood food stand offering oysters, shrimp cocktail, and fish ceviche\",\\n          \"Rustic House Oyster Bar and Grill - Los Altos: Seafood restaurant with a focus on oysters and grilled fish\"\\n        ]\\n      },\\n      {\\n        \"Tag\": \"Sushi\",\\n        \"Sentences\": [\\n          \"Pacific Catch: Seafood restaurant offering tacos, sushi, and poke bowls\"\\n        ]\\n      },\\n      {\\n        \"Tag\": \"Poke\",\\n        \"Sentences\": [\\n          \"Pacific Catch: Seafood restaurant offering tacos, sushi, and poke bowls\"\\n        ]\\n      },\\n      {\\n        \"Tag\": \"Tacos\",\\n        \"Sentences\": [\\n          \"Pacific Catch: Seafood restaurant offering tacos, sushi, and poke bowls\"\\n        ]\\n      },\\n      {\\n        \"Tag\": \"Fish and Chips\",\\n        \"Sentences\": [\\n          \"Cap\\\\u2019t Loui: Seafood restaurant specializing in fish and chips and Cajun/Creole cuisine\",\\n          \"The City Fish: Seafood restaurant specializing in sandwiches, fish and chips, and seafood markets\"\\n        ]\\n      },\\n      {\\n        \"Tag\": \"Cajun/Creole\",\\n        \"Sentences\": [\\n          \"Cap\\\\u2019t Loui: Seafood restaurant specializing in fish and chips and Cajun/Creole cuisine\"\\n        ]\\n      },\\n      {\\n        \"Tag\": \"Sandwiches\",\\n        \"Sentences\": [\\n          \"The City Fish: Seafood restaurant specializing in sandwiches, fish and chips, and seafood markets\"\\n        ]\\n      },\\n      {\\n        \"Tag\": \"Seafood Market\",\\n        \"Sentences\": [\\n          \"The City Fish: Seafood restaurant specializing in sandwiches, fish and chips, and seafood markets\",\\n          \"Cook\\\\u2019s Seafood: Seafood restaurant and seafood market offering a variety of seafood dishes\"\\n        ]\\n      },\\n      {\\n        \"Tag\": \"Wine\",\\n        \"Sentences\": [\\n          \"Gochi - Mountain View: Japanese restaurant offering seafood, wine, and sashimi\"\\n        ]\\n      },\\n      {\\n        \"Tag\": \"Sashimi\",\\n        \"Sentences\": [\\n          \"Gochi - Mountain View: Japanese restaurant offering seafood, wine, and sashimi\"\\n        ]\\n      }\\n    ]\\n  }\\n}\\n',\n",
              " '\\n{\\n  \"AutomatedTagging\": {\\n    \"Tags\": [\\n      {\\n        \"Tag\": \"Googleplex\",\\n        \"Sentences\": [\\n          \"Googleplex is located at 1600 Amphitheatre Pkwy, Mountain View, CA 94043, USA\",\\n          \"Googleplex is currently closed but will open at 08:00 today\",\\n          \"Googleplex has a rating of 46 out of 5 based on 49 reviews\",\\n          \"Googleplex is an architecture and landmark\",\\n          \"Googleplex is free to visit for tourists\",\\n          \"There is a souvenir shop in the visitor center\",\\n          \"The area is very green and has free bicycles for sightseeing\",\\n          \"There are many restaurants and hotels near Googleplex1\"\\n        ]\\n      },\\n      {\\n        \"Tag\": \"Location\",\\n        \"Sentences\": [\\n          \"Googleplex is located at 1600 Amphitheatre Pkwy, Mountain View, CA 94043, USA\"\\n        ]\\n      },\\n      {\\n        \"Tag\": \"Contact Information\",\\n        \"Sentences\": [\\n          \"The phone number is +1-650-253-0000\"\\n        ]\\n      },\\n      {\\n        \"Tag\": \"Hours of Operation\",\\n        \"Sentences\": [\\n          \"Googleplex is currently closed but will open at 08:00 today\"\\n        ]\\n      },\\n      {\\n        \"Tag\": \"Rating\",\\n        \"Sentences\": [\\n          \"Googleplex has a rating of 46 out of 5 based on 49 reviews\"\\n        ]\\n      },\\n      {\\n        \"Tag\": \"Architecture\",\\n        \"Sentences\": [\\n          \"Googleplex is an architecture and landmark\"\\n        ]\\n      },\\n      {\\n        \"Tag\": \"Landmark\",\\n        \"Sentences\": [\\n          \"Googleplex is an architecture and landmark\"\\n        ]\\n      },\\n      {\\n        \"Tag\": \"Free Admission\",\\n        \"Sentences\": [\\n          \"Googleplex is free to visit for tourists\"\\n        ]\\n      },\\n      {\\n        \"Tag\": \"Souvenir Shop\",\\n        \"Sentences\": [\\n          \"There is a souvenir shop in the visitor center\"\\n        ]\\n      },\\n      {\\n        \"Tag\": \"Bicycles\",\\n        \"Sentences\": [\\n          \"The area is very green and has free bicycles for sightseeing\"\\n        ]\\n      },\\n      {\\n        \"Tag\": \"Restaurants\",\\n        \"Sentences\": [\\n          \"There are many restaurants and hotels near Googleplex1\"\\n        ]\\n      },\\n      {\\n        \"Tag\": \"Hotels\",\\n        \"Sentences\": [\\n          \"There are many restaurants and hotels near Googleplex1\"\\n        ]\\n      }\\n    ]\\n  }\\n}\\n']"
            ]
          },
          "metadata": {},
          "execution_count": 34
        }
      ],
      "source": [
        "taggers"
      ]
    },
    {
      "cell_type": "markdown",
      "source": [
        "# **Intent Extraction**"
      ],
      "metadata": {
        "id": "smWeD8A5TnfQ"
      }
    },
    {
      "cell_type": "code",
      "source": [
        "import vertexai\n",
        "from vertexai.preview.generative_models import GenerativeModel, Part\n",
        "\n",
        "def get_intent_extraction_prompt(content):\n",
        "  schema = \"\"\"\n",
        "  ```\"intents\":[\n",
        "    \"intent\": \"\",\n",
        "    \"statement\": \"\"\n",
        "  ]```\n",
        "  \"\"\"\n",
        "  prompt = f\"\"\"You are an expert intent detector. Your job is to detect and list down all the intents within the below content. Output the same in the specified JSON schema format.\n",
        "    Here's the content:\n",
        "    ---\n",
        "    {content}\n",
        "    ---\n",
        "    Here's the schema:\n",
        "    {schema}\n",
        "    Do not respond with your own suggestions or recommendations or feedback.\n",
        " \"\"\"\n",
        "  return prompt"
      ],
      "metadata": {
        "id": "EcCNKdYbTxCV"
      },
      "execution_count": null,
      "outputs": []
    },
    {
      "cell_type": "code",
      "source": [
        "intents = []"
      ],
      "metadata": {
        "id": "wCzkoaSbUfJ0"
      },
      "execution_count": null,
      "outputs": []
    },
    {
      "cell_type": "code",
      "source": [
        "instruct_prompt = f\"get me the summary for the following content\"\n",
        "prompt = get_intent_extraction_prompt(instruct_prompt)\n",
        "response = execute_prompt(prompt)\n",
        "extracted_json = extract_json(response)\n",
        "if extracted_json != None:\n",
        "  intents.append(extracted_json)"
      ],
      "metadata": {
        "id": "ZwqdvBjeUD1S"
      },
      "execution_count": null,
      "outputs": []
    },
    {
      "cell_type": "code",
      "source": [
        "intents"
      ],
      "metadata": {
        "colab": {
          "base_uri": "https://localhost:8080/"
        },
        "id": "I7pyOA3hVDbd",
        "outputId": "6319b1d1-575f-4cb4-ae8d-37e909af960d"
      },
      "execution_count": null,
      "outputs": [
        {
          "output_type": "execute_result",
          "data": {
            "text/plain": [
              "['\\n{\\n  \"intents\": [\\n    {\\n      \"intent\": \"GetSummary\",\\n      \"statement\": \"get me the summary for the following content\"\\n    }\\n  ]\\n}\\n']"
            ]
          },
          "metadata": {},
          "execution_count": 12
        }
      ]
    },
    {
      "cell_type": "markdown",
      "metadata": {
        "id": "oAfCdBR2oUBl"
      },
      "source": [
        "# **Content Classification**"
      ]
    },
    {
      "cell_type": "code",
      "source": [
        "import os\n",
        "os.environ[\"GOOGLE_APPLICATION_CREDENTIALS\"]=\"/content/gen-lang-client-0341374211-e19d6530e26f.json\""
      ],
      "metadata": {
        "id": "Ob2tyHNcH5aI"
      },
      "execution_count": null,
      "outputs": []
    },
    {
      "cell_type": "code",
      "execution_count": null,
      "metadata": {
        "id": "HErz_AsjoXyN"
      },
      "outputs": [],
      "source": [
        "from google.cloud import language_v1\n",
        "\n",
        "def classify_text(text_content, language = \"en\"):\n",
        "    classification_response = []\n",
        "    client = language_v1.LanguageServiceClient()\n",
        "    type_ = language_v1.Document.Type.PLAIN_TEXT\n",
        "    document = {\"content\": text_content, \"type_\": type_, \"language\": language}\n",
        "\n",
        "    content_categories_version = (\n",
        "        language_v1.ClassificationModelOptions.V2Model.ContentCategoriesVersion.V2\n",
        "    )\n",
        "    response = client.classify_text(\n",
        "        request={\n",
        "            \"document\": document,\n",
        "            \"classification_model_options\": {\n",
        "                \"v2_model\": {\"content_categories_version\": content_categories_version}\n",
        "            },\n",
        "        }\n",
        "    )\n",
        "\n",
        "    for category in response.categories:\n",
        "        classification_response.append({\n",
        "            'category': category.name,\n",
        "            'confidence': category.confidence\n",
        "        })\n",
        "    return classification_response"
      ]
    },
    {
      "cell_type": "code",
      "execution_count": null,
      "metadata": {
        "id": "-bm70-F0o3-7",
        "colab": {
          "base_uri": "https://localhost:8080/"
        },
        "outputId": "f7f11c49-a00f-4d2e-ba05-73c0940695a4"
      },
      "outputs": [
        {
          "output_type": "stream",
          "name": "stdout",
          "text": [
            "[{'category': '/Food & Drink/Food/Meat & Seafood', 'confidence': 0.7320996522903442}, {'category': '/Food & Drink/Restaurants/Other', 'confidence': 0.4745289385318756}]\n"
          ]
        }
      ],
      "source": [
        "if len(summarries) > 0:\n",
        "  classification_response = classify_text(summarries[0])\n",
        "  print(classification_response)"
      ]
    },
    {
      "cell_type": "markdown",
      "metadata": {
        "id": "CsWFU1NjsNOV"
      },
      "source": [
        "# **User Location Info**"
      ]
    },
    {
      "cell_type": "code",
      "execution_count": null,
      "metadata": {
        "id": "AyejxybCsRHu"
      },
      "outputs": [],
      "source": [
        "!pip install geopy folium"
      ]
    },
    {
      "cell_type": "code",
      "source": [
        "address = '1600 Amphitheatre Parkway, Mountain View, CA'"
      ],
      "metadata": {
        "id": "eUul5IuABrM7"
      },
      "execution_count": null,
      "outputs": []
    },
    {
      "cell_type": "code",
      "execution_count": null,
      "metadata": {
        "id": "M3Zzr56csXq2"
      },
      "outputs": [],
      "source": [
        "from geopy.geocoders import Nominatim\n",
        "import folium\n",
        "\n",
        "def get_user_location(address):\n",
        "    # Initialize a geolocator using Nominatim\n",
        "    geolocator = Nominatim(user_agent=\"user_location_app\")\n",
        "\n",
        "    # Get the location information (latitude, longitude, and address)\n",
        "    location = geolocator.geocode(address)\n",
        "\n",
        "    if location:\n",
        "        return location.latitude, location.longitude, location.address\n",
        "    else:\n",
        "        return None"
      ]
    },
    {
      "cell_type": "code",
      "execution_count": null,
      "metadata": {
        "colab": {
          "base_uri": "https://localhost:8080/"
        },
        "id": "RQpMw33_saE-",
        "outputId": "5fc00247-3df6-49a5-db95-05717bb8f22a"
      },
      "outputs": [
        {
          "output_type": "stream",
          "name": "stdout",
          "text": [
            "Latitude: 37.4217636\n",
            "Longitude: -122.084614\n",
            "Formatted Address: Google Headquarters, 1600, Amphitheatre Parkway, Mountain View, Santa Clara County, California, 94043, United States\n"
          ]
        }
      ],
      "source": [
        "location_info = get_user_location(address)\n",
        "\n",
        "if location_info:\n",
        "    latitude, longitude, formatted_address = location_info\n",
        "    print(f\"Latitude: {latitude}\")\n",
        "    print(f\"Longitude: {longitude}\")\n",
        "    print(f\"Formatted Address: {formatted_address}\")\n",
        "else:\n",
        "    print(\"Location not found.\")"
      ]
    },
    {
      "cell_type": "markdown",
      "metadata": {
        "id": "FY7hmSdd2SQv"
      },
      "source": [
        "# **Retrieval-augmented generation (RAG)**"
      ]
    },
    {
      "cell_type": "code",
      "execution_count": 23,
      "metadata": {
        "id": "sm4CH-ze2UMA"
      },
      "outputs": [],
      "source": [
        "!pip install -U -q google.generativeai"
      ]
    },
    {
      "cell_type": "code",
      "execution_count": 24,
      "metadata": {
        "id": "KFlIFPXw4ZgD",
        "colab": {
          "base_uri": "https://localhost:8080/"
        },
        "outputId": "9ebebd8c-95ae-4e0f-f60a-8439b477e3ef"
      },
      "outputs": [
        {
          "output_type": "stream",
          "name": "stdout",
          "text": [
            "\u001b[31mERROR: pip's dependency resolver does not currently take into account all the packages that are installed. This behaviour is the source of the following dependency conflicts.\n",
            "lida 0.0.10 requires kaleido, which is not installed.\n",
            "lida 0.0.10 requires python-multipart, which is not installed.\n",
            "tensorflow-probability 0.22.0 requires typing-extensions<4.6.0, but you have typing-extensions 4.6.0 which is incompatible.\n",
            "trulens-eval 0.18.0 requires typing-extensions==4.5.0, but you have typing-extensions 4.6.0 which is incompatible.\u001b[0m\u001b[31m\n",
            "\u001b[0m"
          ]
        }
      ],
      "source": [
        "%pip install -Uq chromadb pydantic typing-extensions==4.6.0"
      ]
    },
    {
      "cell_type": "code",
      "execution_count": 25,
      "metadata": {
        "id": "Jw6ssR8G2d1G"
      },
      "outputs": [],
      "source": [
        "import textwrap\n",
        "import chromadb\n",
        "import numpy as np\n",
        "import pandas as pd\n",
        "from google.colab import userdata\n",
        "\n",
        "import google.generativeai as genai\n",
        "import google.ai.generativelanguage as glm\n",
        "\n",
        "# Used to securely store your API key\n",
        "from google.colab import userdata\n",
        "\n",
        "from IPython.display import Markdown\n",
        "from chromadb import Documents, EmbeddingFunction, Embeddings\n",
        "genai.configure(api_key=userdata.get('google_key'))"
      ]
    },
    {
      "cell_type": "code",
      "source": [
        "collection_name = 'localstore'"
      ],
      "metadata": {
        "id": "SSE10rhP7uz2"
      },
      "execution_count": 26,
      "outputs": []
    },
    {
      "cell_type": "code",
      "execution_count": 27,
      "metadata": {
        "id": "kJR85awx7HYN"
      },
      "outputs": [],
      "source": [
        "class GeminiEmbeddingFunction(EmbeddingFunction):\n",
        "  def __call__(self, input: Documents) -> Embeddings:\n",
        "    model = 'models/embedding-001'\n",
        "    title = \"Custom query\"\n",
        "    return genai.embed_content(model=model,\n",
        "                                content=input,\n",
        "                                task_type=\"retrieval_document\",\n",
        "                                title=title)[\"embedding\"]\n",
        "def create_chroma_db(documents, name):\n",
        "  chroma_client = chromadb.Client()\n",
        "  db = chroma_client.create_collection(name=name, embedding_function=GeminiEmbeddingFunction())\n",
        "\n",
        "  for i, d in enumerate(documents):\n",
        "    db.add(\n",
        "      documents=d,\n",
        "      ids=str(i)\n",
        "    )\n",
        "  return db"
      ]
    },
    {
      "cell_type": "code",
      "execution_count": 28,
      "metadata": {
        "id": "y0OMxFNL7jJz"
      },
      "outputs": [],
      "source": [
        "# Set up the DB\n",
        "db = create_chroma_db(summarries, collection_name)"
      ]
    },
    {
      "cell_type": "code",
      "execution_count": 29,
      "metadata": {
        "colab": {
          "base_uri": "https://localhost:8080/",
          "height": 0
        },
        "id": "L247ocrI7wJl",
        "outputId": "a2813e38-db66-467a-e2e7-6092367f8e22"
      },
      "outputs": [
        {
          "output_type": "execute_result",
          "data": {
            "text/plain": [
              "  ids                                         embeddings metadatas  \\\n",
              "0   0  [0.058169543743133545, -0.05552861839532852, -...      None   \n",
              "1   1  [0.038881026208400726, -0.018561283126473427, ...      None   \n",
              "\n",
              "                                           documents  uris  data  \n",
              "0  1. Limón: Peruvian seafood and cocktail bar wi...  None  None  \n",
              "1  - Googleplex is located at 1600 Amphitheatre P...  None  None  "
            ],
            "text/html": [
              "\n",
              "  <div id=\"df-d237ce53-19ce-4e97-b1db-701a367d2d69\" class=\"colab-df-container\">\n",
              "    <div>\n",
              "<style scoped>\n",
              "    .dataframe tbody tr th:only-of-type {\n",
              "        vertical-align: middle;\n",
              "    }\n",
              "\n",
              "    .dataframe tbody tr th {\n",
              "        vertical-align: top;\n",
              "    }\n",
              "\n",
              "    .dataframe thead th {\n",
              "        text-align: right;\n",
              "    }\n",
              "</style>\n",
              "<table border=\"1\" class=\"dataframe\">\n",
              "  <thead>\n",
              "    <tr style=\"text-align: right;\">\n",
              "      <th></th>\n",
              "      <th>ids</th>\n",
              "      <th>embeddings</th>\n",
              "      <th>metadatas</th>\n",
              "      <th>documents</th>\n",
              "      <th>uris</th>\n",
              "      <th>data</th>\n",
              "    </tr>\n",
              "  </thead>\n",
              "  <tbody>\n",
              "    <tr>\n",
              "      <th>0</th>\n",
              "      <td>0</td>\n",
              "      <td>[0.058169543743133545, -0.05552861839532852, -...</td>\n",
              "      <td>None</td>\n",
              "      <td>1. Limón: Peruvian seafood and cocktail bar wi...</td>\n",
              "      <td>None</td>\n",
              "      <td>None</td>\n",
              "    </tr>\n",
              "    <tr>\n",
              "      <th>1</th>\n",
              "      <td>1</td>\n",
              "      <td>[0.038881026208400726, -0.018561283126473427, ...</td>\n",
              "      <td>None</td>\n",
              "      <td>- Googleplex is located at 1600 Amphitheatre P...</td>\n",
              "      <td>None</td>\n",
              "      <td>None</td>\n",
              "    </tr>\n",
              "  </tbody>\n",
              "</table>\n",
              "</div>\n",
              "    <div class=\"colab-df-buttons\">\n",
              "\n",
              "  <div class=\"colab-df-container\">\n",
              "    <button class=\"colab-df-convert\" onclick=\"convertToInteractive('df-d237ce53-19ce-4e97-b1db-701a367d2d69')\"\n",
              "            title=\"Convert this dataframe to an interactive table.\"\n",
              "            style=\"display:none;\">\n",
              "\n",
              "  <svg xmlns=\"http://www.w3.org/2000/svg\" height=\"24px\" viewBox=\"0 -960 960 960\">\n",
              "    <path d=\"M120-120v-720h720v720H120Zm60-500h600v-160H180v160Zm220 220h160v-160H400v160Zm0 220h160v-160H400v160ZM180-400h160v-160H180v160Zm440 0h160v-160H620v160ZM180-180h160v-160H180v160Zm440 0h160v-160H620v160Z\"/>\n",
              "  </svg>\n",
              "    </button>\n",
              "\n",
              "  <style>\n",
              "    .colab-df-container {\n",
              "      display:flex;\n",
              "      gap: 12px;\n",
              "    }\n",
              "\n",
              "    .colab-df-convert {\n",
              "      background-color: #E8F0FE;\n",
              "      border: none;\n",
              "      border-radius: 50%;\n",
              "      cursor: pointer;\n",
              "      display: none;\n",
              "      fill: #1967D2;\n",
              "      height: 32px;\n",
              "      padding: 0 0 0 0;\n",
              "      width: 32px;\n",
              "    }\n",
              "\n",
              "    .colab-df-convert:hover {\n",
              "      background-color: #E2EBFA;\n",
              "      box-shadow: 0px 1px 2px rgba(60, 64, 67, 0.3), 0px 1px 3px 1px rgba(60, 64, 67, 0.15);\n",
              "      fill: #174EA6;\n",
              "    }\n",
              "\n",
              "    .colab-df-buttons div {\n",
              "      margin-bottom: 4px;\n",
              "    }\n",
              "\n",
              "    [theme=dark] .colab-df-convert {\n",
              "      background-color: #3B4455;\n",
              "      fill: #D2E3FC;\n",
              "    }\n",
              "\n",
              "    [theme=dark] .colab-df-convert:hover {\n",
              "      background-color: #434B5C;\n",
              "      box-shadow: 0px 1px 3px 1px rgba(0, 0, 0, 0.15);\n",
              "      filter: drop-shadow(0px 1px 2px rgba(0, 0, 0, 0.3));\n",
              "      fill: #FFFFFF;\n",
              "    }\n",
              "  </style>\n",
              "\n",
              "    <script>\n",
              "      const buttonEl =\n",
              "        document.querySelector('#df-d237ce53-19ce-4e97-b1db-701a367d2d69 button.colab-df-convert');\n",
              "      buttonEl.style.display =\n",
              "        google.colab.kernel.accessAllowed ? 'block' : 'none';\n",
              "\n",
              "      async function convertToInteractive(key) {\n",
              "        const element = document.querySelector('#df-d237ce53-19ce-4e97-b1db-701a367d2d69');\n",
              "        const dataTable =\n",
              "          await google.colab.kernel.invokeFunction('convertToInteractive',\n",
              "                                                    [key], {});\n",
              "        if (!dataTable) return;\n",
              "\n",
              "        const docLinkHtml = 'Like what you see? Visit the ' +\n",
              "          '<a target=\"_blank\" href=https://colab.research.google.com/notebooks/data_table.ipynb>data table notebook</a>'\n",
              "          + ' to learn more about interactive tables.';\n",
              "        element.innerHTML = '';\n",
              "        dataTable['output_type'] = 'display_data';\n",
              "        await google.colab.output.renderOutput(dataTable, element);\n",
              "        const docLink = document.createElement('div');\n",
              "        docLink.innerHTML = docLinkHtml;\n",
              "        element.appendChild(docLink);\n",
              "      }\n",
              "    </script>\n",
              "  </div>\n",
              "\n",
              "\n",
              "<div id=\"df-b1133836-e48b-4881-9dad-1f55b45cc5fe\">\n",
              "  <button class=\"colab-df-quickchart\" onclick=\"quickchart('df-b1133836-e48b-4881-9dad-1f55b45cc5fe')\"\n",
              "            title=\"Suggest charts\"\n",
              "            style=\"display:none;\">\n",
              "\n",
              "<svg xmlns=\"http://www.w3.org/2000/svg\" height=\"24px\"viewBox=\"0 0 24 24\"\n",
              "     width=\"24px\">\n",
              "    <g>\n",
              "        <path d=\"M19 3H5c-1.1 0-2 .9-2 2v14c0 1.1.9 2 2 2h14c1.1 0 2-.9 2-2V5c0-1.1-.9-2-2-2zM9 17H7v-7h2v7zm4 0h-2V7h2v10zm4 0h-2v-4h2v4z\"/>\n",
              "    </g>\n",
              "</svg>\n",
              "  </button>\n",
              "\n",
              "<style>\n",
              "  .colab-df-quickchart {\n",
              "      --bg-color: #E8F0FE;\n",
              "      --fill-color: #1967D2;\n",
              "      --hover-bg-color: #E2EBFA;\n",
              "      --hover-fill-color: #174EA6;\n",
              "      --disabled-fill-color: #AAA;\n",
              "      --disabled-bg-color: #DDD;\n",
              "  }\n",
              "\n",
              "  [theme=dark] .colab-df-quickchart {\n",
              "      --bg-color: #3B4455;\n",
              "      --fill-color: #D2E3FC;\n",
              "      --hover-bg-color: #434B5C;\n",
              "      --hover-fill-color: #FFFFFF;\n",
              "      --disabled-bg-color: #3B4455;\n",
              "      --disabled-fill-color: #666;\n",
              "  }\n",
              "\n",
              "  .colab-df-quickchart {\n",
              "    background-color: var(--bg-color);\n",
              "    border: none;\n",
              "    border-radius: 50%;\n",
              "    cursor: pointer;\n",
              "    display: none;\n",
              "    fill: var(--fill-color);\n",
              "    height: 32px;\n",
              "    padding: 0;\n",
              "    width: 32px;\n",
              "  }\n",
              "\n",
              "  .colab-df-quickchart:hover {\n",
              "    background-color: var(--hover-bg-color);\n",
              "    box-shadow: 0 1px 2px rgba(60, 64, 67, 0.3), 0 1px 3px 1px rgba(60, 64, 67, 0.15);\n",
              "    fill: var(--button-hover-fill-color);\n",
              "  }\n",
              "\n",
              "  .colab-df-quickchart-complete:disabled,\n",
              "  .colab-df-quickchart-complete:disabled:hover {\n",
              "    background-color: var(--disabled-bg-color);\n",
              "    fill: var(--disabled-fill-color);\n",
              "    box-shadow: none;\n",
              "  }\n",
              "\n",
              "  .colab-df-spinner {\n",
              "    border: 2px solid var(--fill-color);\n",
              "    border-color: transparent;\n",
              "    border-bottom-color: var(--fill-color);\n",
              "    animation:\n",
              "      spin 1s steps(1) infinite;\n",
              "  }\n",
              "\n",
              "  @keyframes spin {\n",
              "    0% {\n",
              "      border-color: transparent;\n",
              "      border-bottom-color: var(--fill-color);\n",
              "      border-left-color: var(--fill-color);\n",
              "    }\n",
              "    20% {\n",
              "      border-color: transparent;\n",
              "      border-left-color: var(--fill-color);\n",
              "      border-top-color: var(--fill-color);\n",
              "    }\n",
              "    30% {\n",
              "      border-color: transparent;\n",
              "      border-left-color: var(--fill-color);\n",
              "      border-top-color: var(--fill-color);\n",
              "      border-right-color: var(--fill-color);\n",
              "    }\n",
              "    40% {\n",
              "      border-color: transparent;\n",
              "      border-right-color: var(--fill-color);\n",
              "      border-top-color: var(--fill-color);\n",
              "    }\n",
              "    60% {\n",
              "      border-color: transparent;\n",
              "      border-right-color: var(--fill-color);\n",
              "    }\n",
              "    80% {\n",
              "      border-color: transparent;\n",
              "      border-right-color: var(--fill-color);\n",
              "      border-bottom-color: var(--fill-color);\n",
              "    }\n",
              "    90% {\n",
              "      border-color: transparent;\n",
              "      border-bottom-color: var(--fill-color);\n",
              "    }\n",
              "  }\n",
              "</style>\n",
              "\n",
              "  <script>\n",
              "    async function quickchart(key) {\n",
              "      const quickchartButtonEl =\n",
              "        document.querySelector('#' + key + ' button');\n",
              "      quickchartButtonEl.disabled = true;  // To prevent multiple clicks.\n",
              "      quickchartButtonEl.classList.add('colab-df-spinner');\n",
              "      try {\n",
              "        const charts = await google.colab.kernel.invokeFunction(\n",
              "            'suggestCharts', [key], {});\n",
              "      } catch (error) {\n",
              "        console.error('Error during call to suggestCharts:', error);\n",
              "      }\n",
              "      quickchartButtonEl.classList.remove('colab-df-spinner');\n",
              "      quickchartButtonEl.classList.add('colab-df-quickchart-complete');\n",
              "    }\n",
              "    (() => {\n",
              "      let quickchartButtonEl =\n",
              "        document.querySelector('#df-b1133836-e48b-4881-9dad-1f55b45cc5fe button');\n",
              "      quickchartButtonEl.style.display =\n",
              "        google.colab.kernel.accessAllowed ? 'block' : 'none';\n",
              "    })();\n",
              "  </script>\n",
              "</div>\n",
              "\n",
              "    </div>\n",
              "  </div>\n"
            ]
          },
          "metadata": {},
          "execution_count": 29
        }
      ],
      "source": [
        "pd.DataFrame(db.peek(3))"
      ]
    },
    {
      "cell_type": "code",
      "execution_count": 30,
      "metadata": {
        "id": "RI-QiaX470r-"
      },
      "outputs": [],
      "source": [
        "def get_relevant_passage(query, db):\n",
        "  passage = db.query(query_texts=[query], n_results=1)['documents'][0][0]\n",
        "  return passage"
      ]
    },
    {
      "cell_type": "code",
      "execution_count": 31,
      "metadata": {
        "id": "8aGzoFIC78S8"
      },
      "outputs": [],
      "source": [
        "def make_prompt(query, relevant_passage):\n",
        "  escaped = relevant_passage.replace(\"'\", \"\").replace('\"', \"\").replace(\"\\n\", \" \")\n",
        "  prompt = (\"\"\"You are a helpful and informative bot that answers questions using text from the reference passage included below. \\\n",
        "  If the passage is irrelevant to the answer, you may ignore it.\n",
        "  QUESTION: '{query}'\n",
        "  PASSAGE: '{relevant_passage}'\n",
        "\n",
        "    ANSWER:\n",
        "  \"\"\").format(query=query, relevant_passage=escaped)\n",
        "\n",
        "  return prompt"
      ]
    },
    {
      "cell_type": "code",
      "execution_count": 32,
      "metadata": {
        "colab": {
          "base_uri": "https://localhost:8080/",
          "height": 0
        },
        "id": "ClROzhpS8R20",
        "outputId": "c6b994e8-5e68-4ca8-d1b4-99175874e707"
      },
      "outputs": [
        {
          "output_type": "execute_result",
          "data": {
            "text/plain": [
              "<IPython.core.display.Markdown object>"
            ],
            "text/markdown": "You are a helpful and informative bot that answers questions using text from the reference passage included below.   If the passage is irrelevant to the answer, you may ignore it.\n  QUESTION: 'where can I get seafood'\n  PASSAGE: '1. Limón: Peruvian seafood and cocktail bar with a focus on fresh seafood. and mouth-watering dishes. 2. Pacific Catch: Seafood restaurant offering tacos., sushi, and poke bowls, with a focus on sustainable and high-quality seafood. 3. The Sea by Alexander’s Steakhouse: Upscale. seafood restaurant with a focus on fresh seafood and steak, offering a refined dining experience. 4. Cap’t Loui: Casual seafood restaurant specializing in fish. and chips, with a focus on large portions and a family-friendly atmosphere. 5. Rustic House Oyster Bar and Grill: Seafood restaurant with a focus on oysters and grilled seafood, offering a casual and lively atmosphere. 6. The. City Fish: Seafood restaurant specializing in sandwiches, fish and chips, and other seafood dishes, with a focus on fresh and high-quality ingredients. 7. Cook’s Seafood: Seafood restaurant and seafood market with a focus on fresh and. sustainable seafood, offering a variety of seafood dishes and a casual atmosphere. 8. King’s Fish House: Upscale seafood restaurant with a focus on fresh and sustainable seafood, offering a variety of seafood dishes and a refined dining experience. 9. La Marea of the Sea: Casual seafood stand with a focus. on fresh and affordable seafood, offering a variety of seafood dishes and a casual atmosphere. 10. Supreme Crab: Casual seafood restaurant specializing in Cajun-style seafood, with a focus on crab and other seafood dishes.'\n\n    ANSWER:\n  "
          },
          "metadata": {},
          "execution_count": 32
        }
      ],
      "source": [
        "query = \"where can I get seafood\"\n",
        "passage = get_relevant_passage(query, db)\n",
        "Markdown(passage)\n",
        "prompt = make_prompt(query, passage)\n",
        "Markdown(prompt)"
      ]
    },
    {
      "cell_type": "code",
      "execution_count": 33,
      "metadata": {
        "colab": {
          "base_uri": "https://localhost:8080/",
          "height": 0
        },
        "id": "tirn20Gv8I7h",
        "outputId": "864a6e8c-f358-4eac-b884-8f2ae957b3e7"
      },
      "outputs": [
        {
          "output_type": "execute_result",
          "data": {
            "text/plain": [
              "<IPython.core.display.Markdown object>"
            ],
            "text/markdown": "1. Limón\n2. Pacific Catch\n3. The Sea by Alexander’s Steakhouse\n4. Cap’t Loui\n5. Rustic House Oyster Bar and Grill\n6. The City Fish\n7. Cook’s Seafood\n8. King’s Fish House\n9. La Marea of the Sea\n10. Supreme Crab"
          },
          "metadata": {},
          "execution_count": 33
        }
      ],
      "source": [
        "model = genai.GenerativeModel('gemini-pro')\n",
        "answer = model.generate_content(prompt)\n",
        "Markdown(answer.text)"
      ]
    },
    {
      "cell_type": "markdown",
      "source": [
        "# **Trulens Custom LLM Evaluation**"
      ],
      "metadata": {
        "id": "pOyki6alZmum"
      }
    },
    {
      "cell_type": "markdown",
      "source": [
        "**Please make sure to run the Retrieval-augmented generation (RAG) to set the Db**"
      ],
      "metadata": {
        "id": "VUTEw6ZeRa9w"
      }
    },
    {
      "cell_type": "code",
      "source": [
        "!pip install litellm\n",
        "!pip install trulens_eval==0.18.0"
      ],
      "metadata": {
        "id": "s42tSP8lZh5V",
        "colab": {
          "base_uri": "https://localhost:8080/",
          "height": 1000
        },
        "outputId": "6e52ed9c-5ae3-48d1-8110-c796e29a680f"
      },
      "execution_count": 34,
      "outputs": [
        {
          "output_type": "stream",
          "name": "stdout",
          "text": [
            "Collecting litellm\n",
            "  Downloading litellm-1.15.3-py3-none-any.whl (1.5 MB)\n",
            "\u001b[2K     \u001b[90m━━━━━━━━━━━━━━━━━━━━━━━━━━━━━━━━━━━━━━━━\u001b[0m \u001b[32m1.5/1.5 MB\u001b[0m \u001b[31m7.4 MB/s\u001b[0m eta \u001b[36m0:00:00\u001b[0m\n",
            "\u001b[?25hRequirement already satisfied: aiohttp in /usr/local/lib/python3.10/dist-packages (from litellm) (3.9.1)\n",
            "Requirement already satisfied: appdirs<2.0.0,>=1.4.4 in /usr/local/lib/python3.10/dist-packages (from litellm) (1.4.4)\n",
            "Requirement already satisfied: certifi<2024.0.0,>=2023.7.22 in /usr/local/lib/python3.10/dist-packages (from litellm) (2023.11.17)\n",
            "Requirement already satisfied: click in /usr/local/lib/python3.10/dist-packages (from litellm) (8.1.7)\n",
            "Requirement already satisfied: importlib-metadata>=6.8.0 in /usr/local/lib/python3.10/dist-packages (from litellm) (6.11.0)\n",
            "Requirement already satisfied: jinja2<4.0.0,>=3.1.2 in /usr/local/lib/python3.10/dist-packages (from litellm) (3.1.2)\n",
            "Collecting openai>=1.0.0 (from litellm)\n",
            "  Downloading openai-1.6.0-py3-none-any.whl (225 kB)\n",
            "\u001b[2K     \u001b[90m━━━━━━━━━━━━━━━━━━━━━━━━━━━━━━━━━━━━━━━━\u001b[0m \u001b[32m225.4/225.4 kB\u001b[0m \u001b[31m10.9 MB/s\u001b[0m eta \u001b[36m0:00:00\u001b[0m\n",
            "\u001b[?25hRequirement already satisfied: python-dotenv>=0.2.0 in /usr/local/lib/python3.10/dist-packages (from litellm) (1.0.0)\n",
            "Collecting tiktoken>=0.4.0 (from litellm)\n",
            "  Downloading tiktoken-0.5.2-cp310-cp310-manylinux_2_17_x86_64.manylinux2014_x86_64.whl (2.0 MB)\n",
            "\u001b[2K     \u001b[90m━━━━━━━━━━━━━━━━━━━━━━━━━━━━━━━━━━━━━━━━\u001b[0m \u001b[32m2.0/2.0 MB\u001b[0m \u001b[31m14.7 MB/s\u001b[0m eta \u001b[36m0:00:00\u001b[0m\n",
            "\u001b[?25hRequirement already satisfied: tokenizers in /usr/local/lib/python3.10/dist-packages (from litellm) (0.15.0)\n",
            "Requirement already satisfied: zipp>=0.5 in /usr/local/lib/python3.10/dist-packages (from importlib-metadata>=6.8.0->litellm) (3.17.0)\n",
            "Requirement already satisfied: MarkupSafe>=2.0 in /usr/local/lib/python3.10/dist-packages (from jinja2<4.0.0,>=3.1.2->litellm) (2.1.3)\n",
            "Requirement already satisfied: anyio<5,>=3.5.0 in /usr/local/lib/python3.10/dist-packages (from openai>=1.0.0->litellm) (3.7.1)\n",
            "Requirement already satisfied: distro<2,>=1.7.0 in /usr/lib/python3/dist-packages (from openai>=1.0.0->litellm) (1.7.0)\n",
            "Collecting httpx<1,>=0.23.0 (from openai>=1.0.0->litellm)\n",
            "  Downloading httpx-0.26.0-py3-none-any.whl (75 kB)\n",
            "\u001b[2K     \u001b[90m━━━━━━━━━━━━━━━━━━━━━━━━━━━━━━━━━━━━━━━━\u001b[0m \u001b[32m75.9/75.9 kB\u001b[0m \u001b[31m7.9 MB/s\u001b[0m eta \u001b[36m0:00:00\u001b[0m\n",
            "\u001b[?25hRequirement already satisfied: pydantic<3,>=1.9.0 in /usr/local/lib/python3.10/dist-packages (from openai>=1.0.0->litellm) (1.10.13)\n",
            "Requirement already satisfied: sniffio in /usr/local/lib/python3.10/dist-packages (from openai>=1.0.0->litellm) (1.3.0)\n",
            "Requirement already satisfied: tqdm>4 in /usr/local/lib/python3.10/dist-packages (from openai>=1.0.0->litellm) (4.66.1)\n",
            "Collecting typing-extensions<5,>=4.7 (from openai>=1.0.0->litellm)\n",
            "  Downloading typing_extensions-4.9.0-py3-none-any.whl (32 kB)\n",
            "Requirement already satisfied: regex>=2022.1.18 in /usr/local/lib/python3.10/dist-packages (from tiktoken>=0.4.0->litellm) (2023.6.3)\n",
            "Requirement already satisfied: requests>=2.26.0 in /usr/local/lib/python3.10/dist-packages (from tiktoken>=0.4.0->litellm) (2.31.0)\n",
            "Requirement already satisfied: attrs>=17.3.0 in /usr/local/lib/python3.10/dist-packages (from aiohttp->litellm) (23.1.0)\n",
            "Requirement already satisfied: multidict<7.0,>=4.5 in /usr/local/lib/python3.10/dist-packages (from aiohttp->litellm) (6.0.4)\n",
            "Requirement already satisfied: yarl<2.0,>=1.0 in /usr/local/lib/python3.10/dist-packages (from aiohttp->litellm) (1.9.4)\n",
            "Requirement already satisfied: frozenlist>=1.1.1 in /usr/local/lib/python3.10/dist-packages (from aiohttp->litellm) (1.4.1)\n",
            "Requirement already satisfied: aiosignal>=1.1.2 in /usr/local/lib/python3.10/dist-packages (from aiohttp->litellm) (1.3.1)\n",
            "Requirement already satisfied: async-timeout<5.0,>=4.0 in /usr/local/lib/python3.10/dist-packages (from aiohttp->litellm) (4.0.3)\n",
            "Requirement already satisfied: huggingface_hub<1.0,>=0.16.4 in /usr/local/lib/python3.10/dist-packages (from tokenizers->litellm) (0.19.4)\n",
            "Requirement already satisfied: idna>=2.8 in /usr/local/lib/python3.10/dist-packages (from anyio<5,>=3.5.0->openai>=1.0.0->litellm) (3.6)\n",
            "Requirement already satisfied: exceptiongroup in /usr/local/lib/python3.10/dist-packages (from anyio<5,>=3.5.0->openai>=1.0.0->litellm) (1.2.0)\n",
            "Collecting httpcore==1.* (from httpx<1,>=0.23.0->openai>=1.0.0->litellm)\n",
            "  Downloading httpcore-1.0.2-py3-none-any.whl (76 kB)\n",
            "\u001b[2K     \u001b[90m━━━━━━━━━━━━━━━━━━━━━━━━━━━━━━━━━━━━━━━━\u001b[0m \u001b[32m76.9/76.9 kB\u001b[0m \u001b[31m8.8 MB/s\u001b[0m eta \u001b[36m0:00:00\u001b[0m\n",
            "\u001b[?25hRequirement already satisfied: h11<0.15,>=0.13 in /usr/local/lib/python3.10/dist-packages (from httpcore==1.*->httpx<1,>=0.23.0->openai>=1.0.0->litellm) (0.14.0)\n",
            "Requirement already satisfied: filelock in /usr/local/lib/python3.10/dist-packages (from huggingface_hub<1.0,>=0.16.4->tokenizers->litellm) (3.13.1)\n",
            "Requirement already satisfied: fsspec>=2023.5.0 in /usr/local/lib/python3.10/dist-packages (from huggingface_hub<1.0,>=0.16.4->tokenizers->litellm) (2023.6.0)\n",
            "Requirement already satisfied: pyyaml>=5.1 in /usr/local/lib/python3.10/dist-packages (from huggingface_hub<1.0,>=0.16.4->tokenizers->litellm) (6.0.1)\n",
            "Requirement already satisfied: packaging>=20.9 in /usr/local/lib/python3.10/dist-packages (from huggingface_hub<1.0,>=0.16.4->tokenizers->litellm) (23.2)\n",
            "Requirement already satisfied: charset-normalizer<4,>=2 in /usr/local/lib/python3.10/dist-packages (from requests>=2.26.0->tiktoken>=0.4.0->litellm) (3.3.2)\n",
            "Requirement already satisfied: urllib3<3,>=1.21.1 in /usr/local/lib/python3.10/dist-packages (from requests>=2.26.0->tiktoken>=0.4.0->litellm) (1.26.18)\n",
            "Installing collected packages: typing-extensions, httpcore, tiktoken, httpx, openai, litellm\n",
            "  Attempting uninstall: typing-extensions\n",
            "    Found existing installation: typing_extensions 4.6.0\n",
            "    Uninstalling typing_extensions-4.6.0:\n",
            "      Successfully uninstalled typing_extensions-4.6.0\n",
            "\u001b[31mERROR: pip's dependency resolver does not currently take into account all the packages that are installed. This behaviour is the source of the following dependency conflicts.\n",
            "lida 0.0.10 requires kaleido, which is not installed.\n",
            "lida 0.0.10 requires python-multipart, which is not installed.\n",
            "llmx 0.0.15a0 requires cohere, which is not installed.\n",
            "tensorflow-probability 0.22.0 requires typing-extensions<4.6.0, but you have typing-extensions 4.9.0 which is incompatible.\u001b[0m\u001b[31m\n",
            "\u001b[0mSuccessfully installed httpcore-1.0.2 httpx-0.26.0 litellm-1.15.3 openai-1.6.0 tiktoken-0.5.2 typing-extensions-4.9.0\n",
            "Collecting trulens_eval==0.18.0\n",
            "  Downloading trulens_eval-0.18.0-py3-none-any.whl (622 kB)\n",
            "\u001b[2K     \u001b[90m━━━━━━━━━━━━━━━━━━━━━━━━━━━━━━━━━━━━━━━━\u001b[0m \u001b[32m622.3/622.3 kB\u001b[0m \u001b[31m4.9 MB/s\u001b[0m eta \u001b[36m0:00:00\u001b[0m\n",
            "\u001b[?25hCollecting cohere>=4.4.1 (from trulens_eval==0.18.0)\n",
            "  Downloading cohere-4.39-py3-none-any.whl (51 kB)\n",
            "\u001b[2K     \u001b[90m━━━━━━━━━━━━━━━━━━━━━━━━━━━━━━━━━━━━━━━━\u001b[0m \u001b[32m51.7/51.7 kB\u001b[0m \u001b[31m5.0 MB/s\u001b[0m eta \u001b[36m0:00:00\u001b[0m\n",
            "\u001b[?25hCollecting datasets>=2.12.0 (from trulens_eval==0.18.0)\n",
            "  Downloading datasets-2.15.0-py3-none-any.whl (521 kB)\n",
            "\u001b[2K     \u001b[90m━━━━━━━━━━━━━━━━━━━━━━━━━━━━━━━━━━━━━━━━\u001b[0m \u001b[32m521.2/521.2 kB\u001b[0m \u001b[31m7.9 MB/s\u001b[0m eta \u001b[36m0:00:00\u001b[0m\n",
            "\u001b[?25hRequirement already satisfied: python-dotenv>=1.0.0 in /usr/local/lib/python3.10/dist-packages (from trulens_eval==0.18.0) (1.0.0)\n",
            "Requirement already satisfied: kaggle>=1.5.13 in /usr/local/lib/python3.10/dist-packages (from trulens_eval==0.18.0) (1.5.16)\n",
            "Requirement already satisfied: langchain>=0.0.335 in /usr/local/lib/python3.10/dist-packages (from trulens_eval==0.18.0) (0.0.352)\n",
            "Collecting typing-inspect==0.8.0 (from trulens_eval==0.18.0)\n",
            "  Downloading typing_inspect-0.8.0-py3-none-any.whl (8.7 kB)\n",
            "Collecting typing-extensions==4.5.0 (from trulens_eval==0.18.0)\n",
            "  Downloading typing_extensions-4.5.0-py3-none-any.whl (27 kB)\n",
            "Collecting llama-index==0.8.69 (from trulens_eval==0.18.0)\n",
            "  Downloading llama_index-0.8.69-py3-none-any.whl (862 kB)\n",
            "\u001b[2K     \u001b[90m━━━━━━━━━━━━━━━━━━━━━━━━━━━━━━━━━━━━━━━━\u001b[0m \u001b[32m862.2/862.2 kB\u001b[0m \u001b[31m10.3 MB/s\u001b[0m eta \u001b[36m0:00:00\u001b[0m\n",
            "\u001b[?25hCollecting merkle-json>=1.0.0 (from trulens_eval==0.18.0)\n",
            "  Downloading merkle_json-1.0.0-py3-none-any.whl (5.2 kB)\n",
            "Collecting millify>=0.1.1 (from trulens_eval==0.18.0)\n",
            "  Downloading millify-0.1.1.tar.gz (1.2 kB)\n",
            "  Preparing metadata (setup.py) ... \u001b[?25l\u001b[?25hdone\n",
            "Requirement already satisfied: openai<2,>=1.1.1 in /usr/local/lib/python3.10/dist-packages (from trulens_eval==0.18.0) (1.6.0)\n",
            "Collecting pinecone-client>=2.2.1 (from trulens_eval==0.18.0)\n",
            "  Downloading pinecone_client-2.2.4-py3-none-any.whl (179 kB)\n",
            "\u001b[2K     \u001b[90m━━━━━━━━━━━━━━━━━━━━━━━━━━━━━━━━━━━━━━━━\u001b[0m \u001b[32m179.4/179.4 kB\u001b[0m \u001b[31m7.7 MB/s\u001b[0m eta \u001b[36m0:00:00\u001b[0m\n",
            "\u001b[?25hRequirement already satisfied: pydantic<2,>=1.10.7 in /usr/local/lib/python3.10/dist-packages (from trulens_eval==0.18.0) (1.10.13)\n",
            "Requirement already satisfied: humanize>=4.6.0 in /usr/local/lib/python3.10/dist-packages (from trulens_eval==0.18.0) (4.7.0)\n",
            "Collecting slack-bolt>=1.18.0 (from trulens_eval==0.18.0)\n",
            "  Downloading slack_bolt-1.18.1-py2.py3-none-any.whl (194 kB)\n",
            "\u001b[2K     \u001b[90m━━━━━━━━━━━━━━━━━━━━━━━━━━━━━━━━━━━━━━━━\u001b[0m \u001b[32m194.7/194.7 kB\u001b[0m \u001b[31m11.4 MB/s\u001b[0m eta \u001b[36m0:00:00\u001b[0m\n",
            "\u001b[?25hCollecting slack-sdk>=3.21.3 (from trulens_eval==0.18.0)\n",
            "  Downloading slack_sdk-3.26.1-py2.py3-none-any.whl (284 kB)\n",
            "\u001b[2K     \u001b[90m━━━━━━━━━━━━━━━━━━━━━━━━━━━━━━━━━━━━━━━━\u001b[0m \u001b[32m284.1/284.1 kB\u001b[0m \u001b[31m10.7 MB/s\u001b[0m eta \u001b[36m0:00:00\u001b[0m\n",
            "\u001b[?25hCollecting streamlit>=1.27.0 (from trulens_eval==0.18.0)\n",
            "  Downloading streamlit-1.29.0-py2.py3-none-any.whl (8.4 MB)\n",
            "\u001b[2K     \u001b[90m━━━━━━━━━━━━━━━━━━━━━━━━━━━━━━━━━━━━━━━━\u001b[0m \u001b[32m8.4/8.4 MB\u001b[0m \u001b[31m22.3 MB/s\u001b[0m eta \u001b[36m0:00:00\u001b[0m\n",
            "\u001b[?25hCollecting streamlit-aggrid>=0.3.4.post3 (from trulens_eval==0.18.0)\n",
            "  Downloading streamlit_aggrid-0.3.4.post3-py3-none-any.whl (3.4 MB)\n",
            "\u001b[2K     \u001b[90m━━━━━━━━━━━━━━━━━━━━━━━━━━━━━━━━━━━━━━━━\u001b[0m \u001b[32m3.4/3.4 MB\u001b[0m \u001b[31m39.8 MB/s\u001b[0m eta \u001b[36m0:00:00\u001b[0m\n",
            "\u001b[?25hCollecting streamlit-extras>=0.2.7 (from trulens_eval==0.18.0)\n",
            "  Downloading streamlit_extras-0.3.6-py3-none-any.whl (66 kB)\n",
            "\u001b[2K     \u001b[90m━━━━━━━━━━━━━━━━━━━━━━━━━━━━━━━━━━━━━━━━\u001b[0m \u001b[32m66.0/66.0 kB\u001b[0m \u001b[31m7.8 MB/s\u001b[0m eta \u001b[36m0:00:00\u001b[0m\n",
            "\u001b[?25hCollecting streamlit-javascript>=0.1.5 (from trulens_eval==0.18.0)\n",
            "  Downloading streamlit_javascript-0.1.5-py3-none-any.whl (518 kB)\n",
            "\u001b[2K     \u001b[90m━━━━━━━━━━━━━━━━━━━━━━━━━━━━━━━━━━━━━━━━\u001b[0m \u001b[32m518.4/518.4 kB\u001b[0m \u001b[31m41.5 MB/s\u001b[0m eta \u001b[36m0:00:00\u001b[0m\n",
            "\u001b[?25hRequirement already satisfied: transformers>=4.10.0 in /usr/local/lib/python3.10/dist-packages (from trulens_eval==0.18.0) (4.35.2)\n",
            "Requirement already satisfied: frozendict>=2.3.8 in /usr/local/lib/python3.10/dist-packages (from trulens_eval==0.18.0) (2.3.10)\n",
            "Collecting munch>=3.0.0 (from trulens_eval==0.18.0)\n",
            "  Downloading munch-4.0.0-py2.py3-none-any.whl (9.9 kB)\n",
            "Collecting ipywidgets>=8.0.6 (from trulens_eval==0.18.0)\n",
            "  Downloading ipywidgets-8.1.1-py3-none-any.whl (139 kB)\n",
            "\u001b[2K     \u001b[90m━━━━━━━━━━━━━━━━━━━━━━━━━━━━━━━━━━━━━━━━\u001b[0m \u001b[32m139.4/139.4 kB\u001b[0m \u001b[31m15.0 MB/s\u001b[0m eta \u001b[36m0:00:00\u001b[0m\n",
            "\u001b[?25hRequirement already satisfied: numpy>=1.23.5 in /usr/local/lib/python3.10/dist-packages (from trulens_eval==0.18.0) (1.23.5)\n",
            "Requirement already satisfied: sqlalchemy>=2.0.19 in /usr/local/lib/python3.10/dist-packages (from trulens_eval==0.18.0) (2.0.23)\n",
            "Collecting alembic>=1.11.2 (from trulens_eval==0.18.0)\n",
            "  Downloading alembic-1.13.1-py3-none-any.whl (233 kB)\n",
            "\u001b[2K     \u001b[90m━━━━━━━━━━━━━━━━━━━━━━━━━━━━━━━━━━━━━━━━\u001b[0m \u001b[32m233.4/233.4 kB\u001b[0m \u001b[31m21.9 MB/s\u001b[0m eta \u001b[36m0:00:00\u001b[0m\n",
            "\u001b[?25hCollecting aiostream<0.6.0,>=0.5.2 (from llama-index==0.8.69->trulens_eval==0.18.0)\n",
            "  Downloading aiostream-0.5.2-py3-none-any.whl (39 kB)\n",
            "Collecting dataclasses-json<0.6.0,>=0.5.7 (from llama-index==0.8.69->trulens_eval==0.18.0)\n",
            "  Downloading dataclasses_json-0.5.14-py3-none-any.whl (26 kB)\n",
            "Requirement already satisfied: deprecated>=1.2.9.3 in /usr/local/lib/python3.10/dist-packages (from llama-index==0.8.69->trulens_eval==0.18.0) (1.2.14)\n",
            "Requirement already satisfied: fsspec>=2023.5.0 in /usr/local/lib/python3.10/dist-packages (from llama-index==0.8.69->trulens_eval==0.18.0) (2023.6.0)\n",
            "Requirement already satisfied: nest-asyncio<2.0.0,>=1.5.8 in /usr/local/lib/python3.10/dist-packages (from llama-index==0.8.69->trulens_eval==0.18.0) (1.5.8)\n",
            "Requirement already satisfied: nltk<4.0.0,>=3.8.1 in /usr/local/lib/python3.10/dist-packages (from llama-index==0.8.69->trulens_eval==0.18.0) (3.8.1)\n",
            "Requirement already satisfied: pandas in /usr/local/lib/python3.10/dist-packages (from llama-index==0.8.69->trulens_eval==0.18.0) (1.5.3)\n",
            "Requirement already satisfied: tenacity<9.0.0,>=8.2.0 in /usr/local/lib/python3.10/dist-packages (from llama-index==0.8.69->trulens_eval==0.18.0) (8.2.3)\n",
            "Requirement already satisfied: tiktoken>=0.3.3 in /usr/local/lib/python3.10/dist-packages (from llama-index==0.8.69->trulens_eval==0.18.0) (0.5.2)\n",
            "Requirement already satisfied: urllib3<2 in /usr/local/lib/python3.10/dist-packages (from llama-index==0.8.69->trulens_eval==0.18.0) (1.26.18)\n",
            "Requirement already satisfied: mypy-extensions>=0.3.0 in /usr/local/lib/python3.10/dist-packages (from typing-inspect==0.8.0->trulens_eval==0.18.0) (1.0.0)\n",
            "Collecting Mako (from alembic>=1.11.2->trulens_eval==0.18.0)\n",
            "  Downloading Mako-1.3.0-py3-none-any.whl (78 kB)\n",
            "\u001b[2K     \u001b[90m━━━━━━━━━━━━━━━━━━━━━━━━━━━━━━━━━━━━━━━━\u001b[0m \u001b[32m78.6/78.6 kB\u001b[0m \u001b[31m9.1 MB/s\u001b[0m eta \u001b[36m0:00:00\u001b[0m\n",
            "\u001b[?25hRequirement already satisfied: aiohttp<4.0,>=3.0 in /usr/local/lib/python3.10/dist-packages (from cohere>=4.4.1->trulens_eval==0.18.0) (3.9.1)\n",
            "Requirement already satisfied: backoff<3.0,>=2.0 in /usr/local/lib/python3.10/dist-packages (from cohere>=4.4.1->trulens_eval==0.18.0) (2.2.1)\n",
            "Collecting fastavro<2.0,>=1.8 (from cohere>=4.4.1->trulens_eval==0.18.0)\n",
            "  Downloading fastavro-1.9.2-cp310-cp310-manylinux_2_17_x86_64.manylinux2014_x86_64.whl (3.1 MB)\n",
            "\u001b[2K     \u001b[90m━━━━━━━━━━━━━━━━━━━━━━━━━━━━━━━━━━━━━━━━\u001b[0m \u001b[32m3.1/3.1 MB\u001b[0m \u001b[31m41.5 MB/s\u001b[0m eta \u001b[36m0:00:00\u001b[0m\n",
            "\u001b[?25hRequirement already satisfied: importlib_metadata<7.0,>=6.0 in /usr/local/lib/python3.10/dist-packages (from cohere>=4.4.1->trulens_eval==0.18.0) (6.11.0)\n",
            "Requirement already satisfied: requests<3.0.0,>=2.25.0 in /usr/local/lib/python3.10/dist-packages (from cohere>=4.4.1->trulens_eval==0.18.0) (2.31.0)\n",
            "Requirement already satisfied: pyarrow>=8.0.0 in /usr/local/lib/python3.10/dist-packages (from datasets>=2.12.0->trulens_eval==0.18.0) (10.0.1)\n",
            "Collecting pyarrow-hotfix (from datasets>=2.12.0->trulens_eval==0.18.0)\n",
            "  Downloading pyarrow_hotfix-0.6-py3-none-any.whl (7.9 kB)\n",
            "Collecting dill<0.3.8,>=0.3.0 (from datasets>=2.12.0->trulens_eval==0.18.0)\n",
            "  Downloading dill-0.3.7-py3-none-any.whl (115 kB)\n",
            "\u001b[2K     \u001b[90m━━━━━━━━━━━━━━━━━━━━━━━━━━━━━━━━━━━━━━━━\u001b[0m \u001b[32m115.3/115.3 kB\u001b[0m \u001b[31m12.4 MB/s\u001b[0m eta \u001b[36m0:00:00\u001b[0m\n",
            "\u001b[?25hRequirement already satisfied: tqdm>=4.62.1 in /usr/local/lib/python3.10/dist-packages (from datasets>=2.12.0->trulens_eval==0.18.0) (4.66.1)\n",
            "Requirement already satisfied: xxhash in /usr/local/lib/python3.10/dist-packages (from datasets>=2.12.0->trulens_eval==0.18.0) (3.4.1)\n",
            "Collecting multiprocess (from datasets>=2.12.0->trulens_eval==0.18.0)\n",
            "  Downloading multiprocess-0.70.15-py310-none-any.whl (134 kB)\n",
            "\u001b[2K     \u001b[90m━━━━━━━━━━━━━━━━━━━━━━━━━━━━━━━━━━━━━━━━\u001b[0m \u001b[32m134.8/134.8 kB\u001b[0m \u001b[31m13.6 MB/s\u001b[0m eta \u001b[36m0:00:00\u001b[0m\n",
            "\u001b[?25hRequirement already satisfied: huggingface-hub>=0.18.0 in /usr/local/lib/python3.10/dist-packages (from datasets>=2.12.0->trulens_eval==0.18.0) (0.19.4)\n",
            "Requirement already satisfied: packaging in /usr/local/lib/python3.10/dist-packages (from datasets>=2.12.0->trulens_eval==0.18.0) (23.2)\n",
            "Requirement already satisfied: pyyaml>=5.1 in /usr/local/lib/python3.10/dist-packages (from datasets>=2.12.0->trulens_eval==0.18.0) (6.0.1)\n",
            "Collecting comm>=0.1.3 (from ipywidgets>=8.0.6->trulens_eval==0.18.0)\n",
            "  Downloading comm-0.2.0-py3-none-any.whl (7.0 kB)\n",
            "Requirement already satisfied: ipython>=6.1.0 in /usr/local/lib/python3.10/dist-packages (from ipywidgets>=8.0.6->trulens_eval==0.18.0) (7.34.0)\n",
            "Requirement already satisfied: traitlets>=4.3.1 in /usr/local/lib/python3.10/dist-packages (from ipywidgets>=8.0.6->trulens_eval==0.18.0) (5.7.1)\n",
            "Collecting widgetsnbextension~=4.0.9 (from ipywidgets>=8.0.6->trulens_eval==0.18.0)\n",
            "  Downloading widgetsnbextension-4.0.9-py3-none-any.whl (2.3 MB)\n",
            "\u001b[2K     \u001b[90m━━━━━━━━━━━━━━━━━━━━━━━━━━━━━━━━━━━━━━━━\u001b[0m \u001b[32m2.3/2.3 MB\u001b[0m \u001b[31m40.6 MB/s\u001b[0m eta \u001b[36m0:00:00\u001b[0m\n",
            "\u001b[?25hRequirement already satisfied: jupyterlab-widgets~=3.0.9 in /usr/local/lib/python3.10/dist-packages (from ipywidgets>=8.0.6->trulens_eval==0.18.0) (3.0.9)\n",
            "Requirement already satisfied: six>=1.10 in /usr/local/lib/python3.10/dist-packages (from kaggle>=1.5.13->trulens_eval==0.18.0) (1.16.0)\n",
            "Requirement already satisfied: certifi in /usr/local/lib/python3.10/dist-packages (from kaggle>=1.5.13->trulens_eval==0.18.0) (2023.11.17)\n",
            "Requirement already satisfied: python-dateutil in /usr/local/lib/python3.10/dist-packages (from kaggle>=1.5.13->trulens_eval==0.18.0) (2.8.2)\n",
            "Requirement already satisfied: python-slugify in /usr/local/lib/python3.10/dist-packages (from kaggle>=1.5.13->trulens_eval==0.18.0) (8.0.1)\n",
            "Requirement already satisfied: bleach in /usr/local/lib/python3.10/dist-packages (from kaggle>=1.5.13->trulens_eval==0.18.0) (6.1.0)\n",
            "Requirement already satisfied: async-timeout<5.0.0,>=4.0.0 in /usr/local/lib/python3.10/dist-packages (from langchain>=0.0.335->trulens_eval==0.18.0) (4.0.3)\n",
            "Requirement already satisfied: jsonpatch<2.0,>=1.33 in /usr/local/lib/python3.10/dist-packages (from langchain>=0.0.335->trulens_eval==0.18.0) (1.33)\n",
            "Requirement already satisfied: langchain-community<0.1,>=0.0.2 in /usr/local/lib/python3.10/dist-packages (from langchain>=0.0.335->trulens_eval==0.18.0) (0.0.6)\n",
            "Requirement already satisfied: langchain-core<0.2,>=0.1 in /usr/local/lib/python3.10/dist-packages (from langchain>=0.0.335->trulens_eval==0.18.0) (0.1.3)\n",
            "Requirement already satisfied: langsmith<0.1.0,>=0.0.70 in /usr/local/lib/python3.10/dist-packages (from langchain>=0.0.335->trulens_eval==0.18.0) (0.0.74)\n",
            "Requirement already satisfied: anyio<5,>=3.5.0 in /usr/local/lib/python3.10/dist-packages (from openai<2,>=1.1.1->trulens_eval==0.18.0) (3.7.1)\n",
            "Requirement already satisfied: distro<2,>=1.7.0 in /usr/lib/python3/dist-packages (from openai<2,>=1.1.1->trulens_eval==0.18.0) (1.7.0)\n",
            "Requirement already satisfied: httpx<1,>=0.23.0 in /usr/local/lib/python3.10/dist-packages (from openai<2,>=1.1.1->trulens_eval==0.18.0) (0.26.0)\n",
            "Requirement already satisfied: sniffio in /usr/local/lib/python3.10/dist-packages (from openai<2,>=1.1.1->trulens_eval==0.18.0) (1.3.0)\n",
            "INFO: pip is looking at multiple versions of openai to determine which version is compatible with other requirements. This could take a while.\n",
            "Collecting openai<2,>=1.1.1 (from trulens_eval==0.18.0)\n",
            "  Downloading openai-1.5.0-py3-none-any.whl (223 kB)\n",
            "\u001b[2K     \u001b[90m━━━━━━━━━━━━━━━━━━━━━━━━━━━━━━━━━━━━━━━━\u001b[0m \u001b[32m223.7/223.7 kB\u001b[0m \u001b[31m22.9 MB/s\u001b[0m eta \u001b[36m0:00:00\u001b[0m\n",
            "\u001b[?25hCollecting loguru>=0.5.0 (from pinecone-client>=2.2.1->trulens_eval==0.18.0)\n",
            "  Downloading loguru-0.7.2-py3-none-any.whl (62 kB)\n",
            "\u001b[2K     \u001b[90m━━━━━━━━━━━━━━━━━━━━━━━━━━━━━━━━━━━━━━━━\u001b[0m \u001b[32m62.5/62.5 kB\u001b[0m \u001b[31m7.1 MB/s\u001b[0m eta \u001b[36m0:00:00\u001b[0m\n",
            "\u001b[?25hCollecting dnspython>=2.0.0 (from pinecone-client>=2.2.1->trulens_eval==0.18.0)\n",
            "  Downloading dnspython-2.4.2-py3-none-any.whl (300 kB)\n",
            "\u001b[2K     \u001b[90m━━━━━━━━━━━━━━━━━━━━━━━━━━━━━━━━━━━━━━━━\u001b[0m \u001b[32m300.4/300.4 kB\u001b[0m \u001b[31m23.2 MB/s\u001b[0m eta \u001b[36m0:00:00\u001b[0m\n",
            "\u001b[?25hRequirement already satisfied: greenlet!=0.4.17 in /usr/local/lib/python3.10/dist-packages (from sqlalchemy>=2.0.19->trulens_eval==0.18.0) (3.0.1)\n",
            "Requirement already satisfied: altair<6,>=4.0 in /usr/local/lib/python3.10/dist-packages (from streamlit>=1.27.0->trulens_eval==0.18.0) (4.2.2)\n",
            "Requirement already satisfied: blinker<2,>=1.0.0 in /usr/lib/python3/dist-packages (from streamlit>=1.27.0->trulens_eval==0.18.0) (1.4)\n",
            "Requirement already satisfied: cachetools<6,>=4.0 in /usr/local/lib/python3.10/dist-packages (from streamlit>=1.27.0->trulens_eval==0.18.0) (5.3.2)\n",
            "Requirement already satisfied: click<9,>=7.0 in /usr/local/lib/python3.10/dist-packages (from streamlit>=1.27.0->trulens_eval==0.18.0) (8.1.7)\n",
            "Requirement already satisfied: pillow<11,>=7.1.0 in /usr/local/lib/python3.10/dist-packages (from streamlit>=1.27.0->trulens_eval==0.18.0) (9.4.0)\n",
            "Requirement already satisfied: protobuf<5,>=3.20 in /usr/local/lib/python3.10/dist-packages (from streamlit>=1.27.0->trulens_eval==0.18.0) (3.20.3)\n",
            "Requirement already satisfied: rich<14,>=10.14.0 in /usr/local/lib/python3.10/dist-packages (from streamlit>=1.27.0->trulens_eval==0.18.0) (13.7.0)\n",
            "Requirement already satisfied: toml<2,>=0.10.1 in /usr/local/lib/python3.10/dist-packages (from streamlit>=1.27.0->trulens_eval==0.18.0) (0.10.2)\n",
            "Requirement already satisfied: tzlocal<6,>=1.1 in /usr/local/lib/python3.10/dist-packages (from streamlit>=1.27.0->trulens_eval==0.18.0) (5.2)\n",
            "Collecting validators<1,>=0.2 (from streamlit>=1.27.0->trulens_eval==0.18.0)\n",
            "  Downloading validators-0.22.0-py3-none-any.whl (26 kB)\n",
            "Collecting gitpython!=3.1.19,<4,>=3.0.7 (from streamlit>=1.27.0->trulens_eval==0.18.0)\n",
            "  Downloading GitPython-3.1.40-py3-none-any.whl (190 kB)\n",
            "\u001b[2K     \u001b[90m━━━━━━━━━━━━━━━━━━━━━━━━━━━━━━━━━━━━━━━━\u001b[0m \u001b[32m190.6/190.6 kB\u001b[0m \u001b[31m20.4 MB/s\u001b[0m eta \u001b[36m0:00:00\u001b[0m\n",
            "\u001b[?25hCollecting pydeck<1,>=0.8.0b4 (from streamlit>=1.27.0->trulens_eval==0.18.0)\n",
            "  Downloading pydeck-0.8.1b0-py2.py3-none-any.whl (4.8 MB)\n",
            "\u001b[2K     \u001b[90m━━━━━━━━━━━━━━━━━━━━━━━━━━━━━━━━━━━━━━━━\u001b[0m \u001b[32m4.8/4.8 MB\u001b[0m \u001b[31m46.0 MB/s\u001b[0m eta \u001b[36m0:00:00\u001b[0m\n",
            "\u001b[?25hRequirement already satisfied: tornado<7,>=6.0.3 in /usr/local/lib/python3.10/dist-packages (from streamlit>=1.27.0->trulens_eval==0.18.0) (6.3.2)\n",
            "Collecting watchdog>=2.1.5 (from streamlit>=1.27.0->trulens_eval==0.18.0)\n",
            "  Downloading watchdog-3.0.0-py3-none-manylinux2014_x86_64.whl (82 kB)\n",
            "\u001b[2K     \u001b[90m━━━━━━━━━━━━━━━━━━━━━━━━━━━━━━━━━━━━━━━━\u001b[0m \u001b[32m82.1/82.1 kB\u001b[0m \u001b[31m9.0 MB/s\u001b[0m eta \u001b[36m0:00:00\u001b[0m\n",
            "\u001b[?25hCollecting python-decouple<4.0,>=3.6 (from streamlit-aggrid>=0.3.4.post3->trulens_eval==0.18.0)\n",
            "  Downloading python_decouple-3.8-py3-none-any.whl (9.9 kB)\n",
            "Requirement already satisfied: entrypoints>=0.4 in /usr/local/lib/python3.10/dist-packages (from streamlit-extras>=0.2.7->trulens_eval==0.18.0) (0.4)\n",
            "Collecting htbuilder>=0.6.2 (from streamlit-extras>=0.2.7->trulens_eval==0.18.0)\n",
            "  Downloading htbuilder-0.6.2-py3-none-any.whl (12 kB)\n",
            "Collecting markdownlit>=0.0.5 (from streamlit-extras>=0.2.7->trulens_eval==0.18.0)\n",
            "  Downloading markdownlit-0.0.7-py3-none-any.whl (15 kB)\n",
            "Collecting st-annotated-text>=3.0.0 (from streamlit-extras>=0.2.7->trulens_eval==0.18.0)\n",
            "  Downloading st_annotated_text-4.0.1-py3-none-any.whl (9.0 kB)\n",
            "Collecting streamlit-camera-input-live>=0.2.0 (from streamlit-extras>=0.2.7->trulens_eval==0.18.0)\n",
            "  Downloading streamlit_camera_input_live-0.2.0-py3-none-any.whl (6.6 kB)\n",
            "Collecting streamlit-card>=0.0.4 (from streamlit-extras>=0.2.7->trulens_eval==0.18.0)\n",
            "  Downloading streamlit_card-1.0.0-py3-none-any.whl (680 kB)\n",
            "\u001b[2K     \u001b[90m━━━━━━━━━━━━━━━━━━━━━━━━━━━━━━━━━━━━━━━━\u001b[0m \u001b[32m680.8/680.8 kB\u001b[0m \u001b[31m37.1 MB/s\u001b[0m eta \u001b[36m0:00:00\u001b[0m\n",
            "\u001b[?25hCollecting streamlit-embedcode>=0.1.2 (from streamlit-extras>=0.2.7->trulens_eval==0.18.0)\n",
            "  Downloading streamlit_embedcode-0.1.2-py3-none-any.whl (3.5 kB)\n",
            "Collecting streamlit-faker>=0.0.2 (from streamlit-extras>=0.2.7->trulens_eval==0.18.0)\n",
            "  Downloading streamlit_faker-0.0.3-py3-none-any.whl (14 kB)\n",
            "Collecting streamlit-image-coordinates<0.2.0,>=0.1.1 (from streamlit-extras>=0.2.7->trulens_eval==0.18.0)\n",
            "  Downloading streamlit_image_coordinates-0.1.6-py3-none-any.whl (6.3 kB)\n",
            "Collecting streamlit-keyup>=0.1.9 (from streamlit-extras>=0.2.7->trulens_eval==0.18.0)\n",
            "  Downloading streamlit_keyup-0.2.2-py3-none-any.whl (7.4 kB)\n",
            "Collecting streamlit-toggle-switch>=1.0.2 (from streamlit-extras>=0.2.7->trulens_eval==0.18.0)\n",
            "  Downloading streamlit_toggle_switch-1.0.2-py3-none-any.whl (635 kB)\n",
            "\u001b[2K     \u001b[90m━━━━━━━━━━━━━━━━━━━━━━━━━━━━━━━━━━━━━━━━\u001b[0m \u001b[32m635.4/635.4 kB\u001b[0m \u001b[31m36.1 MB/s\u001b[0m eta \u001b[36m0:00:00\u001b[0m\n",
            "\u001b[?25hCollecting streamlit-vertical-slider>=1.0.2 (from streamlit-extras>=0.2.7->trulens_eval==0.18.0)\n",
            "  Downloading streamlit_vertical_slider-2.5.3-py3-none-any.whl (1.8 MB)\n",
            "\u001b[2K     \u001b[90m━━━━━━━━━━━━━━━━━━━━━━━━━━━━━━━━━━━━━━━━\u001b[0m \u001b[32m1.8/1.8 MB\u001b[0m \u001b[31m48.2 MB/s\u001b[0m eta \u001b[36m0:00:00\u001b[0m\n",
            "\u001b[?25hRequirement already satisfied: filelock in /usr/local/lib/python3.10/dist-packages (from transformers>=4.10.0->trulens_eval==0.18.0) (3.13.1)\n",
            "Requirement already satisfied: regex!=2019.12.17 in /usr/local/lib/python3.10/dist-packages (from transformers>=4.10.0->trulens_eval==0.18.0) (2023.6.3)\n",
            "Requirement already satisfied: tokenizers<0.19,>=0.14 in /usr/local/lib/python3.10/dist-packages (from transformers>=4.10.0->trulens_eval==0.18.0) (0.15.0)\n",
            "Requirement already satisfied: safetensors>=0.3.1 in /usr/local/lib/python3.10/dist-packages (from transformers>=4.10.0->trulens_eval==0.18.0) (0.4.1)\n",
            "Requirement already satisfied: attrs>=17.3.0 in /usr/local/lib/python3.10/dist-packages (from aiohttp<4.0,>=3.0->cohere>=4.4.1->trulens_eval==0.18.0) (23.1.0)\n",
            "Requirement already satisfied: multidict<7.0,>=4.5 in /usr/local/lib/python3.10/dist-packages (from aiohttp<4.0,>=3.0->cohere>=4.4.1->trulens_eval==0.18.0) (6.0.4)\n",
            "Requirement already satisfied: yarl<2.0,>=1.0 in /usr/local/lib/python3.10/dist-packages (from aiohttp<4.0,>=3.0->cohere>=4.4.1->trulens_eval==0.18.0) (1.9.4)\n",
            "Requirement already satisfied: frozenlist>=1.1.1 in /usr/local/lib/python3.10/dist-packages (from aiohttp<4.0,>=3.0->cohere>=4.4.1->trulens_eval==0.18.0) (1.4.1)\n",
            "Requirement already satisfied: aiosignal>=1.1.2 in /usr/local/lib/python3.10/dist-packages (from aiohttp<4.0,>=3.0->cohere>=4.4.1->trulens_eval==0.18.0) (1.3.1)\n",
            "Requirement already satisfied: jinja2 in /usr/local/lib/python3.10/dist-packages (from altair<6,>=4.0->streamlit>=1.27.0->trulens_eval==0.18.0) (3.1.2)\n",
            "Requirement already satisfied: jsonschema>=3.0 in /usr/local/lib/python3.10/dist-packages (from altair<6,>=4.0->streamlit>=1.27.0->trulens_eval==0.18.0) (4.19.2)\n",
            "Requirement already satisfied: toolz in /usr/local/lib/python3.10/dist-packages (from altair<6,>=4.0->streamlit>=1.27.0->trulens_eval==0.18.0) (0.12.0)\n",
            "Requirement already satisfied: idna>=2.8 in /usr/local/lib/python3.10/dist-packages (from anyio<5,>=3.5.0->openai<2,>=1.1.1->trulens_eval==0.18.0) (3.6)\n",
            "Requirement already satisfied: exceptiongroup in /usr/local/lib/python3.10/dist-packages (from anyio<5,>=3.5.0->openai<2,>=1.1.1->trulens_eval==0.18.0) (1.2.0)\n",
            "Requirement already satisfied: marshmallow<4.0.0,>=3.18.0 in /usr/local/lib/python3.10/dist-packages (from dataclasses-json<0.6.0,>=0.5.7->llama-index==0.8.69->trulens_eval==0.18.0) (3.20.1)\n",
            "Requirement already satisfied: wrapt<2,>=1.10 in /usr/local/lib/python3.10/dist-packages (from deprecated>=1.2.9.3->llama-index==0.8.69->trulens_eval==0.18.0) (1.14.1)\n",
            "Collecting gitdb<5,>=4.0.1 (from gitpython!=3.1.19,<4,>=3.0.7->streamlit>=1.27.0->trulens_eval==0.18.0)\n",
            "  Downloading gitdb-4.0.11-py3-none-any.whl (62 kB)\n",
            "\u001b[2K     \u001b[90m━━━━━━━━━━━━━━━━━━━━━━━━━━━━━━━━━━━━━━━━\u001b[0m \u001b[32m62.7/62.7 kB\u001b[0m \u001b[31m6.3 MB/s\u001b[0m eta \u001b[36m0:00:00\u001b[0m\n",
            "\u001b[?25hRequirement already satisfied: more-itertools in /usr/local/lib/python3.10/dist-packages (from htbuilder>=0.6.2->streamlit-extras>=0.2.7->trulens_eval==0.18.0) (10.1.0)\n",
            "Requirement already satisfied: httpcore==1.* in /usr/local/lib/python3.10/dist-packages (from httpx<1,>=0.23.0->openai<2,>=1.1.1->trulens_eval==0.18.0) (1.0.2)\n",
            "Requirement already satisfied: h11<0.15,>=0.13 in /usr/local/lib/python3.10/dist-packages (from httpcore==1.*->httpx<1,>=0.23.0->openai<2,>=1.1.1->trulens_eval==0.18.0) (0.14.0)\n",
            "Requirement already satisfied: zipp>=0.5 in /usr/local/lib/python3.10/dist-packages (from importlib_metadata<7.0,>=6.0->cohere>=4.4.1->trulens_eval==0.18.0) (3.17.0)\n",
            "Requirement already satisfied: setuptools>=18.5 in /usr/local/lib/python3.10/dist-packages (from ipython>=6.1.0->ipywidgets>=8.0.6->trulens_eval==0.18.0) (67.7.2)\n",
            "Collecting jedi>=0.16 (from ipython>=6.1.0->ipywidgets>=8.0.6->trulens_eval==0.18.0)\n",
            "  Downloading jedi-0.19.1-py2.py3-none-any.whl (1.6 MB)\n",
            "\u001b[2K     \u001b[90m━━━━━━━━━━━━━━━━━━━━━━━━━━━━━━━━━━━━━━━━\u001b[0m \u001b[32m1.6/1.6 MB\u001b[0m \u001b[31m46.5 MB/s\u001b[0m eta \u001b[36m0:00:00\u001b[0m\n",
            "\u001b[?25hRequirement already satisfied: decorator in /usr/local/lib/python3.10/dist-packages (from ipython>=6.1.0->ipywidgets>=8.0.6->trulens_eval==0.18.0) (4.4.2)\n",
            "Requirement already satisfied: pickleshare in /usr/local/lib/python3.10/dist-packages (from ipython>=6.1.0->ipywidgets>=8.0.6->trulens_eval==0.18.0) (0.7.5)\n",
            "Requirement already satisfied: prompt-toolkit!=3.0.0,!=3.0.1,<3.1.0,>=2.0.0 in /usr/local/lib/python3.10/dist-packages (from ipython>=6.1.0->ipywidgets>=8.0.6->trulens_eval==0.18.0) (3.0.43)\n",
            "Requirement already satisfied: pygments in /usr/local/lib/python3.10/dist-packages (from ipython>=6.1.0->ipywidgets>=8.0.6->trulens_eval==0.18.0) (2.16.1)\n",
            "Requirement already satisfied: backcall in /usr/local/lib/python3.10/dist-packages (from ipython>=6.1.0->ipywidgets>=8.0.6->trulens_eval==0.18.0) (0.2.0)\n",
            "Requirement already satisfied: matplotlib-inline in /usr/local/lib/python3.10/dist-packages (from ipython>=6.1.0->ipywidgets>=8.0.6->trulens_eval==0.18.0) (0.1.6)\n",
            "Requirement already satisfied: pexpect>4.3 in /usr/local/lib/python3.10/dist-packages (from ipython>=6.1.0->ipywidgets>=8.0.6->trulens_eval==0.18.0) (4.9.0)\n",
            "Requirement already satisfied: jsonpointer>=1.9 in /usr/local/lib/python3.10/dist-packages (from jsonpatch<2.0,>=1.33->langchain>=0.0.335->trulens_eval==0.18.0) (2.4)\n",
            "Requirement already satisfied: markdown in /usr/local/lib/python3.10/dist-packages (from markdownlit>=0.0.5->streamlit-extras>=0.2.7->trulens_eval==0.18.0) (3.5.1)\n",
            "Requirement already satisfied: lxml in /usr/local/lib/python3.10/dist-packages (from markdownlit>=0.0.5->streamlit-extras>=0.2.7->trulens_eval==0.18.0) (4.9.3)\n",
            "Collecting favicon (from markdownlit>=0.0.5->streamlit-extras>=0.2.7->trulens_eval==0.18.0)\n",
            "  Downloading favicon-0.7.0-py2.py3-none-any.whl (5.9 kB)\n",
            "Collecting pymdown-extensions (from markdownlit>=0.0.5->streamlit-extras>=0.2.7->trulens_eval==0.18.0)\n",
            "  Downloading pymdown_extensions-10.5-py3-none-any.whl (241 kB)\n",
            "\u001b[2K     \u001b[90m━━━━━━━━━━━━━━━━━━━━━━━━━━━━━━━━━━━━━━━━\u001b[0m \u001b[32m241.1/241.1 kB\u001b[0m \u001b[31m19.4 MB/s\u001b[0m eta \u001b[36m0:00:00\u001b[0m\n",
            "\u001b[?25hRequirement already satisfied: joblib in /usr/local/lib/python3.10/dist-packages (from nltk<4.0.0,>=3.8.1->llama-index==0.8.69->trulens_eval==0.18.0) (1.3.2)\n",
            "Requirement already satisfied: pytz>=2020.1 in /usr/local/lib/python3.10/dist-packages (from pandas->llama-index==0.8.69->trulens_eval==0.18.0) (2023.3.post1)\n",
            "Requirement already satisfied: charset-normalizer<4,>=2 in /usr/local/lib/python3.10/dist-packages (from requests<3.0.0,>=2.25.0->cohere>=4.4.1->trulens_eval==0.18.0) (3.3.2)\n",
            "Requirement already satisfied: markdown-it-py>=2.2.0 in /usr/local/lib/python3.10/dist-packages (from rich<14,>=10.14.0->streamlit>=1.27.0->trulens_eval==0.18.0) (3.0.0)\n",
            "Collecting faker (from streamlit-faker>=0.0.2->streamlit-extras>=0.2.7->trulens_eval==0.18.0)\n",
            "  Downloading Faker-21.0.0-py3-none-any.whl (1.7 MB)\n",
            "\u001b[2K     \u001b[90m━━━━━━━━━━━━━━━━━━━━━━━━━━━━━━━━━━━━━━━━\u001b[0m \u001b[32m1.7/1.7 MB\u001b[0m \u001b[31m47.0 MB/s\u001b[0m eta \u001b[36m0:00:00\u001b[0m\n",
            "\u001b[?25hRequirement already satisfied: matplotlib in /usr/local/lib/python3.10/dist-packages (from streamlit-faker>=0.0.2->streamlit-extras>=0.2.7->trulens_eval==0.18.0) (3.7.1)\n",
            "Requirement already satisfied: webencodings in /usr/local/lib/python3.10/dist-packages (from bleach->kaggle>=1.5.13->trulens_eval==0.18.0) (0.5.1)\n",
            "Requirement already satisfied: MarkupSafe>=0.9.2 in /usr/local/lib/python3.10/dist-packages (from Mako->alembic>=1.11.2->trulens_eval==0.18.0) (2.1.3)\n",
            "Requirement already satisfied: text-unidecode>=1.3 in /usr/local/lib/python3.10/dist-packages (from python-slugify->kaggle>=1.5.13->trulens_eval==0.18.0) (1.3)\n",
            "Collecting smmap<6,>=3.0.1 (from gitdb<5,>=4.0.1->gitpython!=3.1.19,<4,>=3.0.7->streamlit>=1.27.0->trulens_eval==0.18.0)\n",
            "  Downloading smmap-5.0.1-py3-none-any.whl (24 kB)\n",
            "Requirement already satisfied: parso<0.9.0,>=0.8.3 in /usr/local/lib/python3.10/dist-packages (from jedi>=0.16->ipython>=6.1.0->ipywidgets>=8.0.6->trulens_eval==0.18.0) (0.8.3)\n",
            "Requirement already satisfied: jsonschema-specifications>=2023.03.6 in /usr/local/lib/python3.10/dist-packages (from jsonschema>=3.0->altair<6,>=4.0->streamlit>=1.27.0->trulens_eval==0.18.0) (2023.11.2)\n",
            "Requirement already satisfied: referencing>=0.28.4 in /usr/local/lib/python3.10/dist-packages (from jsonschema>=3.0->altair<6,>=4.0->streamlit>=1.27.0->trulens_eval==0.18.0) (0.32.0)\n",
            "Requirement already satisfied: rpds-py>=0.7.1 in /usr/local/lib/python3.10/dist-packages (from jsonschema>=3.0->altair<6,>=4.0->streamlit>=1.27.0->trulens_eval==0.18.0) (0.15.2)\n",
            "Requirement already satisfied: mdurl~=0.1 in /usr/local/lib/python3.10/dist-packages (from markdown-it-py>=2.2.0->rich<14,>=10.14.0->streamlit>=1.27.0->trulens_eval==0.18.0) (0.1.2)\n",
            "Requirement already satisfied: ptyprocess>=0.5 in /usr/local/lib/python3.10/dist-packages (from pexpect>4.3->ipython>=6.1.0->ipywidgets>=8.0.6->trulens_eval==0.18.0) (0.7.0)\n",
            "Requirement already satisfied: wcwidth in /usr/local/lib/python3.10/dist-packages (from prompt-toolkit!=3.0.0,!=3.0.1,<3.1.0,>=2.0.0->ipython>=6.1.0->ipywidgets>=8.0.6->trulens_eval==0.18.0) (0.2.12)\n",
            "Requirement already satisfied: beautifulsoup4>=4.7.0 in /usr/local/lib/python3.10/dist-packages (from favicon->markdownlit>=0.0.5->streamlit-extras>=0.2.7->trulens_eval==0.18.0) (4.11.2)\n",
            "Requirement already satisfied: contourpy>=1.0.1 in /usr/local/lib/python3.10/dist-packages (from matplotlib->streamlit-faker>=0.0.2->streamlit-extras>=0.2.7->trulens_eval==0.18.0) (1.2.0)\n",
            "Requirement already satisfied: cycler>=0.10 in /usr/local/lib/python3.10/dist-packages (from matplotlib->streamlit-faker>=0.0.2->streamlit-extras>=0.2.7->trulens_eval==0.18.0) (0.12.1)\n",
            "Requirement already satisfied: fonttools>=4.22.0 in /usr/local/lib/python3.10/dist-packages (from matplotlib->streamlit-faker>=0.0.2->streamlit-extras>=0.2.7->trulens_eval==0.18.0) (4.46.0)\n",
            "Requirement already satisfied: kiwisolver>=1.0.1 in /usr/local/lib/python3.10/dist-packages (from matplotlib->streamlit-faker>=0.0.2->streamlit-extras>=0.2.7->trulens_eval==0.18.0) (1.4.5)\n",
            "Requirement already satisfied: pyparsing>=2.3.1 in /usr/local/lib/python3.10/dist-packages (from matplotlib->streamlit-faker>=0.0.2->streamlit-extras>=0.2.7->trulens_eval==0.18.0) (3.1.1)\n",
            "Requirement already satisfied: soupsieve>1.2 in /usr/local/lib/python3.10/dist-packages (from beautifulsoup4>=4.7.0->favicon->markdownlit>=0.0.5->streamlit-extras>=0.2.7->trulens_eval==0.18.0) (2.5)\n",
            "Building wheels for collected packages: millify\n",
            "  Building wheel for millify (setup.py) ... \u001b[?25l\u001b[?25hdone\n",
            "  Created wheel for millify: filename=millify-0.1.1-py3-none-any.whl size=1845 sha256=d5b29a7f7a7a0b62dca918aaf1cf47deff9ddd9901546855a3599fc0997429f2\n",
            "  Stored in directory: /root/.cache/pip/wheels/67/8f/53/2759feac2e247ce89c1165c3ff12d484de7714a875ea3464f0\n",
            "Successfully built millify\n",
            "Installing collected packages: python-decouple, millify, widgetsnbextension, watchdog, validators, typing-extensions, smmap, slack-sdk, pymdown-extensions, pyarrow-hotfix, munch, merkle-json, Mako, loguru, jedi, htbuilder, fastavro, dnspython, dill, comm, typing-inspect, st-annotated-text, slack-bolt, pydeck, pinecone-client, multiprocess, gitdb, favicon, faker, aiostream, openai, ipywidgets, gitpython, dataclasses-json, cohere, alembic, datasets, streamlit, streamlit-vertical-slider, streamlit-toggle-switch, streamlit-keyup, streamlit-javascript, streamlit-image-coordinates, streamlit-embedcode, streamlit-card, streamlit-camera-input-live, streamlit-aggrid, llama-index, streamlit-faker, markdownlit, streamlit-extras, trulens_eval\n",
            "  Attempting uninstall: widgetsnbextension\n",
            "    Found existing installation: widgetsnbextension 3.6.6\n",
            "    Uninstalling widgetsnbextension-3.6.6:\n",
            "      Successfully uninstalled widgetsnbextension-3.6.6\n",
            "  Attempting uninstall: typing-extensions\n",
            "    Found existing installation: typing_extensions 4.9.0\n",
            "    Uninstalling typing_extensions-4.9.0:\n",
            "      Successfully uninstalled typing_extensions-4.9.0\n",
            "  Attempting uninstall: typing-inspect\n",
            "    Found existing installation: typing-inspect 0.9.0\n",
            "    Uninstalling typing-inspect-0.9.0:\n",
            "      Successfully uninstalled typing-inspect-0.9.0\n",
            "  Attempting uninstall: openai\n",
            "    Found existing installation: openai 1.6.0\n",
            "    Uninstalling openai-1.6.0:\n",
            "      Successfully uninstalled openai-1.6.0\n",
            "  Attempting uninstall: ipywidgets\n",
            "    Found existing installation: ipywidgets 7.7.1\n",
            "    Uninstalling ipywidgets-7.7.1:\n",
            "      Successfully uninstalled ipywidgets-7.7.1\n",
            "  Attempting uninstall: dataclasses-json\n",
            "    Found existing installation: dataclasses-json 0.6.3\n",
            "    Uninstalling dataclasses-json-0.6.3:\n",
            "      Successfully uninstalled dataclasses-json-0.6.3\n",
            "\u001b[31mERROR: pip's dependency resolver does not currently take into account all the packages that are installed. This behaviour is the source of the following dependency conflicts.\n",
            "lida 0.0.10 requires kaleido, which is not installed.\n",
            "lida 0.0.10 requires python-multipart, which is not installed.\u001b[0m\u001b[31m\n",
            "\u001b[0mSuccessfully installed Mako-1.3.0 aiostream-0.5.2 alembic-1.13.1 cohere-4.39 comm-0.2.0 dataclasses-json-0.5.14 datasets-2.15.0 dill-0.3.7 dnspython-2.4.2 faker-21.0.0 fastavro-1.9.2 favicon-0.7.0 gitdb-4.0.11 gitpython-3.1.40 htbuilder-0.6.2 ipywidgets-8.1.1 jedi-0.19.1 llama-index-0.8.69 loguru-0.7.2 markdownlit-0.0.7 merkle-json-1.0.0 millify-0.1.1 multiprocess-0.70.15 munch-4.0.0 openai-1.5.0 pinecone-client-2.2.4 pyarrow-hotfix-0.6 pydeck-0.8.1b0 pymdown-extensions-10.5 python-decouple-3.8 slack-bolt-1.18.1 slack-sdk-3.26.1 smmap-5.0.1 st-annotated-text-4.0.1 streamlit-1.29.0 streamlit-aggrid-0.3.4.post3 streamlit-camera-input-live-0.2.0 streamlit-card-1.0.0 streamlit-embedcode-0.1.2 streamlit-extras-0.3.6 streamlit-faker-0.0.3 streamlit-image-coordinates-0.1.6 streamlit-javascript-0.1.5 streamlit-keyup-0.2.2 streamlit-toggle-switch-1.0.2 streamlit-vertical-slider-2.5.3 trulens_eval-0.18.0 typing-extensions-4.5.0 typing-inspect-0.8.0 validators-0.22.0 watchdog-3.0.0 widgetsnbextension-4.0.9\n"
          ]
        },
        {
          "output_type": "display_data",
          "data": {
            "application/vnd.colab-display-data+json": {
              "pip_warning": {
                "packages": [
                  "ipywidgets"
                ]
              }
            }
          },
          "metadata": {}
        }
      ]
    },
    {
      "cell_type": "markdown",
      "source": [
        "**Note - You must restart the runtime in order to use newly installed versions.**"
      ],
      "metadata": {
        "id": "gH_AN2_3M3jk"
      }
    },
    {
      "cell_type": "code",
      "source": [
        "from IPython.display import JSON\n",
        "from trulens_eval import Feedback, Tru\n",
        "tru = Tru()\n",
        "tru.reset_database()"
      ],
      "metadata": {
        "colab": {
          "base_uri": "https://localhost:8080/"
        },
        "id": "oKbIWiqVhdFq",
        "outputId": "c4a94c45-0482-4ee7-deab-93707bc3a7e7"
      },
      "execution_count": 34,
      "outputs": [
        {
          "output_type": "stream",
          "name": "stdout",
          "text": [
            "🦑 Tru initialized with db url sqlite:///default.sqlite .\n",
            "🛑 Secret keys may be written to the database. See the `database_redact_keys` option of `Tru` to prevent this.\n"
          ]
        }
      ]
    },
    {
      "cell_type": "code",
      "source": [
        "from google.cloud import aiplatform\n",
        "aiplatform.init(\n",
        "    project = PROJECT_ID,\n",
        "    location= LOCATION\n",
        ")"
      ],
      "metadata": {
        "id": "adjlOil_cqh9"
      },
      "execution_count": 35,
      "outputs": []
    },
    {
      "cell_type": "code",
      "source": [
        "from google.colab import userdata\n",
        "GOOGLE_API_KEY=userdata.get('google_key')\n",
        "\n",
        "genai.configure(api_key=GOOGLE_API_KEY)"
      ],
      "metadata": {
        "id": "bOQgN2jZVhG_"
      },
      "execution_count": 36,
      "outputs": []
    },
    {
      "cell_type": "code",
      "source": [
        "import litellm\n",
        "litellm.vertex_project = PROJECT_ID\n",
        "litellm.vertex_location = LOCATION"
      ],
      "metadata": {
        "id": "JJYRwnrTZql_"
      },
      "execution_count": 37,
      "outputs": []
    },
    {
      "cell_type": "code",
      "source": [
        "from trulens_eval.feedback.provider.litellm import LiteLLM\n",
        "litellm_provider = LiteLLM()"
      ],
      "metadata": {
        "id": "ytf0m8B2dnFU"
      },
      "execution_count": 38,
      "outputs": []
    },
    {
      "cell_type": "code",
      "source": [
        "import litellm\n",
        "from trulens_eval.tru_custom_app import instrument\n",
        "\n",
        "class Gemini_RAG:\n",
        "    def get_relevant_passage(self, query):\n",
        "      passage = db.query(query_texts=[query], n_results=1)['documents'][0][0]\n",
        "      return passage\n",
        "\n",
        "    def make_prompt(query, relevant_passage):\n",
        "      escaped = relevant_passage.replace(\"'\", \"\").replace('\"', \"\").replace(\"\\n\", \" \")\n",
        "      prompt = (\"\"\"You are a helpful and informative bot that answers questions using text from the reference passage included below. \\\n",
        "      If the passage is irrelevant to the answer, you may ignore it.\n",
        "      QUESTION: '{query}'\n",
        "      PASSAGE: '{relevant_passage}'\n",
        "\n",
        "        ANSWER:\n",
        "      \"\"\").format(query=query, relevant_passage=escaped)\n",
        "\n",
        "      return prompt\n",
        "\n",
        "    @instrument\n",
        "    def generate_completion(self, query: str, context_str: list) -> str:\n",
        "        \"\"\"\n",
        "        Generate answer from context.\n",
        "        \"\"\"\n",
        "        response = litellm.completion(model=\"gemini-pro\", messages= [\n",
        "            {\"role\": \"user\",\n",
        "            \"content\":\n",
        "            f\"We have provided context information below. \\n\"\n",
        "            f\"---------------------\\n\"\n",
        "            f\"{context_str}\"\n",
        "            f\"\\n---------------------\\n\"\n",
        "            f\"Given this information, please answer the question: {query}\"\n",
        "            }\n",
        "        ])\n",
        "\n",
        "        content = ''\n",
        "        if response != None and len(response.choices) > 0:\n",
        "          content = response.choices[0].message.content\n",
        "          print(content)\n",
        "\n",
        "        return content\n",
        "\n",
        "    @instrument\n",
        "    def query(self, query: str) -> str:\n",
        "        passage = self.get_relevant_passage(query)\n",
        "        Markdown(passage)\n",
        "        prompt = make_prompt(query, passage)\n",
        "        Markdown(prompt)\n",
        "        completion = self.generate_completion(query, prompt)\n",
        "        return completion\n",
        "\n",
        "# Please make sure to run the Retrieval-augmented generation (RAG) to set the Db\n",
        "rag = Gemini_RAG()"
      ],
      "metadata": {
        "id": "3bIhL_U80PNe"
      },
      "execution_count": 39,
      "outputs": []
    },
    {
      "cell_type": "code",
      "source": [
        "import numpy as np\n",
        "from trulens_eval import TruLlama, Feedback, Tru, feedback\n",
        "from trulens_eval.feedback import GroundTruthAgreement, Groundedness\n",
        "\n",
        "# Define groundedness\n",
        "grounded = Groundedness(groundedness_provider=litellm_provider)\n",
        "f_groundedness = Feedback(grounded.groundedness_measure, name = \"Groundedness\").on(\n",
        "    TruLlama.select_source_nodes().node.text # context\n",
        ").on_output().aggregate(grounded.grounded_statements_aggregator)\n",
        "\n",
        "# Question/answer relevance between overall question and answer.\n",
        "f_qa_relevance = Feedback(litellm_provider.relevance, name = \"Answer Relevance\").on_input_output()\n",
        "\n",
        "# Question/statement relevance between question and each context chunk.\n",
        "f_qs_relevance = Feedback(litellm_provider.qs_relevance, name = \"Context Relevance\").on_input().on(\n",
        "    TruLlama.select_source_nodes().node.text\n",
        ").aggregate(np.mean)"
      ],
      "metadata": {
        "colab": {
          "base_uri": "https://localhost:8080/"
        },
        "id": "TXpT8YglpSox",
        "outputId": "2f981808-5768-464a-ed40-f3d4b8d7d295"
      },
      "execution_count": 40,
      "outputs": [
        {
          "output_type": "stream",
          "name": "stdout",
          "text": [
            "✅ In Groundedness, input source will be set to __record__.app.query.rets.source_nodes[:].node.text .\n",
            "✅ In Groundedness, input statement will be set to __record__.main_output or `Select.RecordOutput` .\n",
            "✅ In Answer Relevance, input prompt will be set to __record__.main_input or `Select.RecordInput` .\n",
            "✅ In Answer Relevance, input response will be set to __record__.main_output or `Select.RecordOutput` .\n",
            "✅ In Context Relevance, input question will be set to __record__.main_input or `Select.RecordInput` .\n",
            "✅ In Context Relevance, input statement will be set to __record__.app.query.rets.source_nodes[:].node.text .\n"
          ]
        }
      ]
    },
    {
      "cell_type": "code",
      "source": [
        "app_id = 'Personally.AIStore'"
      ],
      "metadata": {
        "id": "Honyidig2bef"
      },
      "execution_count": 41,
      "outputs": []
    },
    {
      "cell_type": "code",
      "source": [
        "from trulens_eval import TruCustomApp\n",
        "tru_rag = TruCustomApp(rag,\n",
        "    app_id = app_id,\n",
        "    feedbacks = [f_groundedness, f_qa_relevance])"
      ],
      "metadata": {
        "id": "X4O1zHKhbC9i"
      },
      "execution_count": 42,
      "outputs": []
    },
    {
      "cell_type": "code",
      "source": [
        "# Need to check with Trulens team as the library is expecting OpenAI Key\n",
        "# OpenAIError: The api_key client option must be set either by passing api_key to the client or by setting the OPENAI_API_KEY environment variable\n",
        "import os\n",
        "from google.colab import userdata\n",
        "os.environ[\"OPENAI_API_KEY\"] = userdata.get('openai_key')"
      ],
      "metadata": {
        "id": "tO5sVLkjV5Sp"
      },
      "execution_count": 45,
      "outputs": []
    },
    {
      "cell_type": "code",
      "source": [
        "with tru_rag as recording:\n",
        "    rag.query(\"where can I get seafood\")"
      ],
      "metadata": {
        "id": "G3PJRuO91b_u",
        "colab": {
          "base_uri": "https://localhost:8080/",
          "height": 1000
        },
        "outputId": "836b6e38-4462-4dd1-a6cb-449bad08504c"
      },
      "execution_count": 46,
      "outputs": [
        {
          "output_type": "stream",
          "name": "stderr",
          "text": [
            "WARNING:trulens_eval.utils.serial:Object (of type str) is a sequence containing more than one dictionary. Lookup by item or attribute `source_nodes` is ambiguous. Use a lookup by index(es) or slice first to disambiguate.\n",
            "WARNING:trulens_eval.utils.threading:Run of <lambda> in <Thread(TP.submit with debug timeout_0, started 135305364817472)> failed with: Could not locate app.query.rets.source_nodes[:].node.text in app/record.\n"
          ]
        },
        {
          "output_type": "stream",
          "name": "stdout",
          "text": [
            "1. Limón\n",
            "2. Pacific Catch\n",
            "3. The Sea by Alexander’s Steakhouse\n",
            "4. Cap’t Loui\n",
            "5. Rustic House Oyster Bar and Grill\n",
            "6. The City Fish\n",
            "7. Cook’s Seafood\n",
            "8. King’s Fish House\n",
            "9. La Marea of the Sea\n",
            "10. Supreme Crab\n",
            "Could not locate app.query.rets.source_nodes[:].node.text in app/record.\n"
          ]
        },
        {
          "output_type": "stream",
          "name": "stderr",
          "text": [
            "ERROR:concurrent.futures:exception calling callback for <Future at 0x7b0f3ef88d00 state=finished raised RuntimeError>\n",
            "Traceback (most recent call last):\n",
            "  File \"/usr/local/lib/python3.10/dist-packages/trulens_eval/feedback/feedback.py\", line 669, in extract_selection\n",
            "    arg_vals[k] = list(q_within_o.get(o))\n",
            "  File \"/usr/local/lib/python3.10/dist-packages/trulens_eval/utils/serial.py\", line 851, in get\n",
            "    for start_selection in start_items:\n",
            "  File \"/usr/local/lib/python3.10/dist-packages/trulens_eval/utils/serial.py\", line 851, in get\n",
            "    for start_selection in start_items:\n",
            "  File \"/usr/local/lib/python3.10/dist-packages/trulens_eval/utils/serial.py\", line 851, in get\n",
            "    for start_selection in start_items:\n",
            "  File \"/usr/local/lib/python3.10/dist-packages/trulens_eval/utils/serial.py\", line 852, in get\n",
            "    for last_selection in last_step.get(start_selection):\n",
            "  File \"/usr/local/lib/python3.10/dist-packages/trulens_eval/utils/serial.py\", line 321, in get\n",
            "    for r in self.get(obj=obj[0]):\n",
            "  File \"/usr/local/lib/python3.10/dist-packages/trulens_eval/utils/serial.py\", line 309, in get\n",
            "    for r in self.get(obj=obj[0]):\n",
            "  File \"/usr/local/lib/python3.10/dist-packages/trulens_eval/utils/serial.py\", line 309, in get\n",
            "    for r in self.get(obj=obj[0]):\n",
            "  File \"/usr/local/lib/python3.10/dist-packages/trulens_eval/utils/serial.py\", line 309, in get\n",
            "    for r in self.get(obj=obj[0]):\n",
            "  [Previous line repeated 2974 more times]\n",
            "  File \"/usr/local/lib/python3.10/dist-packages/trulens_eval/utils/serial.py\", line 307, in get\n",
            "    if isinstance(obj, Sequence):\n",
            "  File \"/usr/lib/python3.10/typing.py\", line 994, in __instancecheck__\n",
            "    return self.__subclasscheck__(type(obj))\n",
            "  File \"/usr/lib/python3.10/typing.py\", line 1158, in __subclasscheck__\n",
            "    return issubclass(cls, self.__origin__)\n",
            "  File \"/usr/lib/python3.10/abc.py\", line 123, in __subclasscheck__\n",
            "    return _abc_subclasscheck(cls, subclass)\n",
            "RecursionError: maximum recursion depth exceeded in comparison\n",
            "\n",
            "During handling of the above exception, another exception occurred:\n",
            "\n",
            "Traceback (most recent call last):\n",
            "  File \"/usr/lib/python3.10/concurrent/futures/_base.py\", line 342, in _invoke_callbacks\n",
            "    callback(self)\n",
            "  File \"/usr/local/lib/python3.10/dist-packages/trulens_eval/app.py\", line 908, in _add_future_feedback\n",
            "    _, res = future.result()\n",
            "  File \"/usr/lib/python3.10/concurrent/futures/_base.py\", line 451, in result\n",
            "    return self.__get_result()\n",
            "  File \"/usr/lib/python3.10/concurrent/futures/_base.py\", line 403, in __get_result\n",
            "    raise self._exception\n",
            "  File \"/usr/lib/python3.10/concurrent/futures/thread.py\", line 58, in run\n",
            "    result = self.fn(*self.args, **self.kwargs)\n",
            "  File \"/usr/local/lib/python3.10/dist-packages/trulens_eval/utils/python.py\", line 223, in _future_target_wrapper\n",
            "    return func(*args, **kwargs)\n",
            "  File \"/usr/local/lib/python3.10/dist-packages/trulens_eval/utils/threading.py\", line 97, in _run_with_timeout\n",
            "    raise e\n",
            "  File \"/usr/local/lib/python3.10/dist-packages/trulens_eval/utils/threading.py\", line 82, in _run_with_timeout\n",
            "    res: T = fut.result(timeout=timeout)\n",
            "  File \"/usr/lib/python3.10/concurrent/futures/_base.py\", line 458, in result\n",
            "    return self.__get_result()\n",
            "  File \"/usr/lib/python3.10/concurrent/futures/_base.py\", line 403, in __get_result\n",
            "    raise self._exception\n",
            "  File \"/usr/lib/python3.10/concurrent/futures/thread.py\", line 58, in run\n",
            "    result = self.fn(*self.args, **self.kwargs)\n",
            "  File \"/usr/local/lib/python3.10/dist-packages/trulens_eval/tru.py\", line 220, in <lambda>\n",
            "    tp.submit(lambda f: (f, f.run(app=app, record=record)), ffunc)\n",
            "  File \"/usr/local/lib/python3.10/dist-packages/trulens_eval/feedback/feedback.py\", line 472, in run\n",
            "    raise e\n",
            "  File \"/usr/local/lib/python3.10/dist-packages/trulens_eval/feedback/feedback.py\", line 467, in run\n",
            "    input_combinations = list(\n",
            "  File \"/usr/local/lib/python3.10/dist-packages/trulens_eval/feedback/feedback.py\", line 671, in extract_selection\n",
            "    raise RuntimeError(\n",
            "RuntimeError: Could not locate app.query.rets.source_nodes[:].node.text in app/record.\n"
          ]
        }
      ]
    },
    {
      "cell_type": "code",
      "source": [
        "tru.get_leaderboard(app_ids=[app_id])"
      ],
      "metadata": {
        "colab": {
          "base_uri": "https://localhost:8080/",
          "height": 112
        },
        "id": "VjU-fJvL2YrJ",
        "outputId": "59ce4021-32eb-4c55-a823-ba430560b4ee"
      },
      "execution_count": 83,
      "outputs": [
        {
          "output_type": "execute_result",
          "data": {
            "text/plain": [
              "                    latency  total_cost\n",
              "app_id                                 \n",
              "Personally.AIStore      7.5         0.0"
            ],
            "text/html": [
              "\n",
              "  <div id=\"df-990e354b-b7c9-4632-bddd-c6be40a82339\" class=\"colab-df-container\">\n",
              "    <div>\n",
              "<style scoped>\n",
              "    .dataframe tbody tr th:only-of-type {\n",
              "        vertical-align: middle;\n",
              "    }\n",
              "\n",
              "    .dataframe tbody tr th {\n",
              "        vertical-align: top;\n",
              "    }\n",
              "\n",
              "    .dataframe thead th {\n",
              "        text-align: right;\n",
              "    }\n",
              "</style>\n",
              "<table border=\"1\" class=\"dataframe\">\n",
              "  <thead>\n",
              "    <tr style=\"text-align: right;\">\n",
              "      <th></th>\n",
              "      <th>latency</th>\n",
              "      <th>total_cost</th>\n",
              "    </tr>\n",
              "    <tr>\n",
              "      <th>app_id</th>\n",
              "      <th></th>\n",
              "      <th></th>\n",
              "    </tr>\n",
              "  </thead>\n",
              "  <tbody>\n",
              "    <tr>\n",
              "      <th>Personally.AIStore</th>\n",
              "      <td>7.5</td>\n",
              "      <td>0.0</td>\n",
              "    </tr>\n",
              "  </tbody>\n",
              "</table>\n",
              "</div>\n",
              "    <div class=\"colab-df-buttons\">\n",
              "\n",
              "  <div class=\"colab-df-container\">\n",
              "    <button class=\"colab-df-convert\" onclick=\"convertToInteractive('df-990e354b-b7c9-4632-bddd-c6be40a82339')\"\n",
              "            title=\"Convert this dataframe to an interactive table.\"\n",
              "            style=\"display:none;\">\n",
              "\n",
              "  <svg xmlns=\"http://www.w3.org/2000/svg\" height=\"24px\" viewBox=\"0 -960 960 960\">\n",
              "    <path d=\"M120-120v-720h720v720H120Zm60-500h600v-160H180v160Zm220 220h160v-160H400v160Zm0 220h160v-160H400v160ZM180-400h160v-160H180v160Zm440 0h160v-160H620v160ZM180-180h160v-160H180v160Zm440 0h160v-160H620v160Z\"/>\n",
              "  </svg>\n",
              "    </button>\n",
              "\n",
              "  <style>\n",
              "    .colab-df-container {\n",
              "      display:flex;\n",
              "      gap: 12px;\n",
              "    }\n",
              "\n",
              "    .colab-df-convert {\n",
              "      background-color: #E8F0FE;\n",
              "      border: none;\n",
              "      border-radius: 50%;\n",
              "      cursor: pointer;\n",
              "      display: none;\n",
              "      fill: #1967D2;\n",
              "      height: 32px;\n",
              "      padding: 0 0 0 0;\n",
              "      width: 32px;\n",
              "    }\n",
              "\n",
              "    .colab-df-convert:hover {\n",
              "      background-color: #E2EBFA;\n",
              "      box-shadow: 0px 1px 2px rgba(60, 64, 67, 0.3), 0px 1px 3px 1px rgba(60, 64, 67, 0.15);\n",
              "      fill: #174EA6;\n",
              "    }\n",
              "\n",
              "    .colab-df-buttons div {\n",
              "      margin-bottom: 4px;\n",
              "    }\n",
              "\n",
              "    [theme=dark] .colab-df-convert {\n",
              "      background-color: #3B4455;\n",
              "      fill: #D2E3FC;\n",
              "    }\n",
              "\n",
              "    [theme=dark] .colab-df-convert:hover {\n",
              "      background-color: #434B5C;\n",
              "      box-shadow: 0px 1px 3px 1px rgba(0, 0, 0, 0.15);\n",
              "      filter: drop-shadow(0px 1px 2px rgba(0, 0, 0, 0.3));\n",
              "      fill: #FFFFFF;\n",
              "    }\n",
              "  </style>\n",
              "\n",
              "    <script>\n",
              "      const buttonEl =\n",
              "        document.querySelector('#df-990e354b-b7c9-4632-bddd-c6be40a82339 button.colab-df-convert');\n",
              "      buttonEl.style.display =\n",
              "        google.colab.kernel.accessAllowed ? 'block' : 'none';\n",
              "\n",
              "      async function convertToInteractive(key) {\n",
              "        const element = document.querySelector('#df-990e354b-b7c9-4632-bddd-c6be40a82339');\n",
              "        const dataTable =\n",
              "          await google.colab.kernel.invokeFunction('convertToInteractive',\n",
              "                                                    [key], {});\n",
              "        if (!dataTable) return;\n",
              "\n",
              "        const docLinkHtml = 'Like what you see? Visit the ' +\n",
              "          '<a target=\"_blank\" href=https://colab.research.google.com/notebooks/data_table.ipynb>data table notebook</a>'\n",
              "          + ' to learn more about interactive tables.';\n",
              "        element.innerHTML = '';\n",
              "        dataTable['output_type'] = 'display_data';\n",
              "        await google.colab.output.renderOutput(dataTable, element);\n",
              "        const docLink = document.createElement('div');\n",
              "        docLink.innerHTML = docLinkHtml;\n",
              "        element.appendChild(docLink);\n",
              "      }\n",
              "    </script>\n",
              "  </div>\n",
              "\n",
              "\n",
              "    </div>\n",
              "  </div>\n"
            ]
          },
          "metadata": {},
          "execution_count": 83
        }
      ]
    },
    {
      "cell_type": "code",
      "source": [
        "tru.get_records_and_feedback(app_ids=[app_id])"
      ],
      "metadata": {
        "colab": {
          "base_uri": "https://localhost:8080/"
        },
        "id": "-wvkBkje2nN2",
        "outputId": "d6909177-9636-4e7b-843f-442508ed6732"
      },
      "execution_count": 47,
      "outputs": [
        {
          "output_type": "execute_result",
          "data": {
            "text/plain": [
              "(               app_id                                           app_json  \\\n",
              " 0  Personally.AIStore  {\"app_id\": \"Personally.AIStore\", \"tags\": \"-\", ...   \n",
              " \n",
              "                    type                                     record_id  \\\n",
              " 0  Gemini_RAG(__main__)  record_hash_1bb3999e0cd224c3c5f80eb44e67a5c9   \n",
              " \n",
              "                        input  \\\n",
              " 0  \"where can I get seafood\"   \n",
              " \n",
              "                                               output tags  \\\n",
              " 0  \"1. Lim\\u00f3n\\n2. Pacific Catch\\n3. The Sea b...    -   \n",
              " \n",
              "                                          record_json  \\\n",
              " 0  {\"record_id\": \"record_hash_1bb3999e0cd224c3c5f...   \n",
              " \n",
              "                                            cost_json  \\\n",
              " 0  {\"n_requests\": 0, \"n_successful_requests\": 0, ...   \n",
              " \n",
              "                                            perf_json  \\\n",
              " 0  {\"start_time\": \"2023-12-22T02:27:07.369211\", \"...   \n",
              " \n",
              "                            ts  latency  total_tokens  total_cost  \n",
              " 0  2023-12-22T02:27:15.792313        8             0         0.0  ,\n",
              " [])"
            ]
          },
          "metadata": {},
          "execution_count": 47
        }
      ]
    },
    {
      "cell_type": "markdown",
      "source": [
        "# **User Preferences**"
      ],
      "metadata": {
        "id": "cdJvHsIrWbAu"
      }
    },
    {
      "cell_type": "code",
      "source": [
        "user_albert_preference = {\n",
        "    \"prompt_template\":{\n",
        "        \"summary_template_1\": \"\"\"\n",
        "            You are an expert summary generator. Generate a clean and consise summary in less than 100 lines.\n",
        "\n",
        "            Prompt 1: Identify key sections in the text for summary generation\n",
        "            Prompt 2: Extract key information from the introduction section\n",
        "            Prompt 3: Parse out the main objective or purpose of the text\n",
        "            Prompt 4: Identify any key findings or conclusions discussed in the text\n",
        "            Prompt 5: Summarize the main arguments or points presented in the text\n",
        "            Prompt 6: Summarize the overall tone or attitude of the text\n",
        "\n",
        "            Output the summary as per the below schema.\n",
        "            {\n",
        "              \"summary\": \"\",\n",
        "              \"highlights\": []\n",
        "              \"keywords\": []\n",
        "            }\n",
        "\n",
        "        \"\"\",\n",
        "        \"summary_template_2\": \"\"\"\n",
        "          1. Present a brief snapshot of the content to be summarized.\n",
        "          2. Uncover the essential insights, emphasizing the core elements.\n",
        "          3. Illuminate the primary theme or objective that underlies the material.\n",
        "          4. Incorporate pertinent details that enrich the overall context.\n",
        "          5. Emphasize the necessity for brevity, focusing on the key information.\n",
        "          6. Stress the importance of a clear and coherent flow in the summary.\n",
        "          7. Encourage the exclusion of repetitive information for a streamlined summary.\n",
        "        \"\"\"\n",
        "    }\n",
        "}"
      ],
      "metadata": {
        "id": "pVK5YJ0lWfKD"
      },
      "execution_count": 85,
      "outputs": []
    },
    {
      "cell_type": "code",
      "source": [
        "text_to_summarize = ''\n",
        "url = 'https://www.yelp.com/search?cflt=seafood&find_loc=Mountain+View%2C+CA+94043'\n",
        "response = await do_webscraping(url)\n",
        "if response != None:\n",
        "  text_to_summarize = response['summary']\n",
        "text_to_summarize"
      ],
      "metadata": {
        "colab": {
          "base_uri": "https://localhost:8080/",
          "height": 145
        },
        "id": "Nac3WcxXWxun",
        "outputId": "09a0ca3b-0b23-4f58-d31a-8721b7d6c883"
      },
      "execution_count": 87,
      "outputs": [
        {
          "output_type": "stream",
          "name": "stderr",
          "text": [
            "Fetching pages: 100%|##########| 1/1 [00:01<00:00,  1.46s/it]\n"
          ]
        },
        {
          "output_type": "execute_result",
          "data": {
            "text/plain": [
              "'Yelp\\n\\nYelp for Business\\n\\nWrite a Review\\n\\nLog InSign Up\\n\\nRestaurants\\n\\nDelivery\\n\\nBurgers\\n\\nChinese\\n\\nItalian\\n\\nReservations\\n\\nJapanese\\n\\nMexican\\n\\nThai\\n\\nHome Services\\n\\nContractors\\n\\nElectricians\\n\\nHome Cleaners\\n\\nHVAC\\n\\nLandscaping\\n\\nLocksmiths\\n\\nMovers\\n\\nPlumbers\\n\\nAuto Services\\n\\nAuto Repair\\n\\nAuto Detailing\\n\\nBody Shops\\n\\nCar Wash\\n\\nCar Dealers\\n\\nOil Change\\n\\nParking\\n\\nTowing\\n\\nMore\\n\\nDry Cleaning\\n\\nPhone Repair\\n\\nBars\\n\\nNightlife\\n\\nHair Salons\\n\\nGyms\\n\\nMassage\\n\\nShopping\\n\\nMore\\n\\nFilters\\n\\n$$$$$$$$$$\\n\\nSuggested\\n\\nOpen Now\\n\\n\\\\--:--\\n\\nOffers Delivery\\n\\nReservations\\n\\nFree Wi-Fi\\n\\nOutdoor Seating\\n\\nDogs Allowed\\n\\nFeatures\\n\\nOffers Takeout\\n\\nGood for Groups\\n\\nGood for Dinner\\n\\nGood for Kids\\n\\nSee all\\n\\nDistance\\n\\nBird\\'s-eye View\\n\\nDriving (5 mi.)\\n\\nBiking (2 mi.)\\n\\nWalking (1 mi.)\\n\\nWithin 4 blocks\\n\\nYelpRestaurantsSeafood\\n\\n# The Best 10 Seafood Restaurants near Mountain View, CA 94043\\n\\nSort:Recommended\\n\\nAll\\n\\nPrice\\n\\nOpen NowOffers DeliveryReservationsFree Wi-FiOutdoor SeatingDogs Allowed\\n\\n  *   *   * ### 1. Limón\\n\\n4.0\\n\\n(266 reviews)\\n\\nPeruvianSeafoodCocktail Bars\\n\\nThis is a placeholder\\n\\n“Everything we ate was delicious. Love the menu- tons of mouth-watering\\nseafood and land animal...” more\\n\\n    * Delivery\\n\\nTakeout\\n\\nFind a Table\\n\\n  * ### 2. Pacific Catch\\n\\n3.8\\n\\n(1k reviews)\\n\\nSeafoodTacosSushi Bars$$\\n\\nThis is a placeholder\\n\\nOutdoor seating\\n\\nTakes reservations\\n\\n“Personally, I really enjoyed the poke, the Korean-style seafood pancake\\n(again, better at the...” more\\n\\n    * Delivery\\n\\nTakeout\\n\\nStart Order\\n\\n  * ### 3. Cap’t Loui\\n\\n4.5\\n\\n(570 reviews)\\n\\nSeafoodFish & ChipsCajun/Creole$$\\n\\nThis is a placeholder\\n\\nFree parking\\n\\nLarge group friendly\\n\\n“If you order a certain amount of pounds of seafood, you can get extra sides\\nfor free.” more\\n\\n    * Outdoor seating\\n\\nDelivery\\n\\nTakeout\\n\\nStart Order\\n\\n  * ### 4. The Sea by Alexander’s Steakhouse\\n\\n4.1\\n\\n(1.3k reviews)\\n\\nSeafoodSteakhousesBars$$$$\\n\\nThis is a placeholder\\n\\n“All of the seafood was very fresh, with particularly sweet jumbo shrimp.”\\nmore\\n\\n    * Outdoor seating\\n\\nTakeout\\n\\n  * ### 5. Rustic House Oyster Bar and Grill - Los Altos\\n\\n4.0\\n\\n(642 reviews)\\n\\nSeafoodBarsAmerican$$\\n\\nThis is a placeholder\\n\\n“The seafood was delicious and competently prepared: a generously portioned\\ngrouper special on...” more\\n\\n    * Outdoor seating\\n\\nDelivery\\n\\nTakeout\\n\\nStart Order\\n\\n  * ### 6. The City Fish\\n\\n4.4\\n\\n(1.1k reviews)\\n\\nSandwichesSeafoodFish & Chips$$\\n\\nThis is a placeholder\\n\\n“The reason why I love them is simple - big portions of quality seafood at a\\nreasonable price.” more\\n\\n    * Outdoor seating\\n\\nDelivery\\n\\nTakeout\\n\\nStart Order\\n\\n  * ### 7. Cook’s Seafood\\n\\n3.9\\n\\n(636 reviews)\\n\\nSeafoodSeafood MarketsFish & Chips$$\\n\\nThis is a placeholder\\n\\n“I decided that I wanted some seafood but I wanted GOOD seafood and not the\\nsame stuff I always have.” more\\n\\n    * Outdoor seating\\n\\nTakeout\\n\\n  * ### 8. La Marea of the Sea\\n\\n4.7\\n\\n(45 reviews)\\n\\nSeafoodFood Stands$\\n\\nThis is a placeholder\\n\\n“The oysters were pretty fresh. They have great condiments to compliment the\\nseafood.” more\\n\\n    * Delivery\\n\\n  * ### 9. King’s Fish House - San Jose\\n\\n4.2\\n\\n(1.9k reviews)\\n\\nSeafood$$$West San Jose\\n\\nThis is a placeholder\\n\\n“The tartare sauce has great balance of spicy and seafood taste to it, I\\nreally like it. 3.)...” more\\n\\n    * Outdoor seating\\n\\nDelivery\\n\\nTakeout\\n\\n  * ### 10. Supreme Crab\\n\\n3.7\\n\\n(262 reviews)\\n\\nSeafoodCajun/Creole\\n\\nThis is a placeholder\\n\\nSports on TV\\n\\nLarge group friendly\\n\\n“Supreme Crab, I save my left over sauce to use on other things and I\\'m a\\nseafood snob.” more\\n\\n    * Outdoor seating\\n\\nDelivery\\n\\nTakeout\\n\\nFind a Table\\n\\n  * 1\\n\\n2\\n\\n3\\n\\n4\\n\\n5\\n\\n6\\n\\n7\\n\\n8\\n\\n9\\n\\n1 of 22\\n\\n  * ## Can\\'t find the business?\\n\\nAdding a business to Yelp is always free.\\n\\nAdd business\\n\\nGot search feedback? Help us improve.\\n\\n  * ## Related Searches in Mountain View, CA\\n\\nBeef Wellington\\n\\nCioppino\\n\\nCrab\\n\\nDinner Reservations\\n\\nFish Tacos\\n\\nMichelada\\n\\nSeafood Boil\\n\\nSeafood Buffet\\n\\nSteakhouses\\n\\n$1 Oysters\\n\\nCajun\\n\\nCajun Seafood Boil\\n\\nCeviche\\n\\nClam Chowder\\n\\nCrab Legs\\n\\nCrawfish\\n\\nFish\\n\\nFish House\\n\\nLobster Roll\\n\\nMariscos\\n\\nOysters\\n\\nRestaurants With a View\\n\\nSalmon\\n\\nScallops\\n\\nAnniversary Dinner\\n\\nCajun Seafood\\n\\nCalamari\\n\\nCrab Boil\\n\\nCrab Sandwich\\n\\nFish & Chips\\n\\nHip New Restaurants\\n\\nOyster Bars\\n\\nRestaurants With Private Rooms\\n\\nSashimi\\n\\nChain Restaurants\\n\\nCrawfish Boil\\n\\nDungeness Crab\\n\\nFine Dining\\n\\nFish Market\\n\\nGrilled Fish\\n\\nMexican Seafood\\n\\nOyster Happy Hour\\n\\nPrime Rib\\n\\nSoft Shell Crab\\n\\nValentines Day Dinner\\n\\n## Trending Searches in Mountain View, CA\\n\\nAsian Supermarket\\n\\nBuy Fresh Oysters\\n\\nCajun Seafood Boil\\n\\nCandy Stores\\n\\nCatfish\\n\\nCaviar\\n\\nCheese Shops\\n\\nChristmas Brunch\\n\\nClam Chowder Bread Bowl\\n\\nDim Sum\\n\\nDry Aged Steak\\n\\nFishmonger\\n\\nFondue\\n\\nFruit Cake\\n\\nGourmet Cookies\\n\\nGourmet Grocery Stores\\n\\nGumbo\\n\\nHot Chocolate\\n\\nKaraoke\\n\\nLive Lobster\\n\\nPotluck Food\\n\\nSashimi\\n\\nSeafood Markets\\n\\nSmoked Salmon\\n\\nSpecialty Food\\n\\nSteak\\n\\nSushi Lunch Special\\n\\nSushi Party Tray\\n\\nWagyu Steak\\n\\nYule Log Cake\\n\\n## Related Articles\\n\\nTop Buffets in California\\n\\nTop Cajun/Creole in California\\n\\nTop Dim Sum Restaurants in California\\n\\nTop Fish & Chips in California\\n\\nTop Peruvian Restaurants in California\\n\\nTop Restaurants in California\\n\\nTop Seafood Restaurants in California\\n\\nTop Soul Food Restaurants in California\\n\\nTop Steakhouses in California\\n\\nTop Buffets in the US\\n\\nTop Cajun/Creole in the US\\n\\nTop Dim Sum Restaurants in the US\\n\\nTop Fish & Chips in the US\\n\\nTop Peruvian Restaurants in the US\\n\\nTop Restaurants in the US\\n\\nTop Seafood Restaurants in the US\\n\\nTop Soul Food Restaurants in the US\\n\\nTop Steakhouses in the US\\n\\n  *   * ## Search seafood in popular locations\\n\\n### Nearby cities\\n\\nCampbell, CA\\n\\nCupertino, CA\\n\\nLos Altos, CA\\n\\nLos Gatos, CA\\n\\nMilpitas, CA\\n\\nPalo Alto, CA\\n\\nSan Jose, CA\\n\\nSanta Clara, CA\\n\\nSaratoga, CA\\n\\nSunnyvale, CA\\n\\n### More\\n\\nLos Angeles, CA\\n\\nNapa, CA\\n\\nSacramento, CA\\n\\nSan Diego, CA\\n\\nSan Francisco, CA\\n\\nSan Luis Obispo, CA\\n\\nSanta Barbara, CA\\n\\nSanta Rosa, CA\\n\\nStockton, CA\\n\\n  *   *   *   * ## Frequently Asked Questions and Answers\\n\\nWhat are the best seafood takeout restaurants?\\n\\nThese are the best seafood takeout restaurants near Mountain View, CA:\\n\\n    * Cap\\'t Loui\\n\\n    * The City Fish\\n\\n    * King\\'s Fish House - San Jose\\n\\n    * Pacific Catch\\n\\n    * Forthright Oyster Bar & Kitchen\\n\\nPeople also liked: Cheap Seafood Restaurants, Seafood Restaurants Offering\\nReservations\\n\\nWhat did people search for similar to seafood near Mountain View, CA?\\n\\nPeople also searched for these near Mountain View:\\n\\n    * Steak\\n\\n    * Seafood Markets\\n\\n    * Dinner\\n\\n    * Sushi\\n\\n    * Fried Fish\\n\\nSee more seafood near Mountain View.\\n\\nWhat are people saying about seafood restaurants near Mountain View, CA?\\n\\nThis is a review for seafood restaurants near Mountain View, CA:\\n\\n\"Came here for the first time, a bit of a hole in the wall, but prob one of\\nthe best finds! We ordered the clam chowder, fried seafood platter, steamed\\nclams and seafood pasta. The clam chowder was decent and so was the fried\\nseafood platter, but the steamed clams were absolutely the best! I think I\\nfound my new favorite seafood spot. The portions are huge and decently priced,\\nabout $18-20 per entree. Apparently this is a chain with three different\\nlocations. Will definitely be back for the clams!\"\\n\\nSee more reviews for this business.\\n\\nWhat are the best cheap seafood restaurants?\\n\\nThese are the best cheap seafood restaurants near Mountain View, CA:\\n\\n    * Cap\\'t Loui\\n\\n    * The City Fish\\n\\n    * Pacific Catch\\n\\n    * Forthright Oyster Bar & Kitchen\\n\\n    * Rustic House Oyster Bar and Grill - Los Altos\\n\\nPeople also liked: Seafood Takeout Restaurants, Seafood Restaurants Offering\\nReservations\\n\\nWhat are the best seafood restaurants offering reservations?\\n\\nThese are the best seafood restaurants offering reservations near Mountain\\nView, CA:\\n\\n    * King\\'s Fish House - San Jose\\n\\n    * Pacific Catch\\n\\n    * Forthright Oyster Bar & Kitchen\\n\\n    * The Sea by Alexander\\'s Steakhouse\\n\\n    * Rustic House Oyster Bar and Grill - Los Altos\\n\\nPeople also liked: Seafood Takeout Restaurants, Cheap Seafood Restaurants\\n\\nAbout\\n\\n  * About Yelp\\n  * Careers\\n  * Press\\n  * Investor Relations\\n  * Trust & Safety\\n  * Content Guidelines\\n  * Accessibility Statement\\n  * Terms of Service\\n  * Privacy Policy\\n  * Ad Choices\\n  * Your Privacy Choices\\n\\nDiscover\\n\\n  * Yelp Project Cost Guides\\n  * Collections\\n  * Talk\\n  * Events\\n  * Yelp Blog\\n  * Support\\n  * Yelp Mobile\\n  * Developers\\n  * RSS\\n\\nYelp for Business\\n\\n  * Yelp for Business\\n  * Business Owner Login\\n  * Claim your Business Page\\n  * Advertise on Yelp\\n  * Yelp for Restaurant Owners\\n  * Table Management\\n  * Business Success Stories\\n  * Business Support\\n  * Yelp Blog for Business\\n\\nLanguages\\n\\nEnglish\\n\\nCountries\\n\\nUnited States\\n\\n  * About\\n\\n  * Blog\\n\\n  * Support\\n\\n  * Terms\\n\\n  * Privacy Policy\\n\\n  * Your Privacy Choices\\n\\nCopyright © 2004–2023 Yelp Inc. Yelp, ,  and related marks are registered\\ntrademarks of Yelp.\\n\\nSome Data By Acxiom\\n\\n'"
            ],
            "application/vnd.google.colaboratory.intrinsic+json": {
              "type": "string"
            }
          },
          "metadata": {},
          "execution_count": 87
        }
      ]
    },
    {
      "cell_type": "code",
      "source": [
        "import vertexai\n",
        "from vertexai.preview.generative_models import GenerativeModel, Part\n",
        "\n",
        "def generate_summary(text_to_summarize, max_output_tokens):\n",
        "  model = GenerativeModel(\"gemini-pro\")\n",
        "  responses = model.generate_content(f\"\"\"You are an expert summary generator. Please follow the below rules for the summary generation.\n",
        "          {user_albert_preference['prompt_template']['summary_template_1']}\n",
        "          Here's the content:\n",
        "          {text_to_summarize}\n",
        "           \"\"\",\n",
        "    generation_config={\n",
        "        \"max_output_tokens\": max_output_tokens,\n",
        "        \"temperature\": 0.9,\n",
        "        \"top_p\": 1\n",
        "    },\n",
        "  stream=True,\n",
        "  )\n",
        "\n",
        "  for response in responses:\n",
        "      print(response.candidates[0].content.parts[0].text)\n",
        "\n",
        "generate_summary(text_to_summarize, 8000)"
      ],
      "metadata": {
        "colab": {
          "base_uri": "https://localhost:8080/"
        },
        "id": "Zzh-iTusW0_0",
        "outputId": "73b6f258-eb34-4529-80ca-06b87f1a5609"
      },
      "execution_count": 88,
      "outputs": [
        {
          "output_type": "stream",
          "name": "stdout",
          "text": [
            "{\n",
            "  \"summary\": \"The given article lists top-rated seafood restaurants\n",
            " near Mountain View, California, along with their user ratings and reviews. The restaurants\n",
            " offer various seafood dishes, including Peruvian cuisine, tacos, sushi, poke, and more. Some popular choices include Lim\\u00f3n, Pacific\n",
            " Catch, Cap\\u2019t Loui, The Sea by Alexander\\u2019s Steakhouse, and Rustic House Oyster Bar\n",
            " and Grill. The restaurants provide services such as takeout, delivery, reservations, and outdoor seating. Users have praised the quality, freshness, and variety of seafood offered by these establishments.\",\n",
            "  \"highlights\": [\n",
            "    \"Top-rated\n",
            " seafood restaurants near Mountain View, California, are listed with user ratings and reviews.\",\n",
            "    \"Variety of seafood dishes, including Peruvian cuisine, tacos, sushi, poke, and more, are available.\",\n",
            "    \"Popular choices include Lim\\\n",
            "u00f3n, Pacific Catch, Cap\\u2019t Loui, The Sea by Alexander\\u2019s Steakhouse, and Rustic House Oyster Bar and Grill.\",\n",
            "    \"Services such as takeout, delivery, reservations, and outdoor seating are offered by the restaurants.\",\n",
            "    \"Users have praised the quality, freshness, and variety of seafood provided by these establishments.\"\n",
            "  ],\n",
            "  \"keywords\": [\n",
            "\n",
            "    \"Seafood restaurants\",\n",
            "    \"Mountain View, California\",\n",
            "    \"Lim\\u00f3n\",\n",
            "    \"Pacific Catch\",\n",
            "    \"Cap\\u2019t Loui\",\n",
            "    \"The Sea by Alexander\\u2019s Steakhouse\",\n",
            "    \"Rustic House Oyster Bar and Grill\",\n",
            "    \"Takeout\",\n",
            "    \"Delivery\",\n",
            "    \"Reservations\",\n",
            "    \"Outdoor seating\",\n",
            "    \"Quality seafood\",\n",
            "    \"Freshness\",\n",
            "    \"Variety\"\n",
            "  ]\n",
            "}\n"
          ]
        }
      ]
    },
    {
      "cell_type": "markdown",
      "source": [
        "# **Chat Basic**"
      ],
      "metadata": {
        "id": "-F7y5WJ0LXO7"
      }
    },
    {
      "cell_type": "code",
      "source": [
        "text_to_summarize = ''\n",
        "url = 'https://www.yelp.com/search?cflt=seafood&find_loc=Mountain+View%2C+CA+94043'\n",
        "response = await do_webscraping(url)\n",
        "if response != None:\n",
        "  text_to_summarize = response['summary']\n",
        "text_to_summarize"
      ],
      "metadata": {
        "colab": {
          "base_uri": "https://localhost:8080/",
          "height": 145
        },
        "id": "uOntOrC6NHBE",
        "outputId": "743ff9b0-5ff7-4837-989e-c19dddcc93d9"
      },
      "execution_count": 52,
      "outputs": [
        {
          "output_type": "stream",
          "name": "stderr",
          "text": [
            "Fetching pages: 100%|##########| 1/1 [00:01<00:00,  1.56s/it]\n"
          ]
        },
        {
          "output_type": "execute_result",
          "data": {
            "text/plain": [
              "'Yelp\\n\\nYelp for Business\\n\\nWrite a Review\\n\\nLog InSign Up\\n\\nRestaurants\\n\\nDelivery\\n\\nBurgers\\n\\nChinese\\n\\nItalian\\n\\nReservations\\n\\nJapanese\\n\\nMexican\\n\\nThai\\n\\nHome Services\\n\\nContractors\\n\\nElectricians\\n\\nHome Cleaners\\n\\nHVAC\\n\\nLandscaping\\n\\nLocksmiths\\n\\nMovers\\n\\nPlumbers\\n\\nAuto Services\\n\\nAuto Repair\\n\\nAuto Detailing\\n\\nBody Shops\\n\\nCar Wash\\n\\nCar Dealers\\n\\nOil Change\\n\\nParking\\n\\nTowing\\n\\nMore\\n\\nDry Cleaning\\n\\nPhone Repair\\n\\nBars\\n\\nNightlife\\n\\nHair Salons\\n\\nGyms\\n\\nMassage\\n\\nShopping\\n\\nMore\\n\\nFilters\\n\\n$$$$$$$$$$\\n\\nSuggested\\n\\nOpen Now\\n\\n\\\\--:--\\n\\nOffers Delivery\\n\\nReservations\\n\\nFree Wi-Fi\\n\\nOutdoor Seating\\n\\nDogs Allowed\\n\\nFeatures\\n\\nOffers Takeout\\n\\nGood for Groups\\n\\nGood for Dinner\\n\\nGood for Kids\\n\\nSee all\\n\\nDistance\\n\\nBird\\'s-eye View\\n\\nDriving (5 mi.)\\n\\nBiking (2 mi.)\\n\\nWalking (1 mi.)\\n\\nWithin 4 blocks\\n\\nYelpRestaurantsSeafood\\n\\n# The Best 10 Seafood Restaurants near Mountain View, CA 94043\\n\\nSort:Recommended\\n\\nAll\\n\\nPrice\\n\\nOpen NowOffers DeliveryReservationsFree Wi-FiOutdoor SeatingDogs Allowed\\n\\n  *   *   * ### 1. Limón\\n\\n4.0 (266 reviews)\\n\\nPeruvianSeafoodCocktail Bars\\n\\nThis is a placeholder\\n\\n“Everything we ate was delicious. Love the menu- tons of mouth-watering\\nseafood and land animal...” more\\n\\n    * Delivery\\n\\nTakeout\\n\\nFind a Table\\n\\n  * ### 2. Pacific Catch\\n\\n3.8 (1k reviews)\\n\\nSeafoodTacosSushi Bars$$\\n\\nThis is a placeholder\\n\\nOutdoor seating\\n\\nTakes reservations\\n\\n“Personally, I really enjoyed the poke, the Korean-style seafood pancake\\n(again, better at the...” more\\n\\n    * Delivery\\n\\nTakeout\\n\\nStart Order\\n\\n  * ### 3. The Sea by Alexander’s Steakhouse\\n\\n4.1 (1.3k reviews)\\n\\nSeafoodSteakhousesBars$$$$\\n\\nThis is a placeholder\\n\\n“All of the seafood was very fresh, with particularly sweet jumbo shrimp.”\\nmore\\n\\n    * Outdoor seating\\n\\nTakeout\\n\\n  * ### 4. Cap’t Loui\\n\\n4.5 (569 reviews)\\n\\nSeafoodFish & ChipsCajun/Creole$$\\n\\nThis is a placeholder\\n\\nFree parking\\n\\nLarge group friendly\\n\\n“If you order a certain amount of pounds of seafood, you can get extra sides\\nfor free.” more\\n\\n    * Outdoor seating\\n\\nDelivery\\n\\nTakeout\\n\\nStart Order\\n\\n  * ### 5. La Marea of the Sea\\n\\n4.7 (45 reviews)\\n\\nSeafoodFood Stands$\\n\\nThis is a placeholder\\n\\n“The oysters were pretty fresh. They have great condiments to compliment the\\nseafood.” more\\n\\n    * Delivery\\n\\n  * ### 6. Rustic House Oyster Bar and Grill - Los Altos\\n\\n4.0 (642 reviews)\\n\\nSeafoodBarsAmerican$$\\n\\nThis is a placeholder\\n\\n“The seafood was delicious and competently prepared: a generously portioned\\ngrouper special on...” more\\n\\n    * Outdoor seating\\n\\nDelivery\\n\\nTakeout\\n\\nStart Order\\n\\n  * ### 7. King’s Fish House - San Jose\\n\\n4.2 (1.9k reviews)\\n\\nSeafood$$$West San Jose\\n\\nThis is a placeholder\\n\\n“The tartare sauce has great balance of spicy and seafood taste to it, I\\nreally like it. 3.)...” more\\n\\n    * Outdoor seating\\n\\nDelivery\\n\\nTakeout\\n\\n  * ### 8. The City Fish\\n\\n4.4 (1.1k reviews)\\n\\nSandwichesSeafoodFish & Chips$$\\n\\nThis is a placeholder\\n\\n“The reason why I love them is simple - big portions of quality seafood at a\\nreasonable price.” more\\n\\n    * Outdoor seating\\n\\nDelivery\\n\\nTakeout\\n\\nStart Order\\n\\n  * ### 9. Cook’s Seafood\\n\\n3.9 (636 reviews)\\n\\nSeafoodSeafood MarketsFish & Chips$$\\n\\nThis is a placeholder\\n\\n“I decided that I wanted some seafood but I wanted GOOD seafood and not the\\nsame stuff I always have.” more\\n\\n    * Outdoor seating\\n\\nTakeout\\n\\n  * ### 10. Gochi - Mountain View\\n\\n4.1 (555 reviews)\\n\\nJapaneseWine BarsSeafood$$$\\n\\nThis is a placeholder\\n\\n    * Waitlist opens at 5:45 pm\\n\\n“Fresh seafood. Highly recommend. Customer service is top notch. Thank you\\nGochi for the great...” more\\n\\n    * Outdoor seating\\n\\nDelivery\\n\\nTakeout\\n\\nFind a Table\\n\\n  * 1\\n\\n2\\n\\n3\\n\\n4\\n\\n5\\n\\n6\\n\\n7\\n\\n8\\n\\n9\\n\\n1 of 22\\n\\n  * ## Can\\'t find the business?\\n\\nAdding a business to Yelp is always free.\\n\\nAdd business\\n\\nGot search feedback? Help us improve.\\n\\n  * ## Related Searches in Mountain View, CA\\n\\nBeef Wellington\\n\\nCioppino\\n\\nCrab\\n\\nDinner Reservations\\n\\nFish Tacos\\n\\nMichelada\\n\\nSeafood Boil\\n\\nSeafood Buffet\\n\\nSteakhouses\\n\\n$1 Oysters\\n\\nCajun\\n\\nCajun Seafood Boil\\n\\nCeviche\\n\\nClam Chowder\\n\\nCrab Legs\\n\\nCrawfish\\n\\nFish\\n\\nFish House\\n\\nLobster Roll\\n\\nMariscos\\n\\nOysters\\n\\nRestaurants With a View\\n\\nSalmon\\n\\nScallops\\n\\nAnniversary Dinner\\n\\nCajun Seafood\\n\\nCalamari\\n\\nCrab Boil\\n\\nCrab Sandwich\\n\\nFish & Chips\\n\\nHip New Restaurants\\n\\nOyster Bars\\n\\nRestaurants With Private Rooms\\n\\nSashimi\\n\\nChain Restaurants\\n\\nCrawfish Boil\\n\\nDungeness Crab\\n\\nFine Dining\\n\\nFish Market\\n\\nGrilled Fish\\n\\nMexican Seafood\\n\\nOyster Happy Hour\\n\\nPrime Rib\\n\\nSoft Shell Crab\\n\\nValentines Day Dinner\\n\\n## Trending Searches in Mountain View, CA\\n\\nAsian Supermarket\\n\\nBuy Fresh Oysters\\n\\nCajun Seafood Boil\\n\\nCandy Stores\\n\\nCatfish\\n\\nCaviar\\n\\nCheese Shops\\n\\nClam Chowder Bread Bowl\\n\\nDim Sum\\n\\nDry Aged Steak\\n\\nFishmonger\\n\\nFruit Cake\\n\\nGourmet Grocery Stores\\n\\nGumbo\\n\\nHot Chocolate\\n\\nItalian Grocery Stores\\n\\nKaraoke\\n\\nLive Lobster\\n\\nPopcorn Shops\\n\\nPotluck Food\\n\\nPozole\\n\\nRestaurants Open on Christmas Day\\n\\nSashimi\\n\\nSeafood Markets\\n\\nSmoked Salmon\\n\\nSpecialty Food\\n\\nSushi Lunch Special\\n\\nSushi Party Tray\\n\\nWagyu Steak\\n\\nYule Log Cake\\n\\n## Related Articles\\n\\nTop Buffets in California\\n\\nTop Cajun/Creole in California\\n\\nTop Dim Sum Restaurants in California\\n\\nTop Fish & Chips in California\\n\\nTop Peruvian Restaurants in California\\n\\nTop Restaurants in California\\n\\nTop Seafood Restaurants in California\\n\\nTop Soul Food Restaurants in California\\n\\nTop Steakhouses in California\\n\\nTop Buffets in the US\\n\\nTop Cajun/Creole in the US\\n\\nTop Dim Sum Restaurants in the US\\n\\nTop Fish & Chips in the US\\n\\nTop Peruvian Restaurants in the US\\n\\nTop Restaurants in the US\\n\\nTop Seafood Restaurants in the US\\n\\nTop Soul Food Restaurants in the US\\n\\nTop Steakhouses in the US\\n\\n  *   * ## Search seafood in popular locations\\n\\n### Nearby cities\\n\\nCampbell, CA\\n\\nCupertino, CA\\n\\nLos Altos, CA\\n\\nLos Gatos, CA\\n\\nMilpitas, CA\\n\\nPalo Alto, CA\\n\\nSan Jose, CA\\n\\nSanta Clara, CA\\n\\nSaratoga, CA\\n\\nSunnyvale, CA\\n\\n### More\\n\\nLos Angeles, CA\\n\\nNapa, CA\\n\\nSacramento, CA\\n\\nSan Diego, CA\\n\\nSan Francisco, CA\\n\\nSan Luis Obispo, CA\\n\\nSanta Barbara, CA\\n\\nSanta Rosa, CA\\n\\nStockton, CA\\n\\n  *   *   *   * ## Frequently Asked Questions and Answers\\n\\nWhat are the best cheap seafood restaurants?\\n\\nThese are the best cheap seafood restaurants near Mountain View, CA:\\n\\n    * The City Fish\\n\\n    * Cap\\'t Loui\\n\\n    * Rustic House Oyster Bar and Grill - Los Altos\\n\\n    * Pacific Catch\\n\\n    * Vaso Azzurro Ristorante\\n\\nPeople also liked: Seafood Takeout Restaurants, Seafood Restaurants Offering\\nReservations\\n\\nWhat did people search for similar to seafood near Mountain View, CA?\\n\\nPeople also searched for these near Mountain View:\\n\\n    * Steak\\n\\n    * Seafood Markets\\n\\n    * Dinner\\n\\n    * Sushi\\n\\n    * Fried Fish\\n\\nSee more seafood near Mountain View.\\n\\nWhat are people saying about seafood restaurants near Mountain View, CA?\\n\\nThis is a review for seafood restaurants near Mountain View, CA:\\n\\n\"La Marea of the Sea brings fresh seafood to ur nearest farmers market if u\\ncan\\'t make it to ur seafood eatery locale: Montclair Farmers Market (9/6/20)\\nofferings: raw oysters, shrimp cocktail, fish ceviche, etc. eats: 3 raw miyagi\\noysters/$7 -big & briney, with dash of lemon & horseradish -haven\\'t had them\\nin about a decade, tasted great. -one can also take them home, in the heat,\\ndoubt it will travel well. notes: -seafood made to order, line can get long as\\nonly 1 amigo worker.....\"\\n\\nSee more reviews for this business.\\n\\nWhat are the best seafood takeout restaurants?\\n\\nThese are the best seafood takeout restaurants near Mountain View, CA:\\n\\n    * The City Fish\\n\\n    * Cap\\'t Loui\\n\\n    * King\\'s Fish House - San Jose\\n\\n    * Rustic House Oyster Bar and Grill - Los Altos\\n\\n    * Pacific Catch\\n\\nPeople also liked: Cheap Seafood Restaurants, Seafood Restaurants Offering\\nReservations\\n\\nWhat are the best seafood restaurants offering reservations?\\n\\nThese are the best seafood restaurants offering reservations near Mountain\\nView, CA:\\n\\n    * King\\'s Fish House - San Jose\\n\\n    * Rustic House Oyster Bar and Grill - Los Altos\\n\\n    * Pacific Catch\\n\\n    * The Sea by Alexander\\'s Steakhouse\\n\\n    * Evvia Estiatorio\\n\\nPeople also liked: Cheap Seafood Restaurants, Seafood Takeout Restaurants\\n\\nAbout\\n\\n  * About Yelp\\n  * Careers\\n  * Press\\n  * Investor Relations\\n  * Trust & Safety\\n  * Content Guidelines\\n  * Accessibility Statement\\n  * Terms of Service\\n  * Privacy Policy\\n  * Ad Choices\\n  * Your Privacy Choices\\n\\nDiscover\\n\\n  * Yelp Project Cost Guides\\n  * Collections\\n  * Talk\\n  * Events\\n  * Yelp Blog\\n  * Support\\n  * Yelp Mobile\\n  * Developers\\n  * RSS\\n\\nYelp for Business\\n\\n  * Yelp for Business\\n  * Business Owner Login\\n  * Claim your Business Page\\n  * Advertise on Yelp\\n  * Yelp for Restaurant Owners\\n  * Table Management\\n  * Business Success Stories\\n  * Business Support\\n  * Yelp Blog for Business\\n\\nLanguages\\n\\nEnglish\\n\\nCountries\\n\\nUnited States\\n\\n  * About\\n\\n  * Blog\\n\\n  * Support\\n\\n  * Terms\\n\\n  * Privacy Policy\\n\\n  * Your Privacy Choices\\n\\nCopyright © 2004–2023 Yelp Inc. Yelp, ,  and related marks are registered\\ntrademarks of Yelp.\\n\\nSome Data By Acxiom\\n\\n'"
            ],
            "application/vnd.google.colaboratory.intrinsic+json": {
              "type": "string"
            }
          },
          "metadata": {},
          "execution_count": 52
        }
      ]
    },
    {
      "cell_type": "code",
      "source": [
        "text_to_summarize"
      ],
      "metadata": {
        "colab": {
          "base_uri": "https://localhost:8080/",
          "height": 127
        },
        "id": "M2rlVrGOBZHu",
        "outputId": "92d2eeec-e0c6-4ce2-e12b-5cf0302eeb73"
      },
      "execution_count": 53,
      "outputs": [
        {
          "output_type": "execute_result",
          "data": {
            "text/plain": [
              "'Yelp\\n\\nYelp for Business\\n\\nWrite a Review\\n\\nLog InSign Up\\n\\nRestaurants\\n\\nDelivery\\n\\nBurgers\\n\\nChinese\\n\\nItalian\\n\\nReservations\\n\\nJapanese\\n\\nMexican\\n\\nThai\\n\\nHome Services\\n\\nContractors\\n\\nElectricians\\n\\nHome Cleaners\\n\\nHVAC\\n\\nLandscaping\\n\\nLocksmiths\\n\\nMovers\\n\\nPlumbers\\n\\nAuto Services\\n\\nAuto Repair\\n\\nAuto Detailing\\n\\nBody Shops\\n\\nCar Wash\\n\\nCar Dealers\\n\\nOil Change\\n\\nParking\\n\\nTowing\\n\\nMore\\n\\nDry Cleaning\\n\\nPhone Repair\\n\\nBars\\n\\nNightlife\\n\\nHair Salons\\n\\nGyms\\n\\nMassage\\n\\nShopping\\n\\nMore\\n\\nFilters\\n\\n$$$$$$$$$$\\n\\nSuggested\\n\\nOpen Now\\n\\n\\\\--:--\\n\\nOffers Delivery\\n\\nReservations\\n\\nFree Wi-Fi\\n\\nOutdoor Seating\\n\\nDogs Allowed\\n\\nFeatures\\n\\nOffers Takeout\\n\\nGood for Groups\\n\\nGood for Dinner\\n\\nGood for Kids\\n\\nSee all\\n\\nDistance\\n\\nBird\\'s-eye View\\n\\nDriving (5 mi.)\\n\\nBiking (2 mi.)\\n\\nWalking (1 mi.)\\n\\nWithin 4 blocks\\n\\nYelpRestaurantsSeafood\\n\\n# The Best 10 Seafood Restaurants near Mountain View, CA 94043\\n\\nSort:Recommended\\n\\nAll\\n\\nPrice\\n\\nOpen NowOffers DeliveryReservationsFree Wi-FiOutdoor SeatingDogs Allowed\\n\\n  *   *   * ### 1. Limón\\n\\n4.0 (266 reviews)\\n\\nPeruvianSeafoodCocktail Bars\\n\\nThis is a placeholder\\n\\n“Everything we ate was delicious. Love the menu- tons of mouth-watering\\nseafood and land animal...” more\\n\\n    * Delivery\\n\\nTakeout\\n\\nFind a Table\\n\\n  * ### 2. Pacific Catch\\n\\n3.8 (1k reviews)\\n\\nSeafoodTacosSushi Bars$$\\n\\nThis is a placeholder\\n\\nOutdoor seating\\n\\nTakes reservations\\n\\n“Personally, I really enjoyed the poke, the Korean-style seafood pancake\\n(again, better at the...” more\\n\\n    * Delivery\\n\\nTakeout\\n\\nStart Order\\n\\n  * ### 3. The Sea by Alexander’s Steakhouse\\n\\n4.1 (1.3k reviews)\\n\\nSeafoodSteakhousesBars$$$$\\n\\nThis is a placeholder\\n\\n“All of the seafood was very fresh, with particularly sweet jumbo shrimp.”\\nmore\\n\\n    * Outdoor seating\\n\\nTakeout\\n\\n  * ### 4. Cap’t Loui\\n\\n4.5 (569 reviews)\\n\\nSeafoodFish & ChipsCajun/Creole$$\\n\\nThis is a placeholder\\n\\nFree parking\\n\\nLarge group friendly\\n\\n“If you order a certain amount of pounds of seafood, you can get extra sides\\nfor free.” more\\n\\n    * Outdoor seating\\n\\nDelivery\\n\\nTakeout\\n\\nStart Order\\n\\n  * ### 5. La Marea of the Sea\\n\\n4.7 (45 reviews)\\n\\nSeafoodFood Stands$\\n\\nThis is a placeholder\\n\\n“The oysters were pretty fresh. They have great condiments to compliment the\\nseafood.” more\\n\\n    * Delivery\\n\\n  * ### 6. Rustic House Oyster Bar and Grill - Los Altos\\n\\n4.0 (642 reviews)\\n\\nSeafoodBarsAmerican$$\\n\\nThis is a placeholder\\n\\n“The seafood was delicious and competently prepared: a generously portioned\\ngrouper special on...” more\\n\\n    * Outdoor seating\\n\\nDelivery\\n\\nTakeout\\n\\nStart Order\\n\\n  * ### 7. King’s Fish House - San Jose\\n\\n4.2 (1.9k reviews)\\n\\nSeafood$$$West San Jose\\n\\nThis is a placeholder\\n\\n“The tartare sauce has great balance of spicy and seafood taste to it, I\\nreally like it. 3.)...” more\\n\\n    * Outdoor seating\\n\\nDelivery\\n\\nTakeout\\n\\n  * ### 8. The City Fish\\n\\n4.4 (1.1k reviews)\\n\\nSandwichesSeafoodFish & Chips$$\\n\\nThis is a placeholder\\n\\n“The reason why I love them is simple - big portions of quality seafood at a\\nreasonable price.” more\\n\\n    * Outdoor seating\\n\\nDelivery\\n\\nTakeout\\n\\nStart Order\\n\\n  * ### 9. Cook’s Seafood\\n\\n3.9 (636 reviews)\\n\\nSeafoodSeafood MarketsFish & Chips$$\\n\\nThis is a placeholder\\n\\n“I decided that I wanted some seafood but I wanted GOOD seafood and not the\\nsame stuff I always have.” more\\n\\n    * Outdoor seating\\n\\nTakeout\\n\\n  * ### 10. Gochi - Mountain View\\n\\n4.1 (555 reviews)\\n\\nJapaneseWine BarsSeafood$$$\\n\\nThis is a placeholder\\n\\n    * Waitlist opens at 5:45 pm\\n\\n“Fresh seafood. Highly recommend. Customer service is top notch. Thank you\\nGochi for the great...” more\\n\\n    * Outdoor seating\\n\\nDelivery\\n\\nTakeout\\n\\nFind a Table\\n\\n  * 1\\n\\n2\\n\\n3\\n\\n4\\n\\n5\\n\\n6\\n\\n7\\n\\n8\\n\\n9\\n\\n1 of 22\\n\\n  * ## Can\\'t find the business?\\n\\nAdding a business to Yelp is always free.\\n\\nAdd business\\n\\nGot search feedback? Help us improve.\\n\\n  * ## Related Searches in Mountain View, CA\\n\\nBeef Wellington\\n\\nCioppino\\n\\nCrab\\n\\nDinner Reservations\\n\\nFish Tacos\\n\\nMichelada\\n\\nSeafood Boil\\n\\nSeafood Buffet\\n\\nSteakhouses\\n\\n$1 Oysters\\n\\nCajun\\n\\nCajun Seafood Boil\\n\\nCeviche\\n\\nClam Chowder\\n\\nCrab Legs\\n\\nCrawfish\\n\\nFish\\n\\nFish House\\n\\nLobster Roll\\n\\nMariscos\\n\\nOysters\\n\\nRestaurants With a View\\n\\nSalmon\\n\\nScallops\\n\\nAnniversary Dinner\\n\\nCajun Seafood\\n\\nCalamari\\n\\nCrab Boil\\n\\nCrab Sandwich\\n\\nFish & Chips\\n\\nHip New Restaurants\\n\\nOyster Bars\\n\\nRestaurants With Private Rooms\\n\\nSashimi\\n\\nChain Restaurants\\n\\nCrawfish Boil\\n\\nDungeness Crab\\n\\nFine Dining\\n\\nFish Market\\n\\nGrilled Fish\\n\\nMexican Seafood\\n\\nOyster Happy Hour\\n\\nPrime Rib\\n\\nSoft Shell Crab\\n\\nValentines Day Dinner\\n\\n## Trending Searches in Mountain View, CA\\n\\nAsian Supermarket\\n\\nBuy Fresh Oysters\\n\\nCajun Seafood Boil\\n\\nCandy Stores\\n\\nCatfish\\n\\nCaviar\\n\\nCheese Shops\\n\\nClam Chowder Bread Bowl\\n\\nDim Sum\\n\\nDry Aged Steak\\n\\nFishmonger\\n\\nFruit Cake\\n\\nGourmet Grocery Stores\\n\\nGumbo\\n\\nHot Chocolate\\n\\nItalian Grocery Stores\\n\\nKaraoke\\n\\nLive Lobster\\n\\nPopcorn Shops\\n\\nPotluck Food\\n\\nPozole\\n\\nRestaurants Open on Christmas Day\\n\\nSashimi\\n\\nSeafood Markets\\n\\nSmoked Salmon\\n\\nSpecialty Food\\n\\nSushi Lunch Special\\n\\nSushi Party Tray\\n\\nWagyu Steak\\n\\nYule Log Cake\\n\\n## Related Articles\\n\\nTop Buffets in California\\n\\nTop Cajun/Creole in California\\n\\nTop Dim Sum Restaurants in California\\n\\nTop Fish & Chips in California\\n\\nTop Peruvian Restaurants in California\\n\\nTop Restaurants in California\\n\\nTop Seafood Restaurants in California\\n\\nTop Soul Food Restaurants in California\\n\\nTop Steakhouses in California\\n\\nTop Buffets in the US\\n\\nTop Cajun/Creole in the US\\n\\nTop Dim Sum Restaurants in the US\\n\\nTop Fish & Chips in the US\\n\\nTop Peruvian Restaurants in the US\\n\\nTop Restaurants in the US\\n\\nTop Seafood Restaurants in the US\\n\\nTop Soul Food Restaurants in the US\\n\\nTop Steakhouses in the US\\n\\n  *   * ## Search seafood in popular locations\\n\\n### Nearby cities\\n\\nCampbell, CA\\n\\nCupertino, CA\\n\\nLos Altos, CA\\n\\nLos Gatos, CA\\n\\nMilpitas, CA\\n\\nPalo Alto, CA\\n\\nSan Jose, CA\\n\\nSanta Clara, CA\\n\\nSaratoga, CA\\n\\nSunnyvale, CA\\n\\n### More\\n\\nLos Angeles, CA\\n\\nNapa, CA\\n\\nSacramento, CA\\n\\nSan Diego, CA\\n\\nSan Francisco, CA\\n\\nSan Luis Obispo, CA\\n\\nSanta Barbara, CA\\n\\nSanta Rosa, CA\\n\\nStockton, CA\\n\\n  *   *   *   * ## Frequently Asked Questions and Answers\\n\\nWhat are the best cheap seafood restaurants?\\n\\nThese are the best cheap seafood restaurants near Mountain View, CA:\\n\\n    * The City Fish\\n\\n    * Cap\\'t Loui\\n\\n    * Rustic House Oyster Bar and Grill - Los Altos\\n\\n    * Pacific Catch\\n\\n    * Vaso Azzurro Ristorante\\n\\nPeople also liked: Seafood Takeout Restaurants, Seafood Restaurants Offering\\nReservations\\n\\nWhat did people search for similar to seafood near Mountain View, CA?\\n\\nPeople also searched for these near Mountain View:\\n\\n    * Steak\\n\\n    * Seafood Markets\\n\\n    * Dinner\\n\\n    * Sushi\\n\\n    * Fried Fish\\n\\nSee more seafood near Mountain View.\\n\\nWhat are people saying about seafood restaurants near Mountain View, CA?\\n\\nThis is a review for seafood restaurants near Mountain View, CA:\\n\\n\"La Marea of the Sea brings fresh seafood to ur nearest farmers market if u\\ncan\\'t make it to ur seafood eatery locale: Montclair Farmers Market (9/6/20)\\nofferings: raw oysters, shrimp cocktail, fish ceviche, etc. eats: 3 raw miyagi\\noysters/$7 -big & briney, with dash of lemon & horseradish -haven\\'t had them\\nin about a decade, tasted great. -one can also take them home, in the heat,\\ndoubt it will travel well. notes: -seafood made to order, line can get long as\\nonly 1 amigo worker.....\"\\n\\nSee more reviews for this business.\\n\\nWhat are the best seafood takeout restaurants?\\n\\nThese are the best seafood takeout restaurants near Mountain View, CA:\\n\\n    * The City Fish\\n\\n    * Cap\\'t Loui\\n\\n    * King\\'s Fish House - San Jose\\n\\n    * Rustic House Oyster Bar and Grill - Los Altos\\n\\n    * Pacific Catch\\n\\nPeople also liked: Cheap Seafood Restaurants, Seafood Restaurants Offering\\nReservations\\n\\nWhat are the best seafood restaurants offering reservations?\\n\\nThese are the best seafood restaurants offering reservations near Mountain\\nView, CA:\\n\\n    * King\\'s Fish House - San Jose\\n\\n    * Rustic House Oyster Bar and Grill - Los Altos\\n\\n    * Pacific Catch\\n\\n    * The Sea by Alexander\\'s Steakhouse\\n\\n    * Evvia Estiatorio\\n\\nPeople also liked: Cheap Seafood Restaurants, Seafood Takeout Restaurants\\n\\nAbout\\n\\n  * About Yelp\\n  * Careers\\n  * Press\\n  * Investor Relations\\n  * Trust & Safety\\n  * Content Guidelines\\n  * Accessibility Statement\\n  * Terms of Service\\n  * Privacy Policy\\n  * Ad Choices\\n  * Your Privacy Choices\\n\\nDiscover\\n\\n  * Yelp Project Cost Guides\\n  * Collections\\n  * Talk\\n  * Events\\n  * Yelp Blog\\n  * Support\\n  * Yelp Mobile\\n  * Developers\\n  * RSS\\n\\nYelp for Business\\n\\n  * Yelp for Business\\n  * Business Owner Login\\n  * Claim your Business Page\\n  * Advertise on Yelp\\n  * Yelp for Restaurant Owners\\n  * Table Management\\n  * Business Success Stories\\n  * Business Support\\n  * Yelp Blog for Business\\n\\nLanguages\\n\\nEnglish\\n\\nCountries\\n\\nUnited States\\n\\n  * About\\n\\n  * Blog\\n\\n  * Support\\n\\n  * Terms\\n\\n  * Privacy Policy\\n\\n  * Your Privacy Choices\\n\\nCopyright © 2004–2023 Yelp Inc. Yelp, ,  and related marks are registered\\ntrademarks of Yelp.\\n\\nSome Data By Acxiom\\n\\n'"
            ],
            "application/vnd.google.colaboratory.intrinsic+json": {
              "type": "string"
            }
          },
          "metadata": {},
          "execution_count": 53
        }
      ]
    },
    {
      "cell_type": "code",
      "source": [
        "import vertexai\n",
        "from IPython.display import Markdown\n",
        "from vertexai.preview.generative_models import GenerativeModel, ChatSession\n",
        "vertexai.init(project=PROJECT_ID, location=LOCATION)\n",
        "\n",
        "model = GenerativeModel(\"gemini-pro\")\n",
        "chat = model.start_chat()\n",
        "\n",
        "def do_gemini_chat(chat: ChatSession, prompt: str) -> str:\n",
        "    response = chat.send_message(prompt)\n",
        "    return response.text\n",
        "\n",
        "prompt = \"Hello.\"\n",
        "Markdown(do_gemini_chat(chat, prompt))\n",
        "\n",
        "prompt = f\"\"\"You are an expert summary generator. Please follow the below rules for the summary generation.\n",
        "          {user_albert_preference['prompt_template']['summary_template_1']}\n",
        "          Here's the content:\n",
        "          {text_to_summarize}\n",
        "           \"\"\"\n",
        "Markdown(do_gemini_chat(chat, prompt))"
      ],
      "metadata": {
        "colab": {
          "base_uri": "https://localhost:8080/",
          "height": 116
        },
        "id": "lTWcSv_fLb0c",
        "outputId": "15b24b7f-da63-49a2-e632-bc2b4ca8b933"
      },
      "execution_count": 54,
      "outputs": [
        {
          "output_type": "execute_result",
          "data": {
            "text/plain": [
              "<IPython.core.display.Markdown object>"
            ],
            "text/markdown": "{\n \"summary\": \"Here is a list of the best 10 seafood restaurants near Mountain View, CA 94043. The list includes Lim\\u00f3n, Pacific Catch, The Sea by Alexander\\u2019s Steakhouse, Cap\\u2019t Loui, La Marea of the Sea, Rustic House Oyster Bar and Grill - Los Altos, King\\u2019s Fish House - San Jose, The City Fish, Cook\\u2019s Seafood, and Gochi - Mountain View.\",\n \"highlights\": [],\n \"keywords\": [\n  \"Seafood\",\n  \"Restaurants\",\n  \"Mountain View\",\n  \"California\",\n  \"Lim\\u00f3n\",\n  \"Pacific Catch\",\n  \"The Sea by Alexander\\u2019s Steakhouse\",\n  \"Cap\\u2019t Loui\",\n  \"La Marea of the Sea\",\n  \"Rustic House Oyster Bar and Grill - Los Altos\",\n  \"King\\u2019s Fish House - San Jose\",\n  \"The City Fish\",\n  \"Cook\\u2019s Seafood\",\n  \"Gochi - Mountain View\"\n ]\n}"
          },
          "metadata": {},
          "execution_count": 54
        }
      ]
    },
    {
      "cell_type": "code",
      "source": [
        "chat.history"
      ],
      "metadata": {
        "colab": {
          "base_uri": "https://localhost:8080/"
        },
        "id": "HFoPUpLuMobL",
        "outputId": "8c8aa8d2-c43d-4a5b-f102-b5a55c698d4e"
      },
      "execution_count": 55,
      "outputs": [
        {
          "output_type": "execute_result",
          "data": {
            "text/plain": [
              "[role: \"user\"\n",
              " parts {\n",
              "   text: \"Hello.\"\n",
              " },\n",
              " role: \"model\"\n",
              " parts {\n",
              "   text: \"Hello! How may I assist you?\"\n",
              " },\n",
              " role: \"user\"\n",
              " parts {\n",
              "   text: \"You are an expert summary generator. Please follow the below rules for the summary generation.\\n          \\n            You are an expert summary generator. Generate a clean and consise summary in less than 100 lines.\\n\\n            Prompt 1: Identify key sections in the text for summary generation\\n            Prompt 2: Extract key information from the introduction section\\n            Prompt 3: Parse out the main objective or purpose of the text\\n            Prompt 4: Identify any key findings or conclusions discussed in the text\\n            Prompt 5: Summarize the main arguments or points presented in the text\\n            Prompt 6: Summarize the overall tone or attitude of the text\\n\\n            Output the summary as per the below schema.\\n            {\\n              \\\"summary\\\": \\\"\\\",\\n              \\\"highlights\\\": []\\n              \\\"keywords\\\": []\\n            }\\n\\n        \\n          Here\\'s the content:\\n          Yelp\\n\\nYelp for Business\\n\\nWrite a Review\\n\\nLog InSign Up\\n\\nRestaurants\\n\\nDelivery\\n\\nBurgers\\n\\nChinese\\n\\nItalian\\n\\nReservations\\n\\nJapanese\\n\\nMexican\\n\\nThai\\n\\nHome Services\\n\\nContractors\\n\\nElectricians\\n\\nHome Cleaners\\n\\nHVAC\\n\\nLandscaping\\n\\nLocksmiths\\n\\nMovers\\n\\nPlumbers\\n\\nAuto Services\\n\\nAuto Repair\\n\\nAuto Detailing\\n\\nBody Shops\\n\\nCar Wash\\n\\nCar Dealers\\n\\nOil Change\\n\\nParking\\n\\nTowing\\n\\nMore\\n\\nDry Cleaning\\n\\nPhone Repair\\n\\nBars\\n\\nNightlife\\n\\nHair Salons\\n\\nGyms\\n\\nMassage\\n\\nShopping\\n\\nMore\\n\\nFilters\\n\\n$$$$$$$$$$\\n\\nSuggested\\n\\nOpen Now\\n\\n\\\\--:--\\n\\nOffers Delivery\\n\\nReservations\\n\\nFree Wi-Fi\\n\\nOutdoor Seating\\n\\nDogs Allowed\\n\\nFeatures\\n\\nOffers Takeout\\n\\nGood for Groups\\n\\nGood for Dinner\\n\\nGood for Kids\\n\\nSee all\\n\\nDistance\\n\\nBird\\'s-eye View\\n\\nDriving (5 mi.)\\n\\nBiking (2 mi.)\\n\\nWalking (1 mi.)\\n\\nWithin 4 blocks\\n\\nYelpRestaurantsSeafood\\n\\n# The Best 10 Seafood Restaurants near Mountain View, CA 94043\\n\\nSort:Recommended\\n\\nAll\\n\\nPrice\\n\\nOpen NowOffers DeliveryReservationsFree Wi-FiOutdoor SeatingDogs Allowed\\n\\n  *   *   * ### 1. Lim\\303\\263n\\n\\n4.0 (266 reviews)\\n\\nPeruvianSeafoodCocktail Bars\\n\\nThis is a placeholder\\n\\n\\342\\200\\234Everything we ate was delicious. Love the menu- tons of mouth-watering\\nseafood and land animal...\\342\\200\\235 more\\n\\n    * Delivery\\n\\nTakeout\\n\\nFind a Table\\n\\n  * ### 2. Pacific Catch\\n\\n3.8 (1k reviews)\\n\\nSeafoodTacosSushi Bars$$\\n\\nThis is a placeholder\\n\\nOutdoor seating\\n\\nTakes reservations\\n\\n\\342\\200\\234Personally, I really enjoyed the poke, the Korean-style seafood pancake\\n(again, better at the...\\342\\200\\235 more\\n\\n    * Delivery\\n\\nTakeout\\n\\nStart Order\\n\\n  * ### 3. The Sea by Alexander\\342\\200\\231s Steakhouse\\n\\n4.1 (1.3k reviews)\\n\\nSeafoodSteakhousesBars$$$$\\n\\nThis is a placeholder\\n\\n\\342\\200\\234All of the seafood was very fresh, with particularly sweet jumbo shrimp.\\342\\200\\235\\nmore\\n\\n    * Outdoor seating\\n\\nTakeout\\n\\n  * ### 4. Cap\\342\\200\\231t Loui\\n\\n4.5 (569 reviews)\\n\\nSeafoodFish & ChipsCajun/Creole$$\\n\\nThis is a placeholder\\n\\nFree parking\\n\\nLarge group friendly\\n\\n\\342\\200\\234If you order a certain amount of pounds of seafood, you can get extra sides\\nfor free.\\342\\200\\235 more\\n\\n    * Outdoor seating\\n\\nDelivery\\n\\nTakeout\\n\\nStart Order\\n\\n  * ### 5. La Marea of the Sea\\n\\n4.7 (45 reviews)\\n\\nSeafoodFood Stands$\\n\\nThis is a placeholder\\n\\n\\342\\200\\234The oysters were pretty fresh. They have great condiments to compliment the\\nseafood.\\342\\200\\235 more\\n\\n    * Delivery\\n\\n  * ### 6. Rustic House Oyster Bar and Grill - Los Altos\\n\\n4.0 (642 reviews)\\n\\nSeafoodBarsAmerican$$\\n\\nThis is a placeholder\\n\\n\\342\\200\\234The seafood was delicious and competently prepared: a generously portioned\\ngrouper special on...\\342\\200\\235 more\\n\\n    * Outdoor seating\\n\\nDelivery\\n\\nTakeout\\n\\nStart Order\\n\\n  * ### 7. King\\342\\200\\231s Fish House - San Jose\\n\\n4.2 (1.9k reviews)\\n\\nSeafood$$$West San Jose\\n\\nThis is a placeholder\\n\\n\\342\\200\\234The tartare sauce has great balance of spicy and seafood taste to it, I\\nreally like it. 3.)...\\342\\200\\235 more\\n\\n    * Outdoor seating\\n\\nDelivery\\n\\nTakeout\\n\\n  * ### 8. The City Fish\\n\\n4.4 (1.1k reviews)\\n\\nSandwichesSeafoodFish & Chips$$\\n\\nThis is a placeholder\\n\\n\\342\\200\\234The reason why I love them is simple - big portions of quality seafood at a\\nreasonable price.\\342\\200\\235 more\\n\\n    * Outdoor seating\\n\\nDelivery\\n\\nTakeout\\n\\nStart Order\\n\\n  * ### 9. Cook\\342\\200\\231s Seafood\\n\\n3.9 (636 reviews)\\n\\nSeafoodSeafood MarketsFish & Chips$$\\n\\nThis is a placeholder\\n\\n\\342\\200\\234I decided that I wanted some seafood but I wanted GOOD seafood and not the\\nsame stuff I always have.\\342\\200\\235 more\\n\\n    * Outdoor seating\\n\\nTakeout\\n\\n  * ### 10. Gochi - Mountain View\\n\\n4.1 (555 reviews)\\n\\nJapaneseWine BarsSeafood$$$\\n\\nThis is a placeholder\\n\\n    * Waitlist opens at 5:45 pm\\n\\n\\342\\200\\234Fresh seafood. Highly recommend. Customer service is top notch. Thank you\\nGochi for the great...\\342\\200\\235 more\\n\\n    * Outdoor seating\\n\\nDelivery\\n\\nTakeout\\n\\nFind a Table\\n\\n  * 1\\n\\n2\\n\\n3\\n\\n4\\n\\n5\\n\\n6\\n\\n7\\n\\n8\\n\\n9\\n\\n1 of 22\\n\\n  * ## Can\\'t find the business?\\n\\nAdding a business to Yelp is always free.\\n\\nAdd business\\n\\nGot search feedback? Help us improve.\\n\\n  * ## Related Searches in Mountain View, CA\\n\\nBeef Wellington\\n\\nCioppino\\n\\nCrab\\n\\nDinner Reservations\\n\\nFish Tacos\\n\\nMichelada\\n\\nSeafood Boil\\n\\nSeafood Buffet\\n\\nSteakhouses\\n\\n$1 Oysters\\n\\nCajun\\n\\nCajun Seafood Boil\\n\\nCeviche\\n\\nClam Chowder\\n\\nCrab Legs\\n\\nCrawfish\\n\\nFish\\n\\nFish House\\n\\nLobster Roll\\n\\nMariscos\\n\\nOysters\\n\\nRestaurants With a View\\n\\nSalmon\\n\\nScallops\\n\\nAnniversary Dinner\\n\\nCajun Seafood\\n\\nCalamari\\n\\nCrab Boil\\n\\nCrab Sandwich\\n\\nFish & Chips\\n\\nHip New Restaurants\\n\\nOyster Bars\\n\\nRestaurants With Private Rooms\\n\\nSashimi\\n\\nChain Restaurants\\n\\nCrawfish Boil\\n\\nDungeness Crab\\n\\nFine Dining\\n\\nFish Market\\n\\nGrilled Fish\\n\\nMexican Seafood\\n\\nOyster Happy Hour\\n\\nPrime Rib\\n\\nSoft Shell Crab\\n\\nValentines Day Dinner\\n\\n## Trending Searches in Mountain View, CA\\n\\nAsian Supermarket\\n\\nBuy Fresh Oysters\\n\\nCajun Seafood Boil\\n\\nCandy Stores\\n\\nCatfish\\n\\nCaviar\\n\\nCheese Shops\\n\\nClam Chowder Bread Bowl\\n\\nDim Sum\\n\\nDry Aged Steak\\n\\nFishmonger\\n\\nFruit Cake\\n\\nGourmet Grocery Stores\\n\\nGumbo\\n\\nHot Chocolate\\n\\nItalian Grocery Stores\\n\\nKaraoke\\n\\nLive Lobster\\n\\nPopcorn Shops\\n\\nPotluck Food\\n\\nPozole\\n\\nRestaurants Open on Christmas Day\\n\\nSashimi\\n\\nSeafood Markets\\n\\nSmoked Salmon\\n\\nSpecialty Food\\n\\nSushi Lunch Special\\n\\nSushi Party Tray\\n\\nWagyu Steak\\n\\nYule Log Cake\\n\\n## Related Articles\\n\\nTop Buffets in California\\n\\nTop Cajun/Creole in California\\n\\nTop Dim Sum Restaurants in California\\n\\nTop Fish & Chips in California\\n\\nTop Peruvian Restaurants in California\\n\\nTop Restaurants in California\\n\\nTop Seafood Restaurants in California\\n\\nTop Soul Food Restaurants in California\\n\\nTop Steakhouses in California\\n\\nTop Buffets in the US\\n\\nTop Cajun/Creole in the US\\n\\nTop Dim Sum Restaurants in the US\\n\\nTop Fish & Chips in the US\\n\\nTop Peruvian Restaurants in the US\\n\\nTop Restaurants in the US\\n\\nTop Seafood Restaurants in the US\\n\\nTop Soul Food Restaurants in the US\\n\\nTop Steakhouses in the US\\n\\n  *   * ## Search seafood in popular locations\\n\\n### Nearby cities\\n\\nCampbell, CA\\n\\nCupertino, CA\\n\\nLos Altos, CA\\n\\nLos Gatos, CA\\n\\nMilpitas, CA\\n\\nPalo Alto, CA\\n\\nSan Jose, CA\\n\\nSanta Clara, CA\\n\\nSaratoga, CA\\n\\nSunnyvale, CA\\n\\n### More\\n\\nLos Angeles, CA\\n\\nNapa, CA\\n\\nSacramento, CA\\n\\nSan Diego, CA\\n\\nSan Francisco, CA\\n\\nSan Luis Obispo, CA\\n\\nSanta Barbara, CA\\n\\nSanta Rosa, CA\\n\\nStockton, CA\\n\\n  *   *   *   * ## Frequently Asked Questions and Answers\\n\\nWhat are the best cheap seafood restaurants?\\n\\nThese are the best cheap seafood restaurants near Mountain View, CA:\\n\\n    * The City Fish\\n\\n    * Cap\\'t Loui\\n\\n    * Rustic House Oyster Bar and Grill - Los Altos\\n\\n    * Pacific Catch\\n\\n    * Vaso Azzurro Ristorante\\n\\nPeople also liked: Seafood Takeout Restaurants, Seafood Restaurants Offering\\nReservations\\n\\nWhat did people search for similar to seafood near Mountain View, CA?\\n\\nPeople also searched for these near Mountain View:\\n\\n    * Steak\\n\\n    * Seafood Markets\\n\\n    * Dinner\\n\\n    * Sushi\\n\\n    * Fried Fish\\n\\nSee more seafood near Mountain View.\\n\\nWhat are people saying about seafood restaurants near Mountain View, CA?\\n\\nThis is a review for seafood restaurants near Mountain View, CA:\\n\\n\\\"La Marea of the Sea brings fresh seafood to ur nearest farmers market if u\\ncan\\'t make it to ur seafood eatery locale: Montclair Farmers Market (9/6/20)\\nofferings: raw oysters, shrimp cocktail, fish ceviche, etc. eats: 3 raw miyagi\\noysters/$7 -big & briney, with dash of lemon & horseradish -haven\\'t had them\\nin about a decade, tasted great. -one can also take them home, in the heat,\\ndoubt it will travel well. notes: -seafood made to order, line can get long as\\nonly 1 amigo worker.....\\\"\\n\\nSee more reviews for this business.\\n\\nWhat are the best seafood takeout restaurants?\\n\\nThese are the best seafood takeout restaurants near Mountain View, CA:\\n\\n    * The City Fish\\n\\n    * Cap\\'t Loui\\n\\n    * King\\'s Fish House - San Jose\\n\\n    * Rustic House Oyster Bar and Grill - Los Altos\\n\\n    * Pacific Catch\\n\\nPeople also liked: Cheap Seafood Restaurants, Seafood Restaurants Offering\\nReservations\\n\\nWhat are the best seafood restaurants offering reservations?\\n\\nThese are the best seafood restaurants offering reservations near Mountain\\nView, CA:\\n\\n    * King\\'s Fish House - San Jose\\n\\n    * Rustic House Oyster Bar and Grill - Los Altos\\n\\n    * Pacific Catch\\n\\n    * The Sea by Alexander\\'s Steakhouse\\n\\n    * Evvia Estiatorio\\n\\nPeople also liked: Cheap Seafood Restaurants, Seafood Takeout Restaurants\\n\\nAbout\\n\\n  * About Yelp\\n  * Careers\\n  * Press\\n  * Investor Relations\\n  * Trust & Safety\\n  * Content Guidelines\\n  * Accessibility Statement\\n  * Terms of Service\\n  * Privacy Policy\\n  * Ad Choices\\n  * Your Privacy Choices\\n\\nDiscover\\n\\n  * Yelp Project Cost Guides\\n  * Collections\\n  * Talk\\n  * Events\\n  * Yelp Blog\\n  * Support\\n  * Yelp Mobile\\n  * Developers\\n  * RSS\\n\\nYelp for Business\\n\\n  * Yelp for Business\\n  * Business Owner Login\\n  * Claim your Business Page\\n  * Advertise on Yelp\\n  * Yelp for Restaurant Owners\\n  * Table Management\\n  * Business Success Stories\\n  * Business Support\\n  * Yelp Blog for Business\\n\\nLanguages\\n\\nEnglish\\n\\nCountries\\n\\nUnited States\\n\\n  * About\\n\\n  * Blog\\n\\n  * Support\\n\\n  * Terms\\n\\n  * Privacy Policy\\n\\n  * Your Privacy Choices\\n\\nCopyright \\302\\251 2004\\342\\200\\2232023 Yelp Inc. Yelp, ,  and related marks are registered\\ntrademarks of Yelp.\\n\\nSome Data By Acxiom\\n\\n\\n\\302\\240 \\302\\240 \\302\\240 \\302\\240 \\302\\240 \\302\\240\"\n",
              " },\n",
              " role: \"model\"\n",
              " parts {\n",
              "   text: \"{\\n \\\"summary\\\": \\\"Here is a list of the best 10 seafood restaurants near Mountain View, CA 94043. The list includes Lim\\\\u00f3n, Pacific Catch, The Sea by Alexander\\\\u2019s Steakhouse, Cap\\\\u2019t Loui, La Marea of the Sea, Rustic House Oyster Bar and Grill - Los Altos, King\\\\u2019s Fish House - San Jose, The City Fish, Cook\\\\u2019s Seafood, and Gochi - Mountain View.\\\",\\n \\\"highlights\\\": [],\\n \\\"keywords\\\": [\\n  \\\"Seafood\\\",\\n  \\\"Restaurants\\\",\\n  \\\"Mountain View\\\",\\n  \\\"California\\\",\\n  \\\"Lim\\\\u00f3n\\\",\\n  \\\"Pacific Catch\\\",\\n  \\\"The Sea by Alexander\\\\u2019s Steakhouse\\\",\\n  \\\"Cap\\\\u2019t Loui\\\",\\n  \\\"La Marea of the Sea\\\",\\n  \\\"Rustic House Oyster Bar and Grill - Los Altos\\\",\\n  \\\"King\\\\u2019s Fish House - San Jose\\\",\\n  \\\"The City Fish\\\",\\n  \\\"Cook\\\\u2019s Seafood\\\",\\n  \\\"Gochi - Mountain View\\\"\\n ]\\n}\"\n",
              " }]"
            ]
          },
          "metadata": {},
          "execution_count": 55
        }
      ]
    },
    {
      "cell_type": "markdown",
      "source": [
        "## **User Preferences**"
      ],
      "metadata": {
        "id": "berQJ5tBGVoK"
      }
    },
    {
      "cell_type": "code",
      "source": [
        "user_albert_preference = {\n",
        "    \"prompt_template\":{\n",
        "        \"summary_template_1\": \"\"\"\n",
        "            You are an expert summary generator. Generate a clean and consise summary in less than 100 lines.\n",
        "\n",
        "            Prompt 1: Identify key sections in the text for summary generation\n",
        "            Prompt 2: Extract key information from the introduction section\n",
        "            Prompt 3: Parse out the main objective or purpose of the text\n",
        "            Prompt 4: Identify any key findings or conclusions discussed in the text\n",
        "            Prompt 5: Summarize the main arguments or points presented in the text\n",
        "            Prompt 6: Summarize the overall tone or attitude of the text\n",
        "\n",
        "            Output the summary as per the below schema.\n",
        "            {\n",
        "              \"summary\": \"\",\n",
        "              \"highlights\": []\n",
        "              \"keywords\": []\n",
        "            }\n",
        "\n",
        "        \"\"\",\n",
        "        \"summary_template_2\": \"\"\"\n",
        "          1. Present a brief snapshot of the content to be summarized.\n",
        "          2. Uncover the essential insights, emphasizing the core elements.\n",
        "          3. Illuminate the primary theme or objective that underlies the material.\n",
        "          4. Incorporate pertinent details that enrich the overall context.\n",
        "          5. Emphasize the necessity for brevity, focusing on the key information.\n",
        "          6. Stress the importance of a clear and coherent flow in the summary.\n",
        "          7. Encourage the exclusion of repetitive information for a streamlined summary.\n",
        "        \"\"\"\n",
        "    }\n",
        "}"
      ],
      "metadata": {
        "id": "V0Nl3KUNGUWt"
      },
      "execution_count": 78,
      "outputs": []
    },
    {
      "cell_type": "code",
      "source": [
        "text_to_summarize = ''\n",
        "url = 'https://www.yelp.com/search?cflt=seafood&find_loc=Mountain+View%2C+CA+94043'\n",
        "response = await do_webscraping(url)\n",
        "if response != None:\n",
        "  text_to_summarize = response['summary']\n",
        "text_to_summarize"
      ],
      "metadata": {
        "colab": {
          "base_uri": "https://localhost:8080/",
          "height": 0
        },
        "id": "8eMvSqHXI0Ho",
        "outputId": "a246e5b2-5bf3-400c-fdbf-8cbc82f5e41b"
      },
      "execution_count": 79,
      "outputs": [
        {
          "output_type": "stream",
          "name": "stderr",
          "text": [
            "Fetching pages:   0%|          | 0/1 [00:00<?, ?it/s]ERROR:trulens_eval.feedback.provider.endpoint.base:litellm request failed <class 'AssertionError'>=. Retries remaining=3.\n",
            "Fetching pages: 100%|##########| 1/1 [00:01<00:00,  1.41s/it]\n",
            "ERROR:trulens_eval.feedback.provider.endpoint.base:litellm request failed <class 'AssertionError'>=. Retries remaining=2.\n"
          ]
        },
        {
          "output_type": "execute_result",
          "data": {
            "text/plain": [
              "'Yelp\\n\\nYelp for Business\\n\\nWrite a Review\\n\\nLog InSign Up\\n\\nRestaurants\\n\\nDelivery\\n\\nBurgers\\n\\nChinese\\n\\nItalian\\n\\nReservations\\n\\nJapanese\\n\\nMexican\\n\\nThai\\n\\nHome Services\\n\\nContractors\\n\\nElectricians\\n\\nHome Cleaners\\n\\nHVAC\\n\\nLandscaping\\n\\nLocksmiths\\n\\nMovers\\n\\nPlumbers\\n\\nAuto Services\\n\\nAuto Repair\\n\\nAuto Detailing\\n\\nBody Shops\\n\\nCar Wash\\n\\nCar Dealers\\n\\nOil Change\\n\\nParking\\n\\nTowing\\n\\nMore\\n\\nDry Cleaning\\n\\nPhone Repair\\n\\nBars\\n\\nNightlife\\n\\nHair Salons\\n\\nGyms\\n\\nMassage\\n\\nShopping\\n\\nMore\\n\\nFilters\\n\\n$$$$$$$$$$\\n\\nSuggested\\n\\nOpen Now\\n\\n\\\\--:--\\n\\nOffers Delivery\\n\\nReservations\\n\\nFree Wi-Fi\\n\\nOutdoor Seating\\n\\nDogs Allowed\\n\\nFeatures\\n\\nOffers Takeout\\n\\nGood for Groups\\n\\nGood for Dinner\\n\\nGood for Kids\\n\\nSee all\\n\\nDistance\\n\\nBird\\'s-eye View\\n\\nDriving (5 mi.)\\n\\nBiking (2 mi.)\\n\\nWalking (1 mi.)\\n\\nWithin 4 blocks\\n\\nYelpRestaurantsSeafood\\n\\n# The Best 10 Seafood Restaurants near Mountain View, CA 94043\\n\\nSort:Recommended\\n\\nAll\\n\\nPrice\\n\\nOpen NowOffers DeliveryReservationsFree Wi-FiOutdoor SeatingDogs Allowed\\n\\n  *   *   * ### 1. Limón\\n\\n4.0\\n\\n(266 reviews)\\n\\nPeruvianSeafoodCocktail Bars\\n\\nThis is a placeholder\\n\\n“Everything we ate was delicious. Love the menu- tons of mouth-watering\\nseafood and land animal...” more\\n\\n    * Delivery\\n\\nTakeout\\n\\nFind a Table\\n\\n  * ### 2. Pacific Catch\\n\\n3.8\\n\\n(1k reviews)\\n\\nSeafoodTacosSushi Bars$$\\n\\nThis is a placeholder\\n\\nOutdoor seating\\n\\nTakes reservations\\n\\n“Personally, I really enjoyed the poke, the Korean-style seafood pancake\\n(again, better at the...” more\\n\\n    * Delivery\\n\\nTakeout\\n\\nStart Order\\n\\n  * ### 3. Cap’t Loui\\n\\n4.5\\n\\n(570 reviews)\\n\\nSeafoodFish & ChipsCajun/Creole$$\\n\\nThis is a placeholder\\n\\nFree parking\\n\\nLarge group friendly\\n\\n“If you order a certain amount of pounds of seafood, you can get extra sides\\nfor free.” more\\n\\n    * Outdoor seating\\n\\nDelivery\\n\\nTakeout\\n\\nStart Order\\n\\n  * ### 4. The Sea by Alexander’s Steakhouse\\n\\n4.1\\n\\n(1.3k reviews)\\n\\nSeafoodSteakhousesBars$$$$\\n\\nThis is a placeholder\\n\\n“All of the seafood was very fresh, with particularly sweet jumbo shrimp.”\\nmore\\n\\n    * Outdoor seating\\n\\nTakeout\\n\\n  * ### 5. Rustic House Oyster Bar and Grill - Los Altos\\n\\n4.0\\n\\n(642 reviews)\\n\\nSeafoodBarsAmerican$$\\n\\nThis is a placeholder\\n\\n“The seafood was delicious and competently prepared: a generously portioned\\ngrouper special on...” more\\n\\n    * Outdoor seating\\n\\nDelivery\\n\\nTakeout\\n\\nStart Order\\n\\n  * ### 6. The City Fish\\n\\n4.4\\n\\n(1.1k reviews)\\n\\nSandwichesSeafoodFish & Chips$$\\n\\nThis is a placeholder\\n\\n“The reason why I love them is simple - big portions of quality seafood at a\\nreasonable price.” more\\n\\n    * Outdoor seating\\n\\nDelivery\\n\\nTakeout\\n\\nStart Order\\n\\n  * ### 7. Cook’s Seafood\\n\\n3.9\\n\\n(636 reviews)\\n\\nSeafoodSeafood MarketsFish & Chips$$\\n\\nThis is a placeholder\\n\\n“I decided that I wanted some seafood but I wanted GOOD seafood and not the\\nsame stuff I always have.” more\\n\\n    * Outdoor seating\\n\\nTakeout\\n\\n  * ### 8. La Marea of the Sea\\n\\n4.7\\n\\n(45 reviews)\\n\\nSeafoodFood Stands$\\n\\nThis is a placeholder\\n\\n“The oysters were pretty fresh. They have great condiments to compliment the\\nseafood.” more\\n\\n    * Delivery\\n\\n  * ### 9. King’s Fish House - San Jose\\n\\n4.2\\n\\n(1.9k reviews)\\n\\nSeafood$$$West San Jose\\n\\nThis is a placeholder\\n\\n“The tartare sauce has great balance of spicy and seafood taste to it, I\\nreally like it. 3.)...” more\\n\\n    * Outdoor seating\\n\\nDelivery\\n\\nTakeout\\n\\n  * ### 10. Supreme Crab\\n\\n3.7\\n\\n(262 reviews)\\n\\nSeafoodCajun/Creole\\n\\nThis is a placeholder\\n\\nSports on TV\\n\\nLarge group friendly\\n\\n“Supreme Crab, I save my left over sauce to use on other things and I\\'m a\\nseafood snob.” more\\n\\n    * Outdoor seating\\n\\nDelivery\\n\\nTakeout\\n\\nFind a Table\\n\\n  * 1\\n\\n2\\n\\n3\\n\\n4\\n\\n5\\n\\n6\\n\\n7\\n\\n8\\n\\n9\\n\\n1 of 22\\n\\n  * ## Can\\'t find the business?\\n\\nAdding a business to Yelp is always free.\\n\\nAdd business\\n\\nGot search feedback? Help us improve.\\n\\n  * ## Related Searches in Mountain View, CA\\n\\nBeef Wellington\\n\\nCioppino\\n\\nCrab\\n\\nDinner Reservations\\n\\nFish Tacos\\n\\nMichelada\\n\\nSeafood Boil\\n\\nSeafood Buffet\\n\\nSteakhouses\\n\\n$1 Oysters\\n\\nCajun\\n\\nCajun Seafood Boil\\n\\nCeviche\\n\\nClam Chowder\\n\\nCrab Legs\\n\\nCrawfish\\n\\nFish\\n\\nFish House\\n\\nLobster Roll\\n\\nMariscos\\n\\nOysters\\n\\nRestaurants With a View\\n\\nSalmon\\n\\nScallops\\n\\nAnniversary Dinner\\n\\nCajun Seafood\\n\\nCalamari\\n\\nCrab Boil\\n\\nCrab Sandwich\\n\\nFish & Chips\\n\\nHip New Restaurants\\n\\nOyster Bars\\n\\nRestaurants With Private Rooms\\n\\nSashimi\\n\\nChain Restaurants\\n\\nCrawfish Boil\\n\\nDungeness Crab\\n\\nFine Dining\\n\\nFish Market\\n\\nGrilled Fish\\n\\nMexican Seafood\\n\\nOyster Happy Hour\\n\\nPrime Rib\\n\\nSoft Shell Crab\\n\\nValentines Day Dinner\\n\\n## Trending Searches in Mountain View, CA\\n\\nAsian Supermarket\\n\\nBeef Wellington\\n\\nBuy Fresh Oysters\\n\\nCajun Seafood Boil\\n\\nCatfish\\n\\nCaviar\\n\\nCheese Shops\\n\\nChristmas Brunch\\n\\nClam Chowder Bread Bowl\\n\\nDry Aged Steak\\n\\nFishmonger\\n\\nFondue\\n\\nFruit Cake\\n\\nGingerbread Cookies\\n\\nGourmet Grocery Stores\\n\\nGumbo\\n\\nHot Chocolate\\n\\nItalian Grocery Stores\\n\\nKaraoke\\n\\nLive Lobster\\n\\nPopcorn Shops\\n\\nPotluck Food\\n\\nSashimi\\n\\nSeafood Markets\\n\\nSmoked Salmon\\n\\nSpecialty Food\\n\\nSushi Lunch Special\\n\\nSushi Party Tray\\n\\nWagyu Steak\\n\\nYule Log Cake\\n\\n## Related Articles\\n\\nTop Buffets in California\\n\\nTop Cajun/Creole in California\\n\\nTop Dim Sum Restaurants in California\\n\\nTop Fish & Chips in California\\n\\nTop Peruvian Restaurants in California\\n\\nTop Restaurants in California\\n\\nTop Seafood Restaurants in California\\n\\nTop Soul Food Restaurants in California\\n\\nTop Steakhouses in California\\n\\nTop Buffets in the US\\n\\nTop Cajun/Creole in the US\\n\\nTop Dim Sum Restaurants in the US\\n\\nTop Fish & Chips in the US\\n\\nTop Peruvian Restaurants in the US\\n\\nTop Restaurants in the US\\n\\nTop Seafood Restaurants in the US\\n\\nTop Soul Food Restaurants in the US\\n\\nTop Steakhouses in the US\\n\\n  *   * ## Search seafood in popular locations\\n\\n### Nearby cities\\n\\nCampbell, CA\\n\\nCupertino, CA\\n\\nLos Altos, CA\\n\\nLos Gatos, CA\\n\\nMilpitas, CA\\n\\nPalo Alto, CA\\n\\nSan Jose, CA\\n\\nSanta Clara, CA\\n\\nSaratoga, CA\\n\\nSunnyvale, CA\\n\\n### More\\n\\nLos Angeles, CA\\n\\nNapa, CA\\n\\nSacramento, CA\\n\\nSan Diego, CA\\n\\nSan Francisco, CA\\n\\nSan Luis Obispo, CA\\n\\nSanta Barbara, CA\\n\\nSanta Rosa, CA\\n\\nStockton, CA\\n\\n  *   *   *   * ## Frequently Asked Questions and Answers\\n\\nWhat are the best seafood takeout restaurants?\\n\\nThese are the best seafood takeout restaurants near Mountain View, CA:\\n\\n    * Cap\\'t Loui\\n\\n    * The City Fish\\n\\n    * King\\'s Fish House - San Jose\\n\\n    * Pacific Catch\\n\\n    * Forthright Oyster Bar & Kitchen\\n\\nPeople also liked: Cheap Seafood Restaurants, Seafood Restaurants Offering\\nReservations\\n\\nWhat did people search for similar to seafood near Mountain View, CA?\\n\\nPeople also searched for these near Mountain View:\\n\\n    * Steak\\n\\n    * Seafood Markets\\n\\n    * Dinner\\n\\n    * Sushi\\n\\n    * Fried Fish\\n\\nSee more seafood near Mountain View.\\n\\nWhat are people saying about seafood restaurants near Mountain View, CA?\\n\\nThis is a review for seafood restaurants near Mountain View, CA:\\n\\n\"Came here for the first time, a bit of a hole in the wall, but prob one of\\nthe best finds! We ordered the clam chowder, fried seafood platter, steamed\\nclams and seafood pasta. The clam chowder was decent and so was the fried\\nseafood platter, but the steamed clams were absolutely the best! I think I\\nfound my new favorite seafood spot. The portions are huge and decently priced,\\nabout $18-20 per entree. Apparently this is a chain with three different\\nlocations. Will definitely be back for the clams!\"\\n\\nSee more reviews for this business.\\n\\nWhat are the best cheap seafood restaurants?\\n\\nThese are the best cheap seafood restaurants near Mountain View, CA:\\n\\n    * Cap\\'t Loui\\n\\n    * The City Fish\\n\\n    * Pacific Catch\\n\\n    * Forthright Oyster Bar & Kitchen\\n\\n    * Rustic House Oyster Bar and Grill - Los Altos\\n\\nPeople also liked: Seafood Takeout Restaurants, Seafood Restaurants Offering\\nReservations\\n\\nWhat are the best seafood restaurants offering reservations?\\n\\nThese are the best seafood restaurants offering reservations near Mountain\\nView, CA:\\n\\n    * King\\'s Fish House - San Jose\\n\\n    * Pacific Catch\\n\\n    * Forthright Oyster Bar & Kitchen\\n\\n    * The Sea by Alexander\\'s Steakhouse\\n\\n    * Rustic House Oyster Bar and Grill - Los Altos\\n\\nPeople also liked: Seafood Takeout Restaurants, Cheap Seafood Restaurants\\n\\nAbout\\n\\n  * About Yelp\\n  * Careers\\n  * Press\\n  * Investor Relations\\n  * Trust & Safety\\n  * Content Guidelines\\n  * Accessibility Statement\\n  * Terms of Service\\n  * Privacy Policy\\n  * Ad Choices\\n  * Your Privacy Choices\\n\\nDiscover\\n\\n  * Yelp Project Cost Guides\\n  * Collections\\n  * Talk\\n  * Events\\n  * Yelp Blog\\n  * Support\\n  * Yelp Mobile\\n  * Developers\\n  * RSS\\n\\nYelp for Business\\n\\n  * Yelp for Business\\n  * Business Owner Login\\n  * Claim your Business Page\\n  * Advertise on Yelp\\n  * Yelp for Restaurant Owners\\n  * Table Management\\n  * Business Success Stories\\n  * Business Support\\n  * Yelp Blog for Business\\n\\nLanguages\\n\\nEnglish\\n\\nCountries\\n\\nUnited States\\n\\n  * About\\n\\n  * Blog\\n\\n  * Support\\n\\n  * Terms\\n\\n  * Privacy Policy\\n\\n  * Your Privacy Choices\\n\\nCopyright © 2004–2023 Yelp Inc. Yelp, ,  and related marks are registered\\ntrademarks of Yelp.\\n\\nSome Data By Acxiom\\n\\n'"
            ],
            "application/vnd.google.colaboratory.intrinsic+json": {
              "type": "string"
            }
          },
          "metadata": {},
          "execution_count": 79
        }
      ]
    },
    {
      "cell_type": "code",
      "source": [
        "import vertexai\n",
        "from vertexai.preview.generative_models import GenerativeModel, Part\n",
        "\n",
        "def generate_summary(text_to_summarize, max_output_tokens):\n",
        "  model = GenerativeModel(\"gemini-pro\")\n",
        "  responses = model.generate_content(f\"\"\"You are an expert summary generator. Please follow the below rules for the summary generation.\n",
        "          {user_albert_preference['prompt_template']['summary_template_1']}\n",
        "          Here's the content:\n",
        "          {text_to_summarize}\n",
        "           \"\"\",\n",
        "    generation_config={\n",
        "        \"max_output_tokens\": max_output_tokens,\n",
        "        \"temperature\": 0.9,\n",
        "        \"top_p\": 1\n",
        "    },\n",
        "  stream=True,\n",
        "  )\n",
        "\n",
        "  for response in responses:\n",
        "      print(response.candidates[0].content.parts[0].text)\n",
        "\n",
        "generate_summary(text_to_summarize, 8000)"
      ],
      "metadata": {
        "colab": {
          "base_uri": "https://localhost:8080/"
        },
        "id": "gEnk20ntG6YY",
        "outputId": "8f25ed80-7af7-491f-d434-c8a5f39f9bcc"
      },
      "execution_count": 80,
      "outputs": [
        {
          "output_type": "stream",
          "name": "stdout",
          "text": [
            "{\n",
            " \"summary\": \"This article lists top-rated seafood restaurants near Mountain\n",
            " View, California, along with their user ratings and reviews. The restaurants include Limon\n",
            ", Pacific Catch, Cap't Loui, The Sea by Alexander's Steakhouse, Rustic House Oyster Bar and Grill, The City Fish, Cook'\n",
            "s Seafood, La Marea of the Sea, King's Fish House, and Supreme Crab. The list is based on user ratings and reviews.\",\n",
            " \"\n"
          ]
        },
        {
          "output_type": "stream",
          "name": "stderr",
          "text": [
            "ERROR:trulens_eval.feedback.provider.endpoint.base:litellm request failed <class 'AssertionError'>=. Retries remaining=1.\n"
          ]
        },
        {
          "output_type": "stream",
          "name": "stdout",
          "text": [
            "highlights\": [\n",
            "  \"List of top-rated seafood restaurants near Mountain View, California, with user ratings and reviews.\",\n",
            "  \"Includes restaurants like Limon, Pacific Catch, Cap't Loui, The Sea by Alexander's\n",
            " Steakhouse, and more.\",\n",
            "  \"Based on user ratings and reviews, these restaurants offer a variety of seafood options and a range of dining experiences.\"\n",
            " ],\n",
            " \"keywords\": [\n",
            "  \"Seafood restaurants\",\n",
            "  \"Mountain\n",
            " View, California\",\n",
            "  \"Limon\",\n",
            "  \"Pacific Catch\",\n",
            "  \"Cap't Loui\",\n",
            "  \"The Sea by Alexander's Steakhouse\",\n",
            "  \"Rustic House Oyster Bar and Grill\",\n",
            "  \"The City Fish\",\n",
            "  \"Cook's Seafood\",\n",
            "  \"La Marea of the Sea\",\n",
            "  \"King's\n",
            " Fish House\",\n",
            "  \"Supreme Crab\"\n",
            " ]\n",
            "}\n"
          ]
        }
      ]
    },
    {
      "cell_type": "markdown",
      "source": [
        "# **Chat with Langchain**"
      ],
      "metadata": {
        "id": "WzoHU3DA-ZI6"
      }
    },
    {
      "cell_type": "code",
      "source": [
        "!pip install -U google-cloud-aiplatform\n",
        "!pip install -U langchain"
      ],
      "metadata": {
        "colab": {
          "base_uri": "https://localhost:8080/"
        },
        "id": "H2X3d0uq-Yc0",
        "outputId": "91ad419d-b65e-493c-a600-cd8c2bfbc72d"
      },
      "execution_count": 4,
      "outputs": [
        {
          "output_type": "stream",
          "name": "stdout",
          "text": [
            "Requirement already satisfied: google-cloud-aiplatform in /usr/local/lib/python3.10/dist-packages (1.38.1)\n",
            "Requirement already satisfied: google-api-core[grpc]!=2.0.*,!=2.1.*,!=2.2.*,!=2.3.*,!=2.4.*,!=2.5.*,!=2.6.*,!=2.7.*,<3.0.0dev,>=1.32.0 in /usr/local/lib/python3.10/dist-packages (from google-cloud-aiplatform) (2.11.1)\n",
            "Requirement already satisfied: proto-plus<2.0.0dev,>=1.22.0 in /usr/local/lib/python3.10/dist-packages (from google-cloud-aiplatform) (1.23.0)\n",
            "Requirement already satisfied: protobuf!=3.20.0,!=3.20.1,!=4.21.0,!=4.21.1,!=4.21.2,!=4.21.3,!=4.21.4,!=4.21.5,<5.0.0dev,>=3.19.5 in /usr/local/lib/python3.10/dist-packages (from google-cloud-aiplatform) (3.20.3)\n",
            "Requirement already satisfied: packaging>=14.3 in /usr/local/lib/python3.10/dist-packages (from google-cloud-aiplatform) (23.2)\n",
            "Requirement already satisfied: google-cloud-storage<3.0.0dev,>=1.32.0 in /usr/local/lib/python3.10/dist-packages (from google-cloud-aiplatform) (2.8.0)\n",
            "Requirement already satisfied: google-cloud-bigquery<4.0.0dev,>=1.15.0 in /usr/local/lib/python3.10/dist-packages (from google-cloud-aiplatform) (3.12.0)\n",
            "Requirement already satisfied: google-cloud-resource-manager<3.0.0dev,>=1.3.3 in /usr/local/lib/python3.10/dist-packages (from google-cloud-aiplatform) (1.11.0)\n",
            "Requirement already satisfied: shapely<3.0.0dev in /usr/local/lib/python3.10/dist-packages (from google-cloud-aiplatform) (2.0.2)\n",
            "Requirement already satisfied: googleapis-common-protos<2.0.dev0,>=1.56.2 in /usr/local/lib/python3.10/dist-packages (from google-api-core[grpc]!=2.0.*,!=2.1.*,!=2.2.*,!=2.3.*,!=2.4.*,!=2.5.*,!=2.6.*,!=2.7.*,<3.0.0dev,>=1.32.0->google-cloud-aiplatform) (1.62.0)\n",
            "Requirement already satisfied: google-auth<3.0.dev0,>=2.14.1 in /usr/local/lib/python3.10/dist-packages (from google-api-core[grpc]!=2.0.*,!=2.1.*,!=2.2.*,!=2.3.*,!=2.4.*,!=2.5.*,!=2.6.*,!=2.7.*,<3.0.0dev,>=1.32.0->google-cloud-aiplatform) (2.17.3)\n",
            "Requirement already satisfied: requests<3.0.0.dev0,>=2.18.0 in /usr/local/lib/python3.10/dist-packages (from google-api-core[grpc]!=2.0.*,!=2.1.*,!=2.2.*,!=2.3.*,!=2.4.*,!=2.5.*,!=2.6.*,!=2.7.*,<3.0.0dev,>=1.32.0->google-cloud-aiplatform) (2.31.0)\n",
            "Requirement already satisfied: grpcio<2.0dev,>=1.33.2 in /usr/local/lib/python3.10/dist-packages (from google-api-core[grpc]!=2.0.*,!=2.1.*,!=2.2.*,!=2.3.*,!=2.4.*,!=2.5.*,!=2.6.*,!=2.7.*,<3.0.0dev,>=1.32.0->google-cloud-aiplatform) (1.60.0)\n",
            "Requirement already satisfied: grpcio-status<2.0.dev0,>=1.33.2 in /usr/local/lib/python3.10/dist-packages (from google-api-core[grpc]!=2.0.*,!=2.1.*,!=2.2.*,!=2.3.*,!=2.4.*,!=2.5.*,!=2.6.*,!=2.7.*,<3.0.0dev,>=1.32.0->google-cloud-aiplatform) (1.48.2)\n",
            "Requirement already satisfied: google-cloud-core<3.0.0dev,>=1.6.0 in /usr/local/lib/python3.10/dist-packages (from google-cloud-bigquery<4.0.0dev,>=1.15.0->google-cloud-aiplatform) (2.3.3)\n",
            "Requirement already satisfied: google-resumable-media<3.0dev,>=0.6.0 in /usr/local/lib/python3.10/dist-packages (from google-cloud-bigquery<4.0.0dev,>=1.15.0->google-cloud-aiplatform) (2.7.0)\n",
            "Requirement already satisfied: python-dateutil<3.0dev,>=2.7.2 in /usr/local/lib/python3.10/dist-packages (from google-cloud-bigquery<4.0.0dev,>=1.15.0->google-cloud-aiplatform) (2.8.2)\n",
            "Requirement already satisfied: grpc-google-iam-v1<1.0.0dev,>=0.12.4 in /usr/local/lib/python3.10/dist-packages (from google-cloud-resource-manager<3.0.0dev,>=1.3.3->google-cloud-aiplatform) (0.13.0)\n",
            "Requirement already satisfied: numpy>=1.14 in /usr/local/lib/python3.10/dist-packages (from shapely<3.0.0dev->google-cloud-aiplatform) (1.23.5)\n",
            "Requirement already satisfied: cachetools<6.0,>=2.0.0 in /usr/local/lib/python3.10/dist-packages (from google-auth<3.0.dev0,>=2.14.1->google-api-core[grpc]!=2.0.*,!=2.1.*,!=2.2.*,!=2.3.*,!=2.4.*,!=2.5.*,!=2.6.*,!=2.7.*,<3.0.0dev,>=1.32.0->google-cloud-aiplatform) (5.3.2)\n",
            "Requirement already satisfied: pyasn1-modules>=0.2.1 in /usr/local/lib/python3.10/dist-packages (from google-auth<3.0.dev0,>=2.14.1->google-api-core[grpc]!=2.0.*,!=2.1.*,!=2.2.*,!=2.3.*,!=2.4.*,!=2.5.*,!=2.6.*,!=2.7.*,<3.0.0dev,>=1.32.0->google-cloud-aiplatform) (0.3.0)\n",
            "Requirement already satisfied: six>=1.9.0 in /usr/local/lib/python3.10/dist-packages (from google-auth<3.0.dev0,>=2.14.1->google-api-core[grpc]!=2.0.*,!=2.1.*,!=2.2.*,!=2.3.*,!=2.4.*,!=2.5.*,!=2.6.*,!=2.7.*,<3.0.0dev,>=1.32.0->google-cloud-aiplatform) (1.16.0)\n",
            "Requirement already satisfied: rsa<5,>=3.1.4 in /usr/local/lib/python3.10/dist-packages (from google-auth<3.0.dev0,>=2.14.1->google-api-core[grpc]!=2.0.*,!=2.1.*,!=2.2.*,!=2.3.*,!=2.4.*,!=2.5.*,!=2.6.*,!=2.7.*,<3.0.0dev,>=1.32.0->google-cloud-aiplatform) (4.9)\n",
            "Requirement already satisfied: google-crc32c<2.0dev,>=1.0 in /usr/local/lib/python3.10/dist-packages (from google-resumable-media<3.0dev,>=0.6.0->google-cloud-bigquery<4.0.0dev,>=1.15.0->google-cloud-aiplatform) (1.5.0)\n",
            "Requirement already satisfied: charset-normalizer<4,>=2 in /usr/local/lib/python3.10/dist-packages (from requests<3.0.0.dev0,>=2.18.0->google-api-core[grpc]!=2.0.*,!=2.1.*,!=2.2.*,!=2.3.*,!=2.4.*,!=2.5.*,!=2.6.*,!=2.7.*,<3.0.0dev,>=1.32.0->google-cloud-aiplatform) (3.3.2)\n",
            "Requirement already satisfied: idna<4,>=2.5 in /usr/local/lib/python3.10/dist-packages (from requests<3.0.0.dev0,>=2.18.0->google-api-core[grpc]!=2.0.*,!=2.1.*,!=2.2.*,!=2.3.*,!=2.4.*,!=2.5.*,!=2.6.*,!=2.7.*,<3.0.0dev,>=1.32.0->google-cloud-aiplatform) (3.6)\n",
            "Requirement already satisfied: urllib3<3,>=1.21.1 in /usr/local/lib/python3.10/dist-packages (from requests<3.0.0.dev0,>=2.18.0->google-api-core[grpc]!=2.0.*,!=2.1.*,!=2.2.*,!=2.3.*,!=2.4.*,!=2.5.*,!=2.6.*,!=2.7.*,<3.0.0dev,>=1.32.0->google-cloud-aiplatform) (2.0.7)\n",
            "Requirement already satisfied: certifi>=2017.4.17 in /usr/local/lib/python3.10/dist-packages (from requests<3.0.0.dev0,>=2.18.0->google-api-core[grpc]!=2.0.*,!=2.1.*,!=2.2.*,!=2.3.*,!=2.4.*,!=2.5.*,!=2.6.*,!=2.7.*,<3.0.0dev,>=1.32.0->google-cloud-aiplatform) (2023.11.17)\n",
            "Requirement already satisfied: pyasn1<0.6.0,>=0.4.6 in /usr/local/lib/python3.10/dist-packages (from pyasn1-modules>=0.2.1->google-auth<3.0.dev0,>=2.14.1->google-api-core[grpc]!=2.0.*,!=2.1.*,!=2.2.*,!=2.3.*,!=2.4.*,!=2.5.*,!=2.6.*,!=2.7.*,<3.0.0dev,>=1.32.0->google-cloud-aiplatform) (0.5.1)\n",
            "Collecting langchain\n",
            "  Downloading langchain-0.0.352-py3-none-any.whl (794 kB)\n",
            "\u001b[2K     \u001b[90m━━━━━━━━━━━━━━━━━━━━━━━━━━━━━━━━━━━━━━━━\u001b[0m \u001b[32m794.4/794.4 kB\u001b[0m \u001b[31m4.4 MB/s\u001b[0m eta \u001b[36m0:00:00\u001b[0m\n",
            "\u001b[?25hRequirement already satisfied: PyYAML>=5.3 in /usr/local/lib/python3.10/dist-packages (from langchain) (6.0.1)\n",
            "Requirement already satisfied: SQLAlchemy<3,>=1.4 in /usr/local/lib/python3.10/dist-packages (from langchain) (2.0.23)\n",
            "Requirement already satisfied: aiohttp<4.0.0,>=3.8.3 in /usr/local/lib/python3.10/dist-packages (from langchain) (3.9.1)\n",
            "Requirement already satisfied: async-timeout<5.0.0,>=4.0.0 in /usr/local/lib/python3.10/dist-packages (from langchain) (4.0.3)\n",
            "Collecting dataclasses-json<0.7,>=0.5.7 (from langchain)\n",
            "  Downloading dataclasses_json-0.6.3-py3-none-any.whl (28 kB)\n",
            "Collecting jsonpatch<2.0,>=1.33 (from langchain)\n",
            "  Downloading jsonpatch-1.33-py2.py3-none-any.whl (12 kB)\n",
            "Collecting langchain-community<0.1,>=0.0.2 (from langchain)\n",
            "  Downloading langchain_community-0.0.5-py3-none-any.whl (1.5 MB)\n",
            "\u001b[2K     \u001b[90m━━━━━━━━━━━━━━━━━━━━━━━━━━━━━━━━━━━━━━━━\u001b[0m \u001b[32m1.5/1.5 MB\u001b[0m \u001b[31m22.7 MB/s\u001b[0m eta \u001b[36m0:00:00\u001b[0m\n",
            "\u001b[?25hCollecting langchain-core<0.2,>=0.1 (from langchain)\n",
            "  Downloading langchain_core-0.1.2-py3-none-any.whl (191 kB)\n",
            "\u001b[2K     \u001b[90m━━━━━━━━━━━━━━━━━━━━━━━━━━━━━━━━━━━━━━━━\u001b[0m \u001b[32m191.5/191.5 kB\u001b[0m \u001b[31m18.8 MB/s\u001b[0m eta \u001b[36m0:00:00\u001b[0m\n",
            "\u001b[?25hCollecting langsmith<0.1.0,>=0.0.70 (from langchain)\n",
            "  Downloading langsmith-0.0.73-py3-none-any.whl (46 kB)\n",
            "\u001b[2K     \u001b[90m━━━━━━━━━━━━━━━━━━━━━━━━━━━━━━━━━━━━━━━━\u001b[0m \u001b[32m46.4/46.4 kB\u001b[0m \u001b[31m5.6 MB/s\u001b[0m eta \u001b[36m0:00:00\u001b[0m\n",
            "\u001b[?25hRequirement already satisfied: numpy<2,>=1 in /usr/local/lib/python3.10/dist-packages (from langchain) (1.23.5)\n",
            "Requirement already satisfied: pydantic<3,>=1 in /usr/local/lib/python3.10/dist-packages (from langchain) (1.10.13)\n",
            "Requirement already satisfied: requests<3,>=2 in /usr/local/lib/python3.10/dist-packages (from langchain) (2.31.0)\n",
            "Requirement already satisfied: tenacity<9.0.0,>=8.1.0 in /usr/local/lib/python3.10/dist-packages (from langchain) (8.2.3)\n",
            "Requirement already satisfied: attrs>=17.3.0 in /usr/local/lib/python3.10/dist-packages (from aiohttp<4.0.0,>=3.8.3->langchain) (23.1.0)\n",
            "Requirement already satisfied: multidict<7.0,>=4.5 in /usr/local/lib/python3.10/dist-packages (from aiohttp<4.0.0,>=3.8.3->langchain) (6.0.4)\n",
            "Requirement already satisfied: yarl<2.0,>=1.0 in /usr/local/lib/python3.10/dist-packages (from aiohttp<4.0.0,>=3.8.3->langchain) (1.9.4)\n",
            "Requirement already satisfied: frozenlist>=1.1.1 in /usr/local/lib/python3.10/dist-packages (from aiohttp<4.0.0,>=3.8.3->langchain) (1.4.1)\n",
            "Requirement already satisfied: aiosignal>=1.1.2 in /usr/local/lib/python3.10/dist-packages (from aiohttp<4.0.0,>=3.8.3->langchain) (1.3.1)\n",
            "Collecting marshmallow<4.0.0,>=3.18.0 (from dataclasses-json<0.7,>=0.5.7->langchain)\n",
            "  Downloading marshmallow-3.20.1-py3-none-any.whl (49 kB)\n",
            "\u001b[2K     \u001b[90m━━━━━━━━━━━━━━━━━━━━━━━━━━━━━━━━━━━━━━━━\u001b[0m \u001b[32m49.4/49.4 kB\u001b[0m \u001b[31m5.7 MB/s\u001b[0m eta \u001b[36m0:00:00\u001b[0m\n",
            "\u001b[?25hCollecting typing-inspect<1,>=0.4.0 (from dataclasses-json<0.7,>=0.5.7->langchain)\n",
            "  Downloading typing_inspect-0.9.0-py3-none-any.whl (8.8 kB)\n",
            "Collecting jsonpointer>=1.9 (from jsonpatch<2.0,>=1.33->langchain)\n",
            "  Downloading jsonpointer-2.4-py2.py3-none-any.whl (7.8 kB)\n",
            "Requirement already satisfied: anyio<5,>=3 in /usr/local/lib/python3.10/dist-packages (from langchain-core<0.2,>=0.1->langchain) (3.7.1)\n",
            "Requirement already satisfied: packaging<24.0,>=23.2 in /usr/local/lib/python3.10/dist-packages (from langchain-core<0.2,>=0.1->langchain) (23.2)\n",
            "Requirement already satisfied: typing-extensions>=4.2.0 in /usr/local/lib/python3.10/dist-packages (from pydantic<3,>=1->langchain) (4.5.0)\n",
            "Requirement already satisfied: charset-normalizer<4,>=2 in /usr/local/lib/python3.10/dist-packages (from requests<3,>=2->langchain) (3.3.2)\n",
            "Requirement already satisfied: idna<4,>=2.5 in /usr/local/lib/python3.10/dist-packages (from requests<3,>=2->langchain) (3.6)\n",
            "Requirement already satisfied: urllib3<3,>=1.21.1 in /usr/local/lib/python3.10/dist-packages (from requests<3,>=2->langchain) (2.0.7)\n",
            "Requirement already satisfied: certifi>=2017.4.17 in /usr/local/lib/python3.10/dist-packages (from requests<3,>=2->langchain) (2023.11.17)\n",
            "Requirement already satisfied: greenlet!=0.4.17 in /usr/local/lib/python3.10/dist-packages (from SQLAlchemy<3,>=1.4->langchain) (3.0.2)\n",
            "Requirement already satisfied: sniffio>=1.1 in /usr/local/lib/python3.10/dist-packages (from anyio<5,>=3->langchain-core<0.2,>=0.1->langchain) (1.3.0)\n",
            "Requirement already satisfied: exceptiongroup in /usr/local/lib/python3.10/dist-packages (from anyio<5,>=3->langchain-core<0.2,>=0.1->langchain) (1.2.0)\n",
            "Collecting mypy-extensions>=0.3.0 (from typing-inspect<1,>=0.4.0->dataclasses-json<0.7,>=0.5.7->langchain)\n",
            "  Downloading mypy_extensions-1.0.0-py3-none-any.whl (4.7 kB)\n",
            "Installing collected packages: mypy-extensions, marshmallow, jsonpointer, typing-inspect, langsmith, jsonpatch, langchain-core, dataclasses-json, langchain-community, langchain\n",
            "Successfully installed dataclasses-json-0.6.3 jsonpatch-1.33 jsonpointer-2.4 langchain-0.0.352 langchain-community-0.0.5 langchain-core-0.1.2 langsmith-0.0.73 marshmallow-3.20.1 mypy-extensions-1.0.0 typing-inspect-0.9.0\n"
          ]
        }
      ]
    },
    {
      "cell_type": "code",
      "source": [
        "import vertexai\n",
        "from IPython.display import Markdown\n",
        "from vertexai.preview.generative_models import GenerativeModel, ChatSession\n",
        "vertexai.init(project=PROJECT_ID, location=LOCATION)"
      ],
      "metadata": {
        "id": "SvQqLkx9_C7-"
      },
      "execution_count": 12,
      "outputs": []
    },
    {
      "cell_type": "code",
      "source": [
        "from langchain.chat_models import ChatVertexAI\n",
        "from langchain.prompts import ChatPromptTemplate"
      ],
      "metadata": {
        "id": "0i2Gp8uw-fJc"
      },
      "execution_count": 6,
      "outputs": []
    },
    {
      "cell_type": "code",
      "source": [
        "text_to_summarize = ''\n",
        "url = 'https://www.yelp.com/search?cflt=seafood&find_loc=Mountain+View%2C+CA+94043'\n",
        "response = await do_webscraping(url)\n",
        "if response != None:\n",
        "  text_to_summarize = response['summary']\n",
        "text_to_summarize"
      ],
      "metadata": {
        "colab": {
          "base_uri": "https://localhost:8080/",
          "height": 145
        },
        "id": "jU6MAiAr_ihc",
        "outputId": "691f956d-2933-4d01-9c53-9ddedef72b41"
      },
      "execution_count": 47,
      "outputs": [
        {
          "output_type": "stream",
          "name": "stderr",
          "text": [
            "Fetching pages: 100%|##########| 1/1 [00:01<00:00,  1.42s/it]\n"
          ]
        },
        {
          "output_type": "execute_result",
          "data": {
            "text/plain": [
              "'Yelp\\n\\nYelp for Business\\n\\nWrite a Review\\n\\nLog InSign Up\\n\\nRestaurants\\n\\nDelivery\\n\\nBurgers\\n\\nChinese\\n\\nItalian\\n\\nReservations\\n\\nJapanese\\n\\nMexican\\n\\nThai\\n\\nHome Services\\n\\nContractors\\n\\nElectricians\\n\\nHome Cleaners\\n\\nHVAC\\n\\nLandscaping\\n\\nLocksmiths\\n\\nMovers\\n\\nPlumbers\\n\\nAuto Services\\n\\nAuto Repair\\n\\nAuto Detailing\\n\\nBody Shops\\n\\nCar Wash\\n\\nCar Dealers\\n\\nOil Change\\n\\nParking\\n\\nTowing\\n\\nMore\\n\\nDry Cleaning\\n\\nPhone Repair\\n\\nBars\\n\\nNightlife\\n\\nHair Salons\\n\\nGyms\\n\\nMassage\\n\\nShopping\\n\\nMore\\n\\nFilters\\n\\n$$$$$$$$$$\\n\\nSuggested\\n\\nOpen Now\\n\\n\\\\--:--\\n\\nOffers Delivery\\n\\nReservations\\n\\nFree Wi-Fi\\n\\nOutdoor Seating\\n\\nDogs Allowed\\n\\nFeatures\\n\\nOffers Takeout\\n\\nGood for Groups\\n\\nGood for Dinner\\n\\nGood for Kids\\n\\nSee all\\n\\nDistance\\n\\nBird\\'s-eye View\\n\\nDriving (5 mi.)\\n\\nBiking (2 mi.)\\n\\nWalking (1 mi.)\\n\\nWithin 4 blocks\\n\\nYelpRestaurantsSeafood\\n\\n# The Best 10 Seafood Restaurants near Mountain View, CA 94043\\n\\nSort:Recommended\\n\\nAll\\n\\nPrice\\n\\nOpen NowOffers DeliveryReservationsFree Wi-FiOutdoor SeatingDogs Allowed\\n\\n  *   *   * ### 1. Limón\\n\\n4.0\\n\\n(266 reviews)\\n\\nPeruvianSeafoodCocktail Bars\\n\\nThis is a placeholder\\n\\n“Everything we ate was delicious. Love the menu- tons of mouth-watering\\nseafood and land animal...” more\\n\\n    * Delivery\\n\\nTakeout\\n\\nFind a Table\\n\\n  * ### 2. Pacific Catch\\n\\n3.8\\n\\n(1k reviews)\\n\\nSeafoodTacosSushi Bars$$\\n\\nThis is a placeholder\\n\\nOutdoor seating\\n\\nTakes reservations\\n\\n“Personally, I really enjoyed the poke, the Korean-style seafood pancake\\n(again, better at the...” more\\n\\n    * Delivery\\n\\nTakeout\\n\\nStart Order\\n\\n  * ### 3. The Sea by Alexander’s Steakhouse\\n\\n4.1\\n\\n(1.3k reviews)\\n\\nSeafoodSteakhousesBars$$$$\\n\\nThis is a placeholder\\n\\n“All of the seafood was very fresh, with particularly sweet jumbo shrimp.”\\nmore\\n\\n    * Outdoor seating\\n\\nTakeout\\n\\n  * ### 4. Cap’t Loui\\n\\n4.5\\n\\n(569 reviews)\\n\\nSeafoodFish & ChipsCajun/Creole$$\\n\\nThis is a placeholder\\n\\nFree parking\\n\\nLarge group friendly\\n\\n“If you order a certain amount of pounds of seafood, you can get extra sides\\nfor free.” more\\n\\n    * Outdoor seating\\n\\nDelivery\\n\\nTakeout\\n\\nStart Order\\n\\n  * ### 5. La Marea of the Sea\\n\\n4.7\\n\\n(45 reviews)\\n\\nSeafoodFood Stands$\\n\\nThis is a placeholder\\n\\n“The oysters were pretty fresh. They have great condiments to compliment the\\nseafood.” more\\n\\n    * Delivery\\n\\n  * ### 6. Rustic House Oyster Bar and Grill - Los Altos\\n\\n4.0\\n\\n(642 reviews)\\n\\nSeafoodBarsAmerican$$\\n\\nThis is a placeholder\\n\\n“The seafood was delicious and competently prepared: a generously portioned\\ngrouper special on...” more\\n\\n    * Outdoor seating\\n\\nDelivery\\n\\nTakeout\\n\\nStart Order\\n\\n  * ### 7. King’s Fish House - San Jose\\n\\n4.2\\n\\n(1.9k reviews)\\n\\nSeafood$$$West San Jose\\n\\nThis is a placeholder\\n\\n“The tartare sauce has great balance of spicy and seafood taste to it, I\\nreally like it. 3.)...” more\\n\\n    * Outdoor seating\\n\\nDelivery\\n\\nTakeout\\n\\n  * ### 8. The City Fish\\n\\n4.4\\n\\n(1.1k reviews)\\n\\nSandwichesSeafoodFish & Chips$$\\n\\nThis is a placeholder\\n\\n“The reason why I love them is simple - big portions of quality seafood at a\\nreasonable price.” more\\n\\n    * Outdoor seating\\n\\nDelivery\\n\\nTakeout\\n\\nStart Order\\n\\n  * ### 9. Cook’s Seafood\\n\\n3.9\\n\\n(636 reviews)\\n\\nSeafoodSeafood MarketsFish & Chips$$\\n\\nThis is a placeholder\\n\\n“I decided that I wanted some seafood but I wanted GOOD seafood and not the\\nsame stuff I always have.” more\\n\\n    * Outdoor seating\\n\\nTakeout\\n\\n  * ### 10. Gochi - Mountain View\\n\\n4.1\\n\\n(555 reviews)\\n\\nJapaneseWine BarsSeafood$$$\\n\\nThis is a placeholder\\n\\n    * Waitlist opens at 5:45 pm\\n\\n“Fresh seafood. Highly recommend. Customer service is top notch. Thank you\\nGochi for the great...” more\\n\\n    * Outdoor seating\\n\\nDelivery\\n\\nTakeout\\n\\nFind a Table\\n\\n  * 1\\n\\n2\\n\\n3\\n\\n4\\n\\n5\\n\\n6\\n\\n7\\n\\n8\\n\\n9\\n\\n1 of 22\\n\\n  * ## Can\\'t find the business?\\n\\nAdding a business to Yelp is always free.\\n\\nAdd business\\n\\nGot search feedback? Help us improve.\\n\\n  * ## Related Searches in Mountain View, CA\\n\\nBeef Wellington\\n\\nCioppino\\n\\nCrab\\n\\nDinner Reservations\\n\\nFish Tacos\\n\\nMichelada\\n\\nSeafood Boil\\n\\nSeafood Buffet\\n\\nSteakhouses\\n\\n$1 Oysters\\n\\nCajun\\n\\nCajun Seafood Boil\\n\\nCeviche\\n\\nClam Chowder\\n\\nCrab Legs\\n\\nCrawfish\\n\\nFish\\n\\nFish House\\n\\nLobster Roll\\n\\nMariscos\\n\\nOysters\\n\\nRestaurants With a View\\n\\nSalmon\\n\\nScallops\\n\\nAnniversary Dinner\\n\\nCajun Seafood\\n\\nCalamari\\n\\nCrab Boil\\n\\nCrab Sandwich\\n\\nFish & Chips\\n\\nHip New Restaurants\\n\\nOyster Bars\\n\\nRestaurants With Private Rooms\\n\\nSashimi\\n\\nChain Restaurants\\n\\nCrawfish Boil\\n\\nDungeness Crab\\n\\nFine Dining\\n\\nFish Market\\n\\nGrilled Fish\\n\\nMexican Seafood\\n\\nOyster Happy Hour\\n\\nPrime Rib\\n\\nSoft Shell Crab\\n\\nValentines Day Dinner\\n\\n## Trending Searches in Mountain View, CA\\n\\nAsian Supermarket\\n\\nBuy Fresh Oysters\\n\\nCajun Seafood Boil\\n\\nCandy Stores\\n\\nCatfish\\n\\nCaviar\\n\\nCheese Shops\\n\\nClam Chowder Bread Bowl\\n\\nDim Sum\\n\\nDry Aged Steak\\n\\nFishmonger\\n\\nFruit Cake\\n\\nGourmet Grocery Stores\\n\\nGumbo\\n\\nHot Chocolate\\n\\nItalian Grocery Stores\\n\\nKaraoke\\n\\nLive Lobster\\n\\nPopcorn Shops\\n\\nPotluck Food\\n\\nPozole\\n\\nRestaurants Open on Christmas Day\\n\\nSashimi\\n\\nSeafood Markets\\n\\nSmoked Salmon\\n\\nSpecialty Food\\n\\nSushi Lunch Special\\n\\nSushi Party Tray\\n\\nWagyu Steak\\n\\nYule Log Cake\\n\\n## Related Articles\\n\\nTop Buffets in California\\n\\nTop Cajun/Creole in California\\n\\nTop Dim Sum Restaurants in California\\n\\nTop Fish & Chips in California\\n\\nTop Peruvian Restaurants in California\\n\\nTop Restaurants in California\\n\\nTop Seafood Restaurants in California\\n\\nTop Soul Food Restaurants in California\\n\\nTop Steakhouses in California\\n\\nTop Buffets in the US\\n\\nTop Cajun/Creole in the US\\n\\nTop Dim Sum Restaurants in the US\\n\\nTop Fish & Chips in the US\\n\\nTop Peruvian Restaurants in the US\\n\\nTop Restaurants in the US\\n\\nTop Seafood Restaurants in the US\\n\\nTop Soul Food Restaurants in the US\\n\\nTop Steakhouses in the US\\n\\n  *   * ## Search seafood in popular locations\\n\\n### Nearby cities\\n\\nCampbell, CA\\n\\nCupertino, CA\\n\\nLos Altos, CA\\n\\nLos Gatos, CA\\n\\nMilpitas, CA\\n\\nPalo Alto, CA\\n\\nSan Jose, CA\\n\\nSanta Clara, CA\\n\\nSaratoga, CA\\n\\nSunnyvale, CA\\n\\n### More\\n\\nLos Angeles, CA\\n\\nNapa, CA\\n\\nSacramento, CA\\n\\nSan Diego, CA\\n\\nSan Francisco, CA\\n\\nSan Luis Obispo, CA\\n\\nSanta Barbara, CA\\n\\nSanta Rosa, CA\\n\\nStockton, CA\\n\\n  *   *   *   * ## Frequently Asked Questions and Answers\\n\\nWhat are the best cheap seafood restaurants?\\n\\nThese are the best cheap seafood restaurants near Mountain View, CA:\\n\\n    * The City Fish\\n\\n    * Cap\\'t Loui\\n\\n    * Rustic House Oyster Bar and Grill - Los Altos\\n\\n    * Pacific Catch\\n\\n    * Vaso Azzurro Ristorante\\n\\nPeople also liked: Seafood Takeout Restaurants, Seafood Restaurants Offering\\nReservations\\n\\nWhat did people search for similar to seafood near Mountain View, CA?\\n\\nPeople also searched for these near Mountain View:\\n\\n    * Steak\\n\\n    * Seafood Markets\\n\\n    * Dinner\\n\\n    * Sushi\\n\\n    * Fried Fish\\n\\nSee more seafood near Mountain View.\\n\\nWhat are people saying about seafood restaurants near Mountain View, CA?\\n\\nThis is a review for seafood restaurants near Mountain View, CA:\\n\\n\"La Marea of the Sea brings fresh seafood to ur nearest farmers market if u\\ncan\\'t make it to ur seafood eatery locale: Montclair Farmers Market (9/6/20)\\nofferings: raw oysters, shrimp cocktail, fish ceviche, etc. eats: 3 raw miyagi\\noysters/$7 -big & briney, with dash of lemon & horseradish -haven\\'t had them\\nin about a decade, tasted great. -one can also take them home, in the heat,\\ndoubt it will travel well. notes: -seafood made to order, line can get long as\\nonly 1 amigo worker.....\"\\n\\nSee more reviews for this business.\\n\\nWhat are the best seafood takeout restaurants?\\n\\nThese are the best seafood takeout restaurants near Mountain View, CA:\\n\\n    * The City Fish\\n\\n    * Cap\\'t Loui\\n\\n    * King\\'s Fish House - San Jose\\n\\n    * Rustic House Oyster Bar and Grill - Los Altos\\n\\n    * Pacific Catch\\n\\nPeople also liked: Cheap Seafood Restaurants, Seafood Restaurants Offering\\nReservations\\n\\nWhat are the best seafood restaurants offering reservations?\\n\\nThese are the best seafood restaurants offering reservations near Mountain\\nView, CA:\\n\\n    * King\\'s Fish House - San Jose\\n\\n    * Rustic House Oyster Bar and Grill - Los Altos\\n\\n    * Pacific Catch\\n\\n    * The Sea by Alexander\\'s Steakhouse\\n\\n    * Evvia Estiatorio\\n\\nPeople also liked: Cheap Seafood Restaurants, Seafood Takeout Restaurants\\n\\nAbout\\n\\n  * About Yelp\\n  * Careers\\n  * Press\\n  * Investor Relations\\n  * Trust & Safety\\n  * Content Guidelines\\n  * Accessibility Statement\\n  * Terms of Service\\n  * Privacy Policy\\n  * Ad Choices\\n  * Your Privacy Choices\\n\\nDiscover\\n\\n  * Yelp Project Cost Guides\\n  * Collections\\n  * Talk\\n  * Events\\n  * Yelp Blog\\n  * Support\\n  * Yelp Mobile\\n  * Developers\\n  * RSS\\n\\nYelp for Business\\n\\n  * Yelp for Business\\n  * Business Owner Login\\n  * Claim your Business Page\\n  * Advertise on Yelp\\n  * Yelp for Restaurant Owners\\n  * Table Management\\n  * Business Success Stories\\n  * Business Support\\n  * Yelp Blog for Business\\n\\nLanguages\\n\\nEnglish\\n\\nCountries\\n\\nUnited States\\n\\n  * About\\n\\n  * Blog\\n\\n  * Support\\n\\n  * Terms\\n\\n  * Privacy Policy\\n\\n  * Your Privacy Choices\\n\\nCopyright © 2004–2023 Yelp Inc. Yelp, ,  and related marks are registered\\ntrademarks of Yelp.\\n\\nSome Data By Acxiom\\n\\n'"
            ],
            "application/vnd.google.colaboratory.intrinsic+json": {
              "type": "string"
            }
          },
          "metadata": {},
          "execution_count": 47
        }
      ]
    },
    {
      "cell_type": "code",
      "source": [
        "text_to_summarize"
      ],
      "metadata": {
        "colab": {
          "base_uri": "https://localhost:8080/",
          "height": 127
        },
        "id": "T0Aghl0dAuyW",
        "outputId": "509392b6-3a76-459c-f724-7ae35cbc96c7"
      },
      "execution_count": 48,
      "outputs": [
        {
          "output_type": "execute_result",
          "data": {
            "text/plain": [
              "'Yelp\\n\\nYelp for Business\\n\\nWrite a Review\\n\\nLog InSign Up\\n\\nRestaurants\\n\\nDelivery\\n\\nBurgers\\n\\nChinese\\n\\nItalian\\n\\nReservations\\n\\nJapanese\\n\\nMexican\\n\\nThai\\n\\nHome Services\\n\\nContractors\\n\\nElectricians\\n\\nHome Cleaners\\n\\nHVAC\\n\\nLandscaping\\n\\nLocksmiths\\n\\nMovers\\n\\nPlumbers\\n\\nAuto Services\\n\\nAuto Repair\\n\\nAuto Detailing\\n\\nBody Shops\\n\\nCar Wash\\n\\nCar Dealers\\n\\nOil Change\\n\\nParking\\n\\nTowing\\n\\nMore\\n\\nDry Cleaning\\n\\nPhone Repair\\n\\nBars\\n\\nNightlife\\n\\nHair Salons\\n\\nGyms\\n\\nMassage\\n\\nShopping\\n\\nMore\\n\\nFilters\\n\\n$$$$$$$$$$\\n\\nSuggested\\n\\nOpen Now\\n\\n\\\\--:--\\n\\nOffers Delivery\\n\\nReservations\\n\\nFree Wi-Fi\\n\\nOutdoor Seating\\n\\nDogs Allowed\\n\\nFeatures\\n\\nOffers Takeout\\n\\nGood for Groups\\n\\nGood for Dinner\\n\\nGood for Kids\\n\\nSee all\\n\\nDistance\\n\\nBird\\'s-eye View\\n\\nDriving (5 mi.)\\n\\nBiking (2 mi.)\\n\\nWalking (1 mi.)\\n\\nWithin 4 blocks\\n\\nYelpRestaurantsSeafood\\n\\n# The Best 10 Seafood Restaurants near Mountain View, CA 94043\\n\\nSort:Recommended\\n\\nAll\\n\\nPrice\\n\\nOpen NowOffers DeliveryReservationsFree Wi-FiOutdoor SeatingDogs Allowed\\n\\n  *   *   * ### 1. Limón\\n\\n4.0\\n\\n(266 reviews)\\n\\nPeruvianSeafoodCocktail Bars\\n\\nThis is a placeholder\\n\\n“Everything we ate was delicious. Love the menu- tons of mouth-watering\\nseafood and land animal...” more\\n\\n    * Delivery\\n\\nTakeout\\n\\nFind a Table\\n\\n  * ### 2. Pacific Catch\\n\\n3.8\\n\\n(1k reviews)\\n\\nSeafoodTacosSushi Bars$$\\n\\nThis is a placeholder\\n\\nOutdoor seating\\n\\nTakes reservations\\n\\n“Personally, I really enjoyed the poke, the Korean-style seafood pancake\\n(again, better at the...” more\\n\\n    * Delivery\\n\\nTakeout\\n\\nStart Order\\n\\n  * ### 3. The Sea by Alexander’s Steakhouse\\n\\n4.1\\n\\n(1.3k reviews)\\n\\nSeafoodSteakhousesBars$$$$\\n\\nThis is a placeholder\\n\\n“All of the seafood was very fresh, with particularly sweet jumbo shrimp.”\\nmore\\n\\n    * Outdoor seating\\n\\nTakeout\\n\\n  * ### 4. Cap’t Loui\\n\\n4.5\\n\\n(569 reviews)\\n\\nSeafoodFish & ChipsCajun/Creole$$\\n\\nThis is a placeholder\\n\\nFree parking\\n\\nLarge group friendly\\n\\n“If you order a certain amount of pounds of seafood, you can get extra sides\\nfor free.” more\\n\\n    * Outdoor seating\\n\\nDelivery\\n\\nTakeout\\n\\nStart Order\\n\\n  * ### 5. La Marea of the Sea\\n\\n4.7\\n\\n(45 reviews)\\n\\nSeafoodFood Stands$\\n\\nThis is a placeholder\\n\\n“The oysters were pretty fresh. They have great condiments to compliment the\\nseafood.” more\\n\\n    * Delivery\\n\\n  * ### 6. Rustic House Oyster Bar and Grill - Los Altos\\n\\n4.0\\n\\n(642 reviews)\\n\\nSeafoodBarsAmerican$$\\n\\nThis is a placeholder\\n\\n“The seafood was delicious and competently prepared: a generously portioned\\ngrouper special on...” more\\n\\n    * Outdoor seating\\n\\nDelivery\\n\\nTakeout\\n\\nStart Order\\n\\n  * ### 7. King’s Fish House - San Jose\\n\\n4.2\\n\\n(1.9k reviews)\\n\\nSeafood$$$West San Jose\\n\\nThis is a placeholder\\n\\n“The tartare sauce has great balance of spicy and seafood taste to it, I\\nreally like it. 3.)...” more\\n\\n    * Outdoor seating\\n\\nDelivery\\n\\nTakeout\\n\\n  * ### 8. The City Fish\\n\\n4.4\\n\\n(1.1k reviews)\\n\\nSandwichesSeafoodFish & Chips$$\\n\\nThis is a placeholder\\n\\n“The reason why I love them is simple - big portions of quality seafood at a\\nreasonable price.” more\\n\\n    * Outdoor seating\\n\\nDelivery\\n\\nTakeout\\n\\nStart Order\\n\\n  * ### 9. Cook’s Seafood\\n\\n3.9\\n\\n(636 reviews)\\n\\nSeafoodSeafood MarketsFish & Chips$$\\n\\nThis is a placeholder\\n\\n“I decided that I wanted some seafood but I wanted GOOD seafood and not the\\nsame stuff I always have.” more\\n\\n    * Outdoor seating\\n\\nTakeout\\n\\n  * ### 10. Gochi - Mountain View\\n\\n4.1\\n\\n(555 reviews)\\n\\nJapaneseWine BarsSeafood$$$\\n\\nThis is a placeholder\\n\\n    * Waitlist opens at 5:45 pm\\n\\n“Fresh seafood. Highly recommend. Customer service is top notch. Thank you\\nGochi for the great...” more\\n\\n    * Outdoor seating\\n\\nDelivery\\n\\nTakeout\\n\\nFind a Table\\n\\n  * 1\\n\\n2\\n\\n3\\n\\n4\\n\\n5\\n\\n6\\n\\n7\\n\\n8\\n\\n9\\n\\n1 of 22\\n\\n  * ## Can\\'t find the business?\\n\\nAdding a business to Yelp is always free.\\n\\nAdd business\\n\\nGot search feedback? Help us improve.\\n\\n  * ## Related Searches in Mountain View, CA\\n\\nBeef Wellington\\n\\nCioppino\\n\\nCrab\\n\\nDinner Reservations\\n\\nFish Tacos\\n\\nMichelada\\n\\nSeafood Boil\\n\\nSeafood Buffet\\n\\nSteakhouses\\n\\n$1 Oysters\\n\\nCajun\\n\\nCajun Seafood Boil\\n\\nCeviche\\n\\nClam Chowder\\n\\nCrab Legs\\n\\nCrawfish\\n\\nFish\\n\\nFish House\\n\\nLobster Roll\\n\\nMariscos\\n\\nOysters\\n\\nRestaurants With a View\\n\\nSalmon\\n\\nScallops\\n\\nAnniversary Dinner\\n\\nCajun Seafood\\n\\nCalamari\\n\\nCrab Boil\\n\\nCrab Sandwich\\n\\nFish & Chips\\n\\nHip New Restaurants\\n\\nOyster Bars\\n\\nRestaurants With Private Rooms\\n\\nSashimi\\n\\nChain Restaurants\\n\\nCrawfish Boil\\n\\nDungeness Crab\\n\\nFine Dining\\n\\nFish Market\\n\\nGrilled Fish\\n\\nMexican Seafood\\n\\nOyster Happy Hour\\n\\nPrime Rib\\n\\nSoft Shell Crab\\n\\nValentines Day Dinner\\n\\n## Trending Searches in Mountain View, CA\\n\\nAsian Supermarket\\n\\nBuy Fresh Oysters\\n\\nCajun Seafood Boil\\n\\nCandy Stores\\n\\nCatfish\\n\\nCaviar\\n\\nCheese Shops\\n\\nClam Chowder Bread Bowl\\n\\nDim Sum\\n\\nDry Aged Steak\\n\\nFishmonger\\n\\nFruit Cake\\n\\nGourmet Grocery Stores\\n\\nGumbo\\n\\nHot Chocolate\\n\\nItalian Grocery Stores\\n\\nKaraoke\\n\\nLive Lobster\\n\\nPopcorn Shops\\n\\nPotluck Food\\n\\nPozole\\n\\nRestaurants Open on Christmas Day\\n\\nSashimi\\n\\nSeafood Markets\\n\\nSmoked Salmon\\n\\nSpecialty Food\\n\\nSushi Lunch Special\\n\\nSushi Party Tray\\n\\nWagyu Steak\\n\\nYule Log Cake\\n\\n## Related Articles\\n\\nTop Buffets in California\\n\\nTop Cajun/Creole in California\\n\\nTop Dim Sum Restaurants in California\\n\\nTop Fish & Chips in California\\n\\nTop Peruvian Restaurants in California\\n\\nTop Restaurants in California\\n\\nTop Seafood Restaurants in California\\n\\nTop Soul Food Restaurants in California\\n\\nTop Steakhouses in California\\n\\nTop Buffets in the US\\n\\nTop Cajun/Creole in the US\\n\\nTop Dim Sum Restaurants in the US\\n\\nTop Fish & Chips in the US\\n\\nTop Peruvian Restaurants in the US\\n\\nTop Restaurants in the US\\n\\nTop Seafood Restaurants in the US\\n\\nTop Soul Food Restaurants in the US\\n\\nTop Steakhouses in the US\\n\\n  *   * ## Search seafood in popular locations\\n\\n### Nearby cities\\n\\nCampbell, CA\\n\\nCupertino, CA\\n\\nLos Altos, CA\\n\\nLos Gatos, CA\\n\\nMilpitas, CA\\n\\nPalo Alto, CA\\n\\nSan Jose, CA\\n\\nSanta Clara, CA\\n\\nSaratoga, CA\\n\\nSunnyvale, CA\\n\\n### More\\n\\nLos Angeles, CA\\n\\nNapa, CA\\n\\nSacramento, CA\\n\\nSan Diego, CA\\n\\nSan Francisco, CA\\n\\nSan Luis Obispo, CA\\n\\nSanta Barbara, CA\\n\\nSanta Rosa, CA\\n\\nStockton, CA\\n\\n  *   *   *   * ## Frequently Asked Questions and Answers\\n\\nWhat are the best cheap seafood restaurants?\\n\\nThese are the best cheap seafood restaurants near Mountain View, CA:\\n\\n    * The City Fish\\n\\n    * Cap\\'t Loui\\n\\n    * Rustic House Oyster Bar and Grill - Los Altos\\n\\n    * Pacific Catch\\n\\n    * Vaso Azzurro Ristorante\\n\\nPeople also liked: Seafood Takeout Restaurants, Seafood Restaurants Offering\\nReservations\\n\\nWhat did people search for similar to seafood near Mountain View, CA?\\n\\nPeople also searched for these near Mountain View:\\n\\n    * Steak\\n\\n    * Seafood Markets\\n\\n    * Dinner\\n\\n    * Sushi\\n\\n    * Fried Fish\\n\\nSee more seafood near Mountain View.\\n\\nWhat are people saying about seafood restaurants near Mountain View, CA?\\n\\nThis is a review for seafood restaurants near Mountain View, CA:\\n\\n\"La Marea of the Sea brings fresh seafood to ur nearest farmers market if u\\ncan\\'t make it to ur seafood eatery locale: Montclair Farmers Market (9/6/20)\\nofferings: raw oysters, shrimp cocktail, fish ceviche, etc. eats: 3 raw miyagi\\noysters/$7 -big & briney, with dash of lemon & horseradish -haven\\'t had them\\nin about a decade, tasted great. -one can also take them home, in the heat,\\ndoubt it will travel well. notes: -seafood made to order, line can get long as\\nonly 1 amigo worker.....\"\\n\\nSee more reviews for this business.\\n\\nWhat are the best seafood takeout restaurants?\\n\\nThese are the best seafood takeout restaurants near Mountain View, CA:\\n\\n    * The City Fish\\n\\n    * Cap\\'t Loui\\n\\n    * King\\'s Fish House - San Jose\\n\\n    * Rustic House Oyster Bar and Grill - Los Altos\\n\\n    * Pacific Catch\\n\\nPeople also liked: Cheap Seafood Restaurants, Seafood Restaurants Offering\\nReservations\\n\\nWhat are the best seafood restaurants offering reservations?\\n\\nThese are the best seafood restaurants offering reservations near Mountain\\nView, CA:\\n\\n    * King\\'s Fish House - San Jose\\n\\n    * Rustic House Oyster Bar and Grill - Los Altos\\n\\n    * Pacific Catch\\n\\n    * The Sea by Alexander\\'s Steakhouse\\n\\n    * Evvia Estiatorio\\n\\nPeople also liked: Cheap Seafood Restaurants, Seafood Takeout Restaurants\\n\\nAbout\\n\\n  * About Yelp\\n  * Careers\\n  * Press\\n  * Investor Relations\\n  * Trust & Safety\\n  * Content Guidelines\\n  * Accessibility Statement\\n  * Terms of Service\\n  * Privacy Policy\\n  * Ad Choices\\n  * Your Privacy Choices\\n\\nDiscover\\n\\n  * Yelp Project Cost Guides\\n  * Collections\\n  * Talk\\n  * Events\\n  * Yelp Blog\\n  * Support\\n  * Yelp Mobile\\n  * Developers\\n  * RSS\\n\\nYelp for Business\\n\\n  * Yelp for Business\\n  * Business Owner Login\\n  * Claim your Business Page\\n  * Advertise on Yelp\\n  * Yelp for Restaurant Owners\\n  * Table Management\\n  * Business Success Stories\\n  * Business Support\\n  * Yelp Blog for Business\\n\\nLanguages\\n\\nEnglish\\n\\nCountries\\n\\nUnited States\\n\\n  * About\\n\\n  * Blog\\n\\n  * Support\\n\\n  * Terms\\n\\n  * Privacy Policy\\n\\n  * Your Privacy Choices\\n\\nCopyright © 2004–2023 Yelp Inc. Yelp, ,  and related marks are registered\\ntrademarks of Yelp.\\n\\nSome Data By Acxiom\\n\\n'"
            ],
            "application/vnd.google.colaboratory.intrinsic+json": {
              "type": "string"
            }
          },
          "metadata": {},
          "execution_count": 48
        }
      ]
    },
    {
      "cell_type": "code",
      "source": [
        "system = \"You are a helpful assistant\"\n",
        "human = f\"\"\"You are an expert summary generator. Please generate the summary for the below content.\n",
        "          Here's the content:\n",
        "          {text_to_summarize}\n",
        "           \"\"\""
      ],
      "metadata": {
        "id": "0o6ZF5qi_QpP"
      },
      "execution_count": 61,
      "outputs": []
    },
    {
      "cell_type": "code",
      "source": [
        "human"
      ],
      "metadata": {
        "colab": {
          "base_uri": "https://localhost:8080/",
          "height": 127
        },
        "id": "DK7qmtY-CKqE",
        "outputId": "58633584-2544-44ad-ff18-65df9bae9ff4"
      },
      "execution_count": 57,
      "outputs": [
        {
          "output_type": "execute_result",
          "data": {
            "text/plain": [
              "'You are an expert summary generator. Please follow the below rules for the summary generation.\\n          \\n            You are an expert summary generator. Generate a clean and consise summary in less than 100 lines.\\n\\n            Prompt 1: Identify key sections in the text for summary generation\\n            Prompt 2: Extract key information from the introduction section\\n            Prompt 3: Parse out the main objective or purpose of the text\\n            Prompt 4: Identify any key findings or conclusions discussed in the text\\n            Prompt 5: Summarize the main arguments or points presented in the text\\n            Prompt 6: Summarize the overall tone or attitude of the text\\n\\n            Output the summary as per the below schema.\\n            {\\n              \"summary\": \"\",\\n              \"highlights\": []\\n              \"keywords\": []\\n            }\\n\\n        \\n          Here\\'s the content:\\n          Yelp\\n\\nYelp for Business\\n\\nWrite a Review\\n\\nLog InSign Up\\n\\nRestaurants\\n\\nDelivery\\n\\nBurgers\\n\\nChinese\\n\\nItalian\\n\\nReservations\\n\\nJapanese\\n\\nMexican\\n\\nThai\\n\\nHome Services\\n\\nContractors\\n\\nElectricians\\n\\nHome Cleaners\\n\\nHVAC\\n\\nLandscaping\\n\\nLocksmiths\\n\\nMovers\\n\\nPlumbers\\n\\nAuto Services\\n\\nAuto Repair\\n\\nAuto Detailing\\n\\nBody Shops\\n\\nCar Wash\\n\\nCar Dealers\\n\\nOil Change\\n\\nParking\\n\\nTowing\\n\\nMore\\n\\nDry Cleaning\\n\\nPhone Repair\\n\\nBars\\n\\nNightlife\\n\\nHair Salons\\n\\nGyms\\n\\nMassage\\n\\nShopping\\n\\nMore\\n\\nFilters\\n\\n$$$$$$$$$$\\n\\nSuggested\\n\\nOpen Now\\n\\n\\\\--:--\\n\\nOffers Delivery\\n\\nReservations\\n\\nFree Wi-Fi\\n\\nOutdoor Seating\\n\\nDogs Allowed\\n\\nFeatures\\n\\nOffers Takeout\\n\\nGood for Groups\\n\\nGood for Dinner\\n\\nGood for Kids\\n\\nSee all\\n\\nDistance\\n\\nBird\\'s-eye View\\n\\nDriving (5 mi.)\\n\\nBiking (2 mi.)\\n\\nWalking (1 mi.)\\n\\nWithin 4 blocks\\n\\nYelpRestaurantsSeafood\\n\\n# The Best 10 Seafood Restaurants near Mountain View, CA 94043\\n\\nSort:Recommended\\n\\nAll\\n\\nPrice\\n\\nOpen NowOffers DeliveryReservationsFree Wi-FiOutdoor SeatingDogs Allowed\\n\\n  *   *   * ### 1. Limón\\n\\n4.0 (266 reviews)\\n\\nPeruvianSeafoodCocktail Bars\\n\\nThis is a placeholder\\n\\n“Everything we ate was delicious. Love the menu- tons of mouth-watering\\nseafood and land animal...” more\\n\\n    * Delivery\\n\\nTakeout\\n\\nFind a Table\\n\\n  * ### 2. Pacific Catch\\n\\n3.8 (1k reviews)\\n\\nSeafoodTacosSushi Bars$$\\n\\nThis is a placeholder\\n\\nOutdoor seating\\n\\nTakes reservations\\n\\n“Personally, I really enjoyed the poke, the Korean-style seafood pancake\\n(again, better at the...” more\\n\\n    * Delivery\\n\\nTakeout\\n\\nStart Order\\n\\n  * ### 3. The Sea by Alexander’s Steakhouse\\n\\n4.1 (1.3k reviews)\\n\\nSeafoodSteakhousesBars$$$$\\n\\nThis is a placeholder\\n\\n“All of the seafood was very fresh, with particularly sweet jumbo shrimp.”\\nmore\\n\\n    * Outdoor seating\\n\\nTakeout\\n\\n  * ### 4. Cap’t Loui\\n\\n4.5 (569 reviews)\\n\\nSeafoodFish & ChipsCajun/Creole$$\\n\\nThis is a placeholder\\n\\nFree parking\\n\\nLarge group friendly\\n\\n“If you order a certain amount of pounds of seafood, you can get extra sides\\nfor free.” more\\n\\n    * Outdoor seating\\n\\nDelivery\\n\\nTakeout\\n\\nStart Order\\n\\n  * ### 5. La Marea of the Sea\\n\\n4.7 (45 reviews)\\n\\nSeafoodFood Stands$\\n\\nThis is a placeholder\\n\\n“The oysters were pretty fresh. They have great condiments to compliment the\\nseafood.” more\\n\\n    * Delivery\\n\\n  * ### 6. Rustic House Oyster Bar and Grill - Los Altos\\n\\n4.0 (642 reviews)\\n\\nSeafoodBarsAmerican$$\\n\\nThis is a placeholder\\n\\n“The seafood was delicious and competently prepared: a generously portioned\\ngrouper special on...” more\\n\\n    * Outdoor seating\\n\\nDelivery\\n\\nTakeout\\n\\nStart Order\\n\\n  * ### 7. King’s Fish House - San Jose\\n\\n4.2 (1.9k reviews)\\n\\nSeafood$$$West San Jose\\n\\nThis is a placeholder\\n\\n“The tartare sauce has great balance of spicy and seafood taste to it, I\\nreally like it. 3.)...” more\\n\\n    * Outdoor seating\\n\\nDelivery\\n\\nTakeout\\n\\n  * ### 8. The City Fish\\n\\n4.4 (1.1k reviews)\\n\\nSandwichesSeafoodFish & Chips$$\\n\\nThis is a placeholder\\n\\n“The reason why I love them is simple - big portions of quality seafood at a\\nreasonable price.” more\\n\\n    * Outdoor seating\\n\\nDelivery\\n\\nTakeout\\n\\nStart Order\\n\\n  * ### 9. Cook’s Seafood\\n\\n3.9 (636 reviews)\\n\\nSeafoodSeafood MarketsFish & Chips$$\\n\\nThis is a placeholder\\n\\n“I decided that I wanted some seafood but I wanted GOOD seafood and not the\\nsame stuff I always have.” more\\n\\n    * Outdoor seating\\n\\nTakeout\\n\\n  * ### 10. Gochi - Mountain View\\n\\n4.1 (555 reviews)\\n\\nJapaneseWine BarsSeafood$$$\\n\\nThis is a placeholder\\n\\n    * Waitlist opens at 5:45 pm\\n\\n“Fresh seafood. Highly recommend. Customer service is top notch. Thank you\\nGochi for the great...” more\\n\\n    * Outdoor seating\\n\\nDelivery\\n\\nTakeout\\n\\nFind a Table\\n\\n  * 1\\n\\n2\\n\\n3\\n\\n4\\n\\n5\\n\\n6\\n\\n7\\n\\n8\\n\\n9\\n\\n1 of 22\\n\\n  * ## Can\\'t find the business?\\n\\nAdding a business to Yelp is always free.\\n\\nAdd business\\n\\nGot search feedback? Help us improve.\\n\\n  * ## Related Searches in Mountain View, CA\\n\\nBeef Wellington\\n\\nCioppino\\n\\nCrab\\n\\nDinner Reservations\\n\\nFish Tacos\\n\\nMichelada\\n\\nSeafood Boil\\n\\nSeafood Buffet\\n\\nSteakhouses\\n\\n$1 Oysters\\n\\nCajun\\n\\nCajun Seafood Boil\\n\\nCeviche\\n\\nClam Chowder\\n\\nCrab Legs\\n\\nCrawfish\\n\\nFish\\n\\nFish House\\n\\nLobster Roll\\n\\nMariscos\\n\\nOysters\\n\\nRestaurants With a View\\n\\nSalmon\\n\\nScallops\\n\\nAnniversary Dinner\\n\\nCajun Seafood\\n\\nCalamari\\n\\nCrab Boil\\n\\nCrab Sandwich\\n\\nFish & Chips\\n\\nHip New Restaurants\\n\\nOyster Bars\\n\\nRestaurants With Private Rooms\\n\\nSashimi\\n\\nChain Restaurants\\n\\nCrawfish Boil\\n\\nDungeness Crab\\n\\nFine Dining\\n\\nFish Market\\n\\nGrilled Fish\\n\\nMexican Seafood\\n\\nOyster Happy Hour\\n\\nPrime Rib\\n\\nSoft Shell Crab\\n\\nValentines Day Dinner\\n\\n## Trending Searches in Mountain View, CA\\n\\nAsian Supermarket\\n\\nBuy Fresh Oysters\\n\\nCajun Seafood Boil\\n\\nCandy Stores\\n\\nCatfish\\n\\nCaviar\\n\\nCheese Shops\\n\\nClam Chowder Bread Bowl\\n\\nDim Sum\\n\\nDry Aged Steak\\n\\nFishmonger\\n\\nFruit Cake\\n\\nGourmet Grocery Stores\\n\\nGumbo\\n\\nHot Chocolate\\n\\nItalian Grocery Stores\\n\\nKaraoke\\n\\nLive Lobster\\n\\nPopcorn Shops\\n\\nPotluck Food\\n\\nPozole\\n\\nRestaurants Open on Christmas Day\\n\\nSashimi\\n\\nSeafood Markets\\n\\nSmoked Salmon\\n\\nSpecialty Food\\n\\nSushi Lunch Special\\n\\nSushi Party Tray\\n\\nWagyu Steak\\n\\nYule Log Cake\\n\\n## Related Articles\\n\\nTop Buffets in California\\n\\nTop Cajun/Creole in California\\n\\nTop Dim Sum Restaurants in California\\n\\nTop Fish & Chips in California\\n\\nTop Peruvian Restaurants in California\\n\\nTop Restaurants in California\\n\\nTop Seafood Restaurants in California\\n\\nTop Soul Food Restaurants in California\\n\\nTop Steakhouses in California\\n\\nTop Buffets in the US\\n\\nTop Cajun/Creole in the US\\n\\nTop Dim Sum Restaurants in the US\\n\\nTop Fish & Chips in the US\\n\\nTop Peruvian Restaurants in the US\\n\\nTop Restaurants in the US\\n\\nTop Seafood Restaurants in the US\\n\\nTop Soul Food Restaurants in the US\\n\\nTop Steakhouses in the US\\n\\n  *   * ## Search seafood in popular locations\\n\\n### Nearby cities\\n\\nCampbell, CA\\n\\nCupertino, CA\\n\\nLos Altos, CA\\n\\nLos Gatos, CA\\n\\nMilpitas, CA\\n\\nPalo Alto, CA\\n\\nSan Jose, CA\\n\\nSanta Clara, CA\\n\\nSaratoga, CA\\n\\nSunnyvale, CA\\n\\n### More\\n\\nLos Angeles, CA\\n\\nNapa, CA\\n\\nSacramento, CA\\n\\nSan Diego, CA\\n\\nSan Francisco, CA\\n\\nSan Luis Obispo, CA\\n\\nSanta Barbara, CA\\n\\nSanta Rosa, CA\\n\\nStockton, CA\\n\\n  *   *   *   * ## Frequently Asked Questions and Answers\\n\\nWhat are the best cheap seafood restaurants?\\n\\nThese are the best cheap seafood restaurants near Mountain View, CA:\\n\\n    * The City Fish\\n\\n    * Cap\\'t Loui\\n\\n    * Rustic House Oyster Bar and Grill - Los Altos\\n\\n    * Pacific Catch\\n\\n    * Vaso Azzurro Ristorante\\n\\nPeople also liked: Seafood Takeout Restaurants, Seafood Restaurants Offering\\nReservations\\n\\nWhat did people search for similar to seafood near Mountain View, CA?\\n\\nPeople also searched for these near Mountain View:\\n\\n    * Steak\\n\\n    * Seafood Markets\\n\\n    * Dinner\\n\\n    * Sushi\\n\\n    * Fried Fish\\n\\nSee more seafood near Mountain View.\\n\\nWhat are people saying about seafood restaurants near Mountain View, CA?\\n\\nThis is a review for seafood restaurants near Mountain View, CA:\\n\\n\"La Marea of the Sea brings fresh seafood to ur nearest farmers market if u\\ncan\\'t make it to ur seafood eatery locale: Montclair Farmers Market (9/6/20)\\nofferings: raw oysters, shrimp cocktail, fish ceviche, etc. eats: 3 raw miyagi\\noysters/$7 -big & briney, with dash of lemon & horseradish -haven\\'t had them\\nin about a decade, tasted great. -one can also take them home, in the heat,\\ndoubt it will travel well. notes: -seafood made to order, line can get long as\\nonly 1 amigo worker.....\"\\n\\nSee more reviews for this business.\\n\\nWhat are the best seafood takeout restaurants?\\n\\nThese are the best seafood takeout restaurants near Mountain View, CA:\\n\\n    * The City Fish\\n\\n    * Cap\\'t Loui\\n\\n    * King\\'s Fish House - San Jose\\n\\n    * Rustic House Oyster Bar and Grill - Los Altos\\n\\n    * Pacific Catch\\n\\nPeople also liked: Cheap Seafood Restaurants, Seafood Restaurants Offering\\nReservations\\n\\nWhat are the best seafood restaurants offering reservations?\\n\\nThese are the best seafood restaurants offering reservations near Mountain\\nView, CA:\\n\\n    * King\\'s Fish House - San Jose\\n\\n    * Rustic House Oyster Bar and Grill - Los Altos\\n\\n    * Pacific Catch\\n\\n    * The Sea by Alexander\\'s Steakhouse\\n\\n    * Evvia Estiatorio\\n\\nPeople also liked: Cheap Seafood Restaurants, Seafood Takeout Restaurants\\n\\nAbout\\n\\n  * About Yelp\\n  * Careers\\n  * Press\\n  * Investor Relations\\n  * Trust & Safety\\n  * Content Guidelines\\n  * Accessibility Statement\\n  * Terms of Service\\n  * Privacy Policy\\n  * Ad Choices\\n  * Your Privacy Choices\\n\\nDiscover\\n\\n  * Yelp Project Cost Guides\\n  * Collections\\n  * Talk\\n  * Events\\n  * Yelp Blog\\n  * Support\\n  * Yelp Mobile\\n  * Developers\\n  * RSS\\n\\nYelp for Business\\n\\n  * Yelp for Business\\n  * Business Owner Login\\n  * Claim your Business Page\\n  * Advertise on Yelp\\n  * Yelp for Restaurant Owners\\n  * Table Management\\n  * Business Success Stories\\n  * Business Support\\n  * Yelp Blog for Business\\n\\nLanguages\\n\\nEnglish\\n\\nCountries\\n\\nUnited States\\n\\n  * About\\n\\n  * Blog\\n\\n  * Support\\n\\n  * Terms\\n\\n  * Privacy Policy\\n\\n  * Your Privacy Choices\\n\\nCopyright © 2004–2023 Yelp Inc. Yelp, ,  and related marks are registered\\ntrademarks of Yelp.\\n\\nSome Data By Acxiom\\n\\n\\n\\xa0 \\xa0 \\xa0 \\xa0 \\xa0 \\xa0'"
            ],
            "application/vnd.google.colaboratory.intrinsic+json": {
              "type": "string"
            }
          },
          "metadata": {},
          "execution_count": 57
        }
      ]
    },
    {
      "cell_type": "code",
      "source": [
        "prompt = ChatPromptTemplate.from_messages([(\"system\", system), (\"human\", human)])\n",
        "\n",
        "chat = ChatVertexAI()\n",
        "\n",
        "chain = prompt | chat\n",
        "chain.invoke({})"
      ],
      "metadata": {
        "colab": {
          "base_uri": "https://localhost:8080/"
        },
        "id": "KxXyJMzIAOqx",
        "outputId": "a1b3c749-ce61-4cb6-abb5-1dcf0c06c957"
      },
      "execution_count": 60,
      "outputs": [
        {
          "output_type": "execute_result",
          "data": {
            "text/plain": [
              "AIMessage(content=\" Here's a summary of the content provided:\\n\\nYelp is a platform that allows users to find and review local businesses. This particular page focuses on seafood restaurants in Mountain View, California. It lists the top 10 seafood restaurants in the area, along with their ratings, reviews, and other relevant information such as price range, location, and amenities. The page also includes a map of the area, filters to narrow down the search results, and related searches for users to explore. Additionally, there are frequently asked questions and answers, as well as information about nearby cities and popular locations for seafood.\")"
            ]
          },
          "metadata": {},
          "execution_count": 60
        }
      ]
    }
  ],
  "metadata": {
    "colab": {
      "collapsed_sections": [
        "ErAPHHjO-deZ",
        "-x7PO4Cx-kta",
        "9aaL2-Jrf0NU",
        "qVkcH8ldmVM-",
        "cxqOBl9GmxND",
        "zqYN9ZlGvTkp",
        "7i0XF8fwvdWR",
        "atjfWPUqA43p",
        "smWeD8A5TnfQ",
        "oAfCdBR2oUBl",
        "CsWFU1NjsNOV"
      ],
      "provenance": []
    },
    "kernelspec": {
      "display_name": "Python 3",
      "name": "python3"
    },
    "language_info": {
      "name": "python"
    }
  },
  "nbformat": 4,
  "nbformat_minor": 0
}