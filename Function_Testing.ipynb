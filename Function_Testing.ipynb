{
  "cells": [
    {
      "cell_type": "markdown",
      "metadata": {
        "id": "ErAPHHjO-deZ"
      },
      "source": [
        "## **Vertexai Init**"
      ]
    },
    {
      "cell_type": "code",
      "execution_count": 1,
      "metadata": {
        "id": "lHmH1yGC99EG"
      },
      "outputs": [],
      "source": [
        "import sys\n",
        "\n",
        "# Additional authentication is required for Google Colab\n",
        "if \"google.colab\" in sys.modules:\n",
        "    # Authenticate user to Google Cloud\n",
        "    from google.colab import auth\n",
        "\n",
        "    auth.authenticate_user()"
      ]
    },
    {
      "cell_type": "code",
      "execution_count": 2,
      "metadata": {
        "id": "kLwEOC5x-EBH"
      },
      "outputs": [],
      "source": [
        "PROJECT_ID = \"gen-lang-client-0341374211\"  # @param {type:\"string\"}\n",
        "LOCATION = \"us-central1\"  # @param {type:\"string\"}\n",
        "\n",
        "if \"google.colab\" in sys.modules:\n",
        "    # Define project information\n",
        "    PROJECT_ID = PROJECT_ID\n",
        "    LOCATION = LOCATION\n",
        "\n",
        "    # Initialize Vertex AI\n",
        "    import vertexai\n",
        "    vertexai.init(project=PROJECT_ID, location=LOCATION)"
      ]
    },
    {
      "cell_type": "code",
      "execution_count": 3,
      "metadata": {
        "id": "aBq8IJhMtOql"
      },
      "outputs": [],
      "source": [
        "search_query = \"\"\"Sea food near Googleplex\n",
        "1600 Amphitheatre Parkway\n",
        "Mountain View, CA 94043\n",
        "United States\"\"\"\n",
        "#'how to make a great pastrami sandwich'"
      ]
    },
    {
      "cell_type": "markdown",
      "source": [
        "## **Quick Function Test**"
      ],
      "metadata": {
        "id": "jhSPN8Sm9HE3"
      }
    },
    {
      "cell_type": "code",
      "source": [
        "!pip install requests html2text beautifulsoup4"
      ],
      "metadata": {
        "colab": {
          "base_uri": "https://localhost:8080/"
        },
        "id": "fWFpbK2b3nf3",
        "outputId": "7eecbd3d-b3f7-45cb-bb54-20cc4b92b9ac"
      },
      "execution_count": 4,
      "outputs": [
        {
          "output_type": "stream",
          "name": "stdout",
          "text": [
            "Requirement already satisfied: requests in /usr/local/lib/python3.10/dist-packages (2.31.0)\n",
            "Collecting html2text\n",
            "  Downloading html2text-2020.1.16-py3-none-any.whl (32 kB)\n",
            "Requirement already satisfied: beautifulsoup4 in /usr/local/lib/python3.10/dist-packages (4.11.2)\n",
            "Requirement already satisfied: charset-normalizer<4,>=2 in /usr/local/lib/python3.10/dist-packages (from requests) (3.3.2)\n",
            "Requirement already satisfied: idna<4,>=2.5 in /usr/local/lib/python3.10/dist-packages (from requests) (3.6)\n",
            "Requirement already satisfied: urllib3<3,>=1.21.1 in /usr/local/lib/python3.10/dist-packages (from requests) (2.0.7)\n",
            "Requirement already satisfied: certifi>=2017.4.17 in /usr/local/lib/python3.10/dist-packages (from requests) (2023.11.17)\n",
            "Requirement already satisfied: soupsieve>1.2 in /usr/local/lib/python3.10/dist-packages (from beautifulsoup4) (2.5)\n",
            "Installing collected packages: html2text\n",
            "Successfully installed html2text-2020.1.16\n"
          ]
        }
      ]
    },
    {
      "cell_type": "code",
      "source": [
        "import requests\n",
        "from bs4 import BeautifulSoup\n",
        "import html2text\n",
        "\n",
        "def scrape_website(url):\n",
        "    try:\n",
        "        # Send an HTTP request to the URL\n",
        "        response = requests.get(url)\n",
        "\n",
        "        # Check if the request was successful (status code 200)\n",
        "        if response.status_code == 200:\n",
        "            return html2text.html2text(response.text)\n",
        "\n",
        "        else:\n",
        "            print(f\"Failed to retrieve content. Status code: {response.status_code}\")\n",
        "\n",
        "    except Exception as e:\n",
        "        print(f\"An error occurred: {e}\")"
      ],
      "metadata": {
        "id": "CUS28NI63lD7"
      },
      "execution_count": 5,
      "outputs": []
    },
    {
      "cell_type": "code",
      "source": [
        "url = f'https://www.google.com/search?q={search_query}'\n",
        "print(url)\n",
        "google_search_content = scrape_website(url)\n",
        "google_search_content"
      ],
      "metadata": {
        "colab": {
          "base_uri": "https://localhost:8080/",
          "height": 235
        },
        "id": "tb6v5tW59Bo3",
        "outputId": "b70feabc-052b-4ad4-fbde-42848d75d3a9"
      },
      "execution_count": 6,
      "outputs": [
        {
          "output_type": "stream",
          "name": "stdout",
          "text": [
            "https://www.google.com/search?q=Sea food near Googleplex\n",
            "1600 Amphitheatre Parkway\n",
            "Mountain View, CA 94043\n",
            "United States\n"
          ]
        },
        {
          "output_type": "execute_result",
          "data": {
            "text/plain": [
              "'[Google](/?sa=X&ved=0ahUKEwjLx9qe7J-DAxXPRzABHaDGA-0QOwgC)\\n\\n×\\n\\nPlease click\\n[here](/search?q=Sea+food+near+Googleplex%0A1600+Amphitheatre+Parkway%0AMountain+View,+CA+94043%0AUnited+States&sca_esv=3678b59fd9e83b1f&ie=UTF-8&gbv=1&sei=n9ODZYv8Bs-\\nPwbkPoI2P6A4) if you are not redirected within a few seconds.\\n\\nAll[Maps](/url?q=https://maps.google.com/maps%3Fq%3DSeafood%2Bnear%2BGoogleplex%250A1600%2BAmphitheatre%2BParkway%250AMountain%2BView,%2BCA%2B94043%250AUnited%2BStates%26um%3D1%26ie%3DUTF-8&opi=89978449&sa=U&ved=0ahUKEwjLx9qe7J-DAxXPRzABHaDGA-0QiaAMCAYoAQ&usg=AOvVaw1w1Gh-\\nsAY_8tIaxZlezla5)[Videos](/search?q=Seafood+near+Googleplex%0A1600+Amphitheatre+Parkway%0AMountain+View,+CA+94043%0AUnited+States&sca_esv=3678b59fd9e83b1f&ie=UTF-8&tbm=vid&source=lnms&sa=X&ved=0ahUKEwjLx9qe7J-DAxXPRzABHaDGA-0Q_AUIBygC)[Books](/search?q=Seafood+near+Googleplex%0A1600+Amphitheatre+Parkway%0AMountain+View,+CA+94043%0AUnited+States&sca_esv=3678b59fd9e83b1f&ie=UTF-8&tbm=bks&source=lnms&sa=X&ved=0ahUKEwjLx9qe7J-DAxXPRzABHaDGA-0Q_AUICCgD)\\n[Images](/search?q=Seafood+near+Googleplex%0A1600+Amphitheatre+Parkway%0AMountain+View,+CA+94043%0AUnited+States&sca_esv=3678b59fd9e83b1f&ie=UTF-8&tbm=isch&source=lnms&sa=X&ved=0ahUKEwjLx9qe7J-DAxXPRzABHaDGA-0Q_AUICSgE)\\n[News](/search?q=Seafood+near+Googleplex%0A1600+Amphitheatre+Parkway%0AMountain+View,+CA+94043%0AUnited+States&sca_esv=3678b59fd9e83b1f&ie=UTF-8&tbm=nws&source=lnms&sa=X&ved=0ahUKEwjLx9qe7J-DAxXPRzABHaDGA-0Q_AUICigF)\\n[Shopping](/url?q=/search%3Fq%3DSeafood%2Bnear%2BGoogleplex%250A1600%2BAmphitheatre%2BParkway%250AMountain%2BView,%2BCA%2B94043%250AUnited%2BStates%26sca_esv%3D3678b59fd9e83b1f%26ie%3DUTF-8%26tbm%3Dshop%26source%3Dlnms&opi=89978449&sa=U&ved=0ahUKEwjLx9qe7J-DAxXPRzABHaDGA-0QiaAMCAsoBg&usg=AOvVaw01A7yY-\\noP1xYmX_KXiLKBT)\\n\\n[Search tools](/advanced_search)\\n\\nAny time\\n\\n  * Any time\\n  * [Past hour](/search?q=Seafood+near+Googleplex%0A1600+Amphitheatre+Parkway%0AMountain+View,+CA+94043%0AUnited+States&sca_esv=3678b59fd9e83b1f&ie=UTF-8&source=lnt&tbs=qdr:h&sa=X&ved=0ahUKEwjLx9qe7J-DAxXPRzABHaDGA-0QpwUIDQ)\\n  * [Past 24 hours](/search?q=Seafood+near+Googleplex%0A1600+Amphitheatre+Parkway%0AMountain+View,+CA+94043%0AUnited+States&sca_esv=3678b59fd9e83b1f&ie=UTF-8&source=lnt&tbs=qdr:d&sa=X&ved=0ahUKEwjLx9qe7J-DAxXPRzABHaDGA-0QpwUIDg)\\n  * [Past week](/search?q=Seafood+near+Googleplex%0A1600+Amphitheatre+Parkway%0AMountain+View,+CA+94043%0AUnited+States&sca_esv=3678b59fd9e83b1f&ie=UTF-8&source=lnt&tbs=qdr:w&sa=X&ved=0ahUKEwjLx9qe7J-DAxXPRzABHaDGA-0QpwUIDw)\\n  * [Past month](/search?q=Seafood+near+Googleplex%0A1600+Amphitheatre+Parkway%0AMountain+View,+CA+94043%0AUnited+States&sca_esv=3678b59fd9e83b1f&ie=UTF-8&source=lnt&tbs=qdr:m&sa=X&ved=0ahUKEwjLx9qe7J-DAxXPRzABHaDGA-0QpwUIEA)\\n  * [Past year](/search?q=Seafood+near+Googleplex%0A1600+Amphitheatre+Parkway%0AMountain+View,+CA+94043%0AUnited+States&sca_esv=3678b59fd9e83b1f&ie=UTF-8&source=lnt&tbs=qdr:y&sa=X&ved=0ahUKEwjLx9qe7J-DAxXPRzABHaDGA-0QpwUIEQ)\\n\\nAll results\\n\\n  * All results\\n  * [Verbatim](/search?q=Sea+food+near+Googleplex%0A1600+Amphitheatre+Parkway%0AMountain+View,+CA+94043%0AUnited+States&sca_esv=3678b59fd9e83b1f&ie=UTF-8&source=lnt&tbs=li:1&sa=X&ved=0ahUKEwjLx9qe7J-DAxXPRzABHaDGA-0QpwUIEw)\\n\\nShowing results for [**_Seafood_** near Googleplex 1600 Amphitheatre Parkway\\nMountain View, CA 94043 United\\nStates](/search?sca_esv=3678b59fd9e83b1f&ie=UTF-8&q=Seafood+near+Googleplex%0A1600+Amphitheatre+Parkway%0AMountain+View,+CA+94043%0AUnited+States&spell=1)\\n\\nSearch instead for [Sea food near Googleplex 1600 Amphitheatre Parkway\\nMountain View, CA 94043 United\\nStates](/search?sca_esv=3678b59fd9e83b1f&ie=UTF-8&q=Sea+food+near+Googleplex%0A1600+Amphitheatre+Parkway%0AMountain+View,+CA+94043%0AUnited+States&nfpr=1&sa=X&ved=2ahUKEwjLx9qe7J-DAxXPRzABHaDGA-0QvgV6BAgMEAI)\\n\\n##\\n\\nPlaces\\n\\nnear Googleplex, 1600 Amphitheatre Pkwy, Mountain View, CA\\n\\n[![Map\\nimage](data:image/gif;base64,R0lGODlhAQABAIAAAP///////yH5BAEKAAEALAAAAAABAAEAAAICTAEAOw==)](/url?q=https://maps.google.com/maps%3Fum%3D1%26ie%3DUTF-8%26fb%3D1%26gl%3Dus%26sa%3DX%26sll%3D37.409418,-122.110806%26sspn%3D0.01309,0.0219729%26q%3DSeafood%2Bnear%2BGoogleplex%250A1600%2BAmphitheatre%2BParkway%250AMountain%2BView,%2BCA%2B94043%250AUnited%2BStates&sa=U&ved=2ahUKEwjLx9qe7J-DAxXPRzABHaDGA-0QtZwMegQICxAB&usg=AOvVaw3TMcrS7mJZzHUzDTiqFhmV)\\n\\n[\\n\\n### Pacific Catch\\n\\n4.3 (1,287) · $$  \\nSeafood ⋅ 545 San Antonio Rd Suite 34  \\nClosed ⋅ Opens 11 AM Thu  \\nPan-Pacific seafood eatery with a\\npatio](/search?sca_esv=3678b59fd9e83b1f&ie=UTF-8&q=Pacific+Catch+Mountain+View,+CA&ludocid=11530031354653019358&lsig=AB86z5UKA1Qyk_IMl_EuNnvNi3K3&phdesc=e44nj9qSoZw&sa=X&ved=2ahUKEwjLx9qe7J-DAxXPRzABHaDGA-0QvS56BAgLEAQ)\\n\\n[![Arrow](data:image/gif;base64,R0lGODlhAQABAIAAAP///////yH5BAEKAAEALAAAAAABAAEAAAICTAEAOw==)](/search?sca_esv=3678b59fd9e83b1f&ie=UTF-8&q=Pacific+Catch+Mountain+View,+CA&ludocid=11530031354653019358&lsig=AB86z5UKA1Qyk_IMl_EuNnvNi3K3&phdesc=e44nj9qSoZw&sa=X&ved=2ahUKEwjLx9qe7J-DAxXPRzABHaDGA-0Q_pABegQICxAF)\\n\\n[\\n\\n### The Cookout Food Truck\\n\\n4.5 (22) · $  \\nFish & Chips ⋅ 2534 Old Middlefield Way  \\nClosed ⋅ Opens 6 PM\\nThu](/search?sca_esv=3678b59fd9e83b1f&ie=UTF-8&q=The+Cookout+Food+Truck+Mountain+View,+CA&ludocid=11552274259547282965&lsig=AB86z5UQOzQDDMzYlifmWMwL08IF&phdesc=0Fde7Ae7v8A&sa=X&ved=2ahUKEwjLx9qe7J-DAxXPRzABHaDGA-0QvS56BAgLEAc)\\n\\n[![Arrow](data:image/gif;base64,R0lGODlhAQABAIAAAP///////yH5BAEKAAEALAAAAAABAAEAAAICTAEAOw==)](/search?sca_esv=3678b59fd9e83b1f&ie=UTF-8&q=The+Cookout+Food+Truck+Mountain+View,+CA&ludocid=11552274259547282965&lsig=AB86z5UQOzQDDMzYlifmWMwL08IF&phdesc=0Fde7Ae7v8A&sa=X&ved=2ahUKEwjLx9qe7J-DAxXPRzABHaDGA-0Q_pABegQICxAI)\\n\\n[\\n\\n### The Sea by Alexander\\'s Steakhouse\\n\\n4.5 (1,206) · $$$$  \\nSeafood ⋅ Palo Alto, CA  \\nClosed ⋅ Opens 5:30 PM Thu  \\nPrime aged beef with Japanese\\ninfluences](/search?sca_esv=3678b59fd9e83b1f&ie=UTF-8&q=The+Sea+by+Alexander\\'s+Steakhouse+Palo+Alto,+CA&ludocid=11321133157872368943&lsig=AB86z5VzS8dTmCMSuGh7dBbtsrvr&phdesc=IWN8vfEdIPc&sa=X&ved=2ahUKEwjLx9qe7J-DAxXPRzABHaDGA-0QvS56BAgLEAo)\\n\\n[![Arrow](data:image/gif;base64,R0lGODlhAQABAIAAAP///////yH5BAEKAAEALAAAAAABAAEAAAICTAEAOw==)](/search?sca_esv=3678b59fd9e83b1f&ie=UTF-8&q=The+Sea+by+Alexander\\'s+Steakhouse+Palo+Alto,+CA&ludocid=11321133157872368943&lsig=AB86z5VzS8dTmCMSuGh7dBbtsrvr&phdesc=IWN8vfEdIPc&sa=X&ved=2ahUKEwjLx9qe7J-DAxXPRzABHaDGA-0Q_pABegQICxAL)\\n\\n[![](data:image/png;base64,iVBORw0KGgoAAAANSUhEUgAAADAAAAAwCAQAAAD9CzEMAAAAaklEQVRYw+2VOwqAQAwFcy0/13qFYLF6ZD1ALNxWUfSByEzqnSmykAgAuIkmFad+ViptCY3KOp6EGi0kSJAgsT/JB1PcgSuJbwfeX7Ra6z9y6zv0Z/oV/ZG+R38WGMzHJULFqq8Jpx7gp2wNbJTpL+jhtwAAAABJRU5ErkJggg==)More\\nplaces](/search?sca_esv=3678b59fd9e83b1f&ie=UTF-8&tbs=lf:1,lf_ui:9&q=Seafood+near+Googleplex%0A1600+Amphitheatre+Parkway%0AMountain+View,+CA+94043%0AUnited+States&rlst=f&rflfq=1&num=10&sa=X&ved=2ahUKEwjLx9qe7J-DAxXPRzABHaDGA-0QjGp6BAgLEAw)\\n\\n[\\n\\n### THE BEST 10 Seafood Restaurants in MOUNTAIN VIEW, CA - Yelp\\n\\nwww.yelp.com › Yelp › Restaurants ›\\nSeafood](/url?q=https://www.yelp.com/search%3Fcflt%3Dseafood%26find_loc%3DMountain%2BView%252C%2BCA&sa=U&ved=2ahUKEwjLx9qe7J-DAxXPRzABHaDGA-0QFnoECAAQAg&usg=AOvVaw1CWlP43NWviqc2g_4RBjb0)\\n\\nTop 10 Best Seafood in Mountain View, CA - December 2023 - Yelp - Limón,\\nPacific Catch, La Marea of the Sea, Clifford\\'s Chicken and Fish, Cap\\'t Loui,\\n...\\n\\nMissing: Googleplex 1600 Amphitheatre\\n\\n[\\n\\n### THE BEST Seafood Restaurants in Mountain View (Updated 2023)\\n\\nwww.tripadvisor.com › United States › California (CA) › Mountain\\nView](/url?q=https://www.tripadvisor.com/Restaurants-g32761-c33-Mountain_View_California.html&sa=U&ved=2ahUKEwjLx9qe7J-DAxXPRzABHaDGA-0QFnoECAkQAg&usg=AOvVaw25fGXXkD4YwoFA76Tw29SN)\\n\\nSeafood Restaurants in Mountain View ; 1. Pacific Catch. (172) · American,\\nSeafood$$ - $$$ Menu ; 2. The Sea by Alexander\\'s Steakhouse. (233).\\n\\nMissing: Googleplex 1600 Amphitheatre Parkway\\n\\n[\\n\\n### Googleplex restaurants, addresses, phone numbers, photos, real ...\\n\\nus.trip.com › ... › Santa Clara County › Mountain View ›\\nGoogleplex](/url?q=https://us.trip.com/travel-guide/mountain-\\nview-34682-restaurant/googleplex-18697240/&sa=U&ved=2ahUKEwjLx9qe7J-DAxXPRzABHaDGA-0QFnoECAcQAg&usg=AOvVaw2iMA65RGp7sEfJLuZOwDWr)\\n\\nGoogleplex. Open Now|08:00-17:00. +1-650-253-0000. 1600 Amphitheatre Pkwy,\\nMountain View, CA 94043, USA. Map . What travelers say: head-img. Not going up\\nat ...\\n\\n[\\n\\n### 15 Best Seafood Restaurants In Mountain View | OpenTable\\n\\nwww.opentable.com › San Francisco Bay\\nArea](/url?q=https://www.opentable.com/cuisine/best-seafood-restaurants-\\nmountain-view-\\nca&sa=U&ved=2ahUKEwjLx9qe7J-DAxXPRzABHaDGA-0QFnoECAEQAg&usg=AOvVaw2xYHEr50k5QylwHohdgEAs)\\n\\n1\\\\. Vaso Azzurro. 4.7 · (620) · Seafood • Mountain View. Booked 3 times today\\n; 2. Sundance The Steakhouse. 4.8 · (5026) · Seafood • Palo Alto. Booked 45\\ntimes today.\\n\\nMissing: Googleplex 1600 Amphitheatre Parkway 94043\\n\\n[\\n\\n### CHARLIE\\'S CAFE, Mountain View - Restaurant Reviews & Photos\\n\\nwww.tripadvisor.com › United States › California (CA) › Mountain\\nView](/url?q=https://www.tripadvisor.com/Restaurant_Review-g32761-d9758184-Reviews-\\nCharlie_s_Cafe-\\nMountain_View_California.html&sa=U&ved=2ahUKEwjLx9qe7J-DAxXPRzABHaDGA-0QFnoECAQQAg&usg=AOvVaw3r7W_FIlOf8gkr\\n--WMahqi)\\n\\nRating 4.5\\n\\n(6)\\n\\nLocation and contact. 1600 Amphitheatre Pkwy Googleplex, Mountain View, CA\\n94043-1351 ... in the United States. If you are a resident of another country\\nor region ...\\n\\n[\\n\\n### Best 30 Seafood Restaurants in Mountain View, CA with Reviews\\n\\nwww.yellowpages.com › CA › Mountain\\nView](/url?q=https://www.yellowpages.com/mountain-view-ca/seafood-\\nrestaurants&sa=U&ved=2ahUKEwjLx9qe7J-DAxXPRzABHaDGA-0QFnoECAgQAg&usg=AOvVaw3uehEUxqXlx7ZsTP1xBKmm)\\n\\nSeafood restaurants in Mountain View, CA · 1.Drunken Lobster. 212 Castro St ·\\n2.Pacific Catch. 545 San Antonio Rd Ste 34 · 3.Palani Malai Inc.\\n\\n[\\n\\n### Charlie\\'s Cafe - 1600 Amphitheatre Pkwy - Foursquare\\n\\nfoursquare.com › charlies-cafe](/url?q=https://foursquare.com/v/charlies-\\ncafe/4ae5fb66f964a520c5a321e3&sa=U&ved=2ahUKEwjLx9qe7J-DAxXPRzABHaDGA-0QFnoECAoQAg&usg=AOvVaw3ntr-\\nYbSx5MauDkFAtpx1Q)\\n\\n1600 Amphitheatre Pkwy, Mountain View, CA 94043, United States · Directions\\nDirections. See more. Wi-Fi: Free. Check out what people talk about: all tips\\nand ...\\n\\n[\\n\\n### Great places to go near Google Android Statues Square ... - Trip.com\\n\\nus.trip.com › blog › attraction › google-android-statues-\\nsquare-33087764](/url?q=https://us.trip.com/blog/attraction/near/google-\\nandroid-statues-\\nsquare-33087764/&sa=U&ved=2ahUKEwjLx9qe7J-DAxXPRzABHaDGA-0QFnoECAUQAg&usg=AOvVaw18f3FhfhVyIO5nhqcIvPTf)\\n\\n522m. Recommended sightseeing time:1-2 hours. Address: 1600 Amphitheatre Pkwy,\\nMountain View, CA 94043, USA ... Address: Moffett Blvd, Mountain View, CA\\n94043, ...\\n\\n[\\n\\n### TOP 10 BEST Google Campus in Mountain View, CA - Yelp\\n\\nwww.yelp.com › search ›\\nfind_loc=Mountain+View,+CA](/url?q=https://www.yelp.com/search%3Ffind_desc%3DGoogle%2BCampus%26find_loc%3DMountain%2BView%252C%2BCA&sa=U&ved=2ahUKEwjLx9qe7J-DAxXPRzABHaDGA-0QFnoECAYQAg&usg=AOvVaw2WkpAcUu7Qu-U2JYAt9AqT)\\n\\n1 Amphitheatre Pkwy, Mountain View, CA 94043. (650) 967-4040. \"Dammit ... 4500\\nGreat America Pkwy, Santa Clara, CA 95054. (415) 938-3858. \"I attended product\\n...\\n\\n[\\n\\n### What to do in San Jose: 10 Things to do in a Tech-focused city - Sixt\\n\\nwww.sixt.com › magazine › travel › what-to-do-in-san-\\njose](/url?q=https://www.sixt.com/magazine/travel/what-to-do-in-san-\\njose/&sa=U&ved=2ahUKEwjLx9qe7J-DAxXPRzABHaDGA-0QFnoECAIQAg&usg=AOvVaw0bNjaGcjXEVcVvab5ONPaa)\\n\\nAddress: 1600 Amphitheatre Pkwy, Mountain View, CA 94043. Entry fees: Free.\\nHours: Open daily. Time required to see the attraction: A few hours. 9.\\nComputer ...\\n\\nRelated searches\\n\\n[![](data:image/gif;base64,R0lGODlhAQABAIAAAP///////yH5BAEKAAEALAAAAAABAAEAAAICTAEAOw==)Best\\nseafood near googleplex 1600 amphitheatre parkway mountain view ca 94043\\nunited\\nstates](/search?sca_esv=3678b59fd9e83b1f&ie=UTF-8&q=Best+seafood+near+googleplex+1600+amphitheatre+parkway+mountain+view+ca+94043+united+states&sa=X&ved=2ahUKEwjLx9qe7J-DAxXPRzABHaDGA-0Q1QJ6BAgDEAI)\\n\\n[![](data:image/gif;base64,R0lGODlhAQABAIAAAP///////yH5BAEKAAEALAAAAAABAAEAAAICTAEAOw==)New\\nseafood near googleplex 1600 amphitheatre parkway mountain view ca 94043\\nunited\\nstates](/search?sca_esv=3678b59fd9e83b1f&ie=UTF-8&q=New+seafood+near+googleplex+1600+amphitheatre+parkway+mountain+view+ca+94043+united+states&sa=X&ved=2ahUKEwjLx9qe7J-DAxXPRzABHaDGA-0Q1QJ6BAgDEAQ)\\n\\n[![](data:image/gif;base64,R0lGODlhAQABAIAAAP///////yH5BAEKAAEALAAAAAABAAEAAAICTAEAOw==)Cheap\\nseafood near googleplex 1600 amphitheatre parkway mountain view ca 94043\\nunited\\nstates](/search?sca_esv=3678b59fd9e83b1f&ie=UTF-8&q=Cheap+seafood+near+googleplex+1600+amphitheatre+parkway+mountain+view+ca+94043+united+states&sa=X&ved=2ahUKEwjLx9qe7J-DAxXPRzABHaDGA-0Q1QJ6BAgDEAY)\\n\\n[![](data:image/gif;base64,R0lGODlhAQABAIAAAP///////yH5BAEKAAEALAAAAAABAAEAAAICTAEAOw==)Pacific\\nCatch](/search?sca_esv=3678b59fd9e83b1f&ie=UTF-8&q=Pacific+Catch&sa=X&ved=2ahUKEwjLx9qe7J-DAxXPRzABHaDGA-0Q1QJ6BAgDEAg)\\n\\n[![](data:image/gif;base64,R0lGODlhAQABAIAAAP///////yH5BAEKAAEALAAAAAABAAEAAAICTAEAOw==)Pacific\\nCatch Mountain View\\nreviews](/search?sca_esv=3678b59fd9e83b1f&ie=UTF-8&q=Pacific+Catch+Mountain+View+reviews&sa=X&ved=2ahUKEwjLx9qe7J-DAxXPRzABHaDGA-0Q1QJ6BAgDEAo)\\n\\n[Next\\n>](/search?q=Seafood+near+Googleplex%0A1600+Amphitheatre+Parkway%0AMountain+View,+CA+94043%0AUnited+States&sca_esv=3678b59fd9e83b1f&ie=UTF-8&ei=n9ODZYv8Bs-\\nPwbkPoI2P6A4&start=10&sa=N)\\n\\nUnited States\\n\\nFrom your IP address - [Learn\\nmore](/url?q=https://support.google.com/websearch%3Fp%3Dws_settings_location%26hl%3Den&opi=89978449&sa=U&ved=0ahUKEwjLx9qe7J-DAxXPRzABHaDGA-0Qty4IXw&usg=AOvVaw0PUuu9CbuZjJ3PmOtXx_ei)\\n\\n[Sign\\nin](/url?q=https://accounts.google.com/ServiceLogin%3Fcontinue%3Dhttps://www.google.com/search%253Fq%253DSea%252Bfood%252Bnear%252BGoogleplex%25250A1600%252BAmphitheatre%252BParkway%25250AMountain%252BView,%252BCA%252B94043%25250AUnited%252BStates%26hl%3Den&opi=89978449&sa=U&ved=0ahUKEwjLx9qe7J-DAxXPRzABHaDGA-0Qxs8CCGA&usg=AOvVaw11Yl2mGD8cPZPDJobInosd)\\n\\n[Settings](https://www.google.com/preferences?hl=en&fg=1&sa=X&ved=0ahUKEwjLx9qe7J-DAxXPRzABHaDGA-0Q5fUCCGE)[Privacy](https://policies.google.com/privacy?hl=en&fg=1)[Terms](https://policies.google.com/terms?hl=en&fg=1)[Dark\\ntheme:\\nOff](/setprefs?hl=en&prev=https://www.google.com/search?q%3DSea%2Bfood%2Bnear%2BGoogleplex%250A1600%2BAmphitheatre%2BParkway%250AMountain%2BView,%2BCA%2B94043%250AUnited%2BStates%26pccc%3D1&sig=0_wbB5KrmJujjXG6AaZglOKV1MJcs%3D&cs=2&sa=X&ved=0ahUKEwjLx9qe7J-DAxXPRzABHaDGA-0QjcAJCGI)\\n\\n'"
            ],
            "application/vnd.google.colaboratory.intrinsic+json": {
              "type": "string"
            }
          },
          "metadata": {},
          "execution_count": 6
        }
      ]
    },
    {
      "cell_type": "code",
      "source": [
        "import vertexai\n",
        "from vertexai.preview.generative_models import GenerativeModel, Part\n",
        "\n",
        "def google_search_formated_response(content, max_output_tokens=7815):\n",
        "  model = GenerativeModel(\"gemini-pro\")\n",
        "\n",
        "  schema = \"\"\"\n",
        "  {\n",
        "    \"places\": [\n",
        "      {\n",
        "        \"name\": \"\",\n",
        "        \"rating\": <<float>>,\n",
        "        \"price\": \"\",\n",
        "        \"category\": \"\",\n",
        "        \"address\": \"\",\n",
        "        \"city\": \"\",\n",
        "        \"state\": \"\",\n",
        "        \"zip\": \"\",\n",
        "        \"country\": \"\",\n",
        "        \"phone\": \"\",\n",
        "        \"website\": \"\"\n",
        "      }\n",
        "    ]\n",
        "  }\n",
        "  \"\"\"\n",
        "\n",
        "  responses = model.generate_content(\n",
        "    f\"\"\"Format the below response to the following JSON schema.\n",
        "\n",
        "    Here's the content:\n",
        "\n",
        "    {content}\n",
        "\n",
        "    \"\"\",\n",
        "        generation_config={\n",
        "            \"max_output_tokens\": max_output_tokens,\n",
        "            \"temperature\": 0,\n",
        "            \"top_p\": 1\n",
        "        },\n",
        "      stream=True,\n",
        "      )\n",
        "\n",
        "  formated_response = []\n",
        "\n",
        "  for response in responses:\n",
        "      text = response.candidates[0].content.parts[0].text\n",
        "      print(text)\n",
        "      formated_response.append(text)\n",
        "\n",
        "  return formated_response\n",
        "\n",
        "formated_response = google_search_formated_response(google_search_content)"
      ],
      "metadata": {
        "colab": {
          "base_uri": "https://localhost:8080/"
        },
        "id": "dKLOHpeBCSGK",
        "outputId": "e2d31eba-dce8-4756-8f81-45ee08a61e14"
      },
      "execution_count": 7,
      "outputs": [
        {
          "output_type": "stream",
          "name": "stdout",
          "text": [
            "```json\n",
            "{\n",
            "  \"places\": [\n",
            "    {\n",
            "      \"\n",
            "name\": \"Pacific Catch\",\n",
            "      \"rating\": \"4.3\",\n",
            "\n",
            "      \"price\": \"$$\",\n",
            "      \"category\": \"Seafood\",\n",
            "      \"address\": \"545 San Antonio Rd Suite 34\n",
            "\",\n",
            "      \"hours\": \"Closed \\u00b7 Opens 11 AM Thu\",\n",
            "      \"description\": \"Pan-Pacific seafood eatery\n",
            " with a patio\",\n",
            "      \"url\": \"/search?sca_esv=3678b59fd9e83b1f&ie=UTF-8&q=Pacific+Catch+Mountain+View\n",
            ",+CA&ludocid=11530031354653019358&lsig=AB86z5UKA1Qyk_IMl_EuNnvNi\n",
            "3K3&phdesc=e44nj9qSoZw&sa=X&ved=2ahUKEwjLx9qe7J-DAxXPRzABHaDGA-0QvS56BAgLEAQ\"\n",
            "    },\n",
            "    {\n",
            "      \"name\":\n",
            " \"The Cookout Food Truck\",\n",
            "      \"rating\": \"4.5\",\n",
            "      \"price\": \"$\",\n",
            "      \"category\": \"Fish & Chips\",\n",
            "      \"address\": \"2534 Old Middlefield Way\",\n",
            "      \"hours\": \"Closed \\u00b7 Opens \n",
            "6 PM Thu\",\n",
            "      \"description\": null,\n",
            "      \"url\": \"/search?sca_esv=3678b59fd9e83b1f&ie=UTF-8&q=The+Cookout+Food+Truck+Mountain+View,+CA&lud\n",
            "ocid=11552274259547282965&lsig=AB86z5UQOzQDDMzYlifmWMwL08IF&phdesc=0Fde7Ae7v8A&sa=X&\n",
            "ved=2ahUKEwjLx9qe7J-DAxXPRzABHaDGA-0QvS56BAgLEAc\"\n",
            "    },\n",
            "    {\n",
            "      \"name\": \"The Sea by Alexander's Steakhouse\",\n",
            "      \"rating\": \"4.5\",\n",
            "\n",
            "      \"price\": \"$$$$\",\n",
            "      \"category\": \"Seafood\",\n",
            "      \"address\": \"Palo Alto, CA\",\n",
            "      \"hours\": \"Closed \\u00b7 Opens 5:30 PM Thu\",\n",
            "      \"description\": \"Prime aged beef with Japanese influences\",\n",
            "      \n",
            "\"url\": \"/search?sca_esv=3678b59fd9e83b1f&ie=UTF-8&q=The+Sea+by+Alexander's+Steakhouse+Palo+Alto,+CA&ludocid=113211\n",
            "33157872368943&lsig=AB86z5VzS8dTmCMSuGh7dBbtsrvr&phdesc=IWN8vfEdIPc&sa=X&ved=2ahUKEwjLx9qe7J\n",
            "-DAxXPRzABHaDGA-0QvS56BAgLEAo\"\n",
            "    }\n",
            "  ]\n",
            "}\n",
            "```\n"
          ]
        }
      ]
    }
  ],
  "metadata": {
    "colab": {
      "collapsed_sections": [
        "ErAPHHjO-deZ",
        "-x7PO4Cx-kta",
        "9aaL2-Jrf0NU",
        "qVkcH8ldmVM-",
        "cxqOBl9GmxND",
        "zqYN9ZlGvTkp",
        "7i0XF8fwvdWR",
        "atjfWPUqA43p",
        "smWeD8A5TnfQ",
        "oAfCdBR2oUBl",
        "CsWFU1NjsNOV"
      ],
      "provenance": [],
      "toc_visible": true
    },
    "kernelspec": {
      "display_name": "Python 3",
      "name": "python3"
    },
    "language_info": {
      "name": "python"
    }
  },
  "nbformat": 4,
  "nbformat_minor": 0
}