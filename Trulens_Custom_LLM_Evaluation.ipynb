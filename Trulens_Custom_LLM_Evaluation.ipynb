{
  "cells": [
    {
      "cell_type": "markdown",
      "metadata": {
        "id": "ErAPHHjO-deZ"
      },
      "source": [
        "# **Vertexai Init**"
      ]
    },
    {
      "cell_type": "code",
      "execution_count": 1,
      "metadata": {
        "id": "lHmH1yGC99EG"
      },
      "outputs": [],
      "source": [
        "import sys\n",
        "\n",
        "# Additional authentication is required for Google Colab\n",
        "if \"google.colab\" in sys.modules:\n",
        "    # Authenticate user to Google Cloud\n",
        "    from google.colab import auth\n",
        "\n",
        "    auth.authenticate_user()"
      ]
    },
    {
      "cell_type": "code",
      "execution_count": 2,
      "metadata": {
        "id": "kLwEOC5x-EBH"
      },
      "outputs": [],
      "source": [
        "PROJECT_ID = \"gen-lang-client-0341374211\"  # @param {type:\"string\"}\n",
        "LOCATION = \"us-central1\"  # @param {type:\"string\"}\n",
        "\n",
        "if \"google.colab\" in sys.modules:\n",
        "    # Define project information\n",
        "    PROJECT_ID = PROJECT_ID\n",
        "    LOCATION = LOCATION\n",
        "\n",
        "    # Initialize Vertex AI\n",
        "    import vertexai\n",
        "    vertexai.init(project=PROJECT_ID, location=LOCATION)"
      ]
    },
    {
      "cell_type": "code",
      "execution_count": 3,
      "metadata": {
        "id": "aBq8IJhMtOql"
      },
      "outputs": [],
      "source": [
        "search_query = \"\"\"Sea food near Googleplex\n",
        "1600 Amphitheatre Parkway\n",
        "Mountain View, CA 94043\n",
        "United States\"\"\"\n",
        "#'how to make a great pastrami sandwich'"
      ]
    },
    {
      "cell_type": "markdown",
      "metadata": {
        "id": "-x7PO4Cx-kta"
      },
      "source": [
        "# **Realtime Google Search with Langchain**"
      ]
    },
    {
      "cell_type": "code",
      "execution_count": 9,
      "metadata": {
        "id": "r1ek-n4IzOzG",
        "colab": {
          "base_uri": "https://localhost:8080/"
        },
        "outputId": "ed8ef6c8-12d3-4baf-df3e-4a08c1b21bb4"
      },
      "outputs": [
        {
          "output_type": "stream",
          "name": "stdout",
          "text": [
            "Collecting duckduckgo_search\n",
            "  Downloading duckduckgo_search-4.1.0-py3-none-any.whl (25 kB)\n",
            "Requirement already satisfied: click>=8.1.7 in /usr/local/lib/python3.10/dist-packages (from duckduckgo_search) (8.1.7)\n",
            "Requirement already satisfied: lxml>=4.9.3 in /usr/local/lib/python3.10/dist-packages (from duckduckgo_search) (4.9.3)\n",
            "Collecting curl-cffi>=0.5.10 (from duckduckgo_search)\n",
            "  Downloading curl_cffi-0.5.10-cp37-abi3-manylinux_2_17_x86_64.manylinux2014_x86_64.whl (7.2 MB)\n",
            "\u001b[2K     \u001b[90m━━━━━━━━━━━━━━━━━━━━━━━━━━━━━━━━━━━━━━━━\u001b[0m \u001b[32m7.2/7.2 MB\u001b[0m \u001b[31m14.2 MB/s\u001b[0m eta \u001b[36m0:00:00\u001b[0m\n",
            "\u001b[?25hRequirement already satisfied: cffi>=1.12.0 in /usr/local/lib/python3.10/dist-packages (from curl-cffi>=0.5.10->duckduckgo_search) (1.16.0)\n",
            "Requirement already satisfied: pycparser in /usr/local/lib/python3.10/dist-packages (from cffi>=1.12.0->curl-cffi>=0.5.10->duckduckgo_search) (2.21)\n",
            "Installing collected packages: curl-cffi, duckduckgo_search\n",
            "Successfully installed curl-cffi-0.5.10 duckduckgo_search-4.1.0\n",
            "Collecting googlesearch-python\n",
            "  Downloading googlesearch-python-1.2.3.tar.gz (3.9 kB)\n",
            "  Preparing metadata (setup.py) ... \u001b[?25l\u001b[?25hdone\n",
            "Requirement already satisfied: beautifulsoup4>=4.9 in /usr/local/lib/python3.10/dist-packages (from googlesearch-python) (4.11.2)\n",
            "Requirement already satisfied: requests>=2.20 in /usr/local/lib/python3.10/dist-packages (from googlesearch-python) (2.31.0)\n",
            "Requirement already satisfied: soupsieve>1.2 in /usr/local/lib/python3.10/dist-packages (from beautifulsoup4>=4.9->googlesearch-python) (2.5)\n",
            "Requirement already satisfied: charset-normalizer<4,>=2 in /usr/local/lib/python3.10/dist-packages (from requests>=2.20->googlesearch-python) (3.3.2)\n",
            "Requirement already satisfied: idna<4,>=2.5 in /usr/local/lib/python3.10/dist-packages (from requests>=2.20->googlesearch-python) (3.6)\n",
            "Requirement already satisfied: urllib3<3,>=1.21.1 in /usr/local/lib/python3.10/dist-packages (from requests>=2.20->googlesearch-python) (2.0.7)\n",
            "Requirement already satisfied: certifi>=2017.4.17 in /usr/local/lib/python3.10/dist-packages (from requests>=2.20->googlesearch-python) (2023.11.17)\n",
            "Building wheels for collected packages: googlesearch-python\n",
            "  Building wheel for googlesearch-python (setup.py) ... \u001b[?25l\u001b[?25hdone\n",
            "  Created wheel for googlesearch-python: filename=googlesearch_python-1.2.3-py3-none-any.whl size=4209 sha256=e3b88fff1a57fc1b8dcc09f393b3251db16506a051dcc89aac2fc2e5c025bfe3\n",
            "  Stored in directory: /root/.cache/pip/wheels/98/24/e9/6c225502948c629b01cc895f86406819281ef0da385f3eb669\n",
            "Successfully built googlesearch-python\n",
            "Installing collected packages: googlesearch-python\n",
            "Successfully installed googlesearch-python-1.2.3\n",
            "\u001b[2K     \u001b[90m━━━━━━━━━━━━━━━━━━━━━━━━━━━━━━━━━━━━━━━━\u001b[0m \u001b[32m794.4/794.4 kB\u001b[0m \u001b[31m8.7 MB/s\u001b[0m eta \u001b[36m0:00:00\u001b[0m\n",
            "\u001b[2K     \u001b[90m━━━━━━━━━━━━━━━━━━━━━━━━━━━━━━━━━━━━━━━━\u001b[0m \u001b[32m37.2/37.2 MB\u001b[0m \u001b[31m16.6 MB/s\u001b[0m eta \u001b[36m0:00:00\u001b[0m\n",
            "\u001b[2K     \u001b[90m━━━━━━━━━━━━━━━━━━━━━━━━━━━━━━━━━━━━━━━━\u001b[0m \u001b[32m1.5/1.5 MB\u001b[0m \u001b[31m44.9 MB/s\u001b[0m eta \u001b[36m0:00:00\u001b[0m\n",
            "\u001b[2K     \u001b[90m━━━━━━━━━━━━━━━━━━━━━━━━━━━━━━━━━━━━━━━━\u001b[0m \u001b[32m192.4/192.4 kB\u001b[0m \u001b[31m16.2 MB/s\u001b[0m eta \u001b[36m0:00:00\u001b[0m\n",
            "\u001b[2K     \u001b[90m━━━━━━━━━━━━━━━━━━━━━━━━━━━━━━━━━━━━━━━━\u001b[0m \u001b[32m45.8/45.8 kB\u001b[0m \u001b[31m3.1 MB/s\u001b[0m eta \u001b[36m0:00:00\u001b[0m\n",
            "\u001b[2K     \u001b[90m━━━━━━━━━━━━━━━━━━━━━━━━━━━━━━━━━━━━━━━━\u001b[0m \u001b[32m613.2/613.2 kB\u001b[0m \u001b[31m34.4 MB/s\u001b[0m eta \u001b[36m0:00:00\u001b[0m\n",
            "\u001b[2K     \u001b[90m━━━━━━━━━━━━━━━━━━━━━━━━━━━━━━━━━━━━━━━━\u001b[0m \u001b[32m49.4/49.4 kB\u001b[0m \u001b[31m4.6 MB/s\u001b[0m eta \u001b[36m0:00:00\u001b[0m\n",
            "\u001b[?25h"
          ]
        }
      ],
      "source": [
        "!pip install -U duckduckgo_search\n",
        "!python3 -m pip install googlesearch-python\n",
        "!pip install -q langchain playwright beautifulsoup4 html2text"
      ]
    },
    {
      "cell_type": "code",
      "source": [
        "search_query = 'Sea food near Googleplex\\n1600 Amphitheatre Parkway\\nMountain View, CA 94043\\nUnited States'"
      ],
      "metadata": {
        "id": "_xO_BVC96PPv"
      },
      "execution_count": 10,
      "outputs": []
    },
    {
      "cell_type": "code",
      "source": [
        "google_search_results = []\n",
        "structured_response = []"
      ],
      "metadata": {
        "id": "QQVHopiz6d6m"
      },
      "execution_count": 11,
      "outputs": []
    },
    {
      "cell_type": "code",
      "source": [
        "number_of_results = 2\n",
        "from googlesearch import search\n",
        "results = search(search_query, lang=\"en\", num_results=number_of_results)"
      ],
      "metadata": {
        "id": "iOTxbNf46fYZ"
      },
      "execution_count": 12,
      "outputs": []
    },
    {
      "cell_type": "code",
      "source": [
        "for result in results:\n",
        "  if not result.startswith(\"https://www.tripadvisor.com\"):\n",
        "    google_search_results.append(result)"
      ],
      "metadata": {
        "id": "MgCGU88Q6haa"
      },
      "execution_count": 13,
      "outputs": []
    },
    {
      "cell_type": "code",
      "source": [
        "google_search_results"
      ],
      "metadata": {
        "colab": {
          "base_uri": "https://localhost:8080/"
        },
        "id": "l54t6s1xp_WC",
        "outputId": "3ab92ab7-30d3-41bb-c0a8-201dbc79adb2"
      },
      "execution_count": 14,
      "outputs": [
        {
          "output_type": "execute_result",
          "data": {
            "text/plain": [
              "['https://www.yelp.com/search?cflt=seafood&find_loc=Mountain+View%2C+CA+94043',\n",
              " 'https://www.yelp.com/search?cflt=seafood&find_loc=Mountain+View%2C+CA',\n",
              " 'https://www.opentable.com/cuisine/best-seafood-restaurants-mountain-view-ca']"
            ]
          },
          "metadata": {},
          "execution_count": 14
        }
      ]
    },
    {
      "cell_type": "code",
      "source": [
        "import html2text\n",
        "from langchain.document_loaders import AsyncHtmlLoader\n",
        "from langchain.document_transformers import Html2TextTransformer\n",
        "\n",
        "async def do_webscraping(link):\n",
        "    try:\n",
        "        urls = [link]\n",
        "        loader = AsyncHtmlLoader(urls)\n",
        "        docs = loader.load()\n",
        "\n",
        "        html2text_transformer = Html2TextTransformer()\n",
        "        docs_transformed = html2text_transformer.transform_documents(docs)\n",
        "\n",
        "        if docs_transformed != None and len(docs_transformed) > 0:\n",
        "            metadata = docs_transformed[0].metadata\n",
        "            title = metadata.get('title', '')\n",
        "            return {\n",
        "                'summary': docs_transformed[0].page_content,\n",
        "                'title': title,\n",
        "                'metadata': metadata,\n",
        "                'clean_content': html2text.html2text(docs_transformed[0].page_content)\n",
        "            }\n",
        "        else:\n",
        "            return None\n",
        "\n",
        "    except Exception as e:\n",
        "        print(f\"An unexpected error occurred: {e}\")\n",
        "        return None"
      ],
      "metadata": {
        "id": "zR0KGPUz6nlh"
      },
      "execution_count": 15,
      "outputs": []
    },
    {
      "cell_type": "code",
      "execution_count": 16,
      "metadata": {
        "colab": {
          "base_uri": "https://localhost:8080/"
        },
        "id": "aZhF09OZTbXm",
        "outputId": "4b0bc8bf-5cf6-45d1-ee0f-6c4d6b18d6b0"
      },
      "outputs": [
        {
          "output_type": "stream",
          "name": "stdout",
          "text": [
            "https://www.yelp.com/search?cflt=seafood&find_loc=Mountain+View%2C+CA+94043\n"
          ]
        },
        {
          "output_type": "stream",
          "name": "stderr",
          "text": [
            "Fetching pages: 100%|##########| 1/1 [00:02<00:00,  2.36s/it]\n"
          ]
        },
        {
          "output_type": "stream",
          "name": "stdout",
          "text": [
            "https://www.yelp.com/search?cflt=seafood&find_loc=Mountain+View%2C+CA\n"
          ]
        },
        {
          "output_type": "stream",
          "name": "stderr",
          "text": [
            "Fetching pages: 100%|##########| 1/1 [00:02<00:00,  2.13s/it]\n"
          ]
        },
        {
          "output_type": "stream",
          "name": "stdout",
          "text": [
            "https://www.opentable.com/cuisine/best-seafood-restaurants-mountain-view-ca\n"
          ]
        },
        {
          "output_type": "stream",
          "name": "stderr",
          "text": [
            "Fetching pages: 100%|##########| 1/1 [00:01<00:00,  1.59s/it]\n"
          ]
        }
      ],
      "source": [
        "for link in google_search_results:\n",
        "  print(link)\n",
        "  response = await do_webscraping(link)\n",
        "  if response != None:\n",
        "    structured_response.append(response)"
      ]
    },
    {
      "cell_type": "code",
      "execution_count": 17,
      "metadata": {
        "id": "3FwrBCziTxPU",
        "colab": {
          "base_uri": "https://localhost:8080/"
        },
        "outputId": "7403e7eb-4086-493a-d4a6-8f374618b23f"
      },
      "outputs": [
        {
          "output_type": "execute_result",
          "data": {
            "text/plain": [
              "[{'summary': 'Yelp\\n\\nYelp for Business\\n\\nWrite a Review\\n\\nLog InSign Up\\n\\nRestaurants\\n\\nDelivery\\n\\nBurgers\\n\\nChinese\\n\\nItalian\\n\\nReservations\\n\\nJapanese\\n\\nMexican\\n\\nThai\\n\\nHome Services\\n\\nContractors\\n\\nElectricians\\n\\nHome Cleaners\\n\\nHVAC\\n\\nLandscaping\\n\\nLocksmiths\\n\\nMovers\\n\\nPlumbers\\n\\nAuto Services\\n\\nAuto Repair\\n\\nAuto Detailing\\n\\nBody Shops\\n\\nCar Wash\\n\\nCar Dealers\\n\\nOil Change\\n\\nParking\\n\\nTowing\\n\\nMore\\n\\nDry Cleaning\\n\\nPhone Repair\\n\\nBars\\n\\nNightlife\\n\\nHair Salons\\n\\nGyms\\n\\nMassage\\n\\nShopping\\n\\nMore\\n\\nFilters\\n\\n$$$$$$$$$$\\n\\nSuggested\\n\\nOpen Now\\n\\n\\\\--:--\\n\\nOffers Delivery\\n\\nReservations\\n\\nFree Wi-Fi\\n\\nOutdoor Seating\\n\\nDogs Allowed\\n\\nFeatures\\n\\nOffers Takeout\\n\\nGood for Groups\\n\\nGood for Dinner\\n\\nGood for Kids\\n\\nSee all\\n\\nDistance\\n\\nBird\\'s-eye View\\n\\nDriving (5 mi.)\\n\\nBiking (2 mi.)\\n\\nWalking (1 mi.)\\n\\nWithin 4 blocks\\n\\nYelpRestaurantsSeafood\\n\\n# The Best 10 Seafood Restaurants near Mountain View, CA 94043\\n\\nSort:Recommended\\n\\nAll\\n\\nPrice\\n\\nOpen NowOffers DeliveryReservationsFree Wi-FiOutdoor SeatingDogs Allowed\\n\\n  *   *   * ### 1. Limón\\n\\n4.0 (266 reviews)\\n\\nPeruvianSeafoodCocktail Bars\\n\\nThis is a placeholder\\n\\n“Everything we ate was delicious. Love the menu- tons of mouth-watering\\nseafood and land animal...” more\\n\\n    * Delivery\\n\\nTakeout\\n\\nFind a Table\\n\\n  * ### 2. Pacific Catch\\n\\n3.8 (1k reviews)\\n\\nSeafoodTacosSushi Bars$$\\n\\nThis is a placeholder\\n\\nOutdoor seating\\n\\nTakes reservations\\n\\n“Personally, I really enjoyed the poke, the Korean-style seafood pancake\\n(again, better at the...” more\\n\\n    * Delivery\\n\\nTakeout\\n\\nStart Order\\n\\n  * ### 3. The Sea by Alexander’s Steakhouse\\n\\n4.1 (1.3k reviews)\\n\\nSeafoodSteakhousesBars$$$$\\n\\nThis is a placeholder\\n\\n“All of the seafood was very fresh, with particularly sweet jumbo shrimp.”\\nmore\\n\\n    * Outdoor seating\\n\\nTakeout\\n\\n  * ### 4. Cap’t Loui\\n\\n4.5 (570 reviews)\\n\\nSeafoodFish & ChipsCajun/Creole$$\\n\\nThis is a placeholder\\n\\nFree parking\\n\\nLarge group friendly\\n\\n“If you order a certain amount of pounds of seafood, you can get extra sides\\nfor free.” more\\n\\n    * Outdoor seating\\n\\nDelivery\\n\\nTakeout\\n\\nStart Order\\n\\n  * ### 5. Rustic House Oyster Bar and Grill - Los Altos\\n\\n4.0 (642 reviews)\\n\\nSeafoodBarsAmerican$$\\n\\nThis is a placeholder\\n\\n“The seafood was delicious and competently prepared: a generously portioned\\ngrouper special on...” more\\n\\n    * Outdoor seating\\n\\nDelivery\\n\\nTakeout\\n\\nStart Order\\n\\n  * ### 6. The City Fish\\n\\n4.4 (1.1k reviews)\\n\\nSandwichesSeafoodFish & Chips$$\\n\\nThis is a placeholder\\n\\n“The reason why I love them is simple - big portions of quality seafood at a\\nreasonable price.” more\\n\\n    * Outdoor seating\\n\\nDelivery\\n\\nTakeout\\n\\nStart Order\\n\\n  * ### 7. King’s Fish House - San Jose\\n\\n4.2 (1.9k reviews)\\n\\nSeafood$$$West San Jose\\n\\nThis is a placeholder\\n\\n“The tartare sauce has great balance of spicy and seafood taste to it, I\\nreally like it. 3.)...” more\\n\\n    * Outdoor seating\\n\\nDelivery\\n\\nTakeout\\n\\n  * ### 8. La Marea of the Sea\\n\\n4.7 (45 reviews)\\n\\nSeafoodFood Stands$\\n\\nThis is a placeholder\\n\\n“The oysters were pretty fresh. They have great condiments to compliment the\\nseafood.” more\\n\\n    * Delivery\\n\\n  * ### 9. Supreme Crab\\n\\n3.7 (262 reviews)\\n\\nSeafoodCajun/Creole\\n\\nThis is a placeholder\\n\\nSports on TV\\n\\nLarge group friendly\\n\\n“Supreme Crab, I save my left over sauce to use on other things and I\\'m a\\nseafood snob.” more\\n\\n    * Outdoor seating\\n\\nDelivery\\n\\nTakeout\\n\\nFind a Table\\n\\n  * ### 10. Gochi - Mountain View\\n\\n4.1 (556 reviews)\\n\\nJapaneseWine BarsSeafood$$$\\n\\nThis is a placeholder\\n\\n    * Live wait time: 36 - 51 mins\\n\\n“Fresh seafood. Highly recommend. Customer service is top notch. Thank you\\nGochi for the great...” more\\n\\n    * Outdoor seating\\n\\nDelivery\\n\\nTakeout\\n\\nFind a Table\\n\\n  * 1\\n\\n2\\n\\n3\\n\\n4\\n\\n5\\n\\n6\\n\\n7\\n\\n8\\n\\n9\\n\\n1 of 22\\n\\n  * ## Can\\'t find the business?\\n\\nAdding a business to Yelp is always free.\\n\\nAdd business\\n\\nGot search feedback? Help us improve.\\n\\n  * ## Related Searches in Mountain View, CA\\n\\nBeef Wellington\\n\\nCioppino\\n\\nCrab\\n\\nDinner Reservations\\n\\nFish Tacos\\n\\nMichelada\\n\\nSeafood Boil\\n\\nSeafood Buffet\\n\\nSteakhouses\\n\\n$1 Oysters\\n\\nCajun\\n\\nCajun Seafood Boil\\n\\nCeviche\\n\\nClam Chowder\\n\\nCrab Legs\\n\\nCrawfish\\n\\nFish\\n\\nFish House\\n\\nLobster Roll\\n\\nMariscos\\n\\nOysters\\n\\nRestaurants With a View\\n\\nSalmon\\n\\nScallops\\n\\nAnniversary Dinner\\n\\nCajun Seafood\\n\\nCalamari\\n\\nCrab Boil\\n\\nCrab Sandwich\\n\\nFish & Chips\\n\\nHip New Restaurants\\n\\nOyster Bars\\n\\nRestaurants With Private Rooms\\n\\nSashimi\\n\\nChain Restaurants\\n\\nCrawfish Boil\\n\\nDungeness Crab\\n\\nFine Dining\\n\\nFish Market\\n\\nGrilled Fish\\n\\nMexican Seafood\\n\\nOyster Happy Hour\\n\\nPrime Rib\\n\\nSoft Shell Crab\\n\\nValentines Day Dinner\\n\\n## Trending Searches in Mountain View, CA\\n\\nAsian Supermarket\\n\\nBuy Fresh Oysters\\n\\nCajun Seafood Boil\\n\\nCandy Stores\\n\\nCatfish\\n\\nCaviar\\n\\nCheese Shops\\n\\nChristmas Brunch\\n\\nClam Chowder Bread Bowl\\n\\nDim Sum\\n\\nDry Aged Steak\\n\\nFishmonger\\n\\nFruit Cake\\n\\nGerman Bakery\\n\\nGingerbread Cookies\\n\\nGourmet Grocery Stores\\n\\nGumbo\\n\\nHot Chocolate\\n\\nLive Lobster\\n\\nPopcorn Shops\\n\\nSashimi\\n\\nSeafood Markets\\n\\nSmoked Salmon\\n\\nSpecialty Food\\n\\nSteak\\n\\nSushi Lunch Special\\n\\nSushi Party Tray\\n\\nWagyu Steak\\n\\nWhiskey Store\\n\\nYule Log Cake\\n\\n## Related Articles\\n\\nTop Buffets in California\\n\\nTop Cajun/Creole in California\\n\\nTop Dim Sum Restaurants in California\\n\\nTop Fish & Chips in California\\n\\nTop Peruvian Restaurants in California\\n\\nTop Restaurants in California\\n\\nTop Seafood Restaurants in California\\n\\nTop Soul Food Restaurants in California\\n\\nTop Steakhouses in California\\n\\nTop Buffets in the US\\n\\nTop Cajun/Creole in the US\\n\\nTop Dim Sum Restaurants in the US\\n\\nTop Fish & Chips in the US\\n\\nTop Peruvian Restaurants in the US\\n\\nTop Restaurants in the US\\n\\nTop Seafood Restaurants in the US\\n\\nTop Soul Food Restaurants in the US\\n\\nTop Steakhouses in the US\\n\\n  *   * ## Search seafood in popular locations\\n\\n### Nearby cities\\n\\nCampbell, CA\\n\\nCupertino, CA\\n\\nLos Altos, CA\\n\\nLos Gatos, CA\\n\\nMilpitas, CA\\n\\nPalo Alto, CA\\n\\nSan Jose, CA\\n\\nSanta Clara, CA\\n\\nSaratoga, CA\\n\\nSunnyvale, CA\\n\\n### More\\n\\nLos Angeles, CA\\n\\nNapa, CA\\n\\nSacramento, CA\\n\\nSan Diego, CA\\n\\nSan Francisco, CA\\n\\nSan Luis Obispo, CA\\n\\nSanta Barbara, CA\\n\\nSanta Rosa, CA\\n\\nStockton, CA\\n\\n  *   *   *   * ## Frequently Asked Questions and Answers\\n\\nWhat are the best seafood takeout restaurants?\\n\\nThese are the best seafood takeout restaurants near Mountain View, CA:\\n\\n    * Cap\\'t Loui\\n\\n    * The City Fish\\n\\n    * King\\'s Fish House - San Jose\\n\\n    * Pacific Catch\\n\\n    * Forthright Oyster Bar & Kitchen\\n\\nPeople also liked: Cheap Seafood Restaurants, Seafood Restaurants Offering\\nReservations\\n\\nWhat did people search for similar to seafood near Mountain View, CA?\\n\\nPeople also searched for these near Mountain View:\\n\\n    * Steak\\n\\n    * Seafood Markets\\n\\n    * Dinner\\n\\n    * Sushi\\n\\n    * Fried Fish\\n\\nSee more seafood near Mountain View.\\n\\nWhat are people saying about seafood restaurants near Mountain View, CA?\\n\\nThis is a review for seafood restaurants near Mountain View, CA:\\n\\n\"Came here for the first time, a bit of a hole in the wall, but prob one of\\nthe best finds! We ordered the clam chowder, fried seafood platter, steamed\\nclams and seafood pasta. The clam chowder was decent and so was the fried\\nseafood platter, but the steamed clams were absolutely the best! I think I\\nfound my new favorite seafood spot. The portions are huge and decently priced,\\nabout $18-20 per entree. Apparently this is a chain with three different\\nlocations. Will definitely be back for the clams!\"\\n\\nSee more reviews for this business.\\n\\nWhat are the best cheap seafood restaurants?\\n\\nThese are the best cheap seafood restaurants near Mountain View, CA:\\n\\n    * Cap\\'t Loui\\n\\n    * The City Fish\\n\\n    * Pacific Catch\\n\\n    * Forthright Oyster Bar & Kitchen\\n\\n    * Rustic House Oyster Bar and Grill - Los Altos\\n\\nPeople also liked: Seafood Takeout Restaurants, Seafood Restaurants Offering\\nReservations\\n\\nWhat are the best seafood restaurants offering reservations?\\n\\nThese are the best seafood restaurants offering reservations near Mountain\\nView, CA:\\n\\n    * King\\'s Fish House - San Jose\\n\\n    * Pacific Catch\\n\\n    * Forthright Oyster Bar & Kitchen\\n\\n    * The Sea by Alexander\\'s Steakhouse\\n\\n    * Rustic House Oyster Bar and Grill - Los Altos\\n\\nPeople also liked: Seafood Takeout Restaurants, Cheap Seafood Restaurants\\n\\nAbout\\n\\n  * About Yelp\\n  * Careers\\n  * Press\\n  * Investor Relations\\n  * Trust & Safety\\n  * Content Guidelines\\n  * Accessibility Statement\\n  * Terms of Service\\n  * Privacy Policy\\n  * Ad Choices\\n  * Your Privacy Choices\\n\\nDiscover\\n\\n  * Yelp Project Cost Guides\\n  * Collections\\n  * Talk\\n  * Events\\n  * Yelp Blog\\n  * Support\\n  * Yelp Mobile\\n  * Developers\\n  * RSS\\n\\nYelp for Business\\n\\n  * Yelp for Business\\n  * Business Owner Login\\n  * Claim your Business Page\\n  * Advertise on Yelp\\n  * Yelp for Restaurant Owners\\n  * Table Management\\n  * Business Success Stories\\n  * Business Support\\n  * Yelp Blog for Business\\n\\nLanguages\\n\\nEnglish\\n\\nCountries\\n\\nUnited States\\n\\n  * About\\n\\n  * Blog\\n\\n  * Support\\n\\n  * Terms\\n\\n  * Privacy Policy\\n\\n  * Your Privacy Choices\\n\\nCopyright © 2004–2023 Yelp Inc. Yelp, ,  and related marks are registered\\ntrademarks of Yelp.\\n\\nSome Data By Acxiom\\n\\n',\n",
              "  'title': 'THE BEST 10 Seafood Restaurants near MOUNTAIN VIEW, CA 94043 - Last Updated December 2023 - Yelp',\n",
              "  'metadata': {'source': 'https://www.yelp.com/search?cflt=seafood&find_loc=Mountain+View%2C+CA+94043',\n",
              "   'title': 'THE BEST 10 Seafood Restaurants near MOUNTAIN VIEW, CA 94043 - Last Updated December 2023 - Yelp',\n",
              "   'description': \"Best Seafood in Mountain View, CA 94043 - Limón, Pacific Catch, The Sea by Alexander's Steakhouse, Cap't Loui, Rustic House Oyster Bar and Grill - Los Altos, The City Fish, King's Fish House - San Jose, La Marea of the Sea, Supreme Crab, Gochi - Mountain View\",\n",
              "   'language': 'en-US'},\n",
              "  'clean_content': 'Yelp Yelp for Business Write a Review Log InSign Up Restaurants Delivery\\nBurgers Chinese Italian Reservations Japanese Mexican Thai Home Services\\nContractors Electricians Home Cleaners HVAC Landscaping Locksmiths Movers\\nPlumbers Auto Services Auto Repair Auto Detailing Body Shops Car Wash Car\\nDealers Oil Change Parking Towing More Dry Cleaning Phone Repair Bars\\nNightlife Hair Salons Gyms Massage Shopping More Filters $$$$$$$$$$ Suggested\\nOpen Now \\\\\\\\--:-- Offers Delivery Reservations Free Wi-Fi Outdoor Seating Dogs\\nAllowed Features Offers Takeout Good for Groups Good for Dinner Good for Kids\\nSee all Distance Bird\\'s-eye View Driving (5 mi.) Biking (2 mi.) Walking (1\\nmi.) Within 4 blocks YelpRestaurantsSeafood # The Best 10 Seafood Restaurants\\nnear Mountain View, CA 94043 Sort:Recommended All Price Open NowOffers\\nDeliveryReservationsFree Wi-FiOutdoor SeatingDogs Allowed * * * ### 1. Limón\\n4.0 (266 reviews) PeruvianSeafoodCocktail Bars This is a placeholder\\n“Everything we ate was delicious. Love the menu- tons of mouth-watering\\nseafood and land animal...” more * Delivery Takeout Find a Table * ### 2.\\nPacific Catch 3.8 (1k reviews) SeafoodTacosSushi Bars$$ This is a placeholder\\nOutdoor seating Takes reservations “Personally, I really enjoyed the poke, the\\nKorean-style seafood pancake (again, better at the...” more * Delivery Takeout\\nStart Order * ### 3. The Sea by Alexander’s Steakhouse 4.1 (1.3k reviews)\\nSeafoodSteakhousesBars$$$$ This is a placeholder “All of the seafood was very\\nfresh, with particularly sweet jumbo shrimp.” more * Outdoor seating Takeout *\\n### 4. Cap’t Loui 4.5 (570 reviews) SeafoodFish & ChipsCajun/Creole$$ This is\\na placeholder Free parking Large group friendly “If you order a certain amount\\nof pounds of seafood, you can get extra sides for free.” more * Outdoor\\nseating Delivery Takeout Start Order * ### 5. Rustic House Oyster Bar and\\nGrill - Los Altos 4.0 (642 reviews) SeafoodBarsAmerican$$ This is a\\nplaceholder “The seafood was delicious and competently prepared: a generously\\nportioned grouper special on...” more * Outdoor seating Delivery Takeout Start\\nOrder * ### 6. The City Fish 4.4 (1.1k reviews) SandwichesSeafoodFish &\\nChips$$ This is a placeholder “The reason why I love them is simple - big\\nportions of quality seafood at a reasonable price.” more * Outdoor seating\\nDelivery Takeout Start Order * ### 7. King’s Fish House - San Jose 4.2 (1.9k\\nreviews) Seafood$$$West San Jose This is a placeholder “The tartare sauce has\\ngreat balance of spicy and seafood taste to it, I really like it. 3.)...” more\\n* Outdoor seating Delivery Takeout * ### 8. La Marea of the Sea 4.7 (45\\nreviews) SeafoodFood Stands$ This is a placeholder “The oysters were pretty\\nfresh. They have great condiments to compliment the seafood.” more * Delivery\\n* ### 9. Supreme Crab 3.7 (262 reviews) SeafoodCajun/Creole This is a\\nplaceholder Sports on TV Large group friendly “Supreme Crab, I save my left\\nover sauce to use on other things and I\\'m a seafood snob.” more * Outdoor\\nseating Delivery Takeout Find a Table * ### 10. Gochi - Mountain View 4.1 (556\\nreviews) JapaneseWine BarsSeafood$$$ This is a placeholder * Live wait time:\\n36 - 51 mins “Fresh seafood. Highly recommend. Customer service is top notch.\\nThank you Gochi for the great...” more * Outdoor seating Delivery Takeout Find\\na Table * 1 2 3 4 5 6 7 8 9 1 of 22 * ## Can\\'t find the business? Adding a\\nbusiness to Yelp is always free. Add business Got search feedback? Help us\\nimprove. * ## Related Searches in Mountain View, CA Beef Wellington Cioppino\\nCrab Dinner Reservations Fish Tacos Michelada Seafood Boil Seafood Buffet\\nSteakhouses $1 Oysters Cajun Cajun Seafood Boil Ceviche Clam Chowder Crab Legs\\nCrawfish Fish Fish House Lobster Roll Mariscos Oysters Restaurants With a View\\nSalmon Scallops Anniversary Dinner Cajun Seafood Calamari Crab Boil Crab\\nSandwich Fish & Chips Hip New Restaurants Oyster Bars Restaurants With Private\\nRooms Sashimi Chain Restaurants Crawfish Boil Dungeness Crab Fine Dining Fish\\nMarket Grilled Fish Mexican Seafood Oyster Happy Hour Prime Rib Soft Shell\\nCrab Valentines Day Dinner ## Trending Searches in Mountain View, CA Asian\\nSupermarket Buy Fresh Oysters Cajun Seafood Boil Candy Stores Catfish Caviar\\nCheese Shops Christmas Brunch Clam Chowder Bread Bowl Dim Sum Dry Aged Steak\\nFishmonger Fruit Cake German Bakery Gingerbread Cookies Gourmet Grocery Stores\\nGumbo Hot Chocolate Live Lobster Popcorn Shops Sashimi Seafood Markets Smoked\\nSalmon Specialty Food Steak Sushi Lunch Special Sushi Party Tray Wagyu Steak\\nWhiskey Store Yule Log Cake ## Related Articles Top Buffets in California Top\\nCajun/Creole in California Top Dim Sum Restaurants in California Top Fish &\\nChips in California Top Peruvian Restaurants in California Top Restaurants in\\nCalifornia Top Seafood Restaurants in California Top Soul Food Restaurants in\\nCalifornia Top Steakhouses in California Top Buffets in the US Top\\nCajun/Creole in the US Top Dim Sum Restaurants in the US Top Fish & Chips in\\nthe US Top Peruvian Restaurants in the US Top Restaurants in the US Top\\nSeafood Restaurants in the US Top Soul Food Restaurants in the US Top\\nSteakhouses in the US * * ## Search seafood in popular locations ### Nearby\\ncities Campbell, CA Cupertino, CA Los Altos, CA Los Gatos, CA Milpitas, CA\\nPalo Alto, CA San Jose, CA Santa Clara, CA Saratoga, CA Sunnyvale, CA ### More\\nLos Angeles, CA Napa, CA Sacramento, CA San Diego, CA San Francisco, CA San\\nLuis Obispo, CA Santa Barbara, CA Santa Rosa, CA Stockton, CA * * * * ##\\nFrequently Asked Questions and Answers What are the best seafood takeout\\nrestaurants? These are the best seafood takeout restaurants near Mountain\\nView, CA: * Cap\\'t Loui * The City Fish * King\\'s Fish House - San Jose *\\nPacific Catch * Forthright Oyster Bar & Kitchen People also liked: Cheap\\nSeafood Restaurants, Seafood Restaurants Offering Reservations What did people\\nsearch for similar to seafood near Mountain View, CA? People also searched for\\nthese near Mountain View: * Steak * Seafood Markets * Dinner * Sushi * Fried\\nFish See more seafood near Mountain View. What are people saying about seafood\\nrestaurants near Mountain View, CA? This is a review for seafood restaurants\\nnear Mountain View, CA: \"Came here for the first time, a bit of a hole in the\\nwall, but prob one of the best finds! We ordered the clam chowder, fried\\nseafood platter, steamed clams and seafood pasta. The clam chowder was decent\\nand so was the fried seafood platter, but the steamed clams were absolutely\\nthe best! I think I found my new favorite seafood spot. The portions are huge\\nand decently priced, about $18-20 per entree. Apparently this is a chain with\\nthree different locations. Will definitely be back for the clams!\" See more\\nreviews for this business. What are the best cheap seafood restaurants? These\\nare the best cheap seafood restaurants near Mountain View, CA: * Cap\\'t Loui *\\nThe City Fish * Pacific Catch * Forthright Oyster Bar & Kitchen * Rustic House\\nOyster Bar and Grill - Los Altos People also liked: Seafood Takeout\\nRestaurants, Seafood Restaurants Offering Reservations What are the best\\nseafood restaurants offering reservations? These are the best seafood\\nrestaurants offering reservations near Mountain View, CA: * King\\'s Fish House\\n- San Jose * Pacific Catch * Forthright Oyster Bar & Kitchen * The Sea by\\nAlexander\\'s Steakhouse * Rustic House Oyster Bar and Grill - Los Altos People\\nalso liked: Seafood Takeout Restaurants, Cheap Seafood Restaurants About *\\nAbout Yelp * Careers * Press * Investor Relations * Trust & Safety * Content\\nGuidelines * Accessibility Statement * Terms of Service * Privacy Policy * Ad\\nChoices * Your Privacy Choices Discover * Yelp Project Cost Guides *\\nCollections * Talk * Events * Yelp Blog * Support * Yelp Mobile * Developers *\\nRSS Yelp for Business * Yelp for Business * Business Owner Login * Claim your\\nBusiness Page * Advertise on Yelp * Yelp for Restaurant Owners * Table\\nManagement * Business Success Stories * Business Support * Yelp Blog for\\nBusiness Languages English Countries United States * About * Blog * Support *\\nTerms * Privacy Policy * Your Privacy Choices Copyright © 2004–2023 Yelp Inc.\\nYelp, , and related marks are registered trademarks of Yelp. Some Data By\\nAcxiom\\n\\n'},\n",
              " {'summary': 'Yelp\\n\\nYelp for Business\\n\\nWrite a Review\\n\\nLog InSign Up\\n\\nRestaurants\\n\\nDelivery\\n\\nBurgers\\n\\nChinese\\n\\nItalian\\n\\nReservations\\n\\nJapanese\\n\\nMexican\\n\\nThai\\n\\nHome Services\\n\\nContractors\\n\\nElectricians\\n\\nHome Cleaners\\n\\nHVAC\\n\\nLandscaping\\n\\nLocksmiths\\n\\nMovers\\n\\nPlumbers\\n\\nAuto Services\\n\\nAuto Repair\\n\\nAuto Detailing\\n\\nBody Shops\\n\\nCar Wash\\n\\nCar Dealers\\n\\nOil Change\\n\\nParking\\n\\nTowing\\n\\nMore\\n\\nDry Cleaning\\n\\nPhone Repair\\n\\nBars\\n\\nNightlife\\n\\nHair Salons\\n\\nGyms\\n\\nMassage\\n\\nShopping\\n\\nMore\\n\\nFilters\\n\\n$$$$$$$$$$\\n\\nSuggested\\n\\nOpen Now\\n\\n\\\\--:--\\n\\nOffers Delivery\\n\\nReservations\\n\\nFree Wi-Fi\\n\\nOutdoor Seating\\n\\nDogs Allowed\\n\\nFeatures\\n\\nOffers Takeout\\n\\nGood for Groups\\n\\nGood for Dinner\\n\\nGood for Kids\\n\\nSee all\\n\\nCities\\n\\nSee all\\n\\nDistance\\n\\nBird\\'s-eye View\\n\\nDriving (5 mi.)\\n\\nBiking (2 mi.)\\n\\nWalking (1 mi.)\\n\\nWithin 4 blocks\\n\\nYelpRestaurantsSeafood\\n\\n# Top 10 Best Seafood Near Mountain View, California\\n\\nSort:Recommended\\n\\nAll\\n\\nPrice\\n\\nOpen NowOffers DeliveryReservationsFree Wi-FiOutdoor SeatingDogs Allowed\\n\\n  *   *   * ### 1. Limón\\n\\n4.0 (266 reviews)\\n\\nPeruvianSeafoodCocktail Bars\\n\\nThis is a placeholder\\n\\n“Everything we ate was delicious. Love the menu- tons of mouth-watering\\nseafood and land animal...” more\\n\\n    * Delivery\\n\\nTakeout\\n\\nFind a Table\\n\\n  * ### 2. Pacific Catch\\n\\n3.8 (1k reviews)\\n\\nSeafoodTacosSushi Bars$$\\n\\nThis is a placeholder\\n\\nOutdoor seating\\n\\nTakes reservations\\n\\n“Personally, I really enjoyed the poke, the Korean-style seafood pancake\\n(again, better at the...” more\\n\\n    * Delivery\\n\\nTakeout\\n\\nStart Order\\n\\n  * ### 3. Cap’t Loui\\n\\n4.5 (570 reviews)\\n\\nSeafoodFish & ChipsCajun/Creole$$\\n\\nThis is a placeholder\\n\\nFree parking\\n\\nLarge group friendly\\n\\n“If you order a certain amount of pounds of seafood, you can get extra sides\\nfor free.” more\\n\\n    * Outdoor seating\\n\\nDelivery\\n\\nTakeout\\n\\nStart Order\\n\\n  * ### 4. Rustic House Oyster Bar and Grill - Los Altos\\n\\n4.0 (642 reviews)\\n\\nSeafoodBarsAmerican$$\\n\\nThis is a placeholder\\n\\n“The seafood was delicious and competently prepared: a generously portioned\\ngrouper special on...” more\\n\\n    * Outdoor seating\\n\\nDelivery\\n\\nTakeout\\n\\nStart Order\\n\\n  * ### 5. The City Fish\\n\\n4.4 (1.1k reviews)\\n\\nSandwichesSeafoodFish & Chips$$\\n\\nThis is a placeholder\\n\\n“The reason why I love them is simple - big portions of quality seafood at a\\nreasonable price.” more\\n\\n    * Outdoor seating\\n\\nDelivery\\n\\nTakeout\\n\\nStart Order\\n\\n  * ### 6. La Marea of the Sea\\n\\n4.7 (45 reviews)\\n\\nSeafoodFood Stands$\\n\\nThis is a placeholder\\n\\n“The oysters were pretty fresh. They have great condiments to compliment the\\nseafood.” more\\n\\n    * Delivery\\n\\n  * ### 7. The Sea by Alexander’s Steakhouse\\n\\n4.1 (1.3k reviews)\\n\\nSeafoodSteakhousesBars$$$$\\n\\nThis is a placeholder\\n\\n“All of the seafood was very fresh, with particularly sweet jumbo shrimp.”\\nmore\\n\\n    * Outdoor seating\\n\\nTakeout\\n\\n  * ### 8. King’s Fish House - San Jose\\n\\n4.2 (1.9k reviews)\\n\\nSeafood$$$West San Jose\\n\\nThis is a placeholder\\n\\n“The tartare sauce has great balance of spicy and seafood taste to it, I\\nreally like it. 3.)...” more\\n\\n    * Outdoor seating\\n\\nDelivery\\n\\nTakeout\\n\\n  * ### 9. Gochi - Mountain View\\n\\n4.1 (556 reviews)\\n\\nJapaneseWine BarsSeafood$$$\\n\\nThis is a placeholder\\n\\n    * Live wait time: 36 - 51 mins\\n\\n“Fresh seafood. Highly recommend. Customer service is top notch. Thank you\\nGochi for the great...” more\\n\\n    * Outdoor seating\\n\\nDelivery\\n\\nTakeout\\n\\nFind a Table\\n\\n  * ### 10. Forthright Oyster Bar & Kitchen\\n\\n4.3 (1.2k reviews)\\n\\nSeafoodBreakfast & BrunchCocktail Bars$$West San Jose\\n\\nThis is a placeholder\\n\\n“We were pretty full off the appetizers but I really wanted to try the seafood\\npasta and I\\'m so happy...” more\\n\\n    * Outdoor seating\\n\\nDelivery\\n\\nTakeout\\n\\n  * 1\\n\\n2\\n\\n3\\n\\n4\\n\\n5\\n\\n6\\n\\n7\\n\\n8\\n\\n9\\n\\n1 of 24\\n\\n  * ## Can\\'t find the business?\\n\\nAdding a business to Yelp is always free.\\n\\nAdd business\\n\\nGot search feedback? Help us improve.\\n\\n  * ## Related Searches in Mountain View, CA\\n\\nBeef Wellington\\n\\nCioppino\\n\\nCrab\\n\\nDinner Reservations\\n\\nFish Tacos\\n\\nMichelada\\n\\nSeafood Boil\\n\\nSeafood Buffet\\n\\nSteakhouses\\n\\n$1 Oysters\\n\\nCajun\\n\\nCajun Seafood Boil\\n\\nCeviche\\n\\nClam Chowder\\n\\nCrab Legs\\n\\nCrawfish\\n\\nFish\\n\\nFish House\\n\\nLobster Roll\\n\\nMariscos\\n\\nOysters\\n\\nRestaurants With a View\\n\\nSalmon\\n\\nScallops\\n\\nAnniversary Dinner\\n\\nCajun Seafood\\n\\nCalamari\\n\\nCrab Boil\\n\\nCrab Sandwich\\n\\nFish & Chips\\n\\nHip New Restaurants\\n\\nOyster Bars\\n\\nRestaurants With Private Rooms\\n\\nSashimi\\n\\nChain Restaurants\\n\\nCrawfish Boil\\n\\nDungeness Crab\\n\\nFine Dining\\n\\nFish Market\\n\\nGrilled Fish\\n\\nMexican Seafood\\n\\nOyster Happy Hour\\n\\nPrime Rib\\n\\nSoft Shell Crab\\n\\nValentines Day Dinner\\n\\n## Trending Searches in Mountain View, CA\\n\\nAsian Supermarket\\n\\nBuy Fresh Oysters\\n\\nCajun Seafood Boil\\n\\nCandy Stores\\n\\nCatfish\\n\\nCaviar\\n\\nCheese Shops\\n\\nClam Chowder Bread Bowl\\n\\nDim Sum\\n\\nDry Aged Steak\\n\\nFishmonger\\n\\nFondue\\n\\nFruit Cake\\n\\nGerman Bakery\\n\\nGingerbread Cookies\\n\\nGourmet Grocery Stores\\n\\nGumbo\\n\\nItalian Grocery Stores\\n\\nLive Lobster\\n\\nPopcorn Shops\\n\\nPozole\\n\\nRestaurants Open on Christmas Day\\n\\nSashimi\\n\\nSeafood Markets\\n\\nSmoked Salmon\\n\\nSteak\\n\\nSushi Lunch Special\\n\\nSushi Party Tray\\n\\nWagyu Steak\\n\\nWhiskey Store\\n\\n## Related Articles\\n\\nTop Buffets in California\\n\\nTop Cajun/Creole in California\\n\\nTop Dim Sum Restaurants in California\\n\\nTop Fish & Chips in California\\n\\nTop Peruvian Restaurants in California\\n\\nTop Restaurants in California\\n\\nTop Seafood Restaurants in California\\n\\nTop Soul Food Restaurants in California\\n\\nTop Steakhouses in California\\n\\nTop Buffets in the US\\n\\nTop Cajun/Creole in the US\\n\\nTop Dim Sum Restaurants in the US\\n\\nTop Fish & Chips in the US\\n\\nTop Peruvian Restaurants in the US\\n\\nTop Restaurants in the US\\n\\nTop Seafood Restaurants in the US\\n\\nTop Soul Food Restaurants in the US\\n\\nTop Steakhouses in the US\\n\\n  *   * ## Search seafood in popular locations\\n\\n### Nearby cities\\n\\nCampbell, CA\\n\\nCupertino, CA\\n\\nLos Altos, CA\\n\\nLos Gatos, CA\\n\\nMilpitas, CA\\n\\nPalo Alto, CA\\n\\nSan Jose, CA\\n\\nSanta Clara, CA\\n\\nSaratoga, CA\\n\\nSunnyvale, CA\\n\\n### More\\n\\nLos Angeles, CA\\n\\nNapa, CA\\n\\nSacramento, CA\\n\\nSan Diego, CA\\n\\nSan Francisco, CA\\n\\nSan Luis Obispo, CA\\n\\nSanta Barbara, CA\\n\\nSanta Rosa, CA\\n\\nStockton, CA\\n\\n  *   *   *   * ## Frequently Asked Questions and Answers\\n\\nWhat are the best seafood takeout restaurants?\\n\\nThese are the best seafood takeout restaurants in Mountain View, CA:\\n\\n    * Cap\\'t Loui\\n\\n    * The City Fish\\n\\n    * King\\'s Fish House - San Jose\\n\\n    * Pacific Catch\\n\\n    * Forthright Oyster Bar & Kitchen\\n\\nPeople also liked: Cheap Seafood Restaurants, Seafood Restaurants Offering\\nReservations\\n\\nWhat did people search for similar to seafood in Mountain View, CA?\\n\\nPeople also searched for these in Mountain View:\\n\\n    * Steak\\n\\n    * Seafood Markets\\n\\n    * Dinner\\n\\n    * Sushi\\n\\n    * Fried Fish\\n\\nSee more seafood in Mountain View.\\n\\nWhat are people saying about seafood restaurants in Mountain View, CA?\\n\\nThis is a review for seafood restaurants in Mountain View, CA:\\n\\n\"Came here for the first time, a bit of a hole in the wall, but prob one of\\nthe best finds! We ordered the clam chowder, fried seafood platter, steamed\\nclams and seafood pasta. The clam chowder was decent and so was the fried\\nseafood platter, but the steamed clams were absolutely the best! I think I\\nfound my new favorite seafood spot. The portions are huge and decently priced,\\nabout $18-20 per entree. Apparently this is a chain with three different\\nlocations. Will definitely be back for the clams!\"\\n\\nSee more reviews for this business.\\n\\nWhat are the best cheap seafood restaurants?\\n\\nThese are the best cheap seafood restaurants in Mountain View, CA:\\n\\n    * Cap\\'t Loui\\n\\n    * The City Fish\\n\\n    * Pacific Catch\\n\\n    * Forthright Oyster Bar & Kitchen\\n\\n    * Rustic House Oyster Bar and Grill - Los Altos\\n\\nPeople also liked: Seafood Takeout Restaurants, Seafood Restaurants Offering\\nReservations\\n\\nWhat are the best seafood restaurants offering reservations?\\n\\nThese are the best seafood restaurants offering reservations in Mountain View,\\nCA:\\n\\n    * King\\'s Fish House - San Jose\\n\\n    * Pacific Catch\\n\\n    * Forthright Oyster Bar & Kitchen\\n\\n    * The Sea by Alexander\\'s Steakhouse\\n\\n    * Rustic House Oyster Bar and Grill - Los Altos\\n\\nPeople also liked: Seafood Takeout Restaurants, Cheap Seafood Restaurants\\n\\nAbout\\n\\n  * About Yelp\\n  * Careers\\n  * Press\\n  * Investor Relations\\n  * Trust & Safety\\n  * Content Guidelines\\n  * Accessibility Statement\\n  * Terms of Service\\n  * Privacy Policy\\n  * Ad Choices\\n  * Your Privacy Choices\\n\\nDiscover\\n\\n  * Yelp Project Cost Guides\\n  * Collections\\n  * Talk\\n  * Events\\n  * Yelp Blog\\n  * Support\\n  * Yelp Mobile\\n  * Developers\\n  * RSS\\n\\nYelp for Business\\n\\n  * Yelp for Business\\n  * Business Owner Login\\n  * Claim your Business Page\\n  * Advertise on Yelp\\n  * Yelp for Restaurant Owners\\n  * Table Management\\n  * Business Success Stories\\n  * Business Support\\n  * Yelp Blog for Business\\n\\nLanguages\\n\\nEnglish\\n\\nCountries\\n\\nUnited States\\n\\n  * About\\n\\n  * Blog\\n\\n  * Support\\n\\n  * Terms\\n\\n  * Privacy Policy\\n\\n  * Your Privacy Choices\\n\\nCopyright © 2004–2023 Yelp Inc. Yelp, ,  and related marks are registered\\ntrademarks of Yelp.\\n\\nSome Data By Acxiom\\n\\n',\n",
              "  'title': 'THE BEST 10 Seafood Restaurants in MOUNTAIN VIEW, CA - Last Updated December 2023 - Yelp',\n",
              "  'metadata': {'source': 'https://www.yelp.com/search?cflt=seafood&find_loc=Mountain+View%2C+CA',\n",
              "   'title': 'THE BEST 10 Seafood Restaurants in MOUNTAIN VIEW, CA - Last Updated December 2023 - Yelp',\n",
              "   'description': \"Best Seafood in Mountain View, CA - Limón, Pacific Catch, Cap't Loui, Rustic House Oyster Bar and Grill - Los Altos, The City Fish, La Marea of the Sea, The Sea by Alexander's Steakhouse, King's Fish House - San Jose, Gochi - Mountain View, Forthright Oyster Bar & Kitchen\",\n",
              "   'language': 'en-US'},\n",
              "  'clean_content': 'Yelp Yelp for Business Write a Review Log InSign Up Restaurants Delivery\\nBurgers Chinese Italian Reservations Japanese Mexican Thai Home Services\\nContractors Electricians Home Cleaners HVAC Landscaping Locksmiths Movers\\nPlumbers Auto Services Auto Repair Auto Detailing Body Shops Car Wash Car\\nDealers Oil Change Parking Towing More Dry Cleaning Phone Repair Bars\\nNightlife Hair Salons Gyms Massage Shopping More Filters $$$$$$$$$$ Suggested\\nOpen Now \\\\\\\\--:-- Offers Delivery Reservations Free Wi-Fi Outdoor Seating Dogs\\nAllowed Features Offers Takeout Good for Groups Good for Dinner Good for Kids\\nSee all Cities See all Distance Bird\\'s-eye View Driving (5 mi.) Biking (2 mi.)\\nWalking (1 mi.) Within 4 blocks YelpRestaurantsSeafood # Top 10 Best Seafood\\nNear Mountain View, California Sort:Recommended All Price Open NowOffers\\nDeliveryReservationsFree Wi-FiOutdoor SeatingDogs Allowed * * * ### 1. Limón\\n4.0 (266 reviews) PeruvianSeafoodCocktail Bars This is a placeholder\\n“Everything we ate was delicious. Love the menu- tons of mouth-watering\\nseafood and land animal...” more * Delivery Takeout Find a Table * ### 2.\\nPacific Catch 3.8 (1k reviews) SeafoodTacosSushi Bars$$ This is a placeholder\\nOutdoor seating Takes reservations “Personally, I really enjoyed the poke, the\\nKorean-style seafood pancake (again, better at the...” more * Delivery Takeout\\nStart Order * ### 3. Cap’t Loui 4.5 (570 reviews) SeafoodFish &\\nChipsCajun/Creole$$ This is a placeholder Free parking Large group friendly\\n“If you order a certain amount of pounds of seafood, you can get extra sides\\nfor free.” more * Outdoor seating Delivery Takeout Start Order * ### 4. Rustic\\nHouse Oyster Bar and Grill - Los Altos 4.0 (642 reviews) SeafoodBarsAmerican$$\\nThis is a placeholder “The seafood was delicious and competently prepared: a\\ngenerously portioned grouper special on...” more * Outdoor seating Delivery\\nTakeout Start Order * ### 5. The City Fish 4.4 (1.1k reviews)\\nSandwichesSeafoodFish & Chips$$ This is a placeholder “The reason why I love\\nthem is simple - big portions of quality seafood at a reasonable price.” more\\n* Outdoor seating Delivery Takeout Start Order * ### 6. La Marea of the Sea\\n4.7 (45 reviews) SeafoodFood Stands$ This is a placeholder “The oysters were\\npretty fresh. They have great condiments to compliment the seafood.” more *\\nDelivery * ### 7. The Sea by Alexander’s Steakhouse 4.1 (1.3k reviews)\\nSeafoodSteakhousesBars$$$$ This is a placeholder “All of the seafood was very\\nfresh, with particularly sweet jumbo shrimp.” more * Outdoor seating Takeout *\\n### 8. King’s Fish House - San Jose 4.2 (1.9k reviews) Seafood$$$West San Jose\\nThis is a placeholder “The tartare sauce has great balance of spicy and\\nseafood taste to it, I really like it. 3.)...” more * Outdoor seating Delivery\\nTakeout * ### 9. Gochi - Mountain View 4.1 (556 reviews) JapaneseWine\\nBarsSeafood$$$ This is a placeholder * Live wait time: 36 - 51 mins “Fresh\\nseafood. Highly recommend. Customer service is top notch. Thank you Gochi for\\nthe great...” more * Outdoor seating Delivery Takeout Find a Table * ### 10.\\nForthright Oyster Bar & Kitchen 4.3 (1.2k reviews) SeafoodBreakfast &\\nBrunchCocktail Bars$$West San Jose This is a placeholder “We were pretty full\\noff the appetizers but I really wanted to try the seafood pasta and I\\'m so\\nhappy...” more * Outdoor seating Delivery Takeout * 1 2 3 4 5 6 7 8 9 1 of 24\\n* ## Can\\'t find the business? Adding a business to Yelp is always free. Add\\nbusiness Got search feedback? Help us improve. * ## Related Searches in\\nMountain View, CA Beef Wellington Cioppino Crab Dinner Reservations Fish Tacos\\nMichelada Seafood Boil Seafood Buffet Steakhouses $1 Oysters Cajun Cajun\\nSeafood Boil Ceviche Clam Chowder Crab Legs Crawfish Fish Fish House Lobster\\nRoll Mariscos Oysters Restaurants With a View Salmon Scallops Anniversary\\nDinner Cajun Seafood Calamari Crab Boil Crab Sandwich Fish & Chips Hip New\\nRestaurants Oyster Bars Restaurants With Private Rooms Sashimi Chain\\nRestaurants Crawfish Boil Dungeness Crab Fine Dining Fish Market Grilled Fish\\nMexican Seafood Oyster Happy Hour Prime Rib Soft Shell Crab Valentines Day\\nDinner ## Trending Searches in Mountain View, CA Asian Supermarket Buy Fresh\\nOysters Cajun Seafood Boil Candy Stores Catfish Caviar Cheese Shops Clam\\nChowder Bread Bowl Dim Sum Dry Aged Steak Fishmonger Fondue Fruit Cake German\\nBakery Gingerbread Cookies Gourmet Grocery Stores Gumbo Italian Grocery Stores\\nLive Lobster Popcorn Shops Pozole Restaurants Open on Christmas Day Sashimi\\nSeafood Markets Smoked Salmon Steak Sushi Lunch Special Sushi Party Tray Wagyu\\nSteak Whiskey Store ## Related Articles Top Buffets in California Top\\nCajun/Creole in California Top Dim Sum Restaurants in California Top Fish &\\nChips in California Top Peruvian Restaurants in California Top Restaurants in\\nCalifornia Top Seafood Restaurants in California Top Soul Food Restaurants in\\nCalifornia Top Steakhouses in California Top Buffets in the US Top\\nCajun/Creole in the US Top Dim Sum Restaurants in the US Top Fish & Chips in\\nthe US Top Peruvian Restaurants in the US Top Restaurants in the US Top\\nSeafood Restaurants in the US Top Soul Food Restaurants in the US Top\\nSteakhouses in the US * * ## Search seafood in popular locations ### Nearby\\ncities Campbell, CA Cupertino, CA Los Altos, CA Los Gatos, CA Milpitas, CA\\nPalo Alto, CA San Jose, CA Santa Clara, CA Saratoga, CA Sunnyvale, CA ### More\\nLos Angeles, CA Napa, CA Sacramento, CA San Diego, CA San Francisco, CA San\\nLuis Obispo, CA Santa Barbara, CA Santa Rosa, CA Stockton, CA * * * * ##\\nFrequently Asked Questions and Answers What are the best seafood takeout\\nrestaurants? These are the best seafood takeout restaurants in Mountain View,\\nCA: * Cap\\'t Loui * The City Fish * King\\'s Fish House - San Jose * Pacific\\nCatch * Forthright Oyster Bar & Kitchen People also liked: Cheap Seafood\\nRestaurants, Seafood Restaurants Offering Reservations What did people search\\nfor similar to seafood in Mountain View, CA? People also searched for these in\\nMountain View: * Steak * Seafood Markets * Dinner * Sushi * Fried Fish See\\nmore seafood in Mountain View. What are people saying about seafood\\nrestaurants in Mountain View, CA? This is a review for seafood restaurants in\\nMountain View, CA: \"Came here for the first time, a bit of a hole in the wall,\\nbut prob one of the best finds! We ordered the clam chowder, fried seafood\\nplatter, steamed clams and seafood pasta. The clam chowder was decent and so\\nwas the fried seafood platter, but the steamed clams were absolutely the best!\\nI think I found my new favorite seafood spot. The portions are huge and\\ndecently priced, about $18-20 per entree. Apparently this is a chain with\\nthree different locations. Will definitely be back for the clams!\" See more\\nreviews for this business. What are the best cheap seafood restaurants? These\\nare the best cheap seafood restaurants in Mountain View, CA: * Cap\\'t Loui *\\nThe City Fish * Pacific Catch * Forthright Oyster Bar & Kitchen * Rustic House\\nOyster Bar and Grill - Los Altos People also liked: Seafood Takeout\\nRestaurants, Seafood Restaurants Offering Reservations What are the best\\nseafood restaurants offering reservations? These are the best seafood\\nrestaurants offering reservations in Mountain View, CA: * King\\'s Fish House -\\nSan Jose * Pacific Catch * Forthright Oyster Bar & Kitchen * The Sea by\\nAlexander\\'s Steakhouse * Rustic House Oyster Bar and Grill - Los Altos People\\nalso liked: Seafood Takeout Restaurants, Cheap Seafood Restaurants About *\\nAbout Yelp * Careers * Press * Investor Relations * Trust & Safety * Content\\nGuidelines * Accessibility Statement * Terms of Service * Privacy Policy * Ad\\nChoices * Your Privacy Choices Discover * Yelp Project Cost Guides *\\nCollections * Talk * Events * Yelp Blog * Support * Yelp Mobile * Developers *\\nRSS Yelp for Business * Yelp for Business * Business Owner Login * Claim your\\nBusiness Page * Advertise on Yelp * Yelp for Restaurant Owners * Table\\nManagement * Business Success Stories * Business Support * Yelp Blog for\\nBusiness Languages English Countries United States * About * Blog * Support *\\nTerms * Privacy Policy * Your Privacy Choices Copyright © 2004–2023 Yelp Inc.\\nYelp, , and related marks are registered trademarks of Yelp. Some Data By\\nAcxiom\\n\\n'},\n",
              " {'summary': 'Skip to main content\\n\\nFor Businesses\\n\\nMobile\\n\\nGet helpFAQs\\n\\nEN\\n\\nSearch icon\\n\\nHamburger icon\\n\\n  1. Home\\n  2. United States\\n\\n  3. San Francisco Bay Area\\n\\n# Best Seafood Restaurants in Mountain View\\n\\nFind a table\\n\\nFilter (0)\\n\\n##### Price\\n\\n$$$$Price: Moderate (109)$$$$Price: Expensive (60)$$$$Price: Very Expensive\\n(21)\\n\\n### 15 restaurants available nearby\\n\\n###### 1\\\\. Vaso Azzurro\\n\\n __\\n\\n __\\n\\n __\\n\\n __\\n\\n __\\n\\n4.7\\n\\nExceptional(620)\\n\\n$$$$Price: Expensive\\n\\n• Seafood • Mountain View\\n\\nBooked 7 times today\\n\\nVaso Azzurro is a cherished neighborhood gem known for serving exceptional\\nNorthern Italian cuisine. Patrons laud it as the epitome of a traditional\\nItalian restaurant with a warm, familial atmosphere that radiates\\nauthenticity. The menu is diverse and well-executed, with diners recommending\\nthe Linguini Azzurro, Bruschetta, Risotto, and Molten Lava Cake. The ambiance\\nis enhanced by the friendly, prompt service and the occasional serenade from\\nthe passionate manager, making for a unique dining experience. Nestled in the\\nbustling heart of Silicon Valley, it\\'s perfect for a memorable dinner,\\ncomplete with fine Italian wine. The frequent positive reviews vouch for its\\npopularity and excellence.  \\n\\n  *   *   *   *   * \\n\\n###### 2\\\\. Sundance The Steakhouse\\n\\n __\\n\\n __\\n\\n __\\n\\n __\\n\\n __\\n\\n4.8\\n\\nExceptional(5035)\\n\\n$$$$Price: Very Expensive\\n\\n• Seafood • Palo Alto\\n\\nBooked 59 times today\\n\\nSundance The Steakhouse is the go-to place for a sumptuous steakhouse cuisine\\nexperience. Reviewers continually rave about the quality of the food offering,\\nfrom the prime rib to steak selections, not to mention the delightful dessert\\noptions. Many have commended the service, describing it as professional,\\nattentive, and contributing positively to the overall dining experience. The\\nrestaurant\\'s ambiance, described as more 18th century than 21st, with its low\\nlights, comfortable booths, and charming fireplace, is repeatedly praised for\\nenhancing the dining mood. Frequent visitors never leave disappointed,\\nrecommending the excellent steak and seafood. The consensus is that the prices\\nare well worth the food, service, and ambiance.  \\n\\n  *   *   *   *   * \\n\\n###### 3\\\\. The Sea by Alexander\\'s Steakhouse\\n\\n __\\n\\n __\\n\\n __\\n\\n __\\n\\n __\\n\\n4.7\\n\\nExceptional(2025)\\n\\n$$$$Price: Very Expensive\\n\\n• Seafood • Palo Alto\\n\\nBooked 23 times today\\n\\n\"The Sea by Alexander\\'s Steakhouse\" is highly recommended for its outstanding\\nseafood cuisine. The restaurant, praised by its patrons, receives rave reviews\\nfor its fresh seafood and fusion dishes, particularly its hamachi shots and\\nlobster rocks. The expertise in preparation is evident in the delicious\\nofferings of salmon, mero, and Dungeness crab appetizer. Many diners remark on\\nthe attentive and knowledgeable staff, who add to the overall dining\\nexperience. Reviewers also appreciate the restaurant for special occasions,\\nciting the exceptional service and the unique touches like birthday cards and\\ncotton candy. With rave reviews for the seafood and the overall dining\\nexperience, it\\'s no wonder that \"The Sea by Alexander\\'s Steakhouse\" is a\\nfavorite for both seafood enthusiasts and those seeking a memorable dining\\nexperience.  \\n\\n  *   *   *   *   * \\n\\n###### 4\\\\. Rustic House Oyster Bar and Grill - Los Altos\\n\\n __\\n\\n __\\n\\n __\\n\\n __\\n\\n __\\n\\n4.5\\n\\nAwesome(66)\\n\\n$$$$Price: Moderate\\n\\n• Seafood • Los Altos\\n\\nBooked 20 times today\\n\\nLocated in the heart of Los Altos, Rustic House Oyster Bar and Grill has\\ngarnered a reputation for its exemplary seafood cuisine. Patrons commend its\\n\"delicious\" and \"outstanding choices\" of seafood, with special recognition to\\nits clam chowder, deemed \"the best\" in comparison to even reputed locations in\\nSan Francisco. The seafood options extend to \"fantastic\" oysters, succulent\\nscallops, and a blend of salmon and crab cakes that have been lauded for their\\nflavor. Notably, the restaurant also provides an equally impressive service,\\ndescribed as \"friendly\", \"efficient\", and \"attentive\". With its tasteful\\natmosphere and consistently high-quality offerings, it\\'s no wonder customers\\ndeem Rustic House their \"favorite place\" for exceptional seafood.  \\n\\n  *   *   *   *   * \\n\\n###### 5\\\\. Pacific Catch Mountain View\\n\\n __\\n\\n __\\n\\n __\\n\\n __\\n\\n __\\n\\n4.5\\n\\nAwesome(1290)\\n\\n$$$$Price: Moderate\\n\\n• Seafood • Mountain View\\n\\nBooked 19 times today\\n\\nPacific Catch Mountain View is highly celebrated by patrons for its\\nexceptional seafood cuisine. The restaurant consistently delivers fresh,\\nclean, and healthy dining, with the fish and other seafood always fresh.\\nPatrons highlight the \"tremendous food and service,\" calling it the \"best\\nseafood they\\'ve had in a long time.\" Dishes such as fish tacos and salmon\\nsalad have received commendation for their great flavor and generous sizes.\\nThe restaurant is also lauded for its accommodating staff and good service\\nmaking it a comfortable spot for seafood enthusiasts and families. Their\\ndedication to quality seafood and a positive dining experience makes Pacific\\nCatch Mountain View a recommended choice for seafood lovers.  \\n\\n  *   *   *   *   * \\n\\n###### 6\\\\. Pacific Catch Sunnyvale\\n\\n __\\n\\n __\\n\\n __\\n\\n __\\n\\n __\\n\\n4.3\\n\\nAwesome(154)\\n\\n$$$$Price: Moderate\\n\\n• Seafood • Sunnyvale\\n\\nBooked 13 times today\\n\\nPacific Catch Sunnyvale truly stands out as a top-tier seafood restaurant, as\\ntestified by numerous customer reviews. Patrons consistently praise the\\nfreshness of the seafood, with the guaca-poke and miso black cod receiving\\nspecial mention. Exceptional service is another highlight, with staff\\ndescribed as professional, attentive, and friendly. The restaurant\\'s location\\nin Sunnyvale is favored for its easy parking and accessibility, adding to the\\noverall pleasant experience. The sunny reviews further laud the great value\\nfor money, the generous portion sizes, and the beautiful restaurant space. The\\nrecommendation of regulars and newcomers alike underlines Pacific Catch\\nSunnyvale as a must-visit destination for seafood lovers.  \\n\\n  *   *   *   *   * \\n\\n###### 7\\\\. King\\'s Fish House - San Jose\\n\\n __\\n\\n __\\n\\n __\\n\\n __\\n\\n __\\n\\n4.4\\n\\nAwesome(2604)\\n\\n$$$$Price: Moderate\\n\\n• Seafood • San Jose\\n\\nBooked 111 times today\\n\\nKing\\'s Fish House in San Jose stands out in excellence for its authentic\\nAmerican cuisine, particularly seafood. Reviews have praised the exceptional\\ncustomer service, ambiance, and the range of seafood dishes. Items such as the\\n\"Mexican mahi\", \"macadamia nut crusted halibut\", \"South African lobster\\ntails\", \"Florida stone crab\", and \"Mexican tiger shrimp\" were highlighted due\\nto their impeccable taste and preparation. The restaurant also offers variety\\nwith a raw bar and a selection of wines and beers. The \"miso sea bass\"\\nreceived particular mention as \"incredible.\" A testimonial stated \"the food\\ndoes not disappoint\", reflecting overall customer satisfaction.  \\n\\n  *   *   *   *   * \\n\\n###### 8\\\\. Mastro’s Steakhouse - Santa Clara\\n\\n __\\n\\n __\\n\\n __\\n\\n __\\n\\n __\\n\\n4.5\\n\\nAwesome(510)\\n\\n$$$$Price: Very Expensive\\n\\n• Seafood • Santa Clara\\n\\nBooked 144 times today\\n\\nMastro’s Steakhouse in Santa Clara is a premier spot for genuine steak\\ncuisine. Numerous reviews praise it as a top-tier steakhouse in the bay area,\\nwith one guest proclaiming it as their \"absolute favorite place to eat in San\\nJose\" and another as \"the best steak they\\'ve ever had\". The consistent\\nemphasis on excellent service is also notable, with servers being recognized\\nfor their attentiveness, knowledge and helpfulness. Mastro\\'s Steakhouse also\\nmakes for a perfect choice for special occasions due to its enticing ambiance.\\nThe consistent high-quality of the food, particularly the steaks, along with\\nthe commendable service make it a must-visit for steak lovers.  \\n\\n  *   *   *   *   * \\n\\n###### 9\\\\. Market Broiler- Fremont\\n\\n __\\n\\n __\\n\\n __\\n\\n __\\n\\n __\\n\\n4.3\\n\\nAwesome(1037)\\n\\n$$$$Price: Moderate\\n\\n• Seafood • Newark\\n\\nBooked 10 times today\\n\\nBroiler\\'s salmon dish and it was absolutely delicious. The freshness was\\nundeniable. The seafood variety is top notch, and the steaks are outstanding.\\nThe portions are generous and the service has been consistently excellent.\\nThis restaurant is known for dishes such as the bacon-wrapped shrimp and the\\nMahi Mahi with skewered scallops wrapped around with bacon. Despite high-end\\ndishes, there are also very reasonable options that don\\'t break the bank.\\nMarket Broiler in Fremont provides a delightful seafood experience, ensuring\\nevery visit is memorable. It\\'s no surprise that it\\'s become a neighbourhood\\ngem.  \\n\\n  *   *   *   *   * \\n\\n###### 10\\\\. Pacific Catch Palo Alto\\n\\n __\\n\\n __\\n\\n __\\n\\n __\\n\\n __\\n\\n4.4\\n\\nAwesome(324)\\n\\n$$$$Price: Moderate\\n\\n• Seafood • Palo Alto\\n\\nBooked 35 times today\\n\\nPacific Catch Palo Alto is commended for its excellent and diverse Seafood\\ncuisine. As reported by its loyal patrons, the restaurant offers \"terrific\\nseafood options with many preparation options and flavor combinations\", with\\neach seafood dish reflecting its commitment to freshness. Positive feedback\\nabout the \"delicious and filling food\", \"great vegan options\", and \"fresh\\nsalmon\" are indications of the variety and quality of its offerings.\\nAdditionally, the fast and efficient service complements their flavorful\\ndishes, creating a pleasant dining experience overall. Its location is\\nappreciated for its great ambiance, offering a partial glassed-in patio for a\\nserene outdoor dining environment.  \\n\\n  *   *   *   *   * \\n\\n  * 1\\n  * 2\\n\\n## Explore OpenTable\\n\\n  1. Neighborhood\\n  2. Cuisine Nearby\\n  3. Seafood Cuisine\\n\\n  * Mountain View\\n\\n  * Seafood\\n\\n  * Oakland\\n  * Concord\\n  * The Castro\\n  * Financial District / Embarcadero\\n  * Redwood City\\n  * Brentwood\\n  * Sunset District\\n  * Dublin\\n  * Petaluma\\n  * Japantown\\n  * San Rafael\\n  * Port Costa\\n  * Santa Clara\\n  * Sonoma\\n  * San Bruno\\n  * Saratoga\\n  * Emeryville\\n  * Burlingame\\n  * Napa\\n  * SOMA\\n\\nDiscover\\n\\n  * Dining Rewards\\n\\n  * Private Dining\\n  * Reserve for Others\\n\\n  * Restaurants Near Me\\n  * Delivery Near Me\\n  * Restaurants Open Now\\n\\nOpenTable\\n\\n  * About Us\\n\\n  * Blog\\n\\n  * Careers\\n\\n  * Press\\n\\nMore\\n\\n  * OpenTable for iOS\\n  * OpenTable for Android\\n  * Affiliate Program\\n\\n  * Contact Us\\n\\nOur sites\\n\\n  * OpenTable.jp\\n  * OpenTable.de\\n  * OpenTable.es\\n  * OpenTable.ca\\n  * OpenTable.hk\\n  * OpenTable.ie\\n  * OpenTable.sg\\n  * OpenTable.nl\\n  * OpenTable.com.mx\\n  * OpenTable.co.uk\\n  * OpenTable.com.au\\n  * OpenTable.ae\\n  * OpenTable.co.th\\n  * OpenTable.it\\n  * OpenTable.com.tw\\n\\nBusinesses\\n\\n  * Restaurant reservation software\\n\\n  * Industry insights\\n\\n  * Hospitality resources\\n\\n  * Marketing resources\\n\\n  * Operation resources\\n\\n  * How to open a restaurant\\n\\n  * For restaurants\\n\\n  * For restaurant groups\\n\\nJoin us on\\n\\n  * Privacy Policy\\n\\n  * Terms of Use\\n\\n  * Cookies and Interest-Based Ads\\n\\n  * Do Not Sell or Share My Personal Information\\n\\n  * Cookie Preferences\\n\\nCopyright © 2023 OpenTable, Inc. 1 Montgomery St Ste 500, San Francisco CA\\n94104 - All rights reserved.\\n\\nOpenTable is part of Booking Holdings, the world leader in online travel and\\nrelated services.\\n\\n',\n",
              "  'title': '15 Best Seafood Restaurants In Mountain View | OpenTable',\n",
              "  'metadata': {'source': 'https://www.opentable.com/cuisine/best-seafood-restaurants-mountain-view-ca',\n",
              "   'title': '15 Best Seafood Restaurants In Mountain View | OpenTable',\n",
              "   'description': 'Book now at Seafood restaurants near Mountain View on OpenTable. Explore reviews, menus &amp; photos and find the perfect spot for any occasion.',\n",
              "   'language': 'en-US'},\n",
              "  'clean_content': 'Skip to main content For Businesses Mobile Get helpFAQs EN Search icon\\nHamburger icon 1\\\\. Home 2\\\\. United States 3\\\\. San Francisco Bay Area # Best\\nSeafood Restaurants in Mountain View Find a table Filter (0) ##### Price\\n$$$$Price: Moderate (109)$$$$Price: Expensive (60)$$$$Price: Very Expensive\\n(21) ### 15 restaurants available nearby ###### 1\\\\\\\\. Vaso Azzurro __ __ __ __\\n__ 4.7 Exceptional(620) $$$$Price: Expensive • Seafood • Mountain View Booked\\n7 times today Vaso Azzurro is a cherished neighborhood gem known for serving\\nexceptional Northern Italian cuisine. Patrons laud it as the epitome of a\\ntraditional Italian restaurant with a warm, familial atmosphere that radiates\\nauthenticity. The menu is diverse and well-executed, with diners recommending\\nthe Linguini Azzurro, Bruschetta, Risotto, and Molten Lava Cake. The ambiance\\nis enhanced by the friendly, prompt service and the occasional serenade from\\nthe passionate manager, making for a unique dining experience. Nestled in the\\nbustling heart of Silicon Valley, it\\'s perfect for a memorable dinner,\\ncomplete with fine Italian wine. The frequent positive reviews vouch for its\\npopularity and excellence. * * * * * ###### 2\\\\\\\\. Sundance The Steakhouse __ __\\n__ __ __ 4.8 Exceptional(5035) $$$$Price: Very Expensive • Seafood • Palo Alto\\nBooked 59 times today Sundance The Steakhouse is the go-to place for a\\nsumptuous steakhouse cuisine experience. Reviewers continually rave about the\\nquality of the food offering, from the prime rib to steak selections, not to\\nmention the delightful dessert options. Many have commended the service,\\ndescribing it as professional, attentive, and contributing positively to the\\noverall dining experience. The restaurant\\'s ambiance, described as more 18th\\ncentury than 21st, with its low lights, comfortable booths, and charming\\nfireplace, is repeatedly praised for enhancing the dining mood. Frequent\\nvisitors never leave disappointed, recommending the excellent steak and\\nseafood. The consensus is that the prices are well worth the food, service,\\nand ambiance. * * * * * ###### 3\\\\\\\\. The Sea by Alexander\\'s Steakhouse __ __ __\\n__ __ 4.7 Exceptional(2025) $$$$Price: Very Expensive • Seafood • Palo Alto\\nBooked 23 times today \"The Sea by Alexander\\'s Steakhouse\" is highly\\nrecommended for its outstanding seafood cuisine. The restaurant, praised by\\nits patrons, receives rave reviews for its fresh seafood and fusion dishes,\\nparticularly its hamachi shots and lobster rocks. The expertise in preparation\\nis evident in the delicious offerings of salmon, mero, and Dungeness crab\\nappetizer. Many diners remark on the attentive and knowledgeable staff, who\\nadd to the overall dining experience. Reviewers also appreciate the restaurant\\nfor special occasions, citing the exceptional service and the unique touches\\nlike birthday cards and cotton candy. With rave reviews for the seafood and\\nthe overall dining experience, it\\'s no wonder that \"The Sea by Alexander\\'s\\nSteakhouse\" is a favorite for both seafood enthusiasts and those seeking a\\nmemorable dining experience. * * * * * ###### 4\\\\\\\\. Rustic House Oyster Bar and\\nGrill - Los Altos __ __ __ __ __ 4.5 Awesome(66) $$$$Price: Moderate • Seafood\\n• Los Altos Booked 20 times today Located in the heart of Los Altos, Rustic\\nHouse Oyster Bar and Grill has garnered a reputation for its exemplary seafood\\ncuisine. Patrons commend its \"delicious\" and \"outstanding choices\" of seafood,\\nwith special recognition to its clam chowder, deemed \"the best\" in comparison\\nto even reputed locations in San Francisco. The seafood options extend to\\n\"fantastic\" oysters, succulent scallops, and a blend of salmon and crab cakes\\nthat have been lauded for their flavor. Notably, the restaurant also provides\\nan equally impressive service, described as \"friendly\", \"efficient\", and\\n\"attentive\". With its tasteful atmosphere and consistently high-quality\\nofferings, it\\'s no wonder customers deem Rustic House their \"favorite place\"\\nfor exceptional seafood. * * * * * ###### 5\\\\\\\\. Pacific Catch Mountain View __\\n__ __ __ __ 4.5 Awesome(1290) $$$$Price: Moderate • Seafood • Mountain View\\nBooked 19 times today Pacific Catch Mountain View is highly celebrated by\\npatrons for its exceptional seafood cuisine. The restaurant consistently\\ndelivers fresh, clean, and healthy dining, with the fish and other seafood\\nalways fresh. Patrons highlight the \"tremendous food and service,\" calling it\\nthe \"best seafood they\\'ve had in a long time.\" Dishes such as fish tacos and\\nsalmon salad have received commendation for their great flavor and generous\\nsizes. The restaurant is also lauded for its accommodating staff and good\\nservice making it a comfortable spot for seafood enthusiasts and families.\\nTheir dedication to quality seafood and a positive dining experience makes\\nPacific Catch Mountain View a recommended choice for seafood lovers. * * * * *\\n###### 6\\\\\\\\. Pacific Catch Sunnyvale __ __ __ __ __ 4.3 Awesome(154) $$$$Price:\\nModerate • Seafood • Sunnyvale Booked 13 times today Pacific Catch Sunnyvale\\ntruly stands out as a top-tier seafood restaurant, as testified by numerous\\ncustomer reviews. Patrons consistently praise the freshness of the seafood,\\nwith the guaca-poke and miso black cod receiving special mention. Exceptional\\nservice is another highlight, with staff described as professional, attentive,\\nand friendly. The restaurant\\'s location in Sunnyvale is favored for its easy\\nparking and accessibility, adding to the overall pleasant experience. The\\nsunny reviews further laud the great value for money, the generous portion\\nsizes, and the beautiful restaurant space. The recommendation of regulars and\\nnewcomers alike underlines Pacific Catch Sunnyvale as a must-visit destination\\nfor seafood lovers. * * * * * ###### 7\\\\\\\\. King\\'s Fish House - San Jose __ __\\n__ __ __ 4.4 Awesome(2604) $$$$Price: Moderate • Seafood • San Jose Booked 111\\ntimes today King\\'s Fish House in San Jose stands out in excellence for its\\nauthentic American cuisine, particularly seafood. Reviews have praised the\\nexceptional customer service, ambiance, and the range of seafood dishes. Items\\nsuch as the \"Mexican mahi\", \"macadamia nut crusted halibut\", \"South African\\nlobster tails\", \"Florida stone crab\", and \"Mexican tiger shrimp\" were\\nhighlighted due to their impeccable taste and preparation. The restaurant also\\noffers variety with a raw bar and a selection of wines and beers. The \"miso\\nsea bass\" received particular mention as \"incredible.\" A testimonial stated\\n\"the food does not disappoint\", reflecting overall customer satisfaction. * *\\n* * * ###### 8\\\\\\\\. Mastro’s Steakhouse - Santa Clara __ __ __ __ __ 4.5\\nAwesome(510) $$$$Price: Very Expensive • Seafood • Santa Clara Booked 144\\ntimes today Mastro’s Steakhouse in Santa Clara is a premier spot for genuine\\nsteak cuisine. Numerous reviews praise it as a top-tier steakhouse in the bay\\narea, with one guest proclaiming it as their \"absolute favorite place to eat\\nin San Jose\" and another as \"the best steak they\\'ve ever had\". The consistent\\nemphasis on excellent service is also notable, with servers being recognized\\nfor their attentiveness, knowledge and helpfulness. Mastro\\'s Steakhouse also\\nmakes for a perfect choice for special occasions due to its enticing ambiance.\\nThe consistent high-quality of the food, particularly the steaks, along with\\nthe commendable service make it a must-visit for steak lovers. * * * * *\\n###### 9\\\\\\\\. Market Broiler- Fremont __ __ __ __ __ 4.3 Awesome(1037)\\n$$$$Price: Moderate • Seafood • Newark Booked 10 times today Broiler\\'s salmon\\ndish and it was absolutely delicious. The freshness was undeniable. The\\nseafood variety is top notch, and the steaks are outstanding. The portions are\\ngenerous and the service has been consistently excellent. This restaurant is\\nknown for dishes such as the bacon-wrapped shrimp and the Mahi Mahi with\\nskewered scallops wrapped around with bacon. Despite high-end dishes, there\\nare also very reasonable options that don\\'t break the bank. Market Broiler in\\nFremont provides a delightful seafood experience, ensuring every visit is\\nmemorable. It\\'s no surprise that it\\'s become a neighbourhood gem. * * * * *\\n###### 10\\\\\\\\. Pacific Catch Palo Alto __ __ __ __ __ 4.4 Awesome(324)\\n$$$$Price: Moderate • Seafood • Palo Alto Booked 35 times today Pacific Catch\\nPalo Alto is commended for its excellent and diverse Seafood cuisine. As\\nreported by its loyal patrons, the restaurant offers \"terrific seafood options\\nwith many preparation options and flavor combinations\", with each seafood dish\\nreflecting its commitment to freshness. Positive feedback about the \"delicious\\nand filling food\", \"great vegan options\", and \"fresh salmon\" are indications\\nof the variety and quality of its offerings. Additionally, the fast and\\nefficient service complements their flavorful dishes, creating a pleasant\\ndining experience overall. Its location is appreciated for its great ambiance,\\noffering a partial glassed-in patio for a serene outdoor dining environment. *\\n* * * * * 1 * 2 ## Explore OpenTable 1\\\\. Neighborhood 2\\\\. Cuisine Nearby 3\\\\.\\nSeafood Cuisine * Mountain View * Seafood * Oakland * Concord * The Castro *\\nFinancial District / Embarcadero * Redwood City * Brentwood * Sunset District\\n* Dublin * Petaluma * Japantown * San Rafael * Port Costa * Santa Clara *\\nSonoma * San Bruno * Saratoga * Emeryville * Burlingame * Napa * SOMA Discover\\n* Dining Rewards * Private Dining * Reserve for Others * Restaurants Near Me *\\nDelivery Near Me * Restaurants Open Now OpenTable * About Us * Blog * Careers\\n* Press More * OpenTable for iOS * OpenTable for Android * Affiliate Program *\\nContact Us Our sites * OpenTable.jp * OpenTable.de * OpenTable.es *\\nOpenTable.ca * OpenTable.hk * OpenTable.ie * OpenTable.sg * OpenTable.nl *\\nOpenTable.com.mx * OpenTable.co.uk * OpenTable.com.au * OpenTable.ae *\\nOpenTable.co.th * OpenTable.it * OpenTable.com.tw Businesses * Restaurant\\nreservation software * Industry insights * Hospitality resources * Marketing\\nresources * Operation resources * How to open a restaurant * For restaurants *\\nFor restaurant groups Join us on * Privacy Policy * Terms of Use * Cookies and\\nInterest-Based Ads * Do Not Sell or Share My Personal Information * Cookie\\nPreferences Copyright © 2023 OpenTable, Inc. 1 Montgomery St Ste 500, San\\nFrancisco CA 94104 - All rights reserved. OpenTable is part of Booking\\nHoldings, the world leader in online travel and related services.\\n\\n'}]"
            ]
          },
          "metadata": {},
          "execution_count": 17
        }
      ],
      "source": [
        "structured_response"
      ]
    },
    {
      "cell_type": "markdown",
      "metadata": {
        "id": "qVkcH8ldmVM-"
      },
      "source": [
        "# **Information Extraction**"
      ]
    },
    {
      "cell_type": "code",
      "execution_count": 18,
      "metadata": {
        "id": "qVPTZlV3BBV-"
      },
      "outputs": [],
      "source": [
        "import re\n",
        "import json\n",
        "\n",
        "def extract_json(input_string):\n",
        "    # Extract JSON within ``` block\n",
        "    matches = re.findall(r'```(.*?)```', input_string, re.DOTALL)\n",
        "\n",
        "    if matches:\n",
        "        # Join the matches into a single string\n",
        "        json_content = ''.join(matches)\n",
        "\n",
        "        # Remove periods\n",
        "        json_content = re.sub(r'\\.', '', json_content)\n",
        "\n",
        "        return json_content\n",
        "    else:\n",
        "        print(\"No ``` block found.\")\n",
        "        return None"
      ]
    },
    {
      "cell_type": "code",
      "execution_count": 19,
      "metadata": {
        "id": "KmHp4cxG7nDu"
      },
      "outputs": [],
      "source": [
        "import vertexai\n",
        "from vertexai.preview.generative_models import GenerativeModel, Part\n",
        "\n",
        "def execute_prompt(prompt, max_output_tokens=8192):\n",
        "  model = GenerativeModel(\"gemini-pro\")\n",
        "  responses = model.generate_content(\n",
        "    prompt,\n",
        "    generation_config={\n",
        "        \"max_output_tokens\": max_output_tokens,\n",
        "        \"temperature\": 0,\n",
        "        \"top_p\": 1\n",
        "    },\n",
        "  stream=True,\n",
        "  )\n",
        "\n",
        "  final_response = []\n",
        "\n",
        "  for response in responses:\n",
        "      final_response.append(response.candidates[0].content.parts[0].text)\n",
        "\n",
        "  return \".\".join(final_response)"
      ]
    },
    {
      "cell_type": "code",
      "execution_count": 20,
      "metadata": {
        "id": "LFMfo3cdvZjA"
      },
      "outputs": [],
      "source": [
        "def get_text_extract_prompt(title, summary):\n",
        "  prompt = f\"\"\"\n",
        "  Here is its title: {title}\n",
        "  Here is some text extracted:\n",
        "  ---------\n",
        "  {summary}\n",
        "  ---------\n",
        "\n",
        "  Web pages can have a lot of useless junk in them.\n",
        "  For example, there might be a lot of ads, or a\n",
        "  lot of navigation links, or a lot of text that\n",
        "  is not relevant to the topic of the page. We want\n",
        "  to extract only the useful information from the text.\n",
        "\n",
        "  You can use the url and title to help you understand\n",
        "  the context of the text.\n",
        "  Please extract only the useful information from the text.\n",
        "  Try not to rewrite the text, but instead extract\n",
        "  only the useful information from the text.\n",
        "  \"\"\"\n",
        "  return prompt"
      ]
    },
    {
      "cell_type": "code",
      "execution_count": 21,
      "metadata": {
        "id": "UmgZbsaUxFIw"
      },
      "outputs": [],
      "source": [
        "summarries = []"
      ]
    },
    {
      "cell_type": "code",
      "execution_count": 22,
      "metadata": {
        "colab": {
          "base_uri": "https://localhost:8080/"
        },
        "id": "1794ituVGNly",
        "outputId": "47780f3b-08ce-4f55-a38b-1a954b03c5c6"
      },
      "outputs": [
        {
          "output_type": "stream",
          "name": "stdout",
          "text": [
            "Summary for Title: THE BEST 10 Seafood Restaurants near MOUNTAIN VIEW, CA 94043 - Last Updated December 2023 - Yelp\n",
            "\n",
            "Summary for Title: THE BEST 10 Seafood Restaurants in MOUNTAIN VIEW, CA - Last Updated December 2023 - Yelp\n",
            "\n",
            "Summary for Title: 15 Best Seafood Restaurants In Mountain View | OpenTable\n",
            "\n"
          ]
        }
      ],
      "source": [
        "for structured_response_item in structured_response:\n",
        "    title = structured_response_item['title']\n",
        "    summary = structured_response_item['summary']\n",
        "    if summary != \"<html><body></body></html>\":\n",
        "      print(f'Summary for Title: {title}\\n')\n",
        "      text_extract_prompt = get_text_extract_prompt(title, summary)\n",
        "      prompt_response = execute_prompt(text_extract_prompt)\n",
        "      summarries.append(prompt_response)"
      ]
    },
    {
      "cell_type": "code",
      "execution_count": 23,
      "metadata": {
        "colab": {
          "base_uri": "https://localhost:8080/"
        },
        "id": "PCoJR6YW6uTG",
        "outputId": "7015ac8c-334b-4b81-8b10-0cb177664713"
      },
      "outputs": [
        {
          "output_type": "execute_result",
          "data": {
            "text/plain": [
              "['1. Limón: Peruvian seafood and cocktail bar with a delicious menu of mouth.-watering seafood and land animal options.\\n2. Pacific Catch: Seafood,. tacos, and sushi bar with outdoor seating and Korean-style seafood pancakes.\\n3. The Sea by Alexander’s Steakhouse: Seafood, steakhouse,. and bar with fresh seafood and jumbo shrimp.\\n4. Cap’t Loui: Seafood, fish & chips, and Cajun/Creole with free parking. and large group friendly options.\\n5. Rustic House Oyster Bar and Grill - Los Altos: Seafood, bar, and American with a grouper special and outdoor seating.\\n6. The City Fish: Sandwiches, seafood, and fish &. chips with big portions of quality seafood at a reasonable price.\\n7. King’s Fish House - San Jose: Seafood with outdoor seating and a tartare sauce with a great balance of spicy and seafood taste.\\n8. La M.area of the Sea: Seafood food stand with fresh oysters and great condiments.\\n9. Supreme Crab: Seafood and Cajun/Creole with sports on TV and large group friendly options.\\n10. Gochi - Mountain View: Japanese, wine bar, and seafood with a live wait time of 36-.51 minutes.',\n",
              " '1. Limón: Peruvian seafood and cocktail bar with a focus on fresh seafood. and mouth-watering dishes.\\n2. Pacific Catch: Seafood restaurant offering tacos., sushi, and poke bowls, with a focus on sustainable and healthy seafood options.\\n3. Cap’t Loui: Cajun/Creole seafood restaurant. known for its generous portions of fresh seafood and its friendly atmosphere.\\n4. Rustic House Oyster Bar and Grill: Seafood restaurant with a focus on oysters and other. fresh seafood dishes, as well as a variety of grilled meats.\\n5. The City Fish: Seafood restaurant known for its large portions of quality seafood at a reasonable price, including sandwiches, fish and chips, and other seafood dishes.\\n.6. La Marea of the Sea: Seafood food stand offering fresh oysters and other seafood dishes.\\n7. The Sea by Alexander’s Steakhouse: Seafood restaurant with a focus on fresh seafood dishes, including a variety of grilled and. roasted seafood options.\\n8. King’s Fish House: Seafood restaurant with a focus on fresh seafood dishes, including a variety of grilled and roasted seafood options, as well as a raw bar.\\n9. Gochi: Japanese restaurant with a focus on fresh seafood dishes, including sushi, sashimi, and other. seafood dishes.\\n10. Forthright Oyster Bar & Kitchen: Seafood restaurant with a focus on oysters and other fresh seafood dishes, as well as a variety of grilled meats and other dishes.',\n",
              " \"- Vaso Azzurro is a cherished neighborhood gem known for serving exceptional Northern Italian. cuisine.\\n- Sundance The Steakhouse is the go-to place for a. sumptuous steakhouse cuisine experience.\\n- The Sea by Alexander's Steakhouse is highly recommended for its outstanding seafood cuisine.\\n- Rustic House Oyster Bar and. Grill - Los Altos has garnered a reputation for its exemplary seafood cuisine.\\n- Pacific Catch Mountain View is highly celebrated by patrons for its exceptional seafood cuisine.\\n.- Pacific Catch Sunnyvale truly stands out as a top-tier seafood restaurant.\\n- King's Fish House - San Jose stands out in excellence for its authentic American cuisine, particularly seafood.\\n- Mastro’s Steakhouse -. Santa Clara is a premier spot for genuine steak cuisine.\\n- Market Broiler- Fremont provides a delightful seafood experience, ensuring every visit is memorable.\\n- Pacific Catch Palo Alto is commended for its excellent and diverse Seafood cuisine.\"]"
            ]
          },
          "metadata": {},
          "execution_count": 23
        }
      ],
      "source": [
        "summarries"
      ]
    },
    {
      "cell_type": "markdown",
      "metadata": {
        "id": "FY7hmSdd2SQv"
      },
      "source": [
        "# **Retrieval-augmented generation (RAG)**"
      ]
    },
    {
      "cell_type": "code",
      "execution_count": 24,
      "metadata": {
        "id": "sm4CH-ze2UMA",
        "colab": {
          "base_uri": "https://localhost:8080/"
        },
        "outputId": "6eb3fd12-660b-41d1-fc2c-3dc2d60c014d"
      },
      "outputs": [
        {
          "output_type": "stream",
          "name": "stdout",
          "text": [
            "\u001b[?25l     \u001b[90m━━━━━━━━━━━━━━━━━━━━━━━━━━━━━━━━━━━━━━━━\u001b[0m \u001b[32m0.0/146.9 kB\u001b[0m \u001b[31m?\u001b[0m eta \u001b[36m-:--:--\u001b[0m\r\u001b[2K     \u001b[91m━━━━━━━━━━━━━━━━━━━━━━━━━\u001b[0m\u001b[90m╺\u001b[0m\u001b[90m━━━━━━━━━━━━━━\u001b[0m \u001b[32m92.2/146.9 kB\u001b[0m \u001b[31m2.5 MB/s\u001b[0m eta \u001b[36m0:00:01\u001b[0m\r\u001b[2K     \u001b[90m━━━━━━━━━━━━━━━━━━━━━━━━━━━━━━━━━━━━━━━━\u001b[0m \u001b[32m146.9/146.9 kB\u001b[0m \u001b[31m2.8 MB/s\u001b[0m eta \u001b[36m0:00:00\u001b[0m\n",
            "\u001b[?25h"
          ]
        }
      ],
      "source": [
        "!pip install -U -q google.generativeai"
      ]
    },
    {
      "cell_type": "code",
      "execution_count": 25,
      "metadata": {
        "id": "KFlIFPXw4ZgD",
        "colab": {
          "base_uri": "https://localhost:8080/"
        },
        "outputId": "4d4e93d5-0c39-435e-8e6b-b9458a5e5152"
      },
      "outputs": [
        {
          "output_type": "stream",
          "name": "stdout",
          "text": [
            "\u001b[2K     \u001b[90m━━━━━━━━━━━━━━━━━━━━━━━━━━━━━━━━━━━━━━━━\u001b[0m \u001b[32m508.6/508.6 kB\u001b[0m \u001b[31m5.5 MB/s\u001b[0m eta \u001b[36m0:00:00\u001b[0m\n",
            "\u001b[2K     \u001b[90m━━━━━━━━━━━━━━━━━━━━━━━━━━━━━━━━━━━━━━━━\u001b[0m \u001b[32m381.9/381.9 kB\u001b[0m \u001b[31m7.0 MB/s\u001b[0m eta \u001b[36m0:00:00\u001b[0m\n",
            "\u001b[2K     \u001b[90m━━━━━━━━━━━━━━━━━━━━━━━━━━━━━━━━━━━━━━━━\u001b[0m \u001b[32m2.4/2.4 MB\u001b[0m \u001b[31m13.0 MB/s\u001b[0m eta \u001b[36m0:00:00\u001b[0m\n",
            "\u001b[2K     \u001b[90m━━━━━━━━━━━━━━━━━━━━━━━━━━━━━━━━━━━━━━━━\u001b[0m \u001b[32m93.1/93.1 kB\u001b[0m \u001b[31m8.5 MB/s\u001b[0m eta \u001b[36m0:00:00\u001b[0m\n",
            "\u001b[2K     \u001b[90m━━━━━━━━━━━━━━━━━━━━━━━━━━━━━━━━━━━━━━━━\u001b[0m \u001b[32m60.3/60.3 kB\u001b[0m \u001b[31m6.9 MB/s\u001b[0m eta \u001b[36m0:00:00\u001b[0m\n",
            "\u001b[2K     \u001b[90m━━━━━━━━━━━━━━━━━━━━━━━━━━━━━━━━━━━━━━━━\u001b[0m \u001b[32m5.4/5.4 MB\u001b[0m \u001b[31m24.1 MB/s\u001b[0m eta \u001b[36m0:00:00\u001b[0m\n",
            "\u001b[2K     \u001b[90m━━━━━━━━━━━━━━━━━━━━━━━━━━━━━━━━━━━━━━━━\u001b[0m \u001b[32m6.4/6.4 MB\u001b[0m \u001b[31m37.0 MB/s\u001b[0m eta \u001b[36m0:00:00\u001b[0m\n",
            "\u001b[2K     \u001b[90m━━━━━━━━━━━━━━━━━━━━━━━━━━━━━━━━━━━━━━━━\u001b[0m \u001b[32m57.9/57.9 kB\u001b[0m \u001b[31m2.5 MB/s\u001b[0m eta \u001b[36m0:00:00\u001b[0m\n",
            "\u001b[2K     \u001b[90m━━━━━━━━━━━━━━━━━━━━━━━━━━━━━━━━━━━━━━━━\u001b[0m \u001b[32m105.6/105.6 kB\u001b[0m \u001b[31m11.5 MB/s\u001b[0m eta \u001b[36m0:00:00\u001b[0m\n",
            "\u001b[2K     \u001b[90m━━━━━━━━━━━━━━━━━━━━━━━━━━━━━━━━━━━━━━━━\u001b[0m \u001b[32m67.3/67.3 kB\u001b[0m \u001b[31m7.4 MB/s\u001b[0m eta \u001b[36m0:00:00\u001b[0m\n",
            "\u001b[?25h  Installing build dependencies ... \u001b[?25l\u001b[?25hdone\n",
            "  Getting requirements to build wheel ... \u001b[?25l\u001b[?25hdone\n",
            "  Preparing metadata (pyproject.toml) ... \u001b[?25l\u001b[?25hdone\n",
            "\u001b[2K     \u001b[90m━━━━━━━━━━━━━━━━━━━━━━━━━━━━━━━━━━━━━━━━\u001b[0m \u001b[32m698.9/698.9 kB\u001b[0m \u001b[31m28.4 MB/s\u001b[0m eta \u001b[36m0:00:00\u001b[0m\n",
            "\u001b[2K     \u001b[90m━━━━━━━━━━━━━━━━━━━━━━━━━━━━━━━━━━━━━━━━\u001b[0m \u001b[32m1.6/1.6 MB\u001b[0m \u001b[31m33.1 MB/s\u001b[0m eta \u001b[36m0:00:00\u001b[0m\n",
            "\u001b[2K     \u001b[90m━━━━━━━━━━━━━━━━━━━━━━━━━━━━━━━━━━━━━━━━\u001b[0m \u001b[32m72.6/72.6 kB\u001b[0m \u001b[31m5.5 MB/s\u001b[0m eta \u001b[36m0:00:00\u001b[0m\n",
            "\u001b[2K     \u001b[90m━━━━━━━━━━━━━━━━━━━━━━━━━━━━━━━━━━━━━━━━\u001b[0m \u001b[32m2.1/2.1 MB\u001b[0m \u001b[31m50.5 MB/s\u001b[0m eta \u001b[36m0:00:00\u001b[0m\n",
            "\u001b[2K     \u001b[90m━━━━━━━━━━━━━━━━━━━━━━━━━━━━━━━━━━━━━━━━\u001b[0m \u001b[32m381.6/381.6 kB\u001b[0m \u001b[31m35.0 MB/s\u001b[0m eta \u001b[36m0:00:00\u001b[0m\n",
            "\u001b[2K     \u001b[90m━━━━━━━━━━━━━━━━━━━━━━━━━━━━━━━━━━━━━━━━\u001b[0m \u001b[32m2.1/2.1 MB\u001b[0m \u001b[31m55.9 MB/s\u001b[0m eta \u001b[36m0:00:00\u001b[0m\n",
            "\u001b[2K     \u001b[90m━━━━━━━━━━━━━━━━━━━━━━━━━━━━━━━━━━━━━━━━\u001b[0m \u001b[32m407.5/407.5 kB\u001b[0m \u001b[31m33.2 MB/s\u001b[0m eta \u001b[36m0:00:00\u001b[0m\n",
            "\u001b[2K     \u001b[90m━━━━━━━━━━━━━━━━━━━━━━━━━━━━━━━━━━━━━━━━\u001b[0m \u001b[32m2.1/2.1 MB\u001b[0m \u001b[31m50.9 MB/s\u001b[0m eta \u001b[36m0:00:00\u001b[0m\n",
            "\u001b[2K     \u001b[90m━━━━━━━━━━━━━━━━━━━━━━━━━━━━━━━━━━━━━━━━\u001b[0m \u001b[32m395.8/395.8 kB\u001b[0m \u001b[31m31.5 MB/s\u001b[0m eta \u001b[36m0:00:00\u001b[0m\n",
            "\u001b[2K     \u001b[90m━━━━━━━━━━━━━━━━━━━━━━━━━━━━━━━━━━━━━━━━\u001b[0m \u001b[32m2.0/2.0 MB\u001b[0m \u001b[31m53.4 MB/s\u001b[0m eta \u001b[36m0:00:00\u001b[0m\n",
            "\u001b[2K     \u001b[90m━━━━━━━━━━━━━━━━━━━━━━━━━━━━━━━━━━━━━━━━\u001b[0m \u001b[32m395.3/395.3 kB\u001b[0m \u001b[31m34.4 MB/s\u001b[0m eta \u001b[36m0:00:00\u001b[0m\n",
            "\u001b[2K     \u001b[90m━━━━━━━━━━━━━━━━━━━━━━━━━━━━━━━━━━━━━━━━\u001b[0m \u001b[32m395.4/395.4 kB\u001b[0m \u001b[31m27.1 MB/s\u001b[0m eta \u001b[36m0:00:00\u001b[0m\n",
            "\u001b[2K     \u001b[90m━━━━━━━━━━━━━━━━━━━━━━━━━━━━━━━━━━━━━━━━\u001b[0m \u001b[32m2.0/2.0 MB\u001b[0m \u001b[31m55.0 MB/s\u001b[0m eta \u001b[36m0:00:00\u001b[0m\n",
            "\u001b[2K     \u001b[90m━━━━━━━━━━━━━━━━━━━━━━━━━━━━━━━━━━━━━━━━\u001b[0m \u001b[32m374.5/374.5 kB\u001b[0m \u001b[31m26.4 MB/s\u001b[0m eta \u001b[36m0:00:00\u001b[0m\n",
            "\u001b[2K     \u001b[90m━━━━━━━━━━━━━━━━━━━━━━━━━━━━━━━━━━━━━━━━\u001b[0m \u001b[32m1.9/1.9 MB\u001b[0m \u001b[31m57.4 MB/s\u001b[0m eta \u001b[36m0:00:00\u001b[0m\n",
            "\u001b[2K     \u001b[90m━━━━━━━━━━━━━━━━━━━━━━━━━━━━━━━━━━━━━━━━\u001b[0m \u001b[32m373.4/373.4 kB\u001b[0m \u001b[31m34.8 MB/s\u001b[0m eta \u001b[36m0:00:00\u001b[0m\n",
            "\u001b[2K     \u001b[90m━━━━━━━━━━━━━━━━━━━━━━━━━━━━━━━━━━━━━━━━\u001b[0m \u001b[32m1.9/1.9 MB\u001b[0m \u001b[31m51.1 MB/s\u001b[0m eta \u001b[36m0:00:00\u001b[0m\n",
            "\u001b[2K     \u001b[90m━━━━━━━━━━━━━━━━━━━━━━━━━━━━━━━━━━━━━━━━\u001b[0m \u001b[32m373.2/373.2 kB\u001b[0m \u001b[31m31.9 MB/s\u001b[0m eta \u001b[36m0:00:00\u001b[0m\n",
            "\u001b[2K     \u001b[90m━━━━━━━━━━━━━━━━━━━━━━━━━━━━━━━━━━━━━━━━\u001b[0m \u001b[32m1.9/1.9 MB\u001b[0m \u001b[31m52.5 MB/s\u001b[0m eta \u001b[36m0:00:00\u001b[0m\n",
            "\u001b[2K     \u001b[90m━━━━━━━━━━━━━━━━━━━━━━━━━━━━━━━━━━━━━━━━\u001b[0m \u001b[32m370.9/370.9 kB\u001b[0m \u001b[31m30.6 MB/s\u001b[0m eta \u001b[36m0:00:00\u001b[0m\n",
            "\u001b[2K     \u001b[90m━━━━━━━━━━━━━━━━━━━━━━━━━━━━━━━━━━━━━━━━\u001b[0m \u001b[32m1.9/1.9 MB\u001b[0m \u001b[31m58.3 MB/s\u001b[0m eta \u001b[36m0:00:00\u001b[0m\n",
            "\u001b[2K     \u001b[90m━━━━━━━━━━━━━━━━━━━━━━━━━━━━━━━━━━━━━━━━\u001b[0m \u001b[32m370.8/370.8 kB\u001b[0m \u001b[31m29.7 MB/s\u001b[0m eta \u001b[36m0:00:00\u001b[0m\n",
            "\u001b[2K     \u001b[90m━━━━━━━━━━━━━━━━━━━━━━━━━━━━━━━━━━━━━━━━\u001b[0m \u001b[32m364.0/364.0 kB\u001b[0m \u001b[31m30.2 MB/s\u001b[0m eta \u001b[36m0:00:00\u001b[0m\n",
            "\u001b[2K     \u001b[90m━━━━━━━━━━━━━━━━━━━━━━━━━━━━━━━━━━━━━━━━\u001b[0m \u001b[32m1.8/1.8 MB\u001b[0m \u001b[31m50.6 MB/s\u001b[0m eta \u001b[36m0:00:00\u001b[0m\n",
            "\u001b[2K     \u001b[90m━━━━━━━━━━━━━━━━━━━━━━━━━━━━━━━━━━━━━━━━\u001b[0m \u001b[32m359.1/359.1 kB\u001b[0m \u001b[31m27.6 MB/s\u001b[0m eta \u001b[36m0:00:00\u001b[0m\n",
            "\u001b[2K     \u001b[90m━━━━━━━━━━━━━━━━━━━━━━━━━━━━━━━━━━━━━━━━\u001b[0m \u001b[32m1.8/1.8 MB\u001b[0m \u001b[31m62.6 MB/s\u001b[0m eta \u001b[36m0:00:00\u001b[0m\n",
            "\u001b[2K     \u001b[90m━━━━━━━━━━━━━━━━━━━━━━━━━━━━━━━━━━━━━━━━\u001b[0m \u001b[32m358.4/358.4 kB\u001b[0m \u001b[31m29.0 MB/s\u001b[0m eta \u001b[36m0:00:00\u001b[0m\n",
            "\u001b[2K     \u001b[90m━━━━━━━━━━━━━━━━━━━━━━━━━━━━━━━━━━━━━━━━\u001b[0m \u001b[32m1.5/1.5 MB\u001b[0m \u001b[31m65.3 MB/s\u001b[0m eta \u001b[36m0:00:00\u001b[0m\n",
            "\u001b[2K     \u001b[90m━━━━━━━━━━━━━━━━━━━━━━━━━━━━━━━━━━━━━━━━\u001b[0m \u001b[32m355.6/355.6 kB\u001b[0m \u001b[31m35.3 MB/s\u001b[0m eta \u001b[36m0:00:00\u001b[0m\n",
            "\u001b[2K     \u001b[90m━━━━━━━━━━━━━━━━━━━━━━━━━━━━━━━━━━━━━━━━\u001b[0m \u001b[32m1.5/1.5 MB\u001b[0m \u001b[31m41.1 MB/s\u001b[0m eta \u001b[36m0:00:00\u001b[0m\n",
            "\u001b[2K     \u001b[90m━━━━━━━━━━━━━━━━━━━━━━━━━━━━━━━━━━━━━━━━\u001b[0m \u001b[32m67.0/67.0 kB\u001b[0m \u001b[31m7.8 MB/s\u001b[0m eta \u001b[36m0:00:00\u001b[0m\n",
            "\u001b[2K     \u001b[90m━━━━━━━━━━━━━━━━━━━━━━━━━━━━━━━━━━━━━━━━\u001b[0m \u001b[32m92.9/92.9 kB\u001b[0m \u001b[31m11.6 MB/s\u001b[0m eta \u001b[36m0:00:00\u001b[0m\n",
            "\u001b[2K     \u001b[90m━━━━━━━━━━━━━━━━━━━━━━━━━━━━━━━━━━━━━━━━\u001b[0m \u001b[32m92.9/92.9 kB\u001b[0m \u001b[31m10.9 MB/s\u001b[0m eta \u001b[36m0:00:00\u001b[0m\n",
            "\u001b[2K     \u001b[90m━━━━━━━━━━━━━━━━━━━━━━━━━━━━━━━━━━━━━━━━\u001b[0m \u001b[32m66.3/66.3 kB\u001b[0m \u001b[31m7.7 MB/s\u001b[0m eta \u001b[36m0:00:00\u001b[0m\n",
            "\u001b[2K     \u001b[90m━━━━━━━━━━━━━━━━━━━━━━━━━━━━━━━━━━━━━━━━\u001b[0m \u001b[32m143.8/143.8 kB\u001b[0m \u001b[31m13.1 MB/s\u001b[0m eta \u001b[36m0:00:00\u001b[0m\n",
            "\u001b[2K     \u001b[90m━━━━━━━━━━━━━━━━━━━━━━━━━━━━━━━━━━━━━━━━\u001b[0m \u001b[32m46.0/46.0 kB\u001b[0m \u001b[31m5.1 MB/s\u001b[0m eta \u001b[36m0:00:00\u001b[0m\n",
            "\u001b[2K     \u001b[90m━━━━━━━━━━━━━━━━━━━━━━━━━━━━━━━━━━━━━━━━\u001b[0m \u001b[32m50.8/50.8 kB\u001b[0m \u001b[31m4.5 MB/s\u001b[0m eta \u001b[36m0:00:00\u001b[0m\n",
            "\u001b[2K     \u001b[90m━━━━━━━━━━━━━━━━━━━━━━━━━━━━━━━━━━━━━━━━\u001b[0m \u001b[32m58.3/58.3 kB\u001b[0m \u001b[31m6.0 MB/s\u001b[0m eta \u001b[36m0:00:00\u001b[0m\n",
            "\u001b[2K     \u001b[90m━━━━━━━━━━━━━━━━━━━━━━━━━━━━━━━━━━━━━━━━\u001b[0m \u001b[32m341.4/341.4 kB\u001b[0m \u001b[31m21.1 MB/s\u001b[0m eta \u001b[36m0:00:00\u001b[0m\n",
            "\u001b[2K     \u001b[90m━━━━━━━━━━━━━━━━━━━━━━━━━━━━━━━━━━━━━━━━\u001b[0m \u001b[32m3.4/3.4 MB\u001b[0m \u001b[31m42.1 MB/s\u001b[0m eta \u001b[36m0:00:00\u001b[0m\n",
            "\u001b[2K     \u001b[90m━━━━━━━━━━━━━━━━━━━━━━━━━━━━━━━━━━━━━━━━\u001b[0m \u001b[32m1.3/1.3 MB\u001b[0m \u001b[31m50.9 MB/s\u001b[0m eta \u001b[36m0:00:00\u001b[0m\n",
            "\u001b[2K     \u001b[90m━━━━━━━━━━━━━━━━━━━━━━━━━━━━━━━━━━━━━━━━\u001b[0m \u001b[32m130.2/130.2 kB\u001b[0m \u001b[31m13.5 MB/s\u001b[0m eta \u001b[36m0:00:00\u001b[0m\n",
            "\u001b[2K     \u001b[90m━━━━━━━━━━━━━━━━━━━━━━━━━━━━━━━━━━━━━━━━\u001b[0m \u001b[32m86.8/86.8 kB\u001b[0m \u001b[31m8.7 MB/s\u001b[0m eta \u001b[36m0:00:00\u001b[0m\n",
            "\u001b[?25h  Building wheel for pypika (pyproject.toml) ... \u001b[?25l\u001b[?25hdone\n",
            "\u001b[31mERROR: pip's dependency resolver does not currently take into account all the packages that are installed. This behaviour is the source of the following dependency conflicts.\n",
            "lida 0.0.10 requires kaleido, which is not installed.\n",
            "lida 0.0.10 requires python-multipart, which is not installed.\n",
            "tensorflow-probability 0.22.0 requires typing-extensions<4.6.0, but you have typing-extensions 4.6.0 which is incompatible.\u001b[0m\u001b[31m\n",
            "\u001b[0m"
          ]
        }
      ],
      "source": [
        "%pip install -Uq chromadb pydantic typing-extensions==4.6.0"
      ]
    },
    {
      "cell_type": "code",
      "execution_count": 26,
      "metadata": {
        "id": "Jw6ssR8G2d1G"
      },
      "outputs": [],
      "source": [
        "import textwrap\n",
        "import chromadb\n",
        "import numpy as np\n",
        "import pandas as pd\n",
        "from google.colab import userdata\n",
        "\n",
        "import google.generativeai as genai\n",
        "import google.ai.generativelanguage as glm\n",
        "\n",
        "# Used to securely store your API key\n",
        "from google.colab import userdata\n",
        "\n",
        "from IPython.display import Markdown\n",
        "from chromadb import Documents, EmbeddingFunction, Embeddings\n",
        "genai.configure(api_key=userdata.get('google_key'))"
      ]
    },
    {
      "cell_type": "code",
      "source": [
        "collection_name = 'localstore'"
      ],
      "metadata": {
        "id": "SSE10rhP7uz2"
      },
      "execution_count": 27,
      "outputs": []
    },
    {
      "cell_type": "code",
      "execution_count": 28,
      "metadata": {
        "id": "kJR85awx7HYN"
      },
      "outputs": [],
      "source": [
        "class GeminiEmbeddingFunction(EmbeddingFunction):\n",
        "  def __call__(self, input: Documents) -> Embeddings:\n",
        "    model = 'models/embedding-001'\n",
        "    title = \"Custom query\"\n",
        "    return genai.embed_content(model=model,\n",
        "                                content=input,\n",
        "                                task_type=\"retrieval_document\",\n",
        "                                title=title)[\"embedding\"]\n",
        "def create_chroma_db(documents, name):\n",
        "  chroma_client = chromadb.Client()\n",
        "  db = chroma_client.create_collection(name=name, embedding_function=GeminiEmbeddingFunction())\n",
        "\n",
        "  for i, d in enumerate(documents):\n",
        "    db.add(\n",
        "      documents=d,\n",
        "      ids=str(i)\n",
        "    )\n",
        "  return db"
      ]
    },
    {
      "cell_type": "code",
      "execution_count": 29,
      "metadata": {
        "id": "y0OMxFNL7jJz"
      },
      "outputs": [],
      "source": [
        "# Set up the DB\n",
        "db = create_chroma_db(summarries, collection_name)"
      ]
    },
    {
      "cell_type": "code",
      "execution_count": 30,
      "metadata": {
        "colab": {
          "base_uri": "https://localhost:8080/",
          "height": 0
        },
        "id": "L247ocrI7wJl",
        "outputId": "15d648fb-4ce1-4ce3-e029-43f6686a1f77"
      },
      "outputs": [
        {
          "output_type": "execute_result",
          "data": {
            "text/plain": [
              "  ids                                         embeddings metadatas  \\\n",
              "0   0  [0.059009771794080734, -0.04740039259195328, -...      None   \n",
              "1   1  [0.05023900046944618, -0.054701533168554306, -...      None   \n",
              "2   2  [0.03670496493577957, -0.06272248923778534, -0...      None   \n",
              "\n",
              "                                           documents  uris  data  \n",
              "0  1. Limón: Peruvian seafood and cocktail bar wi...  None  None  \n",
              "1  1. Limón: Peruvian seafood and cocktail bar wi...  None  None  \n",
              "2  - Vaso Azzurro is a cherished neighborhood gem...  None  None  "
            ],
            "text/html": [
              "\n",
              "  <div id=\"df-740c16da-5f0a-46c3-9553-baaf3f4bc1dc\" class=\"colab-df-container\">\n",
              "    <div>\n",
              "<style scoped>\n",
              "    .dataframe tbody tr th:only-of-type {\n",
              "        vertical-align: middle;\n",
              "    }\n",
              "\n",
              "    .dataframe tbody tr th {\n",
              "        vertical-align: top;\n",
              "    }\n",
              "\n",
              "    .dataframe thead th {\n",
              "        text-align: right;\n",
              "    }\n",
              "</style>\n",
              "<table border=\"1\" class=\"dataframe\">\n",
              "  <thead>\n",
              "    <tr style=\"text-align: right;\">\n",
              "      <th></th>\n",
              "      <th>ids</th>\n",
              "      <th>embeddings</th>\n",
              "      <th>metadatas</th>\n",
              "      <th>documents</th>\n",
              "      <th>uris</th>\n",
              "      <th>data</th>\n",
              "    </tr>\n",
              "  </thead>\n",
              "  <tbody>\n",
              "    <tr>\n",
              "      <th>0</th>\n",
              "      <td>0</td>\n",
              "      <td>[0.059009771794080734, -0.04740039259195328, -...</td>\n",
              "      <td>None</td>\n",
              "      <td>1. Limón: Peruvian seafood and cocktail bar wi...</td>\n",
              "      <td>None</td>\n",
              "      <td>None</td>\n",
              "    </tr>\n",
              "    <tr>\n",
              "      <th>1</th>\n",
              "      <td>1</td>\n",
              "      <td>[0.05023900046944618, -0.054701533168554306, -...</td>\n",
              "      <td>None</td>\n",
              "      <td>1. Limón: Peruvian seafood and cocktail bar wi...</td>\n",
              "      <td>None</td>\n",
              "      <td>None</td>\n",
              "    </tr>\n",
              "    <tr>\n",
              "      <th>2</th>\n",
              "      <td>2</td>\n",
              "      <td>[0.03670496493577957, -0.06272248923778534, -0...</td>\n",
              "      <td>None</td>\n",
              "      <td>- Vaso Azzurro is a cherished neighborhood gem...</td>\n",
              "      <td>None</td>\n",
              "      <td>None</td>\n",
              "    </tr>\n",
              "  </tbody>\n",
              "</table>\n",
              "</div>\n",
              "    <div class=\"colab-df-buttons\">\n",
              "\n",
              "  <div class=\"colab-df-container\">\n",
              "    <button class=\"colab-df-convert\" onclick=\"convertToInteractive('df-740c16da-5f0a-46c3-9553-baaf3f4bc1dc')\"\n",
              "            title=\"Convert this dataframe to an interactive table.\"\n",
              "            style=\"display:none;\">\n",
              "\n",
              "  <svg xmlns=\"http://www.w3.org/2000/svg\" height=\"24px\" viewBox=\"0 -960 960 960\">\n",
              "    <path d=\"M120-120v-720h720v720H120Zm60-500h600v-160H180v160Zm220 220h160v-160H400v160Zm0 220h160v-160H400v160ZM180-400h160v-160H180v160Zm440 0h160v-160H620v160ZM180-180h160v-160H180v160Zm440 0h160v-160H620v160Z\"/>\n",
              "  </svg>\n",
              "    </button>\n",
              "\n",
              "  <style>\n",
              "    .colab-df-container {\n",
              "      display:flex;\n",
              "      gap: 12px;\n",
              "    }\n",
              "\n",
              "    .colab-df-convert {\n",
              "      background-color: #E8F0FE;\n",
              "      border: none;\n",
              "      border-radius: 50%;\n",
              "      cursor: pointer;\n",
              "      display: none;\n",
              "      fill: #1967D2;\n",
              "      height: 32px;\n",
              "      padding: 0 0 0 0;\n",
              "      width: 32px;\n",
              "    }\n",
              "\n",
              "    .colab-df-convert:hover {\n",
              "      background-color: #E2EBFA;\n",
              "      box-shadow: 0px 1px 2px rgba(60, 64, 67, 0.3), 0px 1px 3px 1px rgba(60, 64, 67, 0.15);\n",
              "      fill: #174EA6;\n",
              "    }\n",
              "\n",
              "    .colab-df-buttons div {\n",
              "      margin-bottom: 4px;\n",
              "    }\n",
              "\n",
              "    [theme=dark] .colab-df-convert {\n",
              "      background-color: #3B4455;\n",
              "      fill: #D2E3FC;\n",
              "    }\n",
              "\n",
              "    [theme=dark] .colab-df-convert:hover {\n",
              "      background-color: #434B5C;\n",
              "      box-shadow: 0px 1px 3px 1px rgba(0, 0, 0, 0.15);\n",
              "      filter: drop-shadow(0px 1px 2px rgba(0, 0, 0, 0.3));\n",
              "      fill: #FFFFFF;\n",
              "    }\n",
              "  </style>\n",
              "\n",
              "    <script>\n",
              "      const buttonEl =\n",
              "        document.querySelector('#df-740c16da-5f0a-46c3-9553-baaf3f4bc1dc button.colab-df-convert');\n",
              "      buttonEl.style.display =\n",
              "        google.colab.kernel.accessAllowed ? 'block' : 'none';\n",
              "\n",
              "      async function convertToInteractive(key) {\n",
              "        const element = document.querySelector('#df-740c16da-5f0a-46c3-9553-baaf3f4bc1dc');\n",
              "        const dataTable =\n",
              "          await google.colab.kernel.invokeFunction('convertToInteractive',\n",
              "                                                    [key], {});\n",
              "        if (!dataTable) return;\n",
              "\n",
              "        const docLinkHtml = 'Like what you see? Visit the ' +\n",
              "          '<a target=\"_blank\" href=https://colab.research.google.com/notebooks/data_table.ipynb>data table notebook</a>'\n",
              "          + ' to learn more about interactive tables.';\n",
              "        element.innerHTML = '';\n",
              "        dataTable['output_type'] = 'display_data';\n",
              "        await google.colab.output.renderOutput(dataTable, element);\n",
              "        const docLink = document.createElement('div');\n",
              "        docLink.innerHTML = docLinkHtml;\n",
              "        element.appendChild(docLink);\n",
              "      }\n",
              "    </script>\n",
              "  </div>\n",
              "\n",
              "\n",
              "<div id=\"df-7d194c11-ffb1-4b59-8c26-cd39dcfe9f57\">\n",
              "  <button class=\"colab-df-quickchart\" onclick=\"quickchart('df-7d194c11-ffb1-4b59-8c26-cd39dcfe9f57')\"\n",
              "            title=\"Suggest charts\"\n",
              "            style=\"display:none;\">\n",
              "\n",
              "<svg xmlns=\"http://www.w3.org/2000/svg\" height=\"24px\"viewBox=\"0 0 24 24\"\n",
              "     width=\"24px\">\n",
              "    <g>\n",
              "        <path d=\"M19 3H5c-1.1 0-2 .9-2 2v14c0 1.1.9 2 2 2h14c1.1 0 2-.9 2-2V5c0-1.1-.9-2-2-2zM9 17H7v-7h2v7zm4 0h-2V7h2v10zm4 0h-2v-4h2v4z\"/>\n",
              "    </g>\n",
              "</svg>\n",
              "  </button>\n",
              "\n",
              "<style>\n",
              "  .colab-df-quickchart {\n",
              "      --bg-color: #E8F0FE;\n",
              "      --fill-color: #1967D2;\n",
              "      --hover-bg-color: #E2EBFA;\n",
              "      --hover-fill-color: #174EA6;\n",
              "      --disabled-fill-color: #AAA;\n",
              "      --disabled-bg-color: #DDD;\n",
              "  }\n",
              "\n",
              "  [theme=dark] .colab-df-quickchart {\n",
              "      --bg-color: #3B4455;\n",
              "      --fill-color: #D2E3FC;\n",
              "      --hover-bg-color: #434B5C;\n",
              "      --hover-fill-color: #FFFFFF;\n",
              "      --disabled-bg-color: #3B4455;\n",
              "      --disabled-fill-color: #666;\n",
              "  }\n",
              "\n",
              "  .colab-df-quickchart {\n",
              "    background-color: var(--bg-color);\n",
              "    border: none;\n",
              "    border-radius: 50%;\n",
              "    cursor: pointer;\n",
              "    display: none;\n",
              "    fill: var(--fill-color);\n",
              "    height: 32px;\n",
              "    padding: 0;\n",
              "    width: 32px;\n",
              "  }\n",
              "\n",
              "  .colab-df-quickchart:hover {\n",
              "    background-color: var(--hover-bg-color);\n",
              "    box-shadow: 0 1px 2px rgba(60, 64, 67, 0.3), 0 1px 3px 1px rgba(60, 64, 67, 0.15);\n",
              "    fill: var(--button-hover-fill-color);\n",
              "  }\n",
              "\n",
              "  .colab-df-quickchart-complete:disabled,\n",
              "  .colab-df-quickchart-complete:disabled:hover {\n",
              "    background-color: var(--disabled-bg-color);\n",
              "    fill: var(--disabled-fill-color);\n",
              "    box-shadow: none;\n",
              "  }\n",
              "\n",
              "  .colab-df-spinner {\n",
              "    border: 2px solid var(--fill-color);\n",
              "    border-color: transparent;\n",
              "    border-bottom-color: var(--fill-color);\n",
              "    animation:\n",
              "      spin 1s steps(1) infinite;\n",
              "  }\n",
              "\n",
              "  @keyframes spin {\n",
              "    0% {\n",
              "      border-color: transparent;\n",
              "      border-bottom-color: var(--fill-color);\n",
              "      border-left-color: var(--fill-color);\n",
              "    }\n",
              "    20% {\n",
              "      border-color: transparent;\n",
              "      border-left-color: var(--fill-color);\n",
              "      border-top-color: var(--fill-color);\n",
              "    }\n",
              "    30% {\n",
              "      border-color: transparent;\n",
              "      border-left-color: var(--fill-color);\n",
              "      border-top-color: var(--fill-color);\n",
              "      border-right-color: var(--fill-color);\n",
              "    }\n",
              "    40% {\n",
              "      border-color: transparent;\n",
              "      border-right-color: var(--fill-color);\n",
              "      border-top-color: var(--fill-color);\n",
              "    }\n",
              "    60% {\n",
              "      border-color: transparent;\n",
              "      border-right-color: var(--fill-color);\n",
              "    }\n",
              "    80% {\n",
              "      border-color: transparent;\n",
              "      border-right-color: var(--fill-color);\n",
              "      border-bottom-color: var(--fill-color);\n",
              "    }\n",
              "    90% {\n",
              "      border-color: transparent;\n",
              "      border-bottom-color: var(--fill-color);\n",
              "    }\n",
              "  }\n",
              "</style>\n",
              "\n",
              "  <script>\n",
              "    async function quickchart(key) {\n",
              "      const quickchartButtonEl =\n",
              "        document.querySelector('#' + key + ' button');\n",
              "      quickchartButtonEl.disabled = true;  // To prevent multiple clicks.\n",
              "      quickchartButtonEl.classList.add('colab-df-spinner');\n",
              "      try {\n",
              "        const charts = await google.colab.kernel.invokeFunction(\n",
              "            'suggestCharts', [key], {});\n",
              "      } catch (error) {\n",
              "        console.error('Error during call to suggestCharts:', error);\n",
              "      }\n",
              "      quickchartButtonEl.classList.remove('colab-df-spinner');\n",
              "      quickchartButtonEl.classList.add('colab-df-quickchart-complete');\n",
              "    }\n",
              "    (() => {\n",
              "      let quickchartButtonEl =\n",
              "        document.querySelector('#df-7d194c11-ffb1-4b59-8c26-cd39dcfe9f57 button');\n",
              "      quickchartButtonEl.style.display =\n",
              "        google.colab.kernel.accessAllowed ? 'block' : 'none';\n",
              "    })();\n",
              "  </script>\n",
              "</div>\n",
              "\n",
              "    </div>\n",
              "  </div>\n"
            ]
          },
          "metadata": {},
          "execution_count": 30
        }
      ],
      "source": [
        "pd.DataFrame(db.peek(3))"
      ]
    },
    {
      "cell_type": "code",
      "execution_count": 31,
      "metadata": {
        "id": "RI-QiaX470r-"
      },
      "outputs": [],
      "source": [
        "def get_relevant_passage(query, db):\n",
        "  passage = db.query(query_texts=[query], n_results=1)['documents'][0][0]\n",
        "  return passage"
      ]
    },
    {
      "cell_type": "code",
      "execution_count": 32,
      "metadata": {
        "id": "8aGzoFIC78S8"
      },
      "outputs": [],
      "source": [
        "def make_prompt(query, relevant_passage):\n",
        "  escaped = relevant_passage.replace(\"'\", \"\").replace('\"', \"\").replace(\"\\n\", \" \")\n",
        "  prompt = (\"\"\"You are a helpful and informative bot that answers questions using text from the reference passage included below. \\\n",
        "  If the passage is irrelevant to the answer, you may ignore it.\n",
        "  QUESTION: '{query}'\n",
        "  PASSAGE: '{relevant_passage}'\n",
        "\n",
        "    ANSWER:\n",
        "  \"\"\").format(query=query, relevant_passage=escaped)\n",
        "\n",
        "  return prompt"
      ]
    },
    {
      "cell_type": "code",
      "execution_count": 33,
      "metadata": {
        "colab": {
          "base_uri": "https://localhost:8080/",
          "height": 0
        },
        "id": "ClROzhpS8R20",
        "outputId": "61a64fe7-ae0e-42f9-a189-217ba2318655"
      },
      "outputs": [
        {
          "output_type": "execute_result",
          "data": {
            "text/plain": [
              "<IPython.core.display.Markdown object>"
            ],
            "text/markdown": "You are a helpful and informative bot that answers questions using text from the reference passage included below.   If the passage is irrelevant to the answer, you may ignore it.\n  QUESTION: 'where can I get seafood'\n  PASSAGE: '1. Limón: Peruvian seafood and cocktail bar with a focus on fresh seafood. and mouth-watering dishes. 2. Pacific Catch: Seafood restaurant offering tacos., sushi, and poke bowls, with a focus on sustainable and healthy seafood options. 3. Cap’t Loui: Cajun/Creole seafood restaurant. known for its generous portions of fresh seafood and its friendly atmosphere. 4. Rustic House Oyster Bar and Grill: Seafood restaurant with a focus on oysters and other. fresh seafood dishes, as well as a variety of grilled meats. 5. The City Fish: Seafood restaurant known for its large portions of quality seafood at a reasonable price, including sandwiches, fish and chips, and other seafood dishes. .6. La Marea of the Sea: Seafood food stand offering fresh oysters and other seafood dishes. 7. The Sea by Alexander’s Steakhouse: Seafood restaurant with a focus on fresh seafood dishes, including a variety of grilled and. roasted seafood options. 8. King’s Fish House: Seafood restaurant with a focus on fresh seafood dishes, including a variety of grilled and roasted seafood options, as well as a raw bar. 9. Gochi: Japanese restaurant with a focus on fresh seafood dishes, including sushi, sashimi, and other. seafood dishes. 10. Forthright Oyster Bar & Kitchen: Seafood restaurant with a focus on oysters and other fresh seafood dishes, as well as a variety of grilled meats and other dishes.'\n\n    ANSWER:\n  "
          },
          "metadata": {},
          "execution_count": 33
        }
      ],
      "source": [
        "query = \"where can I get seafood\"\n",
        "passage = get_relevant_passage(query, db)\n",
        "Markdown(passage)\n",
        "prompt = make_prompt(query, passage)\n",
        "Markdown(prompt)"
      ]
    },
    {
      "cell_type": "code",
      "execution_count": 34,
      "metadata": {
        "colab": {
          "base_uri": "https://localhost:8080/",
          "height": 0
        },
        "id": "tirn20Gv8I7h",
        "outputId": "86899772-c2b3-43e9-944a-fca0c4f139c0"
      },
      "outputs": [
        {
          "output_type": "execute_result",
          "data": {
            "text/plain": [
              "<IPython.core.display.Markdown object>"
            ],
            "text/markdown": "1. Limón\n2. Pacific Catch\n3. Cap’t Loui\n4. Rustic House Oyster Bar and Grill\n5. The City Fish\n6. La Marea of the Sea\n7. The Sea by Alexander’s Steakhouse\n8. King’s Fish House\n9. Gochi\n10. Forthright Oyster Bar & Kitchen"
          },
          "metadata": {},
          "execution_count": 34
        }
      ],
      "source": [
        "model = genai.GenerativeModel('gemini-pro')\n",
        "answer = model.generate_content(prompt)\n",
        "Markdown(answer.text)"
      ]
    },
    {
      "cell_type": "markdown",
      "source": [
        "# **Trulens Custom LLM Evaluation**"
      ],
      "metadata": {
        "id": "pOyki6alZmum"
      }
    },
    {
      "cell_type": "markdown",
      "source": [
        "**Please make sure to run the Retrieval-augmented generation (RAG) to set the Db**"
      ],
      "metadata": {
        "id": "VUTEw6ZeRa9w"
      }
    },
    {
      "cell_type": "code",
      "source": [
        "!pip install litellm\n",
        "!pip install trulens_eval==0.18.0"
      ],
      "metadata": {
        "id": "s42tSP8lZh5V",
        "colab": {
          "base_uri": "https://localhost:8080/",
          "height": 1000
        },
        "outputId": "6e52ed9c-5ae3-48d1-8110-c796e29a680f"
      },
      "execution_count": null,
      "outputs": [
        {
          "output_type": "stream",
          "name": "stdout",
          "text": [
            "Collecting litellm\n",
            "  Downloading litellm-1.15.3-py3-none-any.whl (1.5 MB)\n",
            "\u001b[2K     \u001b[90m━━━━━━━━━━━━━━━━━━━━━━━━━━━━━━━━━━━━━━━━\u001b[0m \u001b[32m1.5/1.5 MB\u001b[0m \u001b[31m7.4 MB/s\u001b[0m eta \u001b[36m0:00:00\u001b[0m\n",
            "\u001b[?25hRequirement already satisfied: aiohttp in /usr/local/lib/python3.10/dist-packages (from litellm) (3.9.1)\n",
            "Requirement already satisfied: appdirs<2.0.0,>=1.4.4 in /usr/local/lib/python3.10/dist-packages (from litellm) (1.4.4)\n",
            "Requirement already satisfied: certifi<2024.0.0,>=2023.7.22 in /usr/local/lib/python3.10/dist-packages (from litellm) (2023.11.17)\n",
            "Requirement already satisfied: click in /usr/local/lib/python3.10/dist-packages (from litellm) (8.1.7)\n",
            "Requirement already satisfied: importlib-metadata>=6.8.0 in /usr/local/lib/python3.10/dist-packages (from litellm) (6.11.0)\n",
            "Requirement already satisfied: jinja2<4.0.0,>=3.1.2 in /usr/local/lib/python3.10/dist-packages (from litellm) (3.1.2)\n",
            "Collecting openai>=1.0.0 (from litellm)\n",
            "  Downloading openai-1.6.0-py3-none-any.whl (225 kB)\n",
            "\u001b[2K     \u001b[90m━━━━━━━━━━━━━━━━━━━━━━━━━━━━━━━━━━━━━━━━\u001b[0m \u001b[32m225.4/225.4 kB\u001b[0m \u001b[31m10.9 MB/s\u001b[0m eta \u001b[36m0:00:00\u001b[0m\n",
            "\u001b[?25hRequirement already satisfied: python-dotenv>=0.2.0 in /usr/local/lib/python3.10/dist-packages (from litellm) (1.0.0)\n",
            "Collecting tiktoken>=0.4.0 (from litellm)\n",
            "  Downloading tiktoken-0.5.2-cp310-cp310-manylinux_2_17_x86_64.manylinux2014_x86_64.whl (2.0 MB)\n",
            "\u001b[2K     \u001b[90m━━━━━━━━━━━━━━━━━━━━━━━━━━━━━━━━━━━━━━━━\u001b[0m \u001b[32m2.0/2.0 MB\u001b[0m \u001b[31m14.7 MB/s\u001b[0m eta \u001b[36m0:00:00\u001b[0m\n",
            "\u001b[?25hRequirement already satisfied: tokenizers in /usr/local/lib/python3.10/dist-packages (from litellm) (0.15.0)\n",
            "Requirement already satisfied: zipp>=0.5 in /usr/local/lib/python3.10/dist-packages (from importlib-metadata>=6.8.0->litellm) (3.17.0)\n",
            "Requirement already satisfied: MarkupSafe>=2.0 in /usr/local/lib/python3.10/dist-packages (from jinja2<4.0.0,>=3.1.2->litellm) (2.1.3)\n",
            "Requirement already satisfied: anyio<5,>=3.5.0 in /usr/local/lib/python3.10/dist-packages (from openai>=1.0.0->litellm) (3.7.1)\n",
            "Requirement already satisfied: distro<2,>=1.7.0 in /usr/lib/python3/dist-packages (from openai>=1.0.0->litellm) (1.7.0)\n",
            "Collecting httpx<1,>=0.23.0 (from openai>=1.0.0->litellm)\n",
            "  Downloading httpx-0.26.0-py3-none-any.whl (75 kB)\n",
            "\u001b[2K     \u001b[90m━━━━━━━━━━━━━━━━━━━━━━━━━━━━━━━━━━━━━━━━\u001b[0m \u001b[32m75.9/75.9 kB\u001b[0m \u001b[31m7.9 MB/s\u001b[0m eta \u001b[36m0:00:00\u001b[0m\n",
            "\u001b[?25hRequirement already satisfied: pydantic<3,>=1.9.0 in /usr/local/lib/python3.10/dist-packages (from openai>=1.0.0->litellm) (1.10.13)\n",
            "Requirement already satisfied: sniffio in /usr/local/lib/python3.10/dist-packages (from openai>=1.0.0->litellm) (1.3.0)\n",
            "Requirement already satisfied: tqdm>4 in /usr/local/lib/python3.10/dist-packages (from openai>=1.0.0->litellm) (4.66.1)\n",
            "Collecting typing-extensions<5,>=4.7 (from openai>=1.0.0->litellm)\n",
            "  Downloading typing_extensions-4.9.0-py3-none-any.whl (32 kB)\n",
            "Requirement already satisfied: regex>=2022.1.18 in /usr/local/lib/python3.10/dist-packages (from tiktoken>=0.4.0->litellm) (2023.6.3)\n",
            "Requirement already satisfied: requests>=2.26.0 in /usr/local/lib/python3.10/dist-packages (from tiktoken>=0.4.0->litellm) (2.31.0)\n",
            "Requirement already satisfied: attrs>=17.3.0 in /usr/local/lib/python3.10/dist-packages (from aiohttp->litellm) (23.1.0)\n",
            "Requirement already satisfied: multidict<7.0,>=4.5 in /usr/local/lib/python3.10/dist-packages (from aiohttp->litellm) (6.0.4)\n",
            "Requirement already satisfied: yarl<2.0,>=1.0 in /usr/local/lib/python3.10/dist-packages (from aiohttp->litellm) (1.9.4)\n",
            "Requirement already satisfied: frozenlist>=1.1.1 in /usr/local/lib/python3.10/dist-packages (from aiohttp->litellm) (1.4.1)\n",
            "Requirement already satisfied: aiosignal>=1.1.2 in /usr/local/lib/python3.10/dist-packages (from aiohttp->litellm) (1.3.1)\n",
            "Requirement already satisfied: async-timeout<5.0,>=4.0 in /usr/local/lib/python3.10/dist-packages (from aiohttp->litellm) (4.0.3)\n",
            "Requirement already satisfied: huggingface_hub<1.0,>=0.16.4 in /usr/local/lib/python3.10/dist-packages (from tokenizers->litellm) (0.19.4)\n",
            "Requirement already satisfied: idna>=2.8 in /usr/local/lib/python3.10/dist-packages (from anyio<5,>=3.5.0->openai>=1.0.0->litellm) (3.6)\n",
            "Requirement already satisfied: exceptiongroup in /usr/local/lib/python3.10/dist-packages (from anyio<5,>=3.5.0->openai>=1.0.0->litellm) (1.2.0)\n",
            "Collecting httpcore==1.* (from httpx<1,>=0.23.0->openai>=1.0.0->litellm)\n",
            "  Downloading httpcore-1.0.2-py3-none-any.whl (76 kB)\n",
            "\u001b[2K     \u001b[90m━━━━━━━━━━━━━━━━━━━━━━━━━━━━━━━━━━━━━━━━\u001b[0m \u001b[32m76.9/76.9 kB\u001b[0m \u001b[31m8.8 MB/s\u001b[0m eta \u001b[36m0:00:00\u001b[0m\n",
            "\u001b[?25hRequirement already satisfied: h11<0.15,>=0.13 in /usr/local/lib/python3.10/dist-packages (from httpcore==1.*->httpx<1,>=0.23.0->openai>=1.0.0->litellm) (0.14.0)\n",
            "Requirement already satisfied: filelock in /usr/local/lib/python3.10/dist-packages (from huggingface_hub<1.0,>=0.16.4->tokenizers->litellm) (3.13.1)\n",
            "Requirement already satisfied: fsspec>=2023.5.0 in /usr/local/lib/python3.10/dist-packages (from huggingface_hub<1.0,>=0.16.4->tokenizers->litellm) (2023.6.0)\n",
            "Requirement already satisfied: pyyaml>=5.1 in /usr/local/lib/python3.10/dist-packages (from huggingface_hub<1.0,>=0.16.4->tokenizers->litellm) (6.0.1)\n",
            "Requirement already satisfied: packaging>=20.9 in /usr/local/lib/python3.10/dist-packages (from huggingface_hub<1.0,>=0.16.4->tokenizers->litellm) (23.2)\n",
            "Requirement already satisfied: charset-normalizer<4,>=2 in /usr/local/lib/python3.10/dist-packages (from requests>=2.26.0->tiktoken>=0.4.0->litellm) (3.3.2)\n",
            "Requirement already satisfied: urllib3<3,>=1.21.1 in /usr/local/lib/python3.10/dist-packages (from requests>=2.26.0->tiktoken>=0.4.0->litellm) (1.26.18)\n",
            "Installing collected packages: typing-extensions, httpcore, tiktoken, httpx, openai, litellm\n",
            "  Attempting uninstall: typing-extensions\n",
            "    Found existing installation: typing_extensions 4.6.0\n",
            "    Uninstalling typing_extensions-4.6.0:\n",
            "      Successfully uninstalled typing_extensions-4.6.0\n",
            "\u001b[31mERROR: pip's dependency resolver does not currently take into account all the packages that are installed. This behaviour is the source of the following dependency conflicts.\n",
            "lida 0.0.10 requires kaleido, which is not installed.\n",
            "lida 0.0.10 requires python-multipart, which is not installed.\n",
            "llmx 0.0.15a0 requires cohere, which is not installed.\n",
            "tensorflow-probability 0.22.0 requires typing-extensions<4.6.0, but you have typing-extensions 4.9.0 which is incompatible.\u001b[0m\u001b[31m\n",
            "\u001b[0mSuccessfully installed httpcore-1.0.2 httpx-0.26.0 litellm-1.15.3 openai-1.6.0 tiktoken-0.5.2 typing-extensions-4.9.0\n",
            "Collecting trulens_eval==0.18.0\n",
            "  Downloading trulens_eval-0.18.0-py3-none-any.whl (622 kB)\n",
            "\u001b[2K     \u001b[90m━━━━━━━━━━━━━━━━━━━━━━━━━━━━━━━━━━━━━━━━\u001b[0m \u001b[32m622.3/622.3 kB\u001b[0m \u001b[31m4.9 MB/s\u001b[0m eta \u001b[36m0:00:00\u001b[0m\n",
            "\u001b[?25hCollecting cohere>=4.4.1 (from trulens_eval==0.18.0)\n",
            "  Downloading cohere-4.39-py3-none-any.whl (51 kB)\n",
            "\u001b[2K     \u001b[90m━━━━━━━━━━━━━━━━━━━━━━━━━━━━━━━━━━━━━━━━\u001b[0m \u001b[32m51.7/51.7 kB\u001b[0m \u001b[31m5.0 MB/s\u001b[0m eta \u001b[36m0:00:00\u001b[0m\n",
            "\u001b[?25hCollecting datasets>=2.12.0 (from trulens_eval==0.18.0)\n",
            "  Downloading datasets-2.15.0-py3-none-any.whl (521 kB)\n",
            "\u001b[2K     \u001b[90m━━━━━━━━━━━━━━━━━━━━━━━━━━━━━━━━━━━━━━━━\u001b[0m \u001b[32m521.2/521.2 kB\u001b[0m \u001b[31m7.9 MB/s\u001b[0m eta \u001b[36m0:00:00\u001b[0m\n",
            "\u001b[?25hRequirement already satisfied: python-dotenv>=1.0.0 in /usr/local/lib/python3.10/dist-packages (from trulens_eval==0.18.0) (1.0.0)\n",
            "Requirement already satisfied: kaggle>=1.5.13 in /usr/local/lib/python3.10/dist-packages (from trulens_eval==0.18.0) (1.5.16)\n",
            "Requirement already satisfied: langchain>=0.0.335 in /usr/local/lib/python3.10/dist-packages (from trulens_eval==0.18.0) (0.0.352)\n",
            "Collecting typing-inspect==0.8.0 (from trulens_eval==0.18.0)\n",
            "  Downloading typing_inspect-0.8.0-py3-none-any.whl (8.7 kB)\n",
            "Collecting typing-extensions==4.5.0 (from trulens_eval==0.18.0)\n",
            "  Downloading typing_extensions-4.5.0-py3-none-any.whl (27 kB)\n",
            "Collecting llama-index==0.8.69 (from trulens_eval==0.18.0)\n",
            "  Downloading llama_index-0.8.69-py3-none-any.whl (862 kB)\n",
            "\u001b[2K     \u001b[90m━━━━━━━━━━━━━━━━━━━━━━━━━━━━━━━━━━━━━━━━\u001b[0m \u001b[32m862.2/862.2 kB\u001b[0m \u001b[31m10.3 MB/s\u001b[0m eta \u001b[36m0:00:00\u001b[0m\n",
            "\u001b[?25hCollecting merkle-json>=1.0.0 (from trulens_eval==0.18.0)\n",
            "  Downloading merkle_json-1.0.0-py3-none-any.whl (5.2 kB)\n",
            "Collecting millify>=0.1.1 (from trulens_eval==0.18.0)\n",
            "  Downloading millify-0.1.1.tar.gz (1.2 kB)\n",
            "  Preparing metadata (setup.py) ... \u001b[?25l\u001b[?25hdone\n",
            "Requirement already satisfied: openai<2,>=1.1.1 in /usr/local/lib/python3.10/dist-packages (from trulens_eval==0.18.0) (1.6.0)\n",
            "Collecting pinecone-client>=2.2.1 (from trulens_eval==0.18.0)\n",
            "  Downloading pinecone_client-2.2.4-py3-none-any.whl (179 kB)\n",
            "\u001b[2K     \u001b[90m━━━━━━━━━━━━━━━━━━━━━━━━━━━━━━━━━━━━━━━━\u001b[0m \u001b[32m179.4/179.4 kB\u001b[0m \u001b[31m7.7 MB/s\u001b[0m eta \u001b[36m0:00:00\u001b[0m\n",
            "\u001b[?25hRequirement already satisfied: pydantic<2,>=1.10.7 in /usr/local/lib/python3.10/dist-packages (from trulens_eval==0.18.0) (1.10.13)\n",
            "Requirement already satisfied: humanize>=4.6.0 in /usr/local/lib/python3.10/dist-packages (from trulens_eval==0.18.0) (4.7.0)\n",
            "Collecting slack-bolt>=1.18.0 (from trulens_eval==0.18.0)\n",
            "  Downloading slack_bolt-1.18.1-py2.py3-none-any.whl (194 kB)\n",
            "\u001b[2K     \u001b[90m━━━━━━━━━━━━━━━━━━━━━━━━━━━━━━━━━━━━━━━━\u001b[0m \u001b[32m194.7/194.7 kB\u001b[0m \u001b[31m11.4 MB/s\u001b[0m eta \u001b[36m0:00:00\u001b[0m\n",
            "\u001b[?25hCollecting slack-sdk>=3.21.3 (from trulens_eval==0.18.0)\n",
            "  Downloading slack_sdk-3.26.1-py2.py3-none-any.whl (284 kB)\n",
            "\u001b[2K     \u001b[90m━━━━━━━━━━━━━━━━━━━━━━━━━━━━━━━━━━━━━━━━\u001b[0m \u001b[32m284.1/284.1 kB\u001b[0m \u001b[31m10.7 MB/s\u001b[0m eta \u001b[36m0:00:00\u001b[0m\n",
            "\u001b[?25hCollecting streamlit>=1.27.0 (from trulens_eval==0.18.0)\n",
            "  Downloading streamlit-1.29.0-py2.py3-none-any.whl (8.4 MB)\n",
            "\u001b[2K     \u001b[90m━━━━━━━━━━━━━━━━━━━━━━━━━━━━━━━━━━━━━━━━\u001b[0m \u001b[32m8.4/8.4 MB\u001b[0m \u001b[31m22.3 MB/s\u001b[0m eta \u001b[36m0:00:00\u001b[0m\n",
            "\u001b[?25hCollecting streamlit-aggrid>=0.3.4.post3 (from trulens_eval==0.18.0)\n",
            "  Downloading streamlit_aggrid-0.3.4.post3-py3-none-any.whl (3.4 MB)\n",
            "\u001b[2K     \u001b[90m━━━━━━━━━━━━━━━━━━━━━━━━━━━━━━━━━━━━━━━━\u001b[0m \u001b[32m3.4/3.4 MB\u001b[0m \u001b[31m39.8 MB/s\u001b[0m eta \u001b[36m0:00:00\u001b[0m\n",
            "\u001b[?25hCollecting streamlit-extras>=0.2.7 (from trulens_eval==0.18.0)\n",
            "  Downloading streamlit_extras-0.3.6-py3-none-any.whl (66 kB)\n",
            "\u001b[2K     \u001b[90m━━━━━━━━━━━━━━━━━━━━━━━━━━━━━━━━━━━━━━━━\u001b[0m \u001b[32m66.0/66.0 kB\u001b[0m \u001b[31m7.8 MB/s\u001b[0m eta \u001b[36m0:00:00\u001b[0m\n",
            "\u001b[?25hCollecting streamlit-javascript>=0.1.5 (from trulens_eval==0.18.0)\n",
            "  Downloading streamlit_javascript-0.1.5-py3-none-any.whl (518 kB)\n",
            "\u001b[2K     \u001b[90m━━━━━━━━━━━━━━━━━━━━━━━━━━━━━━━━━━━━━━━━\u001b[0m \u001b[32m518.4/518.4 kB\u001b[0m \u001b[31m41.5 MB/s\u001b[0m eta \u001b[36m0:00:00\u001b[0m\n",
            "\u001b[?25hRequirement already satisfied: transformers>=4.10.0 in /usr/local/lib/python3.10/dist-packages (from trulens_eval==0.18.0) (4.35.2)\n",
            "Requirement already satisfied: frozendict>=2.3.8 in /usr/local/lib/python3.10/dist-packages (from trulens_eval==0.18.0) (2.3.10)\n",
            "Collecting munch>=3.0.0 (from trulens_eval==0.18.0)\n",
            "  Downloading munch-4.0.0-py2.py3-none-any.whl (9.9 kB)\n",
            "Collecting ipywidgets>=8.0.6 (from trulens_eval==0.18.0)\n",
            "  Downloading ipywidgets-8.1.1-py3-none-any.whl (139 kB)\n",
            "\u001b[2K     \u001b[90m━━━━━━━━━━━━━━━━━━━━━━━━━━━━━━━━━━━━━━━━\u001b[0m \u001b[32m139.4/139.4 kB\u001b[0m \u001b[31m15.0 MB/s\u001b[0m eta \u001b[36m0:00:00\u001b[0m\n",
            "\u001b[?25hRequirement already satisfied: numpy>=1.23.5 in /usr/local/lib/python3.10/dist-packages (from trulens_eval==0.18.0) (1.23.5)\n",
            "Requirement already satisfied: sqlalchemy>=2.0.19 in /usr/local/lib/python3.10/dist-packages (from trulens_eval==0.18.0) (2.0.23)\n",
            "Collecting alembic>=1.11.2 (from trulens_eval==0.18.0)\n",
            "  Downloading alembic-1.13.1-py3-none-any.whl (233 kB)\n",
            "\u001b[2K     \u001b[90m━━━━━━━━━━━━━━━━━━━━━━━━━━━━━━━━━━━━━━━━\u001b[0m \u001b[32m233.4/233.4 kB\u001b[0m \u001b[31m21.9 MB/s\u001b[0m eta \u001b[36m0:00:00\u001b[0m\n",
            "\u001b[?25hCollecting aiostream<0.6.0,>=0.5.2 (from llama-index==0.8.69->trulens_eval==0.18.0)\n",
            "  Downloading aiostream-0.5.2-py3-none-any.whl (39 kB)\n",
            "Collecting dataclasses-json<0.6.0,>=0.5.7 (from llama-index==0.8.69->trulens_eval==0.18.0)\n",
            "  Downloading dataclasses_json-0.5.14-py3-none-any.whl (26 kB)\n",
            "Requirement already satisfied: deprecated>=1.2.9.3 in /usr/local/lib/python3.10/dist-packages (from llama-index==0.8.69->trulens_eval==0.18.0) (1.2.14)\n",
            "Requirement already satisfied: fsspec>=2023.5.0 in /usr/local/lib/python3.10/dist-packages (from llama-index==0.8.69->trulens_eval==0.18.0) (2023.6.0)\n",
            "Requirement already satisfied: nest-asyncio<2.0.0,>=1.5.8 in /usr/local/lib/python3.10/dist-packages (from llama-index==0.8.69->trulens_eval==0.18.0) (1.5.8)\n",
            "Requirement already satisfied: nltk<4.0.0,>=3.8.1 in /usr/local/lib/python3.10/dist-packages (from llama-index==0.8.69->trulens_eval==0.18.0) (3.8.1)\n",
            "Requirement already satisfied: pandas in /usr/local/lib/python3.10/dist-packages (from llama-index==0.8.69->trulens_eval==0.18.0) (1.5.3)\n",
            "Requirement already satisfied: tenacity<9.0.0,>=8.2.0 in /usr/local/lib/python3.10/dist-packages (from llama-index==0.8.69->trulens_eval==0.18.0) (8.2.3)\n",
            "Requirement already satisfied: tiktoken>=0.3.3 in /usr/local/lib/python3.10/dist-packages (from llama-index==0.8.69->trulens_eval==0.18.0) (0.5.2)\n",
            "Requirement already satisfied: urllib3<2 in /usr/local/lib/python3.10/dist-packages (from llama-index==0.8.69->trulens_eval==0.18.0) (1.26.18)\n",
            "Requirement already satisfied: mypy-extensions>=0.3.0 in /usr/local/lib/python3.10/dist-packages (from typing-inspect==0.8.0->trulens_eval==0.18.0) (1.0.0)\n",
            "Collecting Mako (from alembic>=1.11.2->trulens_eval==0.18.0)\n",
            "  Downloading Mako-1.3.0-py3-none-any.whl (78 kB)\n",
            "\u001b[2K     \u001b[90m━━━━━━━━━━━━━━━━━━━━━━━━━━━━━━━━━━━━━━━━\u001b[0m \u001b[32m78.6/78.6 kB\u001b[0m \u001b[31m9.1 MB/s\u001b[0m eta \u001b[36m0:00:00\u001b[0m\n",
            "\u001b[?25hRequirement already satisfied: aiohttp<4.0,>=3.0 in /usr/local/lib/python3.10/dist-packages (from cohere>=4.4.1->trulens_eval==0.18.0) (3.9.1)\n",
            "Requirement already satisfied: backoff<3.0,>=2.0 in /usr/local/lib/python3.10/dist-packages (from cohere>=4.4.1->trulens_eval==0.18.0) (2.2.1)\n",
            "Collecting fastavro<2.0,>=1.8 (from cohere>=4.4.1->trulens_eval==0.18.0)\n",
            "  Downloading fastavro-1.9.2-cp310-cp310-manylinux_2_17_x86_64.manylinux2014_x86_64.whl (3.1 MB)\n",
            "\u001b[2K     \u001b[90m━━━━━━━━━━━━━━━━━━━━━━━━━━━━━━━━━━━━━━━━\u001b[0m \u001b[32m3.1/3.1 MB\u001b[0m \u001b[31m41.5 MB/s\u001b[0m eta \u001b[36m0:00:00\u001b[0m\n",
            "\u001b[?25hRequirement already satisfied: importlib_metadata<7.0,>=6.0 in /usr/local/lib/python3.10/dist-packages (from cohere>=4.4.1->trulens_eval==0.18.0) (6.11.0)\n",
            "Requirement already satisfied: requests<3.0.0,>=2.25.0 in /usr/local/lib/python3.10/dist-packages (from cohere>=4.4.1->trulens_eval==0.18.0) (2.31.0)\n",
            "Requirement already satisfied: pyarrow>=8.0.0 in /usr/local/lib/python3.10/dist-packages (from datasets>=2.12.0->trulens_eval==0.18.0) (10.0.1)\n",
            "Collecting pyarrow-hotfix (from datasets>=2.12.0->trulens_eval==0.18.0)\n",
            "  Downloading pyarrow_hotfix-0.6-py3-none-any.whl (7.9 kB)\n",
            "Collecting dill<0.3.8,>=0.3.0 (from datasets>=2.12.0->trulens_eval==0.18.0)\n",
            "  Downloading dill-0.3.7-py3-none-any.whl (115 kB)\n",
            "\u001b[2K     \u001b[90m━━━━━━━━━━━━━━━━━━━━━━━━━━━━━━━━━━━━━━━━\u001b[0m \u001b[32m115.3/115.3 kB\u001b[0m \u001b[31m12.4 MB/s\u001b[0m eta \u001b[36m0:00:00\u001b[0m\n",
            "\u001b[?25hRequirement already satisfied: tqdm>=4.62.1 in /usr/local/lib/python3.10/dist-packages (from datasets>=2.12.0->trulens_eval==0.18.0) (4.66.1)\n",
            "Requirement already satisfied: xxhash in /usr/local/lib/python3.10/dist-packages (from datasets>=2.12.0->trulens_eval==0.18.0) (3.4.1)\n",
            "Collecting multiprocess (from datasets>=2.12.0->trulens_eval==0.18.0)\n",
            "  Downloading multiprocess-0.70.15-py310-none-any.whl (134 kB)\n",
            "\u001b[2K     \u001b[90m━━━━━━━━━━━━━━━━━━━━━━━━━━━━━━━━━━━━━━━━\u001b[0m \u001b[32m134.8/134.8 kB\u001b[0m \u001b[31m13.6 MB/s\u001b[0m eta \u001b[36m0:00:00\u001b[0m\n",
            "\u001b[?25hRequirement already satisfied: huggingface-hub>=0.18.0 in /usr/local/lib/python3.10/dist-packages (from datasets>=2.12.0->trulens_eval==0.18.0) (0.19.4)\n",
            "Requirement already satisfied: packaging in /usr/local/lib/python3.10/dist-packages (from datasets>=2.12.0->trulens_eval==0.18.0) (23.2)\n",
            "Requirement already satisfied: pyyaml>=5.1 in /usr/local/lib/python3.10/dist-packages (from datasets>=2.12.0->trulens_eval==0.18.0) (6.0.1)\n",
            "Collecting comm>=0.1.3 (from ipywidgets>=8.0.6->trulens_eval==0.18.0)\n",
            "  Downloading comm-0.2.0-py3-none-any.whl (7.0 kB)\n",
            "Requirement already satisfied: ipython>=6.1.0 in /usr/local/lib/python3.10/dist-packages (from ipywidgets>=8.0.6->trulens_eval==0.18.0) (7.34.0)\n",
            "Requirement already satisfied: traitlets>=4.3.1 in /usr/local/lib/python3.10/dist-packages (from ipywidgets>=8.0.6->trulens_eval==0.18.0) (5.7.1)\n",
            "Collecting widgetsnbextension~=4.0.9 (from ipywidgets>=8.0.6->trulens_eval==0.18.0)\n",
            "  Downloading widgetsnbextension-4.0.9-py3-none-any.whl (2.3 MB)\n",
            "\u001b[2K     \u001b[90m━━━━━━━━━━━━━━━━━━━━━━━━━━━━━━━━━━━━━━━━\u001b[0m \u001b[32m2.3/2.3 MB\u001b[0m \u001b[31m40.6 MB/s\u001b[0m eta \u001b[36m0:00:00\u001b[0m\n",
            "\u001b[?25hRequirement already satisfied: jupyterlab-widgets~=3.0.9 in /usr/local/lib/python3.10/dist-packages (from ipywidgets>=8.0.6->trulens_eval==0.18.0) (3.0.9)\n",
            "Requirement already satisfied: six>=1.10 in /usr/local/lib/python3.10/dist-packages (from kaggle>=1.5.13->trulens_eval==0.18.0) (1.16.0)\n",
            "Requirement already satisfied: certifi in /usr/local/lib/python3.10/dist-packages (from kaggle>=1.5.13->trulens_eval==0.18.0) (2023.11.17)\n",
            "Requirement already satisfied: python-dateutil in /usr/local/lib/python3.10/dist-packages (from kaggle>=1.5.13->trulens_eval==0.18.0) (2.8.2)\n",
            "Requirement already satisfied: python-slugify in /usr/local/lib/python3.10/dist-packages (from kaggle>=1.5.13->trulens_eval==0.18.0) (8.0.1)\n",
            "Requirement already satisfied: bleach in /usr/local/lib/python3.10/dist-packages (from kaggle>=1.5.13->trulens_eval==0.18.0) (6.1.0)\n",
            "Requirement already satisfied: async-timeout<5.0.0,>=4.0.0 in /usr/local/lib/python3.10/dist-packages (from langchain>=0.0.335->trulens_eval==0.18.0) (4.0.3)\n",
            "Requirement already satisfied: jsonpatch<2.0,>=1.33 in /usr/local/lib/python3.10/dist-packages (from langchain>=0.0.335->trulens_eval==0.18.0) (1.33)\n",
            "Requirement already satisfied: langchain-community<0.1,>=0.0.2 in /usr/local/lib/python3.10/dist-packages (from langchain>=0.0.335->trulens_eval==0.18.0) (0.0.6)\n",
            "Requirement already satisfied: langchain-core<0.2,>=0.1 in /usr/local/lib/python3.10/dist-packages (from langchain>=0.0.335->trulens_eval==0.18.0) (0.1.3)\n",
            "Requirement already satisfied: langsmith<0.1.0,>=0.0.70 in /usr/local/lib/python3.10/dist-packages (from langchain>=0.0.335->trulens_eval==0.18.0) (0.0.74)\n",
            "Requirement already satisfied: anyio<5,>=3.5.0 in /usr/local/lib/python3.10/dist-packages (from openai<2,>=1.1.1->trulens_eval==0.18.0) (3.7.1)\n",
            "Requirement already satisfied: distro<2,>=1.7.0 in /usr/lib/python3/dist-packages (from openai<2,>=1.1.1->trulens_eval==0.18.0) (1.7.0)\n",
            "Requirement already satisfied: httpx<1,>=0.23.0 in /usr/local/lib/python3.10/dist-packages (from openai<2,>=1.1.1->trulens_eval==0.18.0) (0.26.0)\n",
            "Requirement already satisfied: sniffio in /usr/local/lib/python3.10/dist-packages (from openai<2,>=1.1.1->trulens_eval==0.18.0) (1.3.0)\n",
            "INFO: pip is looking at multiple versions of openai to determine which version is compatible with other requirements. This could take a while.\n",
            "Collecting openai<2,>=1.1.1 (from trulens_eval==0.18.0)\n",
            "  Downloading openai-1.5.0-py3-none-any.whl (223 kB)\n",
            "\u001b[2K     \u001b[90m━━━━━━━━━━━━━━━━━━━━━━━━━━━━━━━━━━━━━━━━\u001b[0m \u001b[32m223.7/223.7 kB\u001b[0m \u001b[31m22.9 MB/s\u001b[0m eta \u001b[36m0:00:00\u001b[0m\n",
            "\u001b[?25hCollecting loguru>=0.5.0 (from pinecone-client>=2.2.1->trulens_eval==0.18.0)\n",
            "  Downloading loguru-0.7.2-py3-none-any.whl (62 kB)\n",
            "\u001b[2K     \u001b[90m━━━━━━━━━━━━━━━━━━━━━━━━━━━━━━━━━━━━━━━━\u001b[0m \u001b[32m62.5/62.5 kB\u001b[0m \u001b[31m7.1 MB/s\u001b[0m eta \u001b[36m0:00:00\u001b[0m\n",
            "\u001b[?25hCollecting dnspython>=2.0.0 (from pinecone-client>=2.2.1->trulens_eval==0.18.0)\n",
            "  Downloading dnspython-2.4.2-py3-none-any.whl (300 kB)\n",
            "\u001b[2K     \u001b[90m━━━━━━━━━━━━━━━━━━━━━━━━━━━━━━━━━━━━━━━━\u001b[0m \u001b[32m300.4/300.4 kB\u001b[0m \u001b[31m23.2 MB/s\u001b[0m eta \u001b[36m0:00:00\u001b[0m\n",
            "\u001b[?25hRequirement already satisfied: greenlet!=0.4.17 in /usr/local/lib/python3.10/dist-packages (from sqlalchemy>=2.0.19->trulens_eval==0.18.0) (3.0.1)\n",
            "Requirement already satisfied: altair<6,>=4.0 in /usr/local/lib/python3.10/dist-packages (from streamlit>=1.27.0->trulens_eval==0.18.0) (4.2.2)\n",
            "Requirement already satisfied: blinker<2,>=1.0.0 in /usr/lib/python3/dist-packages (from streamlit>=1.27.0->trulens_eval==0.18.0) (1.4)\n",
            "Requirement already satisfied: cachetools<6,>=4.0 in /usr/local/lib/python3.10/dist-packages (from streamlit>=1.27.0->trulens_eval==0.18.0) (5.3.2)\n",
            "Requirement already satisfied: click<9,>=7.0 in /usr/local/lib/python3.10/dist-packages (from streamlit>=1.27.0->trulens_eval==0.18.0) (8.1.7)\n",
            "Requirement already satisfied: pillow<11,>=7.1.0 in /usr/local/lib/python3.10/dist-packages (from streamlit>=1.27.0->trulens_eval==0.18.0) (9.4.0)\n",
            "Requirement already satisfied: protobuf<5,>=3.20 in /usr/local/lib/python3.10/dist-packages (from streamlit>=1.27.0->trulens_eval==0.18.0) (3.20.3)\n",
            "Requirement already satisfied: rich<14,>=10.14.0 in /usr/local/lib/python3.10/dist-packages (from streamlit>=1.27.0->trulens_eval==0.18.0) (13.7.0)\n",
            "Requirement already satisfied: toml<2,>=0.10.1 in /usr/local/lib/python3.10/dist-packages (from streamlit>=1.27.0->trulens_eval==0.18.0) (0.10.2)\n",
            "Requirement already satisfied: tzlocal<6,>=1.1 in /usr/local/lib/python3.10/dist-packages (from streamlit>=1.27.0->trulens_eval==0.18.0) (5.2)\n",
            "Collecting validators<1,>=0.2 (from streamlit>=1.27.0->trulens_eval==0.18.0)\n",
            "  Downloading validators-0.22.0-py3-none-any.whl (26 kB)\n",
            "Collecting gitpython!=3.1.19,<4,>=3.0.7 (from streamlit>=1.27.0->trulens_eval==0.18.0)\n",
            "  Downloading GitPython-3.1.40-py3-none-any.whl (190 kB)\n",
            "\u001b[2K     \u001b[90m━━━━━━━━━━━━━━━━━━━━━━━━━━━━━━━━━━━━━━━━\u001b[0m \u001b[32m190.6/190.6 kB\u001b[0m \u001b[31m20.4 MB/s\u001b[0m eta \u001b[36m0:00:00\u001b[0m\n",
            "\u001b[?25hCollecting pydeck<1,>=0.8.0b4 (from streamlit>=1.27.0->trulens_eval==0.18.0)\n",
            "  Downloading pydeck-0.8.1b0-py2.py3-none-any.whl (4.8 MB)\n",
            "\u001b[2K     \u001b[90m━━━━━━━━━━━━━━━━━━━━━━━━━━━━━━━━━━━━━━━━\u001b[0m \u001b[32m4.8/4.8 MB\u001b[0m \u001b[31m46.0 MB/s\u001b[0m eta \u001b[36m0:00:00\u001b[0m\n",
            "\u001b[?25hRequirement already satisfied: tornado<7,>=6.0.3 in /usr/local/lib/python3.10/dist-packages (from streamlit>=1.27.0->trulens_eval==0.18.0) (6.3.2)\n",
            "Collecting watchdog>=2.1.5 (from streamlit>=1.27.0->trulens_eval==0.18.0)\n",
            "  Downloading watchdog-3.0.0-py3-none-manylinux2014_x86_64.whl (82 kB)\n",
            "\u001b[2K     \u001b[90m━━━━━━━━━━━━━━━━━━━━━━━━━━━━━━━━━━━━━━━━\u001b[0m \u001b[32m82.1/82.1 kB\u001b[0m \u001b[31m9.0 MB/s\u001b[0m eta \u001b[36m0:00:00\u001b[0m\n",
            "\u001b[?25hCollecting python-decouple<4.0,>=3.6 (from streamlit-aggrid>=0.3.4.post3->trulens_eval==0.18.0)\n",
            "  Downloading python_decouple-3.8-py3-none-any.whl (9.9 kB)\n",
            "Requirement already satisfied: entrypoints>=0.4 in /usr/local/lib/python3.10/dist-packages (from streamlit-extras>=0.2.7->trulens_eval==0.18.0) (0.4)\n",
            "Collecting htbuilder>=0.6.2 (from streamlit-extras>=0.2.7->trulens_eval==0.18.0)\n",
            "  Downloading htbuilder-0.6.2-py3-none-any.whl (12 kB)\n",
            "Collecting markdownlit>=0.0.5 (from streamlit-extras>=0.2.7->trulens_eval==0.18.0)\n",
            "  Downloading markdownlit-0.0.7-py3-none-any.whl (15 kB)\n",
            "Collecting st-annotated-text>=3.0.0 (from streamlit-extras>=0.2.7->trulens_eval==0.18.0)\n",
            "  Downloading st_annotated_text-4.0.1-py3-none-any.whl (9.0 kB)\n",
            "Collecting streamlit-camera-input-live>=0.2.0 (from streamlit-extras>=0.2.7->trulens_eval==0.18.0)\n",
            "  Downloading streamlit_camera_input_live-0.2.0-py3-none-any.whl (6.6 kB)\n",
            "Collecting streamlit-card>=0.0.4 (from streamlit-extras>=0.2.7->trulens_eval==0.18.0)\n",
            "  Downloading streamlit_card-1.0.0-py3-none-any.whl (680 kB)\n",
            "\u001b[2K     \u001b[90m━━━━━━━━━━━━━━━━━━━━━━━━━━━━━━━━━━━━━━━━\u001b[0m \u001b[32m680.8/680.8 kB\u001b[0m \u001b[31m37.1 MB/s\u001b[0m eta \u001b[36m0:00:00\u001b[0m\n",
            "\u001b[?25hCollecting streamlit-embedcode>=0.1.2 (from streamlit-extras>=0.2.7->trulens_eval==0.18.0)\n",
            "  Downloading streamlit_embedcode-0.1.2-py3-none-any.whl (3.5 kB)\n",
            "Collecting streamlit-faker>=0.0.2 (from streamlit-extras>=0.2.7->trulens_eval==0.18.0)\n",
            "  Downloading streamlit_faker-0.0.3-py3-none-any.whl (14 kB)\n",
            "Collecting streamlit-image-coordinates<0.2.0,>=0.1.1 (from streamlit-extras>=0.2.7->trulens_eval==0.18.0)\n",
            "  Downloading streamlit_image_coordinates-0.1.6-py3-none-any.whl (6.3 kB)\n",
            "Collecting streamlit-keyup>=0.1.9 (from streamlit-extras>=0.2.7->trulens_eval==0.18.0)\n",
            "  Downloading streamlit_keyup-0.2.2-py3-none-any.whl (7.4 kB)\n",
            "Collecting streamlit-toggle-switch>=1.0.2 (from streamlit-extras>=0.2.7->trulens_eval==0.18.0)\n",
            "  Downloading streamlit_toggle_switch-1.0.2-py3-none-any.whl (635 kB)\n",
            "\u001b[2K     \u001b[90m━━━━━━━━━━━━━━━━━━━━━━━━━━━━━━━━━━━━━━━━\u001b[0m \u001b[32m635.4/635.4 kB\u001b[0m \u001b[31m36.1 MB/s\u001b[0m eta \u001b[36m0:00:00\u001b[0m\n",
            "\u001b[?25hCollecting streamlit-vertical-slider>=1.0.2 (from streamlit-extras>=0.2.7->trulens_eval==0.18.0)\n",
            "  Downloading streamlit_vertical_slider-2.5.3-py3-none-any.whl (1.8 MB)\n",
            "\u001b[2K     \u001b[90m━━━━━━━━━━━━━━━━━━━━━━━━━━━━━━━━━━━━━━━━\u001b[0m \u001b[32m1.8/1.8 MB\u001b[0m \u001b[31m48.2 MB/s\u001b[0m eta \u001b[36m0:00:00\u001b[0m\n",
            "\u001b[?25hRequirement already satisfied: filelock in /usr/local/lib/python3.10/dist-packages (from transformers>=4.10.0->trulens_eval==0.18.0) (3.13.1)\n",
            "Requirement already satisfied: regex!=2019.12.17 in /usr/local/lib/python3.10/dist-packages (from transformers>=4.10.0->trulens_eval==0.18.0) (2023.6.3)\n",
            "Requirement already satisfied: tokenizers<0.19,>=0.14 in /usr/local/lib/python3.10/dist-packages (from transformers>=4.10.0->trulens_eval==0.18.0) (0.15.0)\n",
            "Requirement already satisfied: safetensors>=0.3.1 in /usr/local/lib/python3.10/dist-packages (from transformers>=4.10.0->trulens_eval==0.18.0) (0.4.1)\n",
            "Requirement already satisfied: attrs>=17.3.0 in /usr/local/lib/python3.10/dist-packages (from aiohttp<4.0,>=3.0->cohere>=4.4.1->trulens_eval==0.18.0) (23.1.0)\n",
            "Requirement already satisfied: multidict<7.0,>=4.5 in /usr/local/lib/python3.10/dist-packages (from aiohttp<4.0,>=3.0->cohere>=4.4.1->trulens_eval==0.18.0) (6.0.4)\n",
            "Requirement already satisfied: yarl<2.0,>=1.0 in /usr/local/lib/python3.10/dist-packages (from aiohttp<4.0,>=3.0->cohere>=4.4.1->trulens_eval==0.18.0) (1.9.4)\n",
            "Requirement already satisfied: frozenlist>=1.1.1 in /usr/local/lib/python3.10/dist-packages (from aiohttp<4.0,>=3.0->cohere>=4.4.1->trulens_eval==0.18.0) (1.4.1)\n",
            "Requirement already satisfied: aiosignal>=1.1.2 in /usr/local/lib/python3.10/dist-packages (from aiohttp<4.0,>=3.0->cohere>=4.4.1->trulens_eval==0.18.0) (1.3.1)\n",
            "Requirement already satisfied: jinja2 in /usr/local/lib/python3.10/dist-packages (from altair<6,>=4.0->streamlit>=1.27.0->trulens_eval==0.18.0) (3.1.2)\n",
            "Requirement already satisfied: jsonschema>=3.0 in /usr/local/lib/python3.10/dist-packages (from altair<6,>=4.0->streamlit>=1.27.0->trulens_eval==0.18.0) (4.19.2)\n",
            "Requirement already satisfied: toolz in /usr/local/lib/python3.10/dist-packages (from altair<6,>=4.0->streamlit>=1.27.0->trulens_eval==0.18.0) (0.12.0)\n",
            "Requirement already satisfied: idna>=2.8 in /usr/local/lib/python3.10/dist-packages (from anyio<5,>=3.5.0->openai<2,>=1.1.1->trulens_eval==0.18.0) (3.6)\n",
            "Requirement already satisfied: exceptiongroup in /usr/local/lib/python3.10/dist-packages (from anyio<5,>=3.5.0->openai<2,>=1.1.1->trulens_eval==0.18.0) (1.2.0)\n",
            "Requirement already satisfied: marshmallow<4.0.0,>=3.18.0 in /usr/local/lib/python3.10/dist-packages (from dataclasses-json<0.6.0,>=0.5.7->llama-index==0.8.69->trulens_eval==0.18.0) (3.20.1)\n",
            "Requirement already satisfied: wrapt<2,>=1.10 in /usr/local/lib/python3.10/dist-packages (from deprecated>=1.2.9.3->llama-index==0.8.69->trulens_eval==0.18.0) (1.14.1)\n",
            "Collecting gitdb<5,>=4.0.1 (from gitpython!=3.1.19,<4,>=3.0.7->streamlit>=1.27.0->trulens_eval==0.18.0)\n",
            "  Downloading gitdb-4.0.11-py3-none-any.whl (62 kB)\n",
            "\u001b[2K     \u001b[90m━━━━━━━━━━━━━━━━━━━━━━━━━━━━━━━━━━━━━━━━\u001b[0m \u001b[32m62.7/62.7 kB\u001b[0m \u001b[31m6.3 MB/s\u001b[0m eta \u001b[36m0:00:00\u001b[0m\n",
            "\u001b[?25hRequirement already satisfied: more-itertools in /usr/local/lib/python3.10/dist-packages (from htbuilder>=0.6.2->streamlit-extras>=0.2.7->trulens_eval==0.18.0) (10.1.0)\n",
            "Requirement already satisfied: httpcore==1.* in /usr/local/lib/python3.10/dist-packages (from httpx<1,>=0.23.0->openai<2,>=1.1.1->trulens_eval==0.18.0) (1.0.2)\n",
            "Requirement already satisfied: h11<0.15,>=0.13 in /usr/local/lib/python3.10/dist-packages (from httpcore==1.*->httpx<1,>=0.23.0->openai<2,>=1.1.1->trulens_eval==0.18.0) (0.14.0)\n",
            "Requirement already satisfied: zipp>=0.5 in /usr/local/lib/python3.10/dist-packages (from importlib_metadata<7.0,>=6.0->cohere>=4.4.1->trulens_eval==0.18.0) (3.17.0)\n",
            "Requirement already satisfied: setuptools>=18.5 in /usr/local/lib/python3.10/dist-packages (from ipython>=6.1.0->ipywidgets>=8.0.6->trulens_eval==0.18.0) (67.7.2)\n",
            "Collecting jedi>=0.16 (from ipython>=6.1.0->ipywidgets>=8.0.6->trulens_eval==0.18.0)\n",
            "  Downloading jedi-0.19.1-py2.py3-none-any.whl (1.6 MB)\n",
            "\u001b[2K     \u001b[90m━━━━━━━━━━━━━━━━━━━━━━━━━━━━━━━━━━━━━━━━\u001b[0m \u001b[32m1.6/1.6 MB\u001b[0m \u001b[31m46.5 MB/s\u001b[0m eta \u001b[36m0:00:00\u001b[0m\n",
            "\u001b[?25hRequirement already satisfied: decorator in /usr/local/lib/python3.10/dist-packages (from ipython>=6.1.0->ipywidgets>=8.0.6->trulens_eval==0.18.0) (4.4.2)\n",
            "Requirement already satisfied: pickleshare in /usr/local/lib/python3.10/dist-packages (from ipython>=6.1.0->ipywidgets>=8.0.6->trulens_eval==0.18.0) (0.7.5)\n",
            "Requirement already satisfied: prompt-toolkit!=3.0.0,!=3.0.1,<3.1.0,>=2.0.0 in /usr/local/lib/python3.10/dist-packages (from ipython>=6.1.0->ipywidgets>=8.0.6->trulens_eval==0.18.0) (3.0.43)\n",
            "Requirement already satisfied: pygments in /usr/local/lib/python3.10/dist-packages (from ipython>=6.1.0->ipywidgets>=8.0.6->trulens_eval==0.18.0) (2.16.1)\n",
            "Requirement already satisfied: backcall in /usr/local/lib/python3.10/dist-packages (from ipython>=6.1.0->ipywidgets>=8.0.6->trulens_eval==0.18.0) (0.2.0)\n",
            "Requirement already satisfied: matplotlib-inline in /usr/local/lib/python3.10/dist-packages (from ipython>=6.1.0->ipywidgets>=8.0.6->trulens_eval==0.18.0) (0.1.6)\n",
            "Requirement already satisfied: pexpect>4.3 in /usr/local/lib/python3.10/dist-packages (from ipython>=6.1.0->ipywidgets>=8.0.6->trulens_eval==0.18.0) (4.9.0)\n",
            "Requirement already satisfied: jsonpointer>=1.9 in /usr/local/lib/python3.10/dist-packages (from jsonpatch<2.0,>=1.33->langchain>=0.0.335->trulens_eval==0.18.0) (2.4)\n",
            "Requirement already satisfied: markdown in /usr/local/lib/python3.10/dist-packages (from markdownlit>=0.0.5->streamlit-extras>=0.2.7->trulens_eval==0.18.0) (3.5.1)\n",
            "Requirement already satisfied: lxml in /usr/local/lib/python3.10/dist-packages (from markdownlit>=0.0.5->streamlit-extras>=0.2.7->trulens_eval==0.18.0) (4.9.3)\n",
            "Collecting favicon (from markdownlit>=0.0.5->streamlit-extras>=0.2.7->trulens_eval==0.18.0)\n",
            "  Downloading favicon-0.7.0-py2.py3-none-any.whl (5.9 kB)\n",
            "Collecting pymdown-extensions (from markdownlit>=0.0.5->streamlit-extras>=0.2.7->trulens_eval==0.18.0)\n",
            "  Downloading pymdown_extensions-10.5-py3-none-any.whl (241 kB)\n",
            "\u001b[2K     \u001b[90m━━━━━━━━━━━━━━━━━━━━━━━━━━━━━━━━━━━━━━━━\u001b[0m \u001b[32m241.1/241.1 kB\u001b[0m \u001b[31m19.4 MB/s\u001b[0m eta \u001b[36m0:00:00\u001b[0m\n",
            "\u001b[?25hRequirement already satisfied: joblib in /usr/local/lib/python3.10/dist-packages (from nltk<4.0.0,>=3.8.1->llama-index==0.8.69->trulens_eval==0.18.0) (1.3.2)\n",
            "Requirement already satisfied: pytz>=2020.1 in /usr/local/lib/python3.10/dist-packages (from pandas->llama-index==0.8.69->trulens_eval==0.18.0) (2023.3.post1)\n",
            "Requirement already satisfied: charset-normalizer<4,>=2 in /usr/local/lib/python3.10/dist-packages (from requests<3.0.0,>=2.25.0->cohere>=4.4.1->trulens_eval==0.18.0) (3.3.2)\n",
            "Requirement already satisfied: markdown-it-py>=2.2.0 in /usr/local/lib/python3.10/dist-packages (from rich<14,>=10.14.0->streamlit>=1.27.0->trulens_eval==0.18.0) (3.0.0)\n",
            "Collecting faker (from streamlit-faker>=0.0.2->streamlit-extras>=0.2.7->trulens_eval==0.18.0)\n",
            "  Downloading Faker-21.0.0-py3-none-any.whl (1.7 MB)\n",
            "\u001b[2K     \u001b[90m━━━━━━━━━━━━━━━━━━━━━━━━━━━━━━━━━━━━━━━━\u001b[0m \u001b[32m1.7/1.7 MB\u001b[0m \u001b[31m47.0 MB/s\u001b[0m eta \u001b[36m0:00:00\u001b[0m\n",
            "\u001b[?25hRequirement already satisfied: matplotlib in /usr/local/lib/python3.10/dist-packages (from streamlit-faker>=0.0.2->streamlit-extras>=0.2.7->trulens_eval==0.18.0) (3.7.1)\n",
            "Requirement already satisfied: webencodings in /usr/local/lib/python3.10/dist-packages (from bleach->kaggle>=1.5.13->trulens_eval==0.18.0) (0.5.1)\n",
            "Requirement already satisfied: MarkupSafe>=0.9.2 in /usr/local/lib/python3.10/dist-packages (from Mako->alembic>=1.11.2->trulens_eval==0.18.0) (2.1.3)\n",
            "Requirement already satisfied: text-unidecode>=1.3 in /usr/local/lib/python3.10/dist-packages (from python-slugify->kaggle>=1.5.13->trulens_eval==0.18.0) (1.3)\n",
            "Collecting smmap<6,>=3.0.1 (from gitdb<5,>=4.0.1->gitpython!=3.1.19,<4,>=3.0.7->streamlit>=1.27.0->trulens_eval==0.18.0)\n",
            "  Downloading smmap-5.0.1-py3-none-any.whl (24 kB)\n",
            "Requirement already satisfied: parso<0.9.0,>=0.8.3 in /usr/local/lib/python3.10/dist-packages (from jedi>=0.16->ipython>=6.1.0->ipywidgets>=8.0.6->trulens_eval==0.18.0) (0.8.3)\n",
            "Requirement already satisfied: jsonschema-specifications>=2023.03.6 in /usr/local/lib/python3.10/dist-packages (from jsonschema>=3.0->altair<6,>=4.0->streamlit>=1.27.0->trulens_eval==0.18.0) (2023.11.2)\n",
            "Requirement already satisfied: referencing>=0.28.4 in /usr/local/lib/python3.10/dist-packages (from jsonschema>=3.0->altair<6,>=4.0->streamlit>=1.27.0->trulens_eval==0.18.0) (0.32.0)\n",
            "Requirement already satisfied: rpds-py>=0.7.1 in /usr/local/lib/python3.10/dist-packages (from jsonschema>=3.0->altair<6,>=4.0->streamlit>=1.27.0->trulens_eval==0.18.0) (0.15.2)\n",
            "Requirement already satisfied: mdurl~=0.1 in /usr/local/lib/python3.10/dist-packages (from markdown-it-py>=2.2.0->rich<14,>=10.14.0->streamlit>=1.27.0->trulens_eval==0.18.0) (0.1.2)\n",
            "Requirement already satisfied: ptyprocess>=0.5 in /usr/local/lib/python3.10/dist-packages (from pexpect>4.3->ipython>=6.1.0->ipywidgets>=8.0.6->trulens_eval==0.18.0) (0.7.0)\n",
            "Requirement already satisfied: wcwidth in /usr/local/lib/python3.10/dist-packages (from prompt-toolkit!=3.0.0,!=3.0.1,<3.1.0,>=2.0.0->ipython>=6.1.0->ipywidgets>=8.0.6->trulens_eval==0.18.0) (0.2.12)\n",
            "Requirement already satisfied: beautifulsoup4>=4.7.0 in /usr/local/lib/python3.10/dist-packages (from favicon->markdownlit>=0.0.5->streamlit-extras>=0.2.7->trulens_eval==0.18.0) (4.11.2)\n",
            "Requirement already satisfied: contourpy>=1.0.1 in /usr/local/lib/python3.10/dist-packages (from matplotlib->streamlit-faker>=0.0.2->streamlit-extras>=0.2.7->trulens_eval==0.18.0) (1.2.0)\n",
            "Requirement already satisfied: cycler>=0.10 in /usr/local/lib/python3.10/dist-packages (from matplotlib->streamlit-faker>=0.0.2->streamlit-extras>=0.2.7->trulens_eval==0.18.0) (0.12.1)\n",
            "Requirement already satisfied: fonttools>=4.22.0 in /usr/local/lib/python3.10/dist-packages (from matplotlib->streamlit-faker>=0.0.2->streamlit-extras>=0.2.7->trulens_eval==0.18.0) (4.46.0)\n",
            "Requirement already satisfied: kiwisolver>=1.0.1 in /usr/local/lib/python3.10/dist-packages (from matplotlib->streamlit-faker>=0.0.2->streamlit-extras>=0.2.7->trulens_eval==0.18.0) (1.4.5)\n",
            "Requirement already satisfied: pyparsing>=2.3.1 in /usr/local/lib/python3.10/dist-packages (from matplotlib->streamlit-faker>=0.0.2->streamlit-extras>=0.2.7->trulens_eval==0.18.0) (3.1.1)\n",
            "Requirement already satisfied: soupsieve>1.2 in /usr/local/lib/python3.10/dist-packages (from beautifulsoup4>=4.7.0->favicon->markdownlit>=0.0.5->streamlit-extras>=0.2.7->trulens_eval==0.18.0) (2.5)\n",
            "Building wheels for collected packages: millify\n",
            "  Building wheel for millify (setup.py) ... \u001b[?25l\u001b[?25hdone\n",
            "  Created wheel for millify: filename=millify-0.1.1-py3-none-any.whl size=1845 sha256=d5b29a7f7a7a0b62dca918aaf1cf47deff9ddd9901546855a3599fc0997429f2\n",
            "  Stored in directory: /root/.cache/pip/wheels/67/8f/53/2759feac2e247ce89c1165c3ff12d484de7714a875ea3464f0\n",
            "Successfully built millify\n",
            "Installing collected packages: python-decouple, millify, widgetsnbextension, watchdog, validators, typing-extensions, smmap, slack-sdk, pymdown-extensions, pyarrow-hotfix, munch, merkle-json, Mako, loguru, jedi, htbuilder, fastavro, dnspython, dill, comm, typing-inspect, st-annotated-text, slack-bolt, pydeck, pinecone-client, multiprocess, gitdb, favicon, faker, aiostream, openai, ipywidgets, gitpython, dataclasses-json, cohere, alembic, datasets, streamlit, streamlit-vertical-slider, streamlit-toggle-switch, streamlit-keyup, streamlit-javascript, streamlit-image-coordinates, streamlit-embedcode, streamlit-card, streamlit-camera-input-live, streamlit-aggrid, llama-index, streamlit-faker, markdownlit, streamlit-extras, trulens_eval\n",
            "  Attempting uninstall: widgetsnbextension\n",
            "    Found existing installation: widgetsnbextension 3.6.6\n",
            "    Uninstalling widgetsnbextension-3.6.6:\n",
            "      Successfully uninstalled widgetsnbextension-3.6.6\n",
            "  Attempting uninstall: typing-extensions\n",
            "    Found existing installation: typing_extensions 4.9.0\n",
            "    Uninstalling typing_extensions-4.9.0:\n",
            "      Successfully uninstalled typing_extensions-4.9.0\n",
            "  Attempting uninstall: typing-inspect\n",
            "    Found existing installation: typing-inspect 0.9.0\n",
            "    Uninstalling typing-inspect-0.9.0:\n",
            "      Successfully uninstalled typing-inspect-0.9.0\n",
            "  Attempting uninstall: openai\n",
            "    Found existing installation: openai 1.6.0\n",
            "    Uninstalling openai-1.6.0:\n",
            "      Successfully uninstalled openai-1.6.0\n",
            "  Attempting uninstall: ipywidgets\n",
            "    Found existing installation: ipywidgets 7.7.1\n",
            "    Uninstalling ipywidgets-7.7.1:\n",
            "      Successfully uninstalled ipywidgets-7.7.1\n",
            "  Attempting uninstall: dataclasses-json\n",
            "    Found existing installation: dataclasses-json 0.6.3\n",
            "    Uninstalling dataclasses-json-0.6.3:\n",
            "      Successfully uninstalled dataclasses-json-0.6.3\n",
            "\u001b[31mERROR: pip's dependency resolver does not currently take into account all the packages that are installed. This behaviour is the source of the following dependency conflicts.\n",
            "lida 0.0.10 requires kaleido, which is not installed.\n",
            "lida 0.0.10 requires python-multipart, which is not installed.\u001b[0m\u001b[31m\n",
            "\u001b[0mSuccessfully installed Mako-1.3.0 aiostream-0.5.2 alembic-1.13.1 cohere-4.39 comm-0.2.0 dataclasses-json-0.5.14 datasets-2.15.0 dill-0.3.7 dnspython-2.4.2 faker-21.0.0 fastavro-1.9.2 favicon-0.7.0 gitdb-4.0.11 gitpython-3.1.40 htbuilder-0.6.2 ipywidgets-8.1.1 jedi-0.19.1 llama-index-0.8.69 loguru-0.7.2 markdownlit-0.0.7 merkle-json-1.0.0 millify-0.1.1 multiprocess-0.70.15 munch-4.0.0 openai-1.5.0 pinecone-client-2.2.4 pyarrow-hotfix-0.6 pydeck-0.8.1b0 pymdown-extensions-10.5 python-decouple-3.8 slack-bolt-1.18.1 slack-sdk-3.26.1 smmap-5.0.1 st-annotated-text-4.0.1 streamlit-1.29.0 streamlit-aggrid-0.3.4.post3 streamlit-camera-input-live-0.2.0 streamlit-card-1.0.0 streamlit-embedcode-0.1.2 streamlit-extras-0.3.6 streamlit-faker-0.0.3 streamlit-image-coordinates-0.1.6 streamlit-javascript-0.1.5 streamlit-keyup-0.2.2 streamlit-toggle-switch-1.0.2 streamlit-vertical-slider-2.5.3 trulens_eval-0.18.0 typing-extensions-4.5.0 typing-inspect-0.8.0 validators-0.22.0 watchdog-3.0.0 widgetsnbextension-4.0.9\n"
          ]
        },
        {
          "output_type": "display_data",
          "data": {
            "application/vnd.colab-display-data+json": {
              "pip_warning": {
                "packages": [
                  "ipywidgets"
                ]
              }
            }
          },
          "metadata": {}
        }
      ]
    },
    {
      "cell_type": "markdown",
      "source": [
        "**Note - You must restart the runtime in order to use newly installed versions.**"
      ],
      "metadata": {
        "id": "gH_AN2_3M3jk"
      }
    },
    {
      "cell_type": "code",
      "source": [
        "from IPython.display import JSON\n",
        "from trulens_eval import Feedback, Tru\n",
        "tru = Tru()\n",
        "tru.reset_database()"
      ],
      "metadata": {
        "colab": {
          "base_uri": "https://localhost:8080/"
        },
        "id": "oKbIWiqVhdFq",
        "outputId": "c4a94c45-0482-4ee7-deab-93707bc3a7e7"
      },
      "execution_count": null,
      "outputs": [
        {
          "output_type": "stream",
          "name": "stdout",
          "text": [
            "🦑 Tru initialized with db url sqlite:///default.sqlite .\n",
            "🛑 Secret keys may be written to the database. See the `database_redact_keys` option of `Tru` to prevent this.\n"
          ]
        }
      ]
    },
    {
      "cell_type": "code",
      "source": [
        "from google.cloud import aiplatform\n",
        "aiplatform.init(\n",
        "    project = PROJECT_ID,\n",
        "    location= LOCATION\n",
        ")"
      ],
      "metadata": {
        "id": "adjlOil_cqh9"
      },
      "execution_count": null,
      "outputs": []
    },
    {
      "cell_type": "code",
      "source": [
        "from google.colab import userdata\n",
        "GOOGLE_API_KEY=userdata.get('google_key')\n",
        "\n",
        "genai.configure(api_key=GOOGLE_API_KEY)"
      ],
      "metadata": {
        "id": "bOQgN2jZVhG_"
      },
      "execution_count": null,
      "outputs": []
    },
    {
      "cell_type": "code",
      "source": [
        "import litellm\n",
        "litellm.vertex_project = PROJECT_ID\n",
        "litellm.vertex_location = LOCATION"
      ],
      "metadata": {
        "id": "JJYRwnrTZql_"
      },
      "execution_count": null,
      "outputs": []
    },
    {
      "cell_type": "code",
      "source": [
        "from trulens_eval.feedback.provider.litellm import LiteLLM\n",
        "litellm_provider = LiteLLM()"
      ],
      "metadata": {
        "id": "ytf0m8B2dnFU"
      },
      "execution_count": null,
      "outputs": []
    },
    {
      "cell_type": "code",
      "source": [
        "import litellm\n",
        "from trulens_eval.tru_custom_app import instrument\n",
        "\n",
        "class Gemini_RAG:\n",
        "    def get_relevant_passage(self, query):\n",
        "      passage = db.query(query_texts=[query], n_results=1)['documents'][0][0]\n",
        "      return passage\n",
        "\n",
        "    def make_prompt(query, relevant_passage):\n",
        "      escaped = relevant_passage.replace(\"'\", \"\").replace('\"', \"\").replace(\"\\n\", \" \")\n",
        "      prompt = (\"\"\"You are a helpful and informative bot that answers questions using text from the reference passage included below. \\\n",
        "      If the passage is irrelevant to the answer, you may ignore it.\n",
        "      QUESTION: '{query}'\n",
        "      PASSAGE: '{relevant_passage}'\n",
        "\n",
        "        ANSWER:\n",
        "      \"\"\").format(query=query, relevant_passage=escaped)\n",
        "\n",
        "      return prompt\n",
        "\n",
        "    @instrument\n",
        "    def generate_completion(self, query: str, context_str: list) -> str:\n",
        "        \"\"\"\n",
        "        Generate answer from context.\n",
        "        \"\"\"\n",
        "        response = litellm.completion(model=\"gemini-pro\", messages= [\n",
        "            {\"role\": \"user\",\n",
        "            \"content\":\n",
        "            f\"We have provided context information below. \\n\"\n",
        "            f\"---------------------\\n\"\n",
        "            f\"{context_str}\"\n",
        "            f\"\\n---------------------\\n\"\n",
        "            f\"Given this information, please answer the question: {query}\"\n",
        "            }\n",
        "        ])\n",
        "\n",
        "        content = ''\n",
        "        if response != None and len(response.choices) > 0:\n",
        "          content = response.choices[0].message.content\n",
        "          print(content)\n",
        "\n",
        "        return content\n",
        "\n",
        "    @instrument\n",
        "    def query(self, query: str) -> str:\n",
        "        passage = self.get_relevant_passage(query)\n",
        "        Markdown(passage)\n",
        "        prompt = make_prompt(query, passage)\n",
        "        Markdown(prompt)\n",
        "        completion = self.generate_completion(query, prompt)\n",
        "        return completion\n",
        "\n",
        "# Please make sure to run the Retrieval-augmented generation (RAG) to set the Db\n",
        "rag = Gemini_RAG()"
      ],
      "metadata": {
        "id": "3bIhL_U80PNe"
      },
      "execution_count": null,
      "outputs": []
    },
    {
      "cell_type": "code",
      "source": [
        "import numpy as np\n",
        "from trulens_eval import TruLlama, Feedback, Tru, feedback\n",
        "from trulens_eval.feedback import GroundTruthAgreement, Groundedness\n",
        "\n",
        "# Define groundedness\n",
        "grounded = Groundedness(groundedness_provider=litellm_provider)\n",
        "f_groundedness = Feedback(grounded.groundedness_measure, name = \"Groundedness\").on(\n",
        "    TruLlama.select_source_nodes().node.text # context\n",
        ").on_output().aggregate(grounded.grounded_statements_aggregator)\n",
        "\n",
        "# Question/answer relevance between overall question and answer.\n",
        "f_qa_relevance = Feedback(litellm_provider.relevance, name = \"Answer Relevance\").on_input_output()\n",
        "\n",
        "# Question/statement relevance between question and each context chunk.\n",
        "f_qs_relevance = Feedback(litellm_provider.qs_relevance, name = \"Context Relevance\").on_input().on(\n",
        "    TruLlama.select_source_nodes().node.text\n",
        ").aggregate(np.mean)"
      ],
      "metadata": {
        "colab": {
          "base_uri": "https://localhost:8080/"
        },
        "id": "TXpT8YglpSox",
        "outputId": "2f981808-5768-464a-ed40-f3d4b8d7d295"
      },
      "execution_count": null,
      "outputs": [
        {
          "output_type": "stream",
          "name": "stdout",
          "text": [
            "✅ In Groundedness, input source will be set to __record__.app.query.rets.source_nodes[:].node.text .\n",
            "✅ In Groundedness, input statement will be set to __record__.main_output or `Select.RecordOutput` .\n",
            "✅ In Answer Relevance, input prompt will be set to __record__.main_input or `Select.RecordInput` .\n",
            "✅ In Answer Relevance, input response will be set to __record__.main_output or `Select.RecordOutput` .\n",
            "✅ In Context Relevance, input question will be set to __record__.main_input or `Select.RecordInput` .\n",
            "✅ In Context Relevance, input statement will be set to __record__.app.query.rets.source_nodes[:].node.text .\n"
          ]
        }
      ]
    },
    {
      "cell_type": "code",
      "source": [
        "app_id = 'Personally.AIStore'"
      ],
      "metadata": {
        "id": "Honyidig2bef"
      },
      "execution_count": null,
      "outputs": []
    },
    {
      "cell_type": "code",
      "source": [
        "from trulens_eval import TruCustomApp\n",
        "tru_rag = TruCustomApp(rag,\n",
        "    app_id = app_id,\n",
        "    feedbacks = [f_groundedness, f_qa_relevance])"
      ],
      "metadata": {
        "id": "X4O1zHKhbC9i"
      },
      "execution_count": null,
      "outputs": []
    },
    {
      "cell_type": "code",
      "source": [
        "# Need to check with Trulens team as the library is expecting OpenAI Key\n",
        "# OpenAIError: The api_key client option must be set either by passing api_key to the client or by setting the OPENAI_API_KEY environment variable\n",
        "import os\n",
        "from google.colab import userdata\n",
        "os.environ[\"OPENAI_API_KEY\"] = userdata.get('openai_key')"
      ],
      "metadata": {
        "id": "tO5sVLkjV5Sp"
      },
      "execution_count": null,
      "outputs": []
    },
    {
      "cell_type": "code",
      "source": [
        "with tru_rag as recording:\n",
        "    rag.query(\"where can I get seafood\")"
      ],
      "metadata": {
        "id": "G3PJRuO91b_u",
        "colab": {
          "base_uri": "https://localhost:8080/",
          "height": 1000
        },
        "outputId": "836b6e38-4462-4dd1-a6cb-449bad08504c"
      },
      "execution_count": null,
      "outputs": [
        {
          "output_type": "stream",
          "name": "stderr",
          "text": [
            "WARNING:trulens_eval.utils.serial:Object (of type str) is a sequence containing more than one dictionary. Lookup by item or attribute `source_nodes` is ambiguous. Use a lookup by index(es) or slice first to disambiguate.\n",
            "WARNING:trulens_eval.utils.threading:Run of <lambda> in <Thread(TP.submit with debug timeout_0, started 135305364817472)> failed with: Could not locate app.query.rets.source_nodes[:].node.text in app/record.\n"
          ]
        },
        {
          "output_type": "stream",
          "name": "stdout",
          "text": [
            "1. Limón\n",
            "2. Pacific Catch\n",
            "3. The Sea by Alexander’s Steakhouse\n",
            "4. Cap’t Loui\n",
            "5. Rustic House Oyster Bar and Grill\n",
            "6. The City Fish\n",
            "7. Cook’s Seafood\n",
            "8. King’s Fish House\n",
            "9. La Marea of the Sea\n",
            "10. Supreme Crab\n",
            "Could not locate app.query.rets.source_nodes[:].node.text in app/record.\n"
          ]
        },
        {
          "output_type": "stream",
          "name": "stderr",
          "text": [
            "ERROR:concurrent.futures:exception calling callback for <Future at 0x7b0f3ef88d00 state=finished raised RuntimeError>\n",
            "Traceback (most recent call last):\n",
            "  File \"/usr/local/lib/python3.10/dist-packages/trulens_eval/feedback/feedback.py\", line 669, in extract_selection\n",
            "    arg_vals[k] = list(q_within_o.get(o))\n",
            "  File \"/usr/local/lib/python3.10/dist-packages/trulens_eval/utils/serial.py\", line 851, in get\n",
            "    for start_selection in start_items:\n",
            "  File \"/usr/local/lib/python3.10/dist-packages/trulens_eval/utils/serial.py\", line 851, in get\n",
            "    for start_selection in start_items:\n",
            "  File \"/usr/local/lib/python3.10/dist-packages/trulens_eval/utils/serial.py\", line 851, in get\n",
            "    for start_selection in start_items:\n",
            "  File \"/usr/local/lib/python3.10/dist-packages/trulens_eval/utils/serial.py\", line 852, in get\n",
            "    for last_selection in last_step.get(start_selection):\n",
            "  File \"/usr/local/lib/python3.10/dist-packages/trulens_eval/utils/serial.py\", line 321, in get\n",
            "    for r in self.get(obj=obj[0]):\n",
            "  File \"/usr/local/lib/python3.10/dist-packages/trulens_eval/utils/serial.py\", line 309, in get\n",
            "    for r in self.get(obj=obj[0]):\n",
            "  File \"/usr/local/lib/python3.10/dist-packages/trulens_eval/utils/serial.py\", line 309, in get\n",
            "    for r in self.get(obj=obj[0]):\n",
            "  File \"/usr/local/lib/python3.10/dist-packages/trulens_eval/utils/serial.py\", line 309, in get\n",
            "    for r in self.get(obj=obj[0]):\n",
            "  [Previous line repeated 2974 more times]\n",
            "  File \"/usr/local/lib/python3.10/dist-packages/trulens_eval/utils/serial.py\", line 307, in get\n",
            "    if isinstance(obj, Sequence):\n",
            "  File \"/usr/lib/python3.10/typing.py\", line 994, in __instancecheck__\n",
            "    return self.__subclasscheck__(type(obj))\n",
            "  File \"/usr/lib/python3.10/typing.py\", line 1158, in __subclasscheck__\n",
            "    return issubclass(cls, self.__origin__)\n",
            "  File \"/usr/lib/python3.10/abc.py\", line 123, in __subclasscheck__\n",
            "    return _abc_subclasscheck(cls, subclass)\n",
            "RecursionError: maximum recursion depth exceeded in comparison\n",
            "\n",
            "During handling of the above exception, another exception occurred:\n",
            "\n",
            "Traceback (most recent call last):\n",
            "  File \"/usr/lib/python3.10/concurrent/futures/_base.py\", line 342, in _invoke_callbacks\n",
            "    callback(self)\n",
            "  File \"/usr/local/lib/python3.10/dist-packages/trulens_eval/app.py\", line 908, in _add_future_feedback\n",
            "    _, res = future.result()\n",
            "  File \"/usr/lib/python3.10/concurrent/futures/_base.py\", line 451, in result\n",
            "    return self.__get_result()\n",
            "  File \"/usr/lib/python3.10/concurrent/futures/_base.py\", line 403, in __get_result\n",
            "    raise self._exception\n",
            "  File \"/usr/lib/python3.10/concurrent/futures/thread.py\", line 58, in run\n",
            "    result = self.fn(*self.args, **self.kwargs)\n",
            "  File \"/usr/local/lib/python3.10/dist-packages/trulens_eval/utils/python.py\", line 223, in _future_target_wrapper\n",
            "    return func(*args, **kwargs)\n",
            "  File \"/usr/local/lib/python3.10/dist-packages/trulens_eval/utils/threading.py\", line 97, in _run_with_timeout\n",
            "    raise e\n",
            "  File \"/usr/local/lib/python3.10/dist-packages/trulens_eval/utils/threading.py\", line 82, in _run_with_timeout\n",
            "    res: T = fut.result(timeout=timeout)\n",
            "  File \"/usr/lib/python3.10/concurrent/futures/_base.py\", line 458, in result\n",
            "    return self.__get_result()\n",
            "  File \"/usr/lib/python3.10/concurrent/futures/_base.py\", line 403, in __get_result\n",
            "    raise self._exception\n",
            "  File \"/usr/lib/python3.10/concurrent/futures/thread.py\", line 58, in run\n",
            "    result = self.fn(*self.args, **self.kwargs)\n",
            "  File \"/usr/local/lib/python3.10/dist-packages/trulens_eval/tru.py\", line 220, in <lambda>\n",
            "    tp.submit(lambda f: (f, f.run(app=app, record=record)), ffunc)\n",
            "  File \"/usr/local/lib/python3.10/dist-packages/trulens_eval/feedback/feedback.py\", line 472, in run\n",
            "    raise e\n",
            "  File \"/usr/local/lib/python3.10/dist-packages/trulens_eval/feedback/feedback.py\", line 467, in run\n",
            "    input_combinations = list(\n",
            "  File \"/usr/local/lib/python3.10/dist-packages/trulens_eval/feedback/feedback.py\", line 671, in extract_selection\n",
            "    raise RuntimeError(\n",
            "RuntimeError: Could not locate app.query.rets.source_nodes[:].node.text in app/record.\n"
          ]
        }
      ]
    },
    {
      "cell_type": "code",
      "source": [
        "tru.get_leaderboard(app_ids=[app_id])"
      ],
      "metadata": {
        "colab": {
          "base_uri": "https://localhost:8080/",
          "height": 112
        },
        "id": "VjU-fJvL2YrJ",
        "outputId": "59ce4021-32eb-4c55-a823-ba430560b4ee"
      },
      "execution_count": null,
      "outputs": [
        {
          "output_type": "execute_result",
          "data": {
            "text/plain": [
              "                    latency  total_cost\n",
              "app_id                                 \n",
              "Personally.AIStore      7.5         0.0"
            ],
            "text/html": [
              "\n",
              "  <div id=\"df-990e354b-b7c9-4632-bddd-c6be40a82339\" class=\"colab-df-container\">\n",
              "    <div>\n",
              "<style scoped>\n",
              "    .dataframe tbody tr th:only-of-type {\n",
              "        vertical-align: middle;\n",
              "    }\n",
              "\n",
              "    .dataframe tbody tr th {\n",
              "        vertical-align: top;\n",
              "    }\n",
              "\n",
              "    .dataframe thead th {\n",
              "        text-align: right;\n",
              "    }\n",
              "</style>\n",
              "<table border=\"1\" class=\"dataframe\">\n",
              "  <thead>\n",
              "    <tr style=\"text-align: right;\">\n",
              "      <th></th>\n",
              "      <th>latency</th>\n",
              "      <th>total_cost</th>\n",
              "    </tr>\n",
              "    <tr>\n",
              "      <th>app_id</th>\n",
              "      <th></th>\n",
              "      <th></th>\n",
              "    </tr>\n",
              "  </thead>\n",
              "  <tbody>\n",
              "    <tr>\n",
              "      <th>Personally.AIStore</th>\n",
              "      <td>7.5</td>\n",
              "      <td>0.0</td>\n",
              "    </tr>\n",
              "  </tbody>\n",
              "</table>\n",
              "</div>\n",
              "    <div class=\"colab-df-buttons\">\n",
              "\n",
              "  <div class=\"colab-df-container\">\n",
              "    <button class=\"colab-df-convert\" onclick=\"convertToInteractive('df-990e354b-b7c9-4632-bddd-c6be40a82339')\"\n",
              "            title=\"Convert this dataframe to an interactive table.\"\n",
              "            style=\"display:none;\">\n",
              "\n",
              "  <svg xmlns=\"http://www.w3.org/2000/svg\" height=\"24px\" viewBox=\"0 -960 960 960\">\n",
              "    <path d=\"M120-120v-720h720v720H120Zm60-500h600v-160H180v160Zm220 220h160v-160H400v160Zm0 220h160v-160H400v160ZM180-400h160v-160H180v160Zm440 0h160v-160H620v160ZM180-180h160v-160H180v160Zm440 0h160v-160H620v160Z\"/>\n",
              "  </svg>\n",
              "    </button>\n",
              "\n",
              "  <style>\n",
              "    .colab-df-container {\n",
              "      display:flex;\n",
              "      gap: 12px;\n",
              "    }\n",
              "\n",
              "    .colab-df-convert {\n",
              "      background-color: #E8F0FE;\n",
              "      border: none;\n",
              "      border-radius: 50%;\n",
              "      cursor: pointer;\n",
              "      display: none;\n",
              "      fill: #1967D2;\n",
              "      height: 32px;\n",
              "      padding: 0 0 0 0;\n",
              "      width: 32px;\n",
              "    }\n",
              "\n",
              "    .colab-df-convert:hover {\n",
              "      background-color: #E2EBFA;\n",
              "      box-shadow: 0px 1px 2px rgba(60, 64, 67, 0.3), 0px 1px 3px 1px rgba(60, 64, 67, 0.15);\n",
              "      fill: #174EA6;\n",
              "    }\n",
              "\n",
              "    .colab-df-buttons div {\n",
              "      margin-bottom: 4px;\n",
              "    }\n",
              "\n",
              "    [theme=dark] .colab-df-convert {\n",
              "      background-color: #3B4455;\n",
              "      fill: #D2E3FC;\n",
              "    }\n",
              "\n",
              "    [theme=dark] .colab-df-convert:hover {\n",
              "      background-color: #434B5C;\n",
              "      box-shadow: 0px 1px 3px 1px rgba(0, 0, 0, 0.15);\n",
              "      filter: drop-shadow(0px 1px 2px rgba(0, 0, 0, 0.3));\n",
              "      fill: #FFFFFF;\n",
              "    }\n",
              "  </style>\n",
              "\n",
              "    <script>\n",
              "      const buttonEl =\n",
              "        document.querySelector('#df-990e354b-b7c9-4632-bddd-c6be40a82339 button.colab-df-convert');\n",
              "      buttonEl.style.display =\n",
              "        google.colab.kernel.accessAllowed ? 'block' : 'none';\n",
              "\n",
              "      async function convertToInteractive(key) {\n",
              "        const element = document.querySelector('#df-990e354b-b7c9-4632-bddd-c6be40a82339');\n",
              "        const dataTable =\n",
              "          await google.colab.kernel.invokeFunction('convertToInteractive',\n",
              "                                                    [key], {});\n",
              "        if (!dataTable) return;\n",
              "\n",
              "        const docLinkHtml = 'Like what you see? Visit the ' +\n",
              "          '<a target=\"_blank\" href=https://colab.research.google.com/notebooks/data_table.ipynb>data table notebook</a>'\n",
              "          + ' to learn more about interactive tables.';\n",
              "        element.innerHTML = '';\n",
              "        dataTable['output_type'] = 'display_data';\n",
              "        await google.colab.output.renderOutput(dataTable, element);\n",
              "        const docLink = document.createElement('div');\n",
              "        docLink.innerHTML = docLinkHtml;\n",
              "        element.appendChild(docLink);\n",
              "      }\n",
              "    </script>\n",
              "  </div>\n",
              "\n",
              "\n",
              "    </div>\n",
              "  </div>\n"
            ]
          },
          "metadata": {},
          "execution_count": 83
        }
      ]
    },
    {
      "cell_type": "code",
      "source": [
        "tru.get_records_and_feedback(app_ids=[app_id])"
      ],
      "metadata": {
        "colab": {
          "base_uri": "https://localhost:8080/"
        },
        "id": "-wvkBkje2nN2",
        "outputId": "d6909177-9636-4e7b-843f-442508ed6732"
      },
      "execution_count": null,
      "outputs": [
        {
          "output_type": "execute_result",
          "data": {
            "text/plain": [
              "(               app_id                                           app_json  \\\n",
              " 0  Personally.AIStore  {\"app_id\": \"Personally.AIStore\", \"tags\": \"-\", ...   \n",
              " \n",
              "                    type                                     record_id  \\\n",
              " 0  Gemini_RAG(__main__)  record_hash_1bb3999e0cd224c3c5f80eb44e67a5c9   \n",
              " \n",
              "                        input  \\\n",
              " 0  \"where can I get seafood\"   \n",
              " \n",
              "                                               output tags  \\\n",
              " 0  \"1. Lim\\u00f3n\\n2. Pacific Catch\\n3. The Sea b...    -   \n",
              " \n",
              "                                          record_json  \\\n",
              " 0  {\"record_id\": \"record_hash_1bb3999e0cd224c3c5f...   \n",
              " \n",
              "                                            cost_json  \\\n",
              " 0  {\"n_requests\": 0, \"n_successful_requests\": 0, ...   \n",
              " \n",
              "                                            perf_json  \\\n",
              " 0  {\"start_time\": \"2023-12-22T02:27:07.369211\", \"...   \n",
              " \n",
              "                            ts  latency  total_tokens  total_cost  \n",
              " 0  2023-12-22T02:27:15.792313        8             0         0.0  ,\n",
              " [])"
            ]
          },
          "metadata": {},
          "execution_count": 47
        }
      ]
    }
  ],
  "metadata": {
    "colab": {
      "collapsed_sections": [
        "ErAPHHjO-deZ",
        "-x7PO4Cx-kta",
        "9aaL2-Jrf0NU",
        "qVkcH8ldmVM-",
        "cxqOBl9GmxND",
        "zqYN9ZlGvTkp",
        "7i0XF8fwvdWR",
        "atjfWPUqA43p",
        "smWeD8A5TnfQ",
        "oAfCdBR2oUBl",
        "CsWFU1NjsNOV"
      ],
      "provenance": []
    },
    "kernelspec": {
      "display_name": "Python 3",
      "name": "python3"
    },
    "language_info": {
      "name": "python"
    }
  },
  "nbformat": 4,
  "nbformat_minor": 0
}