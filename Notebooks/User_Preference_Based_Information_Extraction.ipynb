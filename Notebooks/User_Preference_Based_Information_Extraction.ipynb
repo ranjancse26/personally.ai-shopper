{
  "cells": [
    {
      "cell_type": "markdown",
      "metadata": {
        "id": "ErAPHHjO-deZ"
      },
      "source": [
        "# **Vertexai Init**"
      ]
    },
    {
      "cell_type": "code",
      "execution_count": 1,
      "metadata": {
        "id": "lHmH1yGC99EG"
      },
      "outputs": [],
      "source": [
        "import sys\n",
        "\n",
        "# Additional authentication is required for Google Colab\n",
        "if \"google.colab\" in sys.modules:\n",
        "    # Authenticate user to Google Cloud\n",
        "    from google.colab import auth\n",
        "\n",
        "    auth.authenticate_user()"
      ]
    },
    {
      "cell_type": "code",
      "execution_count": 2,
      "metadata": {
        "id": "kLwEOC5x-EBH"
      },
      "outputs": [],
      "source": [
        "PROJECT_ID = \"gen-lang-client-0341374211\"  # @param {type:\"string\"}\n",
        "LOCATION = \"us-central1\"  # @param {type:\"string\"}\n",
        "\n",
        "if \"google.colab\" in sys.modules:\n",
        "    # Define project information\n",
        "    PROJECT_ID = PROJECT_ID\n",
        "    LOCATION = LOCATION\n",
        "\n",
        "    # Initialize Vertex AI\n",
        "    import vertexai\n",
        "    vertexai.init(project=PROJECT_ID, location=LOCATION)"
      ]
    },
    {
      "cell_type": "code",
      "execution_count": 3,
      "metadata": {
        "id": "aBq8IJhMtOql"
      },
      "outputs": [],
      "source": [
        "search_query = \"\"\"Sea food near Googleplex\n",
        "1600 Amphitheatre Parkway\n",
        "Mountain View, CA 94043\n",
        "United States\"\"\"\n",
        "#'how to make a great pastrami sandwich'"
      ]
    },
    {
      "cell_type": "markdown",
      "metadata": {
        "id": "-x7PO4Cx-kta"
      },
      "source": [
        "# **Webscraping**"
      ]
    },
    {
      "cell_type": "code",
      "execution_count": 4,
      "metadata": {
        "id": "r1ek-n4IzOzG",
        "colab": {
          "base_uri": "https://localhost:8080/"
        },
        "outputId": "d1e2af77-062e-452c-f384-cef69e05eeda"
      },
      "outputs": [
        {
          "output_type": "stream",
          "name": "stdout",
          "text": [
            "\u001b[2K     \u001b[90m━━━━━━━━━━━━━━━━━━━━━━━━━━━━━━━━━━━━━━━━\u001b[0m \u001b[32m794.4/794.4 kB\u001b[0m \u001b[31m8.6 MB/s\u001b[0m eta \u001b[36m0:00:00\u001b[0m\n",
            "\u001b[2K     \u001b[90m━━━━━━━━━━━━━━━━━━━━━━━━━━━━━━━━━━━━━━━━\u001b[0m \u001b[32m37.2/37.2 MB\u001b[0m \u001b[31m32.2 MB/s\u001b[0m eta \u001b[36m0:00:00\u001b[0m\n",
            "\u001b[2K     \u001b[90m━━━━━━━━━━━━━━━━━━━━━━━━━━━━━━━━━━━━━━━━\u001b[0m \u001b[32m1.5/1.5 MB\u001b[0m \u001b[31m67.0 MB/s\u001b[0m eta \u001b[36m0:00:00\u001b[0m\n",
            "\u001b[2K     \u001b[90m━━━━━━━━━━━━━━━━━━━━━━━━━━━━━━━━━━━━━━━━\u001b[0m \u001b[32m192.4/192.4 kB\u001b[0m \u001b[31m19.8 MB/s\u001b[0m eta \u001b[36m0:00:00\u001b[0m\n",
            "\u001b[2K     \u001b[90m━━━━━━━━━━━━━━━━━━━━━━━━━━━━━━━━━━━━━━━━\u001b[0m \u001b[32m45.8/45.8 kB\u001b[0m \u001b[31m5.0 MB/s\u001b[0m eta \u001b[36m0:00:00\u001b[0m\n",
            "\u001b[2K     \u001b[90m━━━━━━━━━━━━━━━━━━━━━━━━━━━━━━━━━━━━━━━━\u001b[0m \u001b[32m613.2/613.2 kB\u001b[0m \u001b[31m46.3 MB/s\u001b[0m eta \u001b[36m0:00:00\u001b[0m\n",
            "\u001b[2K     \u001b[90m━━━━━━━━━━━━━━━━━━━━━━━━━━━━━━━━━━━━━━━━\u001b[0m \u001b[32m49.4/49.4 kB\u001b[0m \u001b[31m5.8 MB/s\u001b[0m eta \u001b[36m0:00:00\u001b[0m\n",
            "\u001b[?25h"
          ]
        }
      ],
      "source": [
        "!pip install -q langchain playwright beautifulsoup4 html2text"
      ]
    },
    {
      "cell_type": "code",
      "source": [
        "import html2text\n",
        "from langchain.document_loaders import AsyncHtmlLoader\n",
        "from langchain.document_transformers import Html2TextTransformer\n",
        "\n",
        "async def do_webscraping(link):\n",
        "    try:\n",
        "        urls = [link]\n",
        "        loader = AsyncHtmlLoader(urls)\n",
        "        docs = loader.load()\n",
        "\n",
        "        html2text_transformer = Html2TextTransformer()\n",
        "        docs_transformed = html2text_transformer.transform_documents(docs)\n",
        "\n",
        "        if docs_transformed != None and len(docs_transformed) > 0:\n",
        "            metadata = docs_transformed[0].metadata\n",
        "            title = metadata.get('title', '')\n",
        "            return {\n",
        "                'summary': docs_transformed[0].page_content,\n",
        "                'title': title,\n",
        "                'metadata': metadata,\n",
        "                'clean_content': html2text.html2text(docs_transformed[0].page_content)\n",
        "            }\n",
        "        else:\n",
        "            return None\n",
        "\n",
        "    except Exception as e:\n",
        "        print(f\"An unexpected error occurred: {e}\")\n",
        "        return None"
      ],
      "metadata": {
        "id": "zR0KGPUz6nlh"
      },
      "execution_count": 5,
      "outputs": []
    },
    {
      "cell_type": "markdown",
      "source": [
        "# **User Preferences**"
      ],
      "metadata": {
        "id": "cdJvHsIrWbAu"
      }
    },
    {
      "cell_type": "code",
      "source": [
        "user_albert_preference = {\n",
        "    \"prompt_template\":{\n",
        "        \"summary_template_1\": \"\"\"\n",
        "            You are an expert summary generator. Generate a clean and consise summary in less than 100 lines.\n",
        "\n",
        "            Prompt 1: Identify key sections in the text for summary generation\n",
        "            Prompt 2: Extract key information from the introduction section\n",
        "            Prompt 3: Parse out the main objective or purpose of the text\n",
        "            Prompt 4: Identify any key findings or conclusions discussed in the text\n",
        "            Prompt 5: Summarize the main arguments or points presented in the text\n",
        "            Prompt 6: Summarize the overall tone or attitude of the text\n",
        "\n",
        "            Output the summary as per the below schema.\n",
        "            {\n",
        "              \"summary\": \"\",\n",
        "              \"highlights\": []\n",
        "              \"keywords\": []\n",
        "            }\n",
        "\n",
        "        \"\"\",\n",
        "        \"summary_template_2\": \"\"\"\n",
        "          1. Present a brief snapshot of the content to be summarized.\n",
        "          2. Uncover the essential insights, emphasizing the core elements.\n",
        "          3. Illuminate the primary theme or objective that underlies the material.\n",
        "          4. Incorporate pertinent details that enrich the overall context.\n",
        "          5. Emphasize the necessity for brevity, focusing on the key information.\n",
        "          6. Stress the importance of a clear and coherent flow in the summary.\n",
        "          7. Encourage the exclusion of repetitive information for a streamlined summary.\n",
        "        \"\"\"\n",
        "    }\n",
        "}"
      ],
      "metadata": {
        "id": "pVK5YJ0lWfKD"
      },
      "execution_count": 6,
      "outputs": []
    },
    {
      "cell_type": "code",
      "source": [
        "text_to_summarize = ''\n",
        "url = 'https://www.yelp.com/search?cflt=seafood&find_loc=Mountain+View%2C+CA+94043'\n",
        "response = await do_webscraping(url)\n",
        "if response != None:\n",
        "  text_to_summarize = response['summary']\n",
        "text_to_summarize"
      ],
      "metadata": {
        "colab": {
          "base_uri": "https://localhost:8080/",
          "height": 181
        },
        "id": "Nac3WcxXWxun",
        "outputId": "793e75b5-8911-45ad-e92a-3d2ae890c34f"
      },
      "execution_count": 7,
      "outputs": [
        {
          "output_type": "stream",
          "name": "stderr",
          "text": [
            "Fetching pages: 100%|##########| 1/1 [00:01<00:00,  1.77s/it]\n"
          ]
        },
        {
          "output_type": "execute_result",
          "data": {
            "text/plain": [
              "'Yelp\\n\\nYelp for Business\\n\\nWrite a Review\\n\\nLog InSign Up\\n\\nRestaurants\\n\\nDelivery\\n\\nBurgers\\n\\nChinese\\n\\nItalian\\n\\nReservations\\n\\nJapanese\\n\\nMexican\\n\\nThai\\n\\nHome Services\\n\\nContractors\\n\\nElectricians\\n\\nHome Cleaners\\n\\nHVAC\\n\\nLandscaping\\n\\nLocksmiths\\n\\nMovers\\n\\nPlumbers\\n\\nAuto Services\\n\\nAuto Repair\\n\\nAuto Detailing\\n\\nBody Shops\\n\\nCar Wash\\n\\nCar Dealers\\n\\nOil Change\\n\\nParking\\n\\nTowing\\n\\nMore\\n\\nDry Cleaning\\n\\nPhone Repair\\n\\nBars\\n\\nNightlife\\n\\nHair Salons\\n\\nGyms\\n\\nMassage\\n\\nShopping\\n\\nMore\\n\\nFilters\\n\\n$$$$$$$$$$\\n\\nSuggested\\n\\nOpen Now\\n\\n\\\\--:--\\n\\nOffers Delivery\\n\\nReservations\\n\\nFree Wi-Fi\\n\\nOutdoor Seating\\n\\nDogs Allowed\\n\\nFeatures\\n\\nOffers Takeout\\n\\nGood for Groups\\n\\nGood for Dinner\\n\\nGood for Kids\\n\\nSee all\\n\\nDistance\\n\\nBird\\'s-eye View\\n\\nDriving (5 mi.)\\n\\nBiking (2 mi.)\\n\\nWalking (1 mi.)\\n\\nWithin 4 blocks\\n\\nYelpRestaurantsSeafood\\n\\n# The Best 10 Seafood Restaurants near Mountain View, CA 94043\\n\\nSort:Recommended\\n\\nAll\\n\\nPrice\\n\\nOpen NowOffers DeliveryReservationsFree Wi-FiOutdoor SeatingDogs Allowed\\n\\n  *   *   * ### 1. Limón\\n\\n4.0 (266 reviews)\\n\\nPeruvianSeafoodCocktail Bars\\n\\nThis is a placeholder\\n\\n“Everything we ate was delicious. Love the menu- tons of mouth-watering\\nseafood and land animal...” more\\n\\n    * Delivery\\n\\nTakeout\\n\\nFind a Table\\n\\n  * ### 2. Pacific Catch\\n\\n3.8 (1k reviews)\\n\\nSeafoodTacosSushi Bars$$\\n\\nThis is a placeholder\\n\\nOutdoor seating\\n\\nTakes reservations\\n\\n“Personally, I really enjoyed the poke, the Korean-style seafood pancake\\n(again, better at the...” more\\n\\n    * Delivery\\n\\nTakeout\\n\\nStart Order\\n\\n  * ### 3. Cap’t Loui\\n\\n4.5 (570 reviews)\\n\\nSeafoodFish & ChipsCajun/Creole$$\\n\\nThis is a placeholder\\n\\nFree parking\\n\\nLarge group friendly\\n\\n“If you order a certain amount of pounds of seafood, you can get extra sides\\nfor free.” more\\n\\n    * Outdoor seating\\n\\nDelivery\\n\\nTakeout\\n\\nStart Order\\n\\n  * ### 4. The Sea by Alexander’s Steakhouse\\n\\n4.1 (1.3k reviews)\\n\\nSeafoodSteakhousesBars$$$$\\n\\nThis is a placeholder\\n\\n“All of the seafood was very fresh, with particularly sweet jumbo shrimp.”\\nmore\\n\\n    * Outdoor seating\\n\\nTakeout\\n\\n  * ### 5. King’s Fish House - San Jose\\n\\n4.2 (1.9k reviews)\\n\\nSeafood$$$West San Jose\\n\\nThis is a placeholder\\n\\n“The tartare sauce has great balance of spicy and seafood taste to it, I\\nreally like it. 3.)...” more\\n\\n    * Outdoor seating\\n\\nDelivery\\n\\nTakeout\\n\\n  * ### 6. La Marea of the Sea\\n\\n4.7 (45 reviews)\\n\\nSeafoodFood Stands$\\n\\nThis is a placeholder\\n\\n“The oysters were pretty fresh. They have great condiments to compliment the\\nseafood.” more\\n\\n    * Delivery\\n\\n  * ### 7. Rustic House Oyster Bar and Grill - Los Altos\\n\\n4.0 (642 reviews)\\n\\nSeafoodBarsAmerican$$\\n\\nThis is a placeholder\\n\\n“The seafood was delicious and competently prepared: a generously portioned\\ngrouper special on...” more\\n\\n    * Outdoor seating\\n\\nDelivery\\n\\nTakeout\\n\\nStart Order\\n\\n  * ### 8. Supreme Crab\\n\\n3.7 (262 reviews)\\n\\nSeafoodCajun/Creole\\n\\nThis is a placeholder\\n\\nSports on TV\\n\\nLarge group friendly\\n\\n“Supreme Crab, I save my left over sauce to use on other things and I\\'m a\\nseafood snob.” more\\n\\n    * Outdoor seating\\n\\nDelivery\\n\\nTakeout\\n\\nFind a Table\\n\\n  * ### 9. Forthright Oyster Bar & Kitchen\\n\\n4.3 (1.2k reviews)\\n\\nSeafoodBreakfast & BrunchCocktail Bars$$West San Jose\\n\\nThis is a placeholder\\n\\n“We were pretty full off the appetizers but I really wanted to try the seafood\\npasta and I\\'m so happy...” more\\n\\n    * Outdoor seating\\n\\nDelivery\\n\\nTakeout\\n\\n  * ### 10. Cook’s Seafood\\n\\n3.9 (636 reviews)\\n\\nSeafoodSeafood MarketsFish & Chips$$\\n\\nThis is a placeholder\\n\\n“I decided that I wanted some seafood but I wanted GOOD seafood and not the\\nsame stuff I always have.” more\\n\\n    * Outdoor seating\\n\\nTakeout\\n\\n  * 1\\n\\n2\\n\\n3\\n\\n4\\n\\n5\\n\\n6\\n\\n7\\n\\n8\\n\\n9\\n\\n1 of 22\\n\\n  * ## Can\\'t find the business?\\n\\nAdding a business to Yelp is always free.\\n\\nAdd business\\n\\nGot search feedback? Help us improve.\\n\\n  * ## Related Searches in Mountain View, CA\\n\\nBeef Wellington\\n\\nCioppino\\n\\nCrab\\n\\nDinner Reservations\\n\\nFish Tacos\\n\\nMichelada\\n\\nSeafood Boil\\n\\nSeafood Buffet\\n\\nSteakhouses\\n\\n$1 Oysters\\n\\nCajun\\n\\nCajun Seafood Boil\\n\\nCeviche\\n\\nClam Chowder\\n\\nCrab Legs\\n\\nCrawfish\\n\\nFish\\n\\nFish House\\n\\nLobster Roll\\n\\nMariscos\\n\\nOysters\\n\\nRestaurants With a View\\n\\nSalmon\\n\\nScallops\\n\\nAnniversary Dinner\\n\\nCajun Seafood\\n\\nCalamari\\n\\nCrab Boil\\n\\nCrab Sandwich\\n\\nFish & Chips\\n\\nHip New Restaurants\\n\\nOyster Bars\\n\\nRestaurants With Private Rooms\\n\\nSashimi\\n\\nChain Restaurants\\n\\nCrawfish Boil\\n\\nDungeness Crab\\n\\nFine Dining\\n\\nFish Market\\n\\nGrilled Fish\\n\\nMexican Seafood\\n\\nOyster Happy Hour\\n\\nPrime Rib\\n\\nSoft Shell Crab\\n\\nValentines Day Dinner\\n\\n## Trending Searches in Mountain View, CA\\n\\nAsian Supermarket\\n\\nBuy Fresh Oysters\\n\\nCajun Seafood Boil\\n\\nCandy Stores\\n\\nCatfish\\n\\nCaviar\\n\\nCheese Shops\\n\\nChristmas Brunch\\n\\nClam Chowder Bread Bowl\\n\\nDim Sum\\n\\nDry Aged Steak\\n\\nFishmonger\\n\\nFruit Cake\\n\\nGerman Bakery\\n\\nGingerbread Cookies\\n\\nGourmet Grocery Stores\\n\\nGumbo\\n\\nHot Chocolate\\n\\nLive Lobster\\n\\nPopcorn Shops\\n\\nPozole\\n\\nSashimi\\n\\nSeafood Markets\\n\\nSmoked Salmon\\n\\nSteak\\n\\nSushi Lunch Special\\n\\nSushi Party Tray\\n\\nWagyu Steak\\n\\nWhiskey Store\\n\\nYule Log Cake\\n\\n## Related Articles\\n\\nTop Buffets in California\\n\\nTop Cajun/Creole in California\\n\\nTop Dim Sum Restaurants in California\\n\\nTop Fish & Chips in California\\n\\nTop Peruvian Restaurants in California\\n\\nTop Restaurants in California\\n\\nTop Seafood Restaurants in California\\n\\nTop Soul Food Restaurants in California\\n\\nTop Steakhouses in California\\n\\nTop Buffets in the US\\n\\nTop Cajun/Creole in the US\\n\\nTop Dim Sum Restaurants in the US\\n\\nTop Fish & Chips in the US\\n\\nTop Peruvian Restaurants in the US\\n\\nTop Restaurants in the US\\n\\nTop Seafood Restaurants in the US\\n\\nTop Soul Food Restaurants in the US\\n\\nTop Steakhouses in the US\\n\\n  *   * ## Search seafood in popular locations\\n\\n### Nearby cities\\n\\nCampbell, CA\\n\\nCupertino, CA\\n\\nLos Altos, CA\\n\\nLos Gatos, CA\\n\\nMilpitas, CA\\n\\nPalo Alto, CA\\n\\nSan Jose, CA\\n\\nSanta Clara, CA\\n\\nSaratoga, CA\\n\\nSunnyvale, CA\\n\\n### More\\n\\nLos Angeles, CA\\n\\nNapa, CA\\n\\nSacramento, CA\\n\\nSan Diego, CA\\n\\nSan Francisco, CA\\n\\nSan Luis Obispo, CA\\n\\nSanta Barbara, CA\\n\\nSanta Rosa, CA\\n\\nStockton, CA\\n\\n  *   *   *   * ## Frequently Asked Questions and Answers\\n\\nWhat are the best seafood takeout restaurants?\\n\\nThese are the best seafood takeout restaurants near Mountain View, CA:\\n\\n    * Cap\\'t Loui\\n\\n    * The City Fish\\n\\n    * King\\'s Fish House - San Jose\\n\\n    * Pacific Catch\\n\\n    * Forthright Oyster Bar & Kitchen\\n\\nPeople also liked: Cheap Seafood Restaurants, Seafood Restaurants Offering\\nReservations\\n\\nWhat did people search for similar to seafood near Mountain View, CA?\\n\\nPeople also searched for these near Mountain View:\\n\\n    * Steak\\n\\n    * Seafood Markets\\n\\n    * Dinner\\n\\n    * Sushi\\n\\n    * Fried Fish\\n\\nSee more seafood near Mountain View.\\n\\nWhat are people saying about seafood restaurants near Mountain View, CA?\\n\\nThis is a review for seafood restaurants near Mountain View, CA:\\n\\n\"Kings Fish House in Valley Fair is a seafood lover\\'s paradise that captures\\nthe essence of the ocean. The menu boasts an impressive selection of fresh and\\nflavorful seafood dishes, ranging from classic favorites to innovative\\ncreations. The nautical-themed décor and inviting ambiance create a relaxed\\nand enjoyable dining atmosphere. Whether you\\'re craving oysters, lobster, or a\\nperfectly grilled fish, Kings Fish House delivers on taste and quality. It\\'s a\\nfantastic spot for anyone seeking a seafood feast that transports you to the\\ncoastal waters with every bite. Try the yellowtail carpaccio, chilean sea bass\\nand the parmesan crusted sole. The brussels sprouts are to die for.\"\\n\\nSee more reviews for this business.\\n\\nWhat are the best cheap seafood restaurants?\\n\\nThese are the best cheap seafood restaurants near Mountain View, CA:\\n\\n    * Cap\\'t Loui\\n\\n    * The City Fish\\n\\n    * Pacific Catch\\n\\n    * Forthright Oyster Bar & Kitchen\\n\\n    * Rustic House Oyster Bar and Grill - Los Altos\\n\\nPeople also liked: Seafood Takeout Restaurants, Seafood Restaurants Offering\\nReservations\\n\\nWhat are the best seafood restaurants offering reservations?\\n\\nThese are the best seafood restaurants offering reservations near Mountain\\nView, CA:\\n\\n    * King\\'s Fish House - San Jose\\n\\n    * Pacific Catch\\n\\n    * Forthright Oyster Bar & Kitchen\\n\\n    * The Sea by Alexander\\'s Steakhouse\\n\\n    * Rustic House Oyster Bar and Grill - Los Altos\\n\\nPeople also liked: Seafood Takeout Restaurants, Cheap Seafood Restaurants\\n\\nAbout\\n\\n  * About Yelp\\n  * Careers\\n  * Press\\n  * Investor Relations\\n  * Trust & Safety\\n  * Content Guidelines\\n  * Accessibility Statement\\n  * Terms of Service\\n  * Privacy Policy\\n  * Ad Choices\\n  * Your Privacy Choices\\n\\nDiscover\\n\\n  * Yelp Project Cost Guides\\n  * Collections\\n  * Talk\\n  * Events\\n  * Yelp Blog\\n  * Support\\n  * Yelp Mobile\\n  * Developers\\n  * RSS\\n\\nYelp for Business\\n\\n  * Yelp for Business\\n  * Business Owner Login\\n  * Claim your Business Page\\n  * Advertise on Yelp\\n  * Yelp for Restaurant Owners\\n  * Table Management\\n  * Business Success Stories\\n  * Business Support\\n  * Yelp Blog for Business\\n\\nLanguages\\n\\nEnglish\\n\\nCountries\\n\\nUnited States\\n\\n  * About\\n\\n  * Blog\\n\\n  * Support\\n\\n  * Terms\\n\\n  * Privacy Policy\\n\\n  * Your Privacy Choices\\n\\nCopyright © 2004–2023 Yelp Inc. Yelp, ,  and related marks are registered\\ntrademarks of Yelp.\\n\\nSome Data By Acxiom\\n\\n'"
            ],
            "application/vnd.google.colaboratory.intrinsic+json": {
              "type": "string"
            }
          },
          "metadata": {},
          "execution_count": 7
        }
      ]
    },
    {
      "cell_type": "code",
      "source": [
        "import vertexai\n",
        "from vertexai.preview.generative_models import GenerativeModel, Part\n",
        "\n",
        "def generate_summary(text_to_summarize, max_output_tokens):\n",
        "  model = GenerativeModel(\"gemini-pro\")\n",
        "  responses = model.generate_content(f\"\"\"You are an expert summary generator. Please follow the below rules for the summary generation.\n",
        "          {user_albert_preference['prompt_template']['summary_template_1']}\n",
        "          Here's the content:\n",
        "          {text_to_summarize}\n",
        "           \"\"\",\n",
        "    generation_config={\n",
        "        \"max_output_tokens\": max_output_tokens,\n",
        "        \"temperature\": 0.9,\n",
        "        \"top_p\": 1\n",
        "    },\n",
        "  stream=True,\n",
        "  )\n",
        "\n",
        "  for response in responses:\n",
        "      print(response.candidates[0].content.parts[0].text)\n",
        "\n",
        "generate_summary(text_to_summarize, 8000)"
      ],
      "metadata": {
        "colab": {
          "base_uri": "https://localhost:8080/"
        },
        "id": "Zzh-iTusW0_0",
        "outputId": "353ad2ab-c700-4003-a6fd-6965dddd86c9"
      },
      "execution_count": 8,
      "outputs": [
        {
          "output_type": "stream",
          "name": "stdout",
          "text": [
            "{\n",
            "  \"summary\": \"In Mountain View, California, ten exceptional seafood\n",
            " restaurants await your exploration. Lim\\u00f3n, a Peruvian\n",
            " gem, offers a mouth-watering menu. Pacific Catch, known for its poke and Korean-style seafood pancake, is a must-visit. Cap\\u\n",
            "2019t Loui serves delicious seafood with free sides for larger orders. For a fine dining experience, try The Sea by Alexander\\u20\n",
            "19s Steakhouse, where you can enjoy fresh seafood and a stunning ambiance. King\\u2019s Fish House is another popular choice with a wide variety of seafood dishes. If you're looking for a casual atmosphere\n",
            ", La Marea of the Sea offers fresh oysters and various seafood options. Rustic House Oyster Bar and Grill provides a delightful outdoor seating experience and a diverse seafood menu. Supreme Crab is a local favorite for Cajun-style seafood. For a brunch\n",
            " and seafood combination, head to Forthright Oyster Bar & Kitchen. Lastly, Cook\\u2019s Seafood offers high-quality seafood and a market for fresh seafood purchases.\",\n",
            "  \"highlights\": [\n",
            "    \"Lim\\u00f3n: Peruvian seafood and cocktails.\",\n",
            "    \"Pacific Catch: Poke, Korean-style seafood pancake\n",
            ", and outdoor seating.\",\n",
            "    \"Cap\\u2019t Loui: Seafood with free sides for larger orders.\",\n",
            "    \"The Sea by Alexander\\u2019s Steakhouse: Fine dining seafood experience.\",\n",
            "    \"King\\u2019s Fish House: Extensive seafood menu and outdoor seating.\",\n",
            "    \"La Marea of the Sea: Fresh oysters and various seafood options\n",
            ".\",\n",
            "    \"Rustic House Oyster Bar and Grill: Seafood, outdoor seating, and a diverse menu.\",\n",
            "    \"Supreme Crab: Cajun-style seafood with a relaxed atmosphere.\",\n",
            "    \"Forthright Oyster Bar & Kitchen: Seafood, brunch, and cocktails.\",\n",
            "    \"Cook\\u2019s Seafood: High-quality seafood and a seafood market.\"\n",
            "  ],\n",
            "  \"keywords\": [\n",
            "    \"Seafood\",\n",
            "    \"Restaurants\",\n",
            "    \"Mountain View\",\n",
            "    \"California\",\n",
            "    \"Peruvian\",\n",
            "    \"Poke\",\n",
            "    \"Korean\",\n",
            "    \"Cajun\",\n",
            "    \"Fine dining\",\n",
            "\n",
            "    \"Oysters\",\n",
            "    \"Seafood market\",\n",
            "    \"Brunch\"\n",
            "  ]\n",
            "}\n"
          ]
        }
      ]
    }
  ],
  "metadata": {
    "colab": {
      "collapsed_sections": [
        "ErAPHHjO-deZ",
        "-x7PO4Cx-kta",
        "9aaL2-Jrf0NU",
        "qVkcH8ldmVM-",
        "cxqOBl9GmxND",
        "zqYN9ZlGvTkp",
        "7i0XF8fwvdWR",
        "atjfWPUqA43p",
        "smWeD8A5TnfQ",
        "oAfCdBR2oUBl",
        "CsWFU1NjsNOV"
      ],
      "provenance": [],
      "toc_visible": true
    },
    "kernelspec": {
      "display_name": "Python 3",
      "name": "python3"
    },
    "language_info": {
      "name": "python"
    }
  },
  "nbformat": 4,
  "nbformat_minor": 0
}