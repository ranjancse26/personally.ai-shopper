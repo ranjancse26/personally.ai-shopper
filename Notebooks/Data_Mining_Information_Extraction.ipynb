{
  "cells": [
    {
      "cell_type": "markdown",
      "metadata": {
        "id": "ErAPHHjO-deZ"
      },
      "source": [
        "# **Vertexai Init**"
      ]
    },
    {
      "cell_type": "code",
      "execution_count": 1,
      "metadata": {
        "id": "lHmH1yGC99EG"
      },
      "outputs": [],
      "source": [
        "import sys\n",
        "\n",
        "# Additional authentication is required for Google Colab\n",
        "if \"google.colab\" in sys.modules:\n",
        "    # Authenticate user to Google Cloud\n",
        "    from google.colab import auth\n",
        "\n",
        "    auth.authenticate_user()"
      ]
    },
    {
      "cell_type": "code",
      "execution_count": 2,
      "metadata": {
        "id": "kLwEOC5x-EBH"
      },
      "outputs": [],
      "source": [
        "PROJECT_ID = \"gen-lang-client-0341374211\"  # @param {type:\"string\"}\n",
        "LOCATION = \"us-central1\"  # @param {type:\"string\"}\n",
        "\n",
        "if \"google.colab\" in sys.modules:\n",
        "    # Define project information\n",
        "    PROJECT_ID = PROJECT_ID\n",
        "    LOCATION = LOCATION\n",
        "\n",
        "    # Initialize Vertex AI\n",
        "    import vertexai\n",
        "    vertexai.init(project=PROJECT_ID, location=LOCATION)"
      ]
    },
    {
      "cell_type": "markdown",
      "metadata": {
        "id": "-x7PO4Cx-kta"
      },
      "source": [
        "# **Realtime Google Search with Langchain**"
      ]
    },
    {
      "cell_type": "code",
      "source": [
        "search_query = \"\"\"Sea food near Googleplex\n",
        "1600 Amphitheatre Parkway\n",
        "Mountain View, CA 94043\n",
        "United States\"\"\""
      ],
      "metadata": {
        "id": "FfEbBjmAzYUp"
      },
      "execution_count": 3,
      "outputs": []
    },
    {
      "cell_type": "code",
      "execution_count": 4,
      "metadata": {
        "id": "r1ek-n4IzOzG",
        "colab": {
          "base_uri": "https://localhost:8080/"
        },
        "outputId": "814ee5f5-684a-4229-d0a3-7a5b13abf752"
      },
      "outputs": [
        {
          "output_type": "stream",
          "name": "stdout",
          "text": [
            "Collecting duckduckgo_search\n",
            "  Downloading duckduckgo_search-4.1.0-py3-none-any.whl (25 kB)\n",
            "Requirement already satisfied: click>=8.1.7 in /usr/local/lib/python3.10/dist-packages (from duckduckgo_search) (8.1.7)\n",
            "Requirement already satisfied: lxml>=4.9.3 in /usr/local/lib/python3.10/dist-packages (from duckduckgo_search) (4.9.3)\n",
            "Collecting curl-cffi>=0.5.10 (from duckduckgo_search)\n",
            "  Downloading curl_cffi-0.5.10-cp37-abi3-manylinux_2_17_x86_64.manylinux2014_x86_64.whl (7.2 MB)\n",
            "\u001b[2K     \u001b[90m━━━━━━━━━━━━━━━━━━━━━━━━━━━━━━━━━━━━━━━━\u001b[0m \u001b[32m7.2/7.2 MB\u001b[0m \u001b[31m21.6 MB/s\u001b[0m eta \u001b[36m0:00:00\u001b[0m\n",
            "\u001b[?25hRequirement already satisfied: cffi>=1.12.0 in /usr/local/lib/python3.10/dist-packages (from curl-cffi>=0.5.10->duckduckgo_search) (1.16.0)\n",
            "Requirement already satisfied: pycparser in /usr/local/lib/python3.10/dist-packages (from cffi>=1.12.0->curl-cffi>=0.5.10->duckduckgo_search) (2.21)\n",
            "Installing collected packages: curl-cffi, duckduckgo_search\n",
            "Successfully installed curl-cffi-0.5.10 duckduckgo_search-4.1.0\n",
            "Collecting googlesearch-python\n",
            "  Downloading googlesearch-python-1.2.3.tar.gz (3.9 kB)\n",
            "  Preparing metadata (setup.py) ... \u001b[?25l\u001b[?25hdone\n",
            "Requirement already satisfied: beautifulsoup4>=4.9 in /usr/local/lib/python3.10/dist-packages (from googlesearch-python) (4.11.2)\n",
            "Requirement already satisfied: requests>=2.20 in /usr/local/lib/python3.10/dist-packages (from googlesearch-python) (2.31.0)\n",
            "Requirement already satisfied: soupsieve>1.2 in /usr/local/lib/python3.10/dist-packages (from beautifulsoup4>=4.9->googlesearch-python) (2.5)\n",
            "Requirement already satisfied: charset-normalizer<4,>=2 in /usr/local/lib/python3.10/dist-packages (from requests>=2.20->googlesearch-python) (3.3.2)\n",
            "Requirement already satisfied: idna<4,>=2.5 in /usr/local/lib/python3.10/dist-packages (from requests>=2.20->googlesearch-python) (3.6)\n",
            "Requirement already satisfied: urllib3<3,>=1.21.1 in /usr/local/lib/python3.10/dist-packages (from requests>=2.20->googlesearch-python) (2.0.7)\n",
            "Requirement already satisfied: certifi>=2017.4.17 in /usr/local/lib/python3.10/dist-packages (from requests>=2.20->googlesearch-python) (2023.11.17)\n",
            "Building wheels for collected packages: googlesearch-python\n",
            "  Building wheel for googlesearch-python (setup.py) ... \u001b[?25l\u001b[?25hdone\n",
            "  Created wheel for googlesearch-python: filename=googlesearch_python-1.2.3-py3-none-any.whl size=4209 sha256=86c7795aaa152e5b0a303b7138934f002913deae780fd9c9484361579b214250\n",
            "  Stored in directory: /root/.cache/pip/wheels/98/24/e9/6c225502948c629b01cc895f86406819281ef0da385f3eb669\n",
            "Successfully built googlesearch-python\n",
            "Installing collected packages: googlesearch-python\n",
            "Successfully installed googlesearch-python-1.2.3\n",
            "\u001b[2K     \u001b[90m━━━━━━━━━━━━━━━━━━━━━━━━━━━━━━━━━━━━━━━━\u001b[0m \u001b[32m794.4/794.4 kB\u001b[0m \u001b[31m7.2 MB/s\u001b[0m eta \u001b[36m0:00:00\u001b[0m\n",
            "\u001b[2K     \u001b[90m━━━━━━━━━━━━━━━━━━━━━━━━━━━━━━━━━━━━━━━━\u001b[0m \u001b[32m37.2/37.2 MB\u001b[0m \u001b[31m15.5 MB/s\u001b[0m eta \u001b[36m0:00:00\u001b[0m\n",
            "\u001b[2K     \u001b[90m━━━━━━━━━━━━━━━━━━━━━━━━━━━━━━━━━━━━━━━━\u001b[0m \u001b[32m1.5/1.5 MB\u001b[0m \u001b[31m24.1 MB/s\u001b[0m eta \u001b[36m0:00:00\u001b[0m\n",
            "\u001b[2K     \u001b[90m━━━━━━━━━━━━━━━━━━━━━━━━━━━━━━━━━━━━━━━━\u001b[0m \u001b[32m191.5/191.5 kB\u001b[0m \u001b[31m21.2 MB/s\u001b[0m eta \u001b[36m0:00:00\u001b[0m\n",
            "\u001b[2K     \u001b[90m━━━━━━━━━━━━━━━━━━━━━━━━━━━━━━━━━━━━━━━━\u001b[0m \u001b[32m46.3/46.3 kB\u001b[0m \u001b[31m6.4 MB/s\u001b[0m eta \u001b[36m0:00:00\u001b[0m\n",
            "\u001b[2K     \u001b[90m━━━━━━━━━━━━━━━━━━━━━━━━━━━━━━━━━━━━━━━━\u001b[0m \u001b[32m613.2/613.2 kB\u001b[0m \u001b[31m24.6 MB/s\u001b[0m eta \u001b[36m0:00:00\u001b[0m\n",
            "\u001b[2K     \u001b[90m━━━━━━━━━━━━━━━━━━━━━━━━━━━━━━━━━━━━━━━━\u001b[0m \u001b[32m49.4/49.4 kB\u001b[0m \u001b[31m5.4 MB/s\u001b[0m eta \u001b[36m0:00:00\u001b[0m\n",
            "\u001b[?25h"
          ]
        }
      ],
      "source": [
        "!pip install -U duckduckgo_search\n",
        "!python3 -m pip install googlesearch-python\n",
        "!pip install -q langchain playwright beautifulsoup4 html2text"
      ]
    },
    {
      "cell_type": "code",
      "source": [
        "search_query = 'Sea food near Googleplex\\n1600 Amphitheatre Parkway\\nMountain View, CA 94043\\nUnited States'"
      ],
      "metadata": {
        "id": "_xO_BVC96PPv"
      },
      "execution_count": 5,
      "outputs": []
    },
    {
      "cell_type": "code",
      "source": [
        "google_search_results = []\n",
        "structured_response = []"
      ],
      "metadata": {
        "id": "QQVHopiz6d6m"
      },
      "execution_count": 6,
      "outputs": []
    },
    {
      "cell_type": "code",
      "source": [
        "number_of_results = 2\n",
        "from googlesearch import search\n",
        "results = search(search_query, lang=\"en\", num_results=number_of_results)"
      ],
      "metadata": {
        "id": "iOTxbNf46fYZ"
      },
      "execution_count": 7,
      "outputs": []
    },
    {
      "cell_type": "code",
      "source": [
        "for result in results:\n",
        "  if not result.startswith(\"https://www.tripadvisor.com\"):\n",
        "    google_search_results.append(result)"
      ],
      "metadata": {
        "id": "MgCGU88Q6haa"
      },
      "execution_count": 8,
      "outputs": []
    },
    {
      "cell_type": "code",
      "source": [
        "google_search_results"
      ],
      "metadata": {
        "colab": {
          "base_uri": "https://localhost:8080/"
        },
        "id": "l54t6s1xp_WC",
        "outputId": "9e4142fd-344b-4c39-a871-3dc927e57f80"
      },
      "execution_count": 9,
      "outputs": [
        {
          "output_type": "execute_result",
          "data": {
            "text/plain": [
              "['https://www.yelp.com/search?cflt=seafood&find_loc=Mountain+View%2C+CA+94043',\n",
              " 'https://us.trip.com/travel-guide/mountain-view-34682-restaurant/googleplex-18697240/']"
            ]
          },
          "metadata": {},
          "execution_count": 9
        }
      ]
    },
    {
      "cell_type": "code",
      "source": [
        "import html2text\n",
        "from langchain.document_loaders import AsyncHtmlLoader\n",
        "from langchain.document_transformers import Html2TextTransformer\n",
        "\n",
        "async def do_webscraping(link):\n",
        "    try:\n",
        "        urls = [link]\n",
        "        loader = AsyncHtmlLoader(urls)\n",
        "        docs = loader.load()\n",
        "\n",
        "        html2text_transformer = Html2TextTransformer()\n",
        "        docs_transformed = html2text_transformer.transform_documents(docs)\n",
        "\n",
        "        if docs_transformed != None and len(docs_transformed) > 0:\n",
        "            metadata = docs_transformed[0].metadata\n",
        "            title = metadata.get('title', '')\n",
        "            return {\n",
        "                'summary': docs_transformed[0].page_content,\n",
        "                'title': title,\n",
        "                'metadata': metadata,\n",
        "                'clean_content': html2text.html2text(docs_transformed[0].page_content)\n",
        "            }\n",
        "        else:\n",
        "            return None\n",
        "\n",
        "    except Exception as e:\n",
        "        print(f\"An unexpected error occurred: {e}\")\n",
        "        return None"
      ],
      "metadata": {
        "id": "zR0KGPUz6nlh"
      },
      "execution_count": 10,
      "outputs": []
    },
    {
      "cell_type": "code",
      "execution_count": 11,
      "metadata": {
        "colab": {
          "base_uri": "https://localhost:8080/"
        },
        "id": "aZhF09OZTbXm",
        "outputId": "ae1aa183-2679-44d4-e46a-f8d1e4815d17"
      },
      "outputs": [
        {
          "output_type": "stream",
          "name": "stdout",
          "text": [
            "https://www.yelp.com/search?cflt=seafood&find_loc=Mountain+View%2C+CA+94043\n"
          ]
        },
        {
          "output_type": "stream",
          "name": "stderr",
          "text": [
            "Fetching pages: 100%|##########| 1/1 [00:01<00:00,  1.44s/it]\n"
          ]
        },
        {
          "output_type": "stream",
          "name": "stdout",
          "text": [
            "https://us.trip.com/travel-guide/mountain-view-34682-restaurant/googleplex-18697240/\n"
          ]
        },
        {
          "output_type": "stream",
          "name": "stderr",
          "text": [
            "Fetching pages: 100%|##########| 1/1 [00:01<00:00,  1.79s/it]\n"
          ]
        }
      ],
      "source": [
        "for link in google_search_results:\n",
        "  print(link)\n",
        "  response = await do_webscraping(link)\n",
        "  if response != None:\n",
        "    structured_response.append(response)"
      ]
    },
    {
      "cell_type": "code",
      "execution_count": 12,
      "metadata": {
        "id": "3FwrBCziTxPU",
        "colab": {
          "base_uri": "https://localhost:8080/"
        },
        "outputId": "c6eceafd-02ec-4329-d6e5-cb78a40b569f"
      },
      "outputs": [
        {
          "output_type": "execute_result",
          "data": {
            "text/plain": [
              "[{'summary': 'Yelp\\n\\nYelp for Business\\n\\nWrite a Review\\n\\nLog InSign Up\\n\\nRestaurants\\n\\nDelivery\\n\\nBurgers\\n\\nChinese\\n\\nItalian\\n\\nReservations\\n\\nJapanese\\n\\nMexican\\n\\nThai\\n\\nHome Services\\n\\nContractors\\n\\nElectricians\\n\\nHome Cleaners\\n\\nHVAC\\n\\nLandscaping\\n\\nLocksmiths\\n\\nMovers\\n\\nPlumbers\\n\\nAuto Services\\n\\nAuto Repair\\n\\nAuto Detailing\\n\\nBody Shops\\n\\nCar Wash\\n\\nCar Dealers\\n\\nOil Change\\n\\nParking\\n\\nTowing\\n\\nMore\\n\\nDry Cleaning\\n\\nPhone Repair\\n\\nBars\\n\\nNightlife\\n\\nHair Salons\\n\\nGyms\\n\\nMassage\\n\\nShopping\\n\\nMore\\n\\nFilters\\n\\n$$$$$$$$$$\\n\\nSuggested\\n\\nOpen Now\\n\\n\\\\--:--\\n\\nOffers Delivery\\n\\nReservations\\n\\nFree Wi-Fi\\n\\nOutdoor Seating\\n\\nDogs Allowed\\n\\nFeatures\\n\\nOffers Takeout\\n\\nGood for Groups\\n\\nGood for Dinner\\n\\nGood for Kids\\n\\nSee all\\n\\nDistance\\n\\nBird\\'s-eye View\\n\\nDriving (5 mi.)\\n\\nBiking (2 mi.)\\n\\nWalking (1 mi.)\\n\\nWithin 4 blocks\\n\\nYelpRestaurantsSeafood\\n\\n# The Best 10 Seafood Restaurants near Mountain View, CA 94043\\n\\nSort:Recommended\\n\\nAll\\n\\nPrice\\n\\nOpen NowOffers DeliveryReservationsFree Wi-FiOutdoor SeatingDogs Allowed\\n\\n  *   *   * ### 1. Limón\\n\\n4.0 (265 reviews)\\n\\nPeruvianSeafoodCocktail Bars\\n\\nThis is a placeholder\\n\\n“Everything we ate was delicious. Love the menu- tons of mouth-watering\\nseafood and land animal...” more\\n\\n    * Delivery\\n\\nTakeout\\n\\nFind a Table\\n\\n  * ### 2. Pacific Catch\\n\\n3.8 (1k reviews)\\n\\nSeafoodTacosSushi Bars$$\\n\\nThis is a placeholder\\n\\nOutdoor seating\\n\\nTakes reservations\\n\\n“Personally, I really enjoyed the poke, the Korean-style seafood pancake\\n(again, better at the...” more\\n\\n    * Delivery\\n\\nTakeout\\n\\nStart Order\\n\\n  * ### 3. The Sea by Alexander’s Steakhouse\\n\\n4.1 (1.3k reviews)\\n\\nSeafoodSteakhousesBars$$$$\\n\\nThis is a placeholder\\n\\n“All of the seafood was very fresh, with particularly sweet jumbo shrimp.”\\nmore\\n\\n    * Outdoor seating\\n\\nTakeout\\n\\n  * ### 4. La Marea of the Sea\\n\\n4.7 (45 reviews)\\n\\nSeafoodFood Stands$\\n\\nThis is a placeholder\\n\\n“The oysters were pretty fresh. They have great condiments to compliment the\\nseafood.” more\\n\\n    * Delivery\\n\\n  * ### 5. Cap’t Loui\\n\\n4.5 (569 reviews)\\n\\nSeafoodFish & ChipsCajun/Creole$$\\n\\nThis is a placeholder\\n\\nFree parking\\n\\nLarge group friendly\\n\\n“If you order a certain amount of pounds of seafood, you can get extra sides\\nfor free.” more\\n\\n    * Outdoor seating\\n\\nDelivery\\n\\nTakeout\\n\\nStart Order\\n\\n  * ### 6. Rustic House Oyster Bar and Grill - Los Altos\\n\\n4.0 (641 reviews)\\n\\nSeafoodBarsAmerican$$\\n\\nThis is a placeholder\\n\\n“The seafood was delicious and competently prepared: a generously portioned\\ngrouper special on...” more\\n\\n    * Outdoor seating\\n\\nDelivery\\n\\nTakeout\\n\\nStart Order\\n\\n  * ### 7. King’s Fish House - San Jose\\n\\n4.2 (1.9k reviews)\\n\\nSeafood$$$West San Jose\\n\\nThis is a placeholder\\n\\n“The tartare sauce has great balance of spicy and seafood taste to it, I\\nreally like it. 3.)...” more\\n\\n    * Outdoor seating\\n\\nDelivery\\n\\nTakeout\\n\\n  * ### 8. Cook’s Seafood\\n\\n3.9 (636 reviews)\\n\\nSeafoodSeafood MarketsFish & Chips$$\\n\\nThis is a placeholder\\n\\n“I decided that I wanted some seafood but I wanted GOOD seafood and not the\\nsame stuff I always have.” more\\n\\n    * Outdoor seating\\n\\nTakeout\\n\\n  * ### 9. The City Fish\\n\\n4.4 (1.1k reviews)\\n\\nSandwichesSeafoodFish & Chips$$\\n\\nThis is a placeholder\\n\\n“The reason why I love them is simple - big portions of quality seafood at a\\nreasonable price.” more\\n\\n    * Outdoor seating\\n\\nDelivery\\n\\nTakeout\\n\\nStart Order\\n\\n  * ### 10. Gochi - Mountain View\\n\\n4.1 (555 reviews)\\n\\nJapaneseWine BarsSeafood$$$\\n\\nThis is a placeholder\\n\\n    * Waitlist opens at 5:45 pm\\n\\n“Fresh seafood. Highly recommend. Customer service is top notch. Thank you\\nGochi for the great...” more\\n\\n    * Outdoor seating\\n\\nDelivery\\n\\nTakeout\\n\\nFind a Table\\n\\n  * 1\\n\\n2\\n\\n3\\n\\n4\\n\\n5\\n\\n6\\n\\n7\\n\\n8\\n\\n9\\n\\n1 of 22\\n\\n  * ## Can\\'t find the business?\\n\\nAdding a business to Yelp is always free.\\n\\nAdd business\\n\\nGot search feedback? Help us improve.\\n\\n  * ## Related Searches in Mountain View, CA\\n\\nBeef Wellington\\n\\nCioppino\\n\\nCrab\\n\\nDinner Reservations\\n\\nFish Tacos\\n\\nMichelada\\n\\nSeafood Boil\\n\\nSeafood Buffet\\n\\nSteakhouses\\n\\n$1 Oysters\\n\\nCajun\\n\\nCajun Seafood Boil\\n\\nCeviche\\n\\nClam Chowder\\n\\nCrab Legs\\n\\nCrawfish\\n\\nFish\\n\\nFish House\\n\\nLobster Roll\\n\\nMariscos\\n\\nOysters\\n\\nRestaurants With a View\\n\\nSalmon\\n\\nScallops\\n\\nAnniversary Dinner\\n\\nCajun Seafood\\n\\nCalamari\\n\\nCrab Boil\\n\\nCrab Sandwich\\n\\nFish & Chips\\n\\nHip New Restaurants\\n\\nOyster Bars\\n\\nRestaurants With Private Rooms\\n\\nSashimi\\n\\nChain Restaurants\\n\\nCrawfish Boil\\n\\nDungeness Crab\\n\\nFine Dining\\n\\nFish Market\\n\\nGrilled Fish\\n\\nMexican Seafood\\n\\nOyster Happy Hour\\n\\nPrime Rib\\n\\nSoft Shell Crab\\n\\nValentines Day Dinner\\n\\n## Trending Searches in Mountain View, CA\\n\\nAsian Supermarket\\n\\nBeef Wellington\\n\\nBuy Fresh Oysters\\n\\nCajun Seafood Boil\\n\\nCandy Stores\\n\\nCatfish\\n\\nCaviar\\n\\nCheese Shops\\n\\nChristmas Brunch\\n\\nClam Chowder Bread Bowl\\n\\nDry Aged Steak\\n\\nFishmonger\\n\\nFruit Cake\\n\\nGingerbread Cookies\\n\\nGourmet Grocery Stores\\n\\nGumbo\\n\\nHot Chocolate\\n\\nKaraoke\\n\\nLive Lobster\\n\\nPotluck Food\\n\\nRestaurants Open on Christmas Day\\n\\nSashimi\\n\\nSeafood Markets\\n\\nSmoked Salmon\\n\\nSpecialty Food\\n\\nSteak\\n\\nSushi Lunch Special\\n\\nSushi Party Tray\\n\\nWagyu Steak\\n\\nYule Log Cake\\n\\n## Related Articles\\n\\nTop Buffets in California\\n\\nTop Cajun/Creole in California\\n\\nTop Dim Sum Restaurants in California\\n\\nTop Fish & Chips in California\\n\\nTop Peruvian Restaurants in California\\n\\nTop Restaurants in California\\n\\nTop Seafood Restaurants in California\\n\\nTop Soul Food Restaurants in California\\n\\nTop Steakhouses in California\\n\\nTop Buffets in the US\\n\\nTop Cajun/Creole in the US\\n\\nTop Dim Sum Restaurants in the US\\n\\nTop Fish & Chips in the US\\n\\nTop Peruvian Restaurants in the US\\n\\nTop Restaurants in the US\\n\\nTop Seafood Restaurants in the US\\n\\nTop Soul Food Restaurants in the US\\n\\nTop Steakhouses in the US\\n\\n  *   * ## Search seafood in popular locations\\n\\n### Nearby cities\\n\\nCampbell, CA\\n\\nCupertino, CA\\n\\nLos Altos, CA\\n\\nLos Gatos, CA\\n\\nMilpitas, CA\\n\\nPalo Alto, CA\\n\\nSan Jose, CA\\n\\nSanta Clara, CA\\n\\nSaratoga, CA\\n\\nSunnyvale, CA\\n\\n### More\\n\\nLos Angeles, CA\\n\\nNapa, CA\\n\\nSacramento, CA\\n\\nSan Diego, CA\\n\\nSan Francisco, CA\\n\\nSan Luis Obispo, CA\\n\\nSanta Barbara, CA\\n\\nSanta Rosa, CA\\n\\nStockton, CA\\n\\n  *   *   *   * ## Frequently Asked Questions and Answers\\n\\nWhat are the best cheap seafood restaurants?\\n\\nThese are the best cheap seafood restaurants near Mountain View, CA:\\n\\n    * The City Fish\\n\\n    * Cap\\'t Loui\\n\\n    * Rustic House Oyster Bar and Grill - Los Altos\\n\\n    * Pacific Catch\\n\\n    * Vaso Azzurro Ristorante\\n\\nPeople also liked: Seafood Takeout Restaurants, Seafood Restaurants Offering\\nReservations\\n\\nWhat did people search for similar to seafood near Mountain View, CA?\\n\\nPeople also searched for these near Mountain View:\\n\\n    * Steak\\n\\n    * Seafood Markets\\n\\n    * Dinner\\n\\n    * Sushi\\n\\n    * Fried Fish\\n\\nSee more seafood near Mountain View.\\n\\nWhat are people saying about seafood restaurants near Mountain View, CA?\\n\\nThis is a review for seafood restaurants near Mountain View, CA:\\n\\n\"La Marea of the Sea brings fresh seafood to ur nearest farmers market if u\\ncan\\'t make it to ur seafood eatery locale: Montclair Farmers Market (9/6/20)\\nofferings: raw oysters, shrimp cocktail, fish ceviche, etc. eats: 3 raw miyagi\\noysters/$7 -big & briney, with dash of lemon & horseradish -haven\\'t had them\\nin about a decade, tasted great. -one can also take them home, in the heat,\\ndoubt it will travel well. notes: -seafood made to order, line can get long as\\nonly 1 amigo worker.....\"\\n\\nSee more reviews for this business.\\n\\nWhat are the best seafood takeout restaurants?\\n\\nThese are the best seafood takeout restaurants near Mountain View, CA:\\n\\n    * The City Fish\\n\\n    * Cap\\'t Loui\\n\\n    * King\\'s Fish House - San Jose\\n\\n    * Rustic House Oyster Bar and Grill - Los Altos\\n\\n    * Pacific Catch\\n\\nPeople also liked: Cheap Seafood Restaurants, Seafood Restaurants Offering\\nReservations\\n\\nWhat are the best seafood restaurants offering reservations?\\n\\nThese are the best seafood restaurants offering reservations near Mountain\\nView, CA:\\n\\n    * King\\'s Fish House - San Jose\\n\\n    * Rustic House Oyster Bar and Grill - Los Altos\\n\\n    * Pacific Catch\\n\\n    * The Sea by Alexander\\'s Steakhouse\\n\\n    * Evvia Estiatorio\\n\\nPeople also liked: Cheap Seafood Restaurants, Seafood Takeout Restaurants\\n\\nAbout\\n\\n  * About Yelp\\n  * Careers\\n  * Press\\n  * Investor Relations\\n  * Trust & Safety\\n  * Content Guidelines\\n  * Accessibility Statement\\n  * Terms of Service\\n  * Privacy Policy\\n  * Ad Choices\\n  * Your Privacy Choices\\n\\nDiscover\\n\\n  * Yelp Project Cost Guides\\n  * Collections\\n  * Talk\\n  * Events\\n  * Yelp Blog\\n  * Support\\n  * Yelp Mobile\\n  * Developers\\n  * RSS\\n\\nYelp for Business\\n\\n  * Yelp for Business\\n  * Business Owner Login\\n  * Claim your Business Page\\n  * Advertise on Yelp\\n  * Yelp for Restaurant Owners\\n  * Table Management\\n  * Business Success Stories\\n  * Business Support\\n  * Yelp Blog for Business\\n\\nLanguages\\n\\nEnglish\\n\\nCountries\\n\\nUnited States\\n\\n  * About\\n\\n  * Blog\\n\\n  * Support\\n\\n  * Terms\\n\\n  * Privacy Policy\\n\\n  * Your Privacy Choices\\n\\nCopyright © 2004–2023 Yelp Inc. Yelp, ,  and related marks are registered\\ntrademarks of Yelp.\\n\\nSome Data By Acxiom\\n\\n',\n",
              "  'title': 'THE BEST 10 Seafood Restaurants near MOUNTAIN VIEW, CA 94043 - Last Updated December 2023 - Yelp',\n",
              "  'metadata': {'source': 'https://www.yelp.com/search?cflt=seafood&find_loc=Mountain+View%2C+CA+94043',\n",
              "   'title': 'THE BEST 10 Seafood Restaurants near MOUNTAIN VIEW, CA 94043 - Last Updated December 2023 - Yelp',\n",
              "   'description': \"Best Seafood in Mountain View, CA 94043 - Limón, Pacific Catch, The Sea by Alexander's Steakhouse, La Marea of the Sea, Cap't Loui, Rustic House Oyster Bar and Grill - Los Altos, King's Fish House - San Jose, Cook’s Seafood, The City Fish, Gochi - Mountain View\",\n",
              "   'language': 'en-US'},\n",
              "  'clean_content': 'Yelp Yelp for Business Write a Review Log InSign Up Restaurants Delivery\\nBurgers Chinese Italian Reservations Japanese Mexican Thai Home Services\\nContractors Electricians Home Cleaners HVAC Landscaping Locksmiths Movers\\nPlumbers Auto Services Auto Repair Auto Detailing Body Shops Car Wash Car\\nDealers Oil Change Parking Towing More Dry Cleaning Phone Repair Bars\\nNightlife Hair Salons Gyms Massage Shopping More Filters $$$$$$$$$$ Suggested\\nOpen Now \\\\\\\\--:-- Offers Delivery Reservations Free Wi-Fi Outdoor Seating Dogs\\nAllowed Features Offers Takeout Good for Groups Good for Dinner Good for Kids\\nSee all Distance Bird\\'s-eye View Driving (5 mi.) Biking (2 mi.) Walking (1\\nmi.) Within 4 blocks YelpRestaurantsSeafood # The Best 10 Seafood Restaurants\\nnear Mountain View, CA 94043 Sort:Recommended All Price Open NowOffers\\nDeliveryReservationsFree Wi-FiOutdoor SeatingDogs Allowed * * * ### 1. Limón\\n4.0 (265 reviews) PeruvianSeafoodCocktail Bars This is a placeholder\\n“Everything we ate was delicious. Love the menu- tons of mouth-watering\\nseafood and land animal...” more * Delivery Takeout Find a Table * ### 2.\\nPacific Catch 3.8 (1k reviews) SeafoodTacosSushi Bars$$ This is a placeholder\\nOutdoor seating Takes reservations “Personally, I really enjoyed the poke, the\\nKorean-style seafood pancake (again, better at the...” more * Delivery Takeout\\nStart Order * ### 3. The Sea by Alexander’s Steakhouse 4.1 (1.3k reviews)\\nSeafoodSteakhousesBars$$$$ This is a placeholder “All of the seafood was very\\nfresh, with particularly sweet jumbo shrimp.” more * Outdoor seating Takeout *\\n### 4. La Marea of the Sea 4.7 (45 reviews) SeafoodFood Stands$ This is a\\nplaceholder “The oysters were pretty fresh. They have great condiments to\\ncompliment the seafood.” more * Delivery * ### 5. Cap’t Loui 4.5 (569 reviews)\\nSeafoodFish & ChipsCajun/Creole$$ This is a placeholder Free parking Large\\ngroup friendly “If you order a certain amount of pounds of seafood, you can\\nget extra sides for free.” more * Outdoor seating Delivery Takeout Start Order\\n* ### 6. Rustic House Oyster Bar and Grill - Los Altos 4.0 (641 reviews)\\nSeafoodBarsAmerican$$ This is a placeholder “The seafood was delicious and\\ncompetently prepared: a generously portioned grouper special on...” more *\\nOutdoor seating Delivery Takeout Start Order * ### 7. King’s Fish House - San\\nJose 4.2 (1.9k reviews) Seafood$$$West San Jose This is a placeholder “The\\ntartare sauce has great balance of spicy and seafood taste to it, I really\\nlike it. 3.)...” more * Outdoor seating Delivery Takeout * ### 8. Cook’s\\nSeafood 3.9 (636 reviews) SeafoodSeafood MarketsFish & Chips$$ This is a\\nplaceholder “I decided that I wanted some seafood but I wanted GOOD seafood\\nand not the same stuff I always have.” more * Outdoor seating Takeout * ### 9.\\nThe City Fish 4.4 (1.1k reviews) SandwichesSeafoodFish & Chips$$ This is a\\nplaceholder “The reason why I love them is simple - big portions of quality\\nseafood at a reasonable price.” more * Outdoor seating Delivery Takeout Start\\nOrder * ### 10. Gochi - Mountain View 4.1 (555 reviews) JapaneseWine\\nBarsSeafood$$$ This is a placeholder * Waitlist opens at 5:45 pm “Fresh\\nseafood. Highly recommend. Customer service is top notch. Thank you Gochi for\\nthe great...” more * Outdoor seating Delivery Takeout Find a Table * 1 2 3 4 5\\n6 7 8 9 1 of 22 * ## Can\\'t find the business? Adding a business to Yelp is\\nalways free. Add business Got search feedback? Help us improve. * ## Related\\nSearches in Mountain View, CA Beef Wellington Cioppino Crab Dinner\\nReservations Fish Tacos Michelada Seafood Boil Seafood Buffet Steakhouses $1\\nOysters Cajun Cajun Seafood Boil Ceviche Clam Chowder Crab Legs Crawfish Fish\\nFish House Lobster Roll Mariscos Oysters Restaurants With a View Salmon\\nScallops Anniversary Dinner Cajun Seafood Calamari Crab Boil Crab Sandwich\\nFish & Chips Hip New Restaurants Oyster Bars Restaurants With Private Rooms\\nSashimi Chain Restaurants Crawfish Boil Dungeness Crab Fine Dining Fish Market\\nGrilled Fish Mexican Seafood Oyster Happy Hour Prime Rib Soft Shell Crab\\nValentines Day Dinner ## Trending Searches in Mountain View, CA Asian\\nSupermarket Beef Wellington Buy Fresh Oysters Cajun Seafood Boil Candy Stores\\nCatfish Caviar Cheese Shops Christmas Brunch Clam Chowder Bread Bowl Dry Aged\\nSteak Fishmonger Fruit Cake Gingerbread Cookies Gourmet Grocery Stores Gumbo\\nHot Chocolate Karaoke Live Lobster Potluck Food Restaurants Open on Christmas\\nDay Sashimi Seafood Markets Smoked Salmon Specialty Food Steak Sushi Lunch\\nSpecial Sushi Party Tray Wagyu Steak Yule Log Cake ## Related Articles Top\\nBuffets in California Top Cajun/Creole in California Top Dim Sum Restaurants\\nin California Top Fish & Chips in California Top Peruvian Restaurants in\\nCalifornia Top Restaurants in California Top Seafood Restaurants in California\\nTop Soul Food Restaurants in California Top Steakhouses in California Top\\nBuffets in the US Top Cajun/Creole in the US Top Dim Sum Restaurants in the US\\nTop Fish & Chips in the US Top Peruvian Restaurants in the US Top Restaurants\\nin the US Top Seafood Restaurants in the US Top Soul Food Restaurants in the\\nUS Top Steakhouses in the US * * ## Search seafood in popular locations ###\\nNearby cities Campbell, CA Cupertino, CA Los Altos, CA Los Gatos, CA Milpitas,\\nCA Palo Alto, CA San Jose, CA Santa Clara, CA Saratoga, CA Sunnyvale, CA ###\\nMore Los Angeles, CA Napa, CA Sacramento, CA San Diego, CA San Francisco, CA\\nSan Luis Obispo, CA Santa Barbara, CA Santa Rosa, CA Stockton, CA * * * * ##\\nFrequently Asked Questions and Answers What are the best cheap seafood\\nrestaurants? These are the best cheap seafood restaurants near Mountain View,\\nCA: * The City Fish * Cap\\'t Loui * Rustic House Oyster Bar and Grill - Los\\nAltos * Pacific Catch * Vaso Azzurro Ristorante People also liked: Seafood\\nTakeout Restaurants, Seafood Restaurants Offering Reservations What did people\\nsearch for similar to seafood near Mountain View, CA? People also searched for\\nthese near Mountain View: * Steak * Seafood Markets * Dinner * Sushi * Fried\\nFish See more seafood near Mountain View. What are people saying about seafood\\nrestaurants near Mountain View, CA? This is a review for seafood restaurants\\nnear Mountain View, CA: \"La Marea of the Sea brings fresh seafood to ur\\nnearest farmers market if u can\\'t make it to ur seafood eatery locale:\\nMontclair Farmers Market (9/6/20) offerings: raw oysters, shrimp cocktail,\\nfish ceviche, etc. eats: 3 raw miyagi oysters/$7 -big & briney, with dash of\\nlemon & horseradish -haven\\'t had them in about a decade, tasted great. -one\\ncan also take them home, in the heat, doubt it will travel well. notes:\\n-seafood made to order, line can get long as only 1 amigo worker.....\" See\\nmore reviews for this business. What are the best seafood takeout restaurants?\\nThese are the best seafood takeout restaurants near Mountain View, CA: * The\\nCity Fish * Cap\\'t Loui * King\\'s Fish House - San Jose * Rustic House Oyster\\nBar and Grill - Los Altos * Pacific Catch People also liked: Cheap Seafood\\nRestaurants, Seafood Restaurants Offering Reservations What are the best\\nseafood restaurants offering reservations? These are the best seafood\\nrestaurants offering reservations near Mountain View, CA: * King\\'s Fish House\\n- San Jose * Rustic House Oyster Bar and Grill - Los Altos * Pacific Catch *\\nThe Sea by Alexander\\'s Steakhouse * Evvia Estiatorio People also liked: Cheap\\nSeafood Restaurants, Seafood Takeout Restaurants About * About Yelp * Careers\\n* Press * Investor Relations * Trust & Safety * Content Guidelines *\\nAccessibility Statement * Terms of Service * Privacy Policy * Ad Choices *\\nYour Privacy Choices Discover * Yelp Project Cost Guides * Collections * Talk\\n* Events * Yelp Blog * Support * Yelp Mobile * Developers * RSS Yelp for\\nBusiness * Yelp for Business * Business Owner Login * Claim your Business Page\\n* Advertise on Yelp * Yelp for Restaurant Owners * Table Management * Business\\nSuccess Stories * Business Support * Yelp Blog for Business Languages English\\nCountries United States * About * Blog * Support * Terms * Privacy Policy *\\nYour Privacy Choices Copyright © 2004–2023 Yelp Inc. Yelp, , and related marks\\nare registered trademarks of Yelp. Some Data By Acxiom\\n\\n'},\n",
              " {'summary': \"https://us.trip.com/travel-guide/foods/mountain-\\nview-34682-restaurant/googleplex-18697240\\n\\n  * Hotels\\n  * Flights\\n  * Trains\\n  * Cars\\n    * Car Rentals\\n    * Airport Transfers\\n  * Attractions & Tours\\n  * Bundle & Save\\n  * Cruises\\n  * Trip Planner\\n  * Destinations\\n  * Trip.com Rewards\\n  * Deals\\n\\nApp\\n\\nHelp __\\n\\nUSD\\n\\nSearch Bookings\\n\\nHome\\n\\n __Travel Guides\\n\\n __North America\\n\\n __United States\\n\\n __California\\n\\n __Santa Clara County\\n\\n __Mountain View\\n\\n __Googleplex\\n\\n# Googleplex\\n\\n4.6/549 Reviews\\n\\nArchitecture & Landmarks\\n\\n __\\n\\nCurrently closed |Open tomorrow at 08:00\\n\\n __\\n\\n __\\n\\n+1-650-253-0000\\n\\n __\\n\\n __\\n\\n1600 Amphitheatre Pkwy, Mountain View, CA 94043, USA\\n\\nView on Map\\n\\n## Reviews of Googleplex\\n\\n __Some reviews may have been translated by Google Translate\\n\\n4.6/5Outstanding\\n\\nAll (49)\\n\\nLatest\\n\\nWith Photos (37)\\n\\nPositive Reviews (39)\\n\\n  * DEAR张小球\\n\\n5.0/5Outstanding\\n\\nOriginal Text\\n\\nNot going up at home. But to Silicon Valley, you still have to visit Google\\nheadquarters. This is a very great technology Internet company, a company that\\nreally uses technology to change people.\\n\\nShow All\\n\\n __0\\n\\nReviewed on 1586999684000\\n\\n  * Rubylanlan\\n\\n5.0/5Outstanding\\n\\nOriginal Text\\n\\nI am also a person who has been to Google! Although it is not Google Powder,\\nhow can there be an inexplicable sense of excitement = = When I came the night\\nbefore, I happened to encounter activities nearby that were not allowed to\\nenter, and I couldn't see it when I was dark. The next day, I didn't die and I\\nhad time to come again. Tiangong is beautiful, especially suitable for\\nplaying! The office building on Saturday is not open, and if there is no\\nfriend to bring it, you can't enter it. There is a parking space at the door\\nof the company, and you can also drive in it. There is no clear gate like the\\ndomestic one, a more casual park. The bicycle does not have a lock, and you\\ncan ride and play when you see it parked. The most frequent tourist is the\\nAndroid Xiaoren Square, take some cute photos~ various photos~\\n\\nShow All\\n\\n __2\\n\\nReviewed on 1578461674000\\n\\n  * 琳达Linda琳达\\n\\n5.0/5Outstanding\\n\\nOriginal Text\\n\\nGoogle headquarters really has to come to punch in. Very open and warm work\\nenvironment, the work here is really a dream. Very design and creative, no\\nwonder Google can develop so well.\\n\\nShow All\\n\\n __0\\n\\nReviewed on 1570888928000\\n\\n  * sherrysaramande\\n\\n5.0/5Outstanding\\n\\nOriginal Text\\n\\nSparsely populated, I used to let friends bring rice to dinner, but it won't\\nwork after the epidemic.\\n\\nShow All\\n\\n __0\\n\\nReviewed on 1688051985000\\n\\n  * 马普尔太太\\n\\n5.0/5Outstanding\\n\\nOriginal Text\\n\\nVery worth a visit, recommend everyone\\n\\nShow All\\n\\n __0\\n\\nReviewed on 1672631937000\\n\\n  * 福尔摩斯先生呢\\n\\n5.0/5Outstanding\\n\\nOriginal Text\\n\\nVery worth a visit, recommend this\\n\\nShow All\\n\\n __0\\n\\nReviewed on 1671853296000\\n\\n  * 十字小溪-Y\\n\\n5.0/5Outstanding\\n\\nOriginal Text\\n\\nGoogle headquarters is free to tourists, road signs are obvious, and there is\\na souvenir shop in the visitor center. The whole area is very green, the\\nenvironment is beautiful, there are free bicycles for selection, convenient\\nfor sightseeing. Being in it has a feeling of walking into the campus. The\\nwork area must be entered with a work card.\\n\\nShow All\\n\\n __6\\n\\nReviewed on 1519287573000\\n\\n _\\uf575_\\n\\n  * 1\\n  * 2\\n  * 3\\n  * 4\\n  * 10\\n\\n _\\uf5bf_\\n\\n##  Attractions Near Googleplex\\n\\nSilicon Valley\\n\\n4.5/582 Reviews\\n\\nFeatured Neighborhoods\\n\\n __away\\n\\nGoogleplex\\n\\n4.6/546 Reviews\\n\\nModern ArchitectureHiking/BikingHiking/Biking\\n\\nApple Infinite Loop\\n\\n4.6/538 Reviews\\n\\nModern Architecture\\n\\n __away\\n\\nStanford University\\n\\n4.8/5405 Reviews\\n\\nSchools\\n\\n __away\\n\\nMore attractions near Googleplex\\n\\n##  Restaurants Near Googleplex\\n\\nChez TJ\\n\\n4.3/53 Reviews\\n\\nUS$59\\n\\nWestern-styleSpectacular Views\\n\\n __away\\n\\nPacific Catch\\n\\n4.0/51 Reviews\\n\\nUS$21\\n\\nSeafoodOpen LateSpectacular Views\\n\\n __away\\n\\nCucina Venti Restaurant\\n\\n5.0/51 Reviews\\n\\nUS$28\\n\\nWestern-styleOpen Late\\n\\n __away\\n\\nCascal\\n\\n4.7/53 Reviews\\n\\nUS$24\\n\\nLatin AmericanOpen LateSpectacular Views\\n\\n __away\\n\\nMore restaurants near Googleplex\\n\\n##  Hotels Near Googleplex\\n\\nCrowne Plaza Cabana Hotel, an IHG Hotel\\n\\n __ __ __\\n\\n4.1 /5132 Reviews\\n\\n __away\\n\\nHomewood Suites by Hilton Palo Alto\\n\\n __ __ __\\n\\n4.5 /565 Reviews\\n\\n __away\\n\\nShashi Hotel Mountain View, an Urban Resort\\n\\n __ __ __ __ __\\n\\n4.5 /5110 Reviews\\n\\n __away\\n\\nHilton Garden Inn Palo Alto\\n\\n __ __ __\\n\\n4.3 /5118 Reviews\\n\\n __away\\n\\nMore hotels near Googleplex\\n\\n### Contact Us\\n\\n  * Customer Support\\n  * Service Guarantee\\n  * Website Feedback\\n\\n### About\\n\\n  * About Trip.com\\n  * News\\n  * Careers\\n  * Terms & Conditions\\n  * Privacy Statement\\n  * Do Not Sell My Personal Information\\n  * About Trip.com Group\\n\\n### Other Services\\n\\n  * Investor Relations\\n  * Trip.com Rewards\\n  * Affiliate Program\\n  * List My Hotel\\n  * All Hotels\\n  * Become a Supplier\\n  * Security\\n\\nPayment Methods\\n\\nOur Partners\\n\\nCopyright © 2023 Trip.com Travel Singapore Pte. Ltd. All rights reserved  \\nSite Operator: Trip.com Travel Singapore Pte. Ltd.\\n\\n\",\n",
              "  'title': 'Googleplex restaurants, addresses, phone numbers, photos, real user reviews, 1600 Amphitheatre Pkwy, Mountain View, CA 94043, USA, Mountain View restaurant recommendations - Trip.com',\n",
              "  'metadata': {'source': 'https://us.trip.com/travel-guide/mountain-view-34682-restaurant/googleplex-18697240/',\n",
              "   'title': 'Googleplex restaurants, addresses, phone numbers, photos, real user reviews, 1600 Amphitheatre Pkwy, Mountain View, CA 94043, USA, Mountain View restaurant recommendations - Trip.com',\n",
              "   'description': 'Trip delicious',\n",
              "   'language': 'en-US'},\n",
              "  'clean_content': \"https://us.trip.com/travel-guide/foods/mountain-\\nview-34682-restaurant/googleplex-18697240 * Hotels * Flights * Trains * Cars *\\nCar Rentals * Airport Transfers * Attractions & Tours * Bundle & Save *\\nCruises * Trip Planner * Destinations * Trip.com Rewards * Deals App Help __\\nUSD Search Bookings Home __Travel Guides __North America __United States\\n__California __Santa Clara County __Mountain View __Googleplex # Googleplex\\n4.6/549 Reviews Architecture & Landmarks __ Currently closed |Open tomorrow at\\n08:00 __ __ +1-650-253-0000 __ __ 1600 Amphitheatre Pkwy, Mountain View, CA\\n94043, USA View on Map ## Reviews of Googleplex __Some reviews may have been\\ntranslated by Google Translate 4.6/5Outstanding All (49) Latest With Photos\\n(37) Positive Reviews (39) * DEAR张小球 5.0/5Outstanding Original Text Not going\\nup at home. But to Silicon Valley, you still have to visit Google\\nheadquarters. This is a very great technology Internet company, a company that\\nreally uses technology to change people. Show All __0 Reviewed on\\n1586999684000 * Rubylanlan 5.0/5Outstanding Original Text I am also a person\\nwho has been to Google! Although it is not Google Powder, how can there be an\\ninexplicable sense of excitement = = When I came the night before, I happened\\nto encounter activities nearby that were not allowed to enter, and I couldn't\\nsee it when I was dark. The next day, I didn't die and I had time to come\\nagain. Tiangong is beautiful, especially suitable for playing! The office\\nbuilding on Saturday is not open, and if there is no friend to bring it, you\\ncan't enter it. There is a parking space at the door of the company, and you\\ncan also drive in it. There is no clear gate like the domestic one, a more\\ncasual park. The bicycle does not have a lock, and you can ride and play when\\nyou see it parked. The most frequent tourist is the Android Xiaoren Square,\\ntake some cute photos~ various photos~ Show All __2 Reviewed on 1578461674000\\n* 琳达Linda琳达 5.0/5Outstanding Original Text Google headquarters really has to\\ncome to punch in. Very open and warm work environment, the work here is really\\na dream. Very design and creative, no wonder Google can develop so well. Show\\nAll __0 Reviewed on 1570888928000 * sherrysaramande 5.0/5Outstanding Original\\nText Sparsely populated, I used to let friends bring rice to dinner, but it\\nwon't work after the epidemic. Show All __0 Reviewed on 1688051985000 * 马普尔太太\\n5.0/5Outstanding Original Text Very worth a visit, recommend everyone Show All\\n__0 Reviewed on 1672631937000 * 福尔摩斯先生呢 5.0/5Outstanding Original Text Very\\nworth a visit, recommend this Show All __0 Reviewed on 1671853296000 * 十字小溪-Y\\n5.0/5Outstanding Original Text Google headquarters is free to tourists, road\\nsigns are obvious, and there is a souvenir shop in the visitor center. The\\nwhole area is very green, the environment is beautiful, there are free\\nbicycles for selection, convenient for sightseeing. Being in it has a feeling\\nof walking into the campus. The work area must be entered with a work card.\\nShow All __6 Reviewed on 1519287573000 _\\uf575_ * 1 * 2 * 3 * 4 * 10 _\\uf5bf_ ##\\nAttractions Near Googleplex Silicon Valley 4.5/582 Reviews Featured\\nNeighborhoods __away Googleplex 4.6/546 Reviews Modern\\nArchitectureHiking/BikingHiking/Biking Apple Infinite Loop 4.6/538 Reviews\\nModern Architecture __away Stanford University 4.8/5405 Reviews Schools __away\\nMore attractions near Googleplex ## Restaurants Near Googleplex Chez TJ 4.3/53\\nReviews US$59 Western-styleSpectacular Views __away Pacific Catch 4.0/51\\nReviews US$21 SeafoodOpen LateSpectacular Views __away Cucina Venti Restaurant\\n5.0/51 Reviews US$28 Western-styleOpen Late __away Cascal 4.7/53 Reviews US$24\\nLatin AmericanOpen LateSpectacular Views __away More restaurants near\\nGoogleplex ## Hotels Near Googleplex Crowne Plaza Cabana Hotel, an IHG Hotel\\n__ __ __ 4.1 /5132 Reviews __away Homewood Suites by Hilton Palo Alto __ __ __\\n4.5 /565 Reviews __away Shashi Hotel Mountain View, an Urban Resort __ __ __\\n__ __ 4.5 /5110 Reviews __away Hilton Garden Inn Palo Alto __ __ __ 4.3 /5118\\nReviews __away More hotels near Googleplex ### Contact Us * Customer Support *\\nService Guarantee * Website Feedback ### About * About Trip.com * News *\\nCareers * Terms & Conditions * Privacy Statement * Do Not Sell My Personal\\nInformation * About Trip.com Group ### Other Services * Investor Relations *\\nTrip.com Rewards * Affiliate Program * List My Hotel * All Hotels * Become a\\nSupplier * Security Payment Methods Our Partners Copyright © 2023 Trip.com\\nTravel Singapore Pte. Ltd. All rights reserved Site Operator: Trip.com Travel\\nSingapore Pte. Ltd.\\n\\n\"}]"
            ]
          },
          "metadata": {},
          "execution_count": 12
        }
      ],
      "source": [
        "structured_response"
      ]
    },
    {
      "cell_type": "markdown",
      "metadata": {
        "id": "qVkcH8ldmVM-"
      },
      "source": [
        "# **Information Extraction**"
      ]
    },
    {
      "cell_type": "code",
      "execution_count": 13,
      "metadata": {
        "id": "qVPTZlV3BBV-"
      },
      "outputs": [],
      "source": [
        "import re\n",
        "import json\n",
        "\n",
        "def extract_json(input_string):\n",
        "    # Extract JSON within ``` block\n",
        "    matches = re.findall(r'```(.*?)```', input_string, re.DOTALL)\n",
        "\n",
        "    if matches:\n",
        "        # Join the matches into a single string\n",
        "        json_content = ''.join(matches)\n",
        "\n",
        "        # Remove periods\n",
        "        json_content = re.sub(r'\\.', '', json_content)\n",
        "\n",
        "        return json_content\n",
        "    else:\n",
        "        print(\"No ``` block found.\")\n",
        "        return None"
      ]
    },
    {
      "cell_type": "code",
      "execution_count": 14,
      "metadata": {
        "id": "KmHp4cxG7nDu"
      },
      "outputs": [],
      "source": [
        "import vertexai\n",
        "from vertexai.preview.generative_models import GenerativeModel, Part\n",
        "\n",
        "def execute_prompt(prompt, max_output_tokens=8192):\n",
        "  model = GenerativeModel(\"gemini-pro\")\n",
        "  responses = model.generate_content(\n",
        "    prompt,\n",
        "    generation_config={\n",
        "        \"max_output_tokens\": max_output_tokens,\n",
        "        \"temperature\": 0,\n",
        "        \"top_p\": 1\n",
        "    },\n",
        "  stream=True,\n",
        "  )\n",
        "\n",
        "  final_response = []\n",
        "\n",
        "  for response in responses:\n",
        "      final_response.append(response.candidates[0].content.parts[0].text)\n",
        "\n",
        "  return \".\".join(final_response)"
      ]
    },
    {
      "cell_type": "code",
      "execution_count": 15,
      "metadata": {
        "id": "LFMfo3cdvZjA"
      },
      "outputs": [],
      "source": [
        "def get_text_extract_prompt(title, summary):\n",
        "  prompt = f\"\"\"\n",
        "  Here is its title: {title}\n",
        "  Here is some text extracted:\n",
        "  ---------\n",
        "  {summary}\n",
        "  ---------\n",
        "\n",
        "  Web pages can have a lot of useless junk in them.\n",
        "  For example, there might be a lot of ads, or a\n",
        "  lot of navigation links, or a lot of text that\n",
        "  is not relevant to the topic of the page. We want\n",
        "  to extract only the useful information from the text.\n",
        "\n",
        "  You can use the url and title to help you understand\n",
        "  the context of the text.\n",
        "  Please extract only the useful information from the text.\n",
        "  Try not to rewrite the text, but instead extract\n",
        "  only the useful information from the text.\n",
        "  \"\"\"\n",
        "  return prompt"
      ]
    },
    {
      "cell_type": "code",
      "execution_count": 16,
      "metadata": {
        "id": "UmgZbsaUxFIw"
      },
      "outputs": [],
      "source": [
        "summarries = []"
      ]
    },
    {
      "cell_type": "code",
      "execution_count": 17,
      "metadata": {
        "id": "1794ituVGNly",
        "colab": {
          "base_uri": "https://localhost:8080/"
        },
        "outputId": "cb1ce77c-b7e4-46f0-df97-8ab0d6751043"
      },
      "outputs": [
        {
          "output_type": "stream",
          "name": "stdout",
          "text": [
            "Summary for Title: THE BEST 10 Seafood Restaurants near MOUNTAIN VIEW, CA 94043 - Last Updated December 2023 - Yelp\n",
            "\n",
            "Summary for Title: Googleplex restaurants, addresses, phone numbers, photos, real user reviews, 1600 Amphitheatre Pkwy, Mountain View, CA 94043, USA, Mountain View restaurant recommendations - Trip.com\n",
            "\n"
          ]
        }
      ],
      "source": [
        "for structured_response_item in structured_response:\n",
        "    title = structured_response_item['title']\n",
        "    summary = structured_response_item['summary']\n",
        "    if summary != \"<html><body></body></html>\":\n",
        "      print(f'Summary for Title: {title}\\n')\n",
        "      text_extract_prompt = get_text_extract_prompt(title, summary)\n",
        "      prompt_response = execute_prompt(text_extract_prompt)\n",
        "      summarries.append(prompt_response)"
      ]
    },
    {
      "cell_type": "code",
      "execution_count": 18,
      "metadata": {
        "id": "PCoJR6YW6uTG",
        "colab": {
          "base_uri": "https://localhost:8080/"
        },
        "outputId": "e52a31c1-5ec4-4a6a-86e9-1cdaa69d174d"
      },
      "outputs": [
        {
          "output_type": "execute_result",
          "data": {
            "text/plain": [
              "['1. Limón: Peruvian seafood and cocktail bar with a delicious menu featuring mouth.-watering seafood and land animal options.\\n2. Pacific Catch: Seafood,. tacos, and sushi bar with Korean-style seafood pancakes and poke.\\n3. The Sea by Alexander’s Steakhouse: Seafood, steakhouse, and. bar with fresh seafood and jumbo shrimp.\\n4. La Marea of the Sea: Seafood food stand with fresh oysters and great condiments.\\n5. Cap.’t Loui: Seafood, fish & chips, and Cajun/Creole restaurant with a large group-friendly atmosphere.\\n6. Rustic House Oyster Bar and Grill - Los Altos: Seafood, bar, and American restaurant with a grou.per special.\\n7. King’s Fish House - San Jose: Seafood restaurant with a tartare sauce that has a great balance of spicy and seafood taste.\\n8. Cook’s Seafood: Seafood, seafood market, and fish. & chips restaurant with big portions of quality seafood at a reasonable price.\\n9. The City Fish: Sandwiches, seafood, and fish & chips restaurant with big portions of quality seafood at a reasonable price.\\n10. Gochi - Mountain View: Japanese, wine bar, and seafood restaurant with fresh seafood.',\n",
              " '- Googleplex is located at 1600 Amphitheatre Pkwy,. Mountain View, CA 94043, USA.\\n- The. phone number is +1-650-253-0000.\\n- Googleplex is currently closed but will open tomorrow at .08:00.\\n- Googleplex is an architecture and landmark.\\n- Googleplex has a rating of 4.6 out of 5. based on 49 reviews.\\n- Googleplex is free to visit for tourists.\\n- There is a souvenir shop in the visitor center.\\n- The area is very green and beautiful.\\n- There are free bicycles for selection..\\n- The work area can only be entered with a work card.']"
            ]
          },
          "metadata": {},
          "execution_count": 18
        }
      ],
      "source": [
        "summarries"
      ]
    },
    {
      "cell_type": "markdown",
      "metadata": {
        "id": "zqYN9ZlGvTkp"
      },
      "source": [
        "# **Topic Extraction**"
      ]
    },
    {
      "cell_type": "code",
      "execution_count": 19,
      "metadata": {
        "id": "zS2Erv5nQ2sl"
      },
      "outputs": [],
      "source": [
        "topics = []"
      ]
    },
    {
      "cell_type": "code",
      "execution_count": 20,
      "metadata": {
        "id": "uK-FVodQpNnC"
      },
      "outputs": [],
      "source": [
        "def get_topic_extraction_prompt(content):\n",
        "    prompt = f\"\"\"Label the main topic or topics in the following text: {content}\"\"\"\n",
        "    prompt = prompt + \"\"\"1. Identify and list the primary topic or category or provide a short description of the main subject matter of the text.\n",
        "      2. If there are subtopics or secondary themes mentioned in the text, list them as well. If the text discusses multiple topics, provide a list of these topics and describe their relevance.\n",
        "      3. Consider the context and tone of the text to determine the most appropriate topics. Take into account keywords, phrases, or specific terms that relate to the topics.\n",
        "      4. If any notable entities (people, places, brands, products, etc.) are mentioned in the text that play a role in the topics, mention them and their associations.\n",
        "      5. If the text suggests any actions, decisions, or recommendations related to the identified topics, provide a brief summary of these insights.\n",
        "\n",
        "      Ensure that your labeling is clear, concise, and reflects the most significant topics or categories found in the text.\n",
        "\n",
        "      Here's the output schema:\n",
        "\n",
        "      ```\n",
        "      {\n",
        "          \"Topic\": \"\",\n",
        "          \"Subtopics\": [\"\"],\n",
        "          \"Context\": \"\",\n",
        "          \"NotableEntities\": [],\n",
        "          \"Recommendations\": \"\"\n",
        "      }\n",
        "      ```\n",
        "\n",
        "      Do not respond with your own suggestions or recommendations or feedback.\"\"\"\n",
        "    return prompt\n"
      ]
    },
    {
      "cell_type": "code",
      "execution_count": 21,
      "metadata": {
        "id": "1A9g4FrRpwS-",
        "colab": {
          "base_uri": "https://localhost:8080/"
        },
        "outputId": "1be4be97-2bb2-47e1-b6a4-632ea5d62a6e"
      },
      "outputs": [
        {
          "output_type": "stream",
          "name": "stdout",
          "text": [
            "Topics: THE BEST 10 Seafood Restaurants near MOUNTAIN VIEW, CA 94043 - Last Updated December 2023 - Yelp\n",
            "\n",
            "```\n",
            "{\n",
            "  \"Topic\": \"Seafood Restaurants\",\n",
            "  \"Sub.topics\": [\n",
            "    \"Top 10 Seafood Restaurants near Mountain View,. CA 94043\",\n",
            "    \"Related Searches in Mountain View, CA\",\n",
            "    \"Trending Searches in Mountain View, CA\",\n",
            "    .\"Related Articles\",\n",
            "    \"Frequently Asked Questions and Answers\"\n",
            "  ],\n",
            "  \"Context\": \"The text is a Yelp page that lists the top. 10 seafood restaurants near Mountain View, CA. It also includes related searches, trending searches, related articles, and frequently asked questions about seafood restaurants in the area.\",\n",
            "  \"NotableEntities\": [\n",
            "    \"Yelp\",\n",
            ".    \"Mountain View, CA\",\n",
            "    \"Limón\",\n",
            "    \"Pacific Catch\",\n",
            "    \"The Sea by Alexander's Steakhouse\",\n",
            "    \"La Marea of the Sea\",\n",
            "    \"Cap't Lou.i\",\n",
            "    \"Rustic House Oyster Bar and Grill - Los Altos\",\n",
            "    \"King's Fish House - San Jose\",\n",
            "    \"Cook's Seafood\",\n",
            "    \"The City Fish\",\n",
            "    \"Gochi - Mountain View\"\n",
            "  ],\n",
            "  \"Recommendations\": []\n",
            "}\n",
            ".```\n",
            "Topics: Googleplex restaurants, addresses, phone numbers, photos, real user reviews, 1600 Amphitheatre Pkwy, Mountain View, CA 94043, USA, Mountain View restaurant recommendations - Trip.com\n",
            "\n",
            "```\n",
            "{\n",
            "  \"Topic\": \"Googleplex\",\n",
            "  \"Sub.topics\": [\n",
            "    \"Reviews of Googleplex\",\n",
            "    \"Attractions Near. Googleplex\",\n",
            "    \"Restaurants Near Googleplex\",\n",
            "    \"Hotels Near Googleplex\"\n",
            "  ],\n",
            "  \"Context\": \"The text provides information. about Googleplex, a technology and internet company headquartered in Mountain View, California. It includes reviews from visitors, nearby attractions, restaurants, and hotels.\",\n",
            "  .\"NotableEntities\": [\n",
            "    \"Googleplex\",\n",
            "    \"Silicon Valley\",\n",
            "    \"Apple Infinite Loop\",\n",
            "    \"Stanford University\",\n",
            "    \"Chez TJ\",\n",
            "    \"Pacific Catch\",\n",
            "    \"Cucina Venti. Restaurant\",\n",
            "    \"Cascal\",\n",
            "    \"Crowne Plaza Cabana Hotel\",\n",
            "    \"Homewood Suites by Hilton Palo Alto\",\n",
            "    \"Shashi Hotel Mountain View\",\n",
            "    \"Hilton Garden Inn Palo Alto\"\n",
            ".  ],\n",
            "  \"Recommendations\": []\n",
            "}\n",
            "```\n"
          ]
        }
      ],
      "source": [
        "for structured_response_item in structured_response:\n",
        "  title = structured_response_item['title']\n",
        "  summary = structured_response_item['summary']\n",
        "  if summary != \"<html><body></body></html>\":\n",
        "    print(f'Topics: {title}\\n')\n",
        "    prompt = get_topic_extraction_prompt(summary)\n",
        "    response = execute_prompt(prompt)\n",
        "    print(response)\n",
        "    extracted_json = extract_json(response)\n",
        "    if extracted_json != None:\n",
        "      topics.append(extracted_json)"
      ]
    },
    {
      "cell_type": "code",
      "source": [
        "topics"
      ],
      "metadata": {
        "colab": {
          "base_uri": "https://localhost:8080/"
        },
        "id": "w8K9BogmsmJe",
        "outputId": "ea4d40b1-cbe7-4315-e614-3011f22e9c43"
      },
      "execution_count": 22,
      "outputs": [
        {
          "output_type": "execute_result",
          "data": {
            "text/plain": [
              "['\\n{\\n  \"Topic\": \"Seafood Restaurants\",\\n  \"Subtopics\": [\\n    \"Top 10 Seafood Restaurants near Mountain View, CA 94043\",\\n    \"Related Searches in Mountain View, CA\",\\n    \"Trending Searches in Mountain View, CA\",\\n    \"Related Articles\",\\n    \"Frequently Asked Questions and Answers\"\\n  ],\\n  \"Context\": \"The text is a Yelp page that lists the top 10 seafood restaurants near Mountain View, CA It also includes related searches, trending searches, related articles, and frequently asked questions about seafood restaurants in the area\",\\n  \"NotableEntities\": [\\n    \"Yelp\",\\n    \"Mountain View, CA\",\\n    \"Limón\",\\n    \"Pacific Catch\",\\n    \"The Sea by Alexander\\'s Steakhouse\",\\n    \"La Marea of the Sea\",\\n    \"Cap\\'t Loui\",\\n    \"Rustic House Oyster Bar and Grill - Los Altos\",\\n    \"King\\'s Fish House - San Jose\",\\n    \"Cook\\'s Seafood\",\\n    \"The City Fish\",\\n    \"Gochi - Mountain View\"\\n  ],\\n  \"Recommendations\": []\\n}\\n',\n",
              " '\\n{\\n  \"Topic\": \"Googleplex\",\\n  \"Subtopics\": [\\n    \"Reviews of Googleplex\",\\n    \"Attractions Near Googleplex\",\\n    \"Restaurants Near Googleplex\",\\n    \"Hotels Near Googleplex\"\\n  ],\\n  \"Context\": \"The text provides information about Googleplex, a technology and internet company headquartered in Mountain View, California It includes reviews from visitors, nearby attractions, restaurants, and hotels\",\\n  \"NotableEntities\": [\\n    \"Googleplex\",\\n    \"Silicon Valley\",\\n    \"Apple Infinite Loop\",\\n    \"Stanford University\",\\n    \"Chez TJ\",\\n    \"Pacific Catch\",\\n    \"Cucina Venti Restaurant\",\\n    \"Cascal\",\\n    \"Crowne Plaza Cabana Hotel\",\\n    \"Homewood Suites by Hilton Palo Alto\",\\n    \"Shashi Hotel Mountain View\",\\n    \"Hilton Garden Inn Palo Alto\"\\n  ],\\n  \"Recommendations\": []\\n}\\n']"
            ]
          },
          "metadata": {},
          "execution_count": 22
        }
      ]
    },
    {
      "cell_type": "markdown",
      "metadata": {
        "id": "7i0XF8fwvdWR"
      },
      "source": [
        "# **Keyword Extraction**"
      ]
    },
    {
      "cell_type": "code",
      "execution_count": 23,
      "metadata": {
        "id": "IxLBAv5BQspP"
      },
      "outputs": [],
      "source": [
        "keywords = []"
      ]
    },
    {
      "cell_type": "code",
      "execution_count": 24,
      "metadata": {
        "id": "Y17TSS6Mvgcy"
      },
      "outputs": [],
      "source": [
        "def get_keyword_extraction_prompt(content):\n",
        "    prompt = f\"\"\"Extract key keywords or phrases from the following text: {content}\"\"\"\n",
        "    prompt = prompt + \"\"\"1. Identify and list the most important keywords or key phrases in the text. These keywords should capture the main topics, concepts, or subjects discussed in the text.\n",
        "      2. If there are subtopics or secondary themes mentioned in the text, list them as well. Ensure that the extracted keywords accurately represent the content's context.\n",
        "      3. Include the exact text span or sentence where each keyword or phrase is found in the original text.\n",
        "      4. If there are any ambiguous keywords or phrases, indicate the uncertainty and provide possible interpretations or context that might clarify the intended meaning.\n",
        "      5. Consider the context, relevance, and frequency of the keywords when determining their significance.\n",
        "      6. If the text suggests any actions, decisions, or recommendations related to the extracted keywords, provide a brief summary of these insights.\n",
        "\n",
        "      Ensure that your keyword extraction results are relevant, concise, and capture the essential topics within the text.\n",
        "\n",
        "      Here's the output schema:\n",
        "\n",
        "      ```\n",
        "      {\n",
        "          \"KeywordExtraction\": [\n",
        "              {\n",
        "                  \"Keyword\": \"\",\n",
        "                  \"Context\": \"\",\n",
        "                  \"TextSpan\": \"\"\n",
        "              }\n",
        "          ]\n",
        "      }\n",
        "      ```\n",
        "\n",
        "      Do not respond with your own suggestions or recommendations or feedback.\n",
        "    \"\"\"\n",
        "    return prompt\n"
      ]
    },
    {
      "cell_type": "code",
      "execution_count": 25,
      "metadata": {
        "id": "8khaA1cqOCM9",
        "colab": {
          "base_uri": "https://localhost:8080/"
        },
        "outputId": "4d97cc77-27b5-40d7-ab9b-dca995a4909c"
      },
      "outputs": [
        {
          "output_type": "execute_result",
          "data": {
            "text/plain": [
              "['1. Limón: Peruvian seafood and cocktail bar with a delicious menu featuring mouth.-watering seafood and land animal options.\\n2. Pacific Catch: Seafood,. tacos, and sushi bar with Korean-style seafood pancakes and poke.\\n3. The Sea by Alexander’s Steakhouse: Seafood, steakhouse, and. bar with fresh seafood and jumbo shrimp.\\n4. La Marea of the Sea: Seafood food stand with fresh oysters and great condiments.\\n5. Cap.’t Loui: Seafood, fish & chips, and Cajun/Creole restaurant with a large group-friendly atmosphere.\\n6. Rustic House Oyster Bar and Grill - Los Altos: Seafood, bar, and American restaurant with a grou.per special.\\n7. King’s Fish House - San Jose: Seafood restaurant with a tartare sauce that has a great balance of spicy and seafood taste.\\n8. Cook’s Seafood: Seafood, seafood market, and fish. & chips restaurant with big portions of quality seafood at a reasonable price.\\n9. The City Fish: Sandwiches, seafood, and fish & chips restaurant with big portions of quality seafood at a reasonable price.\\n10. Gochi - Mountain View: Japanese, wine bar, and seafood restaurant with fresh seafood.',\n",
              " '- Googleplex is located at 1600 Amphitheatre Pkwy,. Mountain View, CA 94043, USA.\\n- The. phone number is +1-650-253-0000.\\n- Googleplex is currently closed but will open tomorrow at .08:00.\\n- Googleplex is an architecture and landmark.\\n- Googleplex has a rating of 4.6 out of 5. based on 49 reviews.\\n- Googleplex is free to visit for tourists.\\n- There is a souvenir shop in the visitor center.\\n- The area is very green and beautiful.\\n- There are free bicycles for selection..\\n- The work area can only be entered with a work card.']"
            ]
          },
          "metadata": {},
          "execution_count": 25
        }
      ],
      "source": [
        "summarries"
      ]
    },
    {
      "cell_type": "code",
      "execution_count": 26,
      "metadata": {
        "id": "mV14f56mvzVE"
      },
      "outputs": [],
      "source": [
        "for summary in summarries:\n",
        "  if summary != \"\":\n",
        "    prompt = get_keyword_extraction_prompt(summary)\n",
        "    response = execute_prompt(prompt)\n",
        "    extracted_json = extract_json(response)\n",
        "    if extracted_json != None:\n",
        "      keywords.append(extracted_json)"
      ]
    },
    {
      "cell_type": "code",
      "execution_count": 27,
      "metadata": {
        "colab": {
          "base_uri": "https://localhost:8080/"
        },
        "id": "y1O08jhvJv34",
        "outputId": "8796078e-fae9-4b7a-ac79-7349cb99ad8b"
      },
      "outputs": [
        {
          "output_type": "execute_result",
          "data": {
            "text/plain": [
              "['\\n{\\n  \"KeywordExtraction\": [\\n    {\\n      \"Keyword\": \"Limón\",\\n      \"Context\": \"Limón: Peruvian seafood and cocktail bar with a delicious menu featuring mouth-watering seafood and land animal options\",\\n      \"TextSpan\": \"Limón\"\\n    },\\n    {\\n      \"Keyword\": \"Seafood\",\\n      \"Context\": \"Limón: Peruvian seafood and cocktail bar with a delicious menu featuring mouth-watering seafood and land animal options\",\\n      \"TextSpan\": \"seafood\"\\n    },\\n    {\\n      \"Keyword\": \"Cocktail bar\",\\n      \"Context\": \"Limón: Peruvian seafood and cocktail bar with a delicious menu featuring mouth-watering seafood and land animal options\",\\n      \"TextSpan\": \"cocktail bar\"\\n    },\\n    {\\n      \"Keyword\": \"Pacific Catch\",\\n      \"Context\": \"Pacific Catch: Seafood, tacos, and sushi bar with Korean-style seafood pancakes and poke\",\\n      \"TextSpan\": \"Pacific Catch\"\\n    },\\n    {\\n      \"Keyword\": \"Seafood tacos\",\\n      \"Context\": \"Pacific Catch: Seafood, tacos, and sushi bar with Korean-style seafood pancakes and poke\",\\n      \"TextSpan\": \"Seafood, tacos\"\\n    },\\n    {\\n      \"Keyword\": \"Sushi bar\",\\n      \"Context\": \"Pacific Catch: Seafood, tacos, and sushi bar with Korean-style seafood pancakes and poke\",\\n      \"TextSpan\": \"sushi bar\"\\n    },\\n    {\\n      \"Keyword\": \"Korean-style seafood pancakes\",\\n      \"Context\": \"Pacific Catch: Seafood, tacos, and sushi bar with Korean-style seafood pancakes and poke\",\\n      \"TextSpan\": \"Korean-style seafood pancakes\"\\n    },\\n    {\\n      \"Keyword\": \"Poke\",\\n      \"Context\": \"Pacific Catch: Seafood, tacos, and sushi bar with Korean-style seafood pancakes and poke\",\\n      \"TextSpan\": \"poke\"\\n    },\\n    {\\n      \"Keyword\": \"The Sea by Alexander’s Steakhouse\",\\n      \"Context\": \"The Sea by Alexander’s Steakhouse: Seafood, steakhouse, and bar with fresh seafood and jumbo shrimp\",\\n      \"TextSpan\": \"The Sea by Alexander’s Steakhouse\"\\n    },\\n    {\\n      \"Keyword\": \"Steakhouse\",\\n      \"Context\": \"The Sea by Alexander’s Steakhouse: Seafood, steakhouse, and bar with fresh seafood and jumbo shrimp\",\\n      \"TextSpan\": \"steakhouse\"\\n    },\\n    {\\n      \"Keyword\": \"Fresh seafood\",\\n      \"Context\": \"The Sea by Alexander’s Steakhouse: Seafood, steakhouse, and bar with fresh seafood and jumbo shrimp\",\\n      \"TextSpan\": \"fresh seafood\"\\n    },\\n    {\\n      \"Keyword\": \"Jumbo shrimp\",\\n      \"Context\": \"The Sea by Alexander’s Steakhouse: Seafood, steakhouse, and bar with fresh seafood and jumbo shrimp\",\\n      \"TextSpan\": \"jumbo shrimp\"\\n    },\\n    {\\n      \"Keyword\": \"La Marea of the Sea\",\\n      \"Context\": \"La Marea of the Sea: Seafood food stand with fresh oysters and great condiments\",\\n      \"TextSpan\": \"La Marea of the Sea\"\\n    },\\n    {\\n      \"Keyword\": \"Seafood food stand\",\\n      \"Context\": \"La Marea of the Sea: Seafood food stand with fresh oysters and great condiments\",\\n      \"TextSpan\": \"Seafood food stand\"\\n    },\\n    {\\n      \"Keyword\": \"Fresh oysters\",\\n      \"Context\": \"La Marea of the Sea: Seafood food stand with fresh oysters and great condiments\",\\n      \"TextSpan\": \"fresh oysters\"\\n    },\\n    {\\n      \"Keyword\": \"Great condiments\",\\n      \"Context\": \"La Marea of the Sea: Seafood food stand with fresh oysters and great condiments\",\\n      \"TextSpan\": \"great condiments\"\\n    },\\n    {\\n      \"Keyword\": \"Cap’t Loui\",\\n      \"Context\": \"Cap’t Loui: Seafood, fish & chips, and Cajun/Creole restaurant with a large group-friendly atmosphere\",\\n      \"TextSpan\": \"Cap’t Loui\"\\n    },\\n    {\\n      \"Keyword\": \"Fish & chips\",\\n      \"Context\": \"Cap’t Loui: Seafood, fish & chips, and Cajun/Creole restaurant with a large group-friendly atmosphere\",\\n      \"TextSpan\": \"fish & chips\"\\n    },\\n    {\\n      \"Keyword\": \"Cajun/Creole\",\\n      \"Context\": \"Cap’t Loui: Seafood, fish & chips, and Cajun/Creole restaurant with a large group-friendly atmosphere\",\\n      \"TextSpan\": \"Cajun/Creole\"\\n    },\\n    {\\n      \"Keyword\": \"Large group-friendly atmosphere\",\\n      \"Context\": \"Cap’t Loui: Seafood, fish & chips, and Cajun/Creole restaurant with a large group-friendly atmosphere\",\\n      \"TextSpan\": \"large group-friendly atmosphere\"\\n    },\\n    {\\n      \"Keyword\": \"Rustic House Oyster Bar and Grill - Los Altos\",\\n      \"Context\": \"Rustic House Oyster Bar and Grill - Los Altos: Seafood, bar, and American restaurant with a grouper special\",\\n      \"TextSpan\": \"Rustic House Oyster Bar and Grill - Los Altos\"\\n    },\\n    {\\n      \"Keyword\": \"American restaurant\",\\n      \"Context\": \"Rustic House Oyster Bar and Grill - Los Altos: Seafood, bar, and American restaurant with a grouper special\",\\n      \"TextSpan\": \"American restaurant\"\\n    },\\n    {\\n      \"Keyword\": \"Grouper special\",\\n      \"Context\": \"Rustic House Oyster Bar and Grill - Los Altos: Seafood, bar, and American restaurant with a grouper special\",\\n      \"TextSpan\": \"grouper special\"\\n    },\\n    {\\n      \"Keyword\": \"King’s Fish House - San Jose\",\\n      \"Context\": \"King’s Fish House - San Jose: Seafood restaurant with a tartare sauce that has a great balance of spicy and seafood taste\",\\n      \"TextSpan\": \"King’s Fish House - San Jose\"\\n    },\\n    {\\n      \"Keyword\": \"Tartare sauce\",\\n      \"Context\": \"King’s Fish House - San Jose: Seafood restaurant with a tartare sauce that has a great balance of spicy and seafood taste\",\\n      \"TextSpan\": \"tartare sauce\"\\n    },\\n    {\\n      \"Keyword\": \"Spicy and seafood taste\",\\n      \"Context\": \"King’s Fish House - San Jose: Seafood restaurant with a tartare sauce that has a great balance of spicy and seafood taste\",\\n      \"TextSpan\": \"spicy and seafood taste\"\\n    },\\n    {\\n      \"Keyword\": \"Cook’s Seafood\",\\n      \"Context\": \"Cook’s Seafood: Seafood, seafood market, and fish & chips restaurant with big portions of quality seafood at a reasonable price\",\\n      \"TextSpan\": \"Cook’s Seafood\"\\n    },\\n    {\\n      \"Keyword\": \"Seafood market\",\\n      \"Context\": \"Cook’s Seafood: Seafood, seafood market, and fish & chips restaurant with big portions of quality seafood at a reasonable price\",\\n      \"TextSpan\": \"seafood market\"\\n    },\\n    {\\n      \"Keyword\": \"Big portions of quality seafood\",\\n      \"Context\": \"Cook’s Seafood: Seafood, seafood market, and fish & chips restaurant with big portions of quality seafood at a reasonable price\",\\n      \"TextSpan\": \"big portions of quality seafood\"\\n    },\\n    {\\n      \"Keyword\": \"Reasonable price\",\\n      \"Context\": \"Cook’s Seafood: Seafood, seafood market, and fish & chips restaurant with big portions of quality seafood at a reasonable price\",\\n      \"TextSpan\": \"reasonable price\"\\n    },\\n    {\\n      \"Keyword\": \"The City Fish\",\\n      \"Context\": \"The City Fish: Sandwiches, seafood, and fish & chips restaurant with big portions of quality seafood at a reasonable price\",\\n      \"TextSpan\": \"The City Fish\"\\n    },\\n    {\\n      \"Keyword\": \"Sandwiches\",\\n      \"Context\": \"The City Fish: Sandwiches, seafood, and fish & chips restaurant with big portions of quality seafood at a reasonable price\",\\n      \"TextSpan\": \"Sandwiches\"\\n    },\\n    {\\n      \"Keyword\": \"Gochi - Mountain View\",\\n      \"Context\": \"Gochi - Mountain View: Japanese, wine bar, and seafood restaurant with fresh seafood\",\\n      \"TextSpan\": \"Gochi - Mountain View\"\\n    },\\n    {\\n      \"Keyword\": \"Japanese\",\\n      \"Context\": \"Gochi - Mountain View: Japanese, wine bar, and seafood restaurant with fresh seafood\",\\n      \"TextSpan\": \"Japanese\"\\n    },\\n    {\\n      \"Keyword\": \"Wine bar\",\\n      \"Context\": \"Gochi - Mountain View: Japanese, wine bar, and seafood restaurant with fresh seafood\",\\n      \"TextSpan\": \"wine bar\"\\n    }\\n  ]\\n}\\n',\n",
              " '\\n{\\n  \"KeywordExtraction\": [\\n    {\\n      \"Keyword\": \"Googleplex\",\\n      \"Context\": \"Googleplex is located at 1600 Amphitheatre Pkwy, Mountain View, CA 94043, USA\",\\n      \"TextSpan\": \"Googleplex is located at 1600 Amphitheatre Pkwy, Mountain View, CA 94043, USA\"\\n    },\\n    {\\n      \"Keyword\": \"1600 Amphitheatre Pkwy\",\\n      \"Context\": \"Googleplex is located at 1600 Amphitheatre Pkwy, Mountain View, CA 94043, USA\",\\n      \"TextSpan\": \"Googleplex is located at 1600 Amphitheatre Pkwy, Mountain View, CA 94043, USA\"\\n    },\\n    {\\n      \"Keyword\": \"Mountain View\",\\n      \"Context\": \"Googleplex is located at 1600 Amphitheatre Pkwy, Mountain View, CA 94043, USA\",\\n      \"TextSpan\": \"Googleplex is located at 1600 Amphitheatre Pkwy, Mountain View, CA 94043, USA\"\\n    },\\n    {\\n      \"Keyword\": \"CA 94043\",\\n      \"Context\": \"Googleplex is located at 1600 Amphitheatre Pkwy, Mountain View, CA 94043, USA\",\\n      \"TextSpan\": \"Googleplex is located at 1600 Amphitheatre Pkwy, Mountain View, CA 94043, USA\"\\n    },\\n    {\\n      \"Keyword\": \"USA\",\\n      \"Context\": \"Googleplex is located at 1600 Amphitheatre Pkwy, Mountain View, CA 94043, USA\",\\n      \"TextSpan\": \"Googleplex is located at 1600 Amphitheatre Pkwy, Mountain View, CA 94043, USA\"\\n    },\\n    {\\n      \"Keyword\": \"+1-650-253-0000\",\\n      \"Context\": \"The phone number is +1-650-253-0000\",\\n      \"TextSpan\": \"The phone number is +1-650-253-0000\"\\n    },\\n    {\\n      \"Keyword\": \"08:00\",\\n      \"Context\": \"Googleplex is currently closed but will open tomorrow at 08:00\",\\n      \"TextSpan\": \"Googleplex is currently closed but will open tomorrow at 08:00\"\\n    },\\n    {\\n      \"Keyword\": \"architecture\",\\n      \"Context\": \"Googleplex is an architecture and landmark\",\\n      \"TextSpan\": \"Googleplex is an architecture and landmark\"\\n    },\\n    {\\n      \"Keyword\": \"landmark\",\\n      \"Context\": \"Googleplex is an architecture and landmark\",\\n      \"TextSpan\": \"Googleplex is an architecture and landmark\"\\n    },\\n    {\\n      \"Keyword\": \"46 out of 5\",\\n      \"Context\": \"Googleplex has a rating of 46 out of 5 based on 49 reviews\",\\n      \"TextSpan\": \"Googleplex has a rating of 46 out of 5 based on 49 reviews\"\\n    },\\n    {\\n      \"Keyword\": \"free to visit\",\\n      \"Context\": \"Googleplex is free to visit for tourists\",\\n      \"TextSpan\": \"Googleplex is free to visit for tourists\"\\n    },\\n    {\\n      \"Keyword\": \"souvenir shop\",\\n      \"Context\": \"There is a souvenir shop in the visitor center\",\\n      \"TextSpan\": \"There is a souvenir shop in the visitor center\"\\n    },\\n    {\\n      \"Keyword\": \"visitor center\",\\n      \"Context\": \"There is a souvenir shop in the visitor center\",\\n      \"TextSpan\": \"There is a souvenir shop in the visitor center\"\\n    },\\n    {\\n      \"Keyword\": \"green and beautiful\",\\n      \"Context\": \"The area is very green and beautiful\",\\n      \"TextSpan\": \"The area is very green and beautiful\"\\n    },\\n    {\\n      \"Keyword\": \"free bicycles\",\\n      \"Context\": \"There are free bicycles for selection\",\\n      \"TextSpan\": \"There are free bicycles for selection\"\\n    },\\n    {\\n      \"Keyword\": \"work area\",\\n      \"Context\": \"The work area can only be entered with a work card1\",\\n      \"TextSpan\": \"The work area can only be entered with a work card1\"\\n    },\\n    {\\n      \"Keyword\": \"work card\",\\n      \"Context\": \"The work area can only be entered with a work card1\",\\n      \"TextSpan\": \"The work area can only be entered with a work card1\"\\n    }\\n  ]\\n}\\n']"
            ]
          },
          "metadata": {},
          "execution_count": 27
        }
      ],
      "source": [
        "keywords"
      ]
    },
    {
      "cell_type": "markdown",
      "metadata": {
        "id": "atjfWPUqA43p"
      },
      "source": [
        "# **Automated Tagger**"
      ]
    },
    {
      "cell_type": "code",
      "execution_count": 28,
      "metadata": {
        "id": "vFlNq9GXml8f"
      },
      "outputs": [],
      "source": [
        "taggers = []"
      ]
    },
    {
      "cell_type": "code",
      "execution_count": 29,
      "metadata": {
        "id": "ge1K_GFLA8YZ"
      },
      "outputs": [],
      "source": [
        "def get_automated_tagger_extraction_prompt(content):\n",
        "    prompt = f\"\"\"Automate the tagging of the following unstructured data: {content}\"\"\"\n",
        "    prompt = prompt + \"\"\"1. Identify and extract the most relevant tags, keywords, or categories for the given data. These tags should succinctly represent the content's main themes, subjects, or topics.\n",
        "        2. List the extracted tags, and provide a brief description or rationale for each tag to help users understand their significance.\n",
        "        3. If there are subcategories or hierarchies in the tags, ensure that they are appropriately nested or organized.\n",
        "        4. Consider the context, content, and domain-specific knowledge when selecting tags. Ensure that the tags accurately reflect the essence of the data.\n",
        "        5. If any tags are ambiguous or could have multiple interpretations, address these challenges and provide explanations for the chosen tags.\n",
        "        6. If there are specific tasks or analyses where the tagged data will be used, describe these use cases and how the tags are expected to be applied.\n",
        "        7. If the data contains temporal or dynamic elements, mention any trends, changes, or time-sensitive aspects that might impact the tags.\n",
        "\n",
        "        Ensure that your automated tagging results are clear, relevant, and make the data more accessible and useful.\n",
        "\n",
        "        Here's the output schema:\n",
        "\n",
        "        ```\n",
        "        {\n",
        "            \"AutomatedTagging\": {\n",
        "                \"Tags\": [\n",
        "                    {\n",
        "                        \"Tag\": \"\",\n",
        "                        \"Sentences\": []\n",
        "                    }\n",
        "                ]\n",
        "            }\n",
        "        }\n",
        "        ```\n",
        "\n",
        "        Do not respond with your own suggestions or recommendations or feedback.\n",
        "    \"\"\"\n",
        "    return prompt\n"
      ]
    },
    {
      "cell_type": "code",
      "execution_count": 30,
      "metadata": {
        "id": "TIJyR7HsBVHi"
      },
      "outputs": [],
      "source": [
        "for summary in summarries:\n",
        "  if summary != \"\":\n",
        "    prompt = get_automated_tagger_extraction_prompt(summary)\n",
        "    response = execute_prompt(prompt)\n",
        "    extracted_json = extract_json(response)\n",
        "    if extracted_json != None:\n",
        "      taggers.append(extracted_json)"
      ]
    },
    {
      "cell_type": "code",
      "execution_count": 31,
      "metadata": {
        "id": "K19dVjrqmqDy",
        "colab": {
          "base_uri": "https://localhost:8080/"
        },
        "outputId": "aab6a52b-f591-4d72-9263-3dcf2e9377b5"
      },
      "outputs": [
        {
          "output_type": "execute_result",
          "data": {
            "text/plain": [
              "['\\n{\\n    \"AutomatedTagging\": {\\n        \"Tags\": [\\n            {\\n                \"Tag\": \"Seafood\",\\n                \"Sentences\": [\\n                    \"Limón: Peruvian seafood and cocktail bar with a delicious menu featuring mouth-watering seafood and land animal options\",\\n                    \"Pacific Catch: Seafood, tacos, and sushi bar with Korean-style seafood pancakes and poke\",\\n                    \"The Sea by Alexander’s Steakhouse: Seafood, steakhouse, and bar with fresh seafood and jumbo shrimp\",\\n                    \"La Marea of the Sea: Seafood food stand with fresh oysters and great condiments\",\\n                    \"Cap’t Loui: Seafood, fish & chips, and Cajun/Creole restaurant with a large group-friendly atmosphere\",\\n                    \"Rustic House Oyster Bar and Grill - Los Altos: Seafood, bar, and American restaurant with a grouper special\",\\n                    \"King’s Fish House - San Jose: Seafood restaurant with a tartare sauce that has a great balance of spicy and seafood taste\",\\n                    \"Cook’s Seafood: Seafood, seafood market, and fish & chips restaurant with big portions of quality seafood at a reasonable price\",\\n                    \"The City Fish: Sandwiches, seafood, and fish & chips restaurant with big portions of quality seafood at a reasonable price\",\\n                    \"Gochi - Mountain View: Japanese, wine bar, and seafood restaurant with fresh seafood\"\\n                ]\\n            },\\n            {\\n                \"Tag\": \"Restaurant\",\\n                \"Sentences\": [\\n                    \"Limón: Peruvian seafood and cocktail bar with a delicious menu featuring mouth-watering seafood and land animal options\",\\n                    \"Pacific Catch: Seafood, tacos, and sushi bar with Korean-style seafood pancakes and poke\",\\n                    \"The Sea by Alexander’s Steakhouse: Seafood, steakhouse, and bar with fresh seafood and jumbo shrimp\",\\n                    \"Cap’t Loui: Seafood, fish & chips, and Cajun/Creole restaurant with a large group-friendly atmosphere\",\\n                    \"Rustic House Oyster Bar and Grill - Los Altos: Seafood, bar, and American restaurant with a grouper special\",\\n                    \"King’s Fish House - San Jose: Seafood restaurant with a tartare sauce that has a great balance of spicy and seafood taste\",\\n                    \"Cook’s Seafood: Seafood, seafood market, and fish & chips restaurant with big portions of quality seafood at a reasonable price\",\\n                    \"The City Fish: Sandwiches, seafood, and fish & chips restaurant with big portions of quality seafood at a reasonable price\",\\n                    \"Gochi - Mountain View: Japanese, wine bar, and seafood restaurant with fresh seafood\"\\n                ]\\n            },\\n            {\\n                \"Tag\": \"Bar\",\\n                \"Sentences\": [\\n                    \"Limón: Peruvian seafood and cocktail bar with a delicious menu featuring mouth-watering seafood and land animal options\",\\n                    \"The Sea by Alexander’s Steakhouse: Seafood, steakhouse, and bar with fresh seafood and jumbo shrimp\",\\n                    \"Rustic House Oyster Bar and Grill - Los Altos: Seafood, bar, and American restaurant with a grouper special\"\\n                ]\\n            },\\n            {\\n                \"Tag\": \"Japanese\",\\n                \"Sentences\": [\\n                    \"Gochi - Mountain View: Japanese, wine bar, and seafood restaurant with fresh seafood\"\\n                ]\\n            },\\n            {\\n                \"Tag\": \"Wine Bar\",\\n                \"Sentences\": [\\n                    \"Gochi - Mountain View: Japanese, wine bar, and seafood restaurant with fresh seafood\"\\n                ]\\n            },\\n            {\\n                \"Tag\": \"Steakhouse\",\\n                \"Sentences\": [\\n                    \"The Sea by Alexander’s Steakhouse: Seafood, steakhouse, and bar with fresh seafood and jumbo shrimp\"\\n                ]\\n            },\\n            {\\n                \"Tag\": \"American\",\\n                \"Sentences\": [\\n                    \"Rustic House Oyster Bar and Grill - Los Altos: Seafood, bar, and American restaurant with a grouper special\"\\n                ]\\n            },\\n            {\\n                \"Tag\": \"Cajun/Creole\",\\n                \"Sentences\": [\\n                    \"Cap’t Loui: Seafood, fish & chips, and Cajun/Creole restaurant with a large group-friendly atmosphere\"\\n                ]\\n            },\\n            {\\n                \"Tag\": \"Fish & Chips\",\\n                \"Sentences\": [\\n                    \"Cap’t Loui: Seafood, fish & chips, and Cajun/Creole restaurant with a large group-friendly atmosphere\",\\n                    \"Cook’s Seafood: Seafood, seafood market, and fish & chips restaurant with big portions of quality seafood at a reasonable price\",\\n                    \"The City Fish: Sandwiches, seafood, and fish & chips restaurant with big portions of quality seafood at a reasonable price\"\\n                ]\\n            },\\n            {\\n                \"Tag\": \"Seafood Market\",\\n                \"Sentences\": [\\n                    \"Cook’s Seafood: Seafood, seafood market, and fish & chips restaurant with big portions of quality seafood at a reasonable price\"\\n                ]\\n            },\\n            {\\n                \"Tag\": \"Sandwiches\",\\n                \"Sentences\": [\\n                    \"The City Fish: Sandwiches, seafood, and fish & chips restaurant with big portions of quality seafood at a reasonable price\"\\n                ]\\n            }\\n        ]\\n    }\\n}\\n',\n",
              " '\\n{\\n    \"AutomatedTagging\": {\\n        \"Tags\": [\\n            {\\n                \"Tag\": \"Location\",\\n                \"Sentences\": [\\n                    \"Googleplex is located at 1600 Amphitheatre Pkwy, Mountain View, CA 94043, USA\"\\n                ]\\n            },\\n            {\\n                \"Tag\": \"Contact Information\",\\n                \"Sentences\": [\\n                    \"The phone number is +1-650-253-0000\"\\n                ]\\n            },\\n            {\\n                \"Tag\": \"Hours of Operation\",\\n                \"Sentences\": [\\n                    \"Googleplex is currently closed but will open tomorrow at 08:00\"\\n                ]\\n            },\\n            {\\n                \"Tag\": \"Category\",\\n                \"Sentences\": [\\n                    \"Googleplex is an architecture and landmark\"\\n                ]\\n            },\\n            {\\n                \"Tag\": \"Rating\",\\n                \"Sentences\": [\\n                    \"Googleplex has a rating of 46 out of 5 based on 49 reviews\"\\n                ]\\n            },\\n            {\\n                \"Tag\": \"Admission\",\\n                \"Sentences\": [\\n                    \"Googleplex is free to visit for tourists\"\\n                ]\\n            },\\n            {\\n                \"Tag\": \"Amenities\",\\n                \"Sentences\": [\\n                    \"There is a souvenir shop in the visitor center\",\\n                    \"The area is very green and beautiful\",\\n                    \"There are free bicycles for selection\"\\n                ]\\n            },\\n            {\\n                \"Tag\": \"Security\",\\n                \"Sentences\": [\\n                    \"The work area can only be entered with a work card\"\\n                ]\\n            }\\n        ]\\n    }\\n}\\n']"
            ]
          },
          "metadata": {},
          "execution_count": 31
        }
      ],
      "source": [
        "taggers"
      ]
    },
    {
      "cell_type": "markdown",
      "source": [
        "# **Intent Extraction**"
      ],
      "metadata": {
        "id": "smWeD8A5TnfQ"
      }
    },
    {
      "cell_type": "code",
      "source": [
        "import vertexai\n",
        "from vertexai.preview.generative_models import GenerativeModel, Part\n",
        "\n",
        "def get_intent_extraction_prompt(content):\n",
        "  schema = \"\"\"\n",
        "  ```\"intents\":[\n",
        "    \"intent\": \"\",\n",
        "    \"statement\": \"\"\n",
        "  ]```\n",
        "  \"\"\"\n",
        "  prompt = f\"\"\"You are an expert intent detector. Your job is to detect and list down all the intents within the below content. Output the same in the specified JSON schema format.\n",
        "    Here's the content:\n",
        "    ---\n",
        "    {content}\n",
        "    ---\n",
        "    Here's the schema:\n",
        "    {schema}\n",
        "    Do not respond with your own suggestions or recommendations or feedback.\n",
        " \"\"\"\n",
        "  return prompt"
      ],
      "metadata": {
        "id": "EcCNKdYbTxCV"
      },
      "execution_count": 32,
      "outputs": []
    },
    {
      "cell_type": "code",
      "source": [
        "intents = []"
      ],
      "metadata": {
        "id": "wCzkoaSbUfJ0"
      },
      "execution_count": 33,
      "outputs": []
    },
    {
      "cell_type": "code",
      "source": [
        "instruct_prompt = f\"get me the summary for the following content\"\n",
        "prompt = get_intent_extraction_prompt(instruct_prompt)\n",
        "response = execute_prompt(prompt)\n",
        "extracted_json = extract_json(response)\n",
        "if extracted_json != None:\n",
        "  intents.append(extracted_json)"
      ],
      "metadata": {
        "id": "ZwqdvBjeUD1S"
      },
      "execution_count": 34,
      "outputs": []
    },
    {
      "cell_type": "code",
      "source": [
        "intents"
      ],
      "metadata": {
        "colab": {
          "base_uri": "https://localhost:8080/"
        },
        "id": "I7pyOA3hVDbd",
        "outputId": "a37b0f33-ced4-420f-8b47-3a648198fc14"
      },
      "execution_count": 35,
      "outputs": [
        {
          "output_type": "execute_result",
          "data": {
            "text/plain": [
              "['\\n{\\n  \"intents\": [\\n    {\\n      \"intent\": \"GetSummary\",\\n      \"statement\": \"get me the summary for the following content\"\\n    }\\n  ]\\n}\\n']"
            ]
          },
          "metadata": {},
          "execution_count": 35
        }
      ]
    }
  ],
  "metadata": {
    "colab": {
      "collapsed_sections": [
        "ErAPHHjO-deZ",
        "-x7PO4Cx-kta",
        "9aaL2-Jrf0NU",
        "qVkcH8ldmVM-",
        "cxqOBl9GmxND",
        "zqYN9ZlGvTkp",
        "7i0XF8fwvdWR",
        "atjfWPUqA43p",
        "smWeD8A5TnfQ",
        "oAfCdBR2oUBl",
        "CsWFU1NjsNOV"
      ],
      "provenance": [],
      "toc_visible": true
    },
    "kernelspec": {
      "display_name": "Python 3",
      "name": "python3"
    },
    "language_info": {
      "name": "python"
    }
  },
  "nbformat": 4,
  "nbformat_minor": 0
}